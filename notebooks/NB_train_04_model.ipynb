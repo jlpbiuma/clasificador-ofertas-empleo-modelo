{
 "cells": [
  {
   "cell_type": "markdown",
   "metadata": {},
   "source": [
    "# Import libraries"
   ]
  },
  {
   "cell_type": "code",
   "execution_count": 1,
   "metadata": {},
   "outputs": [
    {
     "name": "stderr",
     "output_type": "stream",
     "text": [
      "2023-09-05 10:11:40.527572: I tensorflow/tsl/cuda/cudart_stub.cc:28] Could not find cuda drivers on your machine, GPU will not be used.\n",
      "2023-09-05 10:11:41.676373: I tensorflow/tsl/cuda/cudart_stub.cc:28] Could not find cuda drivers on your machine, GPU will not be used.\n",
      "2023-09-05 10:11:41.680626: I tensorflow/core/platform/cpu_feature_guard.cc:182] This TensorFlow binary is optimized to use available CPU instructions in performance-critical operations.\n",
      "To enable the following instructions: AVX2 FMA, in other operations, rebuild TensorFlow with the appropriate compiler flags.\n",
      "2023-09-05 10:11:43.681324: W tensorflow/compiler/tf2tensorrt/utils/py_utils.cc:38] TF-TRT Warning: Could not find TensorRT\n"
     ]
    }
   ],
   "source": [
    "import pandas as pd\n",
    "import numpy as np\n",
    "from functions.model import *\n",
    "from functions.vectorization import *\n",
    "from functions.vocabulary import *\n",
    "from functions.labelization import *"
   ]
  },
  {
   "cell_type": "markdown",
   "metadata": {},
   "source": [
    "# Define train query"
   ]
  },
  {
   "cell_type": "code",
   "execution_count": 2,
   "metadata": {},
   "outputs": [],
   "source": [
    "train_query=\"SELECT\""
   ]
  },
  {
   "cell_type": "markdown",
   "metadata": {},
   "source": [
    "# Import id->label"
   ]
  },
  {
   "cell_type": "code",
   "execution_count": 3,
   "metadata": {},
   "outputs": [],
   "source": [
    "dict_label_ids = load_dict_label_ids('../data/train/ids_labels.json')"
   ]
  },
  {
   "cell_type": "markdown",
   "metadata": {},
   "source": [
    "# Import vectors"
   ]
  },
  {
   "cell_type": "code",
   "execution_count": 4,
   "metadata": {},
   "outputs": [],
   "source": [
    "path_df_train = '../data/train/TRAIN_filter_100_signature.json'\n",
    "path_new_model = '../model/my_model_V6.h5'\n",
    "df_train = pd.read_json(path_df_train)\n",
    "vectorized_dataframe = load_vectorized_dataframe('../data/train/df_train_vectorized.npy')\n",
    "df_train.columns = map(str.upper, df_train.columns)\n",
    "train_ids = df_train['ID_PUESTO_ESCO_ULL']"
   ]
  },
  {
   "cell_type": "markdown",
   "metadata": {},
   "source": [
    "# Get input dimension of model"
   ]
  },
  {
   "cell_type": "code",
   "execution_count": 5,
   "metadata": {},
   "outputs": [],
   "source": [
    "vocabulary = load_vocabulary('../data/train/vocabulary.json')\n",
    "input_dimension = get_vocabulary_dimension(vocabulary)"
   ]
  },
  {
   "cell_type": "markdown",
   "metadata": {},
   "source": [
    "# Get output dimension of the model"
   ]
  },
  {
   "cell_type": "code",
   "execution_count": 6,
   "metadata": {},
   "outputs": [],
   "source": [
    "output_dimension = get_dict_dimension(dict_label_ids)"
   ]
  },
  {
   "cell_type": "markdown",
   "metadata": {},
   "source": [
    "# Create model"
   ]
  },
  {
   "cell_type": "code",
   "execution_count": 7,
   "metadata": {},
   "outputs": [],
   "source": [
    "model = create_model(input_dimension, output_dimension)"
   ]
  },
  {
   "cell_type": "markdown",
   "metadata": {},
   "source": [
    "# Train model"
   ]
  },
  {
   "cell_type": "code",
   "execution_count": 8,
   "metadata": {},
   "outputs": [
    {
     "name": "stderr",
     "output_type": "stream",
     "text": [
      "2023-09-05 10:12:08.250619: W tensorflow/tsl/framework/cpu_allocator_impl.cc:83] Allocation of 659858220 exceeds 10% of free system memory.\n"
     ]
    },
    {
     "name": "stdout",
     "output_type": "stream",
     "text": [
      "Epoch 1/10\n",
      "4594/4596 [============================>.] - ETA: 0s - loss: 2.3076 - accuracy: 0.5495"
     ]
    },
    {
     "name": "stderr",
     "output_type": "stream",
     "text": [
      "2023-09-05 10:12:36.602643: W tensorflow/tsl/framework/cpu_allocator_impl.cc:83] Allocation of 164978016 exceeds 10% of free system memory.\n"
     ]
    },
    {
     "name": "stdout",
     "output_type": "stream",
     "text": [
      "4596/4596 [==============================] - 21s 4ms/step - loss: 2.3073 - accuracy: 0.5495 - val_loss: 1.6414 - val_accuracy: 0.6449\n",
      "Epoch 2/10\n",
      "4596/4596 [==============================] - 15s 3ms/step - loss: 1.3060 - accuracy: 0.6837 - val_loss: 1.4400 - val_accuracy: 0.6718\n",
      "Epoch 3/10\n",
      "4596/4596 [==============================] - 14s 3ms/step - loss: 0.9908 - accuracy: 0.7347 - val_loss: 1.3913 - val_accuracy: 0.6930\n",
      "Epoch 4/10\n",
      "4596/4596 [==============================] - 14s 3ms/step - loss: 0.8000 - accuracy: 0.7695 - val_loss: 1.4572 - val_accuracy: 0.6916\n",
      "Epoch 5/10\n",
      "4596/4596 [==============================] - 14s 3ms/step - loss: 0.6676 - accuracy: 0.7986 - val_loss: 1.5524 - val_accuracy: 0.6953\n",
      "Epoch 6/10\n",
      "4596/4596 [==============================] - 16s 3ms/step - loss: 0.5683 - accuracy: 0.8233 - val_loss: 1.6903 - val_accuracy: 0.6910\n",
      "Epoch 7/10\n",
      "4596/4596 [==============================] - 14s 3ms/step - loss: 0.4978 - accuracy: 0.8415 - val_loss: 1.7635 - val_accuracy: 0.6930\n",
      "Epoch 8/10\n",
      "4596/4596 [==============================] - 14s 3ms/step - loss: 0.4452 - accuracy: 0.8558 - val_loss: 1.9145 - val_accuracy: 0.6895\n",
      "Epoch 9/10\n",
      "4596/4596 [==============================] - 16s 3ms/step - loss: 0.4069 - accuracy: 0.8678 - val_loss: 2.0343 - val_accuracy: 0.6910\n",
      "Epoch 10/10\n",
      "4596/4596 [==============================] - 15s 3ms/step - loss: 0.3748 - accuracy: 0.8770 - val_loss: 2.1314 - val_accuracy: 0.6854\n"
     ]
    },
    {
     "name": "stderr",
     "output_type": "stream",
     "text": [
      "/home/fulp/clasificador_ofertas_empleo/clasificador-ofertas-empleo-modelo/.venv/lib64/python3.9/site-packages/keras/src/engine/training.py:3000: UserWarning: You are saving your model as an HDF5 file via `model.save()`. This file format is considered legacy. We recommend using instead the native Keras format, e.g. `model.save('my_model.keras')`.\n",
      "  saving_api.save_model(\n"
     ]
    }
   ],
   "source": [
    "# Convert vectorized dataframe to np.vstack\n",
    "vector_array = np.vstack(vectorized_dataframe)\n",
    "train_labels_array = cast_id_to_labels(train_ids, dict_label_ids)\n",
    "\n",
    "# Train model\n",
    "model, history = model_train(model, train_query, vector_array, train_labels_array, epochs=10, batch_size=8, validation_split=0.2, verbose=1, balance_data=True)\n",
    "\n",
    "# Save model\n",
    "save_model(model, path_new_model)"
   ]
  },
  {
   "cell_type": "markdown",
   "metadata": {},
   "source": [
    "# Plot history"
   ]
  },
  {
   "cell_type": "code",
   "execution_count": 9,
   "metadata": {},
   "outputs": [
    {
     "data": {
      "image/png": "[encoded data removed]",
      "text/plain": [
       "<Figure size 640x480 with 1 Axes>"
      ]
     },
     "metadata": {},
     "output_type": "display_data"
    }
   ],
   "source": [
    "import matplotlib.pyplot as plt\n",
    "\n",
    "plt.plot(history.history['accuracy'])\n",
    "plt.plot(history.history['val_accuracy'])\n",
    "plt.title('Model Accuracy')\n",
    "plt.xlabel('Epoch')\n",
    "plt.ylabel('Accuracy')\n",
    "plt.legend(['Train', 'Validation'], loc='upper left')\n",
    "plt.show()"
   ]
  }
 ],
 "metadata": {
  "kernelspec": {
   "display_name": ".venv",
   "language": "python",
   "name": "python3"
  },
  "language_info": {
   "codemirror_mode": {
    "name": "ipython",
    "version": 3
   },
   "file_extension": ".py",
   "mimetype": "text/x-python",
   "name": "python",
   "nbconvert_exporter": "python",
   "pygments_lexer": "ipython3",
   "version": "3.9.16"
  },
  "orig_nbformat": 4
 },
 "nbformat": 4,
 "nbformat_minor": 2
}
