{
 "cells": [
  {
   "cell_type": "code",
   "execution_count": 1,
   "metadata": {},
   "outputs": [],
   "source": [
    "import pandas as pd\n",
    "import numpy as np\n",
    "import matplotlib.pyplot as plt\n",
    "from functions.tools import *\n",
    "from datetime import datetime\n",
    "import os"
   ]
  },
  {
   "cell_type": "markdown",
   "metadata": {},
   "source": [
    "## Global variables"
   ]
  },
  {
   "cell_type": "code",
   "execution_count": 2,
   "metadata": {},
   "outputs": [],
   "source": [
    "path_history = 'models_neural_network/history_V1.json'\n",
    "vocabulary_path = './data/vocabulary/vocabulary.json'\n",
    "path_ids_labels = './data/ids_labels/dict_label_id.json'\n",
    "path_vector = './data/vectorized/vector_train.pkl'\n",
    "\n",
    "# Clasifier path\n",
    "clasifier_path = './model_clasifier/'\n",
    "# Model path\n",
    "model_clasifier = clasifier_path + 'my_model_V1.h5'\n",
    "# Model information path:\n",
    "model_clasifier_info = clasifier_path + 'model_info.json'\n",
    "\n",
    "# Training paths\n",
    "train_name = 'train_1'\n",
    "model_clasifier_train_path = clasifier_path + 'train/'\n",
    "model_clasifier_history_path_train = model_clasifier_train_path + train_name + '/'\n",
    "history_path = model_clasifier_history_path_train + 'history.json'\n",
    "train_epochs_image_path = model_clasifier_history_path_train + 'epochs.png'\n",
    "train_dict_label_id_path = model_clasifier_history_path_train + 'dict_label_id.json'\n",
    "train_vector_path = model_clasifier_history_path_train + 'vector_train.pkl'\n",
    "train_vocabulary_path = model_clasifier_history_path_train + 'vocabulary.json'\n",
    "\n",
    "# Test paths\n",
    "test_name = 'test_1'\n",
    "model_clasifier_test_path = clasifier_path + 'test/'\n",
    "model_clasifier_results_path_test = model_clasifier_test_path + test_name + '/'\n",
    "# Results of the test\n",
    "prediction_dataset = model_clasifier_results_path_test + 'prediction.csv'\n",
    "correct_prediction_dataset = model_clasifier_results_path_test + 'correct_prediction.csv'\n",
    "incorrect_prediction_dataset = model_clasifier_results_path_test + 'incorrect_prediction.csv'\n",
    "# Resulting images of the test\n",
    "images_test_path = model_clasifier_results_path_test + 'Images/'\n",
    "test_distribution_image = images_test_path + 'distribution.png'\n",
    "test_accuracy_image = images_test_path + 'accuracy.png'\n",
    "test_correct_image = images_test_path + 'correct.png'\n",
    "test_incorrect_image = images_test_path + 'incorrect.png'"
   ]
  },
  {
   "cell_type": "code",
   "execution_count": 4,
   "metadata": {},
   "outputs": [],
   "source": [
    "test_query = \"SELECT * FROM INFOJOBS WHERE FECHA_PUBLICACION >= '2021-07-01' AND FECHA_PUBLICACION <= '2021-08-31'\"\n",
    "# df_test = pd.read_csv('data/actual/df_test_julio_agosto_no_asunto_filtro_5_palabras.csv')\n",
    "train_query = \"SELECT * FROM INFOJOBS\"\n",
    "df_train = pd.read_csv('data/previous/df_train_test_1000.csv')"
   ]
  },
  {
   "cell_type": "markdown",
   "metadata": {},
   "source": [
    "### Train, vocabulary and id->label"
   ]
  },
  {
   "cell_type": "code",
   "execution_count": 4,
   "metadata": {},
   "outputs": [],
   "source": [
    "vector, vocabulary = load_vector_columns(train_vector_path, train_vocabulary_path)\n",
    "if vector is None:\n",
    "    vector, vocabulary = create_vector_columns(df_train)\n",
    "    save_vector_columns(vector, path_vector)\n",
    "if vocabulary is None:\n",
    "    vector, vocabulary = create_vector_columns(vector)\n",
    "    save_vocabulary(vocabulary, vocabulary_path)\n",
    "train_ids = df_train['ID_PUESTO_ESCO_ULL']\n",
    "dict_label_ids = load_dict_label_ids(train_dict_label_id_path)\n",
    "if dict_label_ids is None:\n",
    "    dict_label_ids = create_dict_label_ids(train_ids)\n",
    "    save_dict_label_ids(dict_label_ids, path_ids_labels)\n",
    "train_labels = cast_id_to_labels(train_ids, dict_label_ids)"
   ]
  },
  {
   "cell_type": "markdown",
   "metadata": {},
   "source": [
    "### Test"
   ]
  },
  {
   "cell_type": "code",
   "execution_count": 5,
   "metadata": {},
   "outputs": [],
   "source": [
    "# Drop the key 'dimension' from vocabulary\n",
    "vector_test = convert_TEST_to_vector(df_test, vocabulary)\n",
    "test_ids = df_test['ID_PUESTO_ESCO_ULL']\n",
    "test_labels = cast_id_to_labels(test_ids, dict_label_ids)"
   ]
  },
  {
   "cell_type": "markdown",
   "metadata": {},
   "source": [
    "### Load model or train and save"
   ]
  },
  {
   "cell_type": "code",
   "execution_count": 6,
   "metadata": {},
   "outputs": [
    {
     "name": "stderr",
     "output_type": "stream",
     "text": [
      "2023-08-21 11:21:06.013005: I tensorflow/tsl/cuda/cudart_stub.cc:28] Could not find cuda drivers on your machine, GPU will not be used.\n",
      "2023-08-21 11:21:07.165151: I tensorflow/tsl/cuda/cudart_stub.cc:28] Could not find cuda drivers on your machine, GPU will not be used.\n",
      "2023-08-21 11:21:07.184386: I tensorflow/core/platform/cpu_feature_guard.cc:182] This TensorFlow binary is optimized to use available CPU instructions in performance-critical operations.\n",
      "To enable the following instructions: AVX2 FMA, in other operations, rebuild TensorFlow with the appropriate compiler flags.\n",
      "2023-08-21 11:21:13.145928: W tensorflow/compiler/tf2tensorrt/utils/py_utils.cc:38] TF-TRT Warning: Could not find TensorRT\n",
      "2023-08-21 11:21:37.053709: W tensorflow/tsl/framework/cpu_allocator_impl.cc:83] Allocation of 38060032 exceeds 10% of free system memory.\n",
      "2023-08-21 11:21:37.113874: W tensorflow/tsl/framework/cpu_allocator_impl.cc:83] Allocation of 38060032 exceeds 10% of free system memory.\n",
      "2023-08-21 11:21:37.255963: W tensorflow/tsl/framework/cpu_allocator_impl.cc:83] Allocation of 38060032 exceeds 10% of free system memory.\n",
      "2023-08-21 11:21:38.959342: W tensorflow/tsl/framework/cpu_allocator_impl.cc:83] Allocation of 38060032 exceeds 10% of free system memory.\n",
      "2023-08-21 11:21:39.035839: W tensorflow/tsl/framework/cpu_allocator_impl.cc:83] Allocation of 38060032 exceeds 10% of free system memory.\n"
     ]
    }
   ],
   "source": [
    "import tensorflow as tf\n",
    "from tensorflow import keras\n",
    "from functions.model import model_creation, model_train, model_save, model_load, history_save, history_load\n",
    "\n",
    "# Assuming you have loaded your training data as train_labels and vector\n",
    "# train_labels is a 1D array of class labels\n",
    "\n",
    "input_dim = get_vocabulary_dimension(vocabulary)\n",
    "num_classes = get_dimension_labels(dict_label_ids)\n",
    "\n",
    "# Convert the Pandas Series of arrays into a NumPy array\n",
    "vector_array = np.vstack(vector)\n",
    "train_labels_array = np.array(train_labels)\n",
    "\n",
    "model = model_load(model_clasifier)\n",
    "history_data = history_load(history_path)\n",
    "if model is None:\n",
    "    model = model_creation(input_dim, num_classes)\n",
    "    model, history = model_train(model, train_query, vector_array, train_labels_array, epochs=10, batch_size=8, validation_split=0.2, verbose=1, balance_data=True)\n",
    "    # model = backpropagation(epochs=10, model=model, learning_rate=0.01, vector_array=vector_array, label_array=train_labels_array)\n",
    "    model_save(model, model_clasifier)\n",
    "# if history_data is None:\n",
    "#     history_data = history_save(history, path_history)\n",
    "    # # Plotting Accuracy\n",
    "    # plt.plot(history_data['accuracy'], label='Training Accuracy')\n",
    "    # plt.plot(history_data['val_accuracy'], label='Validation Accuracy')\n",
    "    # plt.xlabel('Epoch')\n",
    "    # plt.ylabel('Accuracy')\n",
    "    # plt.title('Training and Validation Accuracy')\n",
    "    # plt.legend()\n",
    "    # plt.show()"
   ]
  },
  {
   "cell_type": "code",
   "execution_count": 7,
   "metadata": {},
   "outputs": [
    {
     "name": "stdout",
     "output_type": "stream",
     "text": [
      "1/1 [==============================] - 0s 364ms/step\n",
      "996\n",
      "567\n",
      "[1634]\n"
     ]
    }
   ],
   "source": [
    "# from functions.model import model_load\n",
    "# model = model_load()\n",
    "prediction = model.predict(vector[0].reshape(1, -1))\n",
    "print(len(prediction[0]))\n",
    "# Get the index of the highest probability\n",
    "predicted_label = np.argmax(prediction[0])\n",
    "print(predicted_label)\n",
    "# Cast the index that is a label to id\n",
    "predicted_id = cast_labels_to_id([predicted_label], dict_label_ids)\n",
    "print(predicted_id)"
   ]
  },
  {
   "cell_type": "code",
   "execution_count": 8,
   "metadata": {},
   "outputs": [
    {
     "name": "stdout",
     "output_type": "stream",
     "text": [
      "1/1 [==============================] - 0s 113ms/step\n",
      "Accuracy: 44.83%\n",
      "1/1 [==============================] - 0s 26ms/step\n",
      "1/1 [==============================] - 0s 27ms/step\n"
     ]
    }
   ],
   "source": [
    "vector_test_array = np.vstack(vector_test)\n",
    "real_id = list(df_test['ID_PUESTO_ESCO_ULL'])\n",
    "# Get the accuracy comparing the two lists predictions_id and real_id\n",
    "accuracy = get_accuracy(model, vector_test_array, dict_label_ids, real_id)\n",
    "# Print like a percentage and round to 2 decimals\n",
    "print(f'Accuracy: {round(accuracy*100, 2)}%')\n",
    "predicted_id, probability = get_predictions(model, vector_test_array, dict_label_ids)\n",
    "top_predictions_id = get_top_highest_predictions(model, vector_test_array, dict_label_ids, 3)\n",
    "def create_test(df_test, model, vocabulary, dict_label_ids, table_name='', batch_size=32, verbose=1):\n",
    "    vector_test_array = np.vstack(convert_TEST_to_vector(df_test, vocabulary))\n",
    "    real_id = list(df_test['ID_PUESTO_ESCO_ULL'])\n",
    "    accuracy = get_accuracy(model, vector_test_array, dict_label_ids, real_id)\n",
    "    test_name = input('Enter the name of the test: ')\n",
    "        # Verify table name is not null if not ask for it with input\n",
    "    if table_name == '':\n",
    "        table_name = input('Enter the name of the table: ')\n",
    "    test_dict = {\n",
    "        'test_name': test_name,\n",
    "        'table_name': table_name,\n",
    "        'description': input('Enter a description of the test: '),\n",
    "        'fecha_inicio': input('Enter the start date of the test: '),\n",
    "        'fecha_fin': input('Enter the end date of the test: '),\n",
    "        'query': input('Enter the query of the test: '),\n",
    "        'test_parameters': {\n",
    "            'batch_size': batch_size,\n",
    "            'verbose': verbose\n",
    "        },\n",
    "        'fecha_test': datetime.now().strftime(\"%Y-%m-%d %H:%M\"),\n",
    "        'resultados': {\n",
    "            'accuracy': accuracy,\n",
    "            'loss': 1 - accuracy\n",
    "        },\n",
    "    }\n",
    "    with open('model_info.json', 'r') as json_file:\n",
    "        model_info = json.load(json_file)\n",
    "    model_info['test'].append(test_dict)\n",
    "    with open('model_info.json', 'w') as json_file:\n",
    "        json.dump(model_info, json_file)\n",
    "    return test_dict\n",
    "\n",
    "def create_test_results(test_name, df_test, predicted_id, probability):\n",
    "    df_results_id = pd.DataFrame({'REAL_ID': df_test['ID_PUESTO_ESCO_ULL'], 'PREDICTED_ID': predicted_id, 'PROBABILITY': probability, 'ID_OFERTA': df_test['ID_OFERTA']})\n",
    "    df_correct = df_results_id[df_results_id['REAL_ID'] == df_results_id['PREDICTED_ID']]\n",
    "    df_errors = df_results_id[df_results_id['REAL_ID'] != df_results_id['PREDICTED_ID']]\n",
    "    # Create the new directory if not exists\n",
    "    model_clasifier_test_path\n",
    "    if not os.path.exists(model_clasifier_test_path):\n",
    "        os.makedirs(model_clasifier_test_path)\n",
    "    \n",
    "\n",
    "create_test(df_test, predicted_id, probability, top_predictions_id, dict_label_ids, 'NB_multiclass_prob_class.csv')"
   ]
  },
  {
   "cell_type": "code",
   "execution_count": 9,
   "metadata": {},
   "outputs": [],
   "source": [
    "df_results_id = pd.DataFrame({'REAL_ID': df_test['ID_PUESTO_ESCO_ULL'], 'PREDICTED_ID': predicted_id, 'PROBABILITY': probability, 'ID_OFERTA': df_test['ID_OFERTA']})\n",
    "df_correct = df_results_id[df_results_id['REAL_ID'] == df_results_id['PREDICTED_ID']]\n",
    "df_errors = df_results_id[df_results_id['REAL_ID'] != df_results_id['PREDICTED_ID']]"
   ]
  },
  {
   "cell_type": "code",
   "execution_count": 10,
   "metadata": {},
   "outputs": [
    {
     "name": "stdout",
     "output_type": "stream",
     "text": [
      "Errors Probability:\n",
      "  Min: 41.11%\n",
      "  Max: 99.81%\n",
      "  Mean: 73.30%\n",
      "  Count: 16\n",
      "\n",
      "Correct Probability:\n",
      "  Min: 52.62%\n",
      "  Max: 100.00%\n",
      "  Mean: 94.31%\n",
      "  Count: 13\n",
      "\n",
      "  Total count:  29\n"
     ]
    }
   ],
   "source": [
    "def print_probability_stats(label, min_prob, max_prob, mean_prob, df):\n",
    "    print(f\"{label} Probability:\")\n",
    "    print(f\"  Min: {min_prob:.2%}\")\n",
    "    print(f\"  Max: {max_prob:.2%}\")\n",
    "    print(f\"  Mean: {mean_prob:.2%}\")\n",
    "    print(f\"  Count: {df}\")\n",
    "    print()  # Add a newline after each set of statistics\n",
    "    \n",
    "# Calculate statistics for errors and correct groups\n",
    "min_prob_errors = df_errors['PROBABILITY'].min()\n",
    "max_prob_errors = df_errors['PROBABILITY'].max()\n",
    "mean_prob_errors = df_errors['PROBABILITY'].mean()\n",
    "min_prob_correct = df_correct['PROBABILITY'].min()\n",
    "max_prob_correct = df_correct['PROBABILITY'].max()\n",
    "mean_prob_correct = df_correct['PROBABILITY'].mean()\n",
    "# Print statistics using the refactored function\n",
    "print_probability_stats(\"Errors\", min_prob_errors, max_prob_errors, mean_prob_errors, len(df_errors))\n",
    "print_probability_stats(\"Correct\", min_prob_correct, max_prob_correct, mean_prob_correct, len(df_correct))\n",
    "print(\"  Total count: \", len(df_errors) + len(df_correct))"
   ]
  },
  {
   "cell_type": "code",
   "execution_count": 11,
   "metadata": {},
   "outputs": [
    {
     "data": {
      "image/png": "[encoded data removed]",
      "text/plain": [
       "<Figure size 640x480 with 1 Axes>"
      ]
     },
     "metadata": {},
     "output_type": "display_data"
    },
    {
     "name": "stdout",
     "output_type": "stream",
     "text": [
      "En esta gráfica se muestran de color azul, aquellas ocupaciones que se han predicho correctamente, y de color naranja, aquellas que se han predicho incorrectamente.\n",
      "Los valores numéricos en el eje X representan la confianza del clasificador.\n",
      "Y en el eje Y se muestra el porcentaje de predicciones que se han realizado en cada rango de confianza en base al número total de ofertas en este caso es: 29\n",
      "0.0     0\n",
      "0.1     0\n",
      "0.2     0\n",
      "0.3     0\n",
      "0.4     0\n",
      "0.5     1\n",
      "0.6     0\n",
      "0.7     0\n",
      "0.8     0\n",
      "0.9    12\n",
      "Name: PROBABILITY, dtype: int64\n",
      "0.0    0\n",
      "0.1    0\n",
      "0.2    0\n",
      "0.3    0\n",
      "0.4    5\n",
      "0.5    1\n",
      "0.6    0\n",
      "0.7    2\n",
      "0.8    1\n",
      "0.9    7\n",
      "Name: PROBABILITY, dtype: int64\n"
     ]
    }
   ],
   "source": [
    "import pandas as pd\n",
    "import matplotlib.pyplot as plt\n",
    "import numpy as np\n",
    "\n",
    "# Define the probability ranges\n",
    "bins = [0, 0.1, 0.2, 0.3, 0.4, 0.5, 0.6, 0.7, 0.8, 0.9, 1]\n",
    "\n",
    "# Assuming you have loaded the dataframes df_correct and df_errors\n",
    "\n",
    "# DATA 1\n",
    "# Categorize the probabilities into ranges and count occurrences\n",
    "probability_ranges1 = pd.cut(df_correct['PROBABILITY'], bins=bins, labels=bins[:-1])\n",
    "probability_counts1 = probability_ranges1.value_counts(sort=False)\n",
    "\n",
    "# Calculate percentage distribution\n",
    "percentage_distribution1 = (probability_counts1 / len(df_results_id)) * 100\n",
    "\n",
    "# DATA 2\n",
    "# Categorize the probabilities into ranges and count occurrences\n",
    "probability_ranges2 = pd.cut(df_errors['PROBABILITY'], bins=bins, labels=bins[:-1])\n",
    "probability_counts2 = probability_ranges2.value_counts(sort=False)\n",
    "\n",
    "# Calculate percentage distribution\n",
    "percentage_distribution2 = (probability_counts2 / len(df_results_id)) * 100\n",
    "\n",
    "# Data for plotting\n",
    "attributes = [\"Correct Predictions\", \"Incorrect Predictions\"]\n",
    "percentage_data = [percentage_distribution1, percentage_distribution2]\n",
    "\n",
    "x = np.arange(len(bins) - 1)  # the label locations\n",
    "width = 0.4  # the width of the bars\n",
    "multiplier = -0.5\n",
    "\n",
    "fig, ax = plt.subplots()\n",
    "\n",
    "for i, attribute_data in enumerate(percentage_data):\n",
    "    offset = width * multiplier\n",
    "    rects = ax.bar(x + offset, attribute_data, width, label=attributes[i])\n",
    "    ax.bar_label(rects, padding=3)\n",
    "    multiplier += 1\n",
    "\n",
    "# Add some text for labels, title, and custom x-axis tick labels\n",
    "ax.set_ylabel('Percentage')\n",
    "ax.set_xlabel('Probability Range')\n",
    "ax.set_title('Percentage Distribution of Probability Ranges')\n",
    "ax.set_xticks(x)\n",
    "ax.set_xticklabels([f\"{bins[i]:.1f}-{bins[i+1]:.1f}\" for i in range(len(bins)-1)])\n",
    "ax.legend(loc='upper left')\n",
    "\n",
    "plt.tight_layout()\n",
    "# Save the plot\n",
    "plt.savefig(path_static_distribution)\n",
    "plt.show()\n",
    "print(\"En esta gráfica se muestran de color azul, aquellas ocupaciones que se han predicho correctamente, y de color naranja, aquellas que se han predicho incorrectamente.\")\n",
    "print(\"Los valores numéricos en el eje X representan la confianza del clasificador.\")\n",
    "print(\"Y en el eje Y se muestra el porcentaje de predicciones que se han realizado en cada rango de confianza en base al número total de ofertas en este caso es: \" + str(len(df_results_id)))\n",
    "print(probability_counts1)\n",
    "print(probability_counts2)"
   ]
  },
  {
   "cell_type": "code",
   "execution_count": 12,
   "metadata": {},
   "outputs": [
    {
     "data": {
      "image/png": "[encoded data removed]",
      "text/plain": [
       "<Figure size 640x480 with 1 Axes>"
      ]
     },
     "metadata": {},
     "output_type": "display_data"
    }
   ],
   "source": [
    "# Create a pie chart to visualize the correct and incorrect predictions\n",
    "\n",
    "import matplotlib.pyplot as plt\n",
    "import numpy as np\n",
    "\n",
    "# Pie chart, where the slices will be ordered and plotted counter-clockwise:\n",
    "labels = 'Correct', 'Incorrect'\n",
    "sizes = [len(df_correct), len(df_errors)]\n",
    "explode = (0, 0.1)  # only \"explode\" the 2nd slice (i.e. 'Incorrect')\n",
    "\n",
    "fig1, ax1 = plt.subplots()\n",
    "ax1.pie(sizes, explode=explode, labels=labels, autopct='%1.1f%%',\n",
    "        shadow=False, startangle=90)\n",
    "ax1.axis('equal')  # Equal aspect ratio ensures that pie is drawn as a circle.\n",
    "\n",
    "plt.savefig(path_static_all)\n",
    "plt.show()"
   ]
  },
  {
   "cell_type": "code",
   "execution_count": 13,
   "metadata": {},
   "outputs": [
    {
     "data": {
      "image/png": "[encoded data removed]",
      "text/plain": [
       "<Figure size 600x600 with 1 Axes>"
      ]
     },
     "metadata": {},
     "output_type": "display_data"
    },
    {
     "data": {
      "image/png": "[encoded data removed]",
      "text/plain": [
       "<Figure size 600x600 with 1 Axes>"
      ]
     },
     "metadata": {},
     "output_type": "display_data"
    },
    {
     "name": "stdout",
     "output_type": "stream",
     "text": [
      "{0.0: '#9E0142', 0.1: '#D43D4F', 0.2: '#F46D43', 0.3: '#FDAD60', 0.4: '#FEE08B', 0.5: '#FFFFBE', 0.6: '#E6F598', 0.7: '#AADCA4', 0.8: '#66C2A5', 0.9: '#3387BC'}\n"
     ]
    }
   ],
   "source": [
    "import matplotlib\n",
    "# Create the first plot for DATA 1\n",
    "plt.figure(figsize=(6, 6))\n",
    "plt.pie(percentage_distribution1, labels=probability_counts1.index, startangle=90)\n",
    "plt.title('Probability Distribution - Correct')\n",
    "plt.legend(percentage_distribution1.index, title=\"Probability Range\", loc=\"center left\", bbox_to_anchor=(1, 0, 0.5, 1))\n",
    "plt.tight_layout()\n",
    "plt.savefig(path_static_correct)\n",
    "plt.show()\n",
    "\n",
    "# Create the second plot for DATA 2\n",
    "plt.figure(figsize=(6, 6))\n",
    "plt.pie(probability_counts2, labels=probability_counts2.index, startangle=90)\n",
    "plt.title('Probability Distribution - Errors')\n",
    "plt.legend(probability_counts2.index, title=\"Probability Range\", loc=\"center left\", bbox_to_anchor=(1, 0, 0.5, 1))\n",
    "plt.tight_layout()\n",
    "plt.savefig(path_static_errors)\n",
    "plt.show()\n",
    "\n",
    "# Get the colors of the probability ranges\n",
    "colors = [plt.cm.Spectral(i/float(len(probability_counts1.index))) for i in range(len(probability_counts1.index))]\n",
    "# Get the HEX codes of the colors\n",
    "hex_codes = [matplotlib.colors.rgb2hex(i).upper() for i in colors]\n",
    "# Cast hex_codes to json file, the keys are the probability ranges\n",
    "hex_codes = dict(zip(probability_counts1.index, hex_codes))\n",
    "print(hex_codes)"
   ]
  },
  {
   "cell_type": "code",
   "execution_count": 14,
   "metadata": {},
   "outputs": [
    {
     "name": "stderr",
     "output_type": "stream",
     "text": [
      "/tmp/ipykernel_3073534/4225713839.py:6: SettingWithCopyWarning: \n",
      "A value is trying to be set on a copy of a slice from a DataFrame.\n",
      "Try using .loc[row_indexer,col_indexer] = value instead\n",
      "\n",
      "See the caveats in the documentation: https://pandas.pydata.org/pandas-docs/stable/user_guide/indexing.html#returning-a-view-versus-a-copy\n",
      "  df_correct.loc[:, 'COLORS'] = df_correct['PROBABILITY'].apply(lambda x: hex_codes.get(int(x * 10) % 10 / 10))\n",
      "/tmp/ipykernel_3073534/4225713839.py:7: SettingWithCopyWarning: \n",
      "A value is trying to be set on a copy of a slice from a DataFrame.\n",
      "Try using .loc[row_indexer,col_indexer] = value instead\n",
      "\n",
      "See the caveats in the documentation: https://pandas.pydata.org/pandas-docs/stable/user_guide/indexing.html#returning-a-view-versus-a-copy\n",
      "  df_errors.loc[:, 'COLORS'] = df_errors['PROBABILITY'].apply(lambda x: hex_codes.get(int(x * 10) % 10 / 10))\n",
      "/tmp/ipykernel_3073534/4225713839.py:11: SettingWithCopyWarning: \n",
      "A value is trying to be set on a copy of a slice from a DataFrame.\n",
      "Try using .loc[row_indexer,col_indexer] = value instead\n",
      "\n",
      "See the caveats in the documentation: https://pandas.pydata.org/pandas-docs/stable/user_guide/indexing.html#returning-a-view-versus-a-copy\n",
      "  df_correct.loc[:, 'PROBABILITY_VALUE'] = df_correct['PROBABILITY'].apply(lambda x: int(x * 10) % 10 / 10)\n",
      "/tmp/ipykernel_3073534/4225713839.py:12: SettingWithCopyWarning: \n",
      "A value is trying to be set on a copy of a slice from a DataFrame.\n",
      "Try using .loc[row_indexer,col_indexer] = value instead\n",
      "\n",
      "See the caveats in the documentation: https://pandas.pydata.org/pandas-docs/stable/user_guide/indexing.html#returning-a-view-versus-a-copy\n",
      "  df_errors.loc[:, 'PROBABILITY_VALUE'] = df_errors['PROBABILITY'].apply(lambda x: int(x * 10) % 10 / 10)\n"
     ]
    }
   ],
   "source": [
    "# Convert dictionary keys to floats if needed\n",
    "hex_codes = {float(key): value for key, value in hex_codes.items()}\n",
    "\n",
    "# Apply lambda function to assign colors based on probability\n",
    "df_results_id.loc[:, 'COLORS'] = df_results_id['PROBABILITY'].apply(lambda x: hex_codes.get(int(x * 10) % 10 / 10))\n",
    "df_correct.loc[:, 'COLORS'] = df_correct['PROBABILITY'].apply(lambda x: hex_codes.get(int(x * 10) % 10 / 10))\n",
    "df_errors.loc[:, 'COLORS'] = df_errors['PROBABILITY'].apply(lambda x: hex_codes.get(int(x * 10) % 10 / 10))\n",
    "\n",
    "# Include the probability in the DataFrame\n",
    "df_results_id.loc[:, 'PROBABILITY_VALUE'] = df_results_id['PROBABILITY'].apply(lambda x: int(x * 10) % 10 / 10)\n",
    "df_correct.loc[:, 'PROBABILITY_VALUE'] = df_correct['PROBABILITY'].apply(lambda x: int(x * 10) % 10 / 10)\n",
    "df_errors.loc[:, 'PROBABILITY_VALUE'] = df_errors['PROBABILITY'].apply(lambda x: int(x * 10) % 10 / 10)"
   ]
  },
  {
   "cell_type": "code",
   "execution_count": 15,
   "metadata": {},
   "outputs": [
    {
     "data": {
      "text/html": [
       "<div>\n",
       "<style scoped>\n",
       "    .dataframe tbody tr th:only-of-type {\n",
       "        vertical-align: middle;\n",
       "    }\n",
       "\n",
       "    .dataframe tbody tr th {\n",
       "        vertical-align: top;\n",
       "    }\n",
       "\n",
       "    .dataframe thead th {\n",
       "        text-align: right;\n",
       "    }\n",
       "</style>\n",
       "<table border=\"1\" class=\"dataframe\">\n",
       "  <thead>\n",
       "    <tr style=\"text-align: right;\">\n",
       "      <th></th>\n",
       "      <th>REAL_ID</th>\n",
       "      <th>PREDICTED_ID</th>\n",
       "      <th>PROBABILITY</th>\n",
       "      <th>ID_OFERTA</th>\n",
       "      <th>COLORS</th>\n",
       "      <th>PROBABILITY_VALUE</th>\n",
       "    </tr>\n",
       "  </thead>\n",
       "  <tbody>\n",
       "    <tr>\n",
       "      <th>1</th>\n",
       "      <td>426</td>\n",
       "      <td>439</td>\n",
       "      <td>0.983664</td>\n",
       "      <td>680922729e4d1e8c4bb6e59b7aa935</td>\n",
       "      <td>#3387BC</td>\n",
       "      <td>0.9</td>\n",
       "    </tr>\n",
       "    <tr>\n",
       "      <th>2</th>\n",
       "      <td>436</td>\n",
       "      <td>2208</td>\n",
       "      <td>0.427822</td>\n",
       "      <td>a1ec170e2a4b15be5f75280d60427b</td>\n",
       "      <td>#FEE08B</td>\n",
       "      <td>0.4</td>\n",
       "    </tr>\n",
       "    <tr>\n",
       "      <th>3</th>\n",
       "      <td>436</td>\n",
       "      <td>426</td>\n",
       "      <td>0.800257</td>\n",
       "      <td>c9bec5a56d4698884c2e25495a64fe</td>\n",
       "      <td>#66C2A5</td>\n",
       "      <td>0.8</td>\n",
       "    </tr>\n",
       "    <tr>\n",
       "      <th>5</th>\n",
       "      <td>719</td>\n",
       "      <td>767</td>\n",
       "      <td>0.983766</td>\n",
       "      <td>fb048b57e041599b56992afb6a6d00</td>\n",
       "      <td>#3387BC</td>\n",
       "      <td>0.9</td>\n",
       "    </tr>\n",
       "    <tr>\n",
       "      <th>6</th>\n",
       "      <td>719</td>\n",
       "      <td>767</td>\n",
       "      <td>0.983766</td>\n",
       "      <td>032ed343594605885062cec6e4154c</td>\n",
       "      <td>#3387BC</td>\n",
       "      <td>0.9</td>\n",
       "    </tr>\n",
       "  </tbody>\n",
       "</table>\n",
       "</div>"
      ],
      "text/plain": [
       "   REAL_ID  PREDICTED_ID  PROBABILITY                       ID_OFERTA  \\\n",
       "1      426           439     0.983664  680922729e4d1e8c4bb6e59b7aa935   \n",
       "2      436          2208     0.427822  a1ec170e2a4b15be5f75280d60427b   \n",
       "3      436           426     0.800257  c9bec5a56d4698884c2e25495a64fe   \n",
       "5      719           767     0.983766  fb048b57e041599b56992afb6a6d00   \n",
       "6      719           767     0.983766  032ed343594605885062cec6e4154c   \n",
       "\n",
       "    COLORS  PROBABILITY_VALUE  \n",
       "1  #3387BC                0.9  \n",
       "2  #FEE08B                0.4  \n",
       "3  #66C2A5                0.8  \n",
       "5  #3387BC                0.9  \n",
       "6  #3387BC                0.9  "
      ]
     },
     "execution_count": 15,
     "metadata": {},
     "output_type": "execute_result"
    }
   ],
   "source": [
    "df_errors.head()"
   ]
  },
  {
   "cell_type": "code",
   "execution_count": 16,
   "metadata": {},
   "outputs": [],
   "source": [
    "# Save to results\n",
    "df_results_id.to_csv(path_results_all, index=False)\n",
    "df_correct.to_csv(path_results_correct, index=False)\n",
    "df_errors.to_csv(path_results_incorrect, index=False)"
   ]
  },
  {
   "cell_type": "code",
   "execution_count": 44,
   "metadata": {},
   "outputs": [
    {
     "name": "stdout",
     "output_type": "stream",
     "text": [
      "1/1 [==============================] - 0s 62ms/step\n",
      "636\n"
     ]
    }
   ],
   "source": [
    "from functions.tools import predict_incoming_offer\n",
    "incoming_offer = {\n",
    "    \"CATEGORIA\":\"Profesiones, artes y oficios\",\n",
    "    \"SUBCATEGORIA\":\"Carpintería\",\n",
    "    \"PALABRAS_EMPLEO_TEXTO\": \"TECNICO CALIDAD EMPRESAS SECTOR ENERGIAS RENOVABLE EXPERIENCIA CONSTRUCCIONES PLANTAS SUBESTACIONES ELECTRICA RESPONSABLE SEGUIMIENTOS DOCUMENTACION PROYECTO CLIENTES COORDINACIONES DESARROLLO ELABORACION REVISION PROCEDIMIENTOS PROTOCOLOS TRABAJO SUPERVISAR GESTION ACTUALIZACION NORMATIVO PERSONAL APOYO MANTENIMIENTO MEJORA SISTEMA NORMAS ISO MEDIOAMBIENTE SEGURIDAD SALUD AUDITORIA FORMACIONES INGENIERA INDUSTRIAL CIVILES MASTER ENERGETICO INGLES OFFICE RESIDENCIA GEOGRAFICA CAPACIDAD LIDERAZGO EQUIPOS ORIENTACIONES RESULTADOS IDIOMAS \"\n",
    "}\n",
    "predicted_id, probabilty = predict_incoming_offer(incoming_offer, vocabulary, model, dict_label_ids)\n",
    "print(predicted_id)"
   ]
  },
  {
   "cell_type": "code",
   "execution_count": 45,
   "metadata": {},
   "outputs": [
    {
     "name": "stdout",
     "output_type": "stream",
     "text": [
      "1/1 [==============================] - 0s 24ms/step\n"
     ]
    },
    {
     "name": "stdout",
     "output_type": "stream",
     "text": [
      "{1: 0.8095238, 3: 0.13128905, 353: 0.034258086, 56: 0.008483502, 22: 0.0034422153, 24: 0.0025340067, 570: 0.0019313075, 25: 0.0019065547, 531: 0.0016856284, 5: 0.0008836311}\n",
      "1\n"
     ]
    }
   ],
   "source": [
    "# Assuming vector_test is a Pandas Series containing feature arrays\n",
    "# Convert the first element of vector_test to a NumPy array and reshape it\n",
    "index = 0\n",
    "input_sample = np.array(vector_test[index]).reshape(1, -1)\n",
    "\n",
    "# Predict the probability for the reshaped input sample\n",
    "predictions = model.predict(input_sample)\n",
    "\n",
    "# Get the class labels and their corresponding probabilities\n",
    "class_labels = np.arange(min(train_labels), max(train_labels) + 1)\n",
    "class_probabilities = predictions[0]\n",
    "\n",
    "# Create a dictionary with labels as keys and probabilities as values\n",
    "probabilities_dict = dict(zip(class_labels, class_probabilities))\n",
    "# Now get the top 10 labels with the highest probabilities\n",
    "top10_labels = dict(sorted(probabilities_dict.items(), key=lambda item: item[1], reverse=True)[:10])\n",
    "print(top10_labels)\n",
    "# Now get the label with the highest probability\n",
    "highest_prob_label = max(probabilities_dict, key=probabilities_dict.get)\n",
    "print(highest_prob_label)"
   ]
  },
  {
   "cell_type": "code",
   "execution_count": 46,
   "metadata": {},
   "outputs": [
    {
     "name": "stdout",
     "output_type": "stream",
     "text": [
      "1/1 [==============================] - 0s 23ms/step\n",
      "1/1 [==============================] - 0s 25ms/step\n",
      "1/1 [==============================] - 0s 27ms/step\n",
      "1/1 [==============================] - 0s 22ms/step\n",
      "1/1 [==============================] - 0s 22ms/step\n",
      "1/1 [==============================] - 0s 22ms/step\n",
      "1/1 [==============================] - 0s 22ms/step\n",
      "1/1 [==============================] - 0s 21ms/step\n",
      "1/1 [==============================] - 0s 23ms/step\n",
      "1/1 [==============================] - 0s 22ms/step\n",
      "1/1 [==============================] - 0s 22ms/step\n",
      "1/1 [==============================] - 0s 22ms/step\n",
      "1/1 [==============================] - 0s 21ms/step\n",
      "1/1 [==============================] - 0s 21ms/step\n",
      "1/1 [==============================] - 0s 22ms/step\n",
      "1/1 [==============================] - 0s 22ms/step\n",
      "1/1 [==============================] - 0s 22ms/step\n",
      "1/1 [==============================] - 0s 22ms/step\n",
      "1/1 [==============================] - 0s 22ms/step\n",
      "1/1 [==============================] - 0s 22ms/step\n",
      "1/1 [==============================] - 0s 22ms/step\n",
      "1/1 [==============================] - 0s 23ms/step\n",
      "1/1 [==============================] - 0s 23ms/step\n",
      "1/1 [==============================] - 0s 24ms/step\n",
      "1/1 [==============================] - 0s 23ms/step\n",
      "1/1 [==============================] - 0s 23ms/step\n",
      "1/1 [==============================] - 0s 23ms/step\n",
      "1/1 [==============================] - 0s 24ms/step\n",
      "1/1 [==============================] - 0s 23ms/step\n",
      "1/1 [==============================] - 0s 23ms/step\n",
      "1/1 [==============================] - 0s 22ms/step\n",
      "1/1 [==============================] - 0s 22ms/step\n",
      "1/1 [==============================] - 0s 23ms/step\n",
      "1/1 [==============================] - 0s 23ms/step\n",
      "1/1 [==============================] - 0s 23ms/step\n",
      "1/1 [==============================] - 0s 22ms/step\n",
      "1/1 [==============================] - 0s 22ms/step\n",
      "1/1 [==============================] - 0s 22ms/step\n",
      "1/1 [==============================] - 0s 22ms/step\n",
      "1/1 [==============================] - 0s 22ms/step\n",
      "1/1 [==============================] - 0s 27ms/step\n",
      "1/1 [==============================] - 0s 25ms/step\n",
      "1/1 [==============================] - 0s 25ms/step\n",
      "1/1 [==============================] - 0s 24ms/step\n",
      "1/1 [==============================] - 0s 22ms/step\n",
      "1/1 [==============================] - 0s 22ms/step\n",
      "1/1 [==============================] - 0s 23ms/step\n",
      "1/1 [==============================] - 0s 22ms/step\n",
      "1/1 [==============================] - 0s 22ms/step\n",
      "1/1 [==============================] - 0s 22ms/step\n",
      "1/1 [==============================] - 0s 23ms/step\n",
      "1/1 [==============================] - 0s 23ms/step\n",
      "1/1 [==============================] - 0s 22ms/step\n",
      "1/1 [==============================] - 0s 22ms/step\n",
      "1/1 [==============================] - 0s 22ms/step\n",
      "1/1 [==============================] - 0s 22ms/step\n",
      "1/1 [==============================] - 0s 22ms/step\n",
      "1/1 [==============================] - 0s 22ms/step\n",
      "1/1 [==============================] - 0s 22ms/step\n",
      "1/1 [==============================] - 0s 23ms/step\n",
      "1/1 [==============================] - 0s 22ms/step\n",
      "1/1 [==============================] - 0s 22ms/step\n",
      "1/1 [==============================] - 0s 22ms/step\n",
      "1/1 [==============================] - 0s 22ms/step\n",
      "1/1 [==============================] - 0s 22ms/step\n",
      "1/1 [==============================] - 0s 21ms/step\n",
      "1/1 [==============================] - 0s 22ms/step\n",
      "1/1 [==============================] - 0s 22ms/step\n"
     ]
    },
    {
     "ename": "KeyboardInterrupt",
     "evalue": "",
     "output_type": "error",
     "traceback": [
      "\u001b[0;31m---------------------------------------------------------------------------\u001b[0m",
      "\u001b[0;31mKeyboardInterrupt\u001b[0m                         Traceback (most recent call last)",
      "Cell \u001b[0;32mIn[46], line 9\u001b[0m\n\u001b[1;32m      6\u001b[0m input_sample \u001b[39m=\u001b[39m np\u001b[39m.\u001b[39marray(features)\u001b[39m.\u001b[39mreshape(\u001b[39m1\u001b[39m, \u001b[39m-\u001b[39m\u001b[39m1\u001b[39m)\n\u001b[1;32m      8\u001b[0m \u001b[39m# Predict the probability for the reshaped input sample\u001b[39;00m\n\u001b[0;32m----> 9\u001b[0m predictions \u001b[39m=\u001b[39m model\u001b[39m.\u001b[39;49mpredict(input_sample)\n\u001b[1;32m     11\u001b[0m \u001b[39m# Get the index of the class with the highest probability\u001b[39;00m\n\u001b[1;32m     12\u001b[0m predicted_class \u001b[39m=\u001b[39m np\u001b[39m.\u001b[39margmax(predictions)\n",
      "File \u001b[0;32m~/NLP_Clasifier/.venv/lib64/python3.9/site-packages/keras/utils/traceback_utils.py:65\u001b[0m, in \u001b[0;36mfilter_traceback.<locals>.error_handler\u001b[0;34m(*args, **kwargs)\u001b[0m\n\u001b[1;32m     63\u001b[0m filtered_tb \u001b[39m=\u001b[39m \u001b[39mNone\u001b[39;00m\n\u001b[1;32m     64\u001b[0m \u001b[39mtry\u001b[39;00m:\n\u001b[0;32m---> 65\u001b[0m     \u001b[39mreturn\u001b[39;00m fn(\u001b[39m*\u001b[39;49margs, \u001b[39m*\u001b[39;49m\u001b[39m*\u001b[39;49mkwargs)\n\u001b[1;32m     66\u001b[0m \u001b[39mexcept\u001b[39;00m \u001b[39mException\u001b[39;00m \u001b[39mas\u001b[39;00m e:\n\u001b[1;32m     67\u001b[0m     filtered_tb \u001b[39m=\u001b[39m _process_traceback_frames(e\u001b[39m.\u001b[39m__traceback__)\n",
      "File \u001b[0;32m~/NLP_Clasifier/.venv/lib64/python3.9/site-packages/keras/engine/training.py:2349\u001b[0m, in \u001b[0;36mModel.predict\u001b[0;34m(self, x, batch_size, verbose, steps, callbacks, max_queue_size, workers, use_multiprocessing)\u001b[0m\n\u001b[1;32m   2340\u001b[0m     \u001b[39mexcept\u001b[39;00m \u001b[39mValueError\u001b[39;00m:\n\u001b[1;32m   2341\u001b[0m         warnings\u001b[39m.\u001b[39mwarn(\n\u001b[1;32m   2342\u001b[0m             \u001b[39m\"\u001b[39m\u001b[39mUsing Model.predict with MultiWorkerMirroredStrategy \u001b[39m\u001b[39m\"\u001b[39m\n\u001b[1;32m   2343\u001b[0m             \u001b[39m\"\u001b[39m\u001b[39mor TPUStrategy and AutoShardPolicy.FILE might lead to \u001b[39m\u001b[39m\"\u001b[39m\n\u001b[0;32m   (...)\u001b[0m\n\u001b[1;32m   2346\u001b[0m             stacklevel\u001b[39m=\u001b[39m\u001b[39m2\u001b[39m,\n\u001b[1;32m   2347\u001b[0m         )\n\u001b[0;32m-> 2349\u001b[0m data_handler \u001b[39m=\u001b[39m data_adapter\u001b[39m.\u001b[39;49mget_data_handler(\n\u001b[1;32m   2350\u001b[0m     x\u001b[39m=\u001b[39;49mx,\n\u001b[1;32m   2351\u001b[0m     batch_size\u001b[39m=\u001b[39;49mbatch_size,\n\u001b[1;32m   2352\u001b[0m     steps_per_epoch\u001b[39m=\u001b[39;49msteps,\n\u001b[1;32m   2353\u001b[0m     initial_epoch\u001b[39m=\u001b[39;49m\u001b[39m0\u001b[39;49m,\n\u001b[1;32m   2354\u001b[0m     epochs\u001b[39m=\u001b[39;49m\u001b[39m1\u001b[39;49m,\n\u001b[1;32m   2355\u001b[0m     max_queue_size\u001b[39m=\u001b[39;49mmax_queue_size,\n\u001b[1;32m   2356\u001b[0m     workers\u001b[39m=\u001b[39;49mworkers,\n\u001b[1;32m   2357\u001b[0m     use_multiprocessing\u001b[39m=\u001b[39;49muse_multiprocessing,\n\u001b[1;32m   2358\u001b[0m     model\u001b[39m=\u001b[39;49m\u001b[39mself\u001b[39;49m,\n\u001b[1;32m   2359\u001b[0m     steps_per_execution\u001b[39m=\u001b[39;49m\u001b[39mself\u001b[39;49m\u001b[39m.\u001b[39;49m_steps_per_execution,\n\u001b[1;32m   2360\u001b[0m )\n\u001b[1;32m   2362\u001b[0m \u001b[39m# Container that configures and calls `tf.keras.Callback`s.\u001b[39;00m\n\u001b[1;32m   2363\u001b[0m \u001b[39mif\u001b[39;00m \u001b[39mnot\u001b[39;00m \u001b[39misinstance\u001b[39m(callbacks, callbacks_module\u001b[39m.\u001b[39mCallbackList):\n",
      "File \u001b[0;32m~/NLP_Clasifier/.venv/lib64/python3.9/site-packages/keras/engine/data_adapter.py:1583\u001b[0m, in \u001b[0;36mget_data_handler\u001b[0;34m(*args, **kwargs)\u001b[0m\n\u001b[1;32m   1581\u001b[0m \u001b[39mif\u001b[39;00m \u001b[39mgetattr\u001b[39m(kwargs[\u001b[39m\"\u001b[39m\u001b[39mmodel\u001b[39m\u001b[39m\"\u001b[39m], \u001b[39m\"\u001b[39m\u001b[39m_cluster_coordinator\u001b[39m\u001b[39m\"\u001b[39m, \u001b[39mNone\u001b[39;00m):\n\u001b[1;32m   1582\u001b[0m     \u001b[39mreturn\u001b[39;00m _ClusterCoordinatorDataHandler(\u001b[39m*\u001b[39margs, \u001b[39m*\u001b[39m\u001b[39m*\u001b[39mkwargs)\n\u001b[0;32m-> 1583\u001b[0m \u001b[39mreturn\u001b[39;00m DataHandler(\u001b[39m*\u001b[39;49margs, \u001b[39m*\u001b[39;49m\u001b[39m*\u001b[39;49mkwargs)\n",
      "File \u001b[0;32m~/NLP_Clasifier/.venv/lib64/python3.9/site-packages/keras/engine/data_adapter.py:1260\u001b[0m, in \u001b[0;36mDataHandler.__init__\u001b[0;34m(self, x, y, sample_weight, batch_size, steps_per_epoch, initial_epoch, epochs, shuffle, class_weight, max_queue_size, workers, use_multiprocessing, model, steps_per_execution, distribute)\u001b[0m\n\u001b[1;32m   1257\u001b[0m     \u001b[39mself\u001b[39m\u001b[39m.\u001b[39m_steps_per_execution \u001b[39m=\u001b[39m steps_per_execution\n\u001b[1;32m   1259\u001b[0m adapter_cls \u001b[39m=\u001b[39m select_data_adapter(x, y)\n\u001b[0;32m-> 1260\u001b[0m \u001b[39mself\u001b[39m\u001b[39m.\u001b[39m_adapter \u001b[39m=\u001b[39m adapter_cls(\n\u001b[1;32m   1261\u001b[0m     x,\n\u001b[1;32m   1262\u001b[0m     y,\n\u001b[1;32m   1263\u001b[0m     batch_size\u001b[39m=\u001b[39;49mbatch_size,\n\u001b[1;32m   1264\u001b[0m     steps\u001b[39m=\u001b[39;49msteps_per_epoch,\n\u001b[1;32m   1265\u001b[0m     epochs\u001b[39m=\u001b[39;49mepochs \u001b[39m-\u001b[39;49m initial_epoch,\n\u001b[1;32m   1266\u001b[0m     sample_weights\u001b[39m=\u001b[39;49msample_weight,\n\u001b[1;32m   1267\u001b[0m     shuffle\u001b[39m=\u001b[39;49mshuffle,\n\u001b[1;32m   1268\u001b[0m     max_queue_size\u001b[39m=\u001b[39;49mmax_queue_size,\n\u001b[1;32m   1269\u001b[0m     workers\u001b[39m=\u001b[39;49mworkers,\n\u001b[1;32m   1270\u001b[0m     use_multiprocessing\u001b[39m=\u001b[39;49muse_multiprocessing,\n\u001b[1;32m   1271\u001b[0m     distribution_strategy\u001b[39m=\u001b[39;49mtf\u001b[39m.\u001b[39;49mdistribute\u001b[39m.\u001b[39;49mget_strategy(),\n\u001b[1;32m   1272\u001b[0m     model\u001b[39m=\u001b[39;49mmodel,\n\u001b[1;32m   1273\u001b[0m )\n\u001b[1;32m   1275\u001b[0m strategy \u001b[39m=\u001b[39m tf\u001b[39m.\u001b[39mdistribute\u001b[39m.\u001b[39mget_strategy()\n\u001b[1;32m   1277\u001b[0m \u001b[39mself\u001b[39m\u001b[39m.\u001b[39m_current_step \u001b[39m=\u001b[39m \u001b[39m0\u001b[39m\n",
      "File \u001b[0;32m~/NLP_Clasifier/.venv/lib64/python3.9/site-packages/keras/engine/data_adapter.py:346\u001b[0m, in \u001b[0;36mTensorLikeDataAdapter.__init__\u001b[0;34m(self, x, y, sample_weights, sample_weight_modes, batch_size, epochs, steps, shuffle, **kwargs)\u001b[0m\n\u001b[1;32m    343\u001b[0m         flat_dataset \u001b[39m=\u001b[39m flat_dataset\u001b[39m.\u001b[39mshuffle(\u001b[39m1024\u001b[39m)\u001b[39m.\u001b[39mrepeat(epochs)\n\u001b[1;32m    344\u001b[0m     \u001b[39mreturn\u001b[39;00m flat_dataset\n\u001b[0;32m--> 346\u001b[0m indices_dataset \u001b[39m=\u001b[39m indices_dataset\u001b[39m.\u001b[39;49mflat_map(slice_batch_indices)\n\u001b[1;32m    348\u001b[0m dataset \u001b[39m=\u001b[39m \u001b[39mself\u001b[39m\u001b[39m.\u001b[39mslice_inputs(indices_dataset, inputs)\n\u001b[1;32m    350\u001b[0m \u001b[39mif\u001b[39;00m shuffle \u001b[39m==\u001b[39m \u001b[39m\"\u001b[39m\u001b[39mbatch\u001b[39m\u001b[39m\"\u001b[39m:\n",
      "File \u001b[0;32m~/NLP_Clasifier/.venv/lib64/python3.9/site-packages/tensorflow/python/data/ops/dataset_ops.py:2285\u001b[0m, in \u001b[0;36mDatasetV2.flat_map\u001b[0;34m(self, map_func, name)\u001b[0m\n\u001b[1;32m   2281\u001b[0m \u001b[39m# Loaded lazily due to a circular dependency (dataset_ops -> flat_map_op ->\u001b[39;00m\n\u001b[1;32m   2282\u001b[0m \u001b[39m# dataset_ops).\u001b[39;00m\n\u001b[1;32m   2283\u001b[0m \u001b[39m# pylint: disable=g-import-not-at-top,protected-access\u001b[39;00m\n\u001b[1;32m   2284\u001b[0m \u001b[39mfrom\u001b[39;00m \u001b[39mtensorflow\u001b[39;00m\u001b[39m.\u001b[39;00m\u001b[39mpython\u001b[39;00m\u001b[39m.\u001b[39;00m\u001b[39mdata\u001b[39;00m\u001b[39m.\u001b[39;00m\u001b[39mops\u001b[39;00m \u001b[39mimport\u001b[39;00m flat_map_op\n\u001b[0;32m-> 2285\u001b[0m \u001b[39mreturn\u001b[39;00m flat_map_op\u001b[39m.\u001b[39;49m_flat_map(\u001b[39mself\u001b[39;49m, map_func, name\u001b[39m=\u001b[39;49mname)\n",
      "File \u001b[0;32m~/NLP_Clasifier/.venv/lib64/python3.9/site-packages/tensorflow/python/data/ops/flat_map_op.py:24\u001b[0m, in \u001b[0;36m_flat_map\u001b[0;34m(input_dataset, map_func, name)\u001b[0m\n\u001b[1;32m     22\u001b[0m \u001b[39mdef\u001b[39;00m \u001b[39m_flat_map\u001b[39m(input_dataset, map_func, name\u001b[39m=\u001b[39m\u001b[39mNone\u001b[39;00m):  \u001b[39m# pylint: disable=unused-private-name\u001b[39;00m\n\u001b[1;32m     23\u001b[0m \u001b[39m  \u001b[39m\u001b[39m\"\"\"See `Dataset.flat_map()` for details.\"\"\"\u001b[39;00m\n\u001b[0;32m---> 24\u001b[0m   \u001b[39mreturn\u001b[39;00m _FlatMapDataset(input_dataset, map_func, name)\n",
      "File \u001b[0;32m~/NLP_Clasifier/.venv/lib64/python3.9/site-packages/tensorflow/python/data/ops/flat_map_op.py:42\u001b[0m, in \u001b[0;36m_FlatMapDataset.__init__\u001b[0;34m(self, input_dataset, map_func, name)\u001b[0m\n\u001b[1;32m     40\u001b[0m \u001b[39mself\u001b[39m\u001b[39m.\u001b[39m_structure \u001b[39m=\u001b[39m \u001b[39mself\u001b[39m\u001b[39m.\u001b[39m_map_func\u001b[39m.\u001b[39moutput_structure\u001b[39m.\u001b[39m_element_spec\n\u001b[1;32m     41\u001b[0m \u001b[39mself\u001b[39m\u001b[39m.\u001b[39m_name \u001b[39m=\u001b[39m name\n\u001b[0;32m---> 42\u001b[0m variant_tensor \u001b[39m=\u001b[39m gen_dataset_ops\u001b[39m.\u001b[39;49mflat_map_dataset(\n\u001b[1;32m     43\u001b[0m     input_dataset\u001b[39m.\u001b[39;49m_variant_tensor,  \u001b[39m# pylint: disable=protected-access\u001b[39;49;00m\n\u001b[1;32m     44\u001b[0m     \u001b[39mself\u001b[39;49m\u001b[39m.\u001b[39;49m_map_func\u001b[39m.\u001b[39;49mfunction\u001b[39m.\u001b[39;49mcaptured_inputs,\n\u001b[1;32m     45\u001b[0m     f\u001b[39m=\u001b[39;49m\u001b[39mself\u001b[39;49m\u001b[39m.\u001b[39;49m_map_func\u001b[39m.\u001b[39;49mfunction,\n\u001b[1;32m     46\u001b[0m     \u001b[39m*\u001b[39;49m\u001b[39m*\u001b[39;49m\u001b[39mself\u001b[39;49m\u001b[39m.\u001b[39;49m_common_args)\n\u001b[1;32m     47\u001b[0m \u001b[39msuper\u001b[39m()\u001b[39m.\u001b[39m\u001b[39m__init__\u001b[39m(input_dataset, variant_tensor)\n",
      "File \u001b[0;32m~/NLP_Clasifier/.venv/lib64/python3.9/site-packages/tensorflow/python/ops/gen_dataset_ops.py:2356\u001b[0m, in \u001b[0;36mflat_map_dataset\u001b[0;34m(input_dataset, other_arguments, f, output_types, output_shapes, metadata, name)\u001b[0m\n\u001b[1;32m   2354\u001b[0m \u001b[39mif\u001b[39;00m tld\u001b[39m.\u001b[39mis_eager:\n\u001b[1;32m   2355\u001b[0m   \u001b[39mtry\u001b[39;00m:\n\u001b[0;32m-> 2356\u001b[0m     _result \u001b[39m=\u001b[39m pywrap_tfe\u001b[39m.\u001b[39;49mTFE_Py_FastPathExecute(\n\u001b[1;32m   2357\u001b[0m       _ctx, \u001b[39m\"\u001b[39;49m\u001b[39mFlatMapDataset\u001b[39;49m\u001b[39m\"\u001b[39;49m, name, input_dataset, other_arguments, \u001b[39m\"\u001b[39;49m\u001b[39mf\u001b[39;49m\u001b[39m\"\u001b[39;49m, f,\n\u001b[1;32m   2358\u001b[0m       \u001b[39m\"\u001b[39;49m\u001b[39moutput_types\u001b[39;49m\u001b[39m\"\u001b[39;49m, output_types, \u001b[39m\"\u001b[39;49m\u001b[39moutput_shapes\u001b[39;49m\u001b[39m\"\u001b[39;49m, output_shapes,\n\u001b[1;32m   2359\u001b[0m       \u001b[39m\"\u001b[39;49m\u001b[39mmetadata\u001b[39;49m\u001b[39m\"\u001b[39;49m, metadata)\n\u001b[1;32m   2360\u001b[0m     \u001b[39mreturn\u001b[39;00m _result\n\u001b[1;32m   2361\u001b[0m   \u001b[39mexcept\u001b[39;00m _core\u001b[39m.\u001b[39m_NotOkStatusException \u001b[39mas\u001b[39;00m e:\n",
      "\u001b[0;31mKeyboardInterrupt\u001b[0m: "
     ]
    }
   ],
   "source": [
    "correct_predictions = 0\n",
    "total_samples = len(vector_test)\n",
    "\n",
    "for i, features in enumerate(vector_test):\n",
    "    # Convert the features to a NumPy array and reshape it\n",
    "    input_sample = np.array(features).reshape(1, -1)\n",
    "    \n",
    "    # Predict the probability for the reshaped input sample\n",
    "    predictions = model.predict(input_sample)\n",
    "    \n",
    "    # Get the index of the class with the highest probability\n",
    "    predicted_class = np.argmax(predictions)\n",
    "    \n",
    "    # Get the corresponding actual class label from vector_test_labels\n",
    "    actual_class = test_labels[i]\n",
    "    \n",
    "    # Compare predicted and actual classes\n",
    "    if predicted_class == actual_class:\n",
    "        correct_predictions += 1\n",
    "\n",
    "# Calculate accuracy\n",
    "accuracy = correct_predictions / total_samples\n",
    "print(\"Accuracy:\", accuracy)\n"
   ]
  },
  {
   "cell_type": "code",
   "execution_count": null,
   "metadata": {},
   "outputs": [
    {
     "name": "stdout",
     "output_type": "stream",
     "text": [
      "15/15 [==============================] - 0s 2ms/step\n",
      "Accuracy: 0.0\n"
     ]
    },
    {
     "name": "stderr",
     "output_type": "stream",
     "text": [
      "2023-08-08 09:56:08.516854: W tensorflow/tsl/framework/cpu_allocator_impl.cc:83] Allocation of 17506128 exceeds 10% of free system memory.\n"
     ]
    }
   ],
   "source": [
    "import numpy as np\n",
    "\n",
    "# Assuming vector_test is a Pandas Series containing feature arrays\n",
    "# and vector_test_labels is a list of actual class labels\n",
    "\n",
    "# Convert vector_test to a NumPy array\n",
    "vector_test_array = np.vstack(vector_test)\n",
    "\n",
    "# Predict class probabilities for all samples in vector_test\n",
    "predictions = model.predict(vector_test_array)\n",
    "\n",
    "# Get the predicted classes for each sample\n",
    "predicted_classes = np.argmax(predictions, axis=1)\n",
    "\n",
    "# Convert vector_test_labels to a NumPy array\n",
    "vector_test_labels_array = np.array(test_labels + 12)\n",
    "\n",
    "# Compare predicted classes with actual classes\n",
    "correct_predictions = np.sum(predicted_classes == vector_test_labels_array)\n",
    "\n",
    "# Calculate accuracy\n",
    "accuracy = correct_predictions / len(vector_test)\n",
    "print(\"Accuracy:\", accuracy)"
   ]
  },
  {
   "cell_type": "code",
   "execution_count": null,
   "metadata": {},
   "outputs": [
    {
     "name": "stdout",
     "output_type": "stream",
     "text": [
      "4646\n",
      "45\n"
     ]
    }
   ],
   "source": [
    "print(len(vector_test_array[0]))\n",
    "print(predicted_classes[0])"
   ]
  }
 ],
 "metadata": {
  "kernelspec": {
   "display_name": ".venv",
   "language": "python",
   "name": "python3"
  },
  "language_info": {
   "codemirror_mode": {
    "name": "ipython",
    "version": 3
   },
   "file_extension": ".py",
   "mimetype": "text/x-python",
   "name": "python",
   "nbconvert_exporter": "python",
   "pygments_lexer": "ipython3",
   "version": "3.9.16"
  },
  "orig_nbformat": 4
 },
 "nbformat": 4,
 "nbformat_minor": 2
}
