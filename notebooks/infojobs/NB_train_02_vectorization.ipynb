{
 "cells": [
  {
   "cell_type": "code",
   "execution_count": 1,
   "metadata": {},
   "outputs": [],
   "source": [
    "from functions import *\n",
    "import pandas as pd"
   ]
  },
  {
   "cell_type": "markdown",
   "metadata": {},
   "source": [
    "# Import training data"
   ]
  },
  {
   "cell_type": "code",
   "execution_count": 2,
   "metadata": {},
   "outputs": [
    {
     "name": "stdout",
     "output_type": "stream",
     "text": [
      "(47387, 8)\n"
     ]
    },
    {
     "data": {
      "text/html": [
       "<div>\n",
       "<style scoped>\n",
       "    .dataframe tbody tr th:only-of-type {\n",
       "        vertical-align: middle;\n",
       "    }\n",
       "\n",
       "    .dataframe tbody tr th {\n",
       "        vertical-align: top;\n",
       "    }\n",
       "\n",
       "    .dataframe thead th {\n",
       "        text-align: right;\n",
       "    }\n",
       "</style>\n",
       "<table border=\"1\" class=\"dataframe\">\n",
       "  <thead>\n",
       "    <tr style=\"text-align: right;\">\n",
       "      <th></th>\n",
       "      <th>ID_OFERTA</th>\n",
       "      <th>CATEGORIA</th>\n",
       "      <th>SUBCATEGORIA</th>\n",
       "      <th>PALABRAS_EMPLEO_TEXTO</th>\n",
       "      <th>ID_PUESTO_ESCO_ULL</th>\n",
       "      <th>FECHA</th>\n",
       "      <th>NUM_WORDS</th>\n",
       "      <th>RELATIVE_SIGNATURE</th>\n",
       "    </tr>\n",
       "  </thead>\n",
       "  <tbody>\n",
       "    <tr>\n",
       "      <th>0</th>\n",
       "      <td>dc5f86a9d8452a81661e92751c0a91</td>\n",
       "      <td>Sanidad y salud</td>\n",
       "      <td>Otras profesiones sanitarias</td>\n",
       "      <td>AUXILIAR MEDICINA ESTETICA CLIENTES EXPERIENCI...</td>\n",
       "      <td>1928</td>\n",
       "      <td>24/08/21</td>\n",
       "      <td>22</td>\n",
       "      <td>0.61</td>\n",
       "    </tr>\n",
       "    <tr>\n",
       "      <th>1</th>\n",
       "      <td>7c31cf577845c79b09140a07ce1d89</td>\n",
       "      <td>Otros</td>\n",
       "      <td>Sin especificar</td>\n",
       "      <td>ACTIVOS RRHH TRABAJO TECNICO MANTENIMIENTO EMB...</td>\n",
       "      <td>2865</td>\n",
       "      <td>04/11/22</td>\n",
       "      <td>17</td>\n",
       "      <td>0.54</td>\n",
       "    </tr>\n",
       "    <tr>\n",
       "      <th>2</th>\n",
       "      <td>0879ec89204a6d88c0629ce69eb11f</td>\n",
       "      <td>Atención a clientes</td>\n",
       "      <td>Atención al cliente</td>\n",
       "      <td>VENDEDOR EQUIPOS COMBUSTIBLE SERVICIOS RED VEN...</td>\n",
       "      <td>2013</td>\n",
       "      <td>04/05/23</td>\n",
       "      <td>63</td>\n",
       "      <td>0.82</td>\n",
       "    </tr>\n",
       "    <tr>\n",
       "      <th>3</th>\n",
       "      <td>8810421ae841e4a8fc4554bbacb083</td>\n",
       "      <td>Comercial y ventas</td>\n",
       "      <td>Comercial</td>\n",
       "      <td>VENDEDOR TIEMPO VENDER</td>\n",
       "      <td>2013</td>\n",
       "      <td>13/05/21</td>\n",
       "      <td>4</td>\n",
       "      <td>0.05</td>\n",
       "    </tr>\n",
       "    <tr>\n",
       "      <th>4</th>\n",
       "      <td>96e9c520b54979a1504a520a8ccd42</td>\n",
       "      <td>Atención a clientes</td>\n",
       "      <td>Atención al cliente</td>\n",
       "      <td>ASESORES CLIENTES TALLERES SERVICIOS EQUIPOS V...</td>\n",
       "      <td>1835</td>\n",
       "      <td>17/05/22</td>\n",
       "      <td>47</td>\n",
       "      <td>0.49</td>\n",
       "    </tr>\n",
       "  </tbody>\n",
       "</table>\n",
       "</div>"
      ],
      "text/plain": [
       "                        ID_OFERTA            CATEGORIA  \\\n",
       "0  dc5f86a9d8452a81661e92751c0a91      Sanidad y salud   \n",
       "1  7c31cf577845c79b09140a07ce1d89                Otros   \n",
       "2  0879ec89204a6d88c0629ce69eb11f  Atención a clientes   \n",
       "3  8810421ae841e4a8fc4554bbacb083   Comercial y ventas   \n",
       "4  96e9c520b54979a1504a520a8ccd42  Atención a clientes   \n",
       "\n",
       "                   SUBCATEGORIA  \\\n",
       "0  Otras profesiones sanitarias   \n",
       "1               Sin especificar   \n",
       "2           Atención al cliente   \n",
       "3                     Comercial   \n",
       "4           Atención al cliente   \n",
       "\n",
       "                               PALABRAS_EMPLEO_TEXTO  ID_PUESTO_ESCO_ULL  \\\n",
       "0  AUXILIAR MEDICINA ESTETICA CLIENTES EXPERIENCI...                1928   \n",
       "1  ACTIVOS RRHH TRABAJO TECNICO MANTENIMIENTO EMB...                2865   \n",
       "2  VENDEDOR EQUIPOS COMBUSTIBLE SERVICIOS RED VEN...                2013   \n",
       "3                            VENDEDOR TIEMPO VENDER                 2013   \n",
       "4  ASESORES CLIENTES TALLERES SERVICIOS EQUIPOS V...                1835   \n",
       "\n",
       "      FECHA  NUM_WORDS  RELATIVE_SIGNATURE  \n",
       "0  24/08/21         22                0.61  \n",
       "1  04/11/22         17                0.54  \n",
       "2  04/05/23         63                0.82  \n",
       "3  13/05/21          4                0.05  \n",
       "4  17/05/22         47                0.49  "
      ]
     },
     "execution_count": 2,
     "metadata": {},
     "output_type": "execute_result"
    }
   ],
   "source": [
    "path_df_train = '../../data/train/TRAIN_filter.json'\n",
    "df_train = pd.read_json(path_df_train, orient='records')\n",
    "# Transform columns to uppercase\n",
    "df_train.columns = map(str.upper, df_train.columns)\n",
    "print(df_train.shape)\n",
    "df_train.head()"
   ]
  },
  {
   "cell_type": "markdown",
   "metadata": {},
   "source": [
    "# Create Vector and Vocabulary"
   ]
  },
  {
   "cell_type": "code",
   "execution_count": 3,
   "metadata": {},
   "outputs": [
    {
     "name": "stderr",
     "output_type": "stream",
     "text": [
      "/home/fulp/clasificador_ofertas_empleo/clasificador-ofertas-empleo-modelo/.venv/lib64/python3.9/site-packages/sklearn/feature_extraction/text.py:525: UserWarning: The parameter 'token_pattern' will not be used since 'tokenizer' is not None'\n",
      "  warnings.warn(\n",
      "/home/fulp/clasificador_ofertas_empleo/clasificador-ofertas-empleo-modelo/.venv/lib64/python3.9/site-packages/sklearn/feature_extraction/text.py:525: UserWarning: The parameter 'token_pattern' will not be used since 'tokenizer' is not None'\n",
      "  warnings.warn(\n",
      "/home/fulp/clasificador_ofertas_empleo/clasificador-ofertas-empleo-modelo/.venv/lib64/python3.9/site-packages/sklearn/feature_extraction/text.py:525: UserWarning: The parameter 'token_pattern' will not be used since 'tokenizer' is not None'\n",
      "  warnings.warn(\n"
     ]
    }
   ],
   "source": [
    "from functions.vocabulary import create_vocabulary, save_vocabulary, load_vocabulary, filter_vocabulary, get_vocabulary_dimension\n",
    "from functions.vectorization import create_vectorize_dataframe, save_vectorized_dataframe\n",
    "# Create vocabulary\n",
    "vocabulary = create_vocabulary(df_train)\n",
    "# Save vocabulary\n",
    "save_vocabulary(vocabulary, '../../data/train/vocabulary.json')\n",
    "# Create vectorized dataframe\n",
    "df_train_vectorized = create_vectorize_dataframe(df_train, vocabulary)\n",
    "# Save vectorized dataframe\n",
    "save_vectorized_dataframe(df_train_vectorized, '../../data/train/df_train_vectorized.npy')"
   ]
  },
  {
   "cell_type": "code",
   "execution_count": 4,
   "metadata": {},
   "outputs": [
    {
     "name": "stdout",
     "output_type": "stream",
     "text": [
      "4562\n"
     ]
    }
   ],
   "source": [
    "print(get_vocabulary_dimension(vocabulary))"
   ]
  }
 ],
 "metadata": {
  "kernelspec": {
   "display_name": ".venv",
   "language": "python",
   "name": "python3"
  },
  "language_info": {
   "codemirror_mode": {
    "name": "ipython",
    "version": 3
   },
   "file_extension": ".py",
   "mimetype": "text/x-python",
   "name": "python",
   "nbconvert_exporter": "python",
   "pygments_lexer": "ipython3",
   "version": "3.9.16"
  },
  "orig_nbformat": 4
 },
 "nbformat": 4,
 "nbformat_minor": 2
}
