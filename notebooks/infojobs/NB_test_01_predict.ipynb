{
 "cells": [
  {
   "cell_type": "markdown",
   "metadata": {},
   "source": [
    "# Import libraries"
   ]
  },
  {
   "cell_type": "code",
   "execution_count": 16,
   "metadata": {},
   "outputs": [],
   "source": [
    "from functions.vectorization import *\n",
    "from functions.labelization import *\n",
    "from functions.vocabulary import *\n",
    "from functions.model import *\n",
    "from functions.predict import *\n",
    "from functions.tools import *\n",
    "from sklearn.metrics import accuracy_score\n",
    "from matplotlib import pyplot as plt"
   ]
  },
  {
   "cell_type": "markdown",
   "metadata": {},
   "source": [
    "# Import data"
   ]
  },
  {
   "cell_type": "code",
   "execution_count": 17,
   "metadata": {},
   "outputs": [
    {
     "data": {
      "text/html": [
       "<div>\n",
       "<style scoped>\n",
       "    .dataframe tbody tr th:only-of-type {\n",
       "        vertical-align: middle;\n",
       "    }\n",
       "\n",
       "    .dataframe tbody tr th {\n",
       "        vertical-align: top;\n",
       "    }\n",
       "\n",
       "    .dataframe thead th {\n",
       "        text-align: right;\n",
       "    }\n",
       "</style>\n",
       "<table border=\"1\" class=\"dataframe\">\n",
       "  <thead>\n",
       "    <tr style=\"text-align: right;\">\n",
       "      <th></th>\n",
       "      <th>ID_OFERTA</th>\n",
       "      <th>CATEGORIA</th>\n",
       "      <th>SUBCATEGORIA</th>\n",
       "      <th>PALABRAS_EMPLEO_TEXTO</th>\n",
       "      <th>ID_PUESTO_ESCO</th>\n",
       "      <th>NUM_WORDS</th>\n",
       "    </tr>\n",
       "  </thead>\n",
       "  <tbody>\n",
       "    <tr>\n",
       "      <th>0</th>\n",
       "      <td>3a082f4f434fad8f4984cd46e3f3b6</td>\n",
       "      <td>Informática y telecomunicaciones</td>\n",
       "      <td>Telecomunicaciones</td>\n",
       "      <td>TECNICO REPARACIONES EQUIPOS ELECTRONICA COMUN...</td>\n",
       "      <td>NaN</td>\n",
       "      <td>21</td>\n",
       "    </tr>\n",
       "    <tr>\n",
       "      <th>1</th>\n",
       "      <td>ff4c8610f84d9d8e34db65fae10012</td>\n",
       "      <td>Informática y telecomunicaciones</td>\n",
       "      <td>Calidad</td>\n",
       "      <td>CONSULTOR ESPECIALISTA SEO CLIENTES EQUIPOS EX...</td>\n",
       "      <td>937.0</td>\n",
       "      <td>57</td>\n",
       "    </tr>\n",
       "    <tr>\n",
       "      <th>2</th>\n",
       "      <td>dee03c68724887a5132271d3f23091</td>\n",
       "      <td>Informática y telecomunicaciones</td>\n",
       "      <td>Programación</td>\n",
       "      <td>EXPERIENCIA REDACCION WEB WORDPRESS PRESTASHOP...</td>\n",
       "      <td>NaN</td>\n",
       "      <td>14</td>\n",
       "    </tr>\n",
       "    <tr>\n",
       "      <th>3</th>\n",
       "      <td>d205ab34f74b9cbae77b43f5f1968b</td>\n",
       "      <td>Informática y telecomunicaciones</td>\n",
       "      <td>Sistemas</td>\n",
       "      <td>ADMINISTRACION SISTEMA MONITORIZACION MARCAS T...</td>\n",
       "      <td>966.0</td>\n",
       "      <td>45</td>\n",
       "    </tr>\n",
       "    <tr>\n",
       "      <th>4</th>\n",
       "      <td>61518c0bc649cc9494628764f36472</td>\n",
       "      <td>Informática y telecomunicaciones</td>\n",
       "      <td>Sistemas</td>\n",
       "      <td>COORDINADOR SERVICIOS SOPORTES APLICACIONES GE...</td>\n",
       "      <td>NaN</td>\n",
       "      <td>25</td>\n",
       "    </tr>\n",
       "  </tbody>\n",
       "</table>\n",
       "</div>"
      ],
      "text/plain": [
       "                        ID_OFERTA                         CATEGORIA  \\\n",
       "0  3a082f4f434fad8f4984cd46e3f3b6  Informática y telecomunicaciones   \n",
       "1  ff4c8610f84d9d8e34db65fae10012  Informática y telecomunicaciones   \n",
       "2  dee03c68724887a5132271d3f23091  Informática y telecomunicaciones   \n",
       "3  d205ab34f74b9cbae77b43f5f1968b  Informática y telecomunicaciones   \n",
       "4  61518c0bc649cc9494628764f36472  Informática y telecomunicaciones   \n",
       "\n",
       "         SUBCATEGORIA                              PALABRAS_EMPLEO_TEXTO  \\\n",
       "0  Telecomunicaciones  TECNICO REPARACIONES EQUIPOS ELECTRONICA COMUN...   \n",
       "1             Calidad  CONSULTOR ESPECIALISTA SEO CLIENTES EQUIPOS EX...   \n",
       "2        Programación  EXPERIENCIA REDACCION WEB WORDPRESS PRESTASHOP...   \n",
       "3            Sistemas  ADMINISTRACION SISTEMA MONITORIZACION MARCAS T...   \n",
       "4            Sistemas  COORDINADOR SERVICIOS SOPORTES APLICACIONES GE...   \n",
       "\n",
       "   ID_PUESTO_ESCO  NUM_WORDS  \n",
       "0             NaN         21  \n",
       "1           937.0         57  \n",
       "2             NaN         14  \n",
       "3           966.0         45  \n",
       "4             NaN         25  "
      ]
     },
     "execution_count": 17,
     "metadata": {},
     "output_type": "execute_result"
    }
   ],
   "source": [
    "path_test = '../../data/test/estudio_fp_informatica.json'\n",
    "df_test = pd.read_json(path_test, orient='records')\n",
    "# Set to upper the column names\n",
    "df_test.columns = [x.upper() for x in df_test.columns]\n",
    "# df_test['ID_PUESTO_ESCO_ULL'] = df_test['ID_PUESTO_ESCO_ULL'].apply(lambda x: str(int(x)))\n",
    "df_test['NUM_WORDS'] = count_words(df_test)\n",
    "df_test.head()"
   ]
  },
  {
   "cell_type": "markdown",
   "metadata": {},
   "source": [
    "# Vectorize test offers and id to label"
   ]
  },
  {
   "cell_type": "code",
   "execution_count": 18,
   "metadata": {},
   "outputs": [],
   "source": [
    "path_vocabulary = '../../data/training_clasifier_infojobs_21_23/vocabulary.json'\n",
    "vocabulary = load_vocabulary(path_vocabulary)\n",
    "test_vectors = np.vstack(create_vectorize_dataframe(df_test, vocabulary))\n",
    "path_ids_labels = '../../data/training_clasifier_infojobs_21_23/ids_labels.json'\n",
    "dict_label_ids = load_dict_label_ids(path_ids_labels)"
   ]
  },
  {
   "cell_type": "markdown",
   "metadata": {},
   "source": [
    "# Load model"
   ]
  },
  {
   "cell_type": "code",
   "execution_count": 19,
   "metadata": {},
   "outputs": [],
   "source": [
    "path_model= '../../data/training_clasifier_infojobs_21_23/my_model_V20.h5'\n",
    "model = load_model(path_model)"
   ]
  },
  {
   "cell_type": "markdown",
   "metadata": {},
   "source": [
    "# Get accuracy and predictions"
   ]
  },
  {
   "cell_type": "code",
   "execution_count": 20,
   "metadata": {},
   "outputs": [
    {
     "name": "stdout",
     "output_type": "stream",
     "text": [
      "350/350 [==============================] - 1s 2ms/step\n"
     ]
    }
   ],
   "source": [
    "# Get the accuracy for this TEST\n",
    "# accuracy = get_accuracy(model, test_vectors, dict_label_ids, real_ids)\n",
    "# Print the value of accuracy in percentage with 2 decimals\n",
    "# print('Accuracy: {:.2%}'.format(accuracy))\n",
    "# Get predictions for this TEST\n",
    "predictions_id, probability = get_predictions(model, test_vectors, dict_label_ids)"
   ]
  },
  {
   "cell_type": "markdown",
   "metadata": {},
   "source": [
    "# Create report"
   ]
  },
  {
   "cell_type": "code",
   "execution_count": 21,
   "metadata": {},
   "outputs": [],
   "source": [
    "df_report = pd.DataFrame({'ID_OFERTA': df_test['ID_OFERTA'],\n",
    "                            'PREDICTED_ID': predictions_id,\n",
    "                            'PROBABILITY': probability,\n",
    "                            'NUM_OF_WORDS': df_test['NUM_WORDS']})\n",
    "df_report.head()\n",
    "df_report.to_csv('../../data/training_clasifier_infojobs_21_23/results.csv', index=False)"
   ]
  },
  {
   "cell_type": "markdown",
   "metadata": {},
   "source": [
    "# Count etiquated offers"
   ]
  },
  {
   "cell_type": "code",
   "execution_count": 22,
   "metadata": {},
   "outputs": [
    {
     "name": "stdout",
     "output_type": "stream",
     "text": [
      "Number of offers: 11184\n",
      "Number of offers with ID_PUESTO_ESCO: 7450\n"
     ]
    }
   ],
   "source": [
    "# Calculate the number of offers with ID_PUESTO_ESCO in df_test\n",
    "count = df_test.shape[0]\n",
    "print('Number of offers: {}'.format(count))\n",
    "# Delete all NaN values in the column ID_PUESTO_ESCO of the dataframe df_test\n",
    "df_test = df_test.dropna(subset=['ID_PUESTO_ESCO'])\n",
    "final_count = df_test.shape[0]\n",
    "# Calculate the number of offers with ID_PUESTO_ESCO in df_test\n",
    "print('Number of offers with ID_PUESTO_ESCO: {}'.format(final_count))"
   ]
  },
  {
   "cell_type": "markdown",
   "metadata": {},
   "source": [
    "# Show accuracy"
   ]
  },
  {
   "cell_type": "code",
   "execution_count": 23,
   "metadata": {},
   "outputs": [
    {
     "name": "stdout",
     "output_type": "stream",
     "text": [
      "Accuracy: 32.64%\n"
     ]
    }
   ],
   "source": [
    "# Convert the column ID_PUESTO_ESCO to integer\n",
    "df_test['ID_PUESTO_ESCO'] = df_test['ID_PUESTO_ESCO'].apply(lambda x: int(x))\n",
    "# Create a new column with the predicted label for the corresponding ID_OFERTA on the dataframe df_test from the dataframe df_report\n",
    "df_test['PREDICTED_ID'] = df_test['ID_OFERTA'].apply(lambda x: df_report[df_report['ID_OFERTA'] == x]['PREDICTED_ID'].values[0])\n",
    "# Add the column PROBABILITY for the corresponding ID_OFERTA on the dataframe df_test from the dataframe df_report\n",
    "df_test['PROBABILITY'] = df_test['ID_OFERTA'].apply(lambda x: df_report[df_report['ID_OFERTA'] == x]['PROBABILITY'].values[0])\n",
    "# Calculate the accuracy\n",
    "accuracy = accuracy_score(df_test['ID_PUESTO_ESCO'], df_test['PREDICTED_ID'])\n",
    "print('Accuracy: {:.2%}'.format(accuracy))"
   ]
  },
  {
   "cell_type": "markdown",
   "metadata": {},
   "source": [
    "# Get test stadistics"
   ]
  },
  {
   "cell_type": "code",
   "execution_count": 24,
   "metadata": {},
   "outputs": [
    {
     "name": "stdout",
     "output_type": "stream",
     "text": [
      "Mean of the probability for the matching offers: 0.61\n",
      "Std of the probability for the matching offers: 0.28\n",
      "Mean of the probability for the non-matching offers: 0.45\n",
      "Std of the probability for the non-matching offers: 0.28\n"
     ]
    }
   ],
   "source": [
    "# Create a new column with the matching between the predicted label and the real label\n",
    "df_test['MATCH'] = df_test.apply(lambda x: 1 if x['ID_PUESTO_ESCO'] == x['PREDICTED_ID'] else 0, axis=1)\n",
    "# Calculate the mean and std of the PROBABILITY column for the matching offers\n",
    "mean_match = df_test[df_test['MATCH'] == 1]['PROBABILITY'].mean()\n",
    "std_match = df_test[df_test['MATCH'] == 1]['PROBABILITY'].std()\n",
    "# Calculate the mean and std of the PROBABILITY column for the non-matching offers\n",
    "mean_no_match = df_test[df_test['MATCH'] == 0]['PROBABILITY'].mean()\n",
    "std_no_match = df_test[df_test['MATCH'] == 0]['PROBABILITY'].std()\n",
    "# Print the results\n",
    "print('Mean of the probability for the matching offers: {:.2}'.format(mean_match))\n",
    "print('Std of the probability for the matching offers: {:.2}'.format(std_match))\n",
    "print('Mean of the probability for the non-matching offers: {:.2}'.format(mean_no_match))\n",
    "print('Std of the probability for the non-matching offers: {:.2}'.format(std_no_match))"
   ]
  },
  {
   "cell_type": "markdown",
   "metadata": {},
   "source": [
    "# Show graph with the probability distribution and matchings"
   ]
  },
  {
   "cell_type": "code",
   "execution_count": 30,
   "metadata": {},
   "outputs": [
    {
     "data": {
      "image/png": "[encoded data removed]",
      "text/plain": [
       "<Figure size 640x480 with 1 Axes>"
      ]
     },
     "metadata": {},
     "output_type": "display_data"
    }
   ],
   "source": [
    "import matplotlib.pyplot as plt\n",
    "\n",
    "# Create a histogram for MATCH == 1 (right side) with blue color\n",
    "plt.hist(df_test[df_test['MATCH'] == 1]['PROBABILITY'], bins=20, alpha=0.5, color='blue', label='MATCH 1', density=True)\n",
    "\n",
    "# Create a histogram for MATCH == 0 (left side) with red color\n",
    "plt.hist(df_test[df_test['MATCH'] == 0]['PROBABILITY'], bins=20, alpha=0.5, color='red', label='MATCH 0', density=True)\n",
    "\n",
    "# Set labels and title\n",
    "plt.xlabel('PROBABILITY')\n",
    "plt.ylabel('Number of Offers')\n",
    "plt.title('Distribution of PROBABILITY by MATCH')\n",
    "\n",
    "# Add a legend\n",
    "plt.legend(loc='upper right')\n",
    "\n",
    "# Show the plot\n",
    "plt.show()\n"
   ]
  }
 ],
 "metadata": {
  "kernelspec": {
   "display_name": ".venv",
   "language": "python",
   "name": "python3"
  },
  "language_info": {
   "codemirror_mode": {
    "name": "ipython",
    "version": 3
   },
   "file_extension": ".py",
   "mimetype": "text/x-python",
   "name": "python",
   "nbconvert_exporter": "python",
   "pygments_lexer": "ipython3",
   "version": "3.9.16"
  },
  "orig_nbformat": 4
 },
 "nbformat": 4,
 "nbformat_minor": 2
}
