{
 "cells": [
  {
   "cell_type": "markdown",
   "metadata": {},
   "source": [
    "# Import libraries"
   ]
  },
  {
   "cell_type": "code",
   "execution_count": 11,
   "metadata": {},
   "outputs": [],
   "source": [
    "from functions.vectorization import *\n",
    "from functions.labelization import *\n",
    "from functions.vocabulary import *\n",
    "from functions.model import *\n",
    "from functions.predict import *\n",
    "from functions.tools import count_words\n",
    "import pandas as pd\n",
    "import numpy as np"
   ]
  },
  {
   "cell_type": "markdown",
   "metadata": {},
   "source": [
    "# Import data"
   ]
  },
  {
   "cell_type": "code",
   "execution_count": 12,
   "metadata": {},
   "outputs": [
    {
     "data": {
      "text/html": [
       "<div>\n",
       "<style scoped>\n",
       "    .dataframe tbody tr th:only-of-type {\n",
       "        vertical-align: middle;\n",
       "    }\n",
       "\n",
       "    .dataframe tbody tr th {\n",
       "        vertical-align: top;\n",
       "    }\n",
       "\n",
       "    .dataframe thead th {\n",
       "        text-align: right;\n",
       "    }\n",
       "</style>\n",
       "<table border=\"1\" class=\"dataframe\">\n",
       "  <thead>\n",
       "    <tr style=\"text-align: right;\">\n",
       "      <th></th>\n",
       "      <th>ID_OFERTA</th>\n",
       "      <th>PALABRAS_EMPLEO_TEXTO</th>\n",
       "      <th>CATEGORIA</th>\n",
       "      <th>SUBCATEGORIA</th>\n",
       "      <th>NUM_WORDS</th>\n",
       "    </tr>\n",
       "  </thead>\n",
       "  <tbody>\n",
       "    <tr>\n",
       "      <th>0</th>\n",
       "      <td>5ebde36ac743a8b9509e020bb9648f</td>\n",
       "      <td>CONTABILIDAD GESTION PLANIFICACIONES PRODUCCIO...</td>\n",
       "      <td>Administración de empresas</td>\n",
       "      <td>Finanzas y contabilidad</td>\n",
       "      <td>22</td>\n",
       "    </tr>\n",
       "    <tr>\n",
       "      <th>1</th>\n",
       "      <td>5403f26f8a4e7a882b0416977c2f6c</td>\n",
       "      <td>PREPARADOR LABORAL LUCRO CULTURAS IGUALDAD PER...</td>\n",
       "      <td>Educación y formación</td>\n",
       "      <td>Pedagogía</td>\n",
       "      <td>18</td>\n",
       "    </tr>\n",
       "    <tr>\n",
       "      <th>2</th>\n",
       "      <td>72d3e16e974e1e9948e9a66a3f1553</td>\n",
       "      <td>EMPRESAS LOGISTICO ALIMENTACION DEPENDENCIA CO...</td>\n",
       "      <td>Compras, logística y almacén</td>\n",
       "      <td>Distribución y logística</td>\n",
       "      <td>52</td>\n",
       "    </tr>\n",
       "    <tr>\n",
       "      <th>3</th>\n",
       "      <td>7a8290f16f4bbdb39a498c15c48861</td>\n",
       "      <td>RECURSOS ELABORACION CONTRATOS NOMINA SEGUROS ...</td>\n",
       "      <td>Recursos humanos</td>\n",
       "      <td>Relaciones laborales</td>\n",
       "      <td>10</td>\n",
       "    </tr>\n",
       "    <tr>\n",
       "      <th>4</th>\n",
       "      <td>0fef6adf3d4ed88360462a0a60483e</td>\n",
       "      <td>GESTION HOSTELERIA RESTAURANTE FRANQUICIAS TEC...</td>\n",
       "      <td>Turismo y restauración</td>\n",
       "      <td>Hostelería</td>\n",
       "      <td>23</td>\n",
       "    </tr>\n",
       "  </tbody>\n",
       "</table>\n",
       "</div>"
      ],
      "text/plain": [
       "                        ID_OFERTA  \\\n",
       "0  5ebde36ac743a8b9509e020bb9648f   \n",
       "1  5403f26f8a4e7a882b0416977c2f6c   \n",
       "2  72d3e16e974e1e9948e9a66a3f1553   \n",
       "3  7a8290f16f4bbdb39a498c15c48861   \n",
       "4  0fef6adf3d4ed88360462a0a60483e   \n",
       "\n",
       "                               PALABRAS_EMPLEO_TEXTO  \\\n",
       "0  CONTABILIDAD GESTION PLANIFICACIONES PRODUCCIO...   \n",
       "1  PREPARADOR LABORAL LUCRO CULTURAS IGUALDAD PER...   \n",
       "2  EMPRESAS LOGISTICO ALIMENTACION DEPENDENCIA CO...   \n",
       "3  RECURSOS ELABORACION CONTRATOS NOMINA SEGUROS ...   \n",
       "4  GESTION HOSTELERIA RESTAURANTE FRANQUICIAS TEC...   \n",
       "\n",
       "                      CATEGORIA              SUBCATEGORIA  NUM_WORDS  \n",
       "0    Administración de empresas   Finanzas y contabilidad         22  \n",
       "1         Educación y formación                 Pedagogía         18  \n",
       "2  Compras, logística y almacén  Distribución y logística         52  \n",
       "3              Recursos humanos      Relaciones laborales         10  \n",
       "4        Turismo y restauración                Hostelería         23  "
      ]
     },
     "execution_count": 12,
     "metadata": {},
     "output_type": "execute_result"
    }
   ],
   "source": [
    "path_test = '../data/test/TEST_enero_agosto_consejo_social.json'\n",
    "df_test = pd.read_json(path_test)\n",
    "# Set to upper the column names\n",
    "df_test.columns = [x.upper() for x in df_test.columns]\n",
    "# df_test['ID_PUESTO_ESCO_ULL'] = df_test['ID_PUESTO_ESCO_ULL'].apply(lambda x: str(int(x)))\n",
    "df_test['NUM_WORDS'] = count_words(df_test)\n",
    "df_test.head()"
   ]
  },
  {
   "cell_type": "markdown",
   "metadata": {},
   "source": [
    "# Vectorize test offers and id to label"
   ]
  },
  {
   "cell_type": "code",
   "execution_count": 13,
   "metadata": {},
   "outputs": [],
   "source": [
    "path_vocabulary = '../data/train/vocabulary.json'\n",
    "vocabulary = load_vocabulary(path_vocabulary)\n",
    "test_vectors = np.vstack(create_vectorize_dataframe(df_test, vocabulary))\n",
    "path_ids_labels = '../data/train/ids_labels.json'\n",
    "dict_label_ids = load_dict_label_ids(path_ids_labels)\n",
    "# real_ids = list(df_test['ID_PUESTO_ESCO_ULL'])\n",
    "# test_labels = cast_id_to_labels(real_ids, dict_label_ids)"
   ]
  },
  {
   "cell_type": "markdown",
   "metadata": {},
   "source": [
    "# Load model"
   ]
  },
  {
   "cell_type": "code",
   "execution_count": 14,
   "metadata": {},
   "outputs": [],
   "source": [
    "path_model= '../model/my_model_V15.h5'\n",
    "model = load_model(path_model)"
   ]
  },
  {
   "cell_type": "markdown",
   "metadata": {},
   "source": [
    "# Get accuracy and predictions"
   ]
  },
  {
   "cell_type": "code",
   "execution_count": 15,
   "metadata": {},
   "outputs": [
    {
     "name": "stderr",
     "output_type": "stream",
     "text": [
      "2023-09-05 12:37:37.976744: W tensorflow/tsl/framework/cpu_allocator_impl.cc:83] Allocation of 740138880 exceeds 10% of free system memory.\n"
     ]
    },
    {
     "name": "stdout",
     "output_type": "stream",
     "text": [
      "1268/1268 [==============================] - 3s 2ms/step\n"
     ]
    }
   ],
   "source": [
    "# Get the accuracy for this TEST\n",
    "# accuracy = get_accuracy(model, test_vectors, dict_label_ids, real_ids)\n",
    "# Print the value of accuracy in percentage with 2 decimals\n",
    "# print('Accuracy: {:.2%}'.format(accuracy))\n",
    "# Get predictions for this TEST\n",
    "predictions_id, probability = get_predictions(model, test_vectors, dict_label_ids)"
   ]
  },
  {
   "cell_type": "markdown",
   "metadata": {},
   "source": [
    "# Create report"
   ]
  },
  {
   "cell_type": "code",
   "execution_count": 16,
   "metadata": {},
   "outputs": [],
   "source": [
    "df_report = pd.DataFrame({'ID_OFERTA': df_test['ID_OFERTA'],\n",
    "                            'PREDICTED_ID': predictions_id,\n",
    "                            'PROBABILITY': probability,\n",
    "                            'NUM_OF_WORDS': df_test['NUM_WORDS']})\n",
    "df_report.head()\n",
    "df_report.to_csv('../reports/test_estudio_consejo_social_enero_agosto.csv', index=False)"
   ]
  }
 ],
 "metadata": {
  "kernelspec": {
   "display_name": ".venv",
   "language": "python",
   "name": "python3"
  },
  "language_info": {
   "codemirror_mode": {
    "name": "ipython",
    "version": 3
   },
   "file_extension": ".py",
   "mimetype": "text/x-python",
   "name": "python",
   "nbconvert_exporter": "python",
   "pygments_lexer": "ipython3",
   "version": "3.9.16"
  },
  "orig_nbformat": 4
 },
 "nbformat": 4,
 "nbformat_minor": 2
}
