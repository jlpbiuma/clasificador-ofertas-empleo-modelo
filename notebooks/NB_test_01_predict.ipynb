{
 "cells": [
  {
   "cell_type": "markdown",
   "metadata": {},
   "source": [
    "# Import libraries"
   ]
  },
  {
   "cell_type": "code",
   "execution_count": 1,
   "metadata": {},
   "outputs": [
    {
     "name": "stderr",
     "output_type": "stream",
     "text": [
      "2023-09-05 10:15:18.594415: I tensorflow/tsl/cuda/cudart_stub.cc:28] Could not find cuda drivers on your machine, GPU will not be used.\n",
      "2023-09-05 10:15:19.320337: I tensorflow/tsl/cuda/cudart_stub.cc:28] Could not find cuda drivers on your machine, GPU will not be used.\n",
      "2023-09-05 10:15:19.322207: I tensorflow/core/platform/cpu_feature_guard.cc:182] This TensorFlow binary is optimized to use available CPU instructions in performance-critical operations.\n",
      "To enable the following instructions: AVX2 FMA, in other operations, rebuild TensorFlow with the appropriate compiler flags.\n",
      "2023-09-05 10:15:21.224142: W tensorflow/compiler/tf2tensorrt/utils/py_utils.cc:38] TF-TRT Warning: Could not find TensorRT\n"
     ]
    }
   ],
   "source": [
    "from functions.vectorization import *\n",
    "from functions.labelization import *\n",
    "from functions.vocabulary import *\n",
    "from functions.model import *\n",
    "from functions.predict import *\n",
    "import pandas as pd\n",
    "import numpy as np"
   ]
  },
  {
   "cell_type": "markdown",
   "metadata": {},
   "source": [
    "# Import data"
   ]
  },
  {
   "cell_type": "code",
   "execution_count": 2,
   "metadata": {},
   "outputs": [
    {
     "data": {
      "text/html": [
       "<div>\n",
       "<style scoped>\n",
       "    .dataframe tbody tr th:only-of-type {\n",
       "        vertical-align: middle;\n",
       "    }\n",
       "\n",
       "    .dataframe tbody tr th {\n",
       "        vertical-align: top;\n",
       "    }\n",
       "\n",
       "    .dataframe thead th {\n",
       "        text-align: right;\n",
       "    }\n",
       "</style>\n",
       "<table border=\"1\" class=\"dataframe\">\n",
       "  <thead>\n",
       "    <tr style=\"text-align: right;\">\n",
       "      <th></th>\n",
       "      <th>ID_OFERTA</th>\n",
       "      <th>ID_PUESTO_ESCO_ULL</th>\n",
       "      <th>CATEGORIA</th>\n",
       "      <th>SUBCATEGORIA</th>\n",
       "      <th>PALABRAS_EMPLEO_TEXTO</th>\n",
       "    </tr>\n",
       "  </thead>\n",
       "  <tbody>\n",
       "    <tr>\n",
       "      <th>0</th>\n",
       "      <td>b19e15055c43ebb9e07e30fb952724</td>\n",
       "      <td>1634</td>\n",
       "      <td>Atención a clientes</td>\n",
       "      <td>Atención al cliente</td>\n",
       "      <td>ADMINISTRATIVO PERSONA RESERVAS BUCEO GESTION ...</td>\n",
       "    </tr>\n",
       "    <tr>\n",
       "      <th>1</th>\n",
       "      <td>f390055aeb48c8811ced58606cf3b1</td>\n",
       "      <td>1984</td>\n",
       "      <td>Ventas al detalle</td>\n",
       "      <td>Venta al detalle</td>\n",
       "      <td>DEPENDIENTE TIENDAS CENTRO COMERCIAL EXPERIENC...</td>\n",
       "    </tr>\n",
       "    <tr>\n",
       "      <th>2</th>\n",
       "      <td>bbff55cb0f44fea833fc8524b3f1a4</td>\n",
       "      <td>719</td>\n",
       "      <td>Recursos humanos</td>\n",
       "      <td>Prevención de riesgos</td>\n",
       "      <td>PUENTES GRUA NORMAS SECTOR METALES HOMOLOGADO ...</td>\n",
       "    </tr>\n",
       "    <tr>\n",
       "      <th>3</th>\n",
       "      <td>9669aa757b46888ebf815eb3a909ca</td>\n",
       "      <td>1508</td>\n",
       "      <td>Comercial y ventas</td>\n",
       "      <td>Comercial</td>\n",
       "      <td>ASESORES COMERCIAL PREVENCION RIESGOS LABORAL ...</td>\n",
       "    </tr>\n",
       "    <tr>\n",
       "      <th>4</th>\n",
       "      <td>e2fe1e22a04c17a827e1ebe70b7c99</td>\n",
       "      <td>2280</td>\n",
       "      <td>Ingenieros y técnicos</td>\n",
       "      <td>Electrónica y automática industrial</td>\n",
       "      <td>OFICIAL MANTENIMIENTO ELECTROMECANICO AGUAS PR...</td>\n",
       "    </tr>\n",
       "  </tbody>\n",
       "</table>\n",
       "</div>"
      ],
      "text/plain": [
       "                        ID_OFERTA ID_PUESTO_ESCO_ULL              CATEGORIA  \\\n",
       "0  b19e15055c43ebb9e07e30fb952724               1634    Atención a clientes   \n",
       "1  f390055aeb48c8811ced58606cf3b1               1984      Ventas al detalle   \n",
       "2  bbff55cb0f44fea833fc8524b3f1a4                719       Recursos humanos   \n",
       "3  9669aa757b46888ebf815eb3a909ca               1508     Comercial y ventas   \n",
       "4  e2fe1e22a04c17a827e1ebe70b7c99               2280  Ingenieros y técnicos   \n",
       "\n",
       "                          SUBCATEGORIA  \\\n",
       "0                  Atención al cliente   \n",
       "1                     Venta al detalle   \n",
       "2                Prevención de riesgos   \n",
       "3                            Comercial   \n",
       "4  Electrónica y automática industrial   \n",
       "\n",
       "                               PALABRAS_EMPLEO_TEXTO  \n",
       "0  ADMINISTRATIVO PERSONA RESERVAS BUCEO GESTION ...  \n",
       "1  DEPENDIENTE TIENDAS CENTRO COMERCIAL EXPERIENC...  \n",
       "2  PUENTES GRUA NORMAS SECTOR METALES HOMOLOGADO ...  \n",
       "3  ASESORES COMERCIAL PREVENCION RIESGOS LABORAL ...  \n",
       "4  OFICIAL MANTENIMIENTO ELECTROMECANICO AGUAS PR...  "
      ]
     },
     "execution_count": 2,
     "metadata": {},
     "output_type": "execute_result"
    }
   ],
   "source": [
    "path_test = '../data/test/TEST.json'\n",
    "df_test = pd.read_json(path_test)\n",
    "# Set to upper the column names\n",
    "df_test.columns = [x.upper() for x in df_test.columns]\n",
    "df_test['ID_PUESTO_ESCO_ULL'] = df_test['ID_PUESTO_ESCO_ULL'].apply(lambda x: str(int(x)))\n",
    "df_test.head()"
   ]
  },
  {
   "cell_type": "code",
   "execution_count": 3,
   "metadata": {},
   "outputs": [
    {
     "data": {
      "text/plain": [
       "535"
      ]
     },
     "execution_count": 3,
     "metadata": {},
     "output_type": "execute_result"
    }
   ],
   "source": [
    "len(df_test['ID_PUESTO_ESCO_ULL'].unique())"
   ]
  },
  {
   "cell_type": "markdown",
   "metadata": {},
   "source": [
    "# Vectorize test offers and id to label"
   ]
  },
  {
   "cell_type": "code",
   "execution_count": 4,
   "metadata": {},
   "outputs": [],
   "source": [
    "path_vocabulary = '../data/train/vocabulary.json'\n",
    "vocabulary = load_vocabulary(path_vocabulary)\n",
    "test_vectors = np.vstack(create_vectorize_dataframe(df_test, vocabulary))\n",
    "path_ids_labels = '../data/train/ids_labels.json'\n",
    "dict_label_ids = load_dict_label_ids(path_ids_labels)\n",
    "real_ids = list(df_test['ID_PUESTO_ESCO_ULL'])\n",
    "test_labels = cast_id_to_labels(real_ids, dict_label_ids)"
   ]
  },
  {
   "cell_type": "markdown",
   "metadata": {},
   "source": [
    "# Load model"
   ]
  },
  {
   "cell_type": "code",
   "execution_count": 5,
   "metadata": {},
   "outputs": [],
   "source": [
    "path_model= '../model/my_model_V6.h5'\n",
    "model = load_model(path_model)"
   ]
  },
  {
   "cell_type": "markdown",
   "metadata": {},
   "source": [
    "# Get accuracy"
   ]
  },
  {
   "cell_type": "code",
   "execution_count": 6,
   "metadata": {},
   "outputs": [
    {
     "name": "stdout",
     "output_type": "stream",
     "text": [
      "  1/292 [..............................] - ETA: 27s"
     ]
    },
    {
     "name": "stderr",
     "output_type": "stream",
     "text": [
      "2023-09-05 10:15:28.307382: W tensorflow/tsl/framework/cpu_allocator_impl.cc:83] Allocation of 167598424 exceeds 10% of free system memory.\n"
     ]
    },
    {
     "name": "stdout",
     "output_type": "stream",
     "text": [
      "292/292 [==============================] - 1s 2ms/step\n",
      "Accuracy: 86.66%\n",
      " 70/292 [======>.......................] - ETA: 0s"
     ]
    },
    {
     "name": "stderr",
     "output_type": "stream",
     "text": [
      "2023-09-05 10:15:31.062344: W tensorflow/tsl/framework/cpu_allocator_impl.cc:83] Allocation of 167598424 exceeds 10% of free system memory.\n"
     ]
    },
    {
     "name": "stdout",
     "output_type": "stream",
     "text": [
      "292/292 [==============================] - 0s 2ms/step\n"
     ]
    }
   ],
   "source": [
    "# Get the accuracy for this TEST\n",
    "accuracy = get_accuracy(model, test_vectors, dict_label_ids, real_ids)\n",
    "# Print the value of accuracy in percentage with 2 decimals\n",
    "print('Accuracy: {:.2%}'.format(accuracy))\n",
    "# Get predictions for this TEST\n",
    "predictions_id, probability = get_predictions(model, test_vectors, dict_label_ids)"
   ]
  },
  {
   "cell_type": "code",
   "execution_count": 7,
   "metadata": {},
   "outputs": [
    {
     "name": "stdout",
     "output_type": "stream",
     "text": [
      "Predictions:  1742\n",
      "Test label:  1742\n"
     ]
    }
   ],
   "source": [
    "index = 5\n",
    "print('Predictions: ', predictions_id[index])\n",
    "print('Test label: ', real_ids[index])"
   ]
  }
 ],
 "metadata": {
  "kernelspec": {
   "display_name": ".venv",
   "language": "python",
   "name": "python3"
  },
  "language_info": {
   "codemirror_mode": {
    "name": "ipython",
    "version": 3
   },
   "file_extension": ".py",
   "mimetype": "text/x-python",
   "name": "python",
   "nbconvert_exporter": "python",
   "pygments_lexer": "ipython3",
   "version": "3.9.16"
  },
  "orig_nbformat": 4
 },
 "nbformat": 4,
 "nbformat_minor": 2
}
