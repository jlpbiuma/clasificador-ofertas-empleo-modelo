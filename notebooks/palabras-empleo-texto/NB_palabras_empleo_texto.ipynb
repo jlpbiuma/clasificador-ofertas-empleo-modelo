{
 "cells": [
  {
   "cell_type": "markdown",
   "metadata": {},
   "source": [
    "# Import libraries"
   ]
  },
  {
   "cell_type": "code",
   "execution_count": 1,
   "metadata": {},
   "outputs": [],
   "source": [
    "import pandas as pd"
   ]
  },
  {
   "cell_type": "markdown",
   "metadata": {},
   "source": [
    "# Global variables"
   ]
  },
  {
   "cell_type": "code",
   "execution_count": 2,
   "metadata": {},
   "outputs": [],
   "source": [
    "dictionary_path = './static/'"
   ]
  },
  {
   "cell_type": "markdown",
   "metadata": {},
   "source": [
    "# Functions"
   ]
  },
  {
   "cell_type": "code",
   "execution_count": 3,
   "metadata": {},
   "outputs": [],
   "source": [
    "import re\n",
    "from unidecode import unidecode\n",
    "\n",
    "expections = [\"@\", r\"\\.\"]\n",
    "\n",
    "def clean_text(text):\n",
    "    # ! EXCEPCIONES MANUALES!!!\n",
    "    # Cast exceptions to \"a\"\n",
    "    text = re.sub(r'@', 'a', text)\n",
    "    # Cast from \".\" to \"\"\n",
    "    text = re.sub(r'\\.', '', text)\n",
    "    \n",
    "    # Trim the text\n",
    "    text = text.strip()\n",
    "    # Remove accents using unidecode, excluding 'ñ' and 'Ñ'\n",
    "    text = ''.join(char if char in ('ñ', 'Ñ') else unidecode(char) for char in text)\n",
    "    # Delete non-alphanumeric characters\n",
    "    text = re.sub(r'[^\\w\\s]', ' ', text)\n",
    "    # Delete additional spaces with regex\n",
    "    text = re.sub(r'\\s+', ' ', text).upper()\n",
    "    return text"
   ]
  },
  {
   "cell_type": "markdown",
   "metadata": {},
   "source": [
    "# Import dictionaries"
   ]
  },
  {
   "cell_type": "code",
   "execution_count": 4,
   "metadata": {},
   "outputs": [
    {
     "name": "stdout",
     "output_type": "stream",
     "text": [
      "5525\n",
      "10556\n"
     ]
    }
   ],
   "source": [
    "legacy_dict_empleo = pd.read_json(dictionary_path + 'diccionario_empleo.json')\n",
    "print(len(legacy_dict_empleo))\n",
    "new_dict_empleo = pd.read_csv(dictionary_path + 'diccionario_empleo.csv')\n",
    "print(len(new_dict_empleo))"
   ]
  },
  {
   "cell_type": "markdown",
   "metadata": {},
   "source": [
    "# Comprobación de recuento de mismas palabras en legacy y new dictionary formats"
   ]
  },
  {
   "cell_type": "code",
   "execution_count": 5,
   "metadata": {},
   "outputs": [
    {
     "name": "stdout",
     "output_type": "stream",
     "text": [
      "Before cleaning: 13321\n",
      "After cleaning: 10631\n"
     ]
    },
    {
     "data": {
      "text/html": [
       "<div>\n",
       "<style scoped>\n",
       "    .dataframe tbody tr th:only-of-type {\n",
       "        vertical-align: middle;\n",
       "    }\n",
       "\n",
       "    .dataframe tbody tr th {\n",
       "        vertical-align: top;\n",
       "    }\n",
       "\n",
       "    .dataframe thead th {\n",
       "        text-align: right;\n",
       "    }\n",
       "</style>\n",
       "<table border=\"1\" class=\"dataframe\">\n",
       "  <thead>\n",
       "    <tr style=\"text-align: right;\">\n",
       "      <th></th>\n",
       "      <th>ID_PALABRA</th>\n",
       "      <th>PALABRA</th>\n",
       "      <th>MASCULINO</th>\n",
       "      <th>FEMENINO</th>\n",
       "      <th>MASC_PLURAL</th>\n",
       "      <th>FEM_PLURAL</th>\n",
       "      <th>LEMA</th>\n",
       "      <th>TIPO_PALABRA</th>\n",
       "      <th>PALABRA_VISUAL</th>\n",
       "      <th>PALABRA_GENERICA</th>\n",
       "      <th>Non_Empty_Word_Count</th>\n",
       "      <th>Unique_Forms_Count</th>\n",
       "    </tr>\n",
       "  </thead>\n",
       "  <tbody>\n",
       "    <tr>\n",
       "      <th>0</th>\n",
       "      <td>15942</td>\n",
       "      <td>AAL5</td>\n",
       "      <td></td>\n",
       "      <td></td>\n",
       "      <td></td>\n",
       "      <td></td>\n",
       "      <td>ATM Adaptation Layer 5</td>\n",
       "      <td>9</td>\n",
       "      <td>AAL5</td>\n",
       "      <td>N</td>\n",
       "      <td>1</td>\n",
       "      <td>1</td>\n",
       "    </tr>\n",
       "    <tr>\n",
       "      <th>1</th>\n",
       "      <td>5890</td>\n",
       "      <td>ABACO</td>\n",
       "      <td>ÁBACO</td>\n",
       "      <td></td>\n",
       "      <td>ÁBACOS</td>\n",
       "      <td></td>\n",
       "      <td>ábaco</td>\n",
       "      <td>3</td>\n",
       "      <td>ÁBACO</td>\n",
       "      <td>N</td>\n",
       "      <td>3</td>\n",
       "      <td>2</td>\n",
       "    </tr>\n",
       "    <tr>\n",
       "      <th>2</th>\n",
       "      <td>19</td>\n",
       "      <td>ABAP</td>\n",
       "      <td></td>\n",
       "      <td></td>\n",
       "      <td></td>\n",
       "      <td></td>\n",
       "      <td></td>\n",
       "      <td>9</td>\n",
       "      <td>ABAP</td>\n",
       "      <td>N</td>\n",
       "      <td>1</td>\n",
       "      <td>1</td>\n",
       "    </tr>\n",
       "    <tr>\n",
       "      <th>3</th>\n",
       "      <td>11228</td>\n",
       "      <td>ABAPOO</td>\n",
       "      <td></td>\n",
       "      <td></td>\n",
       "      <td></td>\n",
       "      <td></td>\n",
       "      <td>ABAPOO</td>\n",
       "      <td>9</td>\n",
       "      <td>ABAPOO</td>\n",
       "      <td>N</td>\n",
       "      <td>1</td>\n",
       "      <td>1</td>\n",
       "    </tr>\n",
       "    <tr>\n",
       "      <th>4</th>\n",
       "      <td>15880</td>\n",
       "      <td>ABAPY</td>\n",
       "      <td></td>\n",
       "      <td></td>\n",
       "      <td></td>\n",
       "      <td></td>\n",
       "      <td>Abaqus Python</td>\n",
       "      <td>9</td>\n",
       "      <td>ABAPY</td>\n",
       "      <td>N</td>\n",
       "      <td>1</td>\n",
       "      <td>1</td>\n",
       "    </tr>\n",
       "  </tbody>\n",
       "</table>\n",
       "</div>"
      ],
      "text/plain": [
       "   ID_PALABRA PALABRA MASCULINO FEMENINO MASC_PLURAL FEM_PLURAL  \\\n",
       "0       15942    AAL5                                             \n",
       "1        5890   ABACO     ÁBACO               ÁBACOS              \n",
       "2          19    ABAP                                             \n",
       "3       11228  ABAPOO                                             \n",
       "4       15880   ABAPY                                             \n",
       "\n",
       "                     LEMA TIPO_PALABRA PALABRA_VISUAL PALABRA_GENERICA  \\\n",
       "0  ATM Adaptation Layer 5            9           AAL5                N   \n",
       "1                   ábaco            3          ÁBACO                N   \n",
       "2                                    9           ABAP                N   \n",
       "3                  ABAPOO            9         ABAPOO                N   \n",
       "4           Abaqus Python            9          ABAPY                N   \n",
       "\n",
       "   Non_Empty_Word_Count  Unique_Forms_Count  \n",
       "0                     1                   1  \n",
       "1                     3                   2  \n",
       "2                     1                   1  \n",
       "3                     1                   1  \n",
       "4                     1                   1  "
      ]
     },
     "execution_count": 5,
     "metadata": {},
     "output_type": "execute_result"
    }
   ],
   "source": [
    "# Count the words in the legacy dictionary that are not ''\n",
    "columns_to_read = ['MASCULINO', 'FEMENINO', 'MASC_PLURAL', 'FEM_PLURAL', 'PALABRA_VISUAL']\n",
    "# Count the non-empty words in the specified columns\n",
    "non_empty_word_count = legacy_dict_empleo[columns_to_read].apply(lambda x: x[x != ''].count(), axis=1)\n",
    "# Add the count as a new column in the DataFrame\n",
    "legacy_dict_empleo['Non_Empty_Word_Count'] = non_empty_word_count\n",
    "# Sum the counts of the non-empty words\n",
    "non_empty_word_count_sum = legacy_dict_empleo['Non_Empty_Word_Count'].sum()\n",
    "print(\"Before cleaning: \" + str(non_empty_word_count_sum))\n",
    "for column in columns_to_read:\n",
    "    legacy_dict_empleo[column].apply(lambda x: clean_text(x))\n",
    "def count_unique_forms(row):\n",
    "    non_empty_values = [value for value in row if value != '']\n",
    "    unique_forms_count = len(set(non_empty_values))\n",
    "    return unique_forms_count\n",
    "# Apply the function across the specified columns to count unique forms\n",
    "legacy_dict_empleo['Unique_Forms_Count'] = legacy_dict_empleo[columns_to_read].apply(count_unique_forms, axis=1)\n",
    "# Drop the duplicated rows\n",
    "legacy_dict_empleo.drop_duplicates(inplace=True)\n",
    "non_empty_word_count_sum = legacy_dict_empleo['Unique_Forms_Count'].sum()\n",
    "print(\"After cleaning: \" + str(non_empty_word_count_sum))\n",
    "legacy_dict_empleo.head()"
   ]
  },
  {
   "cell_type": "markdown",
   "metadata": {},
   "source": [
    "# Import offers"
   ]
  },
  {
   "cell_type": "code",
   "execution_count": 6,
   "metadata": {},
   "outputs": [
    {
     "ename": "SyntaxError",
     "evalue": "invalid syntax (3077321073.py, line 1)",
     "output_type": "error",
     "traceback": [
      "\u001b[0;36m  Cell \u001b[0;32mIn[6], line 1\u001b[0;36m\u001b[0m\n\u001b[0;31m    df_offers =\u001b[0m\n\u001b[0m                ^\u001b[0m\n\u001b[0;31mSyntaxError\u001b[0m\u001b[0;31m:\u001b[0m invalid syntax\n"
     ]
    }
   ],
   "source": [
    "df_offers = "
   ]
  },
  {
   "cell_type": "markdown",
   "metadata": {},
   "source": [
    "# Create functions"
   ]
  },
  {
   "cell_type": "code",
   "execution_count": null,
   "metadata": {},
   "outputs": [],
   "source": []
  }
 ],
 "metadata": {
  "kernelspec": {
   "display_name": ".venv",
   "language": "python",
   "name": "python3"
  },
  "language_info": {
   "codemirror_mode": {
    "name": "ipython",
    "version": 3
   },
   "file_extension": ".py",
   "mimetype": "text/x-python",
   "name": "python",
   "nbconvert_exporter": "python",
   "pygments_lexer": "ipython3",
   "version": "3.9.16"
  }
 },
 "nbformat": 4,
 "nbformat_minor": 2
}
