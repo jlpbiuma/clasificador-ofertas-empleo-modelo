{
 "cells": [
  {
   "cell_type": "code",
   "execution_count": 1,
   "metadata": {},
   "outputs": [],
   "source": [
    "from functions import *\n",
    "import pandas as pd\n",
    "import numpy as np\n",
    "import json"
   ]
  },
  {
   "cell_type": "markdown",
   "metadata": {},
   "source": [
    "# Import training data"
   ]
  },
  {
   "cell_type": "code",
   "execution_count": 2,
   "metadata": {},
   "outputs": [
    {
     "name": "stdout",
     "output_type": "stream",
     "text": [
      "(50099, 5)\n"
     ]
    },
    {
     "data": {
      "text/html": [
       "<div>\n",
       "<style scoped>\n",
       "    .dataframe tbody tr th:only-of-type {\n",
       "        vertical-align: middle;\n",
       "    }\n",
       "\n",
       "    .dataframe tbody tr th {\n",
       "        vertical-align: top;\n",
       "    }\n",
       "\n",
       "    .dataframe thead th {\n",
       "        text-align: right;\n",
       "    }\n",
       "</style>\n",
       "<table border=\"1\" class=\"dataframe\">\n",
       "  <thead>\n",
       "    <tr style=\"text-align: right;\">\n",
       "      <th></th>\n",
       "      <th>ID_OFERTA</th>\n",
       "      <th>ID_PUESTO_ESCO_ULL</th>\n",
       "      <th>CATEGORIA</th>\n",
       "      <th>SUBCATEGORIA</th>\n",
       "      <th>PALABRAS_EMPLEO_TEXTO_NUEVAS</th>\n",
       "    </tr>\n",
       "  </thead>\n",
       "  <tbody>\n",
       "    <tr>\n",
       "      <th>0</th>\n",
       "      <td>ef5a8ae0a743018628df9bd53893bb</td>\n",
       "      <td>1634</td>\n",
       "      <td>Administracion de empresas</td>\n",
       "      <td>Administracion</td>\n",
       "      <td>ADMINISTRATIVO INGLES NAVISION TURNAR EMPRESA ...</td>\n",
       "    </tr>\n",
       "    <tr>\n",
       "      <th>1</th>\n",
       "      <td>47137c06a640348ca4cb7dcbf938b1</td>\n",
       "      <td>611</td>\n",
       "      <td>Sanidad y salud</td>\n",
       "      <td>Medicina general</td>\n",
       "      <td>MEDICAR FUNCIONAR DESEMPENAR PROPIO PONER MEDI...</td>\n",
       "    </tr>\n",
       "    <tr>\n",
       "      <th>2</th>\n",
       "      <td>cdfb72672340819a6721db72eee187</td>\n",
       "      <td>2825</td>\n",
       "      <td>Comercial y ventas</td>\n",
       "      <td>Comercial</td>\n",
       "      <td>REPARTIDOR BUSCAR PERSONA PONER CHOFER REPARTI...</td>\n",
       "    </tr>\n",
       "    <tr>\n",
       "      <th>3</th>\n",
       "      <td>5746210e854264aaca9452f4d377a4</td>\n",
       "      <td>1984</td>\n",
       "      <td>Ventas al detalle</td>\n",
       "      <td>Venta al detalle</td>\n",
       "      <td>DEPENDIENTE ABRIR PROCESAR SELECCION DEPENDIEN...</td>\n",
       "    </tr>\n",
       "    <tr>\n",
       "      <th>4</th>\n",
       "      <td>8a1bda0c91438bb4133f32e392a1ce</td>\n",
       "      <td>1984</td>\n",
       "      <td>Ventas al detalle</td>\n",
       "      <td>Venta al detalle</td>\n",
       "      <td>DEPENDIENTE STRADIVARIUS CC PALMERO FUERTEVENT...</td>\n",
       "    </tr>\n",
       "  </tbody>\n",
       "</table>\n",
       "</div>"
      ],
      "text/plain": [
       "                        ID_OFERTA  ID_PUESTO_ESCO_ULL  \\\n",
       "0  ef5a8ae0a743018628df9bd53893bb                1634   \n",
       "1  47137c06a640348ca4cb7dcbf938b1                 611   \n",
       "2  cdfb72672340819a6721db72eee187                2825   \n",
       "3  5746210e854264aaca9452f4d377a4                1984   \n",
       "4  8a1bda0c91438bb4133f32e392a1ce                1984   \n",
       "\n",
       "                    CATEGORIA      SUBCATEGORIA  \\\n",
       "0  Administracion de empresas    Administracion   \n",
       "1             Sanidad y salud  Medicina general   \n",
       "2          Comercial y ventas         Comercial   \n",
       "3           Ventas al detalle  Venta al detalle   \n",
       "4           Ventas al detalle  Venta al detalle   \n",
       "\n",
       "                        PALABRAS_EMPLEO_TEXTO_NUEVAS  \n",
       "0  ADMINISTRATIVO INGLES NAVISION TURNAR EMPRESA ...  \n",
       "1  MEDICAR FUNCIONAR DESEMPENAR PROPIO PONER MEDI...  \n",
       "2  REPARTIDOR BUSCAR PERSONA PONER CHOFER REPARTI...  \n",
       "3  DEPENDIENTE ABRIR PROCESAR SELECCION DEPENDIEN...  \n",
       "4  DEPENDIENTE STRADIVARIUS CC PALMERO FUERTEVENT...  "
      ]
     },
     "execution_count": 2,
     "metadata": {},
     "output_type": "execute_result"
    }
   ],
   "source": [
    "path_df_train = '../data/test/test_palabras_nuevas.json'\n",
    "df_train = pd.read_json(path_df_train)\n",
    "# Transform columns to uppercase\n",
    "df_train.columns = map(str.upper, df_train.columns)\n",
    "print(df_train.shape)\n",
    "df_train.head()"
   ]
  },
  {
   "cell_type": "markdown",
   "metadata": {},
   "source": [
    "# Create Vector and Vocabulary"
   ]
  },
  {
   "cell_type": "code",
   "execution_count": 3,
   "metadata": {},
   "outputs": [
    {
     "name": "stderr",
     "output_type": "stream",
     "text": [
      "/home/fulp/clasificador_ofertas_empleo/clasificador-ofertas-empleo-modelo/.venv/lib64/python3.9/site-packages/sklearn/feature_extraction/text.py:525: UserWarning: The parameter 'token_pattern' will not be used since 'tokenizer' is not None'\n",
      "  warnings.warn(\n",
      "/home/fulp/clasificador_ofertas_empleo/clasificador-ofertas-empleo-modelo/.venv/lib64/python3.9/site-packages/sklearn/feature_extraction/text.py:525: UserWarning: The parameter 'token_pattern' will not be used since 'tokenizer' is not None'\n",
      "  warnings.warn(\n",
      "/home/fulp/clasificador_ofertas_empleo/clasificador-ofertas-empleo-modelo/.venv/lib64/python3.9/site-packages/sklearn/feature_extraction/text.py:525: UserWarning: The parameter 'token_pattern' will not be used since 'tokenizer' is not None'\n",
      "  warnings.warn(\n"
     ]
    },
    {
     "name": "stdout",
     "output_type": "stream",
     "text": [
      "Before:  18020\n",
      "After:  10885\n"
     ]
    }
   ],
   "source": [
    "from functions.vocabulary import create_vocabulary, save_vocabulary, load_vocabulary\n",
    "from functions.vectorization import create_vectorize_dataframe, save_vectorized_dataframe\n",
    "# Load vocabulary\n",
    "# vocabulary = load_vocabulary('../data/vocabulary/vocabulary_occupation_count.json')\n",
    "# Create vocabulary\n",
    "# # Add all CATEGORIA and SUBCATEGORIA to vocabulary\n",
    "# def add_categories_to_vocabulary(df, vocabulary):\n",
    "#     # Get the unique values in CATEGORIA and SUBCATEGORIA in df\n",
    "#     categories = df['CATEGORIA'].unique()\n",
    "#     subcategories = df['SUBCATEGORIA'].unique()\n",
    "#     # Save actual vocabulary as PALABRAS_EMPLEO_TEXTO_NUEVAS\n",
    "#     vocabulary['PALABRAS_EMPLEO_TEXTO_NUEVAS'] = vocabulary\n",
    "#     # Add categories and subcategories to vocabulary\n",
    "#     vocabulary['CATEGORIA'] = categories\n",
    "#     vocabulary['SUBCATEGORIA'] = subcategories\n",
    "#     return vocabulary\n",
    "# vocabulary = add_categories_to_vocabulary(df_train, vocabulary)\n",
    "vocabulary = create_vocabulary(df_train)\n",
    "vocabulary_delete = load_vocabulary('../data/vocabulary/vocabulary_delete.json')\n",
    "def filter_vocabulary(vocabulary, vocabulary_delete):\n",
    "    words = vocabulary_delete.keys()\n",
    "    # Delete the word in vocabulary['PALABRAS_EMPLEO_TEXTO_NUEVAS'] if it is in words\n",
    "    for word in vocabulary['PALABRAS_EMPLEO_TEXTO_NUEVAS']:\n",
    "        if word in words:\n",
    "            vocabulary['PALABRAS_EMPLEO_TEXTO_NUEVAS'].remove(word)\n",
    "    return vocabulary\n",
    "print(\"Before: \", len(vocabulary['PALABRAS_EMPLEO_TEXTO_NUEVAS']))\n",
    "vocabulary = filter_vocabulary(vocabulary, vocabulary_delete)\n",
    "print(\"After: \", len(vocabulary['PALABRAS_EMPLEO_TEXTO_NUEVAS']))\n",
    "# Save vocabulary\n",
    "save_vocabulary(vocabulary, '../data/train/vocabulary.json')\n",
    "# Create vectorized dataframe\n",
    "df_train_vectorized = create_vectorize_dataframe(df_train, vocabulary)\n",
    "# Save vectorized dataframe\n",
    "save_vectorized_dataframe(df_train_vectorized, '../data/train/df_train_vectorized.npy')"
   ]
  }
 ],
 "metadata": {
  "kernelspec": {
   "display_name": ".venv",
   "language": "python",
   "name": "python3"
  },
  "language_info": {
   "codemirror_mode": {
    "name": "ipython",
    "version": 3
   },
   "file_extension": ".py",
   "mimetype": "text/x-python",
   "name": "python",
   "nbconvert_exporter": "python",
   "pygments_lexer": "ipython3",
   "version": "3.9.16"
  },
  "orig_nbformat": 4
 },
 "nbformat": 4,
 "nbformat_minor": 2
}
