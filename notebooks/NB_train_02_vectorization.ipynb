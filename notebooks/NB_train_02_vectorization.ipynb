{
 "cells": [
  {
   "cell_type": "code",
   "execution_count": 1,
   "metadata": {},
   "outputs": [],
   "source": [
    "from functions import *\n",
    "import pandas as pd\n",
    "import numpy as np\n",
    "import json"
   ]
  },
  {
   "cell_type": "markdown",
   "metadata": {},
   "source": [
    "# Import training data"
   ]
  },
  {
   "cell_type": "code",
   "execution_count": 2,
   "metadata": {},
   "outputs": [
    {
     "name": "stdout",
     "output_type": "stream",
     "text": [
      "(47386, 8)\n"
     ]
    },
    {
     "data": {
      "text/html": [
       "<div>\n",
       "<style scoped>\n",
       "    .dataframe tbody tr th:only-of-type {\n",
       "        vertical-align: middle;\n",
       "    }\n",
       "\n",
       "    .dataframe tbody tr th {\n",
       "        vertical-align: top;\n",
       "    }\n",
       "\n",
       "    .dataframe thead th {\n",
       "        text-align: right;\n",
       "    }\n",
       "</style>\n",
       "<table border=\"1\" class=\"dataframe\">\n",
       "  <thead>\n",
       "    <tr style=\"text-align: right;\">\n",
       "      <th></th>\n",
       "      <th>ID_OFERTA</th>\n",
       "      <th>SUBCATEGORIA</th>\n",
       "      <th>CATEGORIA</th>\n",
       "      <th>PALABRAS_EMPLEO_TEXTO</th>\n",
       "      <th>ID_PUESTO_ESCO</th>\n",
       "      <th>ID_PUESTO_ESCO_ULL</th>\n",
       "      <th>NUM_WORDS</th>\n",
       "      <th>RELATIVE_SIGNATURE</th>\n",
       "    </tr>\n",
       "  </thead>\n",
       "  <tbody>\n",
       "    <tr>\n",
       "      <th>0</th>\n",
       "      <td>a30098efc341799f3d6cb4041835cb</td>\n",
       "      <td>Agente comercial</td>\n",
       "      <td>Comercial y ventas</td>\n",
       "      <td>GESTOR PUNTOS VENTAS EQUIPOS COMERCIAL MANTENI...</td>\n",
       "      <td>2013</td>\n",
       "      <td>2013</td>\n",
       "      <td>7</td>\n",
       "      <td>0.15</td>\n",
       "    </tr>\n",
       "    <tr>\n",
       "      <th>1</th>\n",
       "      <td>59cd1d84f9448084d8163233d99e5a</td>\n",
       "      <td>Estética y cosmética</td>\n",
       "      <td>Profesiones, artes y oficios</td>\n",
       "      <td>RESPONSABLE GESTION TALENTO EMPRESAS RECURSOS ...</td>\n",
       "      <td>857</td>\n",
       "      <td>857</td>\n",
       "      <td>76</td>\n",
       "      <td>0.83</td>\n",
       "    </tr>\n",
       "    <tr>\n",
       "      <th>2</th>\n",
       "      <td>f2d121c7ec46e4a35d6ce40bad3904</td>\n",
       "      <td>Educación social</td>\n",
       "      <td>Educación y formación</td>\n",
       "      <td>MONITORA CENTRO CUENTAS FORMACIONES ACOMPAÑAMI...</td>\n",
       "      <td>1034</td>\n",
       "      <td>1034</td>\n",
       "      <td>18</td>\n",
       "      <td>0.42</td>\n",
       "    </tr>\n",
       "    <tr>\n",
       "      <th>3</th>\n",
       "      <td>ca5e08f34f42d484be62c4cf2dec3e</td>\n",
       "      <td>Enfermería</td>\n",
       "      <td>Sanidad y salud</td>\n",
       "      <td>ENFERMERA PASION TRABAJO PERSONA ACTIVOS ATENC...</td>\n",
       "      <td>2063</td>\n",
       "      <td>2063</td>\n",
       "      <td>37</td>\n",
       "      <td>0.74</td>\n",
       "    </tr>\n",
       "    <tr>\n",
       "      <th>4</th>\n",
       "      <td>858474e73043b7ba2f0d464e37138d</td>\n",
       "      <td>Distribución y logística</td>\n",
       "      <td>Compras, logística y almacén</td>\n",
       "      <td>CONDUCTOR REPARTO MERCANCIA CONTRATOS C CAP EX...</td>\n",
       "      <td>2825</td>\n",
       "      <td>2825</td>\n",
       "      <td>8</td>\n",
       "      <td>0.29</td>\n",
       "    </tr>\n",
       "  </tbody>\n",
       "</table>\n",
       "</div>"
      ],
      "text/plain": [
       "                        ID_OFERTA              SUBCATEGORIA  \\\n",
       "0  a30098efc341799f3d6cb4041835cb          Agente comercial   \n",
       "1  59cd1d84f9448084d8163233d99e5a      Estética y cosmética   \n",
       "2  f2d121c7ec46e4a35d6ce40bad3904          Educación social   \n",
       "3  ca5e08f34f42d484be62c4cf2dec3e                Enfermería   \n",
       "4  858474e73043b7ba2f0d464e37138d  Distribución y logística   \n",
       "\n",
       "                      CATEGORIA  \\\n",
       "0            Comercial y ventas   \n",
       "1  Profesiones, artes y oficios   \n",
       "2         Educación y formación   \n",
       "3               Sanidad y salud   \n",
       "4  Compras, logística y almacén   \n",
       "\n",
       "                               PALABRAS_EMPLEO_TEXTO  ID_PUESTO_ESCO  \\\n",
       "0  GESTOR PUNTOS VENTAS EQUIPOS COMERCIAL MANTENI...            2013   \n",
       "1  RESPONSABLE GESTION TALENTO EMPRESAS RECURSOS ...             857   \n",
       "2  MONITORA CENTRO CUENTAS FORMACIONES ACOMPAÑAMI...            1034   \n",
       "3  ENFERMERA PASION TRABAJO PERSONA ACTIVOS ATENC...            2063   \n",
       "4  CONDUCTOR REPARTO MERCANCIA CONTRATOS C CAP EX...            2825   \n",
       "\n",
       "   ID_PUESTO_ESCO_ULL  NUM_WORDS  RELATIVE_SIGNATURE  \n",
       "0                2013          7                0.15  \n",
       "1                 857         76                0.83  \n",
       "2                1034         18                0.42  \n",
       "3                2063         37                0.74  \n",
       "4                2825          8                0.29  "
      ]
     },
     "execution_count": 2,
     "metadata": {},
     "output_type": "execute_result"
    }
   ],
   "source": [
    "path_df_train = '../data/train/TRAIN_filter.json'\n",
    "df_train = pd.read_json(path_df_train)\n",
    "# Transform columns to uppercase\n",
    "df_train.columns = map(str.upper, df_train.columns)\n",
    "print(df_train.shape)\n",
    "df_train.head()"
   ]
  },
  {
   "cell_type": "markdown",
   "metadata": {},
   "source": [
    "# Create Vector and Vocabulary"
   ]
  },
  {
   "cell_type": "code",
   "execution_count": 3,
   "metadata": {},
   "outputs": [
    {
     "name": "stderr",
     "output_type": "stream",
     "text": [
      "/home/fulp/clasificador_ofertas_empleo/clasificador-ofertas-empleo-modelo/.venv/lib64/python3.9/site-packages/sklearn/feature_extraction/text.py:525: UserWarning: The parameter 'token_pattern' will not be used since 'tokenizer' is not None'\n",
      "  warnings.warn(\n",
      "/home/fulp/clasificador_ofertas_empleo/clasificador-ofertas-empleo-modelo/.venv/lib64/python3.9/site-packages/sklearn/feature_extraction/text.py:525: UserWarning: The parameter 'token_pattern' will not be used since 'tokenizer' is not None'\n",
      "  warnings.warn(\n",
      "/home/fulp/clasificador_ofertas_empleo/clasificador-ofertas-empleo-modelo/.venv/lib64/python3.9/site-packages/sklearn/feature_extraction/text.py:525: UserWarning: The parameter 'token_pattern' will not be used since 'tokenizer' is not None'\n",
      "  warnings.warn(\n"
     ]
    }
   ],
   "source": [
    "from functions.vocabulary import create_vocabulary, save_vocabulary\n",
    "from functions.vectorization import create_vectorize_dataframe, save_vectorized_dataframe\n",
    "\n",
    "# Create vocabulary\n",
    "vocabulary = create_vocabulary(df_train)\n",
    "# Save vocabulary\n",
    "save_vocabulary(vocabulary, '../data/train/vocabulary.json')\n",
    "# Create vectorized dataframe\n",
    "df_train_vectorized = create_vectorize_dataframe(df_train, vocabulary)\n",
    "# Save vectorized dataframe\n",
    "save_vectorized_dataframe(df_train_vectorized, '../data/train/df_train_vectorized.npy')"
   ]
  }
 ],
 "metadata": {
  "kernelspec": {
   "display_name": ".venv",
   "language": "python",
   "name": "python3"
  },
  "language_info": {
   "codemirror_mode": {
    "name": "ipython",
    "version": 3
   },
   "file_extension": ".py",
   "mimetype": "text/x-python",
   "name": "python",
   "nbconvert_exporter": "python",
   "pygments_lexer": "ipython3",
   "version": "3.9.16"
  },
  "orig_nbformat": 4
 },
 "nbformat": 4,
 "nbformat_minor": 2
}
