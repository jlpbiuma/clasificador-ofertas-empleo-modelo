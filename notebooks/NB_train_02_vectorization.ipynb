{
 "cells": [
  {
   "cell_type": "code",
   "execution_count": 1,
   "metadata": {},
   "outputs": [],
   "source": [
    "from functions import *\n",
    "import pandas as pd\n",
    "import numpy as np\n",
    "import json"
   ]
  },
  {
   "cell_type": "markdown",
   "metadata": {},
   "source": [
    "# Import training data"
   ]
  },
  {
   "cell_type": "code",
   "execution_count": 2,
   "metadata": {},
   "outputs": [
    {
     "name": "stdout",
     "output_type": "stream",
     "text": [
      "(47386, 8)\n"
     ]
    },
    {
     "data": {
      "text/html": [
       "<div>\n",
       "<style scoped>\n",
       "    .dataframe tbody tr th:only-of-type {\n",
       "        vertical-align: middle;\n",
       "    }\n",
       "\n",
       "    .dataframe tbody tr th {\n",
       "        vertical-align: top;\n",
       "    }\n",
       "\n",
       "    .dataframe thead th {\n",
       "        text-align: right;\n",
       "    }\n",
       "</style>\n",
       "<table border=\"1\" class=\"dataframe\">\n",
       "  <thead>\n",
       "    <tr style=\"text-align: right;\">\n",
       "      <th></th>\n",
       "      <th>ID_OFERTA</th>\n",
       "      <th>SUBCATEGORIA</th>\n",
       "      <th>CATEGORIA</th>\n",
       "      <th>PALABRAS_EMPLEO_TEXTO</th>\n",
       "      <th>ID_PUESTO_ESCO</th>\n",
       "      <th>ID_PUESTO_ESCO_ULL</th>\n",
       "      <th>NUM_WORDS</th>\n",
       "      <th>RELATIVE_SIGNATURE</th>\n",
       "    </tr>\n",
       "  </thead>\n",
       "  <tbody>\n",
       "    <tr>\n",
       "      <th>0</th>\n",
       "      <td>e0d2a3efbf42a6bf9af0b749feb0f6</td>\n",
       "      <td>Sistemas</td>\n",
       "      <td>Informática y telecomunicaciones</td>\n",
       "      <td>BBDD SQL EQUIPOS PROYECTO EXPERIENCIA ADMINIST...</td>\n",
       "      <td>961</td>\n",
       "      <td>961</td>\n",
       "      <td>37</td>\n",
       "      <td>0.57</td>\n",
       "    </tr>\n",
       "    <tr>\n",
       "      <th>1</th>\n",
       "      <td>b979c8365d41c9af8f00886cfdbb5d</td>\n",
       "      <td>Hostelería</td>\n",
       "      <td>Turismo y restauración</td>\n",
       "      <td>LIMPIEZA CONSERVACION COCINADOS REGENERACION R...</td>\n",
       "      <td>1902</td>\n",
       "      <td>1902</td>\n",
       "      <td>41</td>\n",
       "      <td>0.79</td>\n",
       "    </tr>\n",
       "    <tr>\n",
       "      <th>2</th>\n",
       "      <td>9428bcf9c94f30959c62aba272f252</td>\n",
       "      <td>Marketing</td>\n",
       "      <td>Marketing y comunicación</td>\n",
       "      <td>TECNICO MARKETING DIGITAL PERSONA DINAMICA CAP...</td>\n",
       "      <td>2947</td>\n",
       "      <td>2947</td>\n",
       "      <td>34</td>\n",
       "      <td>0.63</td>\n",
       "    </tr>\n",
       "    <tr>\n",
       "      <th>3</th>\n",
       "      <td>1759eeb0974aa58ccf96e71df676f3</td>\n",
       "      <td>Venta al detalle</td>\n",
       "      <td>Ventas al detalle</td>\n",
       "      <td>MANAGERS TIENDAS RESPONSABILIDADES OPERATIVO E...</td>\n",
       "      <td>79</td>\n",
       "      <td>79</td>\n",
       "      <td>49</td>\n",
       "      <td>0.61</td>\n",
       "    </tr>\n",
       "    <tr>\n",
       "      <th>4</th>\n",
       "      <td>3bed3916274ed48aee8810cea08e47</td>\n",
       "      <td>Hostelería</td>\n",
       "      <td>Turismo y restauración</td>\n",
       "      <td>JEFE COCINA HOTELES PERSONAL SUPERVISAR COCINA...</td>\n",
       "      <td>1742</td>\n",
       "      <td>1742</td>\n",
       "      <td>35</td>\n",
       "      <td>0.61</td>\n",
       "    </tr>\n",
       "  </tbody>\n",
       "</table>\n",
       "</div>"
      ],
      "text/plain": [
       "                        ID_OFERTA      SUBCATEGORIA  \\\n",
       "0  e0d2a3efbf42a6bf9af0b749feb0f6          Sistemas   \n",
       "1  b979c8365d41c9af8f00886cfdbb5d        Hostelería   \n",
       "2  9428bcf9c94f30959c62aba272f252         Marketing   \n",
       "3  1759eeb0974aa58ccf96e71df676f3  Venta al detalle   \n",
       "4  3bed3916274ed48aee8810cea08e47        Hostelería   \n",
       "\n",
       "                          CATEGORIA  \\\n",
       "0  Informática y telecomunicaciones   \n",
       "1            Turismo y restauración   \n",
       "2          Marketing y comunicación   \n",
       "3                 Ventas al detalle   \n",
       "4            Turismo y restauración   \n",
       "\n",
       "                               PALABRAS_EMPLEO_TEXTO  ID_PUESTO_ESCO  \\\n",
       "0  BBDD SQL EQUIPOS PROYECTO EXPERIENCIA ADMINIST...             961   \n",
       "1  LIMPIEZA CONSERVACION COCINADOS REGENERACION R...            1902   \n",
       "2  TECNICO MARKETING DIGITAL PERSONA DINAMICA CAP...            2947   \n",
       "3  MANAGERS TIENDAS RESPONSABILIDADES OPERATIVO E...              79   \n",
       "4  JEFE COCINA HOTELES PERSONAL SUPERVISAR COCINA...            1742   \n",
       "\n",
       "   ID_PUESTO_ESCO_ULL  NUM_WORDS  RELATIVE_SIGNATURE  \n",
       "0                 961         37                0.57  \n",
       "1                1902         41                0.79  \n",
       "2                2947         34                0.63  \n",
       "3                  79         49                0.61  \n",
       "4                1742         35                0.61  "
      ]
     },
     "execution_count": 2,
     "metadata": {},
     "output_type": "execute_result"
    }
   ],
   "source": [
    "path_df_train = '../data/train/TRAIN_filter.json'\n",
    "df_train = pd.read_json(path_df_train)\n",
    "# Transform columns to uppercase\n",
    "df_train.columns = map(str.upper, df_train.columns)\n",
    "print(df_train.shape)\n",
    "df_train.head()"
   ]
  },
  {
   "cell_type": "markdown",
   "metadata": {},
   "source": [
    "# Create Vector and Vocabulary"
   ]
  },
  {
   "cell_type": "code",
   "execution_count": 3,
   "metadata": {},
   "outputs": [
    {
     "name": "stderr",
     "output_type": "stream",
     "text": [
      "/home/fulp/clasificador_ofertas_empleo/clasificador-ofertas-empleo-modelo/.venv/lib64/python3.9/site-packages/sklearn/feature_extraction/text.py:525: UserWarning: The parameter 'token_pattern' will not be used since 'tokenizer' is not None'\n",
      "  warnings.warn(\n",
      "/home/fulp/clasificador_ofertas_empleo/clasificador-ofertas-empleo-modelo/.venv/lib64/python3.9/site-packages/sklearn/feature_extraction/text.py:525: UserWarning: The parameter 'token_pattern' will not be used since 'tokenizer' is not None'\n",
      "  warnings.warn(\n",
      "/home/fulp/clasificador_ofertas_empleo/clasificador-ofertas-empleo-modelo/.venv/lib64/python3.9/site-packages/sklearn/feature_extraction/text.py:525: UserWarning: The parameter 'token_pattern' will not be used since 'tokenizer' is not None'\n",
      "  warnings.warn(\n"
     ]
    }
   ],
   "source": [
    "from functions.vocabulary import create_vocabulary, save_vocabulary\n",
    "from functions.vectorization import create_vectorize_dataframe, save_vectorized_dataframe\n",
    "\n",
    "# Create vocabulary\n",
    "vocabulary = create_vocabulary(df_train)\n",
    "# Save vocabulary\n",
    "save_vocabulary(vocabulary, '../data/train/vocabulary.json')\n",
    "# Create vectorized dataframe\n",
    "df_train_vectorized = create_vectorize_dataframe(df_train, vocabulary)\n",
    "# Save vectorized dataframe\n",
    "save_vectorized_dataframe(df_train_vectorized, '../data/train/df_train_vectorized.npy')"
   ]
  }
 ],
 "metadata": {
  "kernelspec": {
   "display_name": ".venv",
   "language": "python",
   "name": "python3"
  },
  "language_info": {
   "codemirror_mode": {
    "name": "ipython",
    "version": 3
   },
   "file_extension": ".py",
   "mimetype": "text/x-python",
   "name": "python",
   "nbconvert_exporter": "python",
   "pygments_lexer": "ipython3",
   "version": "3.9.16"
  },
  "orig_nbformat": 4
 },
 "nbformat": 4,
 "nbformat_minor": 2
}
