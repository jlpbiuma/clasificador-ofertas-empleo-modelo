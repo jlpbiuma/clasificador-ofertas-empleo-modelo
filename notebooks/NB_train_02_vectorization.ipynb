{
 "cells": [
  {
   "cell_type": "code",
   "execution_count": 7,
   "metadata": {},
   "outputs": [],
   "source": [
    "from functions import *\n",
    "import pandas as pd\n",
    "import numpy as np\n",
    "import json"
   ]
  },
  {
   "cell_type": "markdown",
   "metadata": {},
   "source": [
    "# Import training data"
   ]
  },
  {
   "cell_type": "code",
   "execution_count": 8,
   "metadata": {},
   "outputs": [
    {
     "name": "stdout",
     "output_type": "stream",
     "text": [
      "(38275, 7)\n"
     ]
    },
    {
     "data": {
      "text/html": [
       "<div>\n",
       "<style scoped>\n",
       "    .dataframe tbody tr th:only-of-type {\n",
       "        vertical-align: middle;\n",
       "    }\n",
       "\n",
       "    .dataframe tbody tr th {\n",
       "        vertical-align: top;\n",
       "    }\n",
       "\n",
       "    .dataframe thead th {\n",
       "        text-align: right;\n",
       "    }\n",
       "</style>\n",
       "<table border=\"1\" class=\"dataframe\">\n",
       "  <thead>\n",
       "    <tr style=\"text-align: right;\">\n",
       "      <th></th>\n",
       "      <th>ID_OFERTA</th>\n",
       "      <th>SUBCATEGORIA</th>\n",
       "      <th>CATEGORIA</th>\n",
       "      <th>PALABRAS_EMPLEO_TEXTO</th>\n",
       "      <th>ID_PUESTO_ESCO</th>\n",
       "      <th>ID_PUESTO_ESCO_ULL</th>\n",
       "      <th>NUM_WORDS</th>\n",
       "    </tr>\n",
       "  </thead>\n",
       "  <tbody>\n",
       "    <tr>\n",
       "      <th>0</th>\n",
       "      <td>39c3c05bc84ee0bd491b08ac3154ad</td>\n",
       "      <td>Hardware, redes y seguridad</td>\n",
       "      <td>Informática y telecomunicaciones</td>\n",
       "      <td>TECNICO CIBERSEGURIDAD SISTEMA INFORMACION INF...</td>\n",
       "      <td>1780</td>\n",
       "      <td>1780</td>\n",
       "      <td>42</td>\n",
       "    </tr>\n",
       "    <tr>\n",
       "      <th>1</th>\n",
       "      <td>c588d66c5142ea84d2b1590c26acd7</td>\n",
       "      <td>Programación</td>\n",
       "      <td>Informática y telecomunicaciones</td>\n",
       "      <td>PROGRAMADOR MICROSTRATEGY TELETRABAJO EMPRESAS...</td>\n",
       "      <td>936</td>\n",
       "      <td>936</td>\n",
       "      <td>19</td>\n",
       "    </tr>\n",
       "    <tr>\n",
       "      <th>2</th>\n",
       "      <td>cff33a8a2a4161a26654c2237e6f96</td>\n",
       "      <td>Comercial</td>\n",
       "      <td>Comercial y ventas</td>\n",
       "      <td>ASESORES SEGUROS ASEGURADORA AGENTE COMERCIAL ...</td>\n",
       "      <td>1504</td>\n",
       "      <td>1504</td>\n",
       "      <td>34</td>\n",
       "    </tr>\n",
       "    <tr>\n",
       "      <th>3</th>\n",
       "      <td>36a78a4452476ebcfb66c5aecec8d0</td>\n",
       "      <td>Atención al cliente</td>\n",
       "      <td>Atención a clientes</td>\n",
       "      <td>ATENCIONES CLIENTES IDIOMAS FRANCES REMOTA ECO...</td>\n",
       "      <td>1835</td>\n",
       "      <td>1835</td>\n",
       "      <td>30</td>\n",
       "    </tr>\n",
       "    <tr>\n",
       "      <th>4</th>\n",
       "      <td>d84c1cca8f49afb5922fafab31719b</td>\n",
       "      <td>Turismo</td>\n",
       "      <td>Turismo y restauración</td>\n",
       "      <td>JEFE B EMPRESAS ESTRUCTURAS VERTICALES TURISTI...</td>\n",
       "      <td>41</td>\n",
       "      <td>346</td>\n",
       "      <td>56</td>\n",
       "    </tr>\n",
       "  </tbody>\n",
       "</table>\n",
       "</div>"
      ],
      "text/plain": [
       "                        ID_OFERTA                 SUBCATEGORIA  \\\n",
       "0  39c3c05bc84ee0bd491b08ac3154ad  Hardware, redes y seguridad   \n",
       "1  c588d66c5142ea84d2b1590c26acd7                 Programación   \n",
       "2  cff33a8a2a4161a26654c2237e6f96                    Comercial   \n",
       "3  36a78a4452476ebcfb66c5aecec8d0          Atención al cliente   \n",
       "4  d84c1cca8f49afb5922fafab31719b                      Turismo   \n",
       "\n",
       "                          CATEGORIA  \\\n",
       "0  Informática y telecomunicaciones   \n",
       "1  Informática y telecomunicaciones   \n",
       "2                Comercial y ventas   \n",
       "3               Atención a clientes   \n",
       "4            Turismo y restauración   \n",
       "\n",
       "                               PALABRAS_EMPLEO_TEXTO  ID_PUESTO_ESCO  \\\n",
       "0  TECNICO CIBERSEGURIDAD SISTEMA INFORMACION INF...            1780   \n",
       "1  PROGRAMADOR MICROSTRATEGY TELETRABAJO EMPRESAS...             936   \n",
       "2  ASESORES SEGUROS ASEGURADORA AGENTE COMERCIAL ...            1504   \n",
       "3  ATENCIONES CLIENTES IDIOMAS FRANCES REMOTA ECO...            1835   \n",
       "4  JEFE B EMPRESAS ESTRUCTURAS VERTICALES TURISTI...              41   \n",
       "\n",
       "   ID_PUESTO_ESCO_ULL  NUM_WORDS  \n",
       "0                1780         42  \n",
       "1                 936         19  \n",
       "2                1504         34  \n",
       "3                1835         30  \n",
       "4                 346         56  "
      ]
     },
     "execution_count": 8,
     "metadata": {},
     "output_type": "execute_result"
    }
   ],
   "source": [
    "path_df_train = '../data/train/TRAIN_filter_5_words_1000_offers.json'\n",
    "df_train = pd.read_json(path_df_train)\n",
    "# Transform columns to uppercase\n",
    "df_train.columns = map(str.upper, df_train.columns)\n",
    "print(df_train.shape)\n",
    "df_train.head()"
   ]
  },
  {
   "cell_type": "markdown",
   "metadata": {},
   "source": [
    "# Create Vector and Vocabulary"
   ]
  },
  {
   "cell_type": "code",
   "execution_count": 9,
   "metadata": {},
   "outputs": [
    {
     "name": "stderr",
     "output_type": "stream",
     "text": [
      "/home/fulp/clasificador_ofertas_empleo/clasificador-ofertas-empleo-modelo/.venv/lib64/python3.9/site-packages/sklearn/feature_extraction/text.py:525: UserWarning: The parameter 'token_pattern' will not be used since 'tokenizer' is not None'\n",
      "  warnings.warn(\n",
      "/home/fulp/clasificador_ofertas_empleo/clasificador-ofertas-empleo-modelo/.venv/lib64/python3.9/site-packages/sklearn/feature_extraction/text.py:525: UserWarning: The parameter 'token_pattern' will not be used since 'tokenizer' is not None'\n",
      "  warnings.warn(\n",
      "/home/fulp/clasificador_ofertas_empleo/clasificador-ofertas-empleo-modelo/.venv/lib64/python3.9/site-packages/sklearn/feature_extraction/text.py:525: UserWarning: The parameter 'token_pattern' will not be used since 'tokenizer' is not None'\n",
      "  warnings.warn(\n"
     ]
    }
   ],
   "source": [
    "from functions.vocabulary import create_vocabulary, save_vocabulary\n",
    "from functions.vectorization import create_vectorize_dataframe, save_vectorized_dataframe\n",
    "\n",
    "# Create vocabulary\n",
    "vocabulary = create_vocabulary(df_train)\n",
    "# Save vocabulary\n",
    "save_vocabulary(vocabulary, '../data/train/vocabulary.json')\n",
    "# Create vectorized dataframe\n",
    "df_train_vectorized = create_vectorize_dataframe(df_train, vocabulary)\n",
    "# Save vectorized dataframe\n",
    "save_vectorized_dataframe(df_train_vectorized, '../data/train/df_train_vectorized.npy')"
   ]
  }
 ],
 "metadata": {
  "kernelspec": {
   "display_name": ".venv",
   "language": "python",
   "name": "python3"
  },
  "language_info": {
   "codemirror_mode": {
    "name": "ipython",
    "version": 3
   },
   "file_extension": ".py",
   "mimetype": "text/x-python",
   "name": "python",
   "nbconvert_exporter": "python",
   "pygments_lexer": "ipython3",
   "version": "3.9.16"
  },
  "orig_nbformat": 4
 },
 "nbformat": 4,
 "nbformat_minor": 2
}
