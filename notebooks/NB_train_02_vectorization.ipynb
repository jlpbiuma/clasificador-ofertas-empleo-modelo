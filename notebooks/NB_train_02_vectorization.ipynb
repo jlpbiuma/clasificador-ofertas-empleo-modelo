{
 "cells": [
  {
   "cell_type": "code",
   "execution_count": 1,
   "metadata": {},
   "outputs": [],
   "source": [
    "from functions import *\n",
    "import pandas as pd\n",
    "import numpy as np\n",
    "import json"
   ]
  },
  {
   "cell_type": "markdown",
   "metadata": {},
   "source": [
    "# Import training data"
   ]
  },
  {
   "cell_type": "code",
   "execution_count": 2,
   "metadata": {},
   "outputs": [
    {
     "name": "stdout",
     "output_type": "stream",
     "text": [
      "(50099, 5)\n"
     ]
    },
    {
     "data": {
      "text/html": [
       "<div>\n",
       "<style scoped>\n",
       "    .dataframe tbody tr th:only-of-type {\n",
       "        vertical-align: middle;\n",
       "    }\n",
       "\n",
       "    .dataframe tbody tr th {\n",
       "        vertical-align: top;\n",
       "    }\n",
       "\n",
       "    .dataframe thead th {\n",
       "        text-align: right;\n",
       "    }\n",
       "</style>\n",
       "<table border=\"1\" class=\"dataframe\">\n",
       "  <thead>\n",
       "    <tr style=\"text-align: right;\">\n",
       "      <th></th>\n",
       "      <th>ID_OFERTA</th>\n",
       "      <th>ID_PUESTO_ESCO_ULL</th>\n",
       "      <th>CATEGORIA</th>\n",
       "      <th>SUBCATEGORIA</th>\n",
       "      <th>PALABRAS_EMPLEO_TEXTO_NUEVAS</th>\n",
       "    </tr>\n",
       "  </thead>\n",
       "  <tbody>\n",
       "    <tr>\n",
       "      <th>0</th>\n",
       "      <td>ef5a8ae0a743018628df9bd53893bb</td>\n",
       "      <td>1634</td>\n",
       "      <td>Administracion de empresas</td>\n",
       "      <td>Administracion</td>\n",
       "      <td>ADMINISTRATIVO INGLES NAVISION TURNAR EMPRESA ...</td>\n",
       "    </tr>\n",
       "    <tr>\n",
       "      <th>1</th>\n",
       "      <td>47137c06a640348ca4cb7dcbf938b1</td>\n",
       "      <td>611</td>\n",
       "      <td>Sanidad y salud</td>\n",
       "      <td>Medicina general</td>\n",
       "      <td>MEDICAR FUNCIONAR DESEMPENAR PROPIO PONER MEDI...</td>\n",
       "    </tr>\n",
       "    <tr>\n",
       "      <th>2</th>\n",
       "      <td>cdfb72672340819a6721db72eee187</td>\n",
       "      <td>2825</td>\n",
       "      <td>Comercial y ventas</td>\n",
       "      <td>Comercial</td>\n",
       "      <td>REPARTIDOR BUSCAR PERSONA PONER CHOFER REPARTI...</td>\n",
       "    </tr>\n",
       "    <tr>\n",
       "      <th>3</th>\n",
       "      <td>5746210e854264aaca9452f4d377a4</td>\n",
       "      <td>1984</td>\n",
       "      <td>Ventas al detalle</td>\n",
       "      <td>Venta al detalle</td>\n",
       "      <td>DEPENDIENTE ABRIR PROCESAR SELECCION DEPENDIEN...</td>\n",
       "    </tr>\n",
       "    <tr>\n",
       "      <th>4</th>\n",
       "      <td>8a1bda0c91438bb4133f32e392a1ce</td>\n",
       "      <td>1984</td>\n",
       "      <td>Ventas al detalle</td>\n",
       "      <td>Venta al detalle</td>\n",
       "      <td>DEPENDIENTE STRADIVARIUS CC PALMERO FUERTEVENT...</td>\n",
       "    </tr>\n",
       "  </tbody>\n",
       "</table>\n",
       "</div>"
      ],
      "text/plain": [
       "                        ID_OFERTA  ID_PUESTO_ESCO_ULL  \\\n",
       "0  ef5a8ae0a743018628df9bd53893bb                1634   \n",
       "1  47137c06a640348ca4cb7dcbf938b1                 611   \n",
       "2  cdfb72672340819a6721db72eee187                2825   \n",
       "3  5746210e854264aaca9452f4d377a4                1984   \n",
       "4  8a1bda0c91438bb4133f32e392a1ce                1984   \n",
       "\n",
       "                    CATEGORIA      SUBCATEGORIA  \\\n",
       "0  Administracion de empresas    Administracion   \n",
       "1             Sanidad y salud  Medicina general   \n",
       "2          Comercial y ventas         Comercial   \n",
       "3           Ventas al detalle  Venta al detalle   \n",
       "4           Ventas al detalle  Venta al detalle   \n",
       "\n",
       "                        PALABRAS_EMPLEO_TEXTO_NUEVAS  \n",
       "0  ADMINISTRATIVO INGLES NAVISION TURNAR EMPRESA ...  \n",
       "1  MEDICAR FUNCIONAR DESEMPENAR PROPIO PONER MEDI...  \n",
       "2  REPARTIDOR BUSCAR PERSONA PONER CHOFER REPARTI...  \n",
       "3  DEPENDIENTE ABRIR PROCESAR SELECCION DEPENDIEN...  \n",
       "4  DEPENDIENTE STRADIVARIUS CC PALMERO FUERTEVENT...  "
      ]
     },
     "execution_count": 2,
     "metadata": {},
     "output_type": "execute_result"
    }
   ],
   "source": [
    "path_df_train = '../data/test/test_palabras_nuevas.json'\n",
    "df_train = pd.read_json(path_df_train)\n",
    "# Transform columns to uppercase\n",
    "df_train.columns = map(str.upper, df_train.columns)\n",
    "print(df_train.shape)\n",
    "df_train.head()"
   ]
  },
  {
   "cell_type": "markdown",
   "metadata": {},
   "source": [
    "# Create Vector and Vocabulary"
   ]
  },
  {
   "cell_type": "code",
   "execution_count": 3,
   "metadata": {},
   "outputs": [],
   "source": [
    "from functions.vocabulary import create_vocabulary, save_vocabulary, load_vocabulary, filter_vocabulary, get_vocabulary_dimension\n",
    "from functions.vectorization import create_vectorize_dataframe, save_vectorized_dataframe\n",
    "# # Load vocabulary\n",
    "vocabulary = load_vocabulary('../data/vocabulary/vocabulary_importancia.json')\n",
    "\n",
    "def custom_tokenizer_category_subcategory(text):\n",
    "    # This function returns the text with underscores instead of spaces\n",
    "    text_with_underscores = text.replace(' ', '_')\n",
    "    return text_with_underscores\n",
    "\n",
    "def setup_vocabulary(vocabulary, df):\n",
    "    new_vocabulary = {}\n",
    "    new_vocabulary['PALABRAS_EMPLEO_TEXTO_NUEVAS'] = [word.lower() for word in vocabulary.keys()]\n",
    "    # Get all categories from unique values of CATEGORIA in df\n",
    "    new_vocabulary['CATEGORIA'] = df['CATEGORIA'].apply(custom_tokenizer_category_subcategory).unique().tolist()\n",
    "    # Get all subcategories from unique values of SUBCATEGORIA in df\n",
    "    new_vocabulary['SUBCATEGORIA'] = df['SUBCATEGORIA'].apply(custom_tokenizer_category_subcategory).unique().tolist()\n",
    "    return new_vocabulary\n",
    "# Setup new vocabulary adding CATEGORIA, SUBCATEGORIA, PALABRAS_EMPLEO_TEXTO_NUEVAS\n",
    "vocabulary = setup_vocabulary(vocabulary, df_train)\n",
    "# Create vocabulary\n",
    "# vocabulary = create_vocabulary(df_train)\n",
    "# Save vocabulary\n",
    "save_vocabulary(vocabulary, '../data/train/vocabulary.json')\n",
    "# Create vectorized dataframe\n",
    "df_train_vectorized = create_vectorize_dataframe(df_train, vocabulary)\n",
    "# Save vectorized dataframe\n",
    "save_vectorized_dataframe(df_train_vectorized, '../data/train/df_train_vectorized.npy')"
   ]
  },
  {
   "cell_type": "code",
   "execution_count": 4,
   "metadata": {},
   "outputs": [
    {
     "name": "stdout",
     "output_type": "stream",
     "text": [
      "13015\n"
     ]
    }
   ],
   "source": [
    "print(get_vocabulary_dimension(vocabulary))"
   ]
  }
 ],
 "metadata": {
  "kernelspec": {
   "display_name": ".venv",
   "language": "python",
   "name": "python3"
  },
  "language_info": {
   "codemirror_mode": {
    "name": "ipython",
    "version": 3
   },
   "file_extension": ".py",
   "mimetype": "text/x-python",
   "name": "python",
   "nbconvert_exporter": "python",
   "pygments_lexer": "ipython3",
   "version": "3.9.16"
  },
  "orig_nbformat": 4
 },
 "nbformat": 4,
 "nbformat_minor": 2
}
