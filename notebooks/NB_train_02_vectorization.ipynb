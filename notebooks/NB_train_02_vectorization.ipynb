{
 "cells": [
  {
   "cell_type": "code",
   "execution_count": 1,
   "metadata": {},
   "outputs": [],
   "source": [
    "from functions import *\n",
    "import pandas as pd\n",
    "import numpy as np\n",
    "import json"
   ]
  },
  {
   "cell_type": "markdown",
   "metadata": {},
   "source": [
    "# Import training data"
   ]
  },
  {
   "cell_type": "code",
   "execution_count": 2,
   "metadata": {},
   "outputs": [
    {
     "name": "stdout",
     "output_type": "stream",
     "text": [
      "(45957, 8)\n"
     ]
    },
    {
     "data": {
      "text/html": [
       "<div>\n",
       "<style scoped>\n",
       "    .dataframe tbody tr th:only-of-type {\n",
       "        vertical-align: middle;\n",
       "    }\n",
       "\n",
       "    .dataframe tbody tr th {\n",
       "        vertical-align: top;\n",
       "    }\n",
       "\n",
       "    .dataframe thead th {\n",
       "        text-align: right;\n",
       "    }\n",
       "</style>\n",
       "<table border=\"1\" class=\"dataframe\">\n",
       "  <thead>\n",
       "    <tr style=\"text-align: right;\">\n",
       "      <th></th>\n",
       "      <th>ID_OFERTA</th>\n",
       "      <th>SUBCATEGORIA</th>\n",
       "      <th>CATEGORIA</th>\n",
       "      <th>PALABRAS_EMPLEO_TEXTO</th>\n",
       "      <th>ID_PUESTO_ESCO</th>\n",
       "      <th>ID_PUESTO_ESCO_ULL</th>\n",
       "      <th>NUM_WORDS</th>\n",
       "      <th>RELATIVE_SIGNATURE</th>\n",
       "    </tr>\n",
       "  </thead>\n",
       "  <tbody>\n",
       "    <tr>\n",
       "      <th>0</th>\n",
       "      <td>083bc773384769ba079884ec5778d9</td>\n",
       "      <td>Atención al cliente</td>\n",
       "      <td>Atención a clientes</td>\n",
       "      <td>DEPENDIENTE TIENDAS MODA INFANTIL EMPRESAS SEC...</td>\n",
       "      <td>1984</td>\n",
       "      <td>1984</td>\n",
       "      <td>23</td>\n",
       "      <td>0.55</td>\n",
       "    </tr>\n",
       "    <tr>\n",
       "      <th>1</th>\n",
       "      <td>5791a15ae248feb75908bdc5d5cea2</td>\n",
       "      <td>Estética y cosmética</td>\n",
       "      <td>Profesiones, artes y oficios</td>\n",
       "      <td>PELUQUERO OFICIAL PELUQUERIA EXPERIENCIA PLANT...</td>\n",
       "      <td>1916</td>\n",
       "      <td>1916</td>\n",
       "      <td>17</td>\n",
       "      <td>0.68</td>\n",
       "    </tr>\n",
       "    <tr>\n",
       "      <th>2</th>\n",
       "      <td>b70cd94c9848e58567d2f111af666b</td>\n",
       "      <td>Distribución y logística</td>\n",
       "      <td>Compras, logística y almacén</td>\n",
       "      <td>ALMACENES PERSONA EXPERIENCIA SECTOR LOGISTICO...</td>\n",
       "      <td>2915</td>\n",
       "      <td>2915</td>\n",
       "      <td>27</td>\n",
       "      <td>0.72</td>\n",
       "    </tr>\n",
       "    <tr>\n",
       "      <th>3</th>\n",
       "      <td>39a405f4bb4103b73d5fdf8f8aaadf</td>\n",
       "      <td>Distribución y logística</td>\n",
       "      <td>Compras, logística y almacén</td>\n",
       "      <td>CHOFER EXPERIENCIA SECTOR CONSUMOS REPARTO MER...</td>\n",
       "      <td>2825</td>\n",
       "      <td>2825</td>\n",
       "      <td>30</td>\n",
       "      <td>0.54</td>\n",
       "    </tr>\n",
       "    <tr>\n",
       "      <th>4</th>\n",
       "      <td>f74d98c89148af99bc46efb2a7bad4</td>\n",
       "      <td>Agente comercial</td>\n",
       "      <td>Comercial y ventas</td>\n",
       "      <td>ASESORES COMERCIAL CERTIFICADA SECTOR SEGURIDA...</td>\n",
       "      <td>1508</td>\n",
       "      <td>1508</td>\n",
       "      <td>15</td>\n",
       "      <td>0.38</td>\n",
       "    </tr>\n",
       "  </tbody>\n",
       "</table>\n",
       "</div>"
      ],
      "text/plain": [
       "                        ID_OFERTA              SUBCATEGORIA  \\\n",
       "0  083bc773384769ba079884ec5778d9       Atención al cliente   \n",
       "1  5791a15ae248feb75908bdc5d5cea2      Estética y cosmética   \n",
       "2  b70cd94c9848e58567d2f111af666b  Distribución y logística   \n",
       "3  39a405f4bb4103b73d5fdf8f8aaadf  Distribución y logística   \n",
       "4  f74d98c89148af99bc46efb2a7bad4          Agente comercial   \n",
       "\n",
       "                      CATEGORIA  \\\n",
       "0           Atención a clientes   \n",
       "1  Profesiones, artes y oficios   \n",
       "2  Compras, logística y almacén   \n",
       "3  Compras, logística y almacén   \n",
       "4            Comercial y ventas   \n",
       "\n",
       "                               PALABRAS_EMPLEO_TEXTO  ID_PUESTO_ESCO  \\\n",
       "0  DEPENDIENTE TIENDAS MODA INFANTIL EMPRESAS SEC...            1984   \n",
       "1  PELUQUERO OFICIAL PELUQUERIA EXPERIENCIA PLANT...            1916   \n",
       "2  ALMACENES PERSONA EXPERIENCIA SECTOR LOGISTICO...            2915   \n",
       "3  CHOFER EXPERIENCIA SECTOR CONSUMOS REPARTO MER...            2825   \n",
       "4  ASESORES COMERCIAL CERTIFICADA SECTOR SEGURIDA...            1508   \n",
       "\n",
       "   ID_PUESTO_ESCO_ULL  NUM_WORDS  RELATIVE_SIGNATURE  \n",
       "0                1984         23                0.55  \n",
       "1                1916         17                0.68  \n",
       "2                2915         27                0.72  \n",
       "3                2825         30                0.54  \n",
       "4                1508         15                0.38  "
      ]
     },
     "execution_count": 2,
     "metadata": {},
     "output_type": "execute_result"
    }
   ],
   "source": [
    "path_df_train = '../data/train/TRAIN_filter_100_signature.json'\n",
    "df_train = pd.read_json(path_df_train)\n",
    "# Transform columns to uppercase\n",
    "df_train.columns = map(str.upper, df_train.columns)\n",
    "print(df_train.shape)\n",
    "df_train.head()"
   ]
  },
  {
   "cell_type": "markdown",
   "metadata": {},
   "source": [
    "# Create Vector and Vocabulary"
   ]
  },
  {
   "cell_type": "code",
   "execution_count": 3,
   "metadata": {},
   "outputs": [
    {
     "name": "stderr",
     "output_type": "stream",
     "text": [
      "/home/fulp/clasificador_ofertas_empleo/clasificador-ofertas-empleo-modelo/.venv/lib64/python3.9/site-packages/sklearn/feature_extraction/text.py:525: UserWarning: The parameter 'token_pattern' will not be used since 'tokenizer' is not None'\n",
      "  warnings.warn(\n",
      "/home/fulp/clasificador_ofertas_empleo/clasificador-ofertas-empleo-modelo/.venv/lib64/python3.9/site-packages/sklearn/feature_extraction/text.py:525: UserWarning: The parameter 'token_pattern' will not be used since 'tokenizer' is not None'\n",
      "  warnings.warn(\n",
      "/home/fulp/clasificador_ofertas_empleo/clasificador-ofertas-empleo-modelo/.venv/lib64/python3.9/site-packages/sklearn/feature_extraction/text.py:525: UserWarning: The parameter 'token_pattern' will not be used since 'tokenizer' is not None'\n",
      "  warnings.warn(\n"
     ]
    }
   ],
   "source": [
    "from functions.vocabulary import create_vocabulary, save_vocabulary\n",
    "from functions.vectorization import create_vectorize_dataframe, save_vectorized_dataframe\n",
    "\n",
    "# Create vocabulary\n",
    "vocabulary = create_vocabulary(df_train)\n",
    "# Save vocabulary\n",
    "save_vocabulary(vocabulary, '../data/train/vocabulary.json')\n",
    "# Create vectorized dataframe\n",
    "df_train_vectorized = create_vectorize_dataframe(df_train, vocabulary)\n",
    "# Save vectorized dataframe\n",
    "save_vectorized_dataframe(df_train_vectorized, '../data/train/df_train_vectorized.npy')"
   ]
  }
 ],
 "metadata": {
  "kernelspec": {
   "display_name": ".venv",
   "language": "python",
   "name": "python3"
  },
  "language_info": {
   "codemirror_mode": {
    "name": "ipython",
    "version": 3
   },
   "file_extension": ".py",
   "mimetype": "text/x-python",
   "name": "python",
   "nbconvert_exporter": "python",
   "pygments_lexer": "ipython3",
   "version": "3.9.16"
  },
  "orig_nbformat": 4
 },
 "nbformat": 4,
 "nbformat_minor": 2
}
