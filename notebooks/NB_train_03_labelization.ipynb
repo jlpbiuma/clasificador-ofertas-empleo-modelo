{
 "cells": [
  {
   "cell_type": "markdown",
   "metadata": {},
   "source": [
    "# Import libraries"
   ]
  },
  {
   "cell_type": "code",
   "execution_count": 4,
   "metadata": {},
   "outputs": [],
   "source": [
    "import pandas as pd\n",
    "import numpy as np\n",
    "from functions.labelization import *"
   ]
  },
  {
   "cell_type": "markdown",
   "metadata": {},
   "source": [
    "# Import training dataframe"
   ]
  },
  {
   "cell_type": "code",
   "execution_count": 5,
   "metadata": {},
   "outputs": [
    {
     "name": "stdout",
     "output_type": "stream",
     "text": [
      "(43642, 7)\n"
     ]
    },
    {
     "data": {
      "text/html": [
       "<div>\n",
       "<style scoped>\n",
       "    .dataframe tbody tr th:only-of-type {\n",
       "        vertical-align: middle;\n",
       "    }\n",
       "\n",
       "    .dataframe tbody tr th {\n",
       "        vertical-align: top;\n",
       "    }\n",
       "\n",
       "    .dataframe thead th {\n",
       "        text-align: right;\n",
       "    }\n",
       "</style>\n",
       "<table border=\"1\" class=\"dataframe\">\n",
       "  <thead>\n",
       "    <tr style=\"text-align: right;\">\n",
       "      <th></th>\n",
       "      <th>ID_OFERTA</th>\n",
       "      <th>ID_PUESTO_ESCO_ULL</th>\n",
       "      <th>CATEGORIA</th>\n",
       "      <th>SUBCATEGORIA</th>\n",
       "      <th>PALABRAS_EMPLEO_TEXTO</th>\n",
       "      <th>NUM_WORDS</th>\n",
       "      <th>RELATIVE_SIGNATURE</th>\n",
       "    </tr>\n",
       "  </thead>\n",
       "  <tbody>\n",
       "    <tr>\n",
       "      <th>0</th>\n",
       "      <td>82f00dcc7e45c990a933728af212e5</td>\n",
       "      <td>1902</td>\n",
       "      <td>Turismo y restauracion</td>\n",
       "      <td>Hosteleria</td>\n",
       "      <td>COCINERO DEMOSTRABLE GASTRONOMICO INTEGRARSE E...</td>\n",
       "      <td>11</td>\n",
       "      <td>0.15</td>\n",
       "    </tr>\n",
       "    <tr>\n",
       "      <th>1</th>\n",
       "      <td>01167798924b269a012f754cdafbe3</td>\n",
       "      <td>1838</td>\n",
       "      <td>Atencion a clientes</td>\n",
       "      <td>Atencion al cliente</td>\n",
       "      <td>ESC GENERALES PROSEGUR RECEPCIONISTAS ALEMAN U...</td>\n",
       "      <td>15</td>\n",
       "      <td>0.25</td>\n",
       "    </tr>\n",
       "    <tr>\n",
       "      <th>2</th>\n",
       "      <td>b64839118e44bbad3133bef43543a9</td>\n",
       "      <td>2013</td>\n",
       "      <td>Atencion a clientes</td>\n",
       "      <td>Atencion al cliente</td>\n",
       "      <td>JOYERIA SUAREZ JOYERIA RELOJERIA LUJO CORTE PO...</td>\n",
       "      <td>19</td>\n",
       "      <td>0.08</td>\n",
       "    </tr>\n",
       "    <tr>\n",
       "      <th>3</th>\n",
       "      <td>fe336b287241e4af16a0b4bdc2d45f</td>\n",
       "      <td>2512</td>\n",
       "      <td>Otros</td>\n",
       "      <td>Sin especificar</td>\n",
       "      <td>SYNERGIE CARNICO INSPECCION MATERIAS PRIMAS GA...</td>\n",
       "      <td>16</td>\n",
       "      <td>0.14</td>\n",
       "    </tr>\n",
       "    <tr>\n",
       "      <th>4</th>\n",
       "      <td>d27c87ce404210ac88389049f3a475</td>\n",
       "      <td>316</td>\n",
       "      <td>Ventas al detalle</td>\n",
       "      <td>Venta al detalle</td>\n",
       "      <td>CALZEDONIA INTIMA BANO CALCETERIA ACTUALIDAD S...</td>\n",
       "      <td>50</td>\n",
       "      <td>0.51</td>\n",
       "    </tr>\n",
       "  </tbody>\n",
       "</table>\n",
       "</div>"
      ],
      "text/plain": [
       "                        ID_OFERTA  ID_PUESTO_ESCO_ULL               CATEGORIA  \\\n",
       "0  82f00dcc7e45c990a933728af212e5                1902  Turismo y restauracion   \n",
       "1  01167798924b269a012f754cdafbe3                1838     Atencion a clientes   \n",
       "2  b64839118e44bbad3133bef43543a9                2013     Atencion a clientes   \n",
       "3  fe336b287241e4af16a0b4bdc2d45f                2512                   Otros   \n",
       "4  d27c87ce404210ac88389049f3a475                 316       Ventas al detalle   \n",
       "\n",
       "          SUBCATEGORIA                              PALABRAS_EMPLEO_TEXTO  \\\n",
       "0           Hosteleria  COCINERO DEMOSTRABLE GASTRONOMICO INTEGRARSE E...   \n",
       "1  Atencion al cliente  ESC GENERALES PROSEGUR RECEPCIONISTAS ALEMAN U...   \n",
       "2  Atencion al cliente  JOYERIA SUAREZ JOYERIA RELOJERIA LUJO CORTE PO...   \n",
       "3      Sin especificar  SYNERGIE CARNICO INSPECCION MATERIAS PRIMAS GA...   \n",
       "4     Venta al detalle  CALZEDONIA INTIMA BANO CALCETERIA ACTUALIDAD S...   \n",
       "\n",
       "   NUM_WORDS  RELATIVE_SIGNATURE  \n",
       "0         11                0.15  \n",
       "1         15                0.25  \n",
       "2         19                0.08  \n",
       "3         16                0.14  \n",
       "4         50                0.51  "
      ]
     },
     "execution_count": 5,
     "metadata": {},
     "output_type": "execute_result"
    }
   ],
   "source": [
    "path_df_train = '../data/train/TRAIN_filter.json'\n",
    "df_train = pd.read_json(path_df_train)\n",
    "# Transform columns to uppercase\n",
    "df_train.columns = map(str.upper, df_train.columns)\n",
    "print(df_train.shape)\n",
    "df_train.head()"
   ]
  },
  {
   "cell_type": "markdown",
   "metadata": {},
   "source": [
    "# Labelize"
   ]
  },
  {
   "cell_type": "code",
   "execution_count": 6,
   "metadata": {},
   "outputs": [],
   "source": [
    "ids = df_train['ID_PUESTO_ESCO_ULL']\n",
    "# Create dictionary of label ids\n",
    "dict_label_ids = create_dict_label_ids(ids)\n",
    "# Save the dictionary\n",
    "path_ids_labels = '../data/train/ids_labels.json'\n",
    "save_dict_label_ids(dict_label_ids, path_ids_labels)"
   ]
  }
 ],
 "metadata": {
  "kernelspec": {
   "display_name": ".venv",
   "language": "python",
   "name": "python3"
  },
  "language_info": {
   "codemirror_mode": {
    "name": "ipython",
    "version": 3
   },
   "file_extension": ".py",
   "mimetype": "text/x-python",
   "name": "python",
   "nbconvert_exporter": "python",
   "pygments_lexer": "ipython3",
   "version": "3.9.16"
  },
  "orig_nbformat": 4
 },
 "nbformat": 4,
 "nbformat_minor": 2
}
