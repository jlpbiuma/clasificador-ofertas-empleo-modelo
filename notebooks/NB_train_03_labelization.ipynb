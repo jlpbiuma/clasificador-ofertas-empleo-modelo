{
 "cells": [
  {
   "cell_type": "markdown",
   "metadata": {},
   "source": [
    "# Import libraries"
   ]
  },
  {
   "cell_type": "code",
   "execution_count": 1,
   "metadata": {},
   "outputs": [],
   "source": [
    "import pandas as pd\n",
    "import numpy as np\n",
    "from functions.labelization import *"
   ]
  },
  {
   "cell_type": "markdown",
   "metadata": {},
   "source": [
    "# Import training dataframe"
   ]
  },
  {
   "cell_type": "code",
   "execution_count": 2,
   "metadata": {},
   "outputs": [
    {
     "name": "stdout",
     "output_type": "stream",
     "text": [
      "(43642, 7)\n"
     ]
    },
    {
     "data": {
      "text/html": [
       "<div>\n",
       "<style scoped>\n",
       "    .dataframe tbody tr th:only-of-type {\n",
       "        vertical-align: middle;\n",
       "    }\n",
       "\n",
       "    .dataframe tbody tr th {\n",
       "        vertical-align: top;\n",
       "    }\n",
       "\n",
       "    .dataframe thead th {\n",
       "        text-align: right;\n",
       "    }\n",
       "</style>\n",
       "<table border=\"1\" class=\"dataframe\">\n",
       "  <thead>\n",
       "    <tr style=\"text-align: right;\">\n",
       "      <th></th>\n",
       "      <th>ID_OFERTA</th>\n",
       "      <th>ID_PUESTO_ESCO_ULL</th>\n",
       "      <th>CATEGORIA</th>\n",
       "      <th>SUBCATEGORIA</th>\n",
       "      <th>PALABRAS_EMPLEO_TEXTO</th>\n",
       "      <th>NUM_WORDS</th>\n",
       "      <th>RELATIVE_SIGNATURE</th>\n",
       "    </tr>\n",
       "  </thead>\n",
       "  <tbody>\n",
       "    <tr>\n",
       "      <th>0</th>\n",
       "      <td>1974717b3a4552a813c24875fe2305</td>\n",
       "      <td>1835</td>\n",
       "      <td>Informatica y telecomunicaciones</td>\n",
       "      <td>Helpdesk</td>\n",
       "      <td>SITIO IDEAL AMPLIANDO DESK INCORPORANDO PROACT...</td>\n",
       "      <td>45</td>\n",
       "      <td>0.55</td>\n",
       "    </tr>\n",
       "    <tr>\n",
       "      <th>1</th>\n",
       "      <td>1c25618f644cdf970737ab73c659ea</td>\n",
       "      <td>1607</td>\n",
       "      <td>Comercial y ventas</td>\n",
       "      <td>Agente comercial</td>\n",
       "      <td>CRACK COMUNICATIVAS SIMPLEMENTE APETECE PONGAS...</td>\n",
       "      <td>32</td>\n",
       "      <td>0.69</td>\n",
       "    </tr>\n",
       "    <tr>\n",
       "      <th>2</th>\n",
       "      <td>8563f03c1046be8781ce62b2879162</td>\n",
       "      <td>1508</td>\n",
       "      <td>Comercial y ventas</td>\n",
       "      <td>Comercial</td>\n",
       "      <td>COCHE DEBIDO BUENOS MOVISTAR PROSEGUR ALARMAS ...</td>\n",
       "      <td>37</td>\n",
       "      <td>0.26</td>\n",
       "    </tr>\n",
       "    <tr>\n",
       "      <th>3</th>\n",
       "      <td>ac4037f5134aaf8a6fea9421f33743</td>\n",
       "      <td>1493</td>\n",
       "      <td>Administracion de empresas</td>\n",
       "      <td>Facturacion, cobros y pagos</td>\n",
       "      <td>RECUPERACION IMPAGADOS GESTOR COBROS RECOBRO D...</td>\n",
       "      <td>19</td>\n",
       "      <td>0.06</td>\n",
       "    </tr>\n",
       "    <tr>\n",
       "      <th>4</th>\n",
       "      <td>8b1be0596b40428a76f3d99992cc4a</td>\n",
       "      <td>317</td>\n",
       "      <td>Ventas al detalle</td>\n",
       "      <td>Venta al detalle</td>\n",
       "      <td>APASIONAD RETAIL ENTONCES SUNGLASS HUT FANTAST...</td>\n",
       "      <td>24</td>\n",
       "      <td>0.30</td>\n",
       "    </tr>\n",
       "  </tbody>\n",
       "</table>\n",
       "</div>"
      ],
      "text/plain": [
       "                        ID_OFERTA  ID_PUESTO_ESCO_ULL  \\\n",
       "0  1974717b3a4552a813c24875fe2305                1835   \n",
       "1  1c25618f644cdf970737ab73c659ea                1607   \n",
       "2  8563f03c1046be8781ce62b2879162                1508   \n",
       "3  ac4037f5134aaf8a6fea9421f33743                1493   \n",
       "4  8b1be0596b40428a76f3d99992cc4a                 317   \n",
       "\n",
       "                          CATEGORIA                 SUBCATEGORIA  \\\n",
       "0  Informatica y telecomunicaciones                     Helpdesk   \n",
       "1                Comercial y ventas             Agente comercial   \n",
       "2                Comercial y ventas                    Comercial   \n",
       "3        Administracion de empresas  Facturacion, cobros y pagos   \n",
       "4                 Ventas al detalle             Venta al detalle   \n",
       "\n",
       "                               PALABRAS_EMPLEO_TEXTO  NUM_WORDS  \\\n",
       "0  SITIO IDEAL AMPLIANDO DESK INCORPORANDO PROACT...         45   \n",
       "1  CRACK COMUNICATIVAS SIMPLEMENTE APETECE PONGAS...         32   \n",
       "2  COCHE DEBIDO BUENOS MOVISTAR PROSEGUR ALARMAS ...         37   \n",
       "3  RECUPERACION IMPAGADOS GESTOR COBROS RECOBRO D...         19   \n",
       "4  APASIONAD RETAIL ENTONCES SUNGLASS HUT FANTAST...         24   \n",
       "\n",
       "   RELATIVE_SIGNATURE  \n",
       "0                0.55  \n",
       "1                0.69  \n",
       "2                0.26  \n",
       "3                0.06  \n",
       "4                0.30  "
      ]
     },
     "execution_count": 2,
     "metadata": {},
     "output_type": "execute_result"
    }
   ],
   "source": [
    "path_df_train = '../data/train/TRAIN_filter.json'\n",
    "df_train = pd.read_json(path_df_train)\n",
    "# Transform columns to uppercase\n",
    "df_train.columns = map(str.upper, df_train.columns)\n",
    "print(df_train.shape)\n",
    "df_train.head()"
   ]
  },
  {
   "cell_type": "markdown",
   "metadata": {},
   "source": [
    "# Labelize"
   ]
  },
  {
   "cell_type": "code",
   "execution_count": 3,
   "metadata": {},
   "outputs": [],
   "source": [
    "ids = df_train['ID_PUESTO_ESCO_ULL']\n",
    "# Create dictionary of label ids\n",
    "dict_label_ids = create_dict_label_ids(ids)\n",
    "# Save the dictionary\n",
    "path_ids_labels = '../data/train/ids_labels.json'\n",
    "save_dict_label_ids(dict_label_ids, path_ids_labels)"
   ]
  }
 ],
 "metadata": {
  "kernelspec": {
   "display_name": ".venv",
   "language": "python",
   "name": "python3"
  },
  "language_info": {
   "codemirror_mode": {
    "name": "ipython",
    "version": 3
   },
   "file_extension": ".py",
   "mimetype": "text/x-python",
   "name": "python",
   "nbconvert_exporter": "python",
   "pygments_lexer": "ipython3",
   "version": "3.9.16"
  },
  "orig_nbformat": 4
 },
 "nbformat": 4,
 "nbformat_minor": 2
}
