{
 "cells": [
  {
   "cell_type": "markdown",
   "metadata": {},
   "source": [
    "# Import libraries"
   ]
  },
  {
   "cell_type": "code",
   "execution_count": 1,
   "metadata": {},
   "outputs": [],
   "source": [
    "import pandas as pd\n",
    "import numpy as np\n",
    "import matplotlib.pyplot as plt\n",
    "from functions.vectorization import *\n",
    "from functions.vocabulary import *\n",
    "from functions.labelization import *"
   ]
  },
  {
   "cell_type": "markdown",
   "metadata": {},
   "source": [
    "# Import vectorized data, vocabulary and labels"
   ]
  },
  {
   "cell_type": "code",
   "execution_count": 2,
   "metadata": {},
   "outputs": [
    {
     "ename": "NameError",
     "evalue": "name 'load_label_ids' is not defined",
     "output_type": "error",
     "traceback": [
      "\u001b[0;31m---------------------------------------------------------------------------\u001b[0m",
      "\u001b[0;31mNameError\u001b[0m                                 Traceback (most recent call last)",
      "\u001b[1;32m/home/fulp/clasificador_ofertas_empleo/clasificador-ofertas-empleo-modelo/notebooks/NB_train_05_feature_importance.ipynb Cell 4\u001b[0m line \u001b[0;36m3\n\u001b[1;32m      <a href='vscode-notebook-cell://ssh-remote%2B192.168.70.205/home/fulp/clasificador_ofertas_empleo/clasificador-ofertas-empleo-modelo/notebooks/NB_train_05_feature_importance.ipynb#W3sdnNjb2RlLXJlbW90ZQ%3D%3D?line=0'>1</a>\u001b[0m vectorized_dataframe \u001b[39m=\u001b[39m load_vectorized_dataframe(\u001b[39m'\u001b[39m\u001b[39m../data/train/df_train_vectorized.npy\u001b[39m\u001b[39m'\u001b[39m)\n\u001b[1;32m      <a href='vscode-notebook-cell://ssh-remote%2B192.168.70.205/home/fulp/clasificador_ofertas_empleo/clasificador-ofertas-empleo-modelo/notebooks/NB_train_05_feature_importance.ipynb#W3sdnNjb2RlLXJlbW90ZQ%3D%3D?line=1'>2</a>\u001b[0m vocabulary \u001b[39m=\u001b[39m load_vocabulary(\u001b[39m'\u001b[39m\u001b[39m../data/train/vocabulary.json\u001b[39m\u001b[39m'\u001b[39m)\n\u001b[0;32m----> <a href='vscode-notebook-cell://ssh-remote%2B192.168.70.205/home/fulp/clasificador_ofertas_empleo/clasificador-ofertas-empleo-modelo/notebooks/NB_train_05_feature_importance.ipynb#W3sdnNjb2RlLXJlbW90ZQ%3D%3D?line=2'>3</a>\u001b[0m dict_label_ids \u001b[39m=\u001b[39m load_label_ids(\u001b[39m'\u001b[39m\u001b[39m../data/train/ids_labels.json\u001b[39m\u001b[39m'\u001b[39m)\n",
      "\u001b[0;31mNameError\u001b[0m: name 'load_label_ids' is not defined"
     ]
    }
   ],
   "source": [
    "vectorized_dataframe = load_vectorized_dataframe('../data/train/df_train_vectorized.npy')\n",
    "vocabulary = load_vocabulary('../data/train/vocabulary.json')\n",
    "dict_label_ids = load_label_ids('../data/train/ids_labels.json')"
   ]
  }
 ],
 "metadata": {
  "kernelspec": {
   "display_name": ".venv",
   "language": "python",
   "name": "python3"
  },
  "language_info": {
   "codemirror_mode": {
    "name": "ipython",
    "version": 3
   },
   "file_extension": ".py",
   "mimetype": "text/x-python",
   "name": "python",
   "nbconvert_exporter": "python",
   "pygments_lexer": "ipython3",
   "version": "3.9.16"
  }
 },
 "nbformat": 4,
 "nbformat_minor": 2
}
