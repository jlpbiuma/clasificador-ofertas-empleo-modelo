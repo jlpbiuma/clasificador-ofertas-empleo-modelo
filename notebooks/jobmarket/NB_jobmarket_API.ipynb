{
 "cells": [
  {
   "cell_type": "markdown",
   "metadata": {},
   "source": [
    "# Import libraries"
   ]
  },
  {
   "cell_type": "code",
   "execution_count": 1,
   "metadata": {},
   "outputs": [],
   "source": [
    "import pandas as pd\n",
    "import requests\n",
    "import json\n",
    "from tqdm import tqdm"
   ]
  },
  {
   "cell_type": "markdown",
   "metadata": {},
   "source": [
    "# Fetch the offers to jobmarket"
   ]
  },
  {
   "cell_type": "code",
   "execution_count": 2,
   "metadata": {},
   "outputs": [],
   "source": [
    "# Request data from API\n",
    "user = \"hacomar@fulp.es\"\n",
    "clave = \"Atenas.2023\"\n",
    "base_url = \"https://www.jobmarketinsights.com/jmi-api/\"\n",
    "login_url = base_url + \"token\"\n",
    "N_offers = 51000"
   ]
  },
  {
   "cell_type": "markdown",
   "metadata": {},
   "source": [
    "# Log into API"
   ]
  },
  {
   "cell_type": "code",
   "execution_count": 3,
   "metadata": {},
   "outputs": [
    {
     "name": "stdout",
     "output_type": "stream",
     "text": [
      "VGWL3WQ4JB4HGY3SMMOVHAXFO63TBWJ4332YC7M27JMRAQK2S76Q\n"
     ]
    }
   ],
   "source": [
    "def login():\n",
    "    # Define the headers to set the Content-Type\n",
    "    headers = {'Content-Type': 'application/json'}\n",
    "    # Create a dictionary containing the data to send as JSON\n",
    "    payload = {'email': user, 'password': clave}\n",
    "    # Convert the payload to JSON format\n",
    "    json_payload = json.dumps(payload)\n",
    "    # Send the POST request with the specified headers and JSON data\n",
    "    r = requests.post(login_url, data=json_payload, headers=headers)\n",
    "    # Check if the request was successful (status code 200)\n",
    "    if r.status_code == 200:\n",
    "        # Parse the JSON response\n",
    "        data = r.json()\n",
    "        token = data[\"auth\"][\"token\"]\n",
    "        return token\n",
    "    else:\n",
    "        print(f\"Request failed with status code {r.status_code}\")\n",
    "        return None\n",
    "token = login()\n",
    "print(token)"
   ]
  },
  {
   "cell_type": "markdown",
   "metadata": {},
   "source": [
    "# Scope"
   ]
  },
  {
   "cell_type": "code",
   "execution_count": 4,
   "metadata": {},
   "outputs": [
    {
     "name": "stdout",
     "output_type": "stream",
     "text": [
      "792\n"
     ]
    }
   ],
   "source": [
    "scope_url = base_url + \"scopes\"\n",
    "def get_scope(token):\n",
    "    payload = {'token': token}\n",
    "    headers = {'Content-Type': 'application/json'}\n",
    "    json_payload = json.dumps(payload)\n",
    "    r = requests.post(scope_url, data=json_payload, headers=headers)\n",
    "    if r.status_code == 200:\n",
    "        data = r.json()\n",
    "        return data\n",
    "    else:\n",
    "        print(f\"Request failed with status code {r.status_code}\")\n",
    "        return None\n",
    "response = get_scope(token)\n",
    "scopes = response[\"scopes\"][0][\"key\"]\n",
    "print(scopes)"
   ]
  },
  {
   "cell_type": "code",
   "execution_count": 5,
   "metadata": {},
   "outputs": [
    {
     "data": {
      "text/plain": [
       "'VGWL3WQ4JB4HGY3SMMOVHAXFO63TBWJ4332YC7M27JMRAQK2S76Q'"
      ]
     },
     "execution_count": 5,
     "metadata": {},
     "output_type": "execute_result"
    }
   ],
   "source": [
    "token"
   ]
  },
  {
   "cell_type": "markdown",
   "metadata": {},
   "source": [
    "# Periods"
   ]
  },
  {
   "cell_type": "code",
   "execution_count": 6,
   "metadata": {},
   "outputs": [
    {
     "name": "stdout",
     "output_type": "stream",
     "text": [
      "[{'from': '2023-10-19', 'label': 'Últimos días', 'to': '2023-10-23', 'key': 'ld'}, {'from': '2023-09-01', 'label': 'sep 2023', 'to': '2023-10-01', 'key': '2023-09'}, {'from': '2023-08-01', 'label': 'ago 2023', 'to': '2023-09-01', 'key': '2023-08'}, {'from': '2023-07-01', 'label': 'jul 2023', 'to': '2023-08-01', 'key': '2023-07'}, {'from': '2023-06-01', 'label': 'jun 2023', 'to': '2023-07-01', 'key': '2023-06'}, {'from': '2023-05-01', 'label': 'may 2023', 'to': '2023-06-01', 'key': '2023-05'}, {'from': '2023-04-01', 'label': 'abr 2023', 'to': '2023-05-01', 'key': '2023-04'}, {'from': '2023-03-01', 'label': 'mar 2023', 'to': '2023-04-01', 'key': '2023-03'}, {'from': '2023-02-01', 'label': 'feb 2023', 'to': '2023-03-01', 'key': '2023-02'}, {'from': '2023-01-01', 'label': 'ene 2023', 'to': '2023-02-01', 'key': '2023-01'}, {'from': '2022-12-01', 'label': 'dic 2022', 'to': '2023-01-01', 'key': '2022-12'}, {'from': '2022-11-01', 'label': 'nov 2022', 'to': '2022-12-01', 'key': '2022-11'}, {'from': '2022-10-01', 'label': 'oct 2022', 'to': '2022-11-01', 'key': '2022-10'}, {'from': '2022-09-01', 'label': 'sep 2022', 'to': '2022-10-01', 'key': '2022-09'}, {'from': '2022-08-01', 'label': 'ago 2022', 'to': '2022-09-01', 'key': '2022-08'}, {'from': '2022-07-01', 'label': 'jul 2022', 'to': '2022-08-01', 'key': '2022-07'}, {'from': '2022-06-01', 'label': 'jun 2022', 'to': '2022-07-01', 'key': '2022-06'}, {'from': '2022-05-01', 'label': 'may 2022', 'to': '2022-06-01', 'key': '2022-05'}, {'from': '2022-04-01', 'label': 'abr 2022', 'to': '2022-05-01', 'key': '2022-04'}, {'from': '2022-03-01', 'label': 'mar 2022', 'to': '2022-04-01', 'key': '2022-03'}, {'from': '2022-02-01', 'label': 'feb 2022', 'to': '2022-03-01', 'key': '2022-02'}, {'from': '2022-01-01', 'label': 'ene 2022', 'to': '2022-02-01', 'key': '2022-01'}, {'from': '2021-12-01', 'label': 'dic 2021', 'to': '2022-01-01', 'key': '2021-12'}, {'from': '2021-11-01', 'label': 'nov 2021', 'to': '2021-12-01', 'key': '2021-11'}, {'from': '2021-10-01', 'label': 'oct 2021', 'to': '2021-11-01', 'key': '2021-10'}, {'from': '2021-09-01', 'label': 'sep 2021', 'to': '2021-10-01', 'key': '2021-09'}, {'from': '2021-08-01', 'label': 'ago 2021', 'to': '2021-09-01', 'key': '2021-08'}, {'from': '2021-07-01', 'label': 'jul 2021', 'to': '2021-08-01', 'key': '2021-07'}, {'from': '2021-06-01', 'label': 'jun 2021', 'to': '2021-07-01', 'key': '2021-06'}, {'from': '2021-05-01', 'label': 'may 2021', 'to': '2021-06-01', 'key': '2021-05'}, {'from': '2021-04-01', 'label': 'abr 2021', 'to': '2021-05-01', 'key': '2021-04'}, {'from': '2021-03-01', 'label': 'mar 2021', 'to': '2021-04-01', 'key': '2021-03'}, {'from': '2021-02-01', 'label': 'feb 2021', 'to': '2021-03-01', 'key': '2021-02'}, {'from': '2021-01-01', 'label': 'ene 2021', 'to': '2021-02-01', 'key': '2021-01'}, {'from': '2023-10-16', 'label': 'Última semana', 'to': '2023-10-23', 'key': '-1W'}, {'from': '2023-10-09', 'label': 'Últimas 2 semanas', 'to': '2023-10-23', 'key': '-2W'}, {'from': '2023-10-02', 'label': 'Últimas 3 semanas', 'to': '2023-10-23', 'key': '-3W'}, {'from': '2023-10-09', 'label': 'Hace 2 semanas', 'to': '2023-10-16', 'key': '-2w'}, {'from': '2023-10-02', 'label': 'Hace 3 semanas', 'to': '2023-10-09', 'key': '-3w'}, {'from': '2023-09-25', 'label': 'Hace 4 semanas', 'to': '2023-10-02', 'key': '-4w'}, {'from': '2023-09-01', 'label': 'Último mes', 'to': '2023-10-01', 'key': '-1'}, {'from': '2023-08-01', 'label': 'Últimos 2 meses', 'to': '2023-10-01', 'key': '-2'}, {'from': '2023-07-01', 'label': 'Últimos 3 meses', 'to': '2023-10-01', 'key': '-3'}, {'from': '2023-04-01', 'label': 'Últimos 6 meses', 'to': '2023-10-01', 'key': '-6'}, {'from': '2022-10-01', 'label': 'Últimos 12 meses', 'to': '2023-10-01', 'key': '-12'}, {'from': '2023-07-01', 'label': 'Q3 2023', 'to': '2023-10-01', 'key': 'Q3.2023'}, {'from': '2023-04-01', 'label': 'Q2 2023', 'to': '2023-07-01', 'key': 'Q2.2023'}, {'from': '2023-01-01', 'label': 'Q1 2023', 'to': '2023-04-01', 'key': 'Q1.2023'}, {'from': '2022-10-01', 'label': 'Q4 2022', 'to': '2023-01-01', 'key': 'Q4.2022'}, {'from': '2023-01-01', 'label': '', 'to': '2023-07-01', 'key': 'S1.2023'}, {'from': '2022-07-01', 'label': '', 'to': '2023-01-01', 'key': 'S2.2022'}, {'from': '2023-01-01', 'label': '2023', 'to': '2024-01-01', 'key': '2023'}, {'from': '2022-01-01', 'label': '2022', 'to': '2023-01-01', 'key': '2022'}, {'from': '2021-01-01', 'label': '2021', 'to': '2022-01-01', 'key': '2021'}]\n"
     ]
    }
   ],
   "source": [
    "# Ask for list with able periods\n",
    "periods_url = base_url + \"periods\"\n",
    "def get_periods(token):\n",
    "    payload = {'token': token}\n",
    "    headers = {'Content-Type': 'application/json'}\n",
    "    json_payload = json.dumps(payload)\n",
    "    r = requests.post(periods_url, data=json_payload, headers=headers)\n",
    "    if r.status_code == 200:\n",
    "        data = r.json()\n",
    "        return data['periods']\n",
    "    else:\n",
    "        print(f\"Request failed with status code {r.status_code}\")\n",
    "        return None\n",
    "# Returns an array of dicts with 4 keys: from, label, to, key\n",
    "periods = get_periods(token)\n",
    "print(periods)\n",
    "# For example, we will use the first period\n",
    "period = periods[10]\n",
    "initial_date = period['from']\n",
    "end_date = period['to']"
   ]
  },
  {
   "cell_type": "markdown",
   "metadata": {},
   "source": [
    "# Missing advertisers"
   ]
  },
  {
   "cell_type": "code",
   "execution_count": 7,
   "metadata": {},
   "outputs": [],
   "source": [
    "missing_adverts_url = base_url + \"missingAdvertisers\"\n",
    "\n",
    "def create_payload(token, initial_date, end_date, size=100, offset=0):\n",
    "    payload = {'strictPeriod': True, 'location': 'ES', 'token': token,\"period\" : \"custom\", \"customDateFrom\": initial_date, \"customDateTo\": end_date, \"offset\": offset}\n",
    "    headers = {'Content-Type': 'application/json'}\n",
    "    json_payload = json.dumps(payload)\n",
    "    return json_payload, headers\n",
    "\n",
    "def get_missing_adverts(token, scope, initial_date, end_date, size=100, offset=0):\n",
    "    payload, headers = create_payload(token, scope, initial_date, end_date, size, offset)\n",
    "    json_payload = json.dumps(payload)\n",
    "    r = requests.post(missing_adverts_url, data=json_payload, headers=headers)\n",
    "    if r.status_code == 200:\n",
    "        data = r.json()\n",
    "        return data\n",
    "    else:\n",
    "        print(f\"Request failed with status code {r.status_code}\")\n",
    "        return None\n",
    "# print(get_missing_adverts(token, scopes, initial_date, end_date))"
   ]
  },
  {
   "cell_type": "markdown",
   "metadata": {},
   "source": [
    "# Sites"
   ]
  },
  {
   "cell_type": "code",
   "execution_count": 8,
   "metadata": {},
   "outputs": [
    {
     "name": "stdout",
     "output_type": "stream",
     "text": [
      "{'total': {'offers': 263370, 'companies': 50988}, 'auth': {'token': 'VGWL3WQ4JB4HGY3SMMOVHAXFO63TBWJ4332YC7M27JMRAQK2S76Q'}, 'sites': [{'offers': 80879, 'companies': 17123, 'label': 'infojobs.net', 'key': '1963'}, {'offers': 40344, 'companies': 3875, 'label': 'es.talent.com', 'key': '4142'}, {'offers': 39185, 'companies': 13521, 'label': 'linkedin.com', 'key': '3455'}, {'offers': 37994, 'companies': 7486, 'label': 'indeed', 'key': '3427'}, {'offers': 20768, 'companies': 9272, 'label': 'jobtoday.com', 'key': '4023'}, {'offers': 14218, 'companies': 5503, 'label': 'glassdoor.com', 'key': '3933'}, {'offers': 11237, 'companies': 1030, 'label': 'empleate.gob.es', 'key': '4058'}, {'offers': 11148, 'companies': 472, 'label': 'iberempleos.es', 'key': '4254'}, {'offers': 10991, 'companies': 380, 'label': 'epreselec.com', 'key': '4186'}, {'offers': 5917, 'companies': 1191, 'label': 'monster.es', 'key': '3464'}, {'offers': 5175, 'companies': 353, 'label': 'infoempleo.com', 'key': '3451'}, {'offers': 4107, 'companies': 1, 'label': 'randstad.es', 'key': '3790'}, {'offers': 2961, 'companies': 1, 'label': 'adecco.es', 'key': '3791'}, {'offers': 2946, 'companies': 105, 'label': 'ats.bizneo.com', 'key': '4175'}, {'offers': 2591, 'companies': 1647, 'label': 'buscadordetrabajo.es', 'key': '3812'}, {'offers': 2532, 'companies': 493, 'label': 'trabajos.com', 'key': '3513'}, {'offers': 2448, 'companies': 840, 'label': 'feinaactiva.gencat.cat', 'key': '4703'}, {'offers': 2322, 'companies': 334, 'label': 'google.es', 'key': '996'}, {'offers': 2157, 'companies': 97, 'label': 'yobalia.com', 'key': '4210'}, {'offers': 2033, 'companies': 1, 'label': 'eurofirms.es', 'key': '4345'}, {'offers': 1756, 'companies': 373, 'label': 'juntadeandalucia.es', 'key': '4547'}, {'offers': 1555, 'companies': 102, 'label': 'cornerjob.com', 'key': '3466'}, {'offers': 1534, 'companies': 120, 'label': 'tecnoempleo.com', 'key': '301'}, {'offers': 1525, 'companies': 258, 'label': 'classificats.net', 'key': '4150'}, {'offers': 1307, 'companies': 1, 'label': 'pagepersonnel.es', 'key': '4352'}, {'offers': 1211, 'companies': 217, 'label': 'es.fashionjobs.com', 'key': '4133'}, {'offers': 1204, 'companies': 0, 'label': 'xaloc.diba.cat', 'key': '4621'}, {'offers': 1185, 'companies': 205, 'label': 'infofeina.com', 'key': '4126'}, {'offers': 996, 'companies': 359, 'label': 'turijobs.com', 'key': '3440'}, {'offers': 986, 'companies': 277, 'label': 'insertia.net', 'key': '4139'}, {'offers': 915, 'companies': 0, 'label': 'emprego.xunta.gal', 'key': '4548'}, {'offers': 913, 'companies': 311, 'label': 'hacesfalta.org', 'key': '4107'}, {'offers': 798, 'companies': 1, 'label': 'flexiplan.eulen.com', 'key': '4342'}, {'offers': 782, 'companies': 2, 'label': 'grupo-crit.com', 'key': '4348'}, {'offers': 774, 'companies': 315, 'label': 'jobs.universia.net', 'key': '4570'}, {'offers': 712, 'companies': 404, 'label': 'indeed-sponsored', 'key': '4751'}, {'offers': 700, 'companies': 1, 'label': 'michaelpage.es', 'key': '4351'}, {'offers': 696, 'companies': 1, 'label': 'imancorp.es', 'key': '4346'}, {'offers': 498, 'companies': 1, 'label': 'synergie.es', 'key': '4344'}, {'offers': 469, 'companies': 44, 'label': 'successfactors.com', 'key': '4140'}, {'offers': 468, 'companies': 1, 'label': 'es.gigroup.com', 'key': '4343'}, {'offers': 457, 'companies': 37, 'label': 'ticjob.es', 'key': '3514'}, {'offers': 448, 'companies': 1, 'label': 'hays.es', 'key': '4625'}, {'offers': 420, 'companies': 305, 'label': 'domestika.org', 'key': '3727'}, {'offers': 412, 'companies': 239, 'label': 'primerempleo.com', 'key': '3899'}, {'offers': 381, 'companies': 1, 'label': 'manpower.es', 'key': '4622'}, {'offers': 375, 'companies': 108, 'label': 'jobandtalent.com', 'key': '3537'}, {'offers': 372, 'companies': 1, 'label': 'construyendoempleo.com', 'key': '4509'}, {'offers': 372, 'companies': 94, 'label': 'unmejorempleo.com', 'key': '4560'}, {'offers': 365, 'companies': 3, 'label': 'navarra.es', 'key': '4650'}, {'offers': 320, 'companies': 198, 'label': 'InfoResidencias.com', 'key': '4597'}, {'offers': 314, 'companies': 170, 'label': 'trabajosdiarios.com', 'key': '4690'}, {'offers': 301, 'companies': 1, 'label': 'empleo.nortempo.com', 'key': '4349'}, {'offers': 230, 'companies': 95, 'label': 'pmfarma.es', 'key': '4155'}, {'offers': 214, 'companies': 1, 'label': 'eulen.com', 'key': '4624'}, {'offers': 195, 'companies': 80, 'label': 'hosteleo.com', 'key': '3817'}, {'offers': 194, 'companies': 6, 'label': 'bolsaempleo.alcobendas.org', 'key': '4371'}, {'offers': 183, 'companies': 1, 'label': 'jobs.telefonica.com', 'key': '4774'}, {'offers': 159, 'companies': 7, 'label': 'talentforjobs.com', 'key': '4152'}, {'offers': 156, 'companies': 47, 'label': 'hosco.com', 'key': '4162'}, {'offers': 145, 'companies': 45, 'label': 'jobfluent.com', 'key': '4066'}, {'offers': 142, 'companies': 1, 'label': 'ananda.es', 'key': '4626'}, {'offers': 141, 'companies': 19, 'label': 'europelanguagejobs.com', 'key': '3813'}, {'offers': 136, 'companies': 32, 'label': 'fashionunited.es', 'key': '4103'}, {'offers': 120, 'companies': 18, 'label': 'itjobs.es', 'key': '4207'}, {'offers': 104, 'companies': 1, 'label': 'nttdata.com', 'key': '4744'}, {'offers': 102, 'companies': 32, 'label': 'colejobs.es', 'key': '4561'}, {'offers': 84, 'companies': 3, 'label': 'proempleoingenieros.es', 'key': '4354'}, {'offers': 82, 'companies': 49, 'label': 'gastroempleo.com', 'key': '4569'}, {'offers': 79, 'companies': 10, 'label': 'gamesjobsdirect.com', 'key': '4677'}, {'offers': 63, 'companies': 1, 'label': 'catenon.com', 'key': '4613'}, {'offers': 61, 'companies': 48, 'label': 'getmanfred.com', 'key': '4623'}, {'offers': 50, 'companies': 11, 'label': 'manatal.com', 'key': '4697'}, {'offers': 47, 'companies': 30, 'label': 'teujob.es', 'key': '4689'}, {'offers': 46, 'companies': 1, 'label': 'marlex.net', 'key': '4627'}, {'offers': 28, 'companies': 7, 'label': 'JobisJob', 'key': '206'}, {'offers': 23, 'companies': 0, 'label': 'santfeliu.cat', 'key': '4372'}, {'offers': 23, 'companies': 1, 'label': 'talenthackers.net', 'key': '4478'}, {'offers': 18, 'companies': 5, 'label': 'gohire.io', 'key': '4540'}, {'offers': 15, 'companies': 6, 'label': 'farmacias.jobs', 'key': '4106'}, {'offers': 6, 'companies': 1, 'label': 'apple.com', 'key': '3535'}, {'offers': 5, 'companies': 4, 'label': 'empleate.com', 'key': '3821'}], 'echo': {'api-version': '1.0', 'period': {'from': '2023-09-01', 'label': 'Último mes', 'to': '2023-10-01', 'key': '-1'}, 'scope': 792}}\n"
     ]
    }
   ],
   "source": [
    "sites_url = base_url + \"sites\"\n",
    "def get_sites(token):\n",
    "    payload = {'token': token}\n",
    "    headers = {'Content-Type': 'application/json'}\n",
    "    json_payload = json.dumps(payload)\n",
    "    r = requests.post(sites_url, data=json_payload, headers=headers)\n",
    "    if r.status_code == 200:\n",
    "        data = r.json()\n",
    "        return data\n",
    "    else:\n",
    "        print(f\"Request failed with status code {r.status_code}\")\n",
    "        return None\n",
    "response = get_sites(token)\n",
    "print(response)"
   ]
  },
  {
   "cell_type": "markdown",
   "metadata": {},
   "source": [
    "# Custom period"
   ]
  },
  {
   "cell_type": "code",
   "execution_count": 9,
   "metadata": {},
   "outputs": [],
   "source": [
    "# Create a function to create a list of objects with from and to keys with dates from an initial date to an end date\n",
    "def create_date_range(initial_date, end_date):\n",
    "    # The starting date is always at YYYY-MM-01 format\n",
    "    initial_date = initial_date[:8] + \"01\"\n",
    "    # The end date is always at YYYY-MM-01 format\n",
    "    end_date = end_date[:8] + \"01\"\n",
    "    # Create a list of dates from the initial date to the end date\n",
    "    date_range = pd.date_range(initial_date, end_date, freq=\"MS\")\n",
    "    # Create a list of dicts with the dates\n",
    "    date_range = [{\"from\": date.strftime(\"%Y-%m-%d\"), \"to\": (date + pd.DateOffset(months=1)).strftime(\"%Y-%m-%d\")} for date in date_range]\n",
    "    # Delete last date because it is the first day of the next month\n",
    "    date_range = date_range[:-1]\n",
    "    return date_range\n",
    "initial_date = \"2021-01-01\"\n",
    "end_date = \"2023-07-01\"\n",
    "new_periods = create_date_range(initial_date, end_date)\n",
    "N_offers = 51000"
   ]
  },
  {
   "cell_type": "markdown",
   "metadata": {},
   "source": [
    "# Offers count"
   ]
  },
  {
   "cell_type": "code",
   "execution_count": 10,
   "metadata": {},
   "outputs": [
    {
     "name": "stdout",
     "output_type": "stream",
     "text": [
      "Period: 2021-01-01 - 2021-02-01\n",
      "Count: 48216\n"
     ]
    },
    {
     "name": "stderr",
     "output_type": "stream",
     "text": [
      "Downloading offers:  52%|█████▏    | 253/483 [05:18<04:49,  1.26s/it]\n"
     ]
    },
    {
     "ename": "KeyboardInterrupt",
     "evalue": "",
     "output_type": "error",
     "traceback": [
      "\u001b[0;31m---------------------------------------------------------------------------\u001b[0m",
      "\u001b[0;31mKeyboardInterrupt\u001b[0m                         Traceback (most recent call last)",
      "\u001b[1;32m/home/fulp/clasificador_ofertas_empleo/clasificador-ofertas-empleo-modelo/notebooks/jobmarket/NB_jobmarket_API.ipynb Cell 19\u001b[0m line \u001b[0;36m7\n\u001b[1;32m     <a href='vscode-notebook-cell://ssh-remote%2B192.168.70.205/home/fulp/clasificador_ofertas_empleo/clasificador-ofertas-empleo-modelo/notebooks/jobmarket/NB_jobmarket_API.ipynb#X25sdnNjb2RlLXJlbW90ZQ%3D%3D?line=72'>73</a>\u001b[0m end_date \u001b[39m=\u001b[39m \u001b[39m'\u001b[39m\u001b[39m2023-07-01\u001b[39m\u001b[39m'\u001b[39m\n\u001b[1;32m     <a href='vscode-notebook-cell://ssh-remote%2B192.168.70.205/home/fulp/clasificador_ofertas_empleo/clasificador-ofertas-empleo-modelo/notebooks/jobmarket/NB_jobmarket_API.ipynb#X25sdnNjb2RlLXJlbW90ZQ%3D%3D?line=73'>74</a>\u001b[0m new_periods \u001b[39m=\u001b[39m create_date_range(initial_date, end_date)\n\u001b[0;32m---> <a href='vscode-notebook-cell://ssh-remote%2B192.168.70.205/home/fulp/clasificador_ofertas_empleo/clasificador-ofertas-empleo-modelo/notebooks/jobmarket/NB_jobmarket_API.ipynb#X25sdnNjb2RlLXJlbW90ZQ%3D%3D?line=74'>75</a>\u001b[0m offers_news \u001b[39m=\u001b[39m get_offers_by_period_list(token, site, location, new_periods, max_offers\u001b[39m=\u001b[39;49mN_offers)\n",
      "\u001b[1;32m/home/fulp/clasificador_ofertas_empleo/clasificador-ofertas-empleo-modelo/notebooks/jobmarket/NB_jobmarket_API.ipynb Cell 19\u001b[0m line \u001b[0;36m5\n\u001b[1;32m     <a href='vscode-notebook-cell://ssh-remote%2B192.168.70.205/home/fulp/clasificador_ofertas_empleo/clasificador-ofertas-empleo-modelo/notebooks/jobmarket/NB_jobmarket_API.ipynb#X25sdnNjb2RlLXJlbW90ZQ%3D%3D?line=52'>53</a>\u001b[0m \u001b[39m# Wrap the loop with tqdm to create a progress bar\u001b[39;00m\n\u001b[1;32m     <a href='vscode-notebook-cell://ssh-remote%2B192.168.70.205/home/fulp/clasificador_ofertas_empleo/clasificador-ofertas-empleo-modelo/notebooks/jobmarket/NB_jobmarket_API.ipynb#X25sdnNjb2RlLXJlbW90ZQ%3D%3D?line=53'>54</a>\u001b[0m \u001b[39mfor\u001b[39;00m offset \u001b[39min\u001b[39;00m tqdm(\u001b[39mrange\u001b[39m(\u001b[39m0\u001b[39m, count, \u001b[39m100\u001b[39m), desc\u001b[39m=\u001b[39m\u001b[39m\"\u001b[39m\u001b[39mDownloading offers\u001b[39m\u001b[39m\"\u001b[39m):\n\u001b[0;32m---> <a href='vscode-notebook-cell://ssh-remote%2B192.168.70.205/home/fulp/clasificador_ofertas_empleo/clasificador-ofertas-empleo-modelo/notebooks/jobmarket/NB_jobmarket_API.ipynb#X25sdnNjb2RlLXJlbW90ZQ%3D%3D?line=54'>55</a>\u001b[0m     response \u001b[39m=\u001b[39m get_offers(token, site, location, initial_date, end_date, size\u001b[39m=\u001b[39;49m\u001b[39m100\u001b[39;49m, offset\u001b[39m=\u001b[39;49moffset)\n\u001b[1;32m     <a href='vscode-notebook-cell://ssh-remote%2B192.168.70.205/home/fulp/clasificador_ofertas_empleo/clasificador-ofertas-empleo-modelo/notebooks/jobmarket/NB_jobmarket_API.ipynb#X25sdnNjb2RlLXJlbW90ZQ%3D%3D?line=55'>56</a>\u001b[0m     offers\u001b[39m.\u001b[39mextend(response)\n\u001b[1;32m     <a href='vscode-notebook-cell://ssh-remote%2B192.168.70.205/home/fulp/clasificador_ofertas_empleo/clasificador-ofertas-empleo-modelo/notebooks/jobmarket/NB_jobmarket_API.ipynb#X25sdnNjb2RlLXJlbW90ZQ%3D%3D?line=56'>57</a>\u001b[0m     \u001b[39mif\u001b[39;00m \u001b[39mlen\u001b[39m(offers) \u001b[39m>\u001b[39m\u001b[39m=\u001b[39m max_offers:\n",
      "\u001b[1;32m/home/fulp/clasificador_ofertas_empleo/clasificador-ofertas-empleo-modelo/notebooks/jobmarket/NB_jobmarket_API.ipynb Cell 19\u001b[0m line \u001b[0;36m1\n\u001b[1;32m      <a href='vscode-notebook-cell://ssh-remote%2B192.168.70.205/home/fulp/clasificador_ofertas_empleo/clasificador-ofertas-empleo-modelo/notebooks/jobmarket/NB_jobmarket_API.ipynb#X25sdnNjb2RlLXJlbW90ZQ%3D%3D?line=8'>9</a>\u001b[0m headers \u001b[39m=\u001b[39m {\u001b[39m'\u001b[39m\u001b[39mContent-Type\u001b[39m\u001b[39m'\u001b[39m: \u001b[39m'\u001b[39m\u001b[39mapplication/json\u001b[39m\u001b[39m'\u001b[39m}\n\u001b[1;32m     <a href='vscode-notebook-cell://ssh-remote%2B192.168.70.205/home/fulp/clasificador_ofertas_empleo/clasificador-ofertas-empleo-modelo/notebooks/jobmarket/NB_jobmarket_API.ipynb#X25sdnNjb2RlLXJlbW90ZQ%3D%3D?line=9'>10</a>\u001b[0m json_payload \u001b[39m=\u001b[39m create_payload(token, site, location, initial_date, end_date, size\u001b[39m=\u001b[39msize, offset\u001b[39m=\u001b[39moffset)\n\u001b[0;32m---> <a href='vscode-notebook-cell://ssh-remote%2B192.168.70.205/home/fulp/clasificador_ofertas_empleo/clasificador-ofertas-empleo-modelo/notebooks/jobmarket/NB_jobmarket_API.ipynb#X25sdnNjb2RlLXJlbW90ZQ%3D%3D?line=10'>11</a>\u001b[0m r \u001b[39m=\u001b[39m requests\u001b[39m.\u001b[39;49mpost(offers_url, data\u001b[39m=\u001b[39;49mjson_payload, headers\u001b[39m=\u001b[39;49mheaders, timeout\u001b[39m=\u001b[39;49m\u001b[39m10\u001b[39;49m)\n\u001b[1;32m     <a href='vscode-notebook-cell://ssh-remote%2B192.168.70.205/home/fulp/clasificador_ofertas_empleo/clasificador-ofertas-empleo-modelo/notebooks/jobmarket/NB_jobmarket_API.ipynb#X25sdnNjb2RlLXJlbW90ZQ%3D%3D?line=11'>12</a>\u001b[0m \u001b[39mif\u001b[39;00m r\u001b[39m.\u001b[39mstatus_code \u001b[39m==\u001b[39m \u001b[39m200\u001b[39m:\n\u001b[1;32m     <a href='vscode-notebook-cell://ssh-remote%2B192.168.70.205/home/fulp/clasificador_ofertas_empleo/clasificador-ofertas-empleo-modelo/notebooks/jobmarket/NB_jobmarket_API.ipynb#X25sdnNjb2RlLXJlbW90ZQ%3D%3D?line=12'>13</a>\u001b[0m     data \u001b[39m=\u001b[39m r\u001b[39m.\u001b[39mjson()\n",
      "File \u001b[0;32m~/clasificador_ofertas_empleo/clasificador-ofertas-empleo-modelo/.venv/lib64/python3.9/site-packages/requests/api.py:115\u001b[0m, in \u001b[0;36mpost\u001b[0;34m(url, data, json, **kwargs)\u001b[0m\n\u001b[1;32m    103\u001b[0m \u001b[39mdef\u001b[39;00m \u001b[39mpost\u001b[39m(url, data\u001b[39m=\u001b[39m\u001b[39mNone\u001b[39;00m, json\u001b[39m=\u001b[39m\u001b[39mNone\u001b[39;00m, \u001b[39m*\u001b[39m\u001b[39m*\u001b[39mkwargs):\n\u001b[1;32m    104\u001b[0m \u001b[39m    \u001b[39m\u001b[39mr\u001b[39m\u001b[39m\"\"\"Sends a POST request.\u001b[39;00m\n\u001b[1;32m    105\u001b[0m \n\u001b[1;32m    106\u001b[0m \u001b[39m    :param url: URL for the new :class:`Request` object.\u001b[39;00m\n\u001b[0;32m   (...)\u001b[0m\n\u001b[1;32m    112\u001b[0m \u001b[39m    :rtype: requests.Response\u001b[39;00m\n\u001b[1;32m    113\u001b[0m \u001b[39m    \"\"\"\u001b[39;00m\n\u001b[0;32m--> 115\u001b[0m     \u001b[39mreturn\u001b[39;00m request(\u001b[39m\"\u001b[39;49m\u001b[39mpost\u001b[39;49m\u001b[39m\"\u001b[39;49m, url, data\u001b[39m=\u001b[39;49mdata, json\u001b[39m=\u001b[39;49mjson, \u001b[39m*\u001b[39;49m\u001b[39m*\u001b[39;49mkwargs)\n",
      "File \u001b[0;32m~/clasificador_ofertas_empleo/clasificador-ofertas-empleo-modelo/.venv/lib64/python3.9/site-packages/requests/api.py:59\u001b[0m, in \u001b[0;36mrequest\u001b[0;34m(method, url, **kwargs)\u001b[0m\n\u001b[1;32m     55\u001b[0m \u001b[39m# By using the 'with' statement we are sure the session is closed, thus we\u001b[39;00m\n\u001b[1;32m     56\u001b[0m \u001b[39m# avoid leaving sockets open which can trigger a ResourceWarning in some\u001b[39;00m\n\u001b[1;32m     57\u001b[0m \u001b[39m# cases, and look like a memory leak in others.\u001b[39;00m\n\u001b[1;32m     58\u001b[0m \u001b[39mwith\u001b[39;00m sessions\u001b[39m.\u001b[39mSession() \u001b[39mas\u001b[39;00m session:\n\u001b[0;32m---> 59\u001b[0m     \u001b[39mreturn\u001b[39;00m session\u001b[39m.\u001b[39;49mrequest(method\u001b[39m=\u001b[39;49mmethod, url\u001b[39m=\u001b[39;49murl, \u001b[39m*\u001b[39;49m\u001b[39m*\u001b[39;49mkwargs)\n",
      "File \u001b[0;32m~/clasificador_ofertas_empleo/clasificador-ofertas-empleo-modelo/.venv/lib64/python3.9/site-packages/requests/sessions.py:589\u001b[0m, in \u001b[0;36mSession.request\u001b[0;34m(self, method, url, params, data, headers, cookies, files, auth, timeout, allow_redirects, proxies, hooks, stream, verify, cert, json)\u001b[0m\n\u001b[1;32m    584\u001b[0m send_kwargs \u001b[39m=\u001b[39m {\n\u001b[1;32m    585\u001b[0m     \u001b[39m\"\u001b[39m\u001b[39mtimeout\u001b[39m\u001b[39m\"\u001b[39m: timeout,\n\u001b[1;32m    586\u001b[0m     \u001b[39m\"\u001b[39m\u001b[39mallow_redirects\u001b[39m\u001b[39m\"\u001b[39m: allow_redirects,\n\u001b[1;32m    587\u001b[0m }\n\u001b[1;32m    588\u001b[0m send_kwargs\u001b[39m.\u001b[39mupdate(settings)\n\u001b[0;32m--> 589\u001b[0m resp \u001b[39m=\u001b[39m \u001b[39mself\u001b[39;49m\u001b[39m.\u001b[39;49msend(prep, \u001b[39m*\u001b[39;49m\u001b[39m*\u001b[39;49msend_kwargs)\n\u001b[1;32m    591\u001b[0m \u001b[39mreturn\u001b[39;00m resp\n",
      "File \u001b[0;32m~/clasificador_ofertas_empleo/clasificador-ofertas-empleo-modelo/.venv/lib64/python3.9/site-packages/requests/sessions.py:747\u001b[0m, in \u001b[0;36mSession.send\u001b[0;34m(self, request, **kwargs)\u001b[0m\n\u001b[1;32m    744\u001b[0m         \u001b[39mpass\u001b[39;00m\n\u001b[1;32m    746\u001b[0m \u001b[39mif\u001b[39;00m \u001b[39mnot\u001b[39;00m stream:\n\u001b[0;32m--> 747\u001b[0m     r\u001b[39m.\u001b[39;49mcontent\n\u001b[1;32m    749\u001b[0m \u001b[39mreturn\u001b[39;00m r\n",
      "File \u001b[0;32m~/clasificador_ofertas_empleo/clasificador-ofertas-empleo-modelo/.venv/lib64/python3.9/site-packages/requests/models.py:899\u001b[0m, in \u001b[0;36mResponse.content\u001b[0;34m(self)\u001b[0m\n\u001b[1;32m    897\u001b[0m         \u001b[39mself\u001b[39m\u001b[39m.\u001b[39m_content \u001b[39m=\u001b[39m \u001b[39mNone\u001b[39;00m\n\u001b[1;32m    898\u001b[0m     \u001b[39melse\u001b[39;00m:\n\u001b[0;32m--> 899\u001b[0m         \u001b[39mself\u001b[39m\u001b[39m.\u001b[39m_content \u001b[39m=\u001b[39m \u001b[39mb\u001b[39;49m\u001b[39m\"\u001b[39;49m\u001b[39m\"\u001b[39;49m\u001b[39m.\u001b[39;49mjoin(\u001b[39mself\u001b[39;49m\u001b[39m.\u001b[39;49miter_content(CONTENT_CHUNK_SIZE)) \u001b[39mor\u001b[39;00m \u001b[39mb\u001b[39m\u001b[39m\"\u001b[39m\u001b[39m\"\u001b[39m\n\u001b[1;32m    901\u001b[0m \u001b[39mself\u001b[39m\u001b[39m.\u001b[39m_content_consumed \u001b[39m=\u001b[39m \u001b[39mTrue\u001b[39;00m\n\u001b[1;32m    902\u001b[0m \u001b[39m# don't need to release the connection; that's been handled by urllib3\u001b[39;00m\n\u001b[1;32m    903\u001b[0m \u001b[39m# since we exhausted the data.\u001b[39;00m\n",
      "File \u001b[0;32m~/clasificador_ofertas_empleo/clasificador-ofertas-empleo-modelo/.venv/lib64/python3.9/site-packages/requests/models.py:816\u001b[0m, in \u001b[0;36mResponse.iter_content.<locals>.generate\u001b[0;34m()\u001b[0m\n\u001b[1;32m    814\u001b[0m \u001b[39mif\u001b[39;00m \u001b[39mhasattr\u001b[39m(\u001b[39mself\u001b[39m\u001b[39m.\u001b[39mraw, \u001b[39m\"\u001b[39m\u001b[39mstream\u001b[39m\u001b[39m\"\u001b[39m):\n\u001b[1;32m    815\u001b[0m     \u001b[39mtry\u001b[39;00m:\n\u001b[0;32m--> 816\u001b[0m         \u001b[39myield from\u001b[39;00m \u001b[39mself\u001b[39m\u001b[39m.\u001b[39mraw\u001b[39m.\u001b[39mstream(chunk_size, decode_content\u001b[39m=\u001b[39m\u001b[39mTrue\u001b[39;00m)\n\u001b[1;32m    817\u001b[0m     \u001b[39mexcept\u001b[39;00m ProtocolError \u001b[39mas\u001b[39;00m e:\n\u001b[1;32m    818\u001b[0m         \u001b[39mraise\u001b[39;00m ChunkedEncodingError(e)\n",
      "File \u001b[0;32m~/clasificador_ofertas_empleo/clasificador-ofertas-empleo-modelo/.venv/lib64/python3.9/site-packages/urllib3/response.py:937\u001b[0m, in \u001b[0;36mHTTPResponse.stream\u001b[0;34m(self, amt, decode_content)\u001b[0m\n\u001b[1;32m    921\u001b[0m \u001b[39m\u001b[39m\u001b[39m\"\"\"\u001b[39;00m\n\u001b[1;32m    922\u001b[0m \u001b[39mA generator wrapper for the read() method. A call will block until\u001b[39;00m\n\u001b[1;32m    923\u001b[0m \u001b[39m``amt`` bytes have been read from the connection or until the\u001b[39;00m\n\u001b[0;32m   (...)\u001b[0m\n\u001b[1;32m    934\u001b[0m \u001b[39m    'content-encoding' header.\u001b[39;00m\n\u001b[1;32m    935\u001b[0m \u001b[39m\"\"\"\u001b[39;00m\n\u001b[1;32m    936\u001b[0m \u001b[39mif\u001b[39;00m \u001b[39mself\u001b[39m\u001b[39m.\u001b[39mchunked \u001b[39mand\u001b[39;00m \u001b[39mself\u001b[39m\u001b[39m.\u001b[39msupports_chunked_reads():\n\u001b[0;32m--> 937\u001b[0m     \u001b[39myield from\u001b[39;00m \u001b[39mself\u001b[39m\u001b[39m.\u001b[39mread_chunked(amt, decode_content\u001b[39m=\u001b[39mdecode_content)\n\u001b[1;32m    938\u001b[0m \u001b[39melse\u001b[39;00m:\n\u001b[1;32m    939\u001b[0m     \u001b[39mwhile\u001b[39;00m \u001b[39mnot\u001b[39;00m is_fp_closed(\u001b[39mself\u001b[39m\u001b[39m.\u001b[39m_fp) \u001b[39mor\u001b[39;00m \u001b[39mlen\u001b[39m(\u001b[39mself\u001b[39m\u001b[39m.\u001b[39m_decoded_buffer) \u001b[39m>\u001b[39m \u001b[39m0\u001b[39m:\n",
      "File \u001b[0;32m~/clasificador_ofertas_empleo/clasificador-ofertas-empleo-modelo/.venv/lib64/python3.9/site-packages/urllib3/response.py:1077\u001b[0m, in \u001b[0;36mHTTPResponse.read_chunked\u001b[0;34m(self, amt, decode_content)\u001b[0m\n\u001b[1;32m   1074\u001b[0m     \u001b[39mreturn\u001b[39;00m \u001b[39mNone\u001b[39;00m\n\u001b[1;32m   1076\u001b[0m \u001b[39mwhile\u001b[39;00m \u001b[39mTrue\u001b[39;00m:\n\u001b[0;32m-> 1077\u001b[0m     \u001b[39mself\u001b[39;49m\u001b[39m.\u001b[39;49m_update_chunk_length()\n\u001b[1;32m   1078\u001b[0m     \u001b[39mif\u001b[39;00m \u001b[39mself\u001b[39m\u001b[39m.\u001b[39mchunk_left \u001b[39m==\u001b[39m \u001b[39m0\u001b[39m:\n\u001b[1;32m   1079\u001b[0m         \u001b[39mbreak\u001b[39;00m\n",
      "File \u001b[0;32m~/clasificador_ofertas_empleo/clasificador-ofertas-empleo-modelo/.venv/lib64/python3.9/site-packages/urllib3/response.py:1005\u001b[0m, in \u001b[0;36mHTTPResponse._update_chunk_length\u001b[0;34m(self)\u001b[0m\n\u001b[1;32m   1003\u001b[0m \u001b[39mif\u001b[39;00m \u001b[39mself\u001b[39m\u001b[39m.\u001b[39mchunk_left \u001b[39mis\u001b[39;00m \u001b[39mnot\u001b[39;00m \u001b[39mNone\u001b[39;00m:\n\u001b[1;32m   1004\u001b[0m     \u001b[39mreturn\u001b[39;00m \u001b[39mNone\u001b[39;00m\n\u001b[0;32m-> 1005\u001b[0m line \u001b[39m=\u001b[39m \u001b[39mself\u001b[39;49m\u001b[39m.\u001b[39;49m_fp\u001b[39m.\u001b[39;49mfp\u001b[39m.\u001b[39;49mreadline()  \u001b[39m# type: ignore[union-attr]\u001b[39;00m\n\u001b[1;32m   1006\u001b[0m line \u001b[39m=\u001b[39m line\u001b[39m.\u001b[39msplit(\u001b[39mb\u001b[39m\u001b[39m\"\u001b[39m\u001b[39m;\u001b[39m\u001b[39m\"\u001b[39m, \u001b[39m1\u001b[39m)[\u001b[39m0\u001b[39m]\n\u001b[1;32m   1007\u001b[0m \u001b[39mtry\u001b[39;00m:\n",
      "File \u001b[0;32m/usr/lib64/python3.9/socket.py:704\u001b[0m, in \u001b[0;36mSocketIO.readinto\u001b[0;34m(self, b)\u001b[0m\n\u001b[1;32m    702\u001b[0m \u001b[39mwhile\u001b[39;00m \u001b[39mTrue\u001b[39;00m:\n\u001b[1;32m    703\u001b[0m     \u001b[39mtry\u001b[39;00m:\n\u001b[0;32m--> 704\u001b[0m         \u001b[39mreturn\u001b[39;00m \u001b[39mself\u001b[39;49m\u001b[39m.\u001b[39;49m_sock\u001b[39m.\u001b[39;49mrecv_into(b)\n\u001b[1;32m    705\u001b[0m     \u001b[39mexcept\u001b[39;00m timeout:\n\u001b[1;32m    706\u001b[0m         \u001b[39mself\u001b[39m\u001b[39m.\u001b[39m_timeout_occurred \u001b[39m=\u001b[39m \u001b[39mTrue\u001b[39;00m\n",
      "File \u001b[0;32m/usr/lib64/python3.9/ssl.py:1275\u001b[0m, in \u001b[0;36mSSLSocket.recv_into\u001b[0;34m(self, buffer, nbytes, flags)\u001b[0m\n\u001b[1;32m   1271\u001b[0m     \u001b[39mif\u001b[39;00m flags \u001b[39m!=\u001b[39m \u001b[39m0\u001b[39m:\n\u001b[1;32m   1272\u001b[0m         \u001b[39mraise\u001b[39;00m \u001b[39mValueError\u001b[39;00m(\n\u001b[1;32m   1273\u001b[0m           \u001b[39m\"\u001b[39m\u001b[39mnon-zero flags not allowed in calls to recv_into() on \u001b[39m\u001b[39m%s\u001b[39;00m\u001b[39m\"\u001b[39m \u001b[39m%\u001b[39m\n\u001b[1;32m   1274\u001b[0m           \u001b[39mself\u001b[39m\u001b[39m.\u001b[39m\u001b[39m__class__\u001b[39m)\n\u001b[0;32m-> 1275\u001b[0m     \u001b[39mreturn\u001b[39;00m \u001b[39mself\u001b[39;49m\u001b[39m.\u001b[39;49mread(nbytes, buffer)\n\u001b[1;32m   1276\u001b[0m \u001b[39melse\u001b[39;00m:\n\u001b[1;32m   1277\u001b[0m     \u001b[39mreturn\u001b[39;00m \u001b[39msuper\u001b[39m()\u001b[39m.\u001b[39mrecv_into(buffer, nbytes, flags)\n",
      "File \u001b[0;32m/usr/lib64/python3.9/ssl.py:1133\u001b[0m, in \u001b[0;36mSSLSocket.read\u001b[0;34m(self, len, buffer)\u001b[0m\n\u001b[1;32m   1131\u001b[0m \u001b[39mtry\u001b[39;00m:\n\u001b[1;32m   1132\u001b[0m     \u001b[39mif\u001b[39;00m buffer \u001b[39mis\u001b[39;00m \u001b[39mnot\u001b[39;00m \u001b[39mNone\u001b[39;00m:\n\u001b[0;32m-> 1133\u001b[0m         \u001b[39mreturn\u001b[39;00m \u001b[39mself\u001b[39;49m\u001b[39m.\u001b[39;49m_sslobj\u001b[39m.\u001b[39;49mread(\u001b[39mlen\u001b[39;49m, buffer)\n\u001b[1;32m   1134\u001b[0m     \u001b[39melse\u001b[39;00m:\n\u001b[1;32m   1135\u001b[0m         \u001b[39mreturn\u001b[39;00m \u001b[39mself\u001b[39m\u001b[39m.\u001b[39m_sslobj\u001b[39m.\u001b[39mread(\u001b[39mlen\u001b[39m)\n",
      "\u001b[0;31mKeyboardInterrupt\u001b[0m: "
     ]
    }
   ],
   "source": [
    "count_url = base_url + \"count\"\n",
    "offers_url = base_url + \"offers\"\n",
    "\n",
    "def create_payload(token, site, location, initial_date, end_date, size=100, offset=0):\n",
    "    payload = {'site': site, 'size': size, 'offset':offset, 'token': token, \"period\" : \"custom\", \"customDateFrom\": initial_date, \"customDateTo\": end_date, \"location\":location }\n",
    "    return json.dumps(payload)\n",
    "\n",
    "def get_offers(token, site, location, initial_date, end_date, size, offset):\n",
    "    headers = {'Content-Type': 'application/json'}\n",
    "    json_payload = create_payload(token, site, location, initial_date, end_date, size=size, offset=offset)\n",
    "    r = requests.post(offers_url, data=json_payload, headers=headers, timeout=10)\n",
    "    if r.status_code == 200:\n",
    "        data = r.json()\n",
    "        # print(data)\n",
    "        return data['offers']\n",
    "    else:\n",
    "        print(f\"Request failed with status code {r.status_code}\")\n",
    "        return None\n",
    "\n",
    "def get_count(token, site, location, initial_date, end_date):\n",
    "    headers = {'Content-Type': 'application/json'}\n",
    "    json_payload = create_payload(token, site, location, initial_date, end_date)\n",
    "    r = requests.post(count_url, data=json_payload, headers=headers)\n",
    "    if r.status_code == 200:\n",
    "        data = r.json()\n",
    "        return data['offers']['market']\n",
    "    else:\n",
    "        print(f\"Request failed with status code {r.status_code}\")\n",
    "        return None\n",
    "\n",
    "def get_offers_by_period(token, site, location, initial_date, end_date, max_offers=1000):\n",
    "    print(f\"Period: {initial_date} - {end_date}\")\n",
    "    count = get_count(token, site, location, initial_date, end_date)\n",
    "    print(f\"Count: {count}\")\n",
    "    offers = []\n",
    "    for offset in range(0, count, 100):\n",
    "        print(f\"Actual offers: {len(offers)}\")\n",
    "        size = 100\n",
    "        response = get_offers(token, site, location, initial_date, end_date, size, offset)\n",
    "        offers.extend(response)\n",
    "        if len(offers) >= max_offers:\n",
    "            break\n",
    "    return offers\n",
    "    \n",
    "def get_offers_by_period_list(token, site, location, periods, max_offers=1000):\n",
    "    offers = []\n",
    "    for period in periods:\n",
    "        initial_date = period['from']\n",
    "        end_date = period['to']\n",
    "        print(f\"Period: {initial_date} - {end_date}\")\n",
    "        count = get_count(token, site, location, initial_date, end_date)\n",
    "        print(f\"Count: {count}\")\n",
    "        # Wrap the loop with tqdm to create a progress bar\n",
    "        for offset in tqdm(range(0, count, 100), desc=\"Downloading offers\"):\n",
    "            response = get_offers(token, site, location, initial_date, end_date, size=100, offset=offset)\n",
    "            offers.extend(response)\n",
    "            if len(offers) >= max_offers:\n",
    "                break  # Exit the loop if you reach the maximum number of offers\n",
    "    return offers\n",
    "\n",
    "N_offers = 2000000\n",
    "site = 1963\n",
    "# location = \"ES|53|GC^ES|53|TF\"\n",
    "# ! ES|53|GC|Las Palmas de Gran Canaria^ES|53|TF|Santa Cruz de Tenerife /= ES|53|GC^ES|53|TF\n",
    "# location = \"ES|53|GC|Las Palmas de Gran Canaria^ES|53|TF|Santa Cruz de Tenerife\"\n",
    "location = \"ES\"\n",
    "initial_date = '2023-01-01'\n",
    "end_date = '2023-01-10'\n",
    "# offers_news = get_offers_by_period(token, site, location, initial_date, end_date, max_offers=N_offers)\n",
    "site = 1963\n",
    "location = \"ES\"\n",
    "initial_date = '2021-01-01'\n",
    "end_date = '2023-07-01'\n",
    "new_periods = create_date_range(initial_date, end_date)\n",
    "offers_news = get_offers_by_period_list(token, site, location, new_periods, max_offers=N_offers)"
   ]
  },
  {
   "cell_type": "code",
   "execution_count": null,
   "metadata": {},
   "outputs": [
    {
     "name": "stdout",
     "output_type": "stream",
     "text": [
      "(29147, 8)\n",
      "(20254, 8)\n"
     ]
    }
   ],
   "source": [
    "# Cast to df\n",
    "df_offers = pd.DataFrame(offers_news)\n",
    "# Show shape\n",
    "print(df_offers.shape)\n",
    "# Delete repeated offers with same \"description\"\n",
    "df_offers = df_offers.drop_duplicates(subset=['postings'])\n",
    "# Show shape\n",
    "print(df_offers.shape)\n",
    "# Cast again to list of dicts\n",
    "offers_news = df_offers.to_dict('records')"
   ]
  },
  {
   "cell_type": "code",
   "execution_count": null,
   "metadata": {},
   "outputs": [],
   "source": [
    "def format_offer(offer):\n",
    "    expected_keys = ['title', 'description', 'company', 'location', 'category']\n",
    "    expected_keys_post = ['date', 'site', 'id', 'url']\n",
    "    expected_keys_labeled = ['category', 'site', 'location']\n",
    "    formated_offer = {}\n",
    "    for key in expected_keys:\n",
    "        if key not in offer and offer[key] is not None:\n",
    "            formated_offer[key] = None\n",
    "        else:\n",
    "            try:\n",
    "                if key in expected_keys_labeled and offer[key] is not None:\n",
    "                    formated_offer[key] = offer[key]['label']\n",
    "                else:\n",
    "                    formated_offer[key] = offer[key]\n",
    "            except:\n",
    "                continue\n",
    "    post = get_last_record(offer['postings'])\n",
    "    for key in expected_keys_post:\n",
    "        if key not in post:\n",
    "            formated_offer[key] = None\n",
    "        else:\n",
    "            try:\n",
    "                if key in expected_keys_labeled and offer[key] is not None: \n",
    "                    formated_offer[key] = post[key]['label']\n",
    "                else:\n",
    "                    formated_offer[key] = post[key]\n",
    "            except:\n",
    "                continue\n",
    "    formated_offer['id_oferta'] = get_id_oferta(formated_offer)\n",
    "    return formated_offer\n",
    "\n",
    "def get_last_record(postings):\n",
    "    dates = []\n",
    "    for post in postings:\n",
    "        dates.append(post['date'])\n",
    "    # Get index of the last date\n",
    "    index = dates.index(max(dates))\n",
    "    return postings[index]\n",
    "\n",
    "def get_id_oferta(offer):\n",
    "    url = offer['url']\n",
    "    # Get the id after \"of-i\" in the url\n",
    "    if \"www.infojobs.net\" in url:\n",
    "        id_oferta = url.split(\"of-i\")[1]\n",
    "    else:\n",
    "        id_oferta = None\n",
    "    # Delete the last part of the id\n",
    "    return id_oferta\n",
    "\n",
    "def format_all_offers(offers):\n",
    "    formated_offers = []\n",
    "    for offer in offers:\n",
    "        formated_offers.append(format_offer(offer))\n",
    "    return formated_offers\n",
    "\n",
    "formated_offers = format_all_offers(offers_news)\n",
    "\n",
    "# Cast to df\n",
    "df_offers = pd.DataFrame(formated_offers)\n",
    "# Save to json\n",
    "df_offers.to_json(\"./data/formated_offers.json\", orient=\"records\")"
   ]
  }
 ],
 "metadata": {
  "kernelspec": {
   "display_name": ".venv",
   "language": "python",
   "name": "python3"
  },
  "language_info": {
   "codemirror_mode": {
    "name": "ipython",
    "version": 3
   },
   "file_extension": ".py",
   "mimetype": "text/x-python",
   "name": "python",
   "nbconvert_exporter": "python",
   "pygments_lexer": "ipython3",
   "version": "3.9.16"
  }
 },
 "nbformat": 4,
 "nbformat_minor": 2
}
