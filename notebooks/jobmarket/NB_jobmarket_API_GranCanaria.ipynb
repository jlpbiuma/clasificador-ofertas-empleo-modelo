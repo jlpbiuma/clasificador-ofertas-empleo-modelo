{
 "cells": [
  {
   "cell_type": "markdown",
   "metadata": {},
   "source": [
    "# Import libraries"
   ]
  },
  {
   "cell_type": "code",
   "execution_count": 1,
   "metadata": {},
   "outputs": [],
   "source": [
    "import pandas as pd\n",
    "import requests\n",
    "import json\n",
    "from tqdm import tqdm"
   ]
  },
  {
   "cell_type": "markdown",
   "metadata": {},
   "source": [
    "# Fetch the offers to jobmarket"
   ]
  },
  {
   "cell_type": "code",
   "execution_count": 2,
   "metadata": {},
   "outputs": [],
   "source": [
    "# Request data from API\n",
    "user = \"hacomar@fulp.es\"\n",
    "clave = \"Atenas.2023\"\n",
    "base_url = \"https://www.jobmarketinsights.com/jmi-api/\"\n",
    "login_url = base_url + \"token\"\n",
    "N_offers = 51000"
   ]
  },
  {
   "cell_type": "markdown",
   "metadata": {},
   "source": [
    "# Log into API"
   ]
  },
  {
   "cell_type": "code",
   "execution_count": 3,
   "metadata": {},
   "outputs": [
    {
     "name": "stdout",
     "output_type": "stream",
     "text": [
      "6VNLHJXRWOCBVN6ZO5VG2LHW2QW5TMYZYZT2UZBVXM5T2X2MXL5Q\n"
     ]
    }
   ],
   "source": [
    "def login():\n",
    "    # Define the headers to set the Content-Type\n",
    "    headers = {'Content-Type': 'application/json'}\n",
    "    # Create a dictionary containing the data to send as JSON\n",
    "    payload = {'email': user, 'password': clave}\n",
    "    # Convert the payload to JSON format\n",
    "    json_payload = json.dumps(payload)\n",
    "    # Send the POST request with the specified headers and JSON data\n",
    "    r = requests.post(login_url, data=json_payload, headers=headers)\n",
    "    # Check if the request was successful (status code 200)\n",
    "    if r.status_code == 200:\n",
    "        # Parse the JSON response\n",
    "        data = r.json()\n",
    "        token = data[\"auth\"][\"token\"]\n",
    "        return token\n",
    "    else:\n",
    "        print(f\"Request failed with status code {r.status_code}\")\n",
    "        return None\n",
    "token = login()\n",
    "print(token)"
   ]
  },
  {
   "cell_type": "markdown",
   "metadata": {},
   "source": [
    "# Scope"
   ]
  },
  {
   "cell_type": "code",
   "execution_count": 4,
   "metadata": {},
   "outputs": [
    {
     "name": "stdout",
     "output_type": "stream",
     "text": [
      "792\n"
     ]
    }
   ],
   "source": [
    "scope_url = base_url + \"scopes\"\n",
    "def get_scope(token):\n",
    "    payload = {'token': token}\n",
    "    headers = {'Content-Type': 'application/json'}\n",
    "    json_payload = json.dumps(payload)\n",
    "    r = requests.post(scope_url, data=json_payload, headers=headers)\n",
    "    if r.status_code == 200:\n",
    "        data = r.json()\n",
    "        return data\n",
    "    else:\n",
    "        print(f\"Request failed with status code {r.status_code}\")\n",
    "        return None\n",
    "response = get_scope(token)\n",
    "scopes = response[\"scopes\"][0][\"key\"]\n",
    "print(scopes)"
   ]
  },
  {
   "cell_type": "code",
   "execution_count": 5,
   "metadata": {},
   "outputs": [
    {
     "data": {
      "text/plain": [
       "'6VNLHJXRWOCBVN6ZO5VG2LHW2QW5TMYZYZT2UZBVXM5T2X2MXL5Q'"
      ]
     },
     "execution_count": 5,
     "metadata": {},
     "output_type": "execute_result"
    }
   ],
   "source": [
    "token"
   ]
  },
  {
   "cell_type": "markdown",
   "metadata": {},
   "source": [
    "# Periods"
   ]
  },
  {
   "cell_type": "code",
   "execution_count": 6,
   "metadata": {},
   "outputs": [
    {
     "name": "stdout",
     "output_type": "stream",
     "text": [
      "[{'from': '2023-11-06', 'label': 'Últimos días', 'to': '2023-11-09', 'key': 'ld'}, {'from': '2023-10-01', 'label': 'oct 2023', 'to': '2023-11-01', 'key': '2023-10'}, {'from': '2023-09-01', 'label': 'sep 2023', 'to': '2023-10-01', 'key': '2023-09'}, {'from': '2023-08-01', 'label': 'ago 2023', 'to': '2023-09-01', 'key': '2023-08'}, {'from': '2023-07-01', 'label': 'jul 2023', 'to': '2023-08-01', 'key': '2023-07'}, {'from': '2023-06-01', 'label': 'jun 2023', 'to': '2023-07-01', 'key': '2023-06'}, {'from': '2023-05-01', 'label': 'may 2023', 'to': '2023-06-01', 'key': '2023-05'}, {'from': '2023-04-01', 'label': 'abr 2023', 'to': '2023-05-01', 'key': '2023-04'}, {'from': '2023-03-01', 'label': 'mar 2023', 'to': '2023-04-01', 'key': '2023-03'}, {'from': '2023-02-01', 'label': 'feb 2023', 'to': '2023-03-01', 'key': '2023-02'}, {'from': '2023-01-01', 'label': 'ene 2023', 'to': '2023-02-01', 'key': '2023-01'}, {'from': '2022-12-01', 'label': 'dic 2022', 'to': '2023-01-01', 'key': '2022-12'}, {'from': '2022-11-01', 'label': 'nov 2022', 'to': '2022-12-01', 'key': '2022-11'}, {'from': '2022-10-01', 'label': 'oct 2022', 'to': '2022-11-01', 'key': '2022-10'}, {'from': '2022-09-01', 'label': 'sep 2022', 'to': '2022-10-01', 'key': '2022-09'}, {'from': '2022-08-01', 'label': 'ago 2022', 'to': '2022-09-01', 'key': '2022-08'}, {'from': '2022-07-01', 'label': 'jul 2022', 'to': '2022-08-01', 'key': '2022-07'}, {'from': '2022-06-01', 'label': 'jun 2022', 'to': '2022-07-01', 'key': '2022-06'}, {'from': '2022-05-01', 'label': 'may 2022', 'to': '2022-06-01', 'key': '2022-05'}, {'from': '2022-04-01', 'label': 'abr 2022', 'to': '2022-05-01', 'key': '2022-04'}, {'from': '2022-03-01', 'label': 'mar 2022', 'to': '2022-04-01', 'key': '2022-03'}, {'from': '2022-02-01', 'label': 'feb 2022', 'to': '2022-03-01', 'key': '2022-02'}, {'from': '2022-01-01', 'label': 'ene 2022', 'to': '2022-02-01', 'key': '2022-01'}, {'from': '2021-12-01', 'label': 'dic 2021', 'to': '2022-01-01', 'key': '2021-12'}, {'from': '2021-11-01', 'label': 'nov 2021', 'to': '2021-12-01', 'key': '2021-11'}, {'from': '2021-10-01', 'label': 'oct 2021', 'to': '2021-11-01', 'key': '2021-10'}, {'from': '2021-09-01', 'label': 'sep 2021', 'to': '2021-10-01', 'key': '2021-09'}, {'from': '2021-08-01', 'label': 'ago 2021', 'to': '2021-09-01', 'key': '2021-08'}, {'from': '2021-07-01', 'label': 'jul 2021', 'to': '2021-08-01', 'key': '2021-07'}, {'from': '2021-06-01', 'label': 'jun 2021', 'to': '2021-07-01', 'key': '2021-06'}, {'from': '2021-05-01', 'label': 'may 2021', 'to': '2021-06-01', 'key': '2021-05'}, {'from': '2021-04-01', 'label': 'abr 2021', 'to': '2021-05-01', 'key': '2021-04'}, {'from': '2021-03-01', 'label': 'mar 2021', 'to': '2021-04-01', 'key': '2021-03'}, {'from': '2021-02-01', 'label': 'feb 2021', 'to': '2021-03-01', 'key': '2021-02'}, {'from': '2021-01-01', 'label': 'ene 2021', 'to': '2021-02-01', 'key': '2021-01'}, {'from': '2023-10-30', 'label': 'Última semana', 'to': '2023-11-06', 'key': '-1W'}, {'from': '2023-10-23', 'label': 'Últimas 2 semanas', 'to': '2023-11-06', 'key': '-2W'}, {'from': '2023-10-16', 'label': 'Últimas 3 semanas', 'to': '2023-11-06', 'key': '-3W'}, {'from': '2023-10-23', 'label': 'Hace 2 semanas', 'to': '2023-10-30', 'key': '-2w'}, {'from': '2023-10-16', 'label': 'Hace 3 semanas', 'to': '2023-10-23', 'key': '-3w'}, {'from': '2023-10-09', 'label': 'Hace 4 semanas', 'to': '2023-10-16', 'key': '-4w'}, {'from': '2023-10-01', 'label': 'Último mes', 'to': '2023-11-01', 'key': '-1'}, {'from': '2023-09-01', 'label': 'Últimos 2 meses', 'to': '2023-11-01', 'key': '-2'}, {'from': '2023-08-01', 'label': 'Últimos 3 meses', 'to': '2023-11-01', 'key': '-3'}, {'from': '2023-05-01', 'label': 'Últimos 6 meses', 'to': '2023-11-01', 'key': '-6'}, {'from': '2022-11-01', 'label': 'Últimos 12 meses', 'to': '2023-11-01', 'key': '-12'}, {'from': '2023-07-01', 'label': 'Q3 2023', 'to': '2023-10-01', 'key': 'Q3.2023'}, {'from': '2023-04-01', 'label': 'Q2 2023', 'to': '2023-07-01', 'key': 'Q2.2023'}, {'from': '2023-01-01', 'label': 'Q1 2023', 'to': '2023-04-01', 'key': 'Q1.2023'}, {'from': '2022-10-01', 'label': 'Q4 2022', 'to': '2023-01-01', 'key': 'Q4.2022'}, {'from': '2023-01-01', 'label': '', 'to': '2023-07-01', 'key': 'S1.2023'}, {'from': '2022-07-01', 'label': '', 'to': '2023-01-01', 'key': 'S2.2022'}, {'from': '2023-01-01', 'label': '2023', 'to': '2024-01-01', 'key': '2023'}, {'from': '2022-01-01', 'label': '2022', 'to': '2023-01-01', 'key': '2022'}, {'from': '2021-01-01', 'label': '2021', 'to': '2022-01-01', 'key': '2021'}]\n"
     ]
    }
   ],
   "source": [
    "# Ask for list with able periods\n",
    "periods_url = base_url + \"periods\"\n",
    "def get_periods(token):\n",
    "    payload = {'token': token}\n",
    "    headers = {'Content-Type': 'application/json'}\n",
    "    json_payload = json.dumps(payload)\n",
    "    r = requests.post(periods_url, data=json_payload, headers=headers)\n",
    "    if r.status_code == 200:\n",
    "        data = r.json()\n",
    "        return data['periods']\n",
    "    else:\n",
    "        print(f\"Request failed with status code {r.status_code}\")\n",
    "        return None\n",
    "# Returns an array of dicts with 4 keys: from, label, to, key\n",
    "periods = get_periods(token)\n",
    "print(periods)\n",
    "# For example, we will use the first period\n",
    "period = periods[10]\n",
    "initial_date = period['from']\n",
    "end_date = period['to']"
   ]
  },
  {
   "cell_type": "markdown",
   "metadata": {},
   "source": [
    "# Missing advertisers"
   ]
  },
  {
   "cell_type": "code",
   "execution_count": 7,
   "metadata": {},
   "outputs": [],
   "source": [
    "missing_adverts_url = base_url + \"missingAdvertisers\"\n",
    "\n",
    "def create_payload(token, initial_date, end_date, size=100, offset=0):\n",
    "    payload = {'strictPeriod': True, 'location': 'ES', 'token': token,\"period\" : \"custom\", \"customDateFrom\": initial_date, \"customDateTo\": end_date, \"offset\": offset}\n",
    "    headers = {'Content-Type': 'application/json'}\n",
    "    json_payload = json.dumps(payload)\n",
    "    return json_payload, headers\n",
    "\n",
    "def get_missing_adverts(token, scope, initial_date, end_date, size=100, offset=0):\n",
    "    payload, headers = create_payload(token, scope, initial_date, end_date, size, offset)\n",
    "    json_payload = json.dumps(payload)\n",
    "    r = requests.post(missing_adverts_url, data=json_payload, headers=headers)\n",
    "    if r.status_code == 200:\n",
    "        data = r.json()\n",
    "        return data\n",
    "    else:\n",
    "        print(f\"Request failed with status code {r.status_code}\")\n",
    "        return None\n",
    "# print(get_missing_adverts(token, scopes, initial_date, end_date))"
   ]
  },
  {
   "cell_type": "markdown",
   "metadata": {},
   "source": [
    "# Sites"
   ]
  },
  {
   "cell_type": "code",
   "execution_count": 8,
   "metadata": {},
   "outputs": [
    {
     "name": "stdout",
     "output_type": "stream",
     "text": [
      "{'total': {'offers': 258079, 'companies': 47422}, 'auth': {'token': '6VNLHJXRWOCBVN6ZO5VG2LHW2QW5TMYZYZT2UZBVXM5T2X2MXL5Q'}, 'sites': [{'offers': 81779, 'companies': 17279, 'label': 'infojobs.net', 'key': '1963'}, {'offers': 51369, 'companies': 8763, 'label': 'indeed', 'key': '3427'}, {'offers': 37964, 'companies': 12795, 'label': 'linkedin.com', 'key': '3455'}, {'offers': 37673, 'companies': 3815, 'label': 'es.talent.com', 'key': '4142'}, {'offers': 19244, 'companies': 5961, 'label': 'glassdoor.com', 'key': '3933'}, {'offers': 15553, 'companies': 6533, 'label': 'jobtoday.com', 'key': '4023'}, {'offers': 11185, 'companies': 447, 'label': 'iberempleos.es', 'key': '4254'}, {'offers': 11041, 'companies': 386, 'label': 'epreselec.com', 'key': '4186'}, {'offers': 10848, 'companies': 1029, 'label': 'empleate.gob.es', 'key': '4058'}, {'offers': 5053, 'companies': 1100, 'label': 'monster.es', 'key': '3464'}, {'offers': 4563, 'companies': 1, 'label': 'randstad.es', 'key': '3790'}, {'offers': 4481, 'companies': 321, 'label': 'infoempleo.com', 'key': '3451'}, {'offers': 2973, 'companies': 102, 'label': 'ats.bizneo.com', 'key': '4175'}, {'offers': 2664, 'companies': 527, 'label': 'trabajos.com', 'key': '3513'}, {'offers': 2661, 'companies': 1, 'label': 'adecco.es', 'key': '3791'}, {'offers': 2586, 'companies': 787, 'label': 'feinaactiva.gencat.cat', 'key': '4703'}, {'offers': 2334, 'companies': 1627, 'label': 'buscadordetrabajo.es', 'key': '3812'}, {'offers': 2208, 'companies': 95, 'label': 'yobalia.com', 'key': '4210'}, {'offers': 2163, 'companies': 1, 'label': 'eurofirms.es', 'key': '4345'}, {'offers': 2047, 'companies': 300, 'label': 'google.es', 'key': '996'}, {'offers': 1636, 'companies': 259, 'label': 'classificats.net', 'key': '4150'}, {'offers': 1623, 'companies': 339, 'label': 'juntadeandalucia.es', 'key': '4547'}, {'offers': 1618, 'companies': 116, 'label': 'cornerjob.com', 'key': '3466'}, {'offers': 1550, 'companies': 113, 'label': 'tecnoempleo.com', 'key': '301'}, {'offers': 1305, 'companies': 204, 'label': 'es.fashionjobs.com', 'key': '4133'}, {'offers': 1191, 'companies': 0, 'label': 'xaloc.diba.cat', 'key': '4621'}, {'offers': 1152, 'companies': 572, 'label': 'indeed-sponsored', 'key': '4751'}, {'offers': 1146, 'companies': 1, 'label': 'pagepersonnel.es', 'key': '4352'}, {'offers': 1141, 'companies': 205, 'label': 'infofeina.com', 'key': '4126'}, {'offers': 927, 'companies': 353, 'label': 'turijobs.com', 'key': '3440'}, {'offers': 871, 'companies': 0, 'label': 'emprego.xunta.gal', 'key': '4548'}, {'offers': 860, 'companies': 209, 'label': 'insertia.net', 'key': '4139'}, {'offers': 817, 'companies': 2, 'label': 'grupo-crit.com', 'key': '4348'}, {'offers': 780, 'companies': 301, 'label': 'jobs.universia.net', 'key': '4570'}, {'offers': 743, 'companies': 1, 'label': 'michaelpage.es', 'key': '4351'}, {'offers': 729, 'companies': 1, 'label': 'flexiplan.eulen.com', 'key': '4342'}, {'offers': 716, 'companies': 1, 'label': 'imancorp.es', 'key': '4346'}, {'offers': 709, 'companies': 244, 'label': 'hacesfalta.org', 'key': '4107'}, {'offers': 675, 'companies': 119, 'label': 'jobandtalent.com', 'key': '3537'}, {'offers': 674, 'companies': 41, 'label': 'successfactors.com', 'key': '4140'}, {'offers': 576, 'companies': 1, 'label': 'hays.es', 'key': '4625'}, {'offers': 526, 'companies': 1, 'label': 'synergie.es', 'key': '4344'}, {'offers': 475, 'companies': 29, 'label': 'ticjob.es', 'key': '3514'}, {'offers': 413, 'companies': 242, 'label': 'primerempleo.com', 'key': '3899'}, {'offers': 393, 'companies': 1, 'label': 'es.gigroup.com', 'key': '4343'}, {'offers': 384, 'companies': 280, 'label': 'domestika.org', 'key': '3727'}, {'offers': 383, 'companies': 1, 'label': 'manpower.es', 'key': '4622'}, {'offers': 334, 'companies': 4, 'label': 'navarra.es', 'key': '4650'}, {'offers': 329, 'companies': 1, 'label': 'construyendoempleo.com', 'key': '4509'}, {'offers': 312, 'companies': 165, 'label': 'trabajosdiarios.com', 'key': '4690'}, {'offers': 298, 'companies': 53, 'label': 'hosco.com', 'key': '4162'}, {'offers': 297, 'companies': 1, 'label': 'empleo.nortempo.com', 'key': '4349'}, {'offers': 290, 'companies': 193, 'label': 'InfoResidencias.com', 'key': '4597'}, {'offers': 249, 'companies': 89, 'label': 'unmejorempleo.com', 'key': '4560'}, {'offers': 213, 'companies': 7, 'label': 'talentforjobs.com', 'key': '4152'}, {'offers': 205, 'companies': 85, 'label': 'pmfarma.es', 'key': '4155'}, {'offers': 204, 'companies': 76, 'label': 'hosteleo.com', 'key': '3817'}, {'offers': 190, 'companies': 1, 'label': 'jobs.telefonica.com', 'key': '4774'}, {'offers': 184, 'companies': 32, 'label': 'fashionunited.es', 'key': '4103'}, {'offers': 182, 'companies': 25, 'label': 'europelanguagejobs.com', 'key': '3813'}, {'offers': 178, 'companies': 1, 'label': 'eulen.com', 'key': '4624'}, {'offers': 162, 'companies': 5, 'label': 'bolsaempleo.alcobendas.org', 'key': '4371'}, {'offers': 135, 'companies': 34, 'label': 'jobfluent.com', 'key': '4066'}, {'offers': 119, 'companies': 19, 'label': 'itjobs.es', 'key': '4207'}, {'offers': 107, 'companies': 1, 'label': 'nttdata.com', 'key': '4744'}, {'offers': 96, 'companies': 2, 'label': 'proempleoingenieros.es', 'key': '4354'}, {'offers': 86, 'companies': 1, 'label': 'ananda.es', 'key': '4626'}, {'offers': 81, 'companies': 32, 'label': 'colejobs.es', 'key': '4561'}, {'offers': 68, 'companies': 2, 'label': 'catenon.com', 'key': '4613'}, {'offers': 67, 'companies': 37, 'label': 'gastroempleo.com', 'key': '4569'}, {'offers': 63, 'companies': 1, 'label': 'marlex.net', 'key': '4627'}, {'offers': 61, 'companies': 49, 'label': 'getmanfred.com', 'key': '4623'}, {'offers': 61, 'companies': 15, 'label': 'manatal.com', 'key': '4697'}, {'offers': 59, 'companies': 7, 'label': 'JobisJob', 'key': '206'}, {'offers': 54, 'companies': 5, 'label': 'gamesjobsdirect.com', 'key': '4677'}, {'offers': 44, 'companies': 36, 'label': 'teujob.es', 'key': '4689'}, {'offers': 21, 'companies': 0, 'label': 'santfeliu.cat', 'key': '4372'}, {'offers': 15, 'companies': 1, 'label': 'apple.com', 'key': '3535'}, {'offers': 15, 'companies': 2, 'label': 'talenthackers.net', 'key': '4478'}, {'offers': 11, 'companies': 3, 'label': 'farmacias.jobs', 'key': '4106'}, {'offers': 10, 'companies': 3, 'label': 'gohire.io', 'key': '4540'}, {'offers': 1, 'companies': 1, 'label': 'empleate.com', 'key': '3821'}], 'echo': {'api-version': '1.0', 'period': {'from': '2023-10-01', 'label': 'Último mes', 'to': '2023-11-01', 'key': '-1'}, 'scope': 792}}\n"
     ]
    }
   ],
   "source": [
    "sites_url = base_url + \"sites\"\n",
    "def get_sites(token):\n",
    "    payload = {'token': token}\n",
    "    headers = {'Content-Type': 'application/json'}\n",
    "    json_payload = json.dumps(payload)\n",
    "    r = requests.post(sites_url, data=json_payload, headers=headers)\n",
    "    if r.status_code == 200:\n",
    "        data = r.json()\n",
    "        return data\n",
    "    else:\n",
    "        print(f\"Request failed with status code {r.status_code}\")\n",
    "        return None\n",
    "response = get_sites(token)\n",
    "print(response)"
   ]
  },
  {
   "cell_type": "markdown",
   "metadata": {},
   "source": [
    "# Custom period"
   ]
  },
  {
   "cell_type": "code",
   "execution_count": 13,
   "metadata": {},
   "outputs": [],
   "source": [
    "# Create a function to create a list of objects with from and to keys with dates from an initial date to an end date\n",
    "def create_date_range(initial_date, end_date):\n",
    "    # The starting date is always at YYYY-MM-01 format\n",
    "    initial_date = initial_date[:8] + \"01\"\n",
    "    # The end date is always at YYYY-MM-01 format\n",
    "    end_date = end_date[:8] + \"01\"\n",
    "\n",
    "    # Create a list of dates from the initial date to the end date\n",
    "    date_range = pd.date_range(initial_date, end_date, freq=\"MS\")\n",
    "\n",
    "    # Create a list of dicts with the dates\n",
    "    date_range = [{\"from\": date.strftime(\"%Y-%m-%d\"), \"to\": (date + pd.DateOffset(months=1)).strftime(\"%Y-%m-%d\")} for date in date_range]\n",
    "\n",
    "    # Delete last date because it is the first day of the next month\n",
    "    date_range = date_range[:-1]\n",
    "    return date_range\n",
    "initial_date = \"2021-01-01\"\n",
    "end_date = \"2023-07-01\"\n",
    "new_periods = create_date_range(initial_date, end_date)\n",
    "N_offers = 51000"
   ]
  },
  {
   "cell_type": "markdown",
   "metadata": {},
   "source": [
    "# Offers count"
   ]
  },
  {
   "cell_type": "code",
   "execution_count": 37,
   "metadata": {},
   "outputs": [
    {
     "name": "stdout",
     "output_type": "stream",
     "text": [
      "Period: 2023-10-01 - 2023-10-02\n",
      "Count: 240\n"
     ]
    },
    {
     "name": "stderr",
     "output_type": "stream",
     "text": [
      "Downloading offers: 100%|██████████| 3/3 [00:03<00:00,  1.16s/it]\n"
     ]
    },
    {
     "name": "stdout",
     "output_type": "stream",
     "text": [
      "Period: 2023-11-01 - 2023-11-08\n",
      "Count: 921\n"
     ]
    },
    {
     "name": "stderr",
     "output_type": "stream",
     "text": [
      "Downloading offers: 100%|██████████| 10/10 [00:11<00:00,  1.15s/it]\n"
     ]
    }
   ],
   "source": [
    "count_url = base_url + \"count\"\n",
    "offers_url = base_url + \"offers\"\n",
    "\n",
    "def create_payload(token, site, location, initial_date, end_date, size=100, offset=0):\n",
    "    if site == None:\n",
    "        payload = {'size': size, 'offset':offset, 'token': token, \"period\" : \"custom\", \"customDateFrom\": initial_date, \"customDateTo\": end_date, \"location\":location }\n",
    "    else:\n",
    "        payload = {'site': site, 'size': size, 'offset':offset, 'token': token, \"period\" : \"custom\", \"customDateFrom\": initial_date, \"customDateTo\": end_date, \"location\":location }\n",
    "    return json.dumps(payload)\n",
    "\n",
    "def get_offers(token, site, location, initial_date, end_date, size, offset):\n",
    "    headers = {'Content-Type': 'application/json'}\n",
    "    json_payload = create_payload(token, site, location, initial_date, end_date, size=size, offset=offset)\n",
    "    try:\n",
    "        r = requests.post(offers_url, data=json_payload, headers=headers, timeout=10)\n",
    "        if r.status_code == 200:\n",
    "            data = r.json()\n",
    "            # print(data)\n",
    "            return data['offers']\n",
    "        else:\n",
    "            print(f\"Request failed with status code {r.status_code}\")\n",
    "            return None\n",
    "    except:\n",
    "        return None\n",
    "\n",
    "def get_count(token, site, location, initial_date, end_date):\n",
    "    headers = {'Content-Type': 'application/json'}\n",
    "    json_payload = create_payload(token, site, location, initial_date, end_date)\n",
    "    try:\n",
    "        r = requests.post(count_url, data=json_payload, headers=headers, timeout=10)\n",
    "        if r.status_code == 200:\n",
    "            data = r.json()\n",
    "            return data['offers']['market']\n",
    "        else:\n",
    "            print(f\"Request failed with status code {r.status_code}\")\n",
    "            return None\n",
    "    except:\n",
    "        return None\n",
    "\n",
    "def get_offers_by_period(token, site, location, initial_date, end_date, max_offers=1000):\n",
    "    print(f\"Period: {initial_date} - {end_date}\")\n",
    "    count = get_count(token, site, location, initial_date, end_date)\n",
    "    print(f\"Count: {count}\")\n",
    "    offers = []\n",
    "    for offset in range(0, count, 100):\n",
    "        print(f\"Actual offers: {len(offers)}\")\n",
    "        size = 100\n",
    "        response = get_offers(token, site, location, initial_date, end_date, size, offset)\n",
    "        if response is not None:\n",
    "            offers.extend(response)\n",
    "        else:\n",
    "            print(\"Error en la petición\", offset, size, initial_date, end_date)\n",
    "        if len(offers) >= max_offers:\n",
    "            break\n",
    "    return offers\n",
    "    \n",
    "def get_offers_by_period_list(token, site, location, periods, max_offers=1000):\n",
    "    offers = []\n",
    "    for period in periods:\n",
    "        initial_date = period['from']\n",
    "        end_date = period['to']\n",
    "        print(f\"Period: {initial_date} - {end_date}\")\n",
    "        count = get_count(token, site, location, initial_date, end_date)\n",
    "        print(f\"Count: {count}\")\n",
    "        # Wrap the loop with tqdm to create a progress bar\n",
    "        for offset in tqdm(range(0, count, 100), desc=\"Downloading offers\"):\n",
    "            response = get_offers(token, site, location, initial_date, end_date, size=100, offset=offset)\n",
    "            if response is not None:\n",
    "                offers.extend(response)\n",
    "            else:\n",
    "                print(\"Error en la petición\", offset, 100, initial_date, end_date)\n",
    "            if len(offers) >= max_offers:\n",
    "                break  # Exit the loop if you reach the maximum number of offers\n",
    "    return offers\n",
    "\n",
    "N_offers = 2000000\n",
    "# site = 1963\n",
    "# location = \"ES|53|GC^ES|53|TF\"\n",
    "# ! ES|53|GC|Las Palmas de Gran Canaria^ES|53|TF|Santa Cruz de Tenerife /= ES|53|GC^ES|53|TF\n",
    "# location = \"ES\"\n",
    "# initial_date = '2023-01-01'\n",
    "# end_date = '2023-01-10'\n",
    "# offers_news = get_offers_by_period(token, site, location, initial_date, end_date, max_offers=N_offers)\n",
    "site = None\n",
    "location = \"ES|53|GC\"\n",
    "initial_date = '2023-10-01'\n",
    "end_date = '2023-11-08'\n",
    "def create_date_range(initial_date, end_date):\n",
    "    # Go month by month\n",
    "    initial_date = pd.to_datetime(initial_date)\n",
    "    end_date = pd.to_datetime(end_date)\n",
    "    date_range = pd.date_range(initial_date, end_date, freq=\"MS\")\n",
    "    # Create a list of dicts with the dates\n",
    "    date_range = [{\"from\": date.strftime(\"%Y-%m-%d\"), \"to\": (date + pd.DateOffset(days=1)).strftime(\"%Y-%m-%d\")} for date in date_range]\n",
    "    # Adjust the last \"to\" date to the actual end date\n",
    "    date_range[-1][\"to\"] = end_date.strftime(\"%Y-%m-%d\")\n",
    "    return date_range\n",
    "new_periods = create_date_range(initial_date, end_date)\n",
    "offers_news = get_offers_by_period_list(token, site, location, new_periods, max_offers=N_offers)\n",
    "# Save the offers in a JSON file\n",
    "with open(\"./data/ofertas_gran-canaria-1oct_8nov.json\", \"w\") as f:\n",
    "    json.dump(offers_news, f)"
   ]
  },
  {
   "cell_type": "code",
   "execution_count": 38,
   "metadata": {},
   "outputs": [],
   "source": [
    "import json\n",
    "\n",
    "def format_offer(offer):\n",
    "    # offer['id_oferta'] = get_id_oferta(offer['postings'])\n",
    "    offer['asunto'] = get_asunto_oferta(offer['postings'])\n",
    "    return offer\n",
    "\n",
    "def get_asunto_oferta(postings):\n",
    "    for post in postings:\n",
    "        return post['titleOriginal']\n",
    "\n",
    "def get_id_oferta(postings):\n",
    "    ids_oferta = []\n",
    "    for post in postings:\n",
    "        url = post['url']\n",
    "        # Identify if the url contains \"www.infojobs.net\"\n",
    "        if \"www.infojobs.net\" in url:\n",
    "            # Get the string after \"/of-i\"\n",
    "            id = url.split(\"/of-i\")[1]\n",
    "            ids_oferta.append(id)\n",
    "    return ids_oferta\n",
    "\n",
    "def format_all_offers(offers):\n",
    "    formated_offers = []\n",
    "    for offer in offers:\n",
    "        formated_offers.append(format_offer(offer))\n",
    "    return formated_offers\n",
    "\n",
    "formated_offers = format_all_offers(offers_news)"
   ]
  },
  {
   "cell_type": "code",
   "execution_count": 39,
   "metadata": {},
   "outputs": [
    {
     "name": "stdout",
     "output_type": "stream",
     "text": [
      "(1161, 9)\n",
      "Index(['numberOfVacancies', 'description', 'postings', 'company', 'location',\n",
      "       'category', 'jobType', 'title', 'asunto'],\n",
      "      dtype='object')\n"
     ]
    }
   ],
   "source": [
    "# Cast from list of dicts to df\n",
    "df_offers = pd.DataFrame(formated_offers)\n",
    "# Show shape\n",
    "print(df_offers.shape)\n",
    "# Show columns\n",
    "print(df_offers.columns)"
   ]
  },
  {
   "cell_type": "code",
   "execution_count": null,
   "metadata": {},
   "outputs": [],
   "source": [
    "# Get only the company, the title and the description\n",
    "df_offers = df_offers[['company', 'asunto', 'description']]\n",
    "# Rename from company to Nombre_empresa\n",
    "df_offers = df_offers.rename(columns={'company': 'Nombre_empresa'})\n",
    "# Rename from description to Descripcion\n",
    "df_offers = df_offers.rename(columns={'description': 'Descripcion'})\n",
    "# Save to xls\n",
    "df_offers.to_excel(\"./data/ofertas_gran-canaria-1oct_8nov.xlsx\", index=False)"
   ]
  }
 ],
 "metadata": {
  "kernelspec": {
   "display_name": ".venv",
   "language": "python",
   "name": "python3"
  },
  "language_info": {
   "codemirror_mode": {
    "name": "ipython",
    "version": 3
   },
   "file_extension": ".py",
   "mimetype": "text/x-python",
   "name": "python",
   "nbconvert_exporter": "python",
   "pygments_lexer": "ipython3",
   "version": "3.9.16"
  }
 },
 "nbformat": 4,
 "nbformat_minor": 2
}
