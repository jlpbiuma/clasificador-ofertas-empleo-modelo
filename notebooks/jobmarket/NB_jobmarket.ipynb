{
 "cells": [
  {
   "cell_type": "markdown",
   "metadata": {},
   "source": [
    "# Import libraries"
   ]
  },
  {
   "cell_type": "code",
   "execution_count": 1,
   "metadata": {},
   "outputs": [],
   "source": [
    "import pandas as pd\n",
    "import requests\n",
    "import json\n",
    "from unidecode import unidecode\n",
    "import matplotlib.pyplot as plt\n",
    "import re"
   ]
  },
  {
   "cell_type": "markdown",
   "metadata": {},
   "source": [
    "# Fetch the offers to jobmarket"
   ]
  },
  {
   "cell_type": "code",
   "execution_count": 2,
   "metadata": {},
   "outputs": [],
   "source": [
    "# Request data from API\n",
    "user = \"hacomar@fulp.es\"\n",
    "clave = \"Atenas.2023\"\n",
    "base_url = \"https://www.jobmarketinsights.com/jmi-api/\"\n",
    "login_url = base_url + \"token\"\n",
    "N_offers = 10000"
   ]
  },
  {
   "cell_type": "markdown",
   "metadata": {},
   "source": [
    "# Log into API"
   ]
  },
  {
   "cell_type": "code",
   "execution_count": 3,
   "metadata": {},
   "outputs": [
    {
     "name": "stdout",
     "output_type": "stream",
     "text": [
      "VGWL3WQ4JB4HGZD7RE6KFXLMPVW7L35KXLIEAF427JMRAQK2S76Q\n"
     ]
    }
   ],
   "source": [
    "def login():\n",
    "    # Define the headers to set the Content-Type\n",
    "    headers = {'Content-Type': 'application/json'}\n",
    "    # Create a dictionary containing the data to send as JSON\n",
    "    payload = {'email': user, 'password': clave}\n",
    "    # Convert the payload to JSON format\n",
    "    json_payload = json.dumps(payload)\n",
    "    # Send the POST request with the specified headers and JSON data\n",
    "    r = requests.post(login_url, data=json_payload, headers=headers)\n",
    "    # Check if the request was successful (status code 200)\n",
    "    if r.status_code == 200:\n",
    "        # Parse the JSON response\n",
    "        data = r.json()\n",
    "        token = data[\"auth\"][\"token\"]\n",
    "        return token\n",
    "    else:\n",
    "        print(f\"Request failed with status code {r.status_code}\")\n",
    "        return None\n",
    "token = login()\n",
    "print(token)"
   ]
  },
  {
   "cell_type": "markdown",
   "metadata": {},
   "source": [
    "# Scope"
   ]
  },
  {
   "cell_type": "code",
   "execution_count": 4,
   "metadata": {},
   "outputs": [
    {
     "name": "stdout",
     "output_type": "stream",
     "text": [
      "792\n"
     ]
    }
   ],
   "source": [
    "scope_url = base_url + \"scopes\"\n",
    "def get_scope(token):\n",
    "    payload = {'token': token}\n",
    "    headers = {'Content-Type': 'application/json'}\n",
    "    json_payload = json.dumps(payload)\n",
    "    r = requests.post(scope_url, data=json_payload, headers=headers)\n",
    "    if r.status_code == 200:\n",
    "        data = r.json()\n",
    "        return data\n",
    "    else:\n",
    "        print(f\"Request failed with status code {r.status_code}\")\n",
    "        return None\n",
    "response = get_scope(token)\n",
    "scopes = response[\"scopes\"][0][\"key\"]\n",
    "print(scopes)"
   ]
  },
  {
   "cell_type": "markdown",
   "metadata": {},
   "source": [
    "# Periods"
   ]
  },
  {
   "cell_type": "code",
   "execution_count": 5,
   "metadata": {},
   "outputs": [
    {
     "name": "stdout",
     "output_type": "stream",
     "text": [
      "[{'from': '2023-10-12', 'label': 'Últimos días', 'to': '2023-10-16', 'key': 'ld'}, {'from': '2023-09-01', 'label': 'sep 2023', 'to': '2023-10-01', 'key': '2023-09'}, {'from': '2023-08-01', 'label': 'ago 2023', 'to': '2023-09-01', 'key': '2023-08'}, {'from': '2023-07-01', 'label': 'jul 2023', 'to': '2023-08-01', 'key': '2023-07'}, {'from': '2023-06-01', 'label': 'jun 2023', 'to': '2023-07-01', 'key': '2023-06'}, {'from': '2023-05-01', 'label': 'may 2023', 'to': '2023-06-01', 'key': '2023-05'}, {'from': '2023-04-01', 'label': 'abr 2023', 'to': '2023-05-01', 'key': '2023-04'}, {'from': '2023-03-01', 'label': 'mar 2023', 'to': '2023-04-01', 'key': '2023-03'}, {'from': '2023-02-01', 'label': 'feb 2023', 'to': '2023-03-01', 'key': '2023-02'}, {'from': '2023-01-01', 'label': 'ene 2023', 'to': '2023-02-01', 'key': '2023-01'}, {'from': '2022-12-01', 'label': 'dic 2022', 'to': '2023-01-01', 'key': '2022-12'}, {'from': '2022-11-01', 'label': 'nov 2022', 'to': '2022-12-01', 'key': '2022-11'}, {'from': '2022-10-01', 'label': 'oct 2022', 'to': '2022-11-01', 'key': '2022-10'}, {'from': '2022-09-01', 'label': 'sep 2022', 'to': '2022-10-01', 'key': '2022-09'}, {'from': '2022-08-01', 'label': 'ago 2022', 'to': '2022-09-01', 'key': '2022-08'}, {'from': '2022-07-01', 'label': 'jul 2022', 'to': '2022-08-01', 'key': '2022-07'}, {'from': '2022-06-01', 'label': 'jun 2022', 'to': '2022-07-01', 'key': '2022-06'}, {'from': '2022-05-01', 'label': 'may 2022', 'to': '2022-06-01', 'key': '2022-05'}, {'from': '2022-04-01', 'label': 'abr 2022', 'to': '2022-05-01', 'key': '2022-04'}, {'from': '2022-03-01', 'label': 'mar 2022', 'to': '2022-04-01', 'key': '2022-03'}, {'from': '2022-02-01', 'label': 'feb 2022', 'to': '2022-03-01', 'key': '2022-02'}, {'from': '2022-01-01', 'label': 'ene 2022', 'to': '2022-02-01', 'key': '2022-01'}, {'from': '2021-12-01', 'label': 'dic 2021', 'to': '2022-01-01', 'key': '2021-12'}, {'from': '2021-11-01', 'label': 'nov 2021', 'to': '2021-12-01', 'key': '2021-11'}, {'from': '2021-10-01', 'label': 'oct 2021', 'to': '2021-11-01', 'key': '2021-10'}, {'from': '2021-09-01', 'label': 'sep 2021', 'to': '2021-10-01', 'key': '2021-09'}, {'from': '2021-08-01', 'label': 'ago 2021', 'to': '2021-09-01', 'key': '2021-08'}, {'from': '2021-07-01', 'label': 'jul 2021', 'to': '2021-08-01', 'key': '2021-07'}, {'from': '2021-06-01', 'label': 'jun 2021', 'to': '2021-07-01', 'key': '2021-06'}, {'from': '2021-05-01', 'label': 'may 2021', 'to': '2021-06-01', 'key': '2021-05'}, {'from': '2021-04-01', 'label': 'abr 2021', 'to': '2021-05-01', 'key': '2021-04'}, {'from': '2021-03-01', 'label': 'mar 2021', 'to': '2021-04-01', 'key': '2021-03'}, {'from': '2021-02-01', 'label': 'feb 2021', 'to': '2021-03-01', 'key': '2021-02'}, {'from': '2021-01-01', 'label': 'ene 2021', 'to': '2021-02-01', 'key': '2021-01'}, {'from': '2023-10-09', 'label': 'Última semana', 'to': '2023-10-16', 'key': '-1W'}, {'from': '2023-10-02', 'label': 'Últimas 2 semanas', 'to': '2023-10-16', 'key': '-2W'}, {'from': '2023-09-25', 'label': 'Últimas 3 semanas', 'to': '2023-10-16', 'key': '-3W'}, {'from': '2023-10-02', 'label': 'Hace 2 semanas', 'to': '2023-10-09', 'key': '-2w'}, {'from': '2023-09-25', 'label': 'Hace 3 semanas', 'to': '2023-10-02', 'key': '-3w'}, {'from': '2023-09-18', 'label': 'Hace 4 semanas', 'to': '2023-09-25', 'key': '-4w'}, {'from': '2023-09-01', 'label': 'Último mes', 'to': '2023-10-01', 'key': '-1'}, {'from': '2023-08-01', 'label': 'Últimos 2 meses', 'to': '2023-10-01', 'key': '-2'}, {'from': '2023-07-01', 'label': 'Últimos 3 meses', 'to': '2023-10-01', 'key': '-3'}, {'from': '2023-04-01', 'label': 'Últimos 6 meses', 'to': '2023-10-01', 'key': '-6'}, {'from': '2022-10-01', 'label': 'Últimos 12 meses', 'to': '2023-10-01', 'key': '-12'}, {'from': '2023-07-01', 'label': 'Q3 2023', 'to': '2023-10-01', 'key': 'Q3.2023'}, {'from': '2023-04-01', 'label': 'Q2 2023', 'to': '2023-07-01', 'key': 'Q2.2023'}, {'from': '2023-01-01', 'label': 'Q1 2023', 'to': '2023-04-01', 'key': 'Q1.2023'}, {'from': '2022-10-01', 'label': 'Q4 2022', 'to': '2023-01-01', 'key': 'Q4.2022'}, {'from': '2023-01-01', 'label': '', 'to': '2023-07-01', 'key': 'S1.2023'}, {'from': '2022-07-01', 'label': '', 'to': '2023-01-01', 'key': 'S2.2022'}, {'from': '2023-01-01', 'label': '2023', 'to': '2024-01-01', 'key': '2023'}, {'from': '2022-01-01', 'label': '2022', 'to': '2023-01-01', 'key': '2022'}, {'from': '2021-01-01', 'label': '2021', 'to': '2022-01-01', 'key': '2021'}]\n"
     ]
    }
   ],
   "source": [
    "# Ask for list with able periods\n",
    "periods_url = base_url + \"periods\"\n",
    "def get_periods(token):\n",
    "    payload = {'token': token}\n",
    "    headers = {'Content-Type': 'application/json'}\n",
    "    json_payload = json.dumps(payload)\n",
    "    r = requests.post(periods_url, data=json_payload, headers=headers)\n",
    "    if r.status_code == 200:\n",
    "        data = r.json()\n",
    "        return data['periods']\n",
    "    else:\n",
    "        print(f\"Request failed with status code {r.status_code}\")\n",
    "        return None\n",
    "# Returns an array of dicts with 4 keys: from, label, to, key\n",
    "periods = get_periods(token)\n",
    "print(periods)\n",
    "# For example, we will use the first period\n",
    "period = periods[10]\n",
    "initial_date = period['from']\n",
    "end_date = period['to']"
   ]
  },
  {
   "cell_type": "markdown",
   "metadata": {},
   "source": [
    "# Missing advertisers"
   ]
  },
  {
   "cell_type": "code",
   "execution_count": 6,
   "metadata": {},
   "outputs": [],
   "source": [
    "missing_adverts_url = base_url + \"missingAdvertisers\"\n",
    "\n",
    "def create_payload(token, initial_date, end_date, size=100, offset=0):\n",
    "    payload = {'strictPeriod': True, 'location': 'ES', 'token': token,\"period\" : \"custom\", \"customDateFrom\": initial_date, \"customDateTo\": end_date, \"offset\": offset}\n",
    "    headers = {'Content-Type': 'application/json'}\n",
    "    json_payload = json.dumps(payload)\n",
    "    return json_payload, headers\n",
    "\n",
    "def get_missing_adverts(token, scope, initial_date, end_date, size=100, offset=0):\n",
    "    payload, headers = create_payload(token, scope, initial_date, end_date, size, offset)\n",
    "    json_payload = json.dumps(payload)\n",
    "    r = requests.post(missing_adverts_url, data=json_payload, headers=headers)\n",
    "    if r.status_code == 200:\n",
    "        data = r.json()\n",
    "        return data\n",
    "    else:\n",
    "        print(f\"Request failed with status code {r.status_code}\")\n",
    "        return None\n",
    "# print(get_missing_adverts(token, scopes, initial_date, end_date))"
   ]
  },
  {
   "cell_type": "markdown",
   "metadata": {},
   "source": [
    "# Sites"
   ]
  },
  {
   "cell_type": "code",
   "execution_count": 7,
   "metadata": {},
   "outputs": [
    {
     "name": "stdout",
     "output_type": "stream",
     "text": [
      "{'total': {'offers': 263256, 'companies': 50982}, 'auth': {'token': 'VGWL3WQ4JB4HGZD7RE6KFXLMPVW7L35KXLIEAF427JMRAQK2S76Q'}, 'sites': [{'offers': 80875, 'companies': 17122, 'label': 'infojobs.net', 'key': '1963'}, {'offers': 40338, 'companies': 3875, 'label': 'es.talent.com', 'key': '4142'}, {'offers': 39185, 'companies': 13518, 'label': 'linkedin.com', 'key': '3455'}, {'offers': 37980, 'companies': 7484, 'label': 'indeed', 'key': '3427'}, {'offers': 20727, 'companies': 9269, 'label': 'jobtoday.com', 'key': '4023'}, {'offers': 14223, 'companies': 5505, 'label': 'glassdoor.com', 'key': '3933'}, {'offers': 11233, 'companies': 1030, 'label': 'empleate.gob.es', 'key': '4058'}, {'offers': 11148, 'companies': 472, 'label': 'iberempleos.es', 'key': '4254'}, {'offers': 10986, 'companies': 380, 'label': 'epreselec.com', 'key': '4186'}, {'offers': 5909, 'companies': 1191, 'label': 'monster.es', 'key': '3464'}, {'offers': 5175, 'companies': 353, 'label': 'infoempleo.com', 'key': '3451'}, {'offers': 4107, 'companies': 1, 'label': 'randstad.es', 'key': '3790'}, {'offers': 2956, 'companies': 1, 'label': 'adecco.es', 'key': '3791'}, {'offers': 2935, 'companies': 105, 'label': 'ats.bizneo.com', 'key': '4175'}, {'offers': 2588, 'companies': 1647, 'label': 'buscadordetrabajo.es', 'key': '3812'}, {'offers': 2531, 'companies': 493, 'label': 'trabajos.com', 'key': '3513'}, {'offers': 2448, 'companies': 839, 'label': 'feinaactiva.gencat.cat', 'key': '4703'}, {'offers': 2287, 'companies': 333, 'label': 'google.es', 'key': '996'}, {'offers': 2157, 'companies': 97, 'label': 'yobalia.com', 'key': '4210'}, {'offers': 2034, 'companies': 1, 'label': 'eurofirms.es', 'key': '4345'}, {'offers': 1756, 'companies': 373, 'label': 'juntadeandalucia.es', 'key': '4547'}, {'offers': 1555, 'companies': 102, 'label': 'cornerjob.com', 'key': '3466'}, {'offers': 1525, 'companies': 257, 'label': 'classificats.net', 'key': '4150'}, {'offers': 1500, 'companies': 120, 'label': 'tecnoempleo.com', 'key': '301'}, {'offers': 1307, 'companies': 1, 'label': 'pagepersonnel.es', 'key': '4352'}, {'offers': 1211, 'companies': 217, 'label': 'es.fashionjobs.com', 'key': '4133'}, {'offers': 1204, 'companies': 0, 'label': 'xaloc.diba.cat', 'key': '4621'}, {'offers': 1185, 'companies': 205, 'label': 'infofeina.com', 'key': '4126'}, {'offers': 996, 'companies': 359, 'label': 'turijobs.com', 'key': '3440'}, {'offers': 986, 'companies': 277, 'label': 'insertia.net', 'key': '4139'}, {'offers': 915, 'companies': 0, 'label': 'emprego.xunta.gal', 'key': '4548'}, {'offers': 913, 'companies': 311, 'label': 'hacesfalta.org', 'key': '4107'}, {'offers': 798, 'companies': 1, 'label': 'flexiplan.eulen.com', 'key': '4342'}, {'offers': 782, 'companies': 2, 'label': 'grupo-crit.com', 'key': '4348'}, {'offers': 774, 'companies': 315, 'label': 'jobs.universia.net', 'key': '4570'}, {'offers': 710, 'companies': 404, 'label': 'indeed-sponsored', 'key': '4751'}, {'offers': 698, 'companies': 1, 'label': 'michaelpage.es', 'key': '4351'}, {'offers': 696, 'companies': 1, 'label': 'imancorp.es', 'key': '4346'}, {'offers': 498, 'companies': 1, 'label': 'synergie.es', 'key': '4344'}, {'offers': 468, 'companies': 1, 'label': 'es.gigroup.com', 'key': '4343'}, {'offers': 464, 'companies': 44, 'label': 'successfactors.com', 'key': '4140'}, {'offers': 457, 'companies': 37, 'label': 'ticjob.es', 'key': '3514'}, {'offers': 448, 'companies': 1, 'label': 'hays.es', 'key': '4625'}, {'offers': 419, 'companies': 305, 'label': 'domestika.org', 'key': '3727'}, {'offers': 412, 'companies': 239, 'label': 'primerempleo.com', 'key': '3899'}, {'offers': 381, 'companies': 1, 'label': 'manpower.es', 'key': '4622'}, {'offers': 375, 'companies': 108, 'label': 'jobandtalent.com', 'key': '3537'}, {'offers': 372, 'companies': 1, 'label': 'construyendoempleo.com', 'key': '4509'}, {'offers': 372, 'companies': 94, 'label': 'unmejorempleo.com', 'key': '4560'}, {'offers': 365, 'companies': 3, 'label': 'navarra.es', 'key': '4650'}, {'offers': 320, 'companies': 198, 'label': 'InfoResidencias.com', 'key': '4597'}, {'offers': 314, 'companies': 170, 'label': 'trabajosdiarios.com', 'key': '4690'}, {'offers': 301, 'companies': 1, 'label': 'empleo.nortempo.com', 'key': '4349'}, {'offers': 230, 'companies': 95, 'label': 'pmfarma.es', 'key': '4155'}, {'offers': 214, 'companies': 1, 'label': 'eulen.com', 'key': '4624'}, {'offers': 195, 'companies': 80, 'label': 'hosteleo.com', 'key': '3817'}, {'offers': 193, 'companies': 6, 'label': 'bolsaempleo.alcobendas.org', 'key': '4371'}, {'offers': 182, 'companies': 1, 'label': 'jobs.telefonica.com', 'key': '4774'}, {'offers': 159, 'companies': 7, 'label': 'talentforjobs.com', 'key': '4152'}, {'offers': 156, 'companies': 47, 'label': 'hosco.com', 'key': '4162'}, {'offers': 144, 'companies': 45, 'label': 'jobfluent.com', 'key': '4066'}, {'offers': 141, 'companies': 19, 'label': 'europelanguagejobs.com', 'key': '3813'}, {'offers': 136, 'companies': 32, 'label': 'fashionunited.es', 'key': '4103'}, {'offers': 136, 'companies': 1, 'label': 'ananda.es', 'key': '4626'}, {'offers': 120, 'companies': 18, 'label': 'itjobs.es', 'key': '4207'}, {'offers': 104, 'companies': 1, 'label': 'nttdata.com', 'key': '4744'}, {'offers': 102, 'companies': 32, 'label': 'colejobs.es', 'key': '4561'}, {'offers': 83, 'companies': 3, 'label': 'proempleoingenieros.es', 'key': '4354'}, {'offers': 82, 'companies': 49, 'label': 'gastroempleo.com', 'key': '4569'}, {'offers': 77, 'companies': 10, 'label': 'gamesjobsdirect.com', 'key': '4677'}, {'offers': 63, 'companies': 1, 'label': 'catenon.com', 'key': '4613'}, {'offers': 60, 'companies': 47, 'label': 'getmanfred.com', 'key': '4623'}, {'offers': 50, 'companies': 11, 'label': 'manatal.com', 'key': '4697'}, {'offers': 47, 'companies': 30, 'label': 'teujob.es', 'key': '4689'}, {'offers': 46, 'companies': 1, 'label': 'marlex.net', 'key': '4627'}, {'offers': 28, 'companies': 7, 'label': 'JobisJob', 'key': '206'}, {'offers': 23, 'companies': 0, 'label': 'santfeliu.cat', 'key': '4372'}, {'offers': 23, 'companies': 1, 'label': 'talenthackers.net', 'key': '4478'}, {'offers': 18, 'companies': 5, 'label': 'gohire.io', 'key': '4540'}, {'offers': 15, 'companies': 6, 'label': 'farmacias.jobs', 'key': '4106'}, {'offers': 6, 'companies': 1, 'label': 'apple.com', 'key': '3535'}, {'offers': 5, 'companies': 4, 'label': 'empleate.com', 'key': '3821'}], 'echo': {'api-version': '1.0', 'period': {'from': '2023-09-01', 'label': 'Último mes', 'to': '2023-10-01', 'key': '-1'}, 'scope': 792}}\n"
     ]
    }
   ],
   "source": [
    "sites_url = base_url + \"sites\"\n",
    "def get_sites(token):\n",
    "    payload = {'token': token}\n",
    "    headers = {'Content-Type': 'application/json'}\n",
    "    json_payload = json.dumps(payload)\n",
    "    r = requests.post(sites_url, data=json_payload, headers=headers)\n",
    "    if r.status_code == 200:\n",
    "        data = r.json()\n",
    "        return data\n",
    "    else:\n",
    "        print(f\"Request failed with status code {r.status_code}\")\n",
    "        return None\n",
    "response = get_sites(token)\n",
    "print(response)"
   ]
  },
  {
   "cell_type": "markdown",
   "metadata": {},
   "source": [
    "# Offers"
   ]
  },
  {
   "cell_type": "code",
   "execution_count": 8,
   "metadata": {},
   "outputs": [
    {
     "name": "stdout",
     "output_type": "stream",
     "text": [
      "{\"strictPeriod\": true, \"location\": \"ES\", \"token\": \"VGWL3WQ4JB4HGZD7RE6KFXLMPVW7L35KXLIEAF427JMRAQK2S76Q\", \"period\": \"custom\", \"customDateFrom\": \"2023-10-09\", \"customDateTo\": \"2023-10-12\", \"offset\": 1, \"site\": \"1963\"}\n",
      "{'description': '¡Hola!¡Queremos conocerte!\\n\\n¿Te apasiona el mundo del comercio? ¿Te preocupas por los detalles? ¿Te consideras una persona dinámica? ¡Te estábamos esperando! \\n\\nCarrefour es una empresa líder en comercio de alimentación y distribución y queremos que inicies una carrera profesional llena de posibilidades con nuestros mejores profesionales. \\n\\nPretendemos que todos los días sean un aprendizaje, que crezcas y llegues tan lejos como quieras. Te ofrecemos formación a cargo de la empresa y la posibilidad de promocionar internamente para seguir creciendo con nosotros.\\n\\n¿Qué buscamos? \\n\\nCarrefour lo formamos un equipo de personas orientadas al Cliente, siempre con ganas de aprender e innovar en cuanto a la experiencia de compra en nuestras tiendas.\\n\\nPara lograr este objetivo buscamos un/a AUXILIAR DE MANTENIMIENTO \\n\\nBuscamos personas con formación técnica y experiencia en Gestión de Mantenimiento. Con adaptación a entornos dinámicos, en continua mejora de procesos y disponibilidad horaria.\\n\\nFormarás parte del equipo de Mantenimiento, asegurando el correcto funcionamiento y mantenimiento de los activos e instalaciones de tu tienda. Minimizando sus costes y optimizando la vida útil y rendimiento, con el fin de asegurar el servicio al cliente, la prevención de riesgos a los trabajadores y la imagen de la Compañía.\\n\\nFunciones: \\n\\n- Llevar a cabo todas las tareas de mantenimiento que se ejecutan en la tienda. \\n- Realizar el mantenimiento correctivo.\\n- Realizar el mantenimiento preventivo a través de trabajos periódicos en las instalaciones o en las máquinas.\\n- Realizar el mantenimiento predictivo, el cual va ligado a las rondas de mantenimiento, en el que realizarás un examen visual de todas las instalaciones.\\n\\nTe ofrecemos la oportunidad de incorporarte a una empresa líder del sector, haciendo de tu pasión por el comercio tu forma de vida.\\n\\nValoraremos todas las candidaturas interesadas y si eres la persona seleccionada para avanzar en el proceso, nos pondremos en contacto contigo para darte más detalles del puesto y conocer tu perfil.\\n\\n¡Muchas gracias!\\n-Título de FPI o grado medio en electricidad o frío industrial\\n-Experiencia de al menos un año demostrable en puestos de mantenimiento\\n-Conocimiento de instalaciones eléctricas, climatización, frío y PCI\\n-Capacidad para gestionar el consumo energético en tienda\\n-Conocimientos para la ejecución de trabajos de soldadura, carpintería, fontanería y pintura\\n-Capacidad para el trabajo en equipo\\n-Incorporación inmediata', 'postings': [{'date': '2023-10-11', 'salaryOriginal': 'Salario no disponible', 'site': {'label': 'infojobs.net', 'key': '1963'}, 'id': 4045944342, 'titleOriginal': 'Auxiliar de Mantenimiento - Hipermercado', 'url': 'https://www.infojobs.net/cullera/auxiliar-mantenimiento-hipermercado/of-i716aaf426c4416bdbcfa5c8cbf08c2'}], 'company': 'Centros Comerciales Carrefour', 'location': {'label': 'Cullera', 'key': 'ES|60|V|Cullera'}, 'category': {'label': 'Construcción - Inmobiliaria', 'key': 'CO'}, 'jobType': 'Indefinido', 'title': 'Auxiliar de mantenimiento'}\n"
     ]
    }
   ],
   "source": [
    "offers_url = base_url + \"offers\"\n",
    "def get_offers(token, initial_date, end_date, size=100, offset=0, site=None):\n",
    "    json_payload, headers = create_payload(token, initial_date, end_date, size, offset)\n",
    "    # Add the site to the payload\n",
    "    site = {\"site\" : \"1963\"}\n",
    "    payload = json.loads(json_payload)\n",
    "    payload.update(site)\n",
    "    json_payload = json.dumps(payload)\n",
    "    r = requests.post(offers_url, data=json_payload, headers=headers)\n",
    "    if r.status_code == 200:\n",
    "        data = r.json()\n",
    "        return data['offers']\n",
    "    else:\n",
    "        print(f\"Request failed with status code {r.status_code}\")\n",
    "        return None\n",
    "initial_date = '2023-10-09'\n",
    "end_date = '2023-10-12'\n",
    "response = get_offers(token, initial_date, end_date, size=1, offset=1)\n",
    "print(response[0])\n"
   ]
  },
  {
   "cell_type": "markdown",
   "metadata": {},
   "source": [
    "# Offers count"
   ]
  },
  {
   "cell_type": "code",
   "execution_count": 9,
   "metadata": {},
   "outputs": [
    {
     "name": "stdout",
     "output_type": "stream",
     "text": [
      "Period: 2023-10-12 - 2023-10-16\n",
      "Count: 3610\n",
      "{\"strictPeriod\": true, \"location\": \"ES\", \"token\": \"VGWL3WQ4JB4HGZD7RE6KFXLMPVW7L35KXLIEAF427JMRAQK2S76Q\", \"period\": \"custom\", \"customDateFrom\": \"2023-10-12\", \"customDateTo\": \"2023-10-16\", \"offset\": 0, \"site\": \"1963\"}\n",
      "{\"strictPeriod\": true, \"location\": \"ES\", \"token\": \"VGWL3WQ4JB4HGZD7RE6KFXLMPVW7L35KXLIEAF427JMRAQK2S76Q\", \"period\": \"custom\", \"customDateFrom\": \"2023-10-12\", \"customDateTo\": \"2023-10-16\", \"offset\": 100, \"site\": \"1963\"}\n",
      "{\"strictPeriod\": true, \"location\": \"ES\", \"token\": \"VGWL3WQ4JB4HGZD7RE6KFXLMPVW7L35KXLIEAF427JMRAQK2S76Q\", \"period\": \"custom\", \"customDateFrom\": \"2023-10-12\", \"customDateTo\": \"2023-10-16\", \"offset\": 200, \"site\": \"1963\"}\n",
      "{\"strictPeriod\": true, \"location\": \"ES\", \"token\": \"VGWL3WQ4JB4HGZD7RE6KFXLMPVW7L35KXLIEAF427JMRAQK2S76Q\", \"period\": \"custom\", \"customDateFrom\": \"2023-10-12\", \"customDateTo\": \"2023-10-16\", \"offset\": 300, \"site\": \"1963\"}\n",
      "{\"strictPeriod\": true, \"location\": \"ES\", \"token\": \"VGWL3WQ4JB4HGZD7RE6KFXLMPVW7L35KXLIEAF427JMRAQK2S76Q\", \"period\": \"custom\", \"customDateFrom\": \"2023-10-12\", \"customDateTo\": \"2023-10-16\", \"offset\": 400, \"site\": \"1963\"}\n",
      "{\"strictPeriod\": true, \"location\": \"ES\", \"token\": \"VGWL3WQ4JB4HGZD7RE6KFXLMPVW7L35KXLIEAF427JMRAQK2S76Q\", \"period\": \"custom\", \"customDateFrom\": \"2023-10-12\", \"customDateTo\": \"2023-10-16\", \"offset\": 500, \"site\": \"1963\"}\n",
      "{\"strictPeriod\": true, \"location\": \"ES\", \"token\": \"VGWL3WQ4JB4HGZD7RE6KFXLMPVW7L35KXLIEAF427JMRAQK2S76Q\", \"period\": \"custom\", \"customDateFrom\": \"2023-10-12\", \"customDateTo\": \"2023-10-16\", \"offset\": 600, \"site\": \"1963\"}\n",
      "{\"strictPeriod\": true, \"location\": \"ES\", \"token\": \"VGWL3WQ4JB4HGZD7RE6KFXLMPVW7L35KXLIEAF427JMRAQK2S76Q\", \"period\": \"custom\", \"customDateFrom\": \"2023-10-12\", \"customDateTo\": \"2023-10-16\", \"offset\": 700, \"site\": \"1963\"}\n",
      "{\"strictPeriod\": true, \"location\": \"ES\", \"token\": \"VGWL3WQ4JB4HGZD7RE6KFXLMPVW7L35KXLIEAF427JMRAQK2S76Q\", \"period\": \"custom\", \"customDateFrom\": \"2023-10-12\", \"customDateTo\": \"2023-10-16\", \"offset\": 800, \"site\": \"1963\"}\n",
      "{\"strictPeriod\": true, \"location\": \"ES\", \"token\": \"VGWL3WQ4JB4HGZD7RE6KFXLMPVW7L35KXLIEAF427JMRAQK2S76Q\", \"period\": \"custom\", \"customDateFrom\": \"2023-10-12\", \"customDateTo\": \"2023-10-16\", \"offset\": 900, \"site\": \"1963\"}\n",
      "{\"strictPeriod\": true, \"location\": \"ES\", \"token\": \"VGWL3WQ4JB4HGZD7RE6KFXLMPVW7L35KXLIEAF427JMRAQK2S76Q\", \"period\": \"custom\", \"customDateFrom\": \"2023-10-12\", \"customDateTo\": \"2023-10-16\", \"offset\": 1000, \"site\": \"1963\"}\n",
      "{\"strictPeriod\": true, \"location\": \"ES\", \"token\": \"VGWL3WQ4JB4HGZD7RE6KFXLMPVW7L35KXLIEAF427JMRAQK2S76Q\", \"period\": \"custom\", \"customDateFrom\": \"2023-10-12\", \"customDateTo\": \"2023-10-16\", \"offset\": 1100, \"site\": \"1963\"}\n",
      "{\"strictPeriod\": true, \"location\": \"ES\", \"token\": \"VGWL3WQ4JB4HGZD7RE6KFXLMPVW7L35KXLIEAF427JMRAQK2S76Q\", \"period\": \"custom\", \"customDateFrom\": \"2023-10-12\", \"customDateTo\": \"2023-10-16\", \"offset\": 1200, \"site\": \"1963\"}\n",
      "{\"strictPeriod\": true, \"location\": \"ES\", \"token\": \"VGWL3WQ4JB4HGZD7RE6KFXLMPVW7L35KXLIEAF427JMRAQK2S76Q\", \"period\": \"custom\", \"customDateFrom\": \"2023-10-12\", \"customDateTo\": \"2023-10-16\", \"offset\": 1300, \"site\": \"1963\"}\n",
      "{\"strictPeriod\": true, \"location\": \"ES\", \"token\": \"VGWL3WQ4JB4HGZD7RE6KFXLMPVW7L35KXLIEAF427JMRAQK2S76Q\", \"period\": \"custom\", \"customDateFrom\": \"2023-10-12\", \"customDateTo\": \"2023-10-16\", \"offset\": 1400, \"site\": \"1963\"}\n",
      "{\"strictPeriod\": true, \"location\": \"ES\", \"token\": \"VGWL3WQ4JB4HGZD7RE6KFXLMPVW7L35KXLIEAF427JMRAQK2S76Q\", \"period\": \"custom\", \"customDateFrom\": \"2023-10-12\", \"customDateTo\": \"2023-10-16\", \"offset\": 1500, \"site\": \"1963\"}\n",
      "{\"strictPeriod\": true, \"location\": \"ES\", \"token\": \"VGWL3WQ4JB4HGZD7RE6KFXLMPVW7L35KXLIEAF427JMRAQK2S76Q\", \"period\": \"custom\", \"customDateFrom\": \"2023-10-12\", \"customDateTo\": \"2023-10-16\", \"offset\": 1600, \"site\": \"1963\"}\n",
      "{\"strictPeriod\": true, \"location\": \"ES\", \"token\": \"VGWL3WQ4JB4HGZD7RE6KFXLMPVW7L35KXLIEAF427JMRAQK2S76Q\", \"period\": \"custom\", \"customDateFrom\": \"2023-10-12\", \"customDateTo\": \"2023-10-16\", \"offset\": 1700, \"site\": \"1963\"}\n",
      "{\"strictPeriod\": true, \"location\": \"ES\", \"token\": \"VGWL3WQ4JB4HGZD7RE6KFXLMPVW7L35KXLIEAF427JMRAQK2S76Q\", \"period\": \"custom\", \"customDateFrom\": \"2023-10-12\", \"customDateTo\": \"2023-10-16\", \"offset\": 1800, \"site\": \"1963\"}\n",
      "{\"strictPeriod\": true, \"location\": \"ES\", \"token\": \"VGWL3WQ4JB4HGZD7RE6KFXLMPVW7L35KXLIEAF427JMRAQK2S76Q\", \"period\": \"custom\", \"customDateFrom\": \"2023-10-12\", \"customDateTo\": \"2023-10-16\", \"offset\": 1900, \"site\": \"1963\"}\n",
      "{\"strictPeriod\": true, \"location\": \"ES\", \"token\": \"VGWL3WQ4JB4HGZD7RE6KFXLMPVW7L35KXLIEAF427JMRAQK2S76Q\", \"period\": \"custom\", \"customDateFrom\": \"2023-10-12\", \"customDateTo\": \"2023-10-16\", \"offset\": 2000, \"site\": \"1963\"}\n",
      "{\"strictPeriod\": true, \"location\": \"ES\", \"token\": \"VGWL3WQ4JB4HGZD7RE6KFXLMPVW7L35KXLIEAF427JMRAQK2S76Q\", \"period\": \"custom\", \"customDateFrom\": \"2023-10-12\", \"customDateTo\": \"2023-10-16\", \"offset\": 2100, \"site\": \"1963\"}\n",
      "{\"strictPeriod\": true, \"location\": \"ES\", \"token\": \"VGWL3WQ4JB4HGZD7RE6KFXLMPVW7L35KXLIEAF427JMRAQK2S76Q\", \"period\": \"custom\", \"customDateFrom\": \"2023-10-12\", \"customDateTo\": \"2023-10-16\", \"offset\": 2200, \"site\": \"1963\"}\n",
      "{\"strictPeriod\": true, \"location\": \"ES\", \"token\": \"VGWL3WQ4JB4HGZD7RE6KFXLMPVW7L35KXLIEAF427JMRAQK2S76Q\", \"period\": \"custom\", \"customDateFrom\": \"2023-10-12\", \"customDateTo\": \"2023-10-16\", \"offset\": 2300, \"site\": \"1963\"}\n",
      "{\"strictPeriod\": true, \"location\": \"ES\", \"token\": \"VGWL3WQ4JB4HGZD7RE6KFXLMPVW7L35KXLIEAF427JMRAQK2S76Q\", \"period\": \"custom\", \"customDateFrom\": \"2023-10-12\", \"customDateTo\": \"2023-10-16\", \"offset\": 2400, \"site\": \"1963\"}\n",
      "{\"strictPeriod\": true, \"location\": \"ES\", \"token\": \"VGWL3WQ4JB4HGZD7RE6KFXLMPVW7L35KXLIEAF427JMRAQK2S76Q\", \"period\": \"custom\", \"customDateFrom\": \"2023-10-12\", \"customDateTo\": \"2023-10-16\", \"offset\": 2500, \"site\": \"1963\"}\n",
      "{\"strictPeriod\": true, \"location\": \"ES\", \"token\": \"VGWL3WQ4JB4HGZD7RE6KFXLMPVW7L35KXLIEAF427JMRAQK2S76Q\", \"period\": \"custom\", \"customDateFrom\": \"2023-10-12\", \"customDateTo\": \"2023-10-16\", \"offset\": 2600, \"site\": \"1963\"}\n",
      "{\"strictPeriod\": true, \"location\": \"ES\", \"token\": \"VGWL3WQ4JB4HGZD7RE6KFXLMPVW7L35KXLIEAF427JMRAQK2S76Q\", \"period\": \"custom\", \"customDateFrom\": \"2023-10-12\", \"customDateTo\": \"2023-10-16\", \"offset\": 2700, \"site\": \"1963\"}\n",
      "{\"strictPeriod\": true, \"location\": \"ES\", \"token\": \"VGWL3WQ4JB4HGZD7RE6KFXLMPVW7L35KXLIEAF427JMRAQK2S76Q\", \"period\": \"custom\", \"customDateFrom\": \"2023-10-12\", \"customDateTo\": \"2023-10-16\", \"offset\": 2800, \"site\": \"1963\"}\n",
      "{\"strictPeriod\": true, \"location\": \"ES\", \"token\": \"VGWL3WQ4JB4HGZD7RE6KFXLMPVW7L35KXLIEAF427JMRAQK2S76Q\", \"period\": \"custom\", \"customDateFrom\": \"2023-10-12\", \"customDateTo\": \"2023-10-16\", \"offset\": 2900, \"site\": \"1963\"}\n",
      "{\"strictPeriod\": true, \"location\": \"ES\", \"token\": \"VGWL3WQ4JB4HGZD7RE6KFXLMPVW7L35KXLIEAF427JMRAQK2S76Q\", \"period\": \"custom\", \"customDateFrom\": \"2023-10-12\", \"customDateTo\": \"2023-10-16\", \"offset\": 3000, \"site\": \"1963\"}\n",
      "{\"strictPeriod\": true, \"location\": \"ES\", \"token\": \"VGWL3WQ4JB4HGZD7RE6KFXLMPVW7L35KXLIEAF427JMRAQK2S76Q\", \"period\": \"custom\", \"customDateFrom\": \"2023-10-12\", \"customDateTo\": \"2023-10-16\", \"offset\": 3100, \"site\": \"1963\"}\n",
      "{\"strictPeriod\": true, \"location\": \"ES\", \"token\": \"VGWL3WQ4JB4HGZD7RE6KFXLMPVW7L35KXLIEAF427JMRAQK2S76Q\", \"period\": \"custom\", \"customDateFrom\": \"2023-10-12\", \"customDateTo\": \"2023-10-16\", \"offset\": 3200, \"site\": \"1963\"}\n",
      "{\"strictPeriod\": true, \"location\": \"ES\", \"token\": \"VGWL3WQ4JB4HGZD7RE6KFXLMPVW7L35KXLIEAF427JMRAQK2S76Q\", \"period\": \"custom\", \"customDateFrom\": \"2023-10-12\", \"customDateTo\": \"2023-10-16\", \"offset\": 3300, \"site\": \"1963\"}\n",
      "{\"strictPeriod\": true, \"location\": \"ES\", \"token\": \"VGWL3WQ4JB4HGZD7RE6KFXLMPVW7L35KXLIEAF427JMRAQK2S76Q\", \"period\": \"custom\", \"customDateFrom\": \"2023-10-12\", \"customDateTo\": \"2023-10-16\", \"offset\": 3400, \"site\": \"1963\"}\n",
      "{\"strictPeriod\": true, \"location\": \"ES\", \"token\": \"VGWL3WQ4JB4HGZD7RE6KFXLMPVW7L35KXLIEAF427JMRAQK2S76Q\", \"period\": \"custom\", \"customDateFrom\": \"2023-10-12\", \"customDateTo\": \"2023-10-16\", \"offset\": 3500, \"site\": \"1963\"}\n",
      "{\"strictPeriod\": true, \"location\": \"ES\", \"token\": \"VGWL3WQ4JB4HGZD7RE6KFXLMPVW7L35KXLIEAF427JMRAQK2S76Q\", \"period\": \"custom\", \"customDateFrom\": \"2023-10-12\", \"customDateTo\": \"2023-10-16\", \"offset\": 3600, \"site\": \"1963\"}\n",
      "Period: 2023-09-01 - 2023-10-01\n",
      "Count: 3626\n",
      "{\"strictPeriod\": true, \"location\": \"ES\", \"token\": \"VGWL3WQ4JB4HGZD7RE6KFXLMPVW7L35KXLIEAF427JMRAQK2S76Q\", \"period\": \"custom\", \"customDateFrom\": \"2023-09-01\", \"customDateTo\": \"2023-10-01\", \"offset\": 0, \"site\": \"1963\"}\n",
      "{\"strictPeriod\": true, \"location\": \"ES\", \"token\": \"VGWL3WQ4JB4HGZD7RE6KFXLMPVW7L35KXLIEAF427JMRAQK2S76Q\", \"period\": \"custom\", \"customDateFrom\": \"2023-09-01\", \"customDateTo\": \"2023-10-01\", \"offset\": 100, \"site\": \"1963\"}\n",
      "{\"strictPeriod\": true, \"location\": \"ES\", \"token\": \"VGWL3WQ4JB4HGZD7RE6KFXLMPVW7L35KXLIEAF427JMRAQK2S76Q\", \"period\": \"custom\", \"customDateFrom\": \"2023-09-01\", \"customDateTo\": \"2023-10-01\", \"offset\": 200, \"site\": \"1963\"}\n",
      "{\"strictPeriod\": true, \"location\": \"ES\", \"token\": \"VGWL3WQ4JB4HGZD7RE6KFXLMPVW7L35KXLIEAF427JMRAQK2S76Q\", \"period\": \"custom\", \"customDateFrom\": \"2023-09-01\", \"customDateTo\": \"2023-10-01\", \"offset\": 300, \"site\": \"1963\"}\n",
      "{\"strictPeriod\": true, \"location\": \"ES\", \"token\": \"VGWL3WQ4JB4HGZD7RE6KFXLMPVW7L35KXLIEAF427JMRAQK2S76Q\", \"period\": \"custom\", \"customDateFrom\": \"2023-09-01\", \"customDateTo\": \"2023-10-01\", \"offset\": 400, \"site\": \"1963\"}\n",
      "{\"strictPeriod\": true, \"location\": \"ES\", \"token\": \"VGWL3WQ4JB4HGZD7RE6KFXLMPVW7L35KXLIEAF427JMRAQK2S76Q\", \"period\": \"custom\", \"customDateFrom\": \"2023-09-01\", \"customDateTo\": \"2023-10-01\", \"offset\": 500, \"site\": \"1963\"}\n",
      "{\"strictPeriod\": true, \"location\": \"ES\", \"token\": \"VGWL3WQ4JB4HGZD7RE6KFXLMPVW7L35KXLIEAF427JMRAQK2S76Q\", \"period\": \"custom\", \"customDateFrom\": \"2023-09-01\", \"customDateTo\": \"2023-10-01\", \"offset\": 600, \"site\": \"1963\"}\n",
      "{\"strictPeriod\": true, \"location\": \"ES\", \"token\": \"VGWL3WQ4JB4HGZD7RE6KFXLMPVW7L35KXLIEAF427JMRAQK2S76Q\", \"period\": \"custom\", \"customDateFrom\": \"2023-09-01\", \"customDateTo\": \"2023-10-01\", \"offset\": 700, \"site\": \"1963\"}\n",
      "{\"strictPeriod\": true, \"location\": \"ES\", \"token\": \"VGWL3WQ4JB4HGZD7RE6KFXLMPVW7L35KXLIEAF427JMRAQK2S76Q\", \"period\": \"custom\", \"customDateFrom\": \"2023-09-01\", \"customDateTo\": \"2023-10-01\", \"offset\": 800, \"site\": \"1963\"}\n",
      "{\"strictPeriod\": true, \"location\": \"ES\", \"token\": \"VGWL3WQ4JB4HGZD7RE6KFXLMPVW7L35KXLIEAF427JMRAQK2S76Q\", \"period\": \"custom\", \"customDateFrom\": \"2023-09-01\", \"customDateTo\": \"2023-10-01\", \"offset\": 900, \"site\": \"1963\"}\n",
      "{\"strictPeriod\": true, \"location\": \"ES\", \"token\": \"VGWL3WQ4JB4HGZD7RE6KFXLMPVW7L35KXLIEAF427JMRAQK2S76Q\", \"period\": \"custom\", \"customDateFrom\": \"2023-09-01\", \"customDateTo\": \"2023-10-01\", \"offset\": 1000, \"site\": \"1963\"}\n",
      "{\"strictPeriod\": true, \"location\": \"ES\", \"token\": \"VGWL3WQ4JB4HGZD7RE6KFXLMPVW7L35KXLIEAF427JMRAQK2S76Q\", \"period\": \"custom\", \"customDateFrom\": \"2023-09-01\", \"customDateTo\": \"2023-10-01\", \"offset\": 1100, \"site\": \"1963\"}\n",
      "{\"strictPeriod\": true, \"location\": \"ES\", \"token\": \"VGWL3WQ4JB4HGZD7RE6KFXLMPVW7L35KXLIEAF427JMRAQK2S76Q\", \"period\": \"custom\", \"customDateFrom\": \"2023-09-01\", \"customDateTo\": \"2023-10-01\", \"offset\": 1200, \"site\": \"1963\"}\n",
      "{\"strictPeriod\": true, \"location\": \"ES\", \"token\": \"VGWL3WQ4JB4HGZD7RE6KFXLMPVW7L35KXLIEAF427JMRAQK2S76Q\", \"period\": \"custom\", \"customDateFrom\": \"2023-09-01\", \"customDateTo\": \"2023-10-01\", \"offset\": 1300, \"site\": \"1963\"}\n",
      "{\"strictPeriod\": true, \"location\": \"ES\", \"token\": \"VGWL3WQ4JB4HGZD7RE6KFXLMPVW7L35KXLIEAF427JMRAQK2S76Q\", \"period\": \"custom\", \"customDateFrom\": \"2023-09-01\", \"customDateTo\": \"2023-10-01\", \"offset\": 1400, \"site\": \"1963\"}\n",
      "{\"strictPeriod\": true, \"location\": \"ES\", \"token\": \"VGWL3WQ4JB4HGZD7RE6KFXLMPVW7L35KXLIEAF427JMRAQK2S76Q\", \"period\": \"custom\", \"customDateFrom\": \"2023-09-01\", \"customDateTo\": \"2023-10-01\", \"offset\": 1500, \"site\": \"1963\"}\n",
      "{\"strictPeriod\": true, \"location\": \"ES\", \"token\": \"VGWL3WQ4JB4HGZD7RE6KFXLMPVW7L35KXLIEAF427JMRAQK2S76Q\", \"period\": \"custom\", \"customDateFrom\": \"2023-09-01\", \"customDateTo\": \"2023-10-01\", \"offset\": 1600, \"site\": \"1963\"}\n",
      "{\"strictPeriod\": true, \"location\": \"ES\", \"token\": \"VGWL3WQ4JB4HGZD7RE6KFXLMPVW7L35KXLIEAF427JMRAQK2S76Q\", \"period\": \"custom\", \"customDateFrom\": \"2023-09-01\", \"customDateTo\": \"2023-10-01\", \"offset\": 1700, \"site\": \"1963\"}\n",
      "{\"strictPeriod\": true, \"location\": \"ES\", \"token\": \"VGWL3WQ4JB4HGZD7RE6KFXLMPVW7L35KXLIEAF427JMRAQK2S76Q\", \"period\": \"custom\", \"customDateFrom\": \"2023-09-01\", \"customDateTo\": \"2023-10-01\", \"offset\": 1800, \"site\": \"1963\"}\n",
      "{\"strictPeriod\": true, \"location\": \"ES\", \"token\": \"VGWL3WQ4JB4HGZD7RE6KFXLMPVW7L35KXLIEAF427JMRAQK2S76Q\", \"period\": \"custom\", \"customDateFrom\": \"2023-09-01\", \"customDateTo\": \"2023-10-01\", \"offset\": 1900, \"site\": \"1963\"}\n",
      "{\"strictPeriod\": true, \"location\": \"ES\", \"token\": \"VGWL3WQ4JB4HGZD7RE6KFXLMPVW7L35KXLIEAF427JMRAQK2S76Q\", \"period\": \"custom\", \"customDateFrom\": \"2023-09-01\", \"customDateTo\": \"2023-10-01\", \"offset\": 2000, \"site\": \"1963\"}\n",
      "{\"strictPeriod\": true, \"location\": \"ES\", \"token\": \"VGWL3WQ4JB4HGZD7RE6KFXLMPVW7L35KXLIEAF427JMRAQK2S76Q\", \"period\": \"custom\", \"customDateFrom\": \"2023-09-01\", \"customDateTo\": \"2023-10-01\", \"offset\": 2100, \"site\": \"1963\"}\n",
      "{\"strictPeriod\": true, \"location\": \"ES\", \"token\": \"VGWL3WQ4JB4HGZD7RE6KFXLMPVW7L35KXLIEAF427JMRAQK2S76Q\", \"period\": \"custom\", \"customDateFrom\": \"2023-09-01\", \"customDateTo\": \"2023-10-01\", \"offset\": 2200, \"site\": \"1963\"}\n",
      "{\"strictPeriod\": true, \"location\": \"ES\", \"token\": \"VGWL3WQ4JB4HGZD7RE6KFXLMPVW7L35KXLIEAF427JMRAQK2S76Q\", \"period\": \"custom\", \"customDateFrom\": \"2023-09-01\", \"customDateTo\": \"2023-10-01\", \"offset\": 2300, \"site\": \"1963\"}\n",
      "{\"strictPeriod\": true, \"location\": \"ES\", \"token\": \"VGWL3WQ4JB4HGZD7RE6KFXLMPVW7L35KXLIEAF427JMRAQK2S76Q\", \"period\": \"custom\", \"customDateFrom\": \"2023-09-01\", \"customDateTo\": \"2023-10-01\", \"offset\": 2400, \"site\": \"1963\"}\n",
      "{\"strictPeriod\": true, \"location\": \"ES\", \"token\": \"VGWL3WQ4JB4HGZD7RE6KFXLMPVW7L35KXLIEAF427JMRAQK2S76Q\", \"period\": \"custom\", \"customDateFrom\": \"2023-09-01\", \"customDateTo\": \"2023-10-01\", \"offset\": 2500, \"site\": \"1963\"}\n",
      "{\"strictPeriod\": true, \"location\": \"ES\", \"token\": \"VGWL3WQ4JB4HGZD7RE6KFXLMPVW7L35KXLIEAF427JMRAQK2S76Q\", \"period\": \"custom\", \"customDateFrom\": \"2023-09-01\", \"customDateTo\": \"2023-10-01\", \"offset\": 2600, \"site\": \"1963\"}\n",
      "{\"strictPeriod\": true, \"location\": \"ES\", \"token\": \"VGWL3WQ4JB4HGZD7RE6KFXLMPVW7L35KXLIEAF427JMRAQK2S76Q\", \"period\": \"custom\", \"customDateFrom\": \"2023-09-01\", \"customDateTo\": \"2023-10-01\", \"offset\": 2700, \"site\": \"1963\"}\n",
      "{\"strictPeriod\": true, \"location\": \"ES\", \"token\": \"VGWL3WQ4JB4HGZD7RE6KFXLMPVW7L35KXLIEAF427JMRAQK2S76Q\", \"period\": \"custom\", \"customDateFrom\": \"2023-09-01\", \"customDateTo\": \"2023-10-01\", \"offset\": 2800, \"site\": \"1963\"}\n",
      "{\"strictPeriod\": true, \"location\": \"ES\", \"token\": \"VGWL3WQ4JB4HGZD7RE6KFXLMPVW7L35KXLIEAF427JMRAQK2S76Q\", \"period\": \"custom\", \"customDateFrom\": \"2023-09-01\", \"customDateTo\": \"2023-10-01\", \"offset\": 2900, \"site\": \"1963\"}\n",
      "{\"strictPeriod\": true, \"location\": \"ES\", \"token\": \"VGWL3WQ4JB4HGZD7RE6KFXLMPVW7L35KXLIEAF427JMRAQK2S76Q\", \"period\": \"custom\", \"customDateFrom\": \"2023-09-01\", \"customDateTo\": \"2023-10-01\", \"offset\": 3000, \"site\": \"1963\"}\n",
      "{\"strictPeriod\": true, \"location\": \"ES\", \"token\": \"VGWL3WQ4JB4HGZD7RE6KFXLMPVW7L35KXLIEAF427JMRAQK2S76Q\", \"period\": \"custom\", \"customDateFrom\": \"2023-09-01\", \"customDateTo\": \"2023-10-01\", \"offset\": 3100, \"site\": \"1963\"}\n",
      "{\"strictPeriod\": true, \"location\": \"ES\", \"token\": \"VGWL3WQ4JB4HGZD7RE6KFXLMPVW7L35KXLIEAF427JMRAQK2S76Q\", \"period\": \"custom\", \"customDateFrom\": \"2023-09-01\", \"customDateTo\": \"2023-10-01\", \"offset\": 3200, \"site\": \"1963\"}\n",
      "{\"strictPeriod\": true, \"location\": \"ES\", \"token\": \"VGWL3WQ4JB4HGZD7RE6KFXLMPVW7L35KXLIEAF427JMRAQK2S76Q\", \"period\": \"custom\", \"customDateFrom\": \"2023-09-01\", \"customDateTo\": \"2023-10-01\", \"offset\": 3300, \"site\": \"1963\"}\n",
      "{\"strictPeriod\": true, \"location\": \"ES\", \"token\": \"VGWL3WQ4JB4HGZD7RE6KFXLMPVW7L35KXLIEAF427JMRAQK2S76Q\", \"period\": \"custom\", \"customDateFrom\": \"2023-09-01\", \"customDateTo\": \"2023-10-01\", \"offset\": 3400, \"site\": \"1963\"}\n",
      "{\"strictPeriod\": true, \"location\": \"ES\", \"token\": \"VGWL3WQ4JB4HGZD7RE6KFXLMPVW7L35KXLIEAF427JMRAQK2S76Q\", \"period\": \"custom\", \"customDateFrom\": \"2023-09-01\", \"customDateTo\": \"2023-10-01\", \"offset\": 3500, \"site\": \"1963\"}\n",
      "{\"strictPeriod\": true, \"location\": \"ES\", \"token\": \"VGWL3WQ4JB4HGZD7RE6KFXLMPVW7L35KXLIEAF427JMRAQK2S76Q\", \"period\": \"custom\", \"customDateFrom\": \"2023-09-01\", \"customDateTo\": \"2023-10-01\", \"offset\": 3600, \"site\": \"1963\"}\n",
      "Period: 2023-08-01 - 2023-09-01\n",
      "Count: 3702\n",
      "{\"strictPeriod\": true, \"location\": \"ES\", \"token\": \"VGWL3WQ4JB4HGZD7RE6KFXLMPVW7L35KXLIEAF427JMRAQK2S76Q\", \"period\": \"custom\", \"customDateFrom\": \"2023-08-01\", \"customDateTo\": \"2023-09-01\", \"offset\": 0, \"site\": \"1963\"}\n",
      "{\"strictPeriod\": true, \"location\": \"ES\", \"token\": \"VGWL3WQ4JB4HGZD7RE6KFXLMPVW7L35KXLIEAF427JMRAQK2S76Q\", \"period\": \"custom\", \"customDateFrom\": \"2023-08-01\", \"customDateTo\": \"2023-09-01\", \"offset\": 100, \"site\": \"1963\"}\n",
      "{\"strictPeriod\": true, \"location\": \"ES\", \"token\": \"VGWL3WQ4JB4HGZD7RE6KFXLMPVW7L35KXLIEAF427JMRAQK2S76Q\", \"period\": \"custom\", \"customDateFrom\": \"2023-08-01\", \"customDateTo\": \"2023-09-01\", \"offset\": 200, \"site\": \"1963\"}\n",
      "{\"strictPeriod\": true, \"location\": \"ES\", \"token\": \"VGWL3WQ4JB4HGZD7RE6KFXLMPVW7L35KXLIEAF427JMRAQK2S76Q\", \"period\": \"custom\", \"customDateFrom\": \"2023-08-01\", \"customDateTo\": \"2023-09-01\", \"offset\": 300, \"site\": \"1963\"}\n",
      "{\"strictPeriod\": true, \"location\": \"ES\", \"token\": \"VGWL3WQ4JB4HGZD7RE6KFXLMPVW7L35KXLIEAF427JMRAQK2S76Q\", \"period\": \"custom\", \"customDateFrom\": \"2023-08-01\", \"customDateTo\": \"2023-09-01\", \"offset\": 400, \"site\": \"1963\"}\n",
      "{\"strictPeriod\": true, \"location\": \"ES\", \"token\": \"VGWL3WQ4JB4HGZD7RE6KFXLMPVW7L35KXLIEAF427JMRAQK2S76Q\", \"period\": \"custom\", \"customDateFrom\": \"2023-08-01\", \"customDateTo\": \"2023-09-01\", \"offset\": 500, \"site\": \"1963\"}\n",
      "{\"strictPeriod\": true, \"location\": \"ES\", \"token\": \"VGWL3WQ4JB4HGZD7RE6KFXLMPVW7L35KXLIEAF427JMRAQK2S76Q\", \"period\": \"custom\", \"customDateFrom\": \"2023-08-01\", \"customDateTo\": \"2023-09-01\", \"offset\": 600, \"site\": \"1963\"}\n",
      "{\"strictPeriod\": true, \"location\": \"ES\", \"token\": \"VGWL3WQ4JB4HGZD7RE6KFXLMPVW7L35KXLIEAF427JMRAQK2S76Q\", \"period\": \"custom\", \"customDateFrom\": \"2023-08-01\", \"customDateTo\": \"2023-09-01\", \"offset\": 700, \"site\": \"1963\"}\n",
      "{\"strictPeriod\": true, \"location\": \"ES\", \"token\": \"VGWL3WQ4JB4HGZD7RE6KFXLMPVW7L35KXLIEAF427JMRAQK2S76Q\", \"period\": \"custom\", \"customDateFrom\": \"2023-08-01\", \"customDateTo\": \"2023-09-01\", \"offset\": 800, \"site\": \"1963\"}\n",
      "{\"strictPeriod\": true, \"location\": \"ES\", \"token\": \"VGWL3WQ4JB4HGZD7RE6KFXLMPVW7L35KXLIEAF427JMRAQK2S76Q\", \"period\": \"custom\", \"customDateFrom\": \"2023-08-01\", \"customDateTo\": \"2023-09-01\", \"offset\": 900, \"site\": \"1963\"}\n",
      "{\"strictPeriod\": true, \"location\": \"ES\", \"token\": \"VGWL3WQ4JB4HGZD7RE6KFXLMPVW7L35KXLIEAF427JMRAQK2S76Q\", \"period\": \"custom\", \"customDateFrom\": \"2023-08-01\", \"customDateTo\": \"2023-09-01\", \"offset\": 1000, \"site\": \"1963\"}\n",
      "{\"strictPeriod\": true, \"location\": \"ES\", \"token\": \"VGWL3WQ4JB4HGZD7RE6KFXLMPVW7L35KXLIEAF427JMRAQK2S76Q\", \"period\": \"custom\", \"customDateFrom\": \"2023-08-01\", \"customDateTo\": \"2023-09-01\", \"offset\": 1100, \"site\": \"1963\"}\n",
      "{\"strictPeriod\": true, \"location\": \"ES\", \"token\": \"VGWL3WQ4JB4HGZD7RE6KFXLMPVW7L35KXLIEAF427JMRAQK2S76Q\", \"period\": \"custom\", \"customDateFrom\": \"2023-08-01\", \"customDateTo\": \"2023-09-01\", \"offset\": 1200, \"site\": \"1963\"}\n",
      "{\"strictPeriod\": true, \"location\": \"ES\", \"token\": \"VGWL3WQ4JB4HGZD7RE6KFXLMPVW7L35KXLIEAF427JMRAQK2S76Q\", \"period\": \"custom\", \"customDateFrom\": \"2023-08-01\", \"customDateTo\": \"2023-09-01\", \"offset\": 1300, \"site\": \"1963\"}\n",
      "{\"strictPeriod\": true, \"location\": \"ES\", \"token\": \"VGWL3WQ4JB4HGZD7RE6KFXLMPVW7L35KXLIEAF427JMRAQK2S76Q\", \"period\": \"custom\", \"customDateFrom\": \"2023-08-01\", \"customDateTo\": \"2023-09-01\", \"offset\": 1400, \"site\": \"1963\"}\n",
      "{\"strictPeriod\": true, \"location\": \"ES\", \"token\": \"VGWL3WQ4JB4HGZD7RE6KFXLMPVW7L35KXLIEAF427JMRAQK2S76Q\", \"period\": \"custom\", \"customDateFrom\": \"2023-08-01\", \"customDateTo\": \"2023-09-01\", \"offset\": 1500, \"site\": \"1963\"}\n",
      "{\"strictPeriod\": true, \"location\": \"ES\", \"token\": \"VGWL3WQ4JB4HGZD7RE6KFXLMPVW7L35KXLIEAF427JMRAQK2S76Q\", \"period\": \"custom\", \"customDateFrom\": \"2023-08-01\", \"customDateTo\": \"2023-09-01\", \"offset\": 1600, \"site\": \"1963\"}\n",
      "{\"strictPeriod\": true, \"location\": \"ES\", \"token\": \"VGWL3WQ4JB4HGZD7RE6KFXLMPVW7L35KXLIEAF427JMRAQK2S76Q\", \"period\": \"custom\", \"customDateFrom\": \"2023-08-01\", \"customDateTo\": \"2023-09-01\", \"offset\": 1700, \"site\": \"1963\"}\n",
      "{\"strictPeriod\": true, \"location\": \"ES\", \"token\": \"VGWL3WQ4JB4HGZD7RE6KFXLMPVW7L35KXLIEAF427JMRAQK2S76Q\", \"period\": \"custom\", \"customDateFrom\": \"2023-08-01\", \"customDateTo\": \"2023-09-01\", \"offset\": 1800, \"site\": \"1963\"}\n",
      "{\"strictPeriod\": true, \"location\": \"ES\", \"token\": \"VGWL3WQ4JB4HGZD7RE6KFXLMPVW7L35KXLIEAF427JMRAQK2S76Q\", \"period\": \"custom\", \"customDateFrom\": \"2023-08-01\", \"customDateTo\": \"2023-09-01\", \"offset\": 1900, \"site\": \"1963\"}\n",
      "{\"strictPeriod\": true, \"location\": \"ES\", \"token\": \"VGWL3WQ4JB4HGZD7RE6KFXLMPVW7L35KXLIEAF427JMRAQK2S76Q\", \"period\": \"custom\", \"customDateFrom\": \"2023-08-01\", \"customDateTo\": \"2023-09-01\", \"offset\": 2000, \"site\": \"1963\"}\n",
      "{\"strictPeriod\": true, \"location\": \"ES\", \"token\": \"VGWL3WQ4JB4HGZD7RE6KFXLMPVW7L35KXLIEAF427JMRAQK2S76Q\", \"period\": \"custom\", \"customDateFrom\": \"2023-08-01\", \"customDateTo\": \"2023-09-01\", \"offset\": 2100, \"site\": \"1963\"}\n",
      "{\"strictPeriod\": true, \"location\": \"ES\", \"token\": \"VGWL3WQ4JB4HGZD7RE6KFXLMPVW7L35KXLIEAF427JMRAQK2S76Q\", \"period\": \"custom\", \"customDateFrom\": \"2023-08-01\", \"customDateTo\": \"2023-09-01\", \"offset\": 2200, \"site\": \"1963\"}\n",
      "{\"strictPeriod\": true, \"location\": \"ES\", \"token\": \"VGWL3WQ4JB4HGZD7RE6KFXLMPVW7L35KXLIEAF427JMRAQK2S76Q\", \"period\": \"custom\", \"customDateFrom\": \"2023-08-01\", \"customDateTo\": \"2023-09-01\", \"offset\": 2300, \"site\": \"1963\"}\n",
      "{\"strictPeriod\": true, \"location\": \"ES\", \"token\": \"VGWL3WQ4JB4HGZD7RE6KFXLMPVW7L35KXLIEAF427JMRAQK2S76Q\", \"period\": \"custom\", \"customDateFrom\": \"2023-08-01\", \"customDateTo\": \"2023-09-01\", \"offset\": 2400, \"site\": \"1963\"}\n",
      "{\"strictPeriod\": true, \"location\": \"ES\", \"token\": \"VGWL3WQ4JB4HGZD7RE6KFXLMPVW7L35KXLIEAF427JMRAQK2S76Q\", \"period\": \"custom\", \"customDateFrom\": \"2023-08-01\", \"customDateTo\": \"2023-09-01\", \"offset\": 2500, \"site\": \"1963\"}\n"
     ]
    }
   ],
   "source": [
    "count_url = base_url + \"count\"\n",
    "\n",
    "def get_count(token, initial_date, end_date):\n",
    "    payload = {'token': token, \"period\" : \"custom\", \"customDateFrom\": initial_date, \"customDateTo\": end_date, \"location\":\"ES|53|GC\"}\n",
    "    headers = {'Content-Type': 'application/json'}\n",
    "    json_payload = json.dumps(payload)\n",
    "    r = requests.post(count_url, data=json_payload, headers=headers)\n",
    "    if r.status_code == 200:\n",
    "        data = r.json()\n",
    "        return data['offers']['market']\n",
    "    else:\n",
    "        print(f\"Request failed with status code {r.status_code}\")\n",
    "        return None\n",
    "    \n",
    "def get_all_offers(token, periods, max_offers=1000):\n",
    "    offers = []\n",
    "    for period in periods:\n",
    "        initial_date = period['from']\n",
    "        end_date = period['to']\n",
    "        print(f\"Period: {initial_date} - {end_date}\")\n",
    "        count = get_count(token, initial_date, end_date)\n",
    "        print(f\"Count: {count}\")\n",
    "        for index in range(0, count, 100):\n",
    "            if count - index < 100:\n",
    "                size = count - index\n",
    "            else:\n",
    "                size = 100\n",
    "            response = get_offers(token, initial_date, end_date, size=size, offset=index)\n",
    "            offers.extend(response)\n",
    "            if len(offers) >= max_offers:\n",
    "                return offers\n",
    "    return offers\n",
    "offers_news = get_all_offers(token, periods, max_offers=N_offers)\n"
   ]
  },
  {
   "cell_type": "code",
   "execution_count": 10,
   "metadata": {},
   "outputs": [],
   "source": [
    "def format_offer(offer):\n",
    "    expected_keys = ['title', 'description', 'company', 'location', 'category']\n",
    "    expected_keys_post = ['date', 'site', 'id', 'url']\n",
    "    expected_keys_labeled = ['category', 'site', 'location']\n",
    "    formated_offer = {}\n",
    "    for key in expected_keys:\n",
    "        if key not in offer:\n",
    "            formated_offer[key] = None\n",
    "        else:\n",
    "            if key in expected_keys_labeled:\n",
    "                formated_offer[key] = offer[key]['label']\n",
    "            else:\n",
    "                formated_offer[key] = offer[key]\n",
    "    post = get_last_record(offer['postings'])\n",
    "    for key in expected_keys_post:\n",
    "        if key not in post:\n",
    "            formated_offer[key] = None\n",
    "        else:\n",
    "            if key in expected_keys_labeled:\n",
    "                formated_offer[key] = post[key]['label']\n",
    "            else:\n",
    "                formated_offer[key] = post[key]\n",
    "    return formated_offer\n",
    "\n",
    "def get_last_record(postings):\n",
    "    dates = []\n",
    "    for post in postings:\n",
    "        dates.append(post['date'])\n",
    "    # Get index of the last date\n",
    "    index = dates.index(max(dates))\n",
    "    return postings[index]\n",
    "\n",
    "def format_all_offers(offers):\n",
    "    formated_offers = []\n",
    "    for offer in offers:\n",
    "        formated_offers.append(format_offer(offer))\n",
    "    return formated_offers\n",
    "\n",
    "formated_offers = format_all_offers(offers_news)\n",
    "\n",
    "def set_id_oferta(offer):\n",
    "    offer['id_oferta'] = offer['id']\n",
    "    del offer['id']\n",
    "    return offer\n",
    "\n",
    "# Set the id_oferta for each offer\n",
    "formated_offers = list(map(set_id_oferta, formated_offers))\n",
    "\n",
    "with open(\"offers.txt\",'w') as f:\n",
    "    for offer in formated_offers:\n",
    "        f.write(str(offer['description']) + \"\\n\\n##############\\n\\n\")"
   ]
  },
  {
   "cell_type": "markdown",
   "metadata": {},
   "source": [
    "# Read INFOJOBS_ESTUDIOS dataset"
   ]
  },
  {
   "cell_type": "code",
   "execution_count": 11,
   "metadata": {},
   "outputs": [],
   "source": [
    "df = pd.read_json(\"INFOJOBS_ESTUDIOS.json\")\n",
    "# Clean df\n",
    "df = df[df['nivel'] != \"(Seleccionar)\"]\n",
    "# Read expection_list.txt\n",
    "with open(\"expection_list.txt\", 'r') as f:\n",
    "    expection_list = f.read().splitlines()\n",
    "\n",
    "\n",
    "def format_denominacion(denominacion):\n",
    "    for expection in expection_list:\n",
    "        if expection in denominacion:\n",
    "            denominacion = denominacion.replace(expection, \"\")\n",
    "    return unidecode(denominacion).lower().strip()\n",
    "\n",
    "\n",
    "df[\"nivel_formated\"] = df[\"nivel\"].apply(format_denominacion)\n",
    "df[\"denominacion_formated\"] = df[\"denominacion\"].apply(format_denominacion)\n",
    "# Read id_to_nivel.json\n",
    "df_id = pd.read_json(\"id_to_nivel.json\")\n",
    "# Apply the format_denominacion function to the column 'nivel' of df_id\n",
    "df_id['nivel_formated'] = df_id['nivel'].apply(format_denominacion)\n",
    "id_to_titulacion = dict(zip(df_id['id'], df_id['nivel_formated']))\n",
    "id_to_titulacion_raw = dict(zip(df_id['id'], df_id['nivel']))\n",
    "# Create a dictionary to cast from 'denominacion_formated' to 'denominacion'\n",
    "niveles_df = pd.read_json(\"niveles_estudio.json\")\n",
    "niveles_df['denominacion_formated'] = niveles_df['denominacion'].apply(\n",
    "    format_denominacion)\n",
    "# Cast from df to dict key: denominacion, value: nivel\n",
    "denominacion_to_id_nivel = {}\n",
    "for denominacion, group in niveles_df.groupby('denominacion_formated'):\n",
    "    denominacion_to_id_nivel[denominacion] = int(group['id_nivel'].tolist()[0])\n",
    "# Create a dictionary\n",
    "denominacion_to_titulacion = {}\n",
    "for denominacion, group in df.groupby('denominacion_formated'):\n",
    "    denominacion_to_titulacion[denominacion] = group['nivel_formated'].tolist()\n",
    "# Create a dictionary\n",
    "id_nivel_to_titulacion = {}\n",
    "for id_nivel, group in df.groupby('id_nivel'):\n",
    "    id_nivel_to_titulacion[id_nivel] = group['nivel_formated'].tolist()\n",
    "id_nivel_to_id = {}\n",
    "for id_nivel, group in df.groupby('id_nivel'):\n",
    "    id_nivel_to_id[id_nivel] = group['id'].tolist()\n"
   ]
  },
  {
   "cell_type": "markdown",
   "metadata": {},
   "source": [
    "# Load custom correlations"
   ]
  },
  {
   "cell_type": "code",
   "execution_count": 12,
   "metadata": {},
   "outputs": [],
   "source": [
    "def read_property_correlations(file_path, correlations, option='niveles'):\n",
    "    with open(file_path, 'r') as file:\n",
    "        for line in file:\n",
    "            parts = line.strip().split('->')\n",
    "            property_name = parts[0]\n",
    "            corresponding_parts = parts[1].split(',')\n",
    "            # Check if the property already exists in correlations\n",
    "            correlations[property_name] = []\n",
    "            for corresponding_part in corresponding_parts:\n",
    "                if property_name not in correlations:\n",
    "                    continue\n",
    "                if option == 'niveles':\n",
    "                    correlations[property_name].append(correlations[corresponding_part])\n",
    "                elif option == 'titles':\n",
    "                    correlations[property_name].extend(correlations[corresponding_part])\n",
    "    try:\n",
    "        del correlations['grado']\n",
    "    except:\n",
    "        print(\"Already deleted grado\")\n",
    "    return correlations\n",
    "\n",
    "# Example usage:\n",
    "file_path = './correlations.txt'\n",
    "denominacion_to_id_nivel = read_property_correlations(file_path, denominacion_to_id_nivel, option='niveles')\n",
    "denominacion_to_titulacion = read_property_correlations(file_path, denominacion_to_titulacion, option='titles')"
   ]
  },
  {
   "cell_type": "markdown",
   "metadata": {},
   "source": [
    "# Test search function"
   ]
  },
  {
   "cell_type": "code",
   "execution_count": 13,
   "metadata": {},
   "outputs": [],
   "source": [
    "def get_niveles(niveles, description):\n",
    "    obteined_niveles = []\n",
    "    for nivel in niveles.keys():\n",
    "        pattern = r'\\b' + re.escape(nivel) + r'\\b'\n",
    "        if re.search(pattern, description):\n",
    "            obteined_niveles.append(nivel)\n",
    "    return obteined_niveles\n",
    "\n",
    "\n",
    "def get_id_titulo(obteined_titles, mapping_id, id_nivel_to_id):\n",
    "    id_titulos = []\n",
    "    for title in obteined_titles:\n",
    "        id_nivel = title['id_nivel']\n",
    "        ids = id_nivel_to_id[id_nivel]\n",
    "        titulo = title['titulo']\n",
    "        for id in ids:\n",
    "            if id in mapping_id:\n",
    "                if titulo == mapping_id[id]:\n",
    "                    id_titulos.append(id)\n",
    "    return id_titulos\n",
    "\n",
    "\n",
    "def get_titulo(description, numerical_niveles, id_nivel_to_titulacion):\n",
    "    # Get all the possible titulaciones from id_nivel_to_titulacion with the numerical_niveles\n",
    "    obteined_titles = []\n",
    "    for nivel in numerical_niveles:\n",
    "        if nivel in id_nivel_to_titulacion:\n",
    "            titulos = id_nivel_to_titulacion[nivel]\n",
    "            for titulo in titulos:\n",
    "                pattern = r'\\b' + re.escape(titulo) + r'\\b'\n",
    "                if re.search(pattern, description):\n",
    "                    obteined_titles.append(\n",
    "                        {'id_nivel': nivel, 'titulo': titulo})\n",
    "    return obteined_titles\n",
    "\n",
    "\n",
    "def add_nivel_to_offer(denominacion_to_id_nivel, obteined_niveles):\n",
    "    # Find for each nivel the corresponding id\n",
    "    numerical_niveles = []\n",
    "    for nivel in obteined_niveles:\n",
    "        # Denonimacion_to_id_nivel[nivel] can be a int or a list of ints\n",
    "        if isinstance(denominacion_to_id_nivel[nivel], int):\n",
    "            numerical_niveles.append(denominacion_to_id_nivel[nivel])\n",
    "        else:\n",
    "            numerical_niveles.extend(denominacion_to_id_nivel[nivel])\n",
    "    # Delete repeated values\n",
    "    numerical_niveles = list(set(numerical_niveles))\n",
    "    return numerical_niveles\n",
    "\n",
    "\n",
    "def get_min_and_max_nivel(offer):\n",
    "    if len(offer['numerical_niveles']) == 1:\n",
    "        return offer['numerical_niveles'][0], offer['numerical_niveles'][0]\n",
    "    return min(offer['numerical_niveles']), max(offer['numerical_niveles'])\n",
    "\n",
    "\n",
    "def verify_grado(titles, description, N=15):\n",
    "    # Get the index of the word \"grado\" in the description\n",
    "    index = description.find(\"grado\")\n",
    "    # Get the N words before and after the word \"grado\" in the description\n",
    "    words = description[index-N:index+N]\n",
    "    # Verify if the obtained titles are in the words\n",
    "    for title in titles[\"grado\"]:\n",
    "        if title in words:\n",
    "            return True\n",
    "    return False\n",
    "\n",
    "\n",
    "def insert_id_titulo(obteined_titles):\n",
    "    ids = []\n",
    "    for title in obteined_titles.keys():\n",
    "        for t in obteined_titles[title]:\n",
    "            ids.append(t['id'])\n",
    "    # Delete the repeated ids\n",
    "    # ids = list(set(ids))\n",
    "    return ids\n",
    "\n",
    "\n",
    "def insert_raw_titles(obteined_titles, mapping_id_raw):\n",
    "    raw_titles = []\n",
    "    for title in obteined_titles:\n",
    "        raw_titles.append(mapping_id_raw[title])\n",
    "    return raw_titles\n",
    "\n",
    "\n",
    "def normalize_offer(denominacion_to_id_nivel, titulacion_to_id, id_to_titulacion_raw, id_nivel_to_titulacion, id_nivel_to_id, offer, estrict=False):\n",
    "    description = unidecode(offer['description']).lower()\n",
    "    # Verify if the offer description have \"Requisitos\"\n",
    "    if estrict:\n",
    "        if \"requisitos\" not in description:\n",
    "            return offer\n",
    "        description = description[description.find(\"requisitos\"):]\n",
    "    obteined_niveles = get_niveles(denominacion_to_id_nivel, description)\n",
    "    if len(obteined_niveles) > 0:\n",
    "        offer['denominacion_nivel'] = obteined_niveles\n",
    "        offer['numerical_niveles'] = add_nivel_to_offer(\n",
    "            denominacion_to_id_nivel, obteined_niveles)\n",
    "        offer['min_nivel'], offer['max_nivel'] = get_min_and_max_nivel(offer)\n",
    "        obteined_titles = get_titulo(\n",
    "            description, offer['numerical_niveles'], id_nivel_to_titulacion)\n",
    "        if len(obteined_titles) > 0:\n",
    "            offer['id_titulos'] = get_id_titulo(\n",
    "                obteined_titles, titulacion_to_id, id_nivel_to_id)\n",
    "            offer['titulos_raw'] = insert_raw_titles(\n",
    "                offer['id_titulos'], id_to_titulacion_raw)\n",
    "    return offer\n",
    "\n",
    "\n",
    "def normalize_to_infojobs_offer(denominacion_to_id_nivel, titulacion_to_id, id_to_titulacion_raw, id_nivel_to_titulacion, id_nivel_to_id, offers):\n",
    "    for offer in offers:\n",
    "        offer = normalize_offer(denominacion_to_id_nivel, titulacion_to_id,\n",
    "                                id_to_titulacion_raw, id_nivel_to_titulacion, id_nivel_to_id, offer)\n",
    "    return offers\n",
    "\n",
    "\n",
    "offers = normalize_to_infojobs_offer(\n",
    "    denominacion_to_id_nivel, id_to_titulacion, id_to_titulacion_raw, id_nivel_to_titulacion, id_nivel_to_id, formated_offers)\n"
   ]
  },
  {
   "cell_type": "code",
   "execution_count": null,
   "metadata": {},
   "outputs": [],
   "source": [
    "# Get the offer with \"denominacion_nivel\" equal to \"grado\"\n",
    "grado_offers = []\n",
    "for offer in offers:\n",
    "    if 'denominacion_nivel' in offer:\n",
    "        if \"grado en\" in offer['denominacion_nivel']:\n",
    "            grado_offers.append(offer)\n",
    "# Save the offers in test.txt\n",
    "with open(\"test.txt\", 'w') as f:\n",
    "    for offer in grado_offers:\n",
    "        f.write(str(offer['description']) + \"\\n\\n##############\\n\\n\")"
   ]
  },
  {
   "cell_type": "markdown",
   "metadata": {},
   "source": [
    "# Métricas de test"
   ]
  },
  {
   "cell_type": "code",
   "execution_count": null,
   "metadata": {},
   "outputs": [
    {
     "name": "stdout",
     "output_type": "stream",
     "text": [
      "Total Offers:  200\n",
      "Offers with 'denominacion_nivel':  79\n",
      "Offers with 'titulos_raw':  46\n",
      "Percentage over all offers with denominacion:  39.5\n",
      "Percentage over all offers with titulos:  23.0\n"
     ]
    }
   ],
   "source": [
    "# Calculate all offers with 'denominacion_nivel'\n",
    "offers_denominacion = []\n",
    "for offer in offers:\n",
    "    if 'denominacion_nivel' in offer:\n",
    "        offers_denominacion.append(offer)\n",
    "# Calculate all offers with 'titulos_raw'\n",
    "offers_titulos = []\n",
    "for offer in offers:\n",
    "    if 'titulos_raw' in offer:\n",
    "        offers_titulos.append(offer)\n",
    "print(\"Total Offers: \", len(offers))\n",
    "print(\"Ofertas con denominación: \", len(offers_denominacion))\n",
    "print(\"Ofertas con título: \", len(offers_titulos))\n",
    "percentage_denominacion = len(offers_denominacion) / len(offers) * 100\n",
    "percentage_titulos = len(offers_titulos) / len(offers) * 100\n",
    "print(\"Porcentaje sobre el total de ofertas con denominación: {:.2f}%\".format(percentage_denominacion))\n",
    "print(\"Porcentaje sobre el total de ofertas con titulación: {:.2f}%\".format(percentage_titulos))\n"
   ]
  },
  {
   "cell_type": "code",
   "execution_count": null,
   "metadata": {},
   "outputs": [
    {
     "name": "stdout",
     "output_type": "stream",
     "text": [
      "Total ofertas:  200\n",
      "Total ofertas encontradas:  46\n",
      "Porcentaje: 23.00%\n",
      "{'o grado': 13, 'grado en': 12, 'diplomatura': 11, 'grado superior': 8, 'formacion profesional': 7, 'ciclo formativo': 7, 'grado medio': 6, 'fp': 5, 'grado universitario': 4, 'master': 4, 'licenciatura': 3, 'titulacion universitaria': 2, 'postgrado': 2, 'formacion profesional grado superior': 2, 'licenciado': 1, 'graduado': 1, 'diplomado': 0, 'grado o': 0, 'formacion profesional grado medio': 0, 'ingenieria tecnica': 0, 'ciclo formativo grado medio': 0}\n"
     ]
    },
    {
     "data": {
      "image/png": "[encoded data removed]",
      "text/plain": [
       "<Figure size 640x480 with 1 Axes>"
      ]
     },
     "metadata": {},
     "output_type": "display_data"
    }
   ],
   "source": [
    "# Get all the offers with \"denominacion\" and \"titulo\"\n",
    "test_offers = [offer for offer in offers if 'titulos_raw' in offer]\n",
    "print(\"Total ofertas: \", len(offers))\n",
    "print(\"Total ofertas encontradas: \", len(test_offers))\n",
    "# print the porcentage of offers with \"denominacion\" and \"titulo\"\n",
    "percentage = len(test_offers) / len(offers) * 100\n",
    "print(\"Porcentaje: {:.2f}%\".format(percentage))\n",
    "with open(\"offers.json\", 'w') as f:\n",
    "    json.dump(test_offers, f, indent=4)\n",
    "# Print how many offers detect in test_offers for each denominacion\n",
    "obtained_denominations = {}\n",
    "for offer in test_offers:\n",
    "    for denomination in offer['denominacion_nivel']:\n",
    "        if denomination not in obtained_denominations:\n",
    "            obtained_denominations[denomination] = 0\n",
    "        else:\n",
    "            obtained_denominations[denomination] += 1\n",
    "# Sort by values\n",
    "obtained_denominations = dict(sorted(obtained_denominations.items(), key=lambda item: item[1], reverse=True))\n",
    "# And plot the results, in a bar plot\n",
    "plt.bar(obtained_denominations.keys(), obtained_denominations.values())\n",
    "plt.title(\"Distribution of denominations in encountered offers\")\n",
    "plt.xlabel(\"Denominations\")\n",
    "plt.ylabel(\"Number of offers\")\n",
    "plt.xticks(rotation=90)\n",
    "print(obtained_denominations)"
   ]
  },
  {
   "cell_type": "markdown",
   "metadata": {},
   "source": [
    "# Clasified"
   ]
  },
  {
   "cell_type": "code",
   "execution_count": null,
   "metadata": {},
   "outputs": [],
   "source": [
    "# Get the register with \"denominacion_nivel\"\n",
    "correct = [offer for offer in test_offers if 'denominacion_nivel' in offer]\n",
    "# Save the correct offers\n",
    "with open(\"correct_offers.json\", 'w') as f:\n",
    "    json.dump(correct, f, indent=4)"
   ]
  },
  {
   "cell_type": "markdown",
   "metadata": {},
   "source": [
    "# Errors"
   ]
  },
  {
   "cell_type": "code",
   "execution_count": null,
   "metadata": {},
   "outputs": [],
   "source": [
    "# Get the registers without \"denominacion_nivel\"\n",
    "errors = [offer for offer in offers if 'denominacion_nivel' not in offer]\n",
    "# Save the first 100 errors as json file\n",
    "with open(\"errors.json\", 'w') as f:\n",
    "    json.dump(errors, f, indent=4)"
   ]
  }
 ],
 "metadata": {
  "kernelspec": {
   "display_name": ".venv",
   "language": "python",
   "name": "python3"
  },
  "language_info": {
   "codemirror_mode": {
    "name": "ipython",
    "version": 3
   },
   "file_extension": ".py",
   "mimetype": "text/x-python",
   "name": "python",
   "nbconvert_exporter": "python",
   "pygments_lexer": "ipython3",
   "version": "3.9.16"
  }
 },
 "nbformat": 4,
 "nbformat_minor": 2
}
