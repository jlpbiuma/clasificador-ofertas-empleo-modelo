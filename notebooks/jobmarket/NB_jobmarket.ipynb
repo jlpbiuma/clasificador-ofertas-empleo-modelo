{
 "cells": [
  {
   "cell_type": "markdown",
   "metadata": {},
   "source": [
    "# Import libraries"
   ]
  },
  {
   "cell_type": "code",
   "execution_count": 1,
   "metadata": {},
   "outputs": [],
   "source": [
    "import pandas as pd\n",
    "import numpy as np\n",
    "import requests\n",
    "import json\n",
    "from unidecode import unidecode\n",
    "import matplotlib.pyplot as plt"
   ]
  },
  {
   "cell_type": "markdown",
   "metadata": {},
   "source": [
    "# Fetch the offers to jobmarket"
   ]
  },
  {
   "cell_type": "code",
   "execution_count": 2,
   "metadata": {},
   "outputs": [],
   "source": [
    "# Request data from API\n",
    "user = \"hacomar@fulp.es\"\n",
    "clave = \"Atenas.2023\"\n",
    "base_url = \"https://www.jobmarketinsights.com/jmi-api/\"\n",
    "login_url = base_url + \"token\""
   ]
  },
  {
   "cell_type": "markdown",
   "metadata": {},
   "source": [
    "# Log into API"
   ]
  },
  {
   "cell_type": "code",
   "execution_count": 3,
   "metadata": {},
   "outputs": [
    {
     "name": "stdout",
     "output_type": "stream",
     "text": [
      "VGWL3WQ4JB4HGZD7RE6KFXLMPXSCVCG445LVV7M27JMRAQK2S76Q\n"
     ]
    }
   ],
   "source": [
    "def login():\n",
    "    # Define the headers to set the Content-Type\n",
    "    headers = {'Content-Type': 'application/json'}\n",
    "    # Create a dictionary containing the data to send as JSON\n",
    "    payload = {'email': user, 'password': clave}\n",
    "    # Convert the payload to JSON format\n",
    "    json_payload = json.dumps(payload)\n",
    "    # Send the POST request with the specified headers and JSON data\n",
    "    r = requests.post(login_url, data=json_payload, headers=headers)\n",
    "    # Check if the request was successful (status code 200)\n",
    "    if r.status_code == 200:\n",
    "        # Parse the JSON response\n",
    "        data = r.json()\n",
    "        token = data[\"auth\"][\"token\"]\n",
    "        return token\n",
    "    else:\n",
    "        print(f\"Request failed with status code {r.status_code}\")\n",
    "        return None\n",
    "token = login()\n",
    "print(token)"
   ]
  },
  {
   "cell_type": "markdown",
   "metadata": {},
   "source": [
    "# Scope"
   ]
  },
  {
   "cell_type": "code",
   "execution_count": 4,
   "metadata": {},
   "outputs": [
    {
     "name": "stdout",
     "output_type": "stream",
     "text": [
      "792\n"
     ]
    }
   ],
   "source": [
    "scope_url = base_url + \"scopes\"\n",
    "def get_scope(token):\n",
    "    payload = {'token': token}\n",
    "    headers = {'Content-Type': 'application/json'}\n",
    "    json_payload = json.dumps(payload)\n",
    "    r = requests.post(scope_url, data=json_payload, headers=headers)\n",
    "    if r.status_code == 200:\n",
    "        data = r.json()\n",
    "        return data\n",
    "    else:\n",
    "        print(f\"Request failed with status code {r.status_code}\")\n",
    "        return None\n",
    "response = get_scope(token)\n",
    "scopes = response[\"scopes\"][0][\"key\"]\n",
    "print(scopes)"
   ]
  },
  {
   "cell_type": "markdown",
   "metadata": {},
   "source": [
    "# Periods"
   ]
  },
  {
   "cell_type": "code",
   "execution_count": 5,
   "metadata": {},
   "outputs": [
    {
     "name": "stdout",
     "output_type": "stream",
     "text": [
      "[{'from': '2023-10-12', 'label': 'Últimos días', 'to': '2023-10-16', 'key': 'ld'}, {'from': '2023-09-01', 'label': 'sep 2023', 'to': '2023-10-01', 'key': '2023-09'}, {'from': '2023-08-01', 'label': 'ago 2023', 'to': '2023-09-01', 'key': '2023-08'}, {'from': '2023-07-01', 'label': 'jul 2023', 'to': '2023-08-01', 'key': '2023-07'}, {'from': '2023-06-01', 'label': 'jun 2023', 'to': '2023-07-01', 'key': '2023-06'}, {'from': '2023-05-01', 'label': 'may 2023', 'to': '2023-06-01', 'key': '2023-05'}, {'from': '2023-04-01', 'label': 'abr 2023', 'to': '2023-05-01', 'key': '2023-04'}, {'from': '2023-03-01', 'label': 'mar 2023', 'to': '2023-04-01', 'key': '2023-03'}, {'from': '2023-02-01', 'label': 'feb 2023', 'to': '2023-03-01', 'key': '2023-02'}, {'from': '2023-01-01', 'label': 'ene 2023', 'to': '2023-02-01', 'key': '2023-01'}, {'from': '2022-12-01', 'label': 'dic 2022', 'to': '2023-01-01', 'key': '2022-12'}, {'from': '2022-11-01', 'label': 'nov 2022', 'to': '2022-12-01', 'key': '2022-11'}, {'from': '2022-10-01', 'label': 'oct 2022', 'to': '2022-11-01', 'key': '2022-10'}, {'from': '2022-09-01', 'label': 'sep 2022', 'to': '2022-10-01', 'key': '2022-09'}, {'from': '2022-08-01', 'label': 'ago 2022', 'to': '2022-09-01', 'key': '2022-08'}, {'from': '2022-07-01', 'label': 'jul 2022', 'to': '2022-08-01', 'key': '2022-07'}, {'from': '2022-06-01', 'label': 'jun 2022', 'to': '2022-07-01', 'key': '2022-06'}, {'from': '2022-05-01', 'label': 'may 2022', 'to': '2022-06-01', 'key': '2022-05'}, {'from': '2022-04-01', 'label': 'abr 2022', 'to': '2022-05-01', 'key': '2022-04'}, {'from': '2022-03-01', 'label': 'mar 2022', 'to': '2022-04-01', 'key': '2022-03'}, {'from': '2022-02-01', 'label': 'feb 2022', 'to': '2022-03-01', 'key': '2022-02'}, {'from': '2022-01-01', 'label': 'ene 2022', 'to': '2022-02-01', 'key': '2022-01'}, {'from': '2021-12-01', 'label': 'dic 2021', 'to': '2022-01-01', 'key': '2021-12'}, {'from': '2021-11-01', 'label': 'nov 2021', 'to': '2021-12-01', 'key': '2021-11'}, {'from': '2021-10-01', 'label': 'oct 2021', 'to': '2021-11-01', 'key': '2021-10'}, {'from': '2021-09-01', 'label': 'sep 2021', 'to': '2021-10-01', 'key': '2021-09'}, {'from': '2021-08-01', 'label': 'ago 2021', 'to': '2021-09-01', 'key': '2021-08'}, {'from': '2021-07-01', 'label': 'jul 2021', 'to': '2021-08-01', 'key': '2021-07'}, {'from': '2021-06-01', 'label': 'jun 2021', 'to': '2021-07-01', 'key': '2021-06'}, {'from': '2021-05-01', 'label': 'may 2021', 'to': '2021-06-01', 'key': '2021-05'}, {'from': '2021-04-01', 'label': 'abr 2021', 'to': '2021-05-01', 'key': '2021-04'}, {'from': '2021-03-01', 'label': 'mar 2021', 'to': '2021-04-01', 'key': '2021-03'}, {'from': '2021-02-01', 'label': 'feb 2021', 'to': '2021-03-01', 'key': '2021-02'}, {'from': '2021-01-01', 'label': 'ene 2021', 'to': '2021-02-01', 'key': '2021-01'}, {'from': '2023-10-09', 'label': 'Última semana', 'to': '2023-10-16', 'key': '-1W'}, {'from': '2023-10-02', 'label': 'Últimas 2 semanas', 'to': '2023-10-16', 'key': '-2W'}, {'from': '2023-09-25', 'label': 'Últimas 3 semanas', 'to': '2023-10-16', 'key': '-3W'}, {'from': '2023-10-02', 'label': 'Hace 2 semanas', 'to': '2023-10-09', 'key': '-2w'}, {'from': '2023-09-25', 'label': 'Hace 3 semanas', 'to': '2023-10-02', 'key': '-3w'}, {'from': '2023-09-18', 'label': 'Hace 4 semanas', 'to': '2023-09-25', 'key': '-4w'}, {'from': '2023-09-01', 'label': 'Último mes', 'to': '2023-10-01', 'key': '-1'}, {'from': '2023-08-01', 'label': 'Últimos 2 meses', 'to': '2023-10-01', 'key': '-2'}, {'from': '2023-07-01', 'label': 'Últimos 3 meses', 'to': '2023-10-01', 'key': '-3'}, {'from': '2023-04-01', 'label': 'Últimos 6 meses', 'to': '2023-10-01', 'key': '-6'}, {'from': '2022-10-01', 'label': 'Últimos 12 meses', 'to': '2023-10-01', 'key': '-12'}, {'from': '2023-07-01', 'label': 'Q3 2023', 'to': '2023-10-01', 'key': 'Q3.2023'}, {'from': '2023-04-01', 'label': 'Q2 2023', 'to': '2023-07-01', 'key': 'Q2.2023'}, {'from': '2023-01-01', 'label': 'Q1 2023', 'to': '2023-04-01', 'key': 'Q1.2023'}, {'from': '2022-10-01', 'label': 'Q4 2022', 'to': '2023-01-01', 'key': 'Q4.2022'}, {'from': '2023-01-01', 'label': '', 'to': '2023-07-01', 'key': 'S1.2023'}, {'from': '2022-07-01', 'label': '', 'to': '2023-01-01', 'key': 'S2.2022'}, {'from': '2023-01-01', 'label': '2023', 'to': '2024-01-01', 'key': '2023'}, {'from': '2022-01-01', 'label': '2022', 'to': '2023-01-01', 'key': '2022'}, {'from': '2021-01-01', 'label': '2021', 'to': '2022-01-01', 'key': '2021'}]\n"
     ]
    }
   ],
   "source": [
    "# Ask for list with able periods\n",
    "periods_url = base_url + \"periods\"\n",
    "def get_periods(token):\n",
    "    payload = {'token': token}\n",
    "    headers = {'Content-Type': 'application/json'}\n",
    "    json_payload = json.dumps(payload)\n",
    "    r = requests.post(periods_url, data=json_payload, headers=headers)\n",
    "    if r.status_code == 200:\n",
    "        data = r.json()\n",
    "        return data['periods']\n",
    "    else:\n",
    "        print(f\"Request failed with status code {r.status_code}\")\n",
    "        return None\n",
    "# Returns an array of dicts with 4 keys: from, label, to, key\n",
    "periods = get_periods(token)\n",
    "print(periods)\n",
    "# For example, we will use the first period\n",
    "period = periods[10]\n",
    "initial_date = period['from']\n",
    "end_date = period['to']"
   ]
  },
  {
   "cell_type": "markdown",
   "metadata": {},
   "source": [
    "# Missing advertisers"
   ]
  },
  {
   "cell_type": "code",
   "execution_count": 6,
   "metadata": {},
   "outputs": [],
   "source": [
    "missing_adverts_url = base_url + \"missingAdvertisers\"\n",
    "\n",
    "def create_payload(token, initial_date, end_date, size=100, offset=0):\n",
    "    payload = {'strictPeriod': True, 'location': 'ES', 'token': token,\"period\" : \"custom\", \"customDateFrom\": initial_date, \"customDateTo\": end_date, \"offset\": offset}\n",
    "    headers = {'Content-Type': 'application/json'}\n",
    "    json_payload = json.dumps(payload)\n",
    "    return json_payload, headers\n",
    "\n",
    "def get_missing_adverts(token, scope, initial_date, end_date, size=100, offset=0):\n",
    "    payload, headers = create_payload(token, scope, initial_date, end_date, size, offset)\n",
    "    json_payload = json.dumps(payload)\n",
    "    r = requests.post(missing_adverts_url, data=json_payload, headers=headers)\n",
    "    if r.status_code == 200:\n",
    "        data = r.json()\n",
    "        return data\n",
    "    else:\n",
    "        print(f\"Request failed with status code {r.status_code}\")\n",
    "        return None\n",
    "# print(get_missing_adverts(token, scopes, initial_date, end_date))"
   ]
  },
  {
   "cell_type": "markdown",
   "metadata": {},
   "source": [
    "# Reports"
   ]
  },
  {
   "cell_type": "code",
   "execution_count": 7,
   "metadata": {},
   "outputs": [],
   "source": [
    "# reports_url = base_url + \"report\"\n",
    "# def get_reports(token, scope, primaryField, initial_date=\"2020-01-01\", final_date=\"2020-12-31\", size=100, offset=0):\n",
    "#     json_payload, headers = create_payload(token, scope, initial_date, end_date, size, offset)\n",
    "#     primary_field = {\"primaryField\" : primaryField}\n",
    "#     # Add the primaryField to the payload\n",
    "#     payload = json.loads(json_payload)\n",
    "#     payload.update(primary_field)\n",
    "#     json_payload = json.dumps(payload)\n",
    "#     r = requests.post(reports_url, data=json_payload, headers=headers)\n",
    "#     if r.status_code == 200:\n",
    "#         data = r.json()\n",
    "#         return data\n",
    "#     else:\n",
    "#         print(f\"Request failed with status code {r.status_code}\")\n",
    "#         return None\n",
    "# response = get_reports(token, scopes, \"location\", initial_date, end_date)\n",
    "# print(response)"
   ]
  },
  {
   "cell_type": "markdown",
   "metadata": {},
   "source": [
    "# Sites"
   ]
  },
  {
   "cell_type": "code",
   "execution_count": 8,
   "metadata": {},
   "outputs": [
    {
     "name": "stdout",
     "output_type": "stream",
     "text": [
      "{'total': {'offers': 263256, 'companies': 50982}, 'auth': {'token': 'VGWL3WQ4JB4HGZD7RE6KFXLMPXSCVCG445LVV7M27JMRAQK2S76Q'}, 'sites': [{'offers': 80875, 'companies': 17122, 'label': 'infojobs.net', 'key': '1963'}, {'offers': 40338, 'companies': 3875, 'label': 'es.talent.com', 'key': '4142'}, {'offers': 39185, 'companies': 13518, 'label': 'linkedin.com', 'key': '3455'}, {'offers': 37980, 'companies': 7484, 'label': 'indeed', 'key': '3427'}, {'offers': 20727, 'companies': 9269, 'label': 'jobtoday.com', 'key': '4023'}, {'offers': 14223, 'companies': 5505, 'label': 'glassdoor.com', 'key': '3933'}, {'offers': 11233, 'companies': 1030, 'label': 'empleate.gob.es', 'key': '4058'}, {'offers': 11148, 'companies': 472, 'label': 'iberempleos.es', 'key': '4254'}, {'offers': 10986, 'companies': 380, 'label': 'epreselec.com', 'key': '4186'}, {'offers': 5909, 'companies': 1191, 'label': 'monster.es', 'key': '3464'}, {'offers': 5175, 'companies': 353, 'label': 'infoempleo.com', 'key': '3451'}, {'offers': 4107, 'companies': 1, 'label': 'randstad.es', 'key': '3790'}, {'offers': 2956, 'companies': 1, 'label': 'adecco.es', 'key': '3791'}, {'offers': 2935, 'companies': 105, 'label': 'ats.bizneo.com', 'key': '4175'}, {'offers': 2588, 'companies': 1647, 'label': 'buscadordetrabajo.es', 'key': '3812'}, {'offers': 2531, 'companies': 493, 'label': 'trabajos.com', 'key': '3513'}, {'offers': 2448, 'companies': 839, 'label': 'feinaactiva.gencat.cat', 'key': '4703'}, {'offers': 2287, 'companies': 333, 'label': 'google.es', 'key': '996'}, {'offers': 2157, 'companies': 97, 'label': 'yobalia.com', 'key': '4210'}, {'offers': 2034, 'companies': 1, 'label': 'eurofirms.es', 'key': '4345'}, {'offers': 1756, 'companies': 373, 'label': 'juntadeandalucia.es', 'key': '4547'}, {'offers': 1555, 'companies': 102, 'label': 'cornerjob.com', 'key': '3466'}, {'offers': 1525, 'companies': 257, 'label': 'classificats.net', 'key': '4150'}, {'offers': 1500, 'companies': 120, 'label': 'tecnoempleo.com', 'key': '301'}, {'offers': 1307, 'companies': 1, 'label': 'pagepersonnel.es', 'key': '4352'}, {'offers': 1211, 'companies': 217, 'label': 'es.fashionjobs.com', 'key': '4133'}, {'offers': 1204, 'companies': 0, 'label': 'xaloc.diba.cat', 'key': '4621'}, {'offers': 1185, 'companies': 205, 'label': 'infofeina.com', 'key': '4126'}, {'offers': 996, 'companies': 359, 'label': 'turijobs.com', 'key': '3440'}, {'offers': 986, 'companies': 277, 'label': 'insertia.net', 'key': '4139'}, {'offers': 915, 'companies': 0, 'label': 'emprego.xunta.gal', 'key': '4548'}, {'offers': 913, 'companies': 311, 'label': 'hacesfalta.org', 'key': '4107'}, {'offers': 798, 'companies': 1, 'label': 'flexiplan.eulen.com', 'key': '4342'}, {'offers': 782, 'companies': 2, 'label': 'grupo-crit.com', 'key': '4348'}, {'offers': 774, 'companies': 315, 'label': 'jobs.universia.net', 'key': '4570'}, {'offers': 710, 'companies': 404, 'label': 'indeed-sponsored', 'key': '4751'}, {'offers': 698, 'companies': 1, 'label': 'michaelpage.es', 'key': '4351'}, {'offers': 696, 'companies': 1, 'label': 'imancorp.es', 'key': '4346'}, {'offers': 498, 'companies': 1, 'label': 'synergie.es', 'key': '4344'}, {'offers': 468, 'companies': 1, 'label': 'es.gigroup.com', 'key': '4343'}, {'offers': 464, 'companies': 44, 'label': 'successfactors.com', 'key': '4140'}, {'offers': 457, 'companies': 37, 'label': 'ticjob.es', 'key': '3514'}, {'offers': 448, 'companies': 1, 'label': 'hays.es', 'key': '4625'}, {'offers': 419, 'companies': 305, 'label': 'domestika.org', 'key': '3727'}, {'offers': 412, 'companies': 239, 'label': 'primerempleo.com', 'key': '3899'}, {'offers': 381, 'companies': 1, 'label': 'manpower.es', 'key': '4622'}, {'offers': 375, 'companies': 108, 'label': 'jobandtalent.com', 'key': '3537'}, {'offers': 372, 'companies': 1, 'label': 'construyendoempleo.com', 'key': '4509'}, {'offers': 372, 'companies': 94, 'label': 'unmejorempleo.com', 'key': '4560'}, {'offers': 365, 'companies': 3, 'label': 'navarra.es', 'key': '4650'}, {'offers': 320, 'companies': 198, 'label': 'InfoResidencias.com', 'key': '4597'}, {'offers': 314, 'companies': 170, 'label': 'trabajosdiarios.com', 'key': '4690'}, {'offers': 301, 'companies': 1, 'label': 'empleo.nortempo.com', 'key': '4349'}, {'offers': 230, 'companies': 95, 'label': 'pmfarma.es', 'key': '4155'}, {'offers': 214, 'companies': 1, 'label': 'eulen.com', 'key': '4624'}, {'offers': 195, 'companies': 80, 'label': 'hosteleo.com', 'key': '3817'}, {'offers': 193, 'companies': 6, 'label': 'bolsaempleo.alcobendas.org', 'key': '4371'}, {'offers': 182, 'companies': 1, 'label': 'jobs.telefonica.com', 'key': '4774'}, {'offers': 159, 'companies': 7, 'label': 'talentforjobs.com', 'key': '4152'}, {'offers': 156, 'companies': 47, 'label': 'hosco.com', 'key': '4162'}, {'offers': 144, 'companies': 45, 'label': 'jobfluent.com', 'key': '4066'}, {'offers': 141, 'companies': 19, 'label': 'europelanguagejobs.com', 'key': '3813'}, {'offers': 136, 'companies': 32, 'label': 'fashionunited.es', 'key': '4103'}, {'offers': 136, 'companies': 1, 'label': 'ananda.es', 'key': '4626'}, {'offers': 120, 'companies': 18, 'label': 'itjobs.es', 'key': '4207'}, {'offers': 104, 'companies': 1, 'label': 'nttdata.com', 'key': '4744'}, {'offers': 102, 'companies': 32, 'label': 'colejobs.es', 'key': '4561'}, {'offers': 83, 'companies': 3, 'label': 'proempleoingenieros.es', 'key': '4354'}, {'offers': 82, 'companies': 49, 'label': 'gastroempleo.com', 'key': '4569'}, {'offers': 77, 'companies': 10, 'label': 'gamesjobsdirect.com', 'key': '4677'}, {'offers': 63, 'companies': 1, 'label': 'catenon.com', 'key': '4613'}, {'offers': 60, 'companies': 47, 'label': 'getmanfred.com', 'key': '4623'}, {'offers': 50, 'companies': 11, 'label': 'manatal.com', 'key': '4697'}, {'offers': 47, 'companies': 30, 'label': 'teujob.es', 'key': '4689'}, {'offers': 46, 'companies': 1, 'label': 'marlex.net', 'key': '4627'}, {'offers': 28, 'companies': 7, 'label': 'JobisJob', 'key': '206'}, {'offers': 23, 'companies': 0, 'label': 'santfeliu.cat', 'key': '4372'}, {'offers': 23, 'companies': 1, 'label': 'talenthackers.net', 'key': '4478'}, {'offers': 18, 'companies': 5, 'label': 'gohire.io', 'key': '4540'}, {'offers': 15, 'companies': 6, 'label': 'farmacias.jobs', 'key': '4106'}, {'offers': 6, 'companies': 1, 'label': 'apple.com', 'key': '3535'}, {'offers': 5, 'companies': 4, 'label': 'empleate.com', 'key': '3821'}], 'echo': {'api-version': '1.0', 'period': {'from': '2023-09-01', 'label': 'Último mes', 'to': '2023-10-01', 'key': '-1'}, 'scope': 792}}\n"
     ]
    }
   ],
   "source": [
    "sites_url = base_url + \"sites\"\n",
    "def get_sites(token):\n",
    "    payload = {'token': token}\n",
    "    headers = {'Content-Type': 'application/json'}\n",
    "    json_payload = json.dumps(payload)\n",
    "    r = requests.post(sites_url, data=json_payload, headers=headers)\n",
    "    if r.status_code == 200:\n",
    "        data = r.json()\n",
    "        return data\n",
    "    else:\n",
    "        print(f\"Request failed with status code {r.status_code}\")\n",
    "        return None\n",
    "response = get_sites(token)\n",
    "print(response)"
   ]
  },
  {
   "cell_type": "markdown",
   "metadata": {},
   "source": [
    "# Offers"
   ]
  },
  {
   "cell_type": "code",
   "execution_count": 9,
   "metadata": {},
   "outputs": [
    {
     "name": "stdout",
     "output_type": "stream",
     "text": [
      "{\"strictPeriod\": true, \"location\": \"ES\", \"token\": \"VGWL3WQ4JB4HGZD7RE6KFXLMPXSCVCG445LVV7M27JMRAQK2S76Q\", \"period\": \"custom\", \"customDateFrom\": \"2023-10-09\", \"customDateTo\": \"2023-10-12\", \"offset\": 1, \"site\": \"1963\"}\n",
      "{'description': '¡Hola!¡Queremos conocerte!\\n\\n¿Te apasiona el mundo del comercio? ¿Te preocupas por los detalles? ¿Te consideras una persona dinámica? ¡Te estábamos esperando! \\n\\nCarrefour es una empresa líder en comercio de alimentación y distribución y queremos que inicies una carrera profesional llena de posibilidades con nuestros mejores profesionales. \\n\\nPretendemos que todos los días sean un aprendizaje, que crezcas y llegues tan lejos como quieras. Te ofrecemos formación a cargo de la empresa y la posibilidad de promocionar internamente para seguir creciendo con nosotros.\\n\\n¿Qué buscamos? \\n\\nCarrefour lo formamos un equipo de personas orientadas al Cliente, siempre con ganas de aprender e innovar en cuanto a la experiencia de compra en nuestras tiendas.\\n\\nPara lograr este objetivo buscamos un/a AUXILIAR DE MANTENIMIENTO \\n\\nBuscamos personas con formación técnica y experiencia en Gestión de Mantenimiento. Con adaptación a entornos dinámicos, en continua mejora de procesos y disponibilidad horaria.\\n\\nFormarás parte del equipo de Mantenimiento, asegurando el correcto funcionamiento y mantenimiento de los activos e instalaciones de tu tienda. Minimizando sus costes y optimizando la vida útil y rendimiento, con el fin de asegurar el servicio al cliente, la prevención de riesgos a los trabajadores y la imagen de la Compañía.\\n\\nFunciones: \\n\\n- Llevar a cabo todas las tareas de mantenimiento que se ejecutan en la tienda. \\n- Realizar el mantenimiento correctivo.\\n- Realizar el mantenimiento preventivo a través de trabajos periódicos en las instalaciones o en las máquinas.\\n- Realizar el mantenimiento predictivo, el cual va ligado a las rondas de mantenimiento, en el que realizarás un examen visual de todas las instalaciones.\\n\\nTe ofrecemos la oportunidad de incorporarte a una empresa líder del sector, haciendo de tu pasión por el comercio tu forma de vida.\\n\\nValoraremos todas las candidaturas interesadas y si eres la persona seleccionada para avanzar en el proceso, nos pondremos en contacto contigo para darte más detalles del puesto y conocer tu perfil.\\n\\n¡Muchas gracias!\\n-Título de FPI o grado medio en electricidad o frío industrial\\n-Experiencia de al menos un año demostrable en puestos de mantenimiento\\n-Conocimiento de instalaciones eléctricas, climatización, frío y PCI\\n-Capacidad para gestionar el consumo energético en tienda\\n-Conocimientos para la ejecución de trabajos de soldadura, carpintería, fontanería y pintura\\n-Capacidad para el trabajo en equipo\\n-Incorporación inmediata', 'postings': [{'date': '2023-10-11', 'salaryOriginal': 'Salario no disponible', 'site': {'label': 'infojobs.net', 'key': '1963'}, 'id': 4045944342, 'titleOriginal': 'Auxiliar de Mantenimiento - Hipermercado', 'url': 'https://www.infojobs.net/cullera/auxiliar-mantenimiento-hipermercado/of-i716aaf426c4416bdbcfa5c8cbf08c2'}], 'company': 'Centros Comerciales Carrefour', 'location': {'label': 'Cullera', 'key': 'ES|60|V|Cullera'}, 'category': {'label': 'Construcción - Inmobiliaria', 'key': 'CO'}, 'jobType': 'Indefinido', 'title': 'Auxiliar de mantenimiento'}\n"
     ]
    }
   ],
   "source": [
    "offers_url = base_url + \"offers\"\n",
    "def get_offers(token, initial_date, end_date, size=100, offset=0, site=None):\n",
    "    json_payload, headers = create_payload(token, initial_date, end_date, size, offset)\n",
    "    # Add the site to the payload\n",
    "    site = {\"site\" : \"1963\"}\n",
    "    payload = json.loads(json_payload)\n",
    "    payload.update(site)\n",
    "    json_payload = json.dumps(payload)\n",
    "    print(json_payload)\n",
    "    r = requests.post(offers_url, data=json_payload, headers=headers)\n",
    "    if r.status_code == 200:\n",
    "        data = r.json()\n",
    "        return data['offers']\n",
    "    else:\n",
    "        print(f\"Request failed with status code {r.status_code}\")\n",
    "        return None\n",
    "initial_date = '2023-10-09'\n",
    "end_date = '2023-10-12'\n",
    "response = get_offers(token, initial_date, end_date, size=1, offset=1)\n",
    "print(response[0])\n"
   ]
  },
  {
   "cell_type": "markdown",
   "metadata": {},
   "source": [
    "# Offers count"
   ]
  },
  {
   "cell_type": "code",
   "execution_count": 10,
   "metadata": {},
   "outputs": [
    {
     "name": "stdout",
     "output_type": "stream",
     "text": [
      "Period: 2023-10-13 - 2023-10-15\n",
      "Count: 160\n",
      "{\"strictPeriod\": true, \"location\": \"ES\", \"token\": \"VGWL3WQ4JB4HGZD7RE6KFXLMPXSCVCG445LVV7M27JMRAQK2S76Q\", \"period\": \"custom\", \"customDateFrom\": \"2023-10-13\", \"customDateTo\": \"2023-10-15\", \"offset\": 0, \"site\": \"1963\"}\n",
      "{\"strictPeriod\": true, \"location\": \"ES\", \"token\": \"VGWL3WQ4JB4HGZD7RE6KFXLMPXSCVCG445LVV7M27JMRAQK2S76Q\", \"period\": \"custom\", \"customDateFrom\": \"2023-10-13\", \"customDateTo\": \"2023-10-15\", \"offset\": 100, \"site\": \"1963\"}\n"
     ]
    }
   ],
   "source": [
    "count_url = base_url + \"count\"\n",
    "def get_count(token, initial_date, end_date):\n",
    "    payload = {'token': token, \"period\" : \"custom\", \"customDateFrom\": initial_date, \"customDateTo\": end_date, \"location\":\"ES|53|GC\"}\n",
    "    headers = {'Content-Type': 'application/json'}\n",
    "    json_payload = json.dumps(payload)\n",
    "    r = requests.post(count_url, data=json_payload, headers=headers)\n",
    "    if r.status_code == 200:\n",
    "        data = r.json()\n",
    "        return data['offers']['market']\n",
    "    else:\n",
    "        print(f\"Request failed with status code {r.status_code}\")\n",
    "        return None\n",
    "def get_all_offers(token, max_offers=1000):\n",
    "    offers = []\n",
    "    # for period in periods:\n",
    "    initial_date = '2023-10-13'\n",
    "    end_date = '2023-10-15'\n",
    "    print(f\"Period: {initial_date} - {end_date}\")\n",
    "    count = get_count(token, initial_date, end_date)\n",
    "    print(f\"Count: {count}\")\n",
    "    for index in range(0, count, 100):\n",
    "        if count - index < 100:\n",
    "            size = count - index\n",
    "        else:\n",
    "            size = 100\n",
    "        response = get_offers(token, initial_date, end_date, size=size, offset=index)\n",
    "        offers.extend(response)\n",
    "        if len(offers) >= max_offers:\n",
    "            return offers\n",
    "    return offers\n",
    "offers_news = get_all_offers(token, max_offers=1000)\n"
   ]
  },
  {
   "cell_type": "code",
   "execution_count": 11,
   "metadata": {},
   "outputs": [],
   "source": [
    "def format_offer(offer):\n",
    "    expected_keys = ['title', 'description', 'company', 'location', 'category']\n",
    "    expected_keys_post = ['date', 'site', 'id', 'url']\n",
    "    expected_keys_labeled = ['category', 'site', 'location']\n",
    "    formated_offer = {}\n",
    "    for key in expected_keys:\n",
    "        if key not in offer:\n",
    "            formated_offer[key] = None\n",
    "        else:\n",
    "            if key in expected_keys_labeled:\n",
    "                formated_offer[key] = offer[key]['label']\n",
    "            else:\n",
    "                formated_offer[key] = offer[key]\n",
    "    post = get_last_record(offer['postings'])\n",
    "    for key in expected_keys_post:\n",
    "        if key not in post:\n",
    "            formated_offer[key] = None\n",
    "        else:\n",
    "            if key in expected_keys_labeled:\n",
    "                formated_offer[key] = post[key]['label']\n",
    "            else:\n",
    "                formated_offer[key] = post[key]\n",
    "    return formated_offer\n",
    "\n",
    "def get_last_record(postings):\n",
    "    dates = []\n",
    "    for post in postings:\n",
    "        dates.append(post['date'])\n",
    "    # Get index of the last date\n",
    "    index = dates.index(max(dates))\n",
    "    return postings[index]\n",
    "\n",
    "def format_all_offers(offers):\n",
    "    formated_offers = []\n",
    "    for offer in offers:\n",
    "        formated_offers.append(format_offer(offer))\n",
    "    return formated_offers\n",
    "\n",
    "formated_offers = format_all_offers(offers_news)\n",
    "\n",
    "def set_id_oferta(offer):\n",
    "    offer['id_oferta'] = offer['id']\n",
    "    del offer['id']\n",
    "    return offer\n",
    "\n",
    "# Set the id_oferta for each offer\n",
    "formated_offers = list(map(set_id_oferta, formated_offers))\n",
    "\n",
    "with open(\"offers.txt\",'w') as f:\n",
    "    for offer in formated_offers:\n",
    "        f.write(str(offer['description']) + \"\\n\\n##############\\n\\n\")"
   ]
  },
  {
   "cell_type": "markdown",
   "metadata": {},
   "source": [
    "# Read INFOJOBS_ESTUDIOS dataset"
   ]
  },
  {
   "cell_type": "code",
   "execution_count": 12,
   "metadata": {},
   "outputs": [],
   "source": [
    "df = pd.read_json(\"INFOJOBS_ESTUDIOS.json\")\n",
    "# Delete duplicates and register from the column \"nivel\" with \"(Seleccionar)\"\n",
    "df = df[df['nivel'] != \"(Seleccionar)\"]\n",
    "expection_list = [\"(Seleccionar)\", \"(regladas)\", \"(no regladas)\", \"Grado en\", \"PCEO\", \"Teoría de la\", \"\\/\"]\n",
    "def format_denominacion(denominacion):\n",
    "    for expection in expection_list:\n",
    "        if expection in denominacion:\n",
    "            denominacion = denominacion.replace(expection, \"\")\n",
    "    return unidecode(denominacion).lower().strip()\n",
    "df[\"nivel\"] = df[\"nivel\"].apply(format_denominacion)\n",
    "df[\"denominacion\"] = df[\"denominacion\"].apply(format_denominacion)\n",
    "niveles_df = pd.read_json(\"niveles_estudio.json\")\n",
    "niveles_df['denominacion'] = niveles_df['denominacion'].apply(format_denominacion)\n",
    "# Cast from df to dict key: denominacion, value: nivel\n",
    "niveles = {}\n",
    "for denominacion, group in niveles_df.groupby('denominacion'):\n",
    "    niveles[denominacion] = int(group['id_nivel'].tolist()[0])\n",
    "# Create a dictionary\n",
    "titles = {}\n",
    "for denominacion, group in df.groupby('denominacion'):\n",
    "    titles[denominacion] = group['nivel'].tolist()"
   ]
  },
  {
   "cell_type": "markdown",
   "metadata": {},
   "source": [
    "# Custom niveles and titles"
   ]
  },
  {
   "cell_type": "code",
   "execution_count": 13,
   "metadata": {},
   "outputs": [],
   "source": [
    "# Add custom niveles\n",
    "# TODO: Las denominaciones y los títulos deben de estar en minúsculas y sin acentos\n",
    "niveles_additional = ['graduado', 'ciclo formativo', 'grado medio', 'titulacion universitaria', 'degree', 'grado superior', 'licenciado', 'diplomado', 'eso', 'fp', 'grau', 'phd', 'bacherlor', 'formacion profesional']\n",
    "niveles_medio_list = [niveles['ciclo formativo grado medio'] , niveles['formacion profesional grado medio']]\n",
    "niveles_superior_list = [niveles['ciclo formativo grado superior'] , niveles['formacion profesional grado superior']]\n",
    "niveles['grado medio o superior'] = niveles_medio_list + niveles_superior_list\n",
    "niveles['grado medio'] = niveles_medio_list\n",
    "niveles['grado superior'] = niveles_superior_list\n",
    "niveles['licenciado'] = niveles['licenciatura']\n",
    "niveles['diplomado'] = niveles['diplomatura']\n",
    "niveles['phd'] = niveles['doctorado']\n",
    "niveles['eso'] = niveles['educacion secundaria obligatoria']\n",
    "niveles['fp'] = niveles['formacion profesional grado medio'] + niveles['formacion profesional grado superior']\n",
    "niveles['grau'] = niveles['grado'] # Grado en italiano\n",
    "niveles['bachelor'] = niveles['grado'] # Grado en inglés\n",
    "niveles['formacion profesional'] = niveles['formacion profesional grado medio'] + niveles['formacion profesional grado superior']\n",
    "niveles['degree'] = niveles['grado'] # Grado en inglés\n",
    "niveles['titulacion universitaria'] = niveles['grado']\n",
    "niveles['ciclo formativo'] = niveles_medio_list + niveles_superior_list\n",
    "niveles['graduado'] = niveles['grado']\n",
    "niveles['ciclo medio'] = niveles['ciclo formativo grado medio']\n",
    "niveles['ciclo superior'] = niveles['ciclo formativo grado superior']\n",
    "niveles['grado en'] = niveles['grado']\n",
    "niveles['grado universitario'] = niveles['grado']\n",
    "del niveles['grado']\n",
    "# TODO: \"grado\" es ambigua y hay que fijarse en el entorno de la palabra\n",
    "\n",
    "# Add custom titles\n",
    "titles['grado medio'] = titles['ciclo formativo grado medio'] + titles['formacion profesional grado medio']\n",
    "titles['grado superior'] = titles['ciclo formativo grado superior'] + titles['formacion profesional grado superior']\n",
    "titles['grado medio o superior'] = titles['grado medio'] + titles['grado superior']\n",
    "titles['licenciado'] = titles['licenciatura']\n",
    "titles['diplomado'] = titles['diplomatura']\n",
    "titles['phd'] = titles['doctorado']\n",
    "titles['eso'] = titles['educacion secundaria obligatoria']\n",
    "titles['fp'] = titles['grado medio'] + titles['grado superior']\n",
    "titles['grau'] = titles['grado'] # Grado en italiano\n",
    "titles['bachelor'] = titles['grado'] # Grado en inglés\n",
    "titles['formacion profesional'] = titles['grado medio'] + titles['grado superior']\n",
    "titles['degree'] = titles['grado'] # Grado en inglés\n",
    "titles['titulacion universitaria'] = titles['grado']\n",
    "titles['ciclo formativo'] = titles['grado medio'] + titles['grado superior']\n",
    "titles['graduado'] = titles['grado']\n",
    "titles['ciclo medio'] = titles['ciclo formativo grado medio']\n",
    "titles['ciclo superior'] = titles['ciclo formativo grado superior']\n",
    "titles['grado en'] = titles['grado']\n",
    "titles['grado universitario'] = titles['grado']\n",
    "del titles['grado']"
   ]
  },
  {
   "cell_type": "code",
   "execution_count": 14,
   "metadata": {},
   "outputs": [
    {
     "data": {
      "text/plain": [
       "{'bachillerato': 50,\n",
       " 'ciclo formativo grado medio': 35,\n",
       " 'ciclo formativo grado superior': 60,\n",
       " 'diplomatura': 110,\n",
       " 'doctorado': 150,\n",
       " 'educacion secundaria obligatoria': 20,\n",
       " 'ensenanzas artisticas': 23,\n",
       " 'ensenanzas deportivas': 27,\n",
       " 'formacion profesional grado medio': 30,\n",
       " 'formacion profesional grado superior': 55,\n",
       " 'ingenieria superior': 130,\n",
       " 'ingenieria tecnica': 120,\n",
       " 'licenciatura': 140,\n",
       " 'master': 147,\n",
       " 'otros cursos y formacion no reglada': 170,\n",
       " 'otros titulos, certificaciones y carnes': 160,\n",
       " 'postgrado': 143,\n",
       " 'sin estudios': 10,\n",
       " 'grado medio o superior': [35, 30, 60, 55],\n",
       " 'grado medio': [35, 30],\n",
       " 'grado superior': [60, 55],\n",
       " 'licenciado': 140,\n",
       " 'diplomado': 110,\n",
       " 'phd': 150,\n",
       " 'eso': 20,\n",
       " 'fp': 85,\n",
       " 'grau': 125,\n",
       " 'bachelor': 125,\n",
       " 'formacion profesional': 85,\n",
       " 'degree': 125,\n",
       " 'titulacion universitaria': 125,\n",
       " 'ciclo formativo': [35, 30, 60, 55],\n",
       " 'graduado': 125,\n",
       " 'ciclo medio': 35,\n",
       " 'ciclo superior': 60,\n",
       " 'grado en': 125,\n",
       " 'grado universitario': 125}"
      ]
     },
     "execution_count": 14,
     "metadata": {},
     "output_type": "execute_result"
    }
   ],
   "source": [
    "niveles"
   ]
  },
  {
   "cell_type": "code",
   "execution_count": 32,
   "metadata": {},
   "outputs": [
    {
     "name": "stdout",
     "output_type": "stream",
     "text": [
      "'logrado en' found in the text.\n"
     ]
    }
   ],
   "source": [
    "import re\n",
    "\n",
    "text = \"· Inspecciones presenciales rutinarias e in situ en cada uno de los centros: efectuando diversos controles de ejecución de los trabajos de mantenimiento y otros servicios, nivel de calidad logrado en la prestación de los servicios generales del cliente, mediante procedimientos bien definidos y establecidos por CIAS COM. Estas inspecciones in situ y controles de calidad implican desplazarse hasta los centros del cliente por toda la Ciudad de Barcelona, por lo que se valorará disponer de carnet de conducir (especialmente el de motocicleta, o bien carné B con el que se puede conducir motocicleta).\"\n",
    "\n",
    "search_string = \"grado en\"\n",
    "pattern = r'\\b' + re.escape(search_string) + r'\\b'\n",
    "\n",
    "if re.search(pattern, text):\n",
    "    print(f\"'{search_string}' found in the text.\")\n",
    "else:\n",
    "    print(f\"'{search_string}' not found in the text.\")"
   ]
  },
  {
   "cell_type": "markdown",
   "metadata": {},
   "source": [
    "# Test search function"
   ]
  },
  {
   "cell_type": "code",
   "execution_count": 33,
   "metadata": {},
   "outputs": [],
   "source": [
    "def get_niveles(niveles, description):\n",
    "    obteined_niveles = []\n",
    "    for nivel in niveles.keys():\n",
    "        pattern = r'\\b' + re.escape(nivel) + r'\\b'\n",
    "        if re.search(pattern, description):\n",
    "            obteined_niveles.append(nivel)\n",
    "    return obteined_niveles\n",
    "\n",
    "def get_titulo(titles, description, obteined_niveles):\n",
    "    titulo = {}\n",
    "    for nivel in obteined_niveles:\n",
    "        if nivel in titles:\n",
    "            excepted_titles = titles[nivel]\n",
    "            for title in excepted_titles:\n",
    "                if title in description:\n",
    "                    titulo[nivel] = title\n",
    "    return titulo\n",
    "\n",
    "def add_nivel_to_offer(niveles, offer):\n",
    "    numerical_niveles = []\n",
    "    obteined_niveles = offer['denominacion_nivel']\n",
    "    for nivel in obteined_niveles:\n",
    "        if nivel in niveles:\n",
    "            # Verify nivel is a list\n",
    "            if isinstance(niveles[nivel], list):\n",
    "                for n in niveles[nivel]:\n",
    "                    numerical_niveles.append(n)\n",
    "            else:\n",
    "                numerical_niveles.append(niveles[nivel])\n",
    "    return numerical_niveles\n",
    "\n",
    "def get_min_and_max_nivel(offer):\n",
    "    if len(offer['numerical_niveles']) == 1:\n",
    "        return offer['numerical_niveles'][0], offer['numerical_niveles'][0]\n",
    "    return min(offer['numerical_niveles']), max(offer['numerical_niveles'])\n",
    "\n",
    "def verify_grado(titles, description, N=15):\n",
    "    # Get the index of the word \"grado\" in the description\n",
    "    index = description.find(\"grado\")\n",
    "    # Get the N words before and after the word \"grado\" in the description\n",
    "    words = description[index-N:index+N]\n",
    "    # Verify if the obtained titles are in the words\n",
    "    for title in titles[\"grado\"]:\n",
    "        if title in words:\n",
    "            return True\n",
    "    return False\n",
    "        \n",
    "\n",
    "def normalize_offer(niveles, titles, offer, estrict=False):\n",
    "    description = unidecode(offer['description']).lower()\n",
    "    # Verify if the offer description have \"Requisitos\"\n",
    "    if estrict:\n",
    "        if \"requisitos\" not in description:\n",
    "            return offer\n",
    "        # Rewrite the description, from \"requisitos\" to the end of the description\n",
    "        description = description[description.find(\"requisitos\"):]\n",
    "    obteined_niveles = get_niveles(niveles, description)\n",
    "    if len(obteined_niveles) > 0:\n",
    "        # if \"grado en\" in obteined_niveles and verify_grado(titles, description):\n",
    "        #     # Remove also from obtendied_niveles\n",
    "        #     obteined_niveles.remove(\"grado\")\n",
    "        #     if len(obteined_niveles) <= 0:\n",
    "        #         return offer\n",
    "        offer['denominacion_nivel'] = obteined_niveles\n",
    "        offer['numerical_niveles'] = add_nivel_to_offer(niveles, offer)\n",
    "        offer['min_nivel'], offer['max_nivel'] = get_min_and_max_nivel(offer)\n",
    "        obteined_titles = get_titulo(titles, description, obteined_niveles)\n",
    "        if len(obteined_titles) > 0:\n",
    "            offer['titulo'] = obteined_titles\n",
    "    return offer\n",
    "\n",
    "\n",
    "def normalize_to_infojobs_offer(niveles, titles, offers):\n",
    "    for offer in offers:\n",
    "        offer = normalize_offer(niveles, titles, offer)\n",
    "    return offers\n",
    "offers = normalize_to_infojobs_offer(niveles, titles, formated_offers)"
   ]
  },
  {
   "cell_type": "code",
   "execution_count": 34,
   "metadata": {},
   "outputs": [
    {
     "name": "stdout",
     "output_type": "stream",
     "text": [
      "{'title': 'Veterinario Supervisado para Matadero (Varios Centros)', 'description': 'Detalles del empleo\\nSalario\\n18.978 € al año\\nTipo de empleo\\nJornada completa\\nContrato indefinido\\nDescripción completa del empleo\\n¿Te has formado como Veterinario/a y te gustaría trabajar en la inspección de mataderos? ¿Tienes disponibilidad para trabajar según cuadrante con flexibilidad horaria?\\nEn Grupo EULEN estamos seleccionando un Veterinario/a para la realización de los controles oficiales fundamentalmente en la inspección post-mortem de los animales sacrificados en distintos mataderos de Madrid.\\nFunciones:\\nInspección post-mortem para garantizar la aplicación de la legislación sobre alimentos y piensos, y de las normas sobre salud y bienestar de los animales, sanidad vegetal y productos fitosanitarios.\\nInspección del canal, las vísceras y el faenado en general.\\nSeparación de todo aquello que resulte sospechoso y decomiso definitivo bajo la supervisión del veterinario oficial. Esta fase podría incluir la toma de muestras para la investigación analítica establecida o que en el futuro pueda determinarse.\\nA su vez se podría recibir el mandato de abordar alguna de las actividades correspondientes a:\\nLa preselección de los animales en el marco de la inspección ante mortem.\\nLos controles oficiales para comprobar el cumplimiento de los requisitos aplicables a:\\nLa higiene de la producción de carne.\\nLa presencia de residuos de medicamentos veterinarios y de contaminantes en los productos de origen animal destinados al consumo humano.\\nLas auditorias de buenas prácticas de higiene y los procedimientos basados en los principios de APPCC.\\nLa salud y el bienestar de los animales.\\n¿Qué te ofrecemos?\\nContrato indefinido.\\nJornada completa de Lunes a Viernes según cuadrante, con flexibilidad horaria de 2,5h.\\nIncorporación inmediata.\\nSalario: 18.978 € brutos anuales en 14 pagas.\\nCentros de trabajo: Collado Villalba, San Agustín de Guadalix, Leganés, Villarejo de Salvanés, Aranjuez, Colmenar Viejo y Getafe (Según necesidad).\\nIncorporación en empresa líder del sector servicios y dilatada experiencia en el sector.\\n#ofertadestacada\\n¿Qué puedes aportarnos?\\nLicenciatura o grado en Veterinaria por una Universidad Española o en su defecto Título de Veterinario homologado.\\nImprescindible experiencia en un puesto similar.\\nDisponibilidad horaria.\\nIncorporación inmediata.\\nFlexibilidad horaria de 2,5h de antelación.\\nSi crees que encajas con esta descripción, no dudes en inscribirte en esta oferta, ¡Estamos deseando conocerte!\\nInformación de contrataciones\\nActividad del empleo\\nPublicado hoy', 'company': 'Grupo Eulen', 'location': 'Aranjuez', 'category': 'Medicina - Salud', 'date': '2023-10-13', 'site': 'infojobs.net', 'url': 'https://www.infojobs.net/aranjuez/veterinario-supervisado-para-matadero-varios-centros/of-i97c8615aa4405697eb7058a5490f33', 'id_oferta': 4047678219, 'denominacion_nivel': ['licenciatura', 'grado en'], 'numerical_niveles': [140, 125], 'min_nivel': 125, 'max_nivel': 140, 'titulo': ['veterinaria', 'veterinaria']}\n"
     ]
    }
   ],
   "source": [
    "# Get the first offer with \"niveles\"\n",
    "for offer in offers:\n",
    "    if 'denominacion_nivel' in offer:\n",
    "        if \"grado en\" in offer['denominacion_nivel']:\n",
    "            print(offer)\n",
    "            break"
   ]
  },
  {
   "cell_type": "code",
   "execution_count": 40,
   "metadata": {},
   "outputs": [],
   "source": [
    "# Get the offer with \"denominacion_nivel\" equal to \"grado\"\n",
    "grado_offers = []\n",
    "for offer in offers:\n",
    "    if 'denominacion_nivel' in offer:\n",
    "        if \"grado en\" in offer['denominacion_nivel']:\n",
    "            grado_offers.append(offer)\n",
    "# Save the offers in test.txt\n",
    "with open(\"test.txt\", 'w') as f:\n",
    "    for offer in grado_offers:\n",
    "        f.write(str(offer['description']) + \"\\n\\n##############\\n\\n\")"
   ]
  },
  {
   "cell_type": "code",
   "execution_count": 36,
   "metadata": {},
   "outputs": [
    {
     "name": "stdout",
     "output_type": "stream",
     "text": [
      "Total ofertas:  200\n",
      "Total ofertas encontradas:  41\n",
      "Porcentaje: 20.50%\n",
      "{'grado en': 12, 'diplomatura': 11, 'grado superior': 8, 'formacion profesional': 7, 'ciclo formativo': 6, 'grado medio': 5, 'fp': 5, 'grado universitario': 4, 'licenciatura': 3, 'master': 3, 'titulacion universitaria': 2, 'eso': 2, 'postgrado': 2, 'formacion profesional grado superior': 2, 'licenciado': 1, 'graduado': 1, 'diplomado': 0, 'formacion profesional grado medio': 0, 'ingenieria tecnica': 0, 'ciclo formativo grado medio': 0}\n"
     ]
    },
    {
     "data": {
      "image/png": "[encoded data removed]",
      "text/plain": [
       "<Figure size 640x480 with 1 Axes>"
      ]
     },
     "metadata": {},
     "output_type": "display_data"
    }
   ],
   "source": [
    "# Get all the offers with \"denominacion\" and \"titulo\"\n",
    "test_offers = [offer for offer in offers if 'titulo' in offer]\n",
    "print(\"Total ofertas: \", len(offers))\n",
    "print(\"Total ofertas encontradas: \", len(test_offers))\n",
    "# print the porcentage of offers with \"denominacion\" and \"titulo\"\n",
    "percentage = len(test_offers) / len(offers) * 100\n",
    "print(\"Porcentaje: {:.2f}%\".format(percentage))\n",
    "with open(\"offers.json\", 'w') as f:\n",
    "    json.dump(test_offers, f, indent=4)\n",
    "# Print how many offers detect in test_offers for each denominacion\n",
    "obtained_denominations = {}\n",
    "for offer in test_offers:\n",
    "    for denomination in offer['denominacion_nivel']:\n",
    "        if denomination not in obtained_denominations:\n",
    "            obtained_denominations[denomination] = 0\n",
    "        else:\n",
    "            obtained_denominations[denomination] += 1\n",
    "# Sort by values\n",
    "obtained_denominations = dict(sorted(obtained_denominations.items(), key=lambda item: item[1], reverse=True))\n",
    "# And plot the results, in a bar plot\n",
    "plt.bar(obtained_denominations.keys(), obtained_denominations.values())\n",
    "plt.title(\"Distribution of denominations in encountered offers\")\n",
    "plt.xlabel(\"Denominations\")\n",
    "plt.ylabel(\"Number of offers\")\n",
    "plt.xticks(rotation=90)\n",
    "print(obtained_denominations)"
   ]
  },
  {
   "cell_type": "markdown",
   "metadata": {},
   "source": [
    "# Clasified"
   ]
  },
  {
   "cell_type": "code",
   "execution_count": 37,
   "metadata": {},
   "outputs": [],
   "source": [
    "# Get the register with \"denominacion_nivel\"\n",
    "correct = [offer for offer in test_offers if 'denominacion_nivel' in offer]\n",
    "# Save the correct offers\n",
    "with open(\"correct_offers.json\", 'w') as f:\n",
    "    json.dump(correct, f, indent=4)"
   ]
  },
  {
   "cell_type": "markdown",
   "metadata": {},
   "source": [
    "# Errors"
   ]
  },
  {
   "cell_type": "code",
   "execution_count": 38,
   "metadata": {},
   "outputs": [],
   "source": [
    "# Get the registers without \"denominacion_nivel\"\n",
    "errors = [offer for offer in offers if 'denominacion_nivel' not in offer]\n",
    "# Save the first 100 errors as json file\n",
    "with open(\"errors.json\", 'w') as f:\n",
    "    json.dump(errors[:100], f, indent=4)"
   ]
  },
  {
   "cell_type": "code",
   "execution_count": 39,
   "metadata": {},
   "outputs": [
    {
     "name": "stdout",
     "output_type": "stream",
     "text": [
      "{'description': 'Funciones - Preparar las áreas de trabajo para el servicio. - Transportar útiles y enseres necesarios para el servicio. - Controlar y revisar mercancías y objetos de uso de la sección. - Facturación y cobro a cliente/a (si se da el caso) - Se responsabilizará de que su zona de trabajo esté en perfecto orden y limpieza, así mismo su apariencia debe de ser pulcra y esmerada. - En todo momento tendrá presentes las normas básicas de higiene y manipulación de alimentos. - Preparación del comedor (menaje). - Preparación en cafetería (si aplica) de zumos, infusiones, bebidas refrescantes, etc. y colocación y recolocación en las neveras. - Colocación de menús en bandejas, revisión y distribución. - Camarero/a Barra (tareas servicio de barra). - Limpieza de sala y barra. Se ofrece Contrato: vacaciones del 10 de septiembre al 19 de octubre. Posibilidad de continuidad posterior. Horario Dos días por semana de 8.00 a 16.00 horas. 3 días de tarde de 18.00 a 22.00 horas. Se trabaja de lunes a domingo con 2 días de libranza rotativos. Salario convenio colectividades. - Formación ESO o similar - Experiencia en funciones similares', 'denominacion_nivel': ['eso'], 'numerical_niveles': [20], 'min_nivel': 20, 'max_nivel': 20}\n"
     ]
    }
   ],
   "source": [
    "new_offer = \"\"\"Funciones - Preparar las áreas de trabajo para el servicio. - Transportar útiles y enseres necesarios para el servicio. - Controlar y revisar mercancías y objetos de uso de la sección. - Facturación y cobro a cliente/a (si se da el caso) - Se responsabilizará de que su zona de trabajo esté en perfecto orden y limpieza, así mismo su apariencia debe de ser pulcra y esmerada. - En todo momento tendrá presentes las normas básicas de higiene y manipulación de alimentos. - Preparación del comedor (menaje). - Preparación en cafetería (si aplica) de zumos, infusiones, bebidas refrescantes, etc. y colocación y recolocación en las neveras. - Colocación de menús en bandejas, revisión y distribución. - Camarero/a Barra (tareas servicio de barra). - Limpieza de sala y barra. Se ofrece Contrato: vacaciones del 10 de septiembre al 19 de octubre. Posibilidad de continuidad posterior. Horario Dos días por semana de 8.00 a 16.00 horas. 3 días de tarde de 18.00 a 22.00 horas. Se trabaja de lunes a domingo con 2 días de libranza rotativos. Salario convenio colectividades. - Formación ESO o similar - Experiencia en funciones similares\"\"\"\n",
    "new_offer_output = normalize_offer(niveles, titles, {'description': new_offer})\n",
    "print(new_offer_output)"
   ]
  }
 ],
 "metadata": {
  "kernelspec": {
   "display_name": ".venv",
   "language": "python",
   "name": "python3"
  },
  "language_info": {
   "codemirror_mode": {
    "name": "ipython",
    "version": 3
   },
   "file_extension": ".py",
   "mimetype": "text/x-python",
   "name": "python",
   "nbconvert_exporter": "python",
   "pygments_lexer": "ipython3",
   "version": "3.9.16"
  }
 },
 "nbformat": 4,
 "nbformat_minor": 2
}
