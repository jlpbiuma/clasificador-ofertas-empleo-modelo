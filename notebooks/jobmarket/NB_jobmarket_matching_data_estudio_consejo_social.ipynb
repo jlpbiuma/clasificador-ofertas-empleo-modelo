{
 "cells": [
  {
   "cell_type": "markdown",
   "metadata": {},
   "source": [
    "# Import libraries"
   ]
  },
  {
   "cell_type": "code",
   "execution_count": null,
   "metadata": {},
   "outputs": [],
   "source": [
    "import pandas as pd"
   ]
  },
  {
   "cell_type": "markdown",
   "metadata": {},
   "source": [
    "# Import nacional offers"
   ]
  },
  {
   "cell_type": "code",
   "execution_count": null,
   "metadata": {},
   "outputs": [],
   "source": [
    "nacional_offers = pd.read_json('data/nacional_offers.json').dropna().reset_index(drop=True)\n",
    "print(nacional_offers.shape)"
   ]
  },
  {
   "cell_type": "markdown",
   "metadata": {},
   "source": [
    "# Import estudio consejo offers"
   ]
  },
  {
   "cell_type": "code",
   "execution_count": null,
   "metadata": {},
   "outputs": [],
   "source": [
    "estudio_consejo_social = pd.read_json('data/estudio_consejos_social_21_23.json').dropna().reset_index(drop=True)\n",
    "print(estudio_consejo_social.shape)"
   ]
  },
  {
   "cell_type": "markdown",
   "metadata": {},
   "source": [
    "# Cross by id_oferta"
   ]
  },
  {
   "cell_type": "code",
   "execution_count": null,
   "metadata": {},
   "outputs": [],
   "source": [
    "# Create a new df matching the offers and offers_infojobs on id_oferta and get all the columns\n",
    "df = pd.merge(nacional_offers, estudio_consejo_social, left_on='id_oferta', right_on='id_oferta', how='left')\n",
    "print(df.shape)\n",
    "# Drop all register with null in 'id_oferta'\n",
    "df = df.dropna(subset=['id_oferta','id_puesto_esco','palabras_empleo_texto'])\n",
    "print(df.shape)\n",
    "df.head()"
   ]
  }
 ],
 "metadata": {
  "kernelspec": {
   "display_name": ".venv",
   "language": "python",
   "name": "python3"
  },
  "language_info": {
   "name": "python",
   "version": "3.9.16"
  }
 },
 "nbformat": 4,
 "nbformat_minor": 2
}
