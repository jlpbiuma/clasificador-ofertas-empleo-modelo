{
 "cells": [
  {
   "cell_type": "markdown",
   "metadata": {},
   "source": [
    "# Import libraries"
   ]
  },
  {
   "cell_type": "code",
   "execution_count": null,
   "metadata": {},
   "outputs": [],
   "source": [
    "import pandas as pd\n",
    "import numpy as np"
   ]
  },
  {
   "cell_type": "markdown",
   "metadata": {},
   "source": [
    "# Import obtained data from API"
   ]
  },
  {
   "cell_type": "code",
   "execution_count": null,
   "metadata": {},
   "outputs": [],
   "source": [
    "# Read offers.json in the data folder\n",
    "offers = pd.read_json('./data/formated_offers_canarias.json')\n",
    "print(offers.shape)\n",
    "offers.head()"
   ]
  },
  {
   "cell_type": "markdown",
   "metadata": {},
   "source": [
    "# Import offers already classified"
   ]
  },
  {
   "cell_type": "code",
   "execution_count": null,
   "metadata": {},
   "outputs": [],
   "source": [
    "# Read ofertas_clasificadas_infojobs_jobmarket.json in the data folder\n",
    "offers_infojobs = pd.read_json('./data/estudio_fp_informatica.json')\n",
    "print(offers_infojobs.shape)\n",
    "# Drop registers with nan values in their columns\n",
    "offers_infojobs = offers_infojobs.dropna()\n",
    "print(offers_infojobs.shape)\n",
    "offers_infojobs.head()"
   ]
  },
  {
   "cell_type": "markdown",
   "metadata": {},
   "source": [
    "# Match the two df frames on id_oferta into new one"
   ]
  },
  {
   "cell_type": "code",
   "execution_count": null,
   "metadata": {},
   "outputs": [],
   "source": [
    "# Create a new df matching the offers and offers_infojobs on id_oferta and get all the columns\n",
    "df = pd.merge(offers, offers_infojobs, left_on='id_oferta', right_on='id_oferta', how='left')\n",
    "print(df.shape)\n",
    "# Drop all register with null in 'id_oferta'\n",
    "df = df.dropna(subset=['id_oferta','id_puesto_esco','palabras_empleo_texto'])\n",
    "print(df.shape)\n",
    "df.head()"
   ]
  },
  {
   "cell_type": "code",
   "execution_count": null,
   "metadata": {},
   "outputs": [],
   "source": [
    "# Calculate the non matching offers\n",
    "df['matching'] = np.where(df['id_oferta'].isnull(), 'no', 'yes')\n",
    "# Show the number of matching and non matching offers\n",
    "print(df['matching'].value_counts())\n",
    "# Delete all non matching offers\n",
    "df = df[df['matching'] == 'yes']\n",
    "# Delete duplicate offers\n",
    "df = df.drop_duplicates(subset='id_oferta', keep='first')\n",
    "# Delete the offers with \"id_puesto_esco_ull\" NaN\n",
    "df = df.dropna(subset=['id_puesto_esco'])\n",
    "print(df.shape)\n",
    "# Save to json file in the data folder\n",
    "df.to_json('./test/offers_matching_nacional_fp_informatica.json', orient='records', lines=True)\n",
    "df.head()"
   ]
  }
 ],
 "metadata": {
  "kernelspec": {
   "display_name": ".venv",
   "language": "python",
   "name": "python3"
  },
  "language_info": {
   "codemirror_mode": {
    "name": "ipython",
    "version": 3
   },
   "file_extension": ".py",
   "mimetype": "text/x-python",
   "name": "python",
   "nbconvert_exporter": "python",
   "pygments_lexer": "ipython3",
   "version": "3.9.16"
  }
 },
 "nbformat": 4,
 "nbformat_minor": 2
}
