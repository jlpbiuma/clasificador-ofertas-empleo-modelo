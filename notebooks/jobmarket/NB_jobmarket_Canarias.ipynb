{
 "cells": [
  {
   "cell_type": "markdown",
   "metadata": {},
   "source": [
    "# Import libraries"
   ]
  },
  {
   "cell_type": "code",
   "execution_count": null,
   "metadata": {},
   "outputs": [],
   "source": [
    "import pandas as pd\n",
    "import numpy as np\n",
    "import matplotlib.pyplot as plt\n",
    "import mysql.connector\n",
    "import json\n",
    "from tqdm import tqdm"
   ]
  },
  {
   "cell_type": "markdown",
   "metadata": {},
   "source": [
    "# Import data"
   ]
  },
  {
   "cell_type": "code",
   "execution_count": null,
   "metadata": {},
   "outputs": [],
   "source": [
    "# Read offers_canarias.json as a DataFrame in the folder data\n",
    "df = pd.read_json('data/offers_canarias.json', encoding='utf-8')\n",
    "# Add the column 'salaryOriginal' with NaN values\n",
    "df['salaryOriginal'] = np.nan\n",
    "# Define a custom function to access the 'label' key in a dictionary\n",
    "def get_label(d):\n",
    "    return d.get('label')\n",
    "# Apply the custom function to the 'location' and 'category' columns\n",
    "df['location'] = df['location'].apply(get_label)\n",
    "df['category'] = df['category'].apply(get_label)\n",
    "print(df.shape)\n",
    "df.head()"
   ]
  },
  {
   "cell_type": "markdown",
   "metadata": {},
   "source": [
    "# Test connection to database"
   ]
  },
  {
   "cell_type": "code",
   "execution_count": null,
   "metadata": {},
   "outputs": [],
   "source": [
    "# Test the connection to the database\n",
    "config = {\n",
    "    'user': 'root',\n",
    "    'password': 'root',\n",
    "    'host': 'localhost',\n",
    "    'database': 'test',\n",
    "    'port': 33060\n",
    "}\n",
    "\n",
    "# SELECT * FROM test.jobmarket_canarias;\n",
    "cnx = mysql.connector.connect(**config)\n",
    "cursor = cnx.cursor()"
   ]
  },
  {
   "cell_type": "markdown",
   "metadata": {},
   "source": [
    "# Declare functions"
   ]
  },
  {
   "cell_type": "code",
   "execution_count": null,
   "metadata": {},
   "outputs": [],
   "source": [
    "def execute_query(query):\n",
    "    # Read .sql file in sql folder\n",
    "    with open('sql/' + query + '.sql', 'r') as file:\n",
    "        query = file.read()\n",
    "    # Execute query\n",
    "    cursor.execute(query)\n",
    "    # Commit changes\n",
    "    cnx.commit()\n",
    "\n",
    "def get_data_from_query(query):\n",
    "    # Read .sql file in sql folder\n",
    "    with open('sql/' + query + '.sql', 'r') as file:\n",
    "        query = file.read()\n",
    "    # Execute query\n",
    "    cursor.execute(query)\n",
    "    # Fetch data\n",
    "    data = cursor.fetchall()\n",
    "    # Return data\n",
    "    return data"
   ]
  },
  {
   "cell_type": "markdown",
   "metadata": {},
   "source": [
    "# Create table"
   ]
  },
  {
   "cell_type": "code",
   "execution_count": null,
   "metadata": {},
   "outputs": [],
   "source": []
  },
  {
   "cell_type": "markdown",
   "metadata": {},
   "source": [
    "# Describe table"
   ]
  },
  {
   "cell_type": "code",
   "execution_count": null,
   "metadata": {},
   "outputs": [],
   "source": [
    "# Describe the table\n",
    "cursor.execute('DESCRIBE test.ofertas_jobmarket_canarias_21_23')\n",
    "# Print the result\n",
    "describe = cursor.fetchall()\n",
    "# Print the column names\n",
    "columns = [column[0] for column in describe]"
   ]
  },
  {
   "cell_type": "markdown",
   "metadata": {},
   "source": [
    "# Get salary"
   ]
  },
  {
   "cell_type": "code",
   "execution_count": null,
   "metadata": {},
   "outputs": [],
   "source": [
    "def get_salary_to_df(df):\n",
    "    for index, row in tqdm(df.iterrows(), total=len(df), desc=\"Processing rows\"):\n",
    "        postings = row['postings']\n",
    "        for posting in postings:\n",
    "            if 'salaryOriginal' in posting:\n",
    "                df.loc[index, 'salaryOriginal'] = posting['salaryOriginal']\n",
    "    return df\n",
    "\n",
    "df = get_salary_to_df(df)"
   ]
  },
  {
   "cell_type": "markdown",
   "metadata": {},
   "source": [
    "# Delete tables of database"
   ]
  },
  {
   "cell_type": "code",
   "execution_count": null,
   "metadata": {},
   "outputs": [],
   "source": [
    "def delete_table(cursor, table_name):\n",
    "    cursor.execute(\"DROP TABLE IF EXISTS {}\".format(table_name))\n",
    "    print(\"Finished deleting table (if existed).\")\n",
    "\n",
    "def create_table(cursor, table_name, columns):\n",
    "    cursor.execute(\"CREATE TABLE {} ({})\".format(table_name, columns))\n",
    "    print(\"Finished creating table.\")\n",
    "    \n",
    "# delete_table(cursor, 'test.ofertas_jobmarket_canarias_21_23')\n",
    "# create_table(cursor, 'test.ofertas_jobmarket_canarias_21_23', describe)"
   ]
  },
  {
   "cell_type": "markdown",
   "metadata": {},
   "source": [
    "# Import data to database"
   ]
  },
  {
   "cell_type": "code",
   "execution_count": null,
   "metadata": {},
   "outputs": [],
   "source": [
    "def import_data_to_db(df):\n",
    "    # Iterate over the rows in the DataFrame\n",
    "    for index, row in tqdm(df.iterrows(), total=len(df), desc=\"Processing rows\"):\n",
    "        # Create an object with all the columns except \"postings\"\n",
    "        row_data = row.drop('postings')\n",
    "        row_data = row_data.to_dict()\n",
    "        # Replace NaN values with None\n",
    "        for key, value in row_data.items():\n",
    "            if pd.isna(value):\n",
    "                row_data[key] = None\n",
    "        # Serialize the dictionary to a JSON string\n",
    "        row_data_json = json.dumps(row_data)\n",
    "        # Insert into the ofertas_jobmarket_canarias_21_23 table and get the id\n",
    "        try:\n",
    "            cursor.execute('INSERT INTO test.ofertas_jobmarket_canarias_21_23 ({}) VALUES ({})'.format(', '.join(row_data.keys()), ', '.join(['%s'] * len(row_data))), list(row_data.values()))\n",
    "        except mysql.connector.errors.DataError:\n",
    "            continue\n",
    "        id = cursor.lastrowid\n",
    "        cursor.commit()\n",
    "        # Add id to postings\n",
    "        row['id'] = id\n",
    "    return df\n",
    "df = import_data_to_db(df)"
   ]
  },
  {
   "cell_type": "code",
   "execution_count": null,
   "metadata": {},
   "outputs": [],
   "source": [
    "df.head()"
   ]
  },
  {
   "cell_type": "code",
   "execution_count": null,
   "metadata": {},
   "outputs": [],
   "source": [
    "def import_postings_to_db(df):\n",
    "    # Iterate over the postings_data list with a tqdm progress bar\n",
    "    for posting in tqdm(postings_data, desc=\"Inserting postings\"):\n",
    "        try:\n",
    "            # Flatten the nested dictionaries within the posting dictionary\n",
    "            flattened_posting = {\n",
    "                'date': posting['date'],\n",
    "                'site_label': posting['site']['label'],\n",
    "                'site_key': posting['site']['key'],\n",
    "                'titleOriginal': posting['titleOriginal'],\n",
    "                'url': posting['url'],\n",
    "                'id_posting': posting['id_posting'],\n",
    "                'id': posting['id']\n",
    "            }\n",
    "            # Convert the dictionary values into a list of values\n",
    "            values = list(flattened_posting.values())\n",
    "            # Generate placeholders for the SQL query\n",
    "            placeholders = ', '.join(['%s'] * len(values))\n",
    "            # Construct and execute the SQL query\n",
    "            cursor.execute(f'INSERT INTO test.postings_jobmarket_canarias_21_23 ({columns}) VALUES ({placeholders})', values)\n",
    "        except mysql.connector.errors.DataError:\n",
    "            continue\n",
    "        cnx.commit()\n",
    "# import_postings_to_db(df)"
   ]
  },
  {
   "cell_type": "markdown",
   "metadata": {},
   "source": [
    "# Test MySQL table"
   ]
  },
  {
   "cell_type": "code",
   "execution_count": null,
   "metadata": {},
   "outputs": [],
   "source": [
    "import time\n",
    "\n",
    "def timer(function=None, *args, **kwargs):\n",
    "    start = time.time()\n",
    "    data = function(*args, **kwargs)\n",
    "    end = time.time()\n",
    "    print(f\"Time elapsed: {end - start}\")\n",
    "\n",
    "def get_offers():\n",
    "    cursor.execute('SELECT * FROM test.ofertas_jobmarket_canarias_21_23')\n",
    "    data = cursor.fetchall()\n",
    "    return data\n",
    "\n",
    "def get_postings():\n",
    "    cursor.execute('SELECT * FROM test.postings_jobmarket_canarias_21_23')\n",
    "    data = cursor.fetchall()\n",
    "    return data\n",
    "\n",
    "def get_offers_and_postings():\n",
    "    query = \"\"\"\n",
    "    SELECT * FROM test.ofertas_jobmarket_canarias_21_23 AS o\n",
    "    INNER JOIN test.postings_jobmarket_canarias_21_23 AS p\n",
    "    ON o.id = p.id\n",
    "    \"\"\"\n",
    "    cursor.execute(query)\n",
    "    data = cursor.fetchall()\n",
    "    return data\n",
    "\n",
    "def get_offer_by_id(id):\n",
    "    query = f\"SELECT * FROM test.ofertas_jobmarket_canarias_21_23 WHERE id = {id}\"\n",
    "    cursor.execute(query)\n",
    "    data = cursor.fetchall()\n",
    "    return data\n",
    "\n",
    "def get_offers_by_dates(start_date, end_date):\n",
    "    query = f\"\"\"\n",
    "    SELECT * FROM test.ofertas_jobmarket_canarias_21_23\n",
    "    WHERE fecha_publicacion BETWEEN '{start_date}' AND '{end_date}'\n",
    "    \"\"\"\n",
    "    cursor.execute(query)\n",
    "    data = cursor.fetchall()\n",
    "    return data\n",
    "\n",
    "def get_offer_by_category_and_period(start_date, end_date,category):\n",
    "    query = f\"\"\"\n",
    "    SELECT categoria, count(*) FROM test.ofertas_jobmarket_canarias_21_23\n",
    "    WHERE fecha_publicacion BETWEEN '{start_date}' AND '{end_date}'\n",
    "    GROUP BY categoria\n",
    "    ORDER BY 2 DESC\n",
    "    \"\"\"\n",
    "    cursor.execute(query)\n",
    "    data = cursor.fetchall()\n",
    "    return data\n",
    "\n",
    "timer(get_offers)\n",
    "\n",
    "timer(get_postings)\n",
    "\n",
    "timer(get_offers_and_postings)\n",
    "\n",
    "timer(get_offer_by_id, 1)"
   ]
  }
 ],
 "metadata": {
  "kernelspec": {
   "display_name": ".venv",
   "language": "python",
   "name": "python3"
  },
  "language_info": {
   "codemirror_mode": {
    "name": "ipython",
    "version": 3
   },
   "file_extension": ".py",
   "mimetype": "text/x-python",
   "name": "python",
   "nbconvert_exporter": "python",
   "pygments_lexer": "ipython3",
   "version": "3.9.16"
  }
 },
 "nbformat": 4,
 "nbformat_minor": 2
}
