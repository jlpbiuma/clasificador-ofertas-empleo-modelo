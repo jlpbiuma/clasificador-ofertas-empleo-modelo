{
 "cells": [
  {
   "cell_type": "markdown",
   "metadata": {},
   "source": [
    "# Import libraries"
   ]
  },
  {
   "cell_type": "code",
   "execution_count": 1,
   "metadata": {},
   "outputs": [],
   "source": [
    "import pandas as pd\n",
    "import numpy as np\n",
    "import matplotlib.pyplot as plt\n",
    "import mysql.connector\n",
    "import json\n",
    "from tqdm import tqdm"
   ]
  },
  {
   "cell_type": "markdown",
   "metadata": {},
   "source": [
    "# Import data"
   ]
  },
  {
   "cell_type": "code",
   "execution_count": 2,
   "metadata": {},
   "outputs": [
    {
     "name": "stdout",
     "output_type": "stream",
     "text": [
      "Index(['description', 'postings', 'company', 'location', 'category', 'jobType',\n",
      "       'title', 'numberOfVacancies', 'salaryOriginal'],\n",
      "      dtype='object')\n",
      "(156676, 9)\n"
     ]
    },
    {
     "data": {
      "text/html": [
       "<div>\n",
       "<style scoped>\n",
       "    .dataframe tbody tr th:only-of-type {\n",
       "        vertical-align: middle;\n",
       "    }\n",
       "\n",
       "    .dataframe tbody tr th {\n",
       "        vertical-align: top;\n",
       "    }\n",
       "\n",
       "    .dataframe thead th {\n",
       "        text-align: right;\n",
       "    }\n",
       "</style>\n",
       "<table border=\"1\" class=\"dataframe\">\n",
       "  <thead>\n",
       "    <tr style=\"text-align: right;\">\n",
       "      <th></th>\n",
       "      <th>description</th>\n",
       "      <th>postings</th>\n",
       "      <th>company</th>\n",
       "      <th>location</th>\n",
       "      <th>category</th>\n",
       "      <th>jobType</th>\n",
       "      <th>title</th>\n",
       "      <th>numberOfVacancies</th>\n",
       "      <th>salaryOriginal</th>\n",
       "    </tr>\n",
       "  </thead>\n",
       "  <tbody>\n",
       "    <tr>\n",
       "      <th>0</th>\n",
       "      <td>Búsqueda y captación de clientes para la venta...</td>\n",
       "      <td>[{'date': '2021-01-01', 'site': {'label': 'gla...</td>\n",
       "      <td>MGS Seguros y Reaseguros</td>\n",
       "      <td>Santa Cruz de Tenerife</td>\n",
       "      <td>Finanzas - Economía</td>\n",
       "      <td>Indefinido</td>\n",
       "      <td>Asesor Profesional de Seguros</td>\n",
       "      <td>NaN</td>\n",
       "      <td>NaN</td>\n",
       "    </tr>\n",
       "    <tr>\n",
       "      <th>1</th>\n",
       "      <td>¿Quieres unirte a nosotros y trabajar en un en...</td>\n",
       "      <td>[{'date': '2021-03-19', 'site': {'label': 'es....</td>\n",
       "      <td>Grupo Eulen</td>\n",
       "      <td>Las Palmas de Gran Canaria</td>\n",
       "      <td>Medicina - Salud</td>\n",
       "      <td>Indefinido</td>\n",
       "      <td>Enfermería</td>\n",
       "      <td>NaN</td>\n",
       "      <td>NaN</td>\n",
       "    </tr>\n",
       "    <tr>\n",
       "      <th>2</th>\n",
       "      <td>Si está buscando trabajo en el sector inmobili...</td>\n",
       "      <td>[{'date': '2021-01-01', 'site': {'label': 'gla...</td>\n",
       "      <td>Century 21</td>\n",
       "      <td>Santa Cruz de Tenerife</td>\n",
       "      <td>Comercial - Ventas</td>\n",
       "      <td>Indefinido</td>\n",
       "      <td>Asesor Inmobiliario</td>\n",
       "      <td>NaN</td>\n",
       "      <td>NaN</td>\n",
       "    </tr>\n",
       "    <tr>\n",
       "      <th>3</th>\n",
       "      <td>Buscamos un/a apasionad@ del ciclismo, que le ...</td>\n",
       "      <td>[{'date': '2021-07-16', 'site': {'label': 'gla...</td>\n",
       "      <td>Decathlon España</td>\n",
       "      <td>La Laguna</td>\n",
       "      <td>Retail</td>\n",
       "      <td>Tiempo Parcial</td>\n",
       "      <td>VENDEDOR DEPORTISTA DEL CICLISMO Decathlon La ...</td>\n",
       "      <td>NaN</td>\n",
       "      <td>NaN</td>\n",
       "    </tr>\n",
       "    <tr>\n",
       "      <th>4</th>\n",
       "      <td>Descripción:\\n¡Ampliamos nuestro equipo técnic...</td>\n",
       "      <td>[{'date': '2021-01-01', 'site': {'label': 'gla...</td>\n",
       "      <td>Oesia - Oesía Networks</td>\n",
       "      <td>Canarias</td>\n",
       "      <td>IT - Sistemas - Tecnología</td>\n",
       "      <td>Indefinido</td>\n",
       "      <td>Analista Senior de Ciberseguridad</td>\n",
       "      <td>8.0</td>\n",
       "      <td>NaN</td>\n",
       "    </tr>\n",
       "  </tbody>\n",
       "</table>\n",
       "</div>"
      ],
      "text/plain": [
       "                                         description  \\\n",
       "0  Búsqueda y captación de clientes para la venta...   \n",
       "1  ¿Quieres unirte a nosotros y trabajar en un en...   \n",
       "2  Si está buscando trabajo en el sector inmobili...   \n",
       "3  Buscamos un/a apasionad@ del ciclismo, que le ...   \n",
       "4  Descripción:\\n¡Ampliamos nuestro equipo técnic...   \n",
       "\n",
       "                                            postings  \\\n",
       "0  [{'date': '2021-01-01', 'site': {'label': 'gla...   \n",
       "1  [{'date': '2021-03-19', 'site': {'label': 'es....   \n",
       "2  [{'date': '2021-01-01', 'site': {'label': 'gla...   \n",
       "3  [{'date': '2021-07-16', 'site': {'label': 'gla...   \n",
       "4  [{'date': '2021-01-01', 'site': {'label': 'gla...   \n",
       "\n",
       "                    company                    location  \\\n",
       "0  MGS Seguros y Reaseguros      Santa Cruz de Tenerife   \n",
       "1               Grupo Eulen  Las Palmas de Gran Canaria   \n",
       "2                Century 21      Santa Cruz de Tenerife   \n",
       "3          Decathlon España                   La Laguna   \n",
       "4    Oesia - Oesía Networks                    Canarias   \n",
       "\n",
       "                     category         jobType  \\\n",
       "0         Finanzas - Economía      Indefinido   \n",
       "1            Medicina - Salud      Indefinido   \n",
       "2          Comercial - Ventas      Indefinido   \n",
       "3                      Retail  Tiempo Parcial   \n",
       "4  IT - Sistemas - Tecnología      Indefinido   \n",
       "\n",
       "                                               title  numberOfVacancies  \\\n",
       "0                      Asesor Profesional de Seguros                NaN   \n",
       "1                                         Enfermería                NaN   \n",
       "2                                Asesor Inmobiliario                NaN   \n",
       "3  VENDEDOR DEPORTISTA DEL CICLISMO Decathlon La ...                NaN   \n",
       "4                  Analista Senior de Ciberseguridad                8.0   \n",
       "\n",
       "   salaryOriginal  \n",
       "0             NaN  \n",
       "1             NaN  \n",
       "2             NaN  \n",
       "3             NaN  \n",
       "4             NaN  "
      ]
     },
     "execution_count": 2,
     "metadata": {},
     "output_type": "execute_result"
    }
   ],
   "source": [
    "# Read offers_canarias.json as a DataFrame in the folder data\n",
    "df = pd.read_json('data/offers_canarias.json', encoding='utf-8')\n",
    "# Add the column 'salaryOriginal' with NaN values\n",
    "df['salaryOriginal'] = np.nan\n",
    "# Define a custom function to access the 'label' key in a dictionary\n",
    "def get_label(d):\n",
    "    return d.get('label')\n",
    "# Apply the custom function to the 'location' and 'category' columns\n",
    "df['location'] = df['location'].apply(get_label)\n",
    "df['category'] = df['category'].apply(get_label)\n",
    "print(df.columns)\n",
    "print(df.shape)\n",
    "df.head()"
   ]
  },
  {
   "cell_type": "markdown",
   "metadata": {},
   "source": [
    "# Test connection to database"
   ]
  },
  {
   "cell_type": "code",
   "execution_count": 3,
   "metadata": {},
   "outputs": [
    {
     "name": "stdout",
     "output_type": "stream",
     "text": [
      "[(21188, 'Búsqueda y captación de clientes para la venta de seguros. Realización de labores administrativa y gestión de siniestros.\\nTipo de puesto: Jornada completa\\nSalario: 13.968,00€-18.000,00€ al año\\nExperiencia:\\nComercial: 1 año (Requisito deseable)\\nUbicación:\\nSanta Cruz de Tenerife, Santa Cruz de Tenerife provincia (Requisito mínimo)\\nFecha de incorporación:\\nInmediatamente (Requisito deseable)\\nComercial:\\nDe 1 a 2 años (Requisito deseable)\\nTareas del puesto:\\nAdministrar varias cuentas, asegurando que se mantenga un nivel alto de retención y satisfacción del cliente\\nCumplir con las cuotas mensuales\\nTratar con múltiples clientes a diario, generando nuevos clientes y desarrollando campañas para mantener la lealtad de los mismos\\nImplementar estrategias para retener a los clientes que soliciten cancelar o reducir su cuenta\\nTrabajar desde casa:\\nSí', 'Asesor Profesional de Seguros', 'MGS Seguros y Reaseguros', 'Santa Cruz de Tenerife', 'Finanzas - Economía', 'Indefinido', None, None), (21189, 'Búsqueda y captación de clientes para la venta de seguros. Realización de labores administrativa y gestión de siniestros.\\nTipo de puesto: Jornada completa\\nSalario: 13.968,00€-18.000,00€ al año\\nExperiencia:\\nComercial: 1 año (Requisito deseable)\\nUbicación:\\nSanta Cruz de Tenerife, Santa Cruz de Tenerife provincia (Requisito mínimo)\\nFecha de incorporación:\\nInmediatamente (Requisito deseable)\\nComercial:\\nDe 1 a 2 años (Requisito deseable)\\nTareas del puesto:\\nAdministrar varias cuentas, asegurando que se mantenga un nivel alto de retención y satisfacción del cliente\\nCumplir con las cuotas mensuales\\nTratar con múltiples clientes a diario, generando nuevos clientes y desarrollando campañas para mantener la lealtad de los mismos\\nImplementar estrategias para retener a los clientes que soliciten cancelar o reducir su cuenta\\nTrabajar desde casa:\\nSí', 'Asesor Profesional de Seguros', 'MGS Seguros y Reaseguros', 'Santa Cruz de Tenerife', 'Finanzas - Economía', 'Indefinido', None, None)]\n",
      "[]\n"
     ]
    }
   ],
   "source": [
    "# Test the connection to the database\n",
    "config = {\n",
    "    'user': 'root',\n",
    "    'password': 'root',\n",
    "    'host': 'localhost',\n",
    "    'database': 'test',\n",
    "    'port': '3306'\n",
    "}\n",
    "\n",
    "# SELECT * FROM test.jobmarket_canarias;\n",
    "cnx = mysql.connector.connect(**config)\n",
    "cursor = cnx.cursor()\n",
    "cursor.execute('SELECT * FROM test.ofertas_jobmarket_canarias_21_23')\n",
    "print(cursor.fetchall())\n",
    "\n",
    "cursor.execute('SELECT * FROM test.postings_jobmarket_canarias_21_23')\n",
    "print(cursor.fetchall())"
   ]
  },
  {
   "cell_type": "markdown",
   "metadata": {},
   "source": [
    "# Describe table"
   ]
  },
  {
   "cell_type": "code",
   "execution_count": 4,
   "metadata": {},
   "outputs": [],
   "source": [
    "# Describe the table\n",
    "cursor.execute('DESCRIBE test.ofertas_jobmarket_canarias_21_23')\n",
    "# Print the result\n",
    "describe = cursor.fetchall()\n",
    "# Print the column names\n",
    "columns = [column[0] for column in describe]"
   ]
  },
  {
   "cell_type": "markdown",
   "metadata": {},
   "source": [
    "# Import data to database"
   ]
  },
  {
   "cell_type": "code",
   "execution_count": 8,
   "metadata": {},
   "outputs": [
    {
     "ename": "KeyboardInterrupt",
     "evalue": "",
     "output_type": "error",
     "traceback": [
      "\u001b[0;31m---------------------------------------------------------------------------\u001b[0m",
      "\u001b[0;31mKeyboardInterrupt\u001b[0m                         Traceback (most recent call last)",
      "\u001b[1;32m/home/fulp/clasificador_ofertas_empleo/clasificador-ofertas-empleo-modelo/notebooks/jobmarket/NB_jobmarket_Canarias.ipynb Cell 10\u001b[0m line \u001b[0;36m3\n\u001b[1;32m     <a href='vscode-notebook-cell://ssh-remote%2B192.168.70.205/home/fulp/clasificador_ofertas_empleo/clasificador-ofertas-empleo-modelo/notebooks/jobmarket/NB_jobmarket_Canarias.ipynb#X20sdnNjb2RlLXJlbW90ZQ%3D%3D?line=27'>28</a>\u001b[0m \u001b[39m# Verify if 'salaryOriginal' is in the posting\u001b[39;00m\n\u001b[1;32m     <a href='vscode-notebook-cell://ssh-remote%2B192.168.70.205/home/fulp/clasificador_ofertas_empleo/clasificador-ofertas-empleo-modelo/notebooks/jobmarket/NB_jobmarket_Canarias.ipynb#X20sdnNjb2RlLXJlbW90ZQ%3D%3D?line=28'>29</a>\u001b[0m \u001b[39mif\u001b[39;00m \u001b[39m'\u001b[39m\u001b[39msalaryOriginal\u001b[39m\u001b[39m'\u001b[39m \u001b[39min\u001b[39;00m posting:\n\u001b[1;32m     <a href='vscode-notebook-cell://ssh-remote%2B192.168.70.205/home/fulp/clasificador_ofertas_empleo/clasificador-ofertas-empleo-modelo/notebooks/jobmarket/NB_jobmarket_Canarias.ipynb#X20sdnNjb2RlLXJlbW90ZQ%3D%3D?line=29'>30</a>\u001b[0m     \u001b[39m# Then update the record inserted in ofertas_jobmarket_canarias_21_23 and add the salaryOriginal\u001b[39;00m\n\u001b[0;32m---> <a href='vscode-notebook-cell://ssh-remote%2B192.168.70.205/home/fulp/clasificador_ofertas_empleo/clasificador-ofertas-empleo-modelo/notebooks/jobmarket/NB_jobmarket_Canarias.ipynb#X20sdnNjb2RlLXJlbW90ZQ%3D%3D?line=30'>31</a>\u001b[0m     cursor\u001b[39m.\u001b[39;49mexecute(\u001b[39m'\u001b[39;49m\u001b[39mUPDATE test.ofertas_jobmarket_canarias_21_23 SET salaryOriginal = \u001b[39;49m\u001b[39m%s\u001b[39;49;00m\u001b[39m WHERE id = \u001b[39;49m\u001b[39m%s\u001b[39;49;00m\u001b[39m'\u001b[39;49m, (posting[\u001b[39m'\u001b[39;49m\u001b[39msalaryOriginal\u001b[39;49m\u001b[39m'\u001b[39;49m], \u001b[39mid\u001b[39;49m))\n\u001b[1;32m     <a href='vscode-notebook-cell://ssh-remote%2B192.168.70.205/home/fulp/clasificador_ofertas_empleo/clasificador-ofertas-empleo-modelo/notebooks/jobmarket/NB_jobmarket_Canarias.ipynb#X20sdnNjb2RlLXJlbW90ZQ%3D%3D?line=31'>32</a>\u001b[0m \u001b[39m# Replace NaN values with None in posting\u001b[39;00m\n\u001b[1;32m     <a href='vscode-notebook-cell://ssh-remote%2B192.168.70.205/home/fulp/clasificador_ofertas_empleo/clasificador-ofertas-empleo-modelo/notebooks/jobmarket/NB_jobmarket_Canarias.ipynb#X20sdnNjb2RlLXJlbW90ZQ%3D%3D?line=32'>33</a>\u001b[0m \u001b[39mfor\u001b[39;00m key, value \u001b[39min\u001b[39;00m posting\u001b[39m.\u001b[39mitems():\n",
      "File \u001b[0;32m~/clasificador_ofertas_empleo/clasificador-ofertas-empleo-modelo/.venv/lib64/python3.9/site-packages/mysql/connector/cursor_cext.py:330\u001b[0m, in \u001b[0;36mCMySQLCursor.execute\u001b[0;34m(self, operation, params, multi)\u001b[0m\n\u001b[1;32m    325\u001b[0m             \u001b[39mraise\u001b[39;00m ProgrammingError(\n\u001b[1;32m    326\u001b[0m                 \u001b[39m\"\u001b[39m\u001b[39mNot all parameters were used in the SQL statement\u001b[39m\u001b[39m\"\u001b[39m\n\u001b[1;32m    327\u001b[0m             )\n\u001b[1;32m    329\u001b[0m \u001b[39mtry\u001b[39;00m:\n\u001b[0;32m--> 330\u001b[0m     result \u001b[39m=\u001b[39m \u001b[39mself\u001b[39;49m\u001b[39m.\u001b[39;49m_cnx\u001b[39m.\u001b[39;49mcmd_query(\n\u001b[1;32m    331\u001b[0m         stmt,\n\u001b[1;32m    332\u001b[0m         raw\u001b[39m=\u001b[39;49m\u001b[39mself\u001b[39;49m\u001b[39m.\u001b[39;49m_raw,\n\u001b[1;32m    333\u001b[0m         buffered\u001b[39m=\u001b[39;49m\u001b[39mself\u001b[39;49m\u001b[39m.\u001b[39;49m_buffered,\n\u001b[1;32m    334\u001b[0m         raw_as_string\u001b[39m=\u001b[39;49m\u001b[39mself\u001b[39;49m\u001b[39m.\u001b[39;49m_raw_as_string,\n\u001b[1;32m    335\u001b[0m     )\n\u001b[1;32m    336\u001b[0m \u001b[39mexcept\u001b[39;00m MySQLInterfaceError \u001b[39mas\u001b[39;00m err:\n\u001b[1;32m    337\u001b[0m     \u001b[39mraise\u001b[39;00m get_mysql_exception(\n\u001b[1;32m    338\u001b[0m         msg\u001b[39m=\u001b[39merr\u001b[39m.\u001b[39mmsg, errno\u001b[39m=\u001b[39merr\u001b[39m.\u001b[39merrno, sqlstate\u001b[39m=\u001b[39merr\u001b[39m.\u001b[39msqlstate\n\u001b[1;32m    339\u001b[0m     ) \u001b[39mfrom\u001b[39;00m \u001b[39merr\u001b[39;00m\n",
      "File \u001b[0;32m~/clasificador_ofertas_empleo/clasificador-ofertas-empleo-modelo/.venv/lib64/python3.9/site-packages/mysql/connector/opentelemetry/context_propagation.py:77\u001b[0m, in \u001b[0;36mwith_context_propagation.<locals>.wrapper\u001b[0;34m(cnx, *args, **kwargs)\u001b[0m\n\u001b[1;32m     75\u001b[0m \u001b[39m\u001b[39m\u001b[39m\"\"\"Context propagation decorator.\"\"\"\u001b[39;00m\n\u001b[1;32m     76\u001b[0m \u001b[39mif\u001b[39;00m \u001b[39mnot\u001b[39;00m OTEL_ENABLED \u001b[39mor\u001b[39;00m \u001b[39mnot\u001b[39;00m cnx\u001b[39m.\u001b[39motel_context_propagation:\n\u001b[0;32m---> 77\u001b[0m     \u001b[39mreturn\u001b[39;00m method(cnx, \u001b[39m*\u001b[39;49margs, \u001b[39m*\u001b[39;49m\u001b[39m*\u001b[39;49mkwargs)\n\u001b[1;32m     79\u001b[0m current_span \u001b[39m=\u001b[39m trace\u001b[39m.\u001b[39mget_current_span()\n\u001b[1;32m     80\u001b[0m tp_header \u001b[39m=\u001b[39m \u001b[39mNone\u001b[39;00m\n",
      "File \u001b[0;32m~/clasificador_ofertas_empleo/clasificador-ofertas-empleo-modelo/.venv/lib64/python3.9/site-packages/mysql/connector/connection_cext.py:639\u001b[0m, in \u001b[0;36mCMySQLConnection.cmd_query\u001b[0;34m(self, query, raw, buffered, raw_as_string)\u001b[0m\n\u001b[1;32m    637\u001b[0m     \u001b[39mif\u001b[39;00m \u001b[39mnot\u001b[39;00m \u001b[39misinstance\u001b[39m(query, \u001b[39mbytes\u001b[39m):\n\u001b[1;32m    638\u001b[0m         query \u001b[39m=\u001b[39m query\u001b[39m.\u001b[39mencode(\u001b[39m\"\u001b[39m\u001b[39mutf-8\u001b[39m\u001b[39m\"\u001b[39m)\n\u001b[0;32m--> 639\u001b[0m     \u001b[39mself\u001b[39;49m\u001b[39m.\u001b[39;49m_cmysql\u001b[39m.\u001b[39;49mquery(\n\u001b[1;32m    640\u001b[0m         query,\n\u001b[1;32m    641\u001b[0m         raw\u001b[39m=\u001b[39;49mraw,\n\u001b[1;32m    642\u001b[0m         buffered\u001b[39m=\u001b[39;49mbuffered,\n\u001b[1;32m    643\u001b[0m         raw_as_string\u001b[39m=\u001b[39;49mraw_as_string,\n\u001b[1;32m    644\u001b[0m         query_attrs\u001b[39m=\u001b[39;49m\u001b[39mself\u001b[39;49m\u001b[39m.\u001b[39;49mquery_attrs,\n\u001b[1;32m    645\u001b[0m     )\n\u001b[1;32m    646\u001b[0m \u001b[39mexcept\u001b[39;00m MySQLInterfaceError \u001b[39mas\u001b[39;00m err:\n\u001b[1;32m    647\u001b[0m     \u001b[39mraise\u001b[39;00m get_mysql_exception(\n\u001b[1;32m    648\u001b[0m         err\u001b[39m.\u001b[39merrno, msg\u001b[39m=\u001b[39merr\u001b[39m.\u001b[39mmsg, sqlstate\u001b[39m=\u001b[39merr\u001b[39m.\u001b[39msqlstate\n\u001b[1;32m    649\u001b[0m     ) \u001b[39mfrom\u001b[39;00m \u001b[39merr\u001b[39;00m\n",
      "\u001b[0;31mKeyboardInterrupt\u001b[0m: "
     ]
    }
   ],
   "source": [
    "# Create a list to store the values you want to insert into the postings table\n",
    "postings_data = []\n",
    "# Iterate over the rows in the DataFrame\n",
    "for index, row in tqdm(df.iterrows(), total=len(df), desc=\"Processing rows\"):\n",
    "    # Create a list of dictionaries with the postings\n",
    "    postings = row['postings']\n",
    "    # Create an object with all the columns except \"postings\"\n",
    "    row_data = row.drop('postings')\n",
    "    row_data = row_data.to_dict()\n",
    "    # Replace NaN values with None\n",
    "    for key, value in row_data.items():\n",
    "        if pd.isna(value):\n",
    "            row_data[key] = None\n",
    "    # Serialize the dictionary to a JSON string\n",
    "    row_data_json = json.dumps(row_data)\n",
    "    # Insert into the ofertas_jobmarket_canarias_21_23 table and get the id\n",
    "    try:\n",
    "        cursor.execute('INSERT INTO test.ofertas_jobmarket_canarias_21_23 ({}) VALUES ({})'.format(', '.join(row_data.keys()), ', '.join(['%s'] * len(row_data))), list(row_data.values()))\n",
    "    except mysql.connector.errors.IntegrityError:\n",
    "        continue\n",
    "    id = cursor.lastrowid\n",
    "    # Create a for loop over the postings list\n",
    "    for posting in postings:\n",
    "        # Rename the actual id in posting to id_posting\n",
    "        posting['id_posting'] = posting.pop('id')\n",
    "        # Add the id of the ofertas_jobmarket_canarias_21_23 table to the posting\n",
    "        posting['id'] = id\n",
    "        # Verify if 'salaryOriginal' is in the posting\n",
    "        if 'salaryOriginal' in posting:\n",
    "            # Then update the record inserted in ofertas_jobmarket_canarias_21_23 and add the salaryOriginal\n",
    "            cursor.execute('UPDATE test.ofertas_jobmarket_canarias_21_23 SET salaryOriginal = %s WHERE id = %s', (posting['salaryOriginal'], id))\n",
    "        # Replace NaN values with None in posting\n",
    "        for key, value in posting.items():\n",
    "            if pd.isna(value):\n",
    "                posting[key] = None\n",
    "        # Append the posting data to the list\n",
    "        postings_data.append(posting)\n",
    "    cnx.commit()\n",
    "# Iterate over the postings_data list with a tqdm progress bar\n",
    "for posting in tqdm(postings_data, desc=\"Inserting postings\"):\n",
    "    try:\n",
    "        cursor.execute('INSERT INTO test.postings_jobmarket_canarias_21_23 ({}) VALUES ({})'.format(', '.join(posting.keys()), ', '.join(['%s'] * len(posting))), list(posting.values()))\n",
    "    except mysql.connector.errors.IntegrityError:\n",
    "        continue\n",
    "    cnx.commit()"
   ]
  }
 ],
 "metadata": {
  "kernelspec": {
   "display_name": ".venv",
   "language": "python",
   "name": "python3"
  },
  "language_info": {
   "codemirror_mode": {
    "name": "ipython",
    "version": 3
   },
   "file_extension": ".py",
   "mimetype": "text/x-python",
   "name": "python",
   "nbconvert_exporter": "python",
   "pygments_lexer": "ipython3",
   "version": "3.9.16"
  }
 },
 "nbformat": 4,
 "nbformat_minor": 2
}
