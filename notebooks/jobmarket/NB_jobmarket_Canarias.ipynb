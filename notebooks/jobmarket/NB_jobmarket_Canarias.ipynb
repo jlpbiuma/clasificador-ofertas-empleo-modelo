{
 "cells": [
  {
   "cell_type": "markdown",
   "metadata": {},
   "source": [
    "# Import libraries"
   ]
  },
  {
   "cell_type": "code",
   "execution_count": 1,
   "metadata": {},
   "outputs": [],
   "source": [
    "import pandas as pd\n",
    "import numpy as np\n",
    "import matplotlib.pyplot as plt\n",
    "import mysql.connector\n",
    "import json\n",
    "from tqdm import tqdm\n",
    "import os"
   ]
  },
  {
   "cell_type": "markdown",
   "metadata": {},
   "source": [
    "# Import data"
   ]
  },
  {
   "cell_type": "code",
   "execution_count": 2,
   "metadata": {},
   "outputs": [
    {
     "name": "stdout",
     "output_type": "stream",
     "text": [
      "(156676, 9)\n"
     ]
    },
    {
     "data": {
      "text/html": [
       "<div>\n",
       "<style scoped>\n",
       "    .dataframe tbody tr th:only-of-type {\n",
       "        vertical-align: middle;\n",
       "    }\n",
       "\n",
       "    .dataframe tbody tr th {\n",
       "        vertical-align: top;\n",
       "    }\n",
       "\n",
       "    .dataframe thead th {\n",
       "        text-align: right;\n",
       "    }\n",
       "</style>\n",
       "<table border=\"1\" class=\"dataframe\">\n",
       "  <thead>\n",
       "    <tr style=\"text-align: right;\">\n",
       "      <th></th>\n",
       "      <th>description</th>\n",
       "      <th>postings</th>\n",
       "      <th>company</th>\n",
       "      <th>location</th>\n",
       "      <th>category</th>\n",
       "      <th>jobType</th>\n",
       "      <th>title</th>\n",
       "      <th>numberOfVacancies</th>\n",
       "      <th>salaryOriginal</th>\n",
       "    </tr>\n",
       "  </thead>\n",
       "  <tbody>\n",
       "    <tr>\n",
       "      <th>0</th>\n",
       "      <td>Búsqueda y captación de clientes para la venta...</td>\n",
       "      <td>[{'date': '2021-01-01', 'site': {'label': 'gla...</td>\n",
       "      <td>MGS Seguros y Reaseguros</td>\n",
       "      <td>Santa Cruz de Tenerife</td>\n",
       "      <td>Finanzas - Economía</td>\n",
       "      <td>Indefinido</td>\n",
       "      <td>Asesor Profesional de Seguros</td>\n",
       "      <td>NaN</td>\n",
       "      <td>NaN</td>\n",
       "    </tr>\n",
       "    <tr>\n",
       "      <th>1</th>\n",
       "      <td>¿Quieres unirte a nosotros y trabajar en un en...</td>\n",
       "      <td>[{'date': '2021-03-19', 'site': {'label': 'es....</td>\n",
       "      <td>Grupo Eulen</td>\n",
       "      <td>Las Palmas de Gran Canaria</td>\n",
       "      <td>Medicina - Salud</td>\n",
       "      <td>Indefinido</td>\n",
       "      <td>Enfermería</td>\n",
       "      <td>NaN</td>\n",
       "      <td>NaN</td>\n",
       "    </tr>\n",
       "    <tr>\n",
       "      <th>2</th>\n",
       "      <td>Si está buscando trabajo en el sector inmobili...</td>\n",
       "      <td>[{'date': '2021-01-01', 'site': {'label': 'gla...</td>\n",
       "      <td>Century 21</td>\n",
       "      <td>Santa Cruz de Tenerife</td>\n",
       "      <td>Comercial - Ventas</td>\n",
       "      <td>Indefinido</td>\n",
       "      <td>Asesor Inmobiliario</td>\n",
       "      <td>NaN</td>\n",
       "      <td>NaN</td>\n",
       "    </tr>\n",
       "    <tr>\n",
       "      <th>3</th>\n",
       "      <td>Buscamos un/a apasionad@ del ciclismo, que le ...</td>\n",
       "      <td>[{'date': '2021-07-16', 'site': {'label': 'gla...</td>\n",
       "      <td>Decathlon España</td>\n",
       "      <td>La Laguna</td>\n",
       "      <td>Retail</td>\n",
       "      <td>Tiempo Parcial</td>\n",
       "      <td>VENDEDOR DEPORTISTA DEL CICLISMO Decathlon La ...</td>\n",
       "      <td>NaN</td>\n",
       "      <td>NaN</td>\n",
       "    </tr>\n",
       "    <tr>\n",
       "      <th>4</th>\n",
       "      <td>Descripción:\\n¡Ampliamos nuestro equipo técnic...</td>\n",
       "      <td>[{'date': '2021-01-01', 'site': {'label': 'gla...</td>\n",
       "      <td>Oesia - Oesía Networks</td>\n",
       "      <td>Canarias</td>\n",
       "      <td>IT - Sistemas - Tecnología</td>\n",
       "      <td>Indefinido</td>\n",
       "      <td>Analista Senior de Ciberseguridad</td>\n",
       "      <td>8.0</td>\n",
       "      <td>NaN</td>\n",
       "    </tr>\n",
       "  </tbody>\n",
       "</table>\n",
       "</div>"
      ],
      "text/plain": [
       "                                         description  \\\n",
       "0  Búsqueda y captación de clientes para la venta...   \n",
       "1  ¿Quieres unirte a nosotros y trabajar en un en...   \n",
       "2  Si está buscando trabajo en el sector inmobili...   \n",
       "3  Buscamos un/a apasionad@ del ciclismo, que le ...   \n",
       "4  Descripción:\\n¡Ampliamos nuestro equipo técnic...   \n",
       "\n",
       "                                            postings  \\\n",
       "0  [{'date': '2021-01-01', 'site': {'label': 'gla...   \n",
       "1  [{'date': '2021-03-19', 'site': {'label': 'es....   \n",
       "2  [{'date': '2021-01-01', 'site': {'label': 'gla...   \n",
       "3  [{'date': '2021-07-16', 'site': {'label': 'gla...   \n",
       "4  [{'date': '2021-01-01', 'site': {'label': 'gla...   \n",
       "\n",
       "                    company                    location  \\\n",
       "0  MGS Seguros y Reaseguros      Santa Cruz de Tenerife   \n",
       "1               Grupo Eulen  Las Palmas de Gran Canaria   \n",
       "2                Century 21      Santa Cruz de Tenerife   \n",
       "3          Decathlon España                   La Laguna   \n",
       "4    Oesia - Oesía Networks                    Canarias   \n",
       "\n",
       "                     category         jobType  \\\n",
       "0         Finanzas - Economía      Indefinido   \n",
       "1            Medicina - Salud      Indefinido   \n",
       "2          Comercial - Ventas      Indefinido   \n",
       "3                      Retail  Tiempo Parcial   \n",
       "4  IT - Sistemas - Tecnología      Indefinido   \n",
       "\n",
       "                                               title  numberOfVacancies  \\\n",
       "0                      Asesor Profesional de Seguros                NaN   \n",
       "1                                         Enfermería                NaN   \n",
       "2                                Asesor Inmobiliario                NaN   \n",
       "3  VENDEDOR DEPORTISTA DEL CICLISMO Decathlon La ...                NaN   \n",
       "4                  Analista Senior de Ciberseguridad                8.0   \n",
       "\n",
       "   salaryOriginal  \n",
       "0             NaN  \n",
       "1             NaN  \n",
       "2             NaN  \n",
       "3             NaN  \n",
       "4             NaN  "
      ]
     },
     "execution_count": 2,
     "metadata": {},
     "output_type": "execute_result"
    }
   ],
   "source": [
    "# Read offers_canarias.json as a DataFrame in the folder data\n",
    "df = pd.read_json('data/offers_canarias.json', encoding='utf-8')\n",
    "# Add the column 'salaryOriginal' with NaN values\n",
    "df['salaryOriginal'] = np.nan\n",
    "# Define a custom function to access the 'label' key in a dictionary\n",
    "def get_label(d):\n",
    "    return d.get('label')\n",
    "# Apply the custom function to the 'location' and 'category' columns\n",
    "df['location'] = df['location'].apply(get_label)\n",
    "df['category'] = df['category'].apply(get_label)\n",
    "print(df.shape)\n",
    "df.head()"
   ]
  },
  {
   "cell_type": "markdown",
   "metadata": {},
   "source": [
    "# Test connection to database"
   ]
  },
  {
   "cell_type": "code",
   "execution_count": 3,
   "metadata": {},
   "outputs": [],
   "source": [
    "# Test the connection to the database\n",
    "config = {\n",
    "    'user': 'root',\n",
    "    'password': 'root',\n",
    "    'host': 'localhost',\n",
    "    'database': 'test',\n",
    "    'port': 3306\n",
    "}\n",
    "\n",
    "# SELECT * FROM test.jobmarket_canarias;\n",
    "cnx = mysql.connector.connect(**config)\n",
    "cursor = cnx.cursor()"
   ]
  },
  {
   "cell_type": "markdown",
   "metadata": {},
   "source": [
    "# Use database"
   ]
  },
  {
   "cell_type": "code",
   "execution_count": 4,
   "metadata": {},
   "outputs": [],
   "source": [
    "use_database = \"USE test;\"\n",
    "cursor.execute(use_database)"
   ]
  },
  {
   "cell_type": "markdown",
   "metadata": {},
   "source": [
    "# Create table"
   ]
  },
  {
   "cell_type": "code",
   "execution_count": 5,
   "metadata": {},
   "outputs": [],
   "source": [
    "create_table_offers_query = '''\n",
    "CREATE TABLE IF NOT EXISTS ofertas_jobmarket_canarias_21_23 (\n",
    "    id INT AUTO_INCREMENT PRIMARY KEY,\n",
    "    description TEXT NOT NULL,\n",
    "    title VARCHAR(255) NOT NULL,\n",
    "    company VARCHAR(255),\n",
    "    location VARCHAR(255),\n",
    "    category VARCHAR(255),\n",
    "    jobType VARCHAR(255),\n",
    "    salaryOriginal VARCHAR(255),\n",
    "    numberOfVacancies INT\n",
    ");\n",
    "'''\n",
    "create_table_postings_query = '''\n",
    "CREATE TABLE IF NOT EXISTS postings_jobmarket_canarias_21_23 (\n",
    "    id INT AUTO_INCREMENT PRIMARY KEY,\n",
    "    id_posting VARCHAR(255) NOT NULL,\n",
    "    date DATE NOT NULL,\n",
    "    url VARCHAR(255) NOT NULL,\n",
    "    titleOriginal VARCHAR(255) NOT NULL,\n",
    "    site VARCHAR(255) NOT NULL,\n",
    "    salaryOriginal VARCHAR(255)\n",
    ");\n",
    "'''\n",
    "\n",
    "create_table_palabras_query = '''\n",
    "CREATE TABLE IF NOT EXISTS palabras_jobmarket_canarias_21_23 (\n",
    "    id INT AUTO_INCREMENT PRIMARY KEY,\n",
    "    id_posting VARCHAR(255) NOT NULL,\n",
    "    palabra VARCHAR(255) NOT NULL\n",
    ");\n",
    "'''\n",
    "\n",
    "cursor.execute(create_table_offers_query)\n",
    "cursor.execute(create_table_postings_query)\n",
    "cursor.execute(create_table_palabras_query)"
   ]
  },
  {
   "cell_type": "markdown",
   "metadata": {},
   "source": [
    "# Describe table"
   ]
  },
  {
   "cell_type": "code",
   "execution_count": 6,
   "metadata": {},
   "outputs": [
    {
     "name": "stdout",
     "output_type": "stream",
     "text": [
      "['id', 'description', 'title', 'company', 'location', 'category', 'jobType', 'salaryOriginal', 'numberOfVacancies']\n"
     ]
    }
   ],
   "source": [
    "# Describe the table\n",
    "cursor.execute('DESCRIBE test.ofertas_jobmarket_canarias_21_23')\n",
    "# Print the result\n",
    "describe = cursor.fetchall()\n",
    "# Print the column names\n",
    "columns = [column[0] for column in describe]\n",
    "print(columns)"
   ]
  },
  {
   "cell_type": "markdown",
   "metadata": {},
   "source": [
    "# Get salary"
   ]
  },
  {
   "cell_type": "code",
   "execution_count": 7,
   "metadata": {},
   "outputs": [
    {
     "name": "stderr",
     "output_type": "stream",
     "text": [
      "Processing rows:   0%|          | 0/156676 [00:00<?, ?it/s]/tmp/ipykernel_7509/2911209369.py:6: FutureWarning: Setting an item of incompatible dtype is deprecated and will raise in a future error of pandas. Value '13.968,00€-18.000,00€ al año' has dtype incompatible with float64, please explicitly cast to a compatible dtype first.\n",
      "  df.loc[index, 'salaryOriginal'] = posting['salaryOriginal']\n",
      "Processing rows: 100%|██████████| 156676/156676 [00:25<00:00, 6097.07it/s]\n"
     ]
    }
   ],
   "source": [
    "def get_salary_to_df(df):\n",
    "    for index, row in tqdm(df.iterrows(), total=len(df), desc=\"Processing rows\"):\n",
    "        postings = row['postings']\n",
    "        for posting in postings:\n",
    "            if 'salaryOriginal' in posting:\n",
    "                df.loc[index, 'salaryOriginal'] = posting['salaryOriginal']\n",
    "    return df\n",
    "\n",
    "df = get_salary_to_df(df)"
   ]
  },
  {
   "cell_type": "markdown",
   "metadata": {},
   "source": [
    "# Import data to database"
   ]
  },
  {
   "cell_type": "code",
   "execution_count": 8,
   "metadata": {},
   "outputs": [
    {
     "name": "stderr",
     "output_type": "stream",
     "text": [
      "Processing rows:  33%|███▎      | 51571/156676 [02:53<05:43, 305.64it/s]"
     ]
    }
   ],
   "source": [
    "def import_data_to_db(df):\n",
    "    ids = []\n",
    "    # Iterate over the rows in the DataFrame\n",
    "    for index, row in tqdm(df.iterrows(), total=len(df), desc=\"Processing rows\"):\n",
    "        # Create an object with all the columns except \"postings\"\n",
    "        row_data = row.drop('postings')\n",
    "        row_data = row_data.to_dict()\n",
    "        # Replace NaN values with None\n",
    "        for key, value in row_data.items():\n",
    "            if pd.isna(value):\n",
    "                row_data[key] = None\n",
    "        # Insert into the ofertas_jobmarket_canarias_21_23 table and get the id\n",
    "        try:\n",
    "            cursor.execute('INSERT INTO test.ofertas_jobmarket_canarias_21_23 ({}) VALUES ({})'.format(', '.join(row_data.keys()), ', '.join(['%s'] * len(row_data))), list(row_data.values()))\n",
    "            id = cursor.lastrowid\n",
    "            cnx.commit()\n",
    "            # Add id to postings\n",
    "            ids.append(id)\n",
    "        except mysql.connector.errors.DataError:\n",
    "            ids.append(None)\n",
    "    return ids\n",
    "\n",
    "# Verify if offers_canarias_db.csv exists\n",
    "if os.path.exists('./data/offers_canarias_db.csv'):\n",
    "    # Read offers_canarias_db.csv as a DataFrame\n",
    "    df = pd.read_csv('./data/offers_canarias_db.csv')\n",
    "else:\n",
    "    # Import data to the database and get the ids\n",
    "    ids = import_data_to_db(df)\n",
    "    # Introduce ids to the DataFrame\n",
    "    df['id'] = ids\n",
    "    # Save the DataFrame as a CSV file\n",
    "    df.to_csv('./data/offers_canarias_db.csv', index=False)"
   ]
  },
  {
   "cell_type": "markdown",
   "metadata": {},
   "source": [
    "# Get PALABRAS by API"
   ]
  },
  {
   "cell_type": "code",
   "execution_count": null,
   "metadata": {},
   "outputs": [],
   "source": [
    "import requests\n",
    "\n",
    "url_api = 'http://192.168.70.205:5000/text2vect/Words2VectOnTXTFormat'\n",
    "\n",
    "def get_palabras_api(texto):\n",
    "    response = requests.post(url_api, json={'text': texto, 'flag_words': 'T'})\n",
    "    return response.json()['vector_palabras']\n",
    "\n",
    "def get_palabras_from_offers(df):\n",
    "    df_copy = df.copy()  # Create a copy of the DataFrame\n",
    "    palabras_db = []  # Create an empty list to store the expanded data\n",
    "    for index, row in tqdm(df_copy.iterrows(), total=len(df_copy), desc=\"Processing rows\"):\n",
    "        description = row['description']\n",
    "        palabras = get_palabras_api(description)\n",
    "        for palabra in palabras:\n",
    "            palabras_db.append({'id': row['id'], 'palabra': palabra})\n",
    "    return pd.DataFrame(palabras_db)\n",
    "\n",
    "# Verify if offers_canarias_palabras_db.csv exists\n",
    "if os.path.exists('./data/offers_canarias_palabras_db.csv'):\n",
    "    # Read offers_canarias_palabras_db.csv as a DataFrame\n",
    "    df_palabras = pd.read_csv('./data/offers_canarias_palabras_db.csv')\n",
    "else:\n",
    "    # Apply the function\n",
    "    df_palabras = get_palabras_from_offers(df)\n",
    "    # Save the DataFrame as a CSV file\n",
    "    df_palabras.to_csv('./data/offers_canarias_palabras_db.csv', index=False)"
   ]
  },
  {
   "cell_type": "markdown",
   "metadata": {},
   "source": [
    "# Insert palabras_ofertas"
   ]
  },
  {
   "cell_type": "code",
   "execution_count": null,
   "metadata": {},
   "outputs": [],
   "source": [
    "def import_palabras_to_db(df_palabras):\n",
    "    # Iterate over the rows in the DataFrame\n",
    "    for index, row in tqdm(df_palabras.iterrows(), total=len(df_palabras), desc=\"Processing rows\"):\n",
    "        # Create an object with all the columns except \"postings\"\n",
    "        row_data = row.to_dict()\n",
    "        # Replace NaN values with None\n",
    "        for key, value in row_data.items():\n",
    "            if pd.isna(value):\n",
    "                row_data[key] = None\n",
    "        # Insert into the ofertas_jobmarket_canarias_21_23 table and get the id\n",
    "        try:\n",
    "            cursor.execute('INSERT INTO test.palabras_jobmarket_canarias_21_23 ({}) VALUES ({})'.format(', '.join(row_data.keys()), ', '.join(['%s'] * len(row_data))), list(row_data.values()))\n",
    "            cnx.commit()\n",
    "        except mysql.connector.errors.DataError:\n",
    "            pass\n",
    "    return"
   ]
  },
  {
   "cell_type": "markdown",
   "metadata": {},
   "source": [
    "# Create postings dataframe"
   ]
  },
  {
   "cell_type": "code",
   "execution_count": null,
   "metadata": {},
   "outputs": [],
   "source": [
    "def create_postings(df, ids):\n",
    "    # Create an empty list to store the expanded data\n",
    "    expanded_data = []\n",
    "    # Iterate through the original DataFrame\n",
    "    for index, row in df.iterrows():\n",
    "        id_value = ids[index]  # Get the id value\n",
    "        if id_value == None:\n",
    "            continue\n",
    "        postings_list = row['postings']  # Get the list of postings\n",
    "        # Iterate through the list of postings for each 'id'\n",
    "        for posting in postings_list:\n",
    "            posting['id_posting'] = id_value  # Add the 'id' to each posting\n",
    "            expanded_data.append(posting)\n",
    "    postings_df = pd.DataFrame(expanded_data)  # Create a new DataFrame from the expanded data\n",
    "    return postings_df\n",
    "\n",
    "# Create a new DataFrame from the expanded data\n",
    "postings_df = create_postings(df, ids)\n",
    "# Drop id from postings_df\n",
    "postings_df = postings_df.drop('id', axis=1)\n",
    "# Get the value of site from object\n",
    "postings_df['site'] = postings_df['site'].apply(get_label)\n",
    "# Show head\n",
    "print(postings_df.shape)\n",
    "postings_df.head()"
   ]
  },
  {
   "cell_type": "markdown",
   "metadata": {},
   "source": [
    "# Insert postings"
   ]
  },
  {
   "cell_type": "code",
   "execution_count": null,
   "metadata": {},
   "outputs": [],
   "source": [
    "def import_postings_to_db(postings_df):\n",
    "    # Iterate over the rows in the DataFrame\n",
    "    for index, row in tqdm(postings_df.iterrows(), total=len(postings_df), desc=\"Processing rows\"):\n",
    "        # Create an object with all the columns except \"postings\"\n",
    "        row_data = row.to_dict()\n",
    "        # Replace NaN values with None\n",
    "        for key, value in row_data.items():\n",
    "            if pd.isna(value):\n",
    "                row_data[key] = None\n",
    "        # Insert into the postings_jobmarket_canarias_21_23 table\n",
    "        try:\n",
    "            cursor.execute('INSERT INTO test.postings_jobmarket_canarias_21_23 ({}) VALUES ({})'.format(', '.join(row_data.keys()), ', '.join(['%s'] * len(row_data))), list(row_data.values()))\n",
    "            cnx.commit()\n",
    "        except mysql.connector.errors.DataError:\n",
    "            continue\n",
    "        \n",
    "import_postings_to_db(postings_df)"
   ]
  },
  {
   "cell_type": "markdown",
   "metadata": {},
   "source": [
    "# Test MySQL table"
   ]
  },
  {
   "cell_type": "code",
   "execution_count": null,
   "metadata": {},
   "outputs": [],
   "source": [
    "import time\n",
    "\n",
    "def timer(function=None, *args, **kwargs):\n",
    "    start = time.time()\n",
    "    query = function(*args, **kwargs)\n",
    "    end = time.time()\n",
    "    # print(f\"Function: {function.__name__} Time: {end - start} seconds Query: {query} Args: {args} Kwargs: {kwargs}\")\n",
    "    return end - start, query.replace('\\n', ' ')\n",
    "\n",
    "def get_offers():\n",
    "    query = 'SELECT * FROM test.ofertas_jobmarket_canarias_21_23'\n",
    "    cursor.execute(query)\n",
    "    data = cursor.fetchall()\n",
    "    return query\n",
    "\n",
    "def get_postings():\n",
    "    query = 'SELECT * FROM test.postings_jobmarket_canarias_21_23'\n",
    "    cursor.execute(query)\n",
    "    data = cursor.fetchall()\n",
    "    return query\n",
    "\n",
    "def get_offers_and_postings():\n",
    "    query = \"\"\"SELECT * FROM test.ofertas_jobmarket_canarias_21_23 AS o\n",
    "    INNER JOIN test.postings_jobmarket_canarias_21_23 AS p\n",
    "    ON o.id = p.id\n",
    "    \"\"\"\n",
    "    cursor.execute(query)\n",
    "    data = cursor.fetchall()\n",
    "    return query\n",
    "\n",
    "def get_offer_by_id(id):\n",
    "    query = f\"SELECT * FROM test.ofertas_jobmarket_canarias_21_23 WHERE id = {id}\"\n",
    "    cursor.execute(query)\n",
    "    data = cursor.fetchall()\n",
    "    return query\n",
    "\n",
    "def get_offers_by_dates(start_date, end_date):\n",
    "    query = f\"\"\"SELECT * FROM test.postings_jobmarket_canarias_21_23\n",
    "    WHERE date BETWEEN '{start_date}' AND '{end_date}'\n",
    "    \"\"\"\n",
    "    cursor.execute(query)\n",
    "    data = cursor.fetchall()\n",
    "    return query\n",
    "\n",
    "def get_offer_group_by_category_and_period(start_date, end_date):\n",
    "    query = f\"\"\"SELECT category, count(*) FROM test.ofertas_jobmarket_canarias_21_23\n",
    "    GROUP BY category\n",
    "    ORDER BY 2 DESC\n",
    "    \"\"\"\n",
    "    cursor.execute(query)\n",
    "    data = cursor.fetchall()\n",
    "    return query\n",
    "\n",
    "timer(get_offers)\n",
    "\n",
    "timer(get_postings)\n",
    "\n",
    "timer(get_offers_and_postings)\n",
    "\n",
    "timer(get_offer_by_id, 1)\n",
    "\n",
    "timer(get_offers_by_dates, '2021-01-01', '2021-10-31')\n",
    "\n",
    "timer(get_offer_group_by_category_and_period, '2021-01-01', '2021-10-31')"
   ]
  },
  {
   "cell_type": "markdown",
   "metadata": {},
   "source": [
    "# Create results table"
   ]
  },
  {
   "cell_type": "code",
   "execution_count": null,
   "metadata": {},
   "outputs": [],
   "source": [
    "import random\n",
    "\n",
    "# Define a list of your testing functions\n",
    "testing_functions = [\n",
    "    get_offers,\n",
    "    get_postings,\n",
    "    get_offers_and_postings,\n",
    "    lambda: get_offer_by_id(1),\n",
    "    lambda: get_offers_by_dates('2021-01-01', '2021-10-31'),\n",
    "    lambda: get_offer_group_by_category_and_period('2021-01-01', '2021-10-31')\n",
    "]\n",
    "\n",
    "def get_function_name(func):\n",
    "    if hasattr(func, '__name__'):\n",
    "        return func.__name__\n",
    "    else:\n",
    "        return \"lambda\"\n",
    "\n",
    "def test_queries(test_types, N=100):\n",
    "    all_test = []\n",
    "    for _ in range(N):\n",
    "        random_func = random.choice(test_types)\n",
    "        name = get_function_name(random_func)\n",
    "        if name == 'lambda':\n",
    "            name = random_func.__name__\n",
    "        time, query = timer(random_func)\n",
    "        all_test.append({'name': name, 'time': time, 'query': query})\n",
    "    # Save the results in a DataFrame\n",
    "    return pd.DataFrame(all_test).sort_values(by='query', ascending=False)\n",
    "\n",
    "df_results = test_queries(testing_functions, 1000)\n",
    "# Save to excel file\n",
    "df_results.to_excel('./test/results_jobmarket_canarias_21_23.xlsx', index=False)\n",
    "# Now group by the same query and get the mean time\n",
    "df_results.groupby('query')['time'].mean().sort_values(ascending=False).to_excel('./test/results_jobmarket_canarias_21_23_mean.xlsx')"
   ]
  },
  {
   "cell_type": "code",
   "execution_count": null,
   "metadata": {},
   "outputs": [],
   "source": []
  }
 ],
 "metadata": {
  "kernelspec": {
   "display_name": ".venv",
   "language": "python",
   "name": "python3"
  },
  "language_info": {
   "codemirror_mode": {
    "name": "ipython",
    "version": 3
   },
   "file_extension": ".py",
   "mimetype": "text/x-python",
   "name": "python",
   "nbconvert_exporter": "python",
   "pygments_lexer": "ipython3",
   "version": "3.9.16"
  }
 },
 "nbformat": 4,
 "nbformat_minor": 2
}
