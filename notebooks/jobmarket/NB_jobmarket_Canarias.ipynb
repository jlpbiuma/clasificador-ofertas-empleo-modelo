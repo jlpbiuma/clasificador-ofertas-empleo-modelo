{
 "cells": [
  {
   "cell_type": "markdown",
   "metadata": {},
   "source": [
    "# Import libraries"
   ]
  },
  {
   "cell_type": "code",
   "execution_count": null,
   "metadata": {},
   "outputs": [],
   "source": [
    "import pandas as pd\n",
    "import numpy as np\n",
    "import matplotlib.pyplot as plt\n",
    "import mysql.connector\n",
    "import json\n",
    "from tqdm import tqdm"
   ]
  },
  {
   "cell_type": "markdown",
   "metadata": {},
   "source": [
    "# Import data"
   ]
  },
  {
   "cell_type": "code",
   "execution_count": null,
   "metadata": {},
   "outputs": [],
   "source": [
    "# Read offers_canarias.json as a DataFrame in the folder data\n",
    "df = pd.read_json('data/offers_canarias.json', encoding='utf-8')\n",
    "# Add the column 'salaryOriginal' with NaN values\n",
    "df['salaryOriginal'] = np.nan\n",
    "# Define a custom function to access the 'label' key in a dictionary\n",
    "def get_label(d):\n",
    "    return d.get('label')\n",
    "# Apply the custom function to the 'location' and 'category' columns\n",
    "df['location'] = df['location'].apply(get_label)\n",
    "df['category'] = df['category'].apply(get_label)\n",
    "print(df.shape)\n",
    "df.head()"
   ]
  },
  {
   "cell_type": "markdown",
   "metadata": {},
   "source": [
    "# Test connection to database"
   ]
  },
  {
   "cell_type": "code",
   "execution_count": null,
   "metadata": {},
   "outputs": [],
   "source": [
    "# Test the connection to the database\n",
    "config = {\n",
    "    'user': 'root',\n",
    "    'password': 'root',\n",
    "    'host': 'localhost',\n",
    "    'database': 'test',\n",
    "    'port': '3306'\n",
    "}\n",
    "\n",
    "# SELECT * FROM test.jobmarket_canarias;\n",
    "cnx = mysql.connector.connect(**config)\n",
    "cursor = cnx.cursor()\n",
    "cursor.execute('SELECT * FROM test.ofertas_jobmarket_canarias_21_23')\n",
    "print(cursor.fetchall())\n",
    "\n",
    "cursor.execute('SELECT * FROM test.postings_jobmarket_canarias_21_23')\n",
    "print(cursor.fetchall())"
   ]
  },
  {
   "cell_type": "markdown",
   "metadata": {},
   "source": [
    "# Describe table"
   ]
  },
  {
   "cell_type": "code",
   "execution_count": null,
   "metadata": {},
   "outputs": [],
   "source": [
    "# Describe the table\n",
    "cursor.execute('DESCRIBE test.ofertas_jobmarket_canarias_21_23')\n",
    "# Print the result\n",
    "describe = cursor.fetchall()\n",
    "# Print the column names\n",
    "columns = [column[0] for column in describe]"
   ]
  },
  {
   "cell_type": "markdown",
   "metadata": {},
   "source": [
    "# Import data to database"
   ]
  },
  {
   "cell_type": "code",
   "execution_count": null,
   "metadata": {},
   "outputs": [],
   "source": [
    "# Create a list to store the values you want to insert into the postings table\n",
    "postings_data = []\n",
    "# Iterate over the rows in the DataFrame\n",
    "for index, row in tqdm(df.iterrows(), total=len(df), desc=\"Processing rows\"):\n",
    "    # Create a list of dictionaries with the postings\n",
    "    postings = row['postings']\n",
    "    # Create an object with all the columns except \"postings\"\n",
    "    row_data = row.drop('postings')\n",
    "    row_data = row_data.to_dict()\n",
    "    # Replace NaN values with None\n",
    "    for key, value in row_data.items():\n",
    "        if pd.isna(value):\n",
    "            row_data[key] = None\n",
    "    # Serialize the dictionary to a JSON string\n",
    "    row_data_json = json.dumps(row_data)\n",
    "    # Insert into the ofertas_jobmarket_canarias_21_23 table and get the id\n",
    "    try:\n",
    "        cursor.execute('INSERT INTO test.ofertas_jobmarket_canarias_21_23 ({}) VALUES ({})'.format(', '.join(row_data.keys()), ', '.join(['%s'] * len(row_data))), list(row_data.values()))\n",
    "    except mysql.connector.errors.DataError:\n",
    "        continue\n",
    "    id = cursor.lastrowid\n",
    "    # Create a for loop over the postings list\n",
    "    for posting in postings:\n",
    "        # Rename the actual id in posting to id_posting\n",
    "        posting['id_posting'] = posting.pop('id')\n",
    "        # Add the id of the ofertas_jobmarket_canarias_21_23 table to the posting\n",
    "        posting['id'] = id\n",
    "        # Verify if 'salaryOriginal' is in the posting\n",
    "        if 'salaryOriginal' in posting:\n",
    "            # Then update the record inserted in ofertas_jobmarket_canarias_21_23 and add the salaryOriginal\n",
    "            cursor.execute('UPDATE test.ofertas_jobmarket_canarias_21_23 SET salaryOriginal = %s WHERE id = %s', (posting['salaryOriginal'], id))\n",
    "        # Replace NaN values with None in posting\n",
    "        for key, value in posting.items():\n",
    "            if pd.isna(value):\n",
    "                posting[key] = None\n",
    "        # Append the posting data to the list\n",
    "        postings_data.append(posting)\n",
    "    cnx.commit()"
   ]
  },
  {
   "cell_type": "code",
   "execution_count": null,
   "metadata": {},
   "outputs": [],
   "source": [
    "# Iterate over the postings_data list with a tqdm progress bar\n",
    "for posting in tqdm(postings_data, desc=\"Inserting postings\"):\n",
    "    try:\n",
    "        # Flatten the nested dictionaries within the posting dictionary\n",
    "        flattened_posting = {\n",
    "            'date': posting['date'],\n",
    "            'site_label': posting['site']['label'],\n",
    "            'site_key': posting['site']['key'],\n",
    "            'titleOriginal': posting['titleOriginal'],\n",
    "            'url': posting['url'],\n",
    "            'id_posting': posting['id_posting'],\n",
    "            'id': posting['id']\n",
    "        }\n",
    "\n",
    "        # Convert the dictionary values into a list of values\n",
    "        values = list(flattened_posting.values())\n",
    "        \n",
    "        # Generate placeholders for the SQL query\n",
    "        placeholders = ', '.join(['%s'] * len(values))\n",
    "\n",
    "        # Construct and execute the SQL query\n",
    "        cursor.execute(f'INSERT INTO test.postings_jobmarket_canarias_21_23 ({columns}) VALUES ({placeholders})', values)\n",
    "    except mysql.connector.errors.DataError:\n",
    "        continue\n",
    "    cnx.commit()\n"
   ]
  },
  {
   "cell_type": "markdown",
   "metadata": {},
   "source": [
    "# Test MySQL table"
   ]
  },
  {
   "cell_type": "code",
   "execution_count": null,
   "metadata": {},
   "outputs": [],
   "source": [
    "import time\n",
    "\n",
    "def timer(function=None, *args, **kwargs): \n",
    "    start = time.time()\n",
    "    data = function(*args, **kwargs)\n",
    "    end = time.time()\n",
    "    print(f\"Time elapsed: {end - start}\")\n",
    "\n",
    "def get_offers():\n",
    "    cursor.execute('SELECT * FROM test.ofertas_jobmarket_canarias_21_23')\n",
    "    data = cursor.fetchall()\n",
    "    return data\n",
    "\n",
    "def get_postings():\n",
    "    cursor.execute('SELECT * FROM test.postings_jobmarket_canarias_21_23')\n",
    "    data = cursor.fetchall()\n",
    "    return data\n",
    "\n",
    "def get_offers_and_postings():\n",
    "    query = \"\"\"\n",
    "    SELECT * FROM test.ofertas_jobmarket_canarias_21_23 AS o\n",
    "    INNER JOIN test.postings_jobmarket_canarias_21_23 AS p\n",
    "    ON o.id = p.id\n",
    "    \"\"\"\n",
    "    cursor.execute(query)\n",
    "    data = cursor.fetchall()\n",
    "    return data\n",
    "\n",
    "def get_offer_by_id(id):\n",
    "    query = f\"SELECT * FROM test.ofertas_jobmarket_canarias_21_23 WHERE id = {id}\"\n",
    "    cursor.execute(query)\n",
    "    data = cursor.fetchall()\n",
    "    return data\n",
    "\n",
    "timer(get_offers)\n",
    "\n",
    "timer(get_postings)\n",
    "\n",
    "timer(get_offers_and_postings)\n",
    "\n",
    "timer(get_offer_by_id, 1)"
   ]
  }
 ],
 "metadata": {
  "kernelspec": {
   "display_name": ".venv",
   "language": "python",
   "name": "python3"
  },
  "language_info": {
   "codemirror_mode": {
    "name": "ipython",
    "version": 3
   },
   "file_extension": ".py",
   "mimetype": "text/x-python",
   "name": "python",
   "nbconvert_exporter": "python",
   "pygments_lexer": "ipython3",
   "version": "3.9.16"
  }
 },
 "nbformat": 4,
 "nbformat_minor": 2
}
