{
 "cells": [
  {
   "cell_type": "markdown",
   "metadata": {},
   "source": [
    "# Import neccesary libraries"
   ]
  },
  {
   "cell_type": "code",
   "execution_count": 3,
   "metadata": {},
   "outputs": [],
   "source": [
    "import pandas as pd\n",
    "from nltk.corpus import stopwords\n",
    "from nltk.stem.snowball import SnowballStemmer\n",
    "from nltk.collocations import ngrams"
   ]
  },
  {
   "cell_type": "markdown",
   "metadata": {},
   "source": [
    "# Functions"
   ]
  },
  {
   "cell_type": "code",
   "execution_count": 3,
   "metadata": {},
   "outputs": [],
   "source": [
    "import re\n",
    "from unidecode import unidecode\n",
    "\n",
    "stemmer = SnowballStemmer(\"spanish\")\n",
    "expections = [\"@\", r\"\\.\"]\n",
    "stopwords = stopwords.words('spanish')\n",
    "\n",
    "def clean_text(text):\n",
    "    # ! EXCEPCIONES MANUALES!!!\n",
    "    # Cast exceptions to \"a\"\n",
    "    text = re.sub(r'@', 'a', text)\n",
    "    # Cast from \".\" to \"\"\n",
    "    text = re.sub(r'\\.', '', text)\n",
    "    \n",
    "    # Trim the text\n",
    "    text = text.strip()\n",
    "    # Remove accents using unidecode, excluding 'ñ' and 'Ñ'\n",
    "    text = ''.join(char if char in ('ñ', 'Ñ') else unidecode(char) for char in text)\n",
    "    # Delete non-alphanumeric characters\n",
    "    text = re.sub(r'[^\\w\\s]', ' ', text)\n",
    "    # Delete additional spaces with regex\n",
    "    text = re.sub(r'\\s+', ' ', text).upper()\n",
    "    return text\n",
    "\n",
    "def filter_words(text):\n",
    "    # Split the text by \" \"\n",
    "    list_words = text.split(\" \")\n",
    "    # Delete empty strings\n",
    "    list_words = list(filter(None, list_words))\n",
    "    # Filter all stopwords\n",
    "    return [word for word in list_words if word not in stopwords]\n",
    "\n",
    "def get_list_stems(list_words):\n",
    "    # Get stems\n",
    "    return [stemmer.stem(word).upper() for word in list_words]\n",
    "\n",
    "def get_n_gramas(list_stems, min_n_gramas, max_n_gramas):\n",
    "    list_n_gramas = [\" \".join(n_grama) for n in range(min_n_gramas, max_n_gramas + 1)\n",
    "                     for n_grama in ngrams(list_stems, n)]\n",
    "    return list_n_gramas\n",
    "\n",
    "def calculate_forms(text, min_n_gramas=2, max_n_gramas=4):\n",
    "    # First clean text\n",
    "    text = clean_text(text)\n",
    "    # Filter words\n",
    "    list_words = filter_words(text)\n",
    "    # Get list of stems\n",
    "    list_stems = get_list_stems(list_words)\n",
    "    # Get the n gramas\n",
    "    list_n_gramas = get_n_gramas(list_stems, min_n_gramas, max_n_gramas)\n",
    "    if list_n_gramas != []:\n",
    "        return list_n_gramas\n",
    "    else:\n",
    "        return None"
   ]
  },
  {
   "cell_type": "markdown",
   "metadata": {},
   "source": [
    "# Import collocations dictionary"
   ]
  },
  {
   "cell_type": "code",
   "execution_count": 4,
   "metadata": {},
   "outputs": [
    {
     "data": {
      "text/html": [
       "<div>\n",
       "<style scoped>\n",
       "    .dataframe tbody tr th:only-of-type {\n",
       "        vertical-align: middle;\n",
       "    }\n",
       "\n",
       "    .dataframe tbody tr th {\n",
       "        vertical-align: top;\n",
       "    }\n",
       "\n",
       "    .dataframe thead th {\n",
       "        text-align: right;\n",
       "    }\n",
       "</style>\n",
       "<table border=\"1\" class=\"dataframe\">\n",
       "  <thead>\n",
       "    <tr style=\"text-align: right;\">\n",
       "      <th></th>\n",
       "      <th>LEMA</th>\n",
       "      <th>COLLOCATION</th>\n",
       "      <th>FORMAS</th>\n",
       "    </tr>\n",
       "  </thead>\n",
       "  <tbody>\n",
       "    <tr>\n",
       "      <th>0</th>\n",
       "      <td>ABBYY FINEREADER</td>\n",
       "      <td>ABBYY FINEREADER</td>\n",
       "      <td>ABBYY FINEREAD</td>\n",
       "    </tr>\n",
       "    <tr>\n",
       "      <th>1</th>\n",
       "      <td>ABOGAR PERSONAS</td>\n",
       "      <td>ABOGAR POR OTRAS PERSONAS</td>\n",
       "      <td>ABOG PERSON</td>\n",
       "    </tr>\n",
       "    <tr>\n",
       "      <th>2</th>\n",
       "      <td>ASESORAR ABONOS PLANTAS</td>\n",
       "      <td>ASESORAR SOBRE ABONOS PARA PLANTAS</td>\n",
       "      <td>ABON PLANT</td>\n",
       "    </tr>\n",
       "    <tr>\n",
       "      <th>3</th>\n",
       "      <td>ABRASIVOS CHORRO</td>\n",
       "      <td>ABRASIVOS DE CHORRO</td>\n",
       "      <td>ABRAS CHORR</td>\n",
       "    </tr>\n",
       "    <tr>\n",
       "      <th>4</th>\n",
       "      <td>ABRIR CUENTAS BANCO</td>\n",
       "      <td>ABRIR CUENTAS DE BANCO</td>\n",
       "      <td>ABRIR CUENT</td>\n",
       "    </tr>\n",
       "  </tbody>\n",
       "</table>\n",
       "</div>"
      ],
      "text/plain": [
       "                      LEMA                         COLLOCATION          FORMAS\n",
       "0         ABBYY FINEREADER                    ABBYY FINEREADER  ABBYY FINEREAD\n",
       "1          ABOGAR PERSONAS           ABOGAR POR OTRAS PERSONAS     ABOG PERSON\n",
       "2  ASESORAR ABONOS PLANTAS  ASESORAR SOBRE ABONOS PARA PLANTAS      ABON PLANT\n",
       "3         ABRASIVOS CHORRO                 ABRASIVOS DE CHORRO     ABRAS CHORR\n",
       "4      ABRIR CUENTAS BANCO              ABRIR CUENTAS DE BANCO     ABRIR CUENT"
      ]
     },
     "execution_count": 4,
     "metadata": {},
     "output_type": "execute_result"
    }
   ],
   "source": [
    "df_collocations = pd.read_csv(\"./static/diccionario_collocation.csv\")\n",
    "list_collocations = df_collocations[\"FORMAS\"].tolist()\n",
    "df_collocations.head()"
   ]
  },
  {
   "cell_type": "markdown",
   "metadata": {},
   "source": [
    "# Import offers"
   ]
  },
  {
   "cell_type": "code",
   "execution_count": 5,
   "metadata": {},
   "outputs": [
    {
     "data": {
      "text/html": [
       "<div>\n",
       "<style scoped>\n",
       "    .dataframe tbody tr th:only-of-type {\n",
       "        vertical-align: middle;\n",
       "    }\n",
       "\n",
       "    .dataframe tbody tr th {\n",
       "        vertical-align: top;\n",
       "    }\n",
       "\n",
       "    .dataframe thead th {\n",
       "        text-align: right;\n",
       "    }\n",
       "</style>\n",
       "<table border=\"1\" class=\"dataframe\">\n",
       "  <thead>\n",
       "    <tr style=\"text-align: right;\">\n",
       "      <th></th>\n",
       "      <th>descripcion_oferta</th>\n",
       "    </tr>\n",
       "  </thead>\n",
       "  <tbody>\n",
       "    <tr>\n",
       "      <th>0</th>\n",
       "      <td>Empresa de carácter internacional solicita adm...</td>\n",
       "    </tr>\n",
       "    <tr>\n",
       "      <th>1</th>\n",
       "      <td>Las funciones a desempeñar son las propias del...</td>\n",
       "    </tr>\n",
       "    <tr>\n",
       "      <th>2</th>\n",
       "      <td>Buscamos persona para puesto de Chófer -Repart...</td>\n",
       "    </tr>\n",
       "    <tr>\n",
       "      <th>3</th>\n",
       "      <td>Abrimos proceso de selección para dependiente ...</td>\n",
       "    </tr>\n",
       "    <tr>\n",
       "      <th>4</th>\n",
       "      <td>Tus funciones principales serán:\\n\\n- Atención...</td>\n",
       "    </tr>\n",
       "  </tbody>\n",
       "</table>\n",
       "</div>"
      ],
      "text/plain": [
       "                                  descripcion_oferta\n",
       "0  Empresa de carácter internacional solicita adm...\n",
       "1  Las funciones a desempeñar son las propias del...\n",
       "2  Buscamos persona para puesto de Chófer -Repart...\n",
       "3  Abrimos proceso de selección para dependiente ...\n",
       "4  Tus funciones principales serán:\\n\\n- Atención..."
      ]
     },
     "execution_count": 5,
     "metadata": {},
     "output_type": "execute_result"
    }
   ],
   "source": [
    "df_offers = pd.read_json(\"./data/descripcion_ofertas_infojobs_21_23.json\")\n",
    "df_offers.head()"
   ]
  },
  {
   "cell_type": "markdown",
   "metadata": {},
   "source": [
    "# Get COLLOCATIONS from descripcion_oferta"
   ]
  },
  {
   "cell_type": "code",
   "execution_count": 7,
   "metadata": {},
   "outputs": [
    {
     "data": {
      "text/html": [
       "<div>\n",
       "<style scoped>\n",
       "    .dataframe tbody tr th:only-of-type {\n",
       "        vertical-align: middle;\n",
       "    }\n",
       "\n",
       "    .dataframe tbody tr th {\n",
       "        vertical-align: top;\n",
       "    }\n",
       "\n",
       "    .dataframe thead th {\n",
       "        text-align: right;\n",
       "    }\n",
       "</style>\n",
       "<table border=\"1\" class=\"dataframe\">\n",
       "  <thead>\n",
       "    <tr style=\"text-align: right;\">\n",
       "      <th></th>\n",
       "      <th>descripcion_oferta</th>\n",
       "      <th>COLLOCATIONS</th>\n",
       "    </tr>\n",
       "  </thead>\n",
       "  <tbody>\n",
       "    <tr>\n",
       "      <th>0</th>\n",
       "      <td>Empresa de carácter internacional solicita adm...</td>\n",
       "      <td>[]</td>\n",
       "    </tr>\n",
       "    <tr>\n",
       "      <th>1</th>\n",
       "      <td>Las funciones a desempeñar son las propias del...</td>\n",
       "      <td>[]</td>\n",
       "    </tr>\n",
       "    <tr>\n",
       "      <th>2</th>\n",
       "      <td>Buscamos persona para puesto de Chófer -Repart...</td>\n",
       "      <td>[BUSCAR PERSONAS]</td>\n",
       "    </tr>\n",
       "    <tr>\n",
       "      <th>3</th>\n",
       "      <td>Abrimos proceso de selección para dependiente ...</td>\n",
       "      <td>[]</td>\n",
       "    </tr>\n",
       "    <tr>\n",
       "      <th>4</th>\n",
       "      <td>Tus funciones principales serán:\\n\\n- Atención...</td>\n",
       "      <td>[]</td>\n",
       "    </tr>\n",
       "    <tr>\n",
       "      <th>5</th>\n",
       "      <td>¿Te apasionan los nuevos retos y quieres segui...</td>\n",
       "      <td>[CREADOR BUEN AMBIENTE TRABAJO, FACILITAR INFO...</td>\n",
       "    </tr>\n",
       "    <tr>\n",
       "      <th>6</th>\n",
       "      <td>En BCN Talent Logistics -la consultoría más fi...</td>\n",
       "      <td>[MERCANCIAS TRANSPORTE MARITIMO]</td>\n",
       "    </tr>\n",
       "    <tr>\n",
       "      <th>7</th>\n",
       "      <td>¿Te gustaría formar parte de una importante em...</td>\n",
       "      <td>[MEJORAR SERVICIOS, GESTIONAR EQUIPO INTERMODAL]</td>\n",
       "    </tr>\n",
       "    <tr>\n",
       "      <th>8</th>\n",
       "      <td>CANARIAS SUBMARINE LINK, S.L.U. (CANALINK), op...</td>\n",
       "      <td>[]</td>\n",
       "    </tr>\n",
       "    <tr>\n",
       "      <th>9</th>\n",
       "      <td>¡Esta es tu oportunidad!\\r\\n\\r\\nEn Ecointegral...</td>\n",
       "      <td>[PROCURAR DISTRIBUCION ELECTRICIDAD, RIESGOS L...</td>\n",
       "    </tr>\n",
       "  </tbody>\n",
       "</table>\n",
       "</div>"
      ],
      "text/plain": [
       "                                  descripcion_oferta  \\\n",
       "0  Empresa de carácter internacional solicita adm...   \n",
       "1  Las funciones a desempeñar son las propias del...   \n",
       "2  Buscamos persona para puesto de Chófer -Repart...   \n",
       "3  Abrimos proceso de selección para dependiente ...   \n",
       "4  Tus funciones principales serán:\\n\\n- Atención...   \n",
       "5  ¿Te apasionan los nuevos retos y quieres segui...   \n",
       "6  En BCN Talent Logistics -la consultoría más fi...   \n",
       "7  ¿Te gustaría formar parte de una importante em...   \n",
       "8  CANARIAS SUBMARINE LINK, S.L.U. (CANALINK), op...   \n",
       "9  ¡Esta es tu oportunidad!\\r\\n\\r\\nEn Ecointegral...   \n",
       "\n",
       "                                        COLLOCATIONS  \n",
       "0                                                 []  \n",
       "1                                                 []  \n",
       "2                                  [BUSCAR PERSONAS]  \n",
       "3                                                 []  \n",
       "4                                                 []  \n",
       "5  [CREADOR BUEN AMBIENTE TRABAJO, FACILITAR INFO...  \n",
       "6                   [MERCANCIAS TRANSPORTE MARITIMO]  \n",
       "7   [MEJORAR SERVICIOS, GESTIONAR EQUIPO INTERMODAL]  \n",
       "8                                                 []  \n",
       "9  [PROCURAR DISTRIBUCION ELECTRICIDAD, RIESGOS L...  "
      ]
     },
     "execution_count": 7,
     "metadata": {},
     "output_type": "execute_result"
    }
   ],
   "source": [
    "def get_collocations(descripcion_oferta):\n",
    "    # Get all forms from the description\n",
    "    list_forms = calculate_forms(descripcion_oferta)\n",
    "    # Find in the list of collocations\n",
    "    list_collocations_found = [form for form in list_forms if form in list_collocations]\n",
    "    # Get the LEMA from the collocations\n",
    "    list_collocations_found = [df_collocations[df_collocations[\"FORMAS\"] == form][\"LEMA\"].iloc[0] for form in list_collocations_found]\n",
    "    return list_collocations_found\n",
    "\n",
    "df_offers[\"COLLOCATIONS\"] = df_offers[\"descripcion_oferta\"].apply(get_collocations)"
   ]
  },
  {
   "cell_type": "markdown",
   "metadata": {},
   "source": [
    "# Save to compare the dataframe"
   ]
  },
  {
   "cell_type": "code",
   "execution_count": null,
   "metadata": {},
   "outputs": [],
   "source": [
    "df_offers.to_json(\"./data/descripcion_ofertas_infojobs_21_23_collocations.json\")"
   ]
  },
  {
   "cell_type": "code",
   "execution_count": 4,
   "metadata": {},
   "outputs": [],
   "source": [
    "df_offers = pd.read_json(\"./data/descripcion_ofertas_infojobs_21_23_collocations.json\")\n",
    "df_offers.to_json(\"./data/descripcion_ofertas_infojobs_21_23_collocations.json\", orient=\"records\")"
   ]
  }
 ],
 "metadata": {
  "kernelspec": {
   "display_name": ".venv",
   "language": "python",
   "name": "python3"
  },
  "language_info": {
   "codemirror_mode": {
    "name": "ipython",
    "version": 3
   },
   "file_extension": ".py",
   "mimetype": "text/x-python",
   "name": "python",
   "nbconvert_exporter": "python",
   "pygments_lexer": "ipython3",
   "version": "3.9.16"
  }
 },
 "nbformat": 4,
 "nbformat_minor": 2
}
