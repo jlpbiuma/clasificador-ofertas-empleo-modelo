{
 "cells": [
  {
   "cell_type": "markdown",
   "metadata": {},
   "source": [
    "# Import libraries"
   ]
  },
  {
   "cell_type": "code",
   "execution_count": 1,
   "metadata": {},
   "outputs": [],
   "source": [
    "import pandas as pd\n",
    "import numpy as np\n",
    "import matplotlib.pyplot as plt\n",
    "from functions.filter import *\n",
    "from functions.signature import *"
   ]
  },
  {
   "cell_type": "markdown",
   "metadata": {},
   "source": [
    "# Import data"
   ]
  },
  {
   "cell_type": "code",
   "execution_count": 2,
   "metadata": {},
   "outputs": [
    {
     "name": "stdout",
     "output_type": "stream",
     "text": [
      "Before:(48893, 6)\n",
      "After:(48893, 6)\n"
     ]
    },
    {
     "data": {
      "text/html": [
       "<div>\n",
       "<style scoped>\n",
       "    .dataframe tbody tr th:only-of-type {\n",
       "        vertical-align: middle;\n",
       "    }\n",
       "\n",
       "    .dataframe tbody tr th {\n",
       "        vertical-align: top;\n",
       "    }\n",
       "\n",
       "    .dataframe thead th {\n",
       "        text-align: right;\n",
       "    }\n",
       "</style>\n",
       "<table border=\"1\" class=\"dataframe\">\n",
       "  <thead>\n",
       "    <tr style=\"text-align: right;\">\n",
       "      <th></th>\n",
       "      <th>ID_OFERTA</th>\n",
       "      <th>SUBCATEGORIA</th>\n",
       "      <th>CATEGORIA</th>\n",
       "      <th>PALABRAS_EMPLEO_TEXTO</th>\n",
       "      <th>ID_PUESTO_ESCO</th>\n",
       "      <th>ID_PUESTO_ESCO_ULL</th>\n",
       "      <th>NUM_WORDS</th>\n",
       "    </tr>\n",
       "  </thead>\n",
       "  <tbody>\n",
       "    <tr>\n",
       "      <th>0</th>\n",
       "      <td>8e1ea4db33443593cea3178cde8a04</td>\n",
       "      <td>Almacén</td>\n",
       "      <td>Compras, logística y almacén</td>\n",
       "      <td>PUNTOS PROYECTO CLIENTES SEMANALES VENTAS PRES...</td>\n",
       "      <td>2920</td>\n",
       "      <td>2920</td>\n",
       "      <td>34</td>\n",
       "    </tr>\n",
       "    <tr>\n",
       "      <th>1</th>\n",
       "      <td>2d7e0c22b94a03bd5810667a7d11c7</td>\n",
       "      <td>Sin especificar</td>\n",
       "      <td>Otros</td>\n",
       "      <td>ENFERMERA RESIDENCIA SERVICIOS AUXILIAR COMPRO...</td>\n",
       "      <td>613</td>\n",
       "      <td>613</td>\n",
       "      <td>16</td>\n",
       "    </tr>\n",
       "  </tbody>\n",
       "</table>\n",
       "</div>"
      ],
      "text/plain": [
       "                        ID_OFERTA     SUBCATEGORIA  \\\n",
       "0  8e1ea4db33443593cea3178cde8a04          Almacén   \n",
       "1  2d7e0c22b94a03bd5810667a7d11c7  Sin especificar   \n",
       "\n",
       "                      CATEGORIA  \\\n",
       "0  Compras, logística y almacén   \n",
       "1                         Otros   \n",
       "\n",
       "                               PALABRAS_EMPLEO_TEXTO  ID_PUESTO_ESCO  \\\n",
       "0  PUNTOS PROYECTO CLIENTES SEMANALES VENTAS PRES...            2920   \n",
       "1  ENFERMERA RESIDENCIA SERVICIOS AUXILIAR COMPRO...             613   \n",
       "\n",
       "   ID_PUESTO_ESCO_ULL  NUM_WORDS  \n",
       "0                2920         34  \n",
       "1                 613         16  "
      ]
     },
     "execution_count": 2,
     "metadata": {},
     "output_type": "execute_result"
    }
   ],
   "source": [
    "df_train = pd.read_json(\"../data/train/TRAIN.json\", encoding='utf-8')\n",
    "# Convert the name of the columns to uppercase\n",
    "df_train.columns = map(str.upper, df_train.columns)\n",
    "# Drop the null register if the PALABRAS_EMPLEO_TEXTO or CATEGORIA or SUBCATEGORIA is null\n",
    "print(\"Before:\" + str(df_train.shape))\n",
    "df_train = df_train.dropna(subset=['PALABRAS_EMPLEO_TEXTO', 'CATEGORIA', 'SUBCATEGORIA'])\n",
    "print(\"After:\" + str(df_train.shape))\n",
    "df_train['NUM_WORDS'] = df_train['PALABRAS_EMPLEO_TEXTO'].apply(lambda x: len(x.split(\" \")) - 1)\n",
    "# Shuffle the dataframe\n",
    "df_train = df_train.sample(frac=1).reset_index(drop=True)\n",
    "df_train.head(2)"
   ]
  },
  {
   "cell_type": "markdown",
   "metadata": {},
   "source": [
    "# Undersampling"
   ]
  },
  {
   "cell_type": "code",
   "execution_count": 3,
   "metadata": {},
   "outputs": [
    {
     "name": "stdout",
     "output_type": "stream",
     "text": [
      "Before:(48893, 7)\n",
      "After:(38165, 7)\n"
     ]
    }
   ],
   "source": [
    "print(\"Before:\" + str(df_train.shape))\n",
    "# Delete occupations with more than 1000 offers and set to 1000\n",
    "df_undersampling = drop_randomly_most_offers(df_train, maxOffers=1000, totalOffers=800)\n",
    "print(\"After:\" + str(df_undersampling.shape))\n",
    "# df_train.to_json(\"../data/train/TRAIN_filter_1000_offers.json\", orient='records', force_ascii=False)"
   ]
  },
  {
   "cell_type": "markdown",
   "metadata": {},
   "source": [
    "# Delete by Num of Words"
   ]
  },
  {
   "cell_type": "code",
   "execution_count": 4,
   "metadata": {},
   "outputs": [
    {
     "name": "stdout",
     "output_type": "stream",
     "text": [
      "Before:  48893\n",
      "After:  48893\n"
     ]
    }
   ],
   "source": [
    "print(\"Before: \", df_train.shape[0])\n",
    "# Delete all rows with less than 5 words\n",
    "df_words = delete_offers_with_less_words(df_train, 5)\n",
    "print(\"After: \", df_train.shape[0])\n",
    "# df_train.to_json(\"../data/train/TRAIN_filter_5_words.json\", orient='records', force_ascii=False)"
   ]
  },
  {
   "cell_type": "markdown",
   "metadata": {},
   "source": [
    "# Delete by signature"
   ]
  },
  {
   "cell_type": "code",
   "execution_count": 5,
   "metadata": {},
   "outputs": [
    {
     "name": "stdout",
     "output_type": "stream",
     "text": [
      "Before:  48893\n"
     ]
    },
    {
     "name": "stderr",
     "output_type": "stream",
     "text": [
      "/home/fulp/clasificador_ofertas_empleo/clasificador-ofertas-empleo-modelo/notebooks/functions/signature.py:73: FutureWarning: Setting an item of incompatible dtype is deprecated and will raise in a future error of pandas. Value '[0.4384, 0.2136, 0.9897, 0.9849, 0.4196, 0.2958, 0.9035, 0.2519, 0.1086, 0.9849, 0.9897, 0.9035, 0.9746, 0.1516, 0.9897, 0.8564, 0.0991, 0.1077, 0.9228, 0.3487, 0.9746, 0.1478, 0.2366, 0.2898, 0.1959, 0.3098, 0.9863, 0.2348, 0.331, 0.9035, 0.3772, 0.9897, 0.255, 0.3713, 0.1707, 0.3003, 0.9897, 0.8564, 0.9849, 0.9897, 0.2909, 0.9746, 0.4373, 0.3503, 0.2143, 0.3789, 0.3686, 0.8564, 0.9897, 0.3024, 0.9897, 0.4541, 0.4267, 0.8564, 0.9035, 0.4542, 0.2257, 0.921, 0.3118, 0.9897, 0.3211, 0.3047, 0.3865, 0.9849, 0.2072, 0.9897, 0.9897, 0.4327, 0.1685, 0.9897, 0.9897, 0.1363, 0.2884, 0.1478, 0.8564, 0.9897, 0.8564, 0.5612, 0.9849, 0.9897, 0.3758, 0.4054, 0.1596, 0.9212, 0.2072, 0.8564, 0.9897, 1.0, 0.8564, 0.3063, 0.2841, 0.4134, 0.9897, 0.9897, 0.2752, 0.2597, 1.0, 0.4224, 0.922, 1.0, 0.4122, 0.3475, 0.2583, 1.0, 0.9746, 0.8564, 0.4112, 0.9746, 0.922, 0.1347, 0.8564, 0.1272, 0.9746, 0.4165, 0.4112, 0.9746, 0.9746, 0.3967, 0.9897, 0.1991, 0.3407, 0.1196, 0.9746, 0.9897, 0.922, 0.9746, 0.1077, 0.2896, 0.921, 0.1991, 0.9746, 0.9849, 0.2778, 0.8564, 0.2909, 0.3105, 0.9746, 0.1482, 0.0894, 0.2715, 0.3487, 0.8564, 0.9849, 0.2878, 1.0, 0.9849, 0.3429, 0.9897, 0.3731, 0.9746, 0.9746, 0.3537, 0.4919, 0.448, 0.2761, 0.9897, 0.3731, 0.1514, 0.3629, 0.4333, 0.7691, 0.1482, 0.4384, 0.2878, 0.2854, 0.8564, 0.0894, 0.2884, 0.2761, 0.2884, 0.9849, 0.1478, 0.921, 0.2733, 0.3772, 1.0, 0.1495, 0.3459, 0.291, 0.2072, 0.9746, 0.9897, 0.9746, 0.3047, 0.9897, 0.3295, 0.2918, 0.9228, 0.9228, 0.9746, 0.4193, 0.2909, 0.5678, 0.9746, 0.216, 0.1237, 0.7691, 0.332, 1.0, 0.2909, 0.2878, 0.9897, 0.8371, 0.9849, 0.2878, 0.4217, 0.1959, 0.8574, 0.1112, 0.3662, 0.8564, 0.3492, 0.3295, 0.9746, 0.4126, 0.2715, 0.4084, 0.9863, 0.2072, 0.2414, 0.9849, 0.3967, 0.2909, 0.1352, 0.3143, 0.4112, 0.3544, 0.9897, 0.9897, 0.9849, 0.2253, 0.2041, 0.9849, 0.2781, 0.8564, 0.4349, 0.9897, 1.0, 0.8371, 0.4333, 0.2761, 0.3442, 0.404, 0.4084, 0.2257, 0.9897, 0.9746, 0.43, 0.2008, 0.9897, 0.2072, 0.9897, 0.296, 0.9849, 0.9228, 0.2347, 0.3819, 0.2054, 0.3415, 0.2759, 0.2759, 0.2802, 0.343, 0.4131, 0.2523, 0.2054, 0.3077, 0.9746, 0.231, 0.1196, 0.3947, 0.4591, 0.4133, 0.921, 0.8564, 0.3608, 0.3731, 0.2107, 0.3834, 0.3967, 0.3629, 0.3171, 0.1254, 0.43, 0.3891, 0.9849, 0.4229, 0.9746, 0.2113, 0.2388, 0.9746, 0.9897, 0.3763, 1.0, 0.1112, 0.1436, 0.1895, 0.9849, 0.3176, 0.9897, 0.8564, 0.1058, 0.9897, 0.4333, 0.1077, 0.9849, 0.9849, 0.3105, 0.8564, 0.1867, 0.9849, 0.196, 0.3508, 0.8371, 0.9897, 0.2031, 0.3071, 0.9897, 0.9228, 0.4193, 0.5518, 0.9849, 0.9228, 0.2519, 0.4193, 0.255, 0.2909, 0.8564, 0.9228, 1.0, 0.9228, 0.9897, 0.922, 0.1231, 0.9897, 0.9897, 0.2679, 0.9863, 0.3487, 0.2943, 0.1736, 0.9746, 0.301, 0.1077, 0.4236, 0.9746, 0.3712, 0.2761, 0.5338, 0.2136, 0.4447, 0.2951, 0.921, 0.9746, 1.0, 0.2884, 0.9849, 0.159, 0.9897, 0.9897, 0.4077, 0.4821, 0.9746, 0.1985, 0.0844, 0.3878, 0.4182, 0.2884, 0.9746, 0.9849, 0.9746, 0.2796, 0.9897, 0.1867, 0.8564, 0.9897, 0.22, 0.9746, 0.2909, 0.4193, 0.9897, 0.1777, 0.2878, 0.4384, 0.4079, 0.2781, 0.2642, 0.2804, 0.2761, 0.4044]' has dtype incompatible with int64, please explicitly cast to a compatible dtype first.\n",
      "  df.loc[df['ID_PUESTO_ESCO_ULL'] == occupation_id, 'RELATIVE_SIGNATURE'] = signatures\n"
     ]
    }
   ],
   "source": [
    "print(\"Before: \", df_train.shape[0])\n",
    "diccionario_ocupaciones = create_diccionario_ocupaciones(df_train)\n",
    "df_train['RELATIVE_SIGNATURE'] = get_offers_signature_relative(df_train, diccionario_ocupaciones)\n",
    "df_signature = delete_offers_same_occupation_by_signature(df_train, maxOffers=10, totalOffers=10)\n",
    "print(\"After: \", df_signatures.shape[0])"
   ]
  },
  {
   "cell_type": "markdown",
   "metadata": {},
   "source": [
    "# Both conditions"
   ]
  },
  {
   "cell_type": "code",
   "execution_count": null,
   "metadata": {},
   "outputs": [
    {
     "data": {
      "text/html": [
       "<div>\n",
       "<style scoped>\n",
       "    .dataframe tbody tr th:only-of-type {\n",
       "        vertical-align: middle;\n",
       "    }\n",
       "\n",
       "    .dataframe tbody tr th {\n",
       "        vertical-align: top;\n",
       "    }\n",
       "\n",
       "    .dataframe thead th {\n",
       "        text-align: right;\n",
       "    }\n",
       "</style>\n",
       "<table border=\"1\" class=\"dataframe\">\n",
       "  <thead>\n",
       "    <tr style=\"text-align: right;\">\n",
       "      <th></th>\n",
       "      <th>ID_OFERTA</th>\n",
       "      <th>SUBCATEGORIA</th>\n",
       "      <th>CATEGORIA</th>\n",
       "      <th>PALABRAS_EMPLEO_TEXTO</th>\n",
       "      <th>ID_PUESTO_ESCO</th>\n",
       "      <th>ID_PUESTO_ESCO_ULL</th>\n",
       "      <th>NUM_WORDS</th>\n",
       "      <th>RELATIVE_SIGNATURE</th>\n",
       "    </tr>\n",
       "  </thead>\n",
       "  <tbody>\n",
       "    <tr>\n",
       "      <th>0</th>\n",
       "      <td>8c35200a864b1b8fba47712770fca9</td>\n",
       "      <td>Helpdesk</td>\n",
       "      <td>Informática y telecomunicaciones</td>\n",
       "      <td>USUARIAS SOLUCIONES OPERATIVO INFORMATICO DETE...</td>\n",
       "      <td>1835</td>\n",
       "      <td>1835</td>\n",
       "      <td>31</td>\n",
       "      <td>0.6231</td>\n",
       "    </tr>\n",
       "    <tr>\n",
       "      <th>1</th>\n",
       "      <td>316fb827024d4bb698fe9383d1e674</td>\n",
       "      <td>Odontología</td>\n",
       "      <td>Sanidad y salud</td>\n",
       "      <td>DENTISTA AUTONOMO VISITAS DIAGNOSTICO TRATAMIE...</td>\n",
       "      <td>627</td>\n",
       "      <td>627</td>\n",
       "      <td>11</td>\n",
       "      <td>0.1290</td>\n",
       "    </tr>\n",
       "  </tbody>\n",
       "</table>\n",
       "</div>"
      ],
      "text/plain": [
       "                        ID_OFERTA SUBCATEGORIA  \\\n",
       "0  8c35200a864b1b8fba47712770fca9     Helpdesk   \n",
       "1  316fb827024d4bb698fe9383d1e674  Odontología   \n",
       "\n",
       "                          CATEGORIA  \\\n",
       "0  Informática y telecomunicaciones   \n",
       "1                   Sanidad y salud   \n",
       "\n",
       "                               PALABRAS_EMPLEO_TEXTO  ID_PUESTO_ESCO  \\\n",
       "0  USUARIAS SOLUCIONES OPERATIVO INFORMATICO DETE...            1835   \n",
       "1  DENTISTA AUTONOMO VISITAS DIAGNOSTICO TRATAMIE...             627   \n",
       "\n",
       "   ID_PUESTO_ESCO_ULL  NUM_WORDS  RELATIVE_SIGNATURE  \n",
       "0                1835         31              0.6231  \n",
       "1                 627         11              0.1290  "
      ]
     },
     "execution_count": 7,
     "metadata": {},
     "output_type": "execute_result"
    }
   ],
   "source": [
    "df_train.head(2)"
   ]
  }
 ],
 "metadata": {
  "kernelspec": {
   "display_name": ".venv",
   "language": "python",
   "name": "python3"
  },
  "language_info": {
   "codemirror_mode": {
    "name": "ipython",
    "version": 3
   },
   "file_extension": ".py",
   "mimetype": "text/x-python",
   "name": "python",
   "nbconvert_exporter": "python",
   "pygments_lexer": "ipython3",
   "version": "3.9.16"
  },
  "orig_nbformat": 4
 },
 "nbformat": 4,
 "nbformat_minor": 2
}
