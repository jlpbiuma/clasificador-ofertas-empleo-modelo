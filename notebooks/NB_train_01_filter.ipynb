{
 "cells": [
  {
   "cell_type": "markdown",
   "metadata": {},
   "source": [
    "# Import libraries"
   ]
  },
  {
   "cell_type": "code",
   "execution_count": 21,
   "metadata": {},
   "outputs": [],
   "source": [
    "import pandas as pd\n",
    "import numpy as np\n",
    "import matplotlib.pyplot as plt\n",
    "from functions.filter import *\n",
    "from functions.signature import *"
   ]
  },
  {
   "cell_type": "markdown",
   "metadata": {},
   "source": [
    "# Import data"
   ]
  },
  {
   "cell_type": "code",
   "execution_count": 22,
   "metadata": {},
   "outputs": [
    {
     "name": "stdout",
     "output_type": "stream",
     "text": [
      "Before:(48893, 6)\n",
      "After:(48893, 6)\n"
     ]
    },
    {
     "data": {
      "text/html": [
       "<div>\n",
       "<style scoped>\n",
       "    .dataframe tbody tr th:only-of-type {\n",
       "        vertical-align: middle;\n",
       "    }\n",
       "\n",
       "    .dataframe tbody tr th {\n",
       "        vertical-align: top;\n",
       "    }\n",
       "\n",
       "    .dataframe thead th {\n",
       "        text-align: right;\n",
       "    }\n",
       "</style>\n",
       "<table border=\"1\" class=\"dataframe\">\n",
       "  <thead>\n",
       "    <tr style=\"text-align: right;\">\n",
       "      <th></th>\n",
       "      <th>ID_OFERTA</th>\n",
       "      <th>SUBCATEGORIA</th>\n",
       "      <th>CATEGORIA</th>\n",
       "      <th>PALABRAS_EMPLEO_TEXTO</th>\n",
       "      <th>ID_PUESTO_ESCO</th>\n",
       "      <th>ID_PUESTO_ESCO_ULL</th>\n",
       "      <th>NUM_WORDS</th>\n",
       "    </tr>\n",
       "  </thead>\n",
       "  <tbody>\n",
       "    <tr>\n",
       "      <th>0</th>\n",
       "      <td>083bc773384769ba079884ec5778d9</td>\n",
       "      <td>Atención al cliente</td>\n",
       "      <td>Atención a clientes</td>\n",
       "      <td>DEPENDIENTE TIENDAS MODA INFANTIL EMPRESAS SEC...</td>\n",
       "      <td>1984</td>\n",
       "      <td>1984</td>\n",
       "      <td>23</td>\n",
       "    </tr>\n",
       "    <tr>\n",
       "      <th>1</th>\n",
       "      <td>5791a15ae248feb75908bdc5d5cea2</td>\n",
       "      <td>Estética y cosmética</td>\n",
       "      <td>Profesiones, artes y oficios</td>\n",
       "      <td>PELUQUERO OFICIAL PELUQUERIA EXPERIENCIA PLANT...</td>\n",
       "      <td>1916</td>\n",
       "      <td>1916</td>\n",
       "      <td>17</td>\n",
       "    </tr>\n",
       "  </tbody>\n",
       "</table>\n",
       "</div>"
      ],
      "text/plain": [
       "                        ID_OFERTA          SUBCATEGORIA  \\\n",
       "0  083bc773384769ba079884ec5778d9   Atención al cliente   \n",
       "1  5791a15ae248feb75908bdc5d5cea2  Estética y cosmética   \n",
       "\n",
       "                      CATEGORIA  \\\n",
       "0           Atención a clientes   \n",
       "1  Profesiones, artes y oficios   \n",
       "\n",
       "                               PALABRAS_EMPLEO_TEXTO  ID_PUESTO_ESCO  \\\n",
       "0  DEPENDIENTE TIENDAS MODA INFANTIL EMPRESAS SEC...            1984   \n",
       "1  PELUQUERO OFICIAL PELUQUERIA EXPERIENCIA PLANT...            1916   \n",
       "\n",
       "   ID_PUESTO_ESCO_ULL  NUM_WORDS  \n",
       "0                1984         23  \n",
       "1                1916         17  "
      ]
     },
     "execution_count": 22,
     "metadata": {},
     "output_type": "execute_result"
    }
   ],
   "source": [
    "df_train = pd.read_json(\"../data/train/TRAIN.json\", encoding='utf-8')\n",
    "# Convert the name of the columns to uppercase\n",
    "df_train.columns = map(str.upper, df_train.columns)\n",
    "# Drop the null register if the PALABRAS_EMPLEO_TEXTO or CATEGORIA or SUBCATEGORIA is null\n",
    "print(\"Before:\" + str(df_train.shape))\n",
    "df_train = df_train.dropna(subset=['PALABRAS_EMPLEO_TEXTO', 'CATEGORIA', 'SUBCATEGORIA'])\n",
    "print(\"After:\" + str(df_train.shape))\n",
    "df_train['NUM_WORDS'] = df_train['PALABRAS_EMPLEO_TEXTO'].apply(lambda x: len(x.split(\" \")) - 1)\n",
    "# Shuffle the dataframe\n",
    "df_train = df_train.sample(frac=1).reset_index(drop=True)\n",
    "df_train.head(2)"
   ]
  },
  {
   "cell_type": "markdown",
   "metadata": {},
   "source": [
    "# Undersampling"
   ]
  },
  {
   "cell_type": "code",
   "execution_count": 23,
   "metadata": {},
   "outputs": [
    {
     "name": "stdout",
     "output_type": "stream",
     "text": [
      "Before:(48893, 7)\n",
      "After:(38165, 7)\n"
     ]
    }
   ],
   "source": [
    "print(\"Before:\" + str(df_train.shape))\n",
    "# Delete occupations with more than 1000 offers and set to 1000\n",
    "df_undersampling = drop_randomly_most_offers(df_train, maxOffers=1000, totalOffers=800)\n",
    "print(\"After:\" + str(df_undersampling.shape))\n",
    "# df_undersampling.to_json(\"../data/train/TRAIN_filter_1000_offers.json\", orient='records', force_ascii=False)"
   ]
  },
  {
   "cell_type": "markdown",
   "metadata": {},
   "source": [
    "# Delete by Num of Words"
   ]
  },
  {
   "cell_type": "code",
   "execution_count": 24,
   "metadata": {},
   "outputs": [
    {
     "name": "stdout",
     "output_type": "stream",
     "text": [
      "Before:  48893\n",
      "After:  48893\n"
     ]
    }
   ],
   "source": [
    "print(\"Before: \", df_train.shape[0])\n",
    "# Delete all rows with less than 5 words\n",
    "df_words = delete_offers_with_less_words(df_train, 5)\n",
    "print(\"After: \", df_train.shape[0])\n",
    "# df_words.to_json(\"../data/train/TRAIN_filter_5_words.json\", orient='records', force_ascii=False)"
   ]
  },
  {
   "cell_type": "markdown",
   "metadata": {},
   "source": [
    "# Delete by signature"
   ]
  },
  {
   "cell_type": "code",
   "execution_count": 27,
   "metadata": {},
   "outputs": [
    {
     "name": "stdout",
     "output_type": "stream",
     "text": [
      "Before:  48893\n"
     ]
    },
    {
     "name": "stdout",
     "output_type": "stream",
     "text": [
      "After:  45957\n"
     ]
    }
   ],
   "source": [
    "print(\"Before: \", df_train.shape[0])\n",
    "diccionario_ocupaciones = create_diccionario_ocupaciones(df_train)\n",
    "df_train['RELATIVE_SIGNATURE'] = get_offers_signature_relative(df_train, diccionario_ocupaciones, precision=2)\n",
    "show_signature_by_occupation(df_train, 1607)\n",
    "df_signature = delete_offers_same_occupation_by_signature(df_train, maxOffers=100, totalOffers=100, precision=2)\n",
    "show_signature_by_occupation(df_signature, 1607)\n",
    "print(\"After: \", df_signature.shape[0])\n",
    "df_signature.to_json(\"../data/train/TRAIN_filter_100_signature.json\", orient='records', force_ascii=False)"
   ]
  },
  {
   "cell_type": "markdown",
   "metadata": {},
   "source": [
    "# Delete by signature and undersampling"
   ]
  },
  {
   "cell_type": "code",
   "execution_count": 28,
   "metadata": {},
   "outputs": [
    {
     "name": "stdout",
     "output_type": "stream",
     "text": [
      "Before:  48893\n",
      "After:  47117\n"
     ]
    }
   ],
   "source": [
    "print(\"Before: \", df_train.shape[0])\n",
    "diccionario_ocupaciones = create_diccionario_ocupaciones(df_train)\n",
    "df_train['RELATIVE_SIGNATURE'] = get_offers_signature_relative(df_train, diccionario_ocupaciones, precision=4)\n",
    "df_signature = delete_offers_same_occupation_by_signature(df_train, maxOffers=100, totalOffers=100, precision=4)\n",
    "df_signature_undersampling = drop_randomly_most_offers(df_signature, maxOffers=400, totalOffers=400)\n",
    "print(\"After: \", df_signature.shape[0])"
   ]
  },
  {
   "cell_type": "code",
   "execution_count": null,
   "metadata": {},
   "outputs": [],
   "source": [
    "df_signature.to_json(\"../data/train/TRAIN_filter_100_signature.json\", orient='records', force_ascii=False)"
   ]
  }
 ],
 "metadata": {
  "kernelspec": {
   "display_name": ".venv",
   "language": "python",
   "name": "python3"
  },
  "language_info": {
   "codemirror_mode": {
    "name": "ipython",
    "version": 3
   },
   "file_extension": ".py",
   "mimetype": "text/x-python",
   "name": "python",
   "nbconvert_exporter": "python",
   "pygments_lexer": "ipython3",
   "version": "3.9.16"
  },
  "orig_nbformat": 4
 },
 "nbformat": 4,
 "nbformat_minor": 2
}
