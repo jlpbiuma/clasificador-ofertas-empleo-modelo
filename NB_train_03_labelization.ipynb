{
 "cells": [
  {
   "cell_type": "markdown",
   "metadata": {},
   "source": [
    "# Import libraries"
   ]
  },
  {
   "cell_type": "code",
   "execution_count": 1,
   "metadata": {},
   "outputs": [],
   "source": [
    "import pandas as pd\n",
    "import numpy as np\n",
    "from functions.labelization import *"
   ]
  },
  {
   "cell_type": "markdown",
   "metadata": {},
   "source": [
    "# Import training dataframe"
   ]
  },
  {
   "cell_type": "code",
   "execution_count": 2,
   "metadata": {},
   "outputs": [
    {
     "name": "stdout",
     "output_type": "stream",
     "text": [
      "(48893, 6)\n"
     ]
    },
    {
     "data": {
      "text/html": [
       "<div>\n",
       "<style scoped>\n",
       "    .dataframe tbody tr th:only-of-type {\n",
       "        vertical-align: middle;\n",
       "    }\n",
       "\n",
       "    .dataframe tbody tr th {\n",
       "        vertical-align: top;\n",
       "    }\n",
       "\n",
       "    .dataframe thead th {\n",
       "        text-align: right;\n",
       "    }\n",
       "</style>\n",
       "<table border=\"1\" class=\"dataframe\">\n",
       "  <thead>\n",
       "    <tr style=\"text-align: right;\">\n",
       "      <th></th>\n",
       "      <th>ID_OFERTA</th>\n",
       "      <th>SUBCATEGORIA</th>\n",
       "      <th>CATEGORIA</th>\n",
       "      <th>PALABRAS_EMPLEO_TEXTO</th>\n",
       "      <th>ID_PUESTO_ESCO</th>\n",
       "      <th>ID_PUESTO_ESCO_ULL</th>\n",
       "    </tr>\n",
       "  </thead>\n",
       "  <tbody>\n",
       "    <tr>\n",
       "      <th>0</th>\n",
       "      <td>ef5a8ae0a743018628df9bd53893bb</td>\n",
       "      <td>Administración</td>\n",
       "      <td>Administración de empresas</td>\n",
       "      <td>ADMINISTRATIVO INGLES NAVISION EMPRESAS CARACT...</td>\n",
       "      <td>1634</td>\n",
       "      <td>1634</td>\n",
       "    </tr>\n",
       "    <tr>\n",
       "      <th>1</th>\n",
       "      <td>47137c06a640348ca4cb7dcbf938b1</td>\n",
       "      <td>Medicina general</td>\n",
       "      <td>Sanidad y salud</td>\n",
       "      <td>MEDICO MEDICINA DIAGNOSTICO TRATAMIENTO LICENC...</td>\n",
       "      <td>611</td>\n",
       "      <td>611</td>\n",
       "    </tr>\n",
       "    <tr>\n",
       "      <th>2</th>\n",
       "      <td>cdfb72672340819a6721db72eee187</td>\n",
       "      <td>Comercial</td>\n",
       "      <td>Comercial y ventas</td>\n",
       "      <td>REPARTIDOR PERSONA CHOFER VENTAS CLIENTES SEGU...</td>\n",
       "      <td>2825</td>\n",
       "      <td>2825</td>\n",
       "    </tr>\n",
       "    <tr>\n",
       "      <th>3</th>\n",
       "      <td>5746210e854264aaca9452f4d377a4</td>\n",
       "      <td>Venta al detalle</td>\n",
       "      <td>Ventas al detalle</td>\n",
       "      <td>DEPENDIENTE PROCESOS SELECCION COMERCIAL TIEND...</td>\n",
       "      <td>1984</td>\n",
       "      <td>1984</td>\n",
       "    </tr>\n",
       "    <tr>\n",
       "      <th>4</th>\n",
       "      <td>8a1bda0c91438bb4133f32e392a1ce</td>\n",
       "      <td>Venta al detalle</td>\n",
       "      <td>Ventas al detalle</td>\n",
       "      <td>DEPENDIENTE PALMERAS SEMANALES ATENCIONES VENT...</td>\n",
       "      <td>1984</td>\n",
       "      <td>1984</td>\n",
       "    </tr>\n",
       "  </tbody>\n",
       "</table>\n",
       "</div>"
      ],
      "text/plain": [
       "                        ID_OFERTA      SUBCATEGORIA  \\\n",
       "0  ef5a8ae0a743018628df9bd53893bb    Administración   \n",
       "1  47137c06a640348ca4cb7dcbf938b1  Medicina general   \n",
       "2  cdfb72672340819a6721db72eee187         Comercial   \n",
       "3  5746210e854264aaca9452f4d377a4  Venta al detalle   \n",
       "4  8a1bda0c91438bb4133f32e392a1ce  Venta al detalle   \n",
       "\n",
       "                    CATEGORIA  \\\n",
       "0  Administración de empresas   \n",
       "1             Sanidad y salud   \n",
       "2          Comercial y ventas   \n",
       "3           Ventas al detalle   \n",
       "4           Ventas al detalle   \n",
       "\n",
       "                               PALABRAS_EMPLEO_TEXTO  ID_PUESTO_ESCO  \\\n",
       "0  ADMINISTRATIVO INGLES NAVISION EMPRESAS CARACT...            1634   \n",
       "1  MEDICO MEDICINA DIAGNOSTICO TRATAMIENTO LICENC...             611   \n",
       "2  REPARTIDOR PERSONA CHOFER VENTAS CLIENTES SEGU...            2825   \n",
       "3  DEPENDIENTE PROCESOS SELECCION COMERCIAL TIEND...            1984   \n",
       "4  DEPENDIENTE PALMERAS SEMANALES ATENCIONES VENT...            1984   \n",
       "\n",
       "   ID_PUESTO_ESCO_ULL  \n",
       "0                1634  \n",
       "1                 611  \n",
       "2                2825  \n",
       "3                1984  \n",
       "4                1984  "
      ]
     },
     "execution_count": 2,
     "metadata": {},
     "output_type": "execute_result"
    }
   ],
   "source": [
    "df_train = pd.read_json('data/train/TRAIN.json')\n",
    "# Transform columns to uppercase\n",
    "df_train.columns = map(str.upper, df_train.columns)\n",
    "print(df_train.shape)\n",
    "df_train.head()"
   ]
  },
  {
   "cell_type": "markdown",
   "metadata": {},
   "source": [
    "# Labelize"
   ]
  },
  {
   "cell_type": "code",
   "execution_count": 3,
   "metadata": {},
   "outputs": [],
   "source": [
    "ids = df_train['ID_PUESTO_ESCO_ULL']\n",
    "# Create dictionary of label ids\n",
    "dict_label_ids = create_dict_label_ids(ids)\n",
    "# Save the dictionary\n",
    "path_ids_labels = 'data/train/ids_labels.json'\n",
    "save_dict_label_ids(dict_label_ids, path_ids_labels)"
   ]
  }
 ],
 "metadata": {
  "kernelspec": {
   "display_name": ".venv",
   "language": "python",
   "name": "python3"
  },
  "language_info": {
   "codemirror_mode": {
    "name": "ipython",
    "version": 3
   },
   "file_extension": ".py",
   "mimetype": "text/x-python",
   "name": "python",
   "nbconvert_exporter": "python",
   "pygments_lexer": "ipython3",
   "version": "3.9.16"
  },
  "orig_nbformat": 4
 },
 "nbformat": 4,
 "nbformat_minor": 2
}
