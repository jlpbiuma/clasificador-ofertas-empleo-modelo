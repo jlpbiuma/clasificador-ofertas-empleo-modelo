{
 "cells": [
  {
   "cell_type": "markdown",
   "metadata": {},
   "source": [
    "# Import libraries"
   ]
  },
  {
   "cell_type": "code",
   "execution_count": 1,
   "metadata": {},
   "outputs": [
    {
     "name": "stderr",
     "output_type": "stream",
     "text": [
      "2023-09-01 14:59:08.013122: I tensorflow/tsl/cuda/cudart_stub.cc:28] Could not find cuda drivers on your machine, GPU will not be used.\n",
      "2023-09-01 14:59:08.227124: I tensorflow/tsl/cuda/cudart_stub.cc:28] Could not find cuda drivers on your machine, GPU will not be used.\n",
      "2023-09-01 14:59:08.228428: I tensorflow/core/platform/cpu_feature_guard.cc:182] This TensorFlow binary is optimized to use available CPU instructions in performance-critical operations.\n",
      "To enable the following instructions: AVX2 FMA, in other operations, rebuild TensorFlow with the appropriate compiler flags.\n",
      "2023-09-01 14:59:09.763208: W tensorflow/compiler/tf2tensorrt/utils/py_utils.cc:38] TF-TRT Warning: Could not find TensorRT\n"
     ]
    }
   ],
   "source": [
    "import pandas as pd\n",
    "import numpy as np\n",
    "from functions.model import *\n",
    "from functions.vectorization import *\n",
    "from functions.vocabulary import *\n",
    "from functions.labelization import *"
   ]
  },
  {
   "cell_type": "markdown",
   "metadata": {},
   "source": [
    "# Define train query"
   ]
  },
  {
   "cell_type": "code",
   "execution_count": 2,
   "metadata": {},
   "outputs": [],
   "source": [
    "train_query=\"SELECT\""
   ]
  },
  {
   "cell_type": "markdown",
   "metadata": {},
   "source": [
    "# Import id->label (test)"
   ]
  },
  {
   "cell_type": "code",
   "execution_count": 3,
   "metadata": {},
   "outputs": [],
   "source": [
    "dict_label_ids = load_dict_label_ids('data/train/ids_labels.json')"
   ]
  },
  {
   "cell_type": "markdown",
   "metadata": {},
   "source": [
    "# Import vectors"
   ]
  },
  {
   "cell_type": "code",
   "execution_count": 4,
   "metadata": {},
   "outputs": [],
   "source": [
    "vectorized_dataframe = load_vectorized_dataframe('data/train/df_train_vectorized.npy')\n",
    "df_train = pd.read_json('data/train/TRAIN.json')\n",
    "df_train.columns = map(str.upper, df_train.columns)\n",
    "train_ids = df_train['ID_PUESTO_ESCO_ULL']"
   ]
  },
  {
   "cell_type": "markdown",
   "metadata": {},
   "source": [
    "# Get input dimension of model"
   ]
  },
  {
   "cell_type": "code",
   "execution_count": 5,
   "metadata": {},
   "outputs": [],
   "source": [
    "vocabulary = load_vocabulary('data/train/vocabulary.json')\n",
    "input_dimension = get_vocabulary_dimension(vocabulary)"
   ]
  },
  {
   "cell_type": "markdown",
   "metadata": {},
   "source": [
    "# Get output dimension of the model"
   ]
  },
  {
   "cell_type": "code",
   "execution_count": 6,
   "metadata": {},
   "outputs": [],
   "source": [
    "output_dimension = get_dict_dimension(dict_label_ids)"
   ]
  },
  {
   "cell_type": "markdown",
   "metadata": {},
   "source": [
    "# Create model"
   ]
  },
  {
   "cell_type": "code",
   "execution_count": 7,
   "metadata": {},
   "outputs": [],
   "source": [
    "model = create_model(input_dimension, output_dimension)"
   ]
  },
  {
   "cell_type": "markdown",
   "metadata": {},
   "source": [
    "# Train model"
   ]
  },
  {
   "cell_type": "code",
   "execution_count": 8,
   "metadata": {},
   "outputs": [
    {
     "name": "stderr",
     "output_type": "stream",
     "text": [
      "2023-09-01 14:59:31.567819: W tensorflow/tsl/framework/cpu_allocator_impl.cc:83] Allocation of 713752272 exceeds 10% of free system memory.\n"
     ]
    },
    {
     "name": "stdout",
     "output_type": "stream",
     "text": [
      "Epoch 1/10\n",
      "4890/4890 [==============================] - 20s 4ms/step - loss: 2.4205 - accuracy: 0.5477 - val_loss: 1.9234 - val_accuracy: 0.6262\n",
      "Epoch 2/10\n",
      "4890/4890 [==============================] - 17s 3ms/step - loss: 1.3983 - accuracy: 0.6776 - val_loss: 1.8471 - val_accuracy: 0.6397\n",
      "Epoch 3/10\n",
      "4890/4890 [==============================] - 16s 3ms/step - loss: 1.0659 - accuracy: 0.7259 - val_loss: 1.8466 - val_accuracy: 0.6509\n",
      "Epoch 4/10\n",
      "4890/4890 [==============================] - 16s 3ms/step - loss: 0.8709 - accuracy: 0.7594 - val_loss: 1.9611 - val_accuracy: 0.6541\n",
      "Epoch 5/10\n",
      "4890/4890 [==============================] - 17s 3ms/step - loss: 0.7318 - accuracy: 0.7871 - val_loss: 2.0943 - val_accuracy: 0.6530\n",
      "Epoch 6/10\n",
      "4890/4890 [==============================] - 18s 4ms/step - loss: 0.6308 - accuracy: 0.8083 - val_loss: 2.3378 - val_accuracy: 0.6570\n",
      "Epoch 7/10\n",
      "4890/4890 [==============================] - 17s 3ms/step - loss: 0.5543 - accuracy: 0.8272 - val_loss: 2.5026 - val_accuracy: 0.6445\n",
      "Epoch 8/10\n",
      "4890/4890 [==============================] - 16s 3ms/step - loss: 0.4955 - accuracy: 0.8439 - val_loss: 2.6211 - val_accuracy: 0.6466\n",
      "Epoch 9/10\n",
      "4066/4890 [=======================>......] - ETA: 2s - loss: 0.4416 - accuracy: 0.8573"
     ]
    }
   ],
   "source": [
    "# Convert vectorized dataframe to np.vstack\n",
    "vector_array = np.vstack(vectorized_dataframe)\n",
    "train_labels_array = cast_id_to_labels(train_ids, dict_label_ids)\n",
    "\n",
    "# Train model\n",
    "model, history = model_train(model, train_query, vector_array, train_labels_array, epochs=10, batch_size=8, validation_split=0.2, verbose=1, balance_data=True)"
   ]
  }
 ],
 "metadata": {
  "kernelspec": {
   "display_name": ".venv",
   "language": "python",
   "name": "python3"
  },
  "language_info": {
   "codemirror_mode": {
    "name": "ipython",
    "version": 3
   },
   "file_extension": ".py",
   "mimetype": "text/x-python",
   "name": "python",
   "nbconvert_exporter": "python",
   "pygments_lexer": "ipython3",
   "version": "3.9.16"
  },
  "orig_nbformat": 4
 },
 "nbformat": 4,
 "nbformat_minor": 2
}
