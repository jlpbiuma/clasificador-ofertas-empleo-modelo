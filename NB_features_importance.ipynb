{
 "cells": [
  {
   "cell_type": "code",
   "execution_count": 1,
   "metadata": {},
   "outputs": [
    {
     "name": "stderr",
     "output_type": "stream",
     "text": [
      "2023-08-29 13:04:58.686156: I tensorflow/tsl/cuda/cudart_stub.cc:28] Could not find cuda drivers on your machine, GPU will not be used.\n",
      "2023-08-29 13:05:00.222481: I tensorflow/tsl/cuda/cudart_stub.cc:28] Could not find cuda drivers on your machine, GPU will not be used.\n",
      "2023-08-29 13:05:00.226179: I tensorflow/core/platform/cpu_feature_guard.cc:182] This TensorFlow binary is optimized to use available CPU instructions in performance-critical operations.\n",
      "To enable the following instructions: AVX2 FMA, in other operations, rebuild TensorFlow with the appropriate compiler flags.\n",
      "2023-08-29 13:05:02.295338: W tensorflow/compiler/tf2tensorrt/utils/py_utils.cc:38] TF-TRT Warning: Could not find TensorRT\n"
     ]
    }
   ],
   "source": [
    "import pandas as pd\n",
    "import numpy as np\n",
    "import matplotlib.pyplot as plt\n",
    "from functions.model import *\n",
    "from functions.tools import *"
   ]
  },
  {
   "cell_type": "markdown",
   "metadata": {},
   "source": [
    "# Load the training data"
   ]
  },
  {
   "cell_type": "code",
   "execution_count": 3,
   "metadata": {},
   "outputs": [],
   "source": [
    "df_train = pd.read_csv('./data/previous/df_train_test.csv')\n",
    "vector, vocabulary = load_vector_columns(train_vector_path, train_vocabulary_path)"
   ]
  },
  {
   "cell_type": "markdown",
   "metadata": {},
   "source": [
    "# Load the model"
   ]
  },
  {
   "cell_type": "code",
   "execution_count": 2,
   "metadata": {},
   "outputs": [
    {
     "name": "stderr",
     "output_type": "stream",
     "text": [
      "2023-08-29 13:05:08.403459: W tensorflow/tsl/framework/cpu_allocator_impl.cc:83] Allocation of 38060032 exceeds 10% of free system memory.\n",
      "2023-08-29 13:05:08.477597: W tensorflow/tsl/framework/cpu_allocator_impl.cc:83] Allocation of 38060032 exceeds 10% of free system memory.\n",
      "2023-08-29 13:05:08.504713: W tensorflow/tsl/framework/cpu_allocator_impl.cc:83] Allocation of 38060032 exceeds 10% of free system memory.\n",
      "2023-08-29 13:05:09.238026: W tensorflow/tsl/framework/cpu_allocator_impl.cc:83] Allocation of 38060032 exceeds 10% of free system memory.\n",
      "2023-08-29 13:05:09.309271: W tensorflow/tsl/framework/cpu_allocator_impl.cc:83] Allocation of 38060032 exceeds 10% of free system memory.\n"
     ]
    }
   ],
   "source": [
    "model_name = 'my_model_V1.h5'\n",
    "model_folder = './model_clasifier/'\n",
    "model = model_load(model_folder + model_name)"
   ]
  },
  {
   "cell_type": "markdown",
   "metadata": {},
   "source": [
    "# Get the features importance"
   ]
  },
  {
   "cell_type": "code",
   "execution_count": null,
   "metadata": {},
   "outputs": [],
   "source": [
    "import shap\n",
    "# Explain predictions using SHAP values\n",
    "explainer = shap.Explainer(model)\n",
    "shap_values = explainer(X_train)\n",
    "\n",
    "# Get feature importance\n",
    "feature_importance = np.abs(shap_values.mean(0))\n",
    "sorted_indices = np.argsort(feature_importance)[::-1]"
   ]
  }
 ],
 "metadata": {
  "kernelspec": {
   "display_name": ".venv",
   "language": "python",
   "name": "python3"
  },
  "language_info": {
   "codemirror_mode": {
    "name": "ipython",
    "version": 3
   },
   "file_extension": ".py",
   "mimetype": "text/x-python",
   "name": "python",
   "nbconvert_exporter": "python",
   "pygments_lexer": "ipython3",
   "version": "3.9.16"
  },
  "orig_nbformat": 4
 },
 "nbformat": 4,
 "nbformat_minor": 2
}
