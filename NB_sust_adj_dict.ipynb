{
 "cells": [
  {
   "cell_type": "markdown",
   "metadata": {},
   "source": [
    "# Import libraries"
   ]
  },
  {
   "cell_type": "code",
   "execution_count": 1,
   "metadata": {},
   "outputs": [],
   "source": [
    "import pandas as pd\n",
    "import numpy as np"
   ]
  },
  {
   "cell_type": "markdown",
   "metadata": {},
   "source": [
    "# Import RAW data"
   ]
  },
  {
   "cell_type": "code",
   "execution_count": 2,
   "metadata": {},
   "outputs": [
    {
     "name": "stderr",
     "output_type": "stream",
     "text": [
      "Skipping line 1162749: expected 6 fields, saw 7\n",
      "\n",
      "Skipping line 1725934: expected 6 fields, saw 7\n",
      "\n"
     ]
    },
    {
     "data": {
      "text/html": [
       "<div>\n",
       "<style scoped>\n",
       "    .dataframe tbody tr th:only-of-type {\n",
       "        vertical-align: middle;\n",
       "    }\n",
       "\n",
       "    .dataframe tbody tr th {\n",
       "        vertical-align: top;\n",
       "    }\n",
       "\n",
       "    .dataframe thead th {\n",
       "        text-align: right;\n",
       "    }\n",
       "</style>\n",
       "<table border=\"1\" class=\"dataframe\">\n",
       "  <thead>\n",
       "    <tr style=\"text-align: right;\">\n",
       "      <th></th>\n",
       "      <th>FORMA</th>\n",
       "      <th>LEMA</th>\n",
       "      <th>CATEGORIA</th>\n",
       "    </tr>\n",
       "  </thead>\n",
       "  <tbody>\n",
       "    <tr>\n",
       "      <th>0</th>\n",
       "      <td>de</td>\n",
       "      <td>de</td>\n",
       "      <td>P</td>\n",
       "    </tr>\n",
       "    <tr>\n",
       "      <th>1</th>\n",
       "      <td>,</td>\n",
       "      <td>,</td>\n",
       "      <td>Y</td>\n",
       "    </tr>\n",
       "    <tr>\n",
       "      <th>2</th>\n",
       "      <td>.</td>\n",
       "      <td>.</td>\n",
       "      <td>Y</td>\n",
       "    </tr>\n",
       "    <tr>\n",
       "      <th>3</th>\n",
       "      <td>el</td>\n",
       "      <td>el</td>\n",
       "      <td>T</td>\n",
       "    </tr>\n",
       "    <tr>\n",
       "      <th>4</th>\n",
       "      <td>la</td>\n",
       "      <td>el</td>\n",
       "      <td>T</td>\n",
       "    </tr>\n",
       "  </tbody>\n",
       "</table>\n",
       "</div>"
      ],
      "text/plain": [
       "  FORMA LEMA CATEGORIA\n",
       "0    de   de         P\n",
       "1     ,    ,         Y\n",
       "2     .    .         Y\n",
       "3    el   el         T\n",
       "4    la   el         T"
      ]
     },
     "execution_count": 2,
     "metadata": {},
     "output_type": "execute_result"
    }
   ],
   "source": [
    "filename = \"./data/diccionario/frecuencia_elementos_corpes_1_0.txt\"\n",
    "\n",
    "columns = [\"Forma\", \"Lema\", \"Categoria\", \"Frecuencia\", \"Frec. norm. con signos ort.\", \"Frec. norm. sin signos ort.\"]\n",
    "df = pd.read_csv(filename, delimiter='\\t', header=0, on_bad_lines=\"warn\",encoding='utf-8', names=columns, skiprows=[0])\n",
    "\n",
    "# Get only the first 3 columns\n",
    "df = df.iloc[:,0:3]\n",
    "# Cast columns names to unicode and uppercase\n",
    "df.columns = [x.upper() for x in df.columns]\n",
    "# Remove rows with NaN values\n",
    "df = df.dropna()\n",
    "# Remove rows with empty values\n",
    "df = df[df[\"LEMA\"] != \" \"]\n",
    "\n",
    "df.head()"
   ]
  },
  {
   "cell_type": "markdown",
   "metadata": {},
   "source": [
    "# Visualize some tags see [etiquetario](./docs/etiquetario_RAE_sustantivos_adjetivos.pdf)"
   ]
  },
  {
   "cell_type": "code",
   "execution_count": 3,
   "metadata": {},
   "outputs": [
    {
     "name": "stdout",
     "output_type": "stream",
     "text": [
      "                   FORMA                LEMA CATEGORIA\n",
      "0                  Según               según         P\n",
      "1          DE ESPALDAS A       de espaldas a         P\n",
      "2                7.2.1.4             7.2.1.4         Y\n",
      "3                1.4.3.4             1.4.3.4         Y\n",
      "4                     un                  un         T\n",
      "5                   unos                  un         T\n",
      "6                  Salvo               salvo         C\n",
      "7            siempre que         siempre que         C\n",
      "8                  cuyos                cuyo         H\n",
      "9                   CUAL                cual         H\n",
      "10              VOSOTROS            vosotros         L\n",
      "11                    Él                  él         L\n",
      "12          coram populo        coram populo         R\n",
      "13            entremedio          entremedio         R\n",
      "14               Vuestra             vuestro         X\n",
      "15                    Tu                tuyo         X\n",
      "16          agrandaremos            agrandar         V\n",
      "17            prevenirme            prevenir         V\n",
      "18               Esotros              esotro         D\n",
      "19             aquellito                este         D\n",
      "20            bastantito            bastante         Q\n",
      "21                VARIAS              varios         Q\n",
      "22           Olympiakos8         Olympiakos8         N\n",
      "23                  Cejo                cejo         N\n",
      "24                   4.3                 4.3         M\n",
      "25                 119.8               119.8         M\n",
      "26               QUIÉNES               quién         W\n",
      "27                   QuÉ                 qué         W\n",
      "28  post-revolucionarios  postrevolucionario         A\n",
      "29            bonaerense          bonaerense         A\n",
      "30                 centi              centi-         J\n",
      "31                    ex                 ex-         J\n",
      "32         dalfopristina       dalfopristina         F\n",
      "33                  only                only         F\n",
      "34                mamola              mamola         I\n",
      "35                  eeeh                eeeh         I\n",
      "36       pacientes.10,11                  ??         U\n",
      "37       músicoterapeuta                  ??         U\n",
      "38                   Der                 del         E\n",
      "39                   der                 del         E\n",
      "40            Vade retro          vade retro         i\n",
      "41            vade retro          vade retro         i\n"
     ]
    }
   ],
   "source": [
    "# Get the unique values of the column \"CATEGORIA\"\n",
    "categories = df[\"CATEGORIA\"].unique()\n",
    "# Create an empty DataFrame to store the sampled rows\n",
    "sample_df = pd.DataFrame(columns=df.columns)\n",
    "# Loop through each category and sample two rows without replacement\n",
    "for category in categories:\n",
    "    category_df = df[df[\"CATEGORIA\"] == category]\n",
    "    if len(category_df) >= 2:\n",
    "        sampled_rows = category_df.sample(2, replace=False)\n",
    "        sample_df = pd.concat([sample_df, sampled_rows])\n",
    "# Reset the index of the resulting DataFrame\n",
    "sample_df.reset_index(drop=True, inplace=True)\n",
    "# Show the result\n",
    "print(sample_df)"
   ]
  },
  {
   "cell_type": "markdown",
   "metadata": {},
   "source": [
    "# Get only the sustantives and adjectives see [etiquetado](./docs/etiquetario_RAE_sustantivos_adjetivos.pdf)"
   ]
  },
  {
   "cell_type": "code",
   "execution_count": 4,
   "metadata": {},
   "outputs": [
    {
     "name": "stdout",
     "output_type": "stream",
     "text": [
      "Before:  2754080\n",
      "After:  1772146\n"
     ]
    },
    {
     "data": {
      "text/html": [
       "<div>\n",
       "<style scoped>\n",
       "    .dataframe tbody tr th:only-of-type {\n",
       "        vertical-align: middle;\n",
       "    }\n",
       "\n",
       "    .dataframe tbody tr th {\n",
       "        vertical-align: top;\n",
       "    }\n",
       "\n",
       "    .dataframe thead th {\n",
       "        text-align: right;\n",
       "    }\n",
       "</style>\n",
       "<table border=\"1\" class=\"dataframe\">\n",
       "  <thead>\n",
       "    <tr style=\"text-align: right;\">\n",
       "      <th></th>\n",
       "      <th>FORMA</th>\n",
       "      <th>LEMA</th>\n",
       "      <th>CATEGORIA</th>\n",
       "    </tr>\n",
       "  </thead>\n",
       "  <tbody>\n",
       "    <tr>\n",
       "      <th>51</th>\n",
       "      <td>años</td>\n",
       "      <td>año</td>\n",
       "      <td>N</td>\n",
       "    </tr>\n",
       "    <tr>\n",
       "      <th>82</th>\n",
       "      <td>parte</td>\n",
       "      <td>parte</td>\n",
       "      <td>N</td>\n",
       "    </tr>\n",
       "    <tr>\n",
       "      <th>85</th>\n",
       "      <td>vida</td>\n",
       "      <td>vida</td>\n",
       "      <td>N</td>\n",
       "    </tr>\n",
       "    <tr>\n",
       "      <th>90</th>\n",
       "      <td>tiempo</td>\n",
       "      <td>tiempo</td>\n",
       "      <td>N</td>\n",
       "    </tr>\n",
       "    <tr>\n",
       "      <th>94</th>\n",
       "      <td>vez</td>\n",
       "      <td>vez</td>\n",
       "      <td>N</td>\n",
       "    </tr>\n",
       "  </tbody>\n",
       "</table>\n",
       "</div>"
      ],
      "text/plain": [
       "     FORMA    LEMA CATEGORIA\n",
       "51    años     año         N\n",
       "82   parte   parte         N\n",
       "85    vida    vida         N\n",
       "90  tiempo  tiempo         N\n",
       "94     vez     vez         N"
      ]
     },
     "execution_count": 4,
     "metadata": {},
     "output_type": "execute_result"
    }
   ],
   "source": [
    "# Extract only the column \"CATEGORIA\" which have the values of adjectives and sustantives\n",
    "# Mirar la documentación en donde se define el tag de los sustantivos y adjetivos\n",
    "sustantive_tag = \"N\"\n",
    "adjective_tag = \"A\"\n",
    "# Extract from the raw df DataFrame the rows with the tag \"N\" or \"A\"\n",
    "print(\"Before: \", len(df))\n",
    "df = df[df[\"CATEGORIA\"].isin([sustantive_tag, adjective_tag])]\n",
    "print(\"After: \", len(df))\n",
    "df.head()"
   ]
  },
  {
   "cell_type": "markdown",
   "metadata": {},
   "source": [
    "# Split from sustantivo and adjetivo"
   ]
  },
  {
   "cell_type": "code",
   "execution_count": 5,
   "metadata": {},
   "outputs": [
    {
     "name": "stdout",
     "output_type": "stream",
     "text": [
      "    LEMA  FORMA\n",
      "0      #      #\n",
      "1     #0     #0\n",
      "2   #030   #030\n",
      "3    #06    #06\n",
      "4  #0839  #0839\n",
      "         LEMA        FORMA\n",
      "0  abandonado   ABANDONADA\n",
      "1  abandonado  ABANDONADAS\n",
      "2  abandonado   ABANDONADO\n",
      "3  abandonado  ABANDONADOS\n",
      "4  abarrotado   ABARROTADO\n"
     ]
    }
   ],
   "source": [
    "# Split the dataframe in sustantives and adjectives and sort by alphabetical order in FORMA and reset the index\n",
    "sustantives_df = df[df[\"CATEGORIA\"] == sustantive_tag][[\"LEMA\", \"FORMA\"]].sort_values(by=\"FORMA\").reset_index(drop=True)\n",
    "adjectives_df = df[df[\"CATEGORIA\"] == adjective_tag][[\"LEMA\", \"FORMA\"]].sort_values(by=\"FORMA\").reset_index(drop=True)\n",
    "# Show the result\n",
    "print(sustantives_df.head())\n",
    "print(adjectives_df.head())\n"
   ]
  },
  {
   "cell_type": "markdown",
   "metadata": {},
   "source": [
    "# Filter and delete data from dataframe"
   ]
  },
  {
   "cell_type": "code",
   "execution_count": 6,
   "metadata": {},
   "outputs": [
    {
     "data": {
      "text/html": [
       "<div>\n",
       "<style scoped>\n",
       "    .dataframe tbody tr th:only-of-type {\n",
       "        vertical-align: middle;\n",
       "    }\n",
       "\n",
       "    .dataframe tbody tr th {\n",
       "        vertical-align: top;\n",
       "    }\n",
       "\n",
       "    .dataframe thead th {\n",
       "        text-align: right;\n",
       "    }\n",
       "</style>\n",
       "<table border=\"1\" class=\"dataframe\">\n",
       "  <thead>\n",
       "    <tr style=\"text-align: right;\">\n",
       "      <th></th>\n",
       "      <th>LEMA</th>\n",
       "      <th>FORMA</th>\n",
       "    </tr>\n",
       "  </thead>\n",
       "  <tbody>\n",
       "    <tr>\n",
       "      <th>0</th>\n",
       "      <td>#1000Oportunidades</td>\n",
       "      <td>#1000oportunidades</td>\n",
       "    </tr>\n",
       "    <tr>\n",
       "      <th>1</th>\n",
       "      <td>#109Ysincuorum</td>\n",
       "      <td>#109ysincuorum</td>\n",
       "    </tr>\n",
       "    <tr>\n",
       "      <th>2</th>\n",
       "      <td>#10A18</td>\n",
       "      <td>#10A18</td>\n",
       "    </tr>\n",
       "    <tr>\n",
       "      <th>3</th>\n",
       "      <td>#10Añosume</td>\n",
       "      <td>#10añosUME</td>\n",
       "    </tr>\n",
       "    <tr>\n",
       "      <th>4</th>\n",
       "      <td>#10Deabril</td>\n",
       "      <td>#10deabril</td>\n",
       "    </tr>\n",
       "  </tbody>\n",
       "</table>\n",
       "</div>"
      ],
      "text/plain": [
       "                 LEMA               FORMA\n",
       "0  #1000Oportunidades  #1000oportunidades\n",
       "1      #109Ysincuorum      #109ysincuorum\n",
       "2              #10A18              #10A18\n",
       "3          #10Añosume          #10añosUME\n",
       "4          #10Deabril          #10deabril"
      ]
     },
     "execution_count": 6,
     "metadata": {},
     "output_type": "execute_result"
    }
   ],
   "source": [
    "# Delete all registers which not have at least 1 alpha character in FORMA or LEMA\n",
    "sustantives_df = sustantives_df[sustantives_df[\"FORMA\"].str.contains(\"[a-zA-Z]+\") & sustantives_df[\"LEMA\"].str.contains(\"[a-zA-Z]+\")].reset_index(drop=True)\n",
    "# Show the result\n",
    "sustantives_df.head()"
   ]
  },
  {
   "cell_type": "markdown",
   "metadata": {},
   "source": [
    "# Get unstructured data"
   ]
  },
  {
   "cell_type": "code",
   "execution_count": 7,
   "metadata": {},
   "outputs": [
    {
     "name": "stdout",
     "output_type": "stream",
     "text": [
      "0 #1000oportunidades\n",
      "1 #109ysincuorum\n",
      "2 #10A18\n",
      "3 #10añosUME\n",
      "4 #10deabril\n",
      "5 #10milgalletaspor\n",
      "6 #10yearchallenge\n",
      "7 #11del\n",
      "8 #12M15M\n",
      "9 #137RP08443\n"
     ]
    }
   ],
   "source": [
    "# Get a list with all FORMS of the sustantives and sort by alphabetical order\n",
    "sustantives_forms = list(sustantives_df[\"FORMA\"])\n",
    "# Get a list with all FORMS of the adjetives and sort by alphabetical order\n",
    "adjectives_forms = list(adjectives_df[\"FORMA\"])\n",
    "# Show a sample of the sustantives with the format \"index - form\"\n",
    "for i, form in enumerate(sustantives_forms[:10]):\n",
    "    print(i, form)"
   ]
  },
  {
   "cell_type": "markdown",
   "metadata": {},
   "source": [
    "# Get structured data"
   ]
  },
  {
   "cell_type": "code",
   "execution_count": 8,
   "metadata": {},
   "outputs": [],
   "source": [
    "# def group_by_lemma(df):\n",
    "#     for index, row in df.iterrows():\n",
    "#         if row[\"LEMA\"] not in sustantives_dict:\n",
    "#             sustantives_dict[row[\"LEMA\"]] = []\n",
    "#         sustantives_dict[row[\"LEMA\"]].append(row[\"FORMA\"])\n",
    "#     return sustantives_dict\n",
    "\n",
    "# # Create a dictionary grouping the same lemmas with all the forms\n",
    "# sustantives_dict = group_by_lemma(sustantives_df)\n",
    "# adjectives_dict = group_by_lemma(adjectives_df)"
   ]
  },
  {
   "cell_type": "code",
   "execution_count": null,
   "metadata": {},
   "outputs": [],
   "source": [
    "def create_structured_data(df, unstructured_forms):\n",
    "    # Crear un diccionario vacío para almacenar la información estructurada\n",
    "    structured_dict = {}\n",
    "    # Recorrer la lista de sustantivos y crear un diccionario interno para cada lema\n",
    "    for index, lema in enumerate(df[\"LEMA\"]):\n",
    "        # Obtener el índice máximo asociado al lema\n",
    "        max_index = index\n",
    "        while max_index + 1 < len(df[\"LEMA\"]) and df[\"LEMA\"][max_index + 1] == lema:\n",
    "            max_index += 1\n",
    "\n",
    "        # Crear un diccionario interno con las propiedades requeridas\n",
    "        lemma_info = {\n",
    "            \"LEMA\": lema,\n",
    "            \"FORMA\": unstructured_forms[index:max_index + 1]\n",
    "        }\n",
    "\n",
    "        # Agregar el diccionario interno al diccionario principal usando el índice máximo como clave\n",
    "        structured_dict[max_index] = lemma_info\n",
    "    return structured_dict"
   ]
  },
  {
   "cell_type": "code",
   "execution_count": null,
   "metadata": {},
   "outputs": [],
   "source": []
  }
 ],
 "metadata": {
  "kernelspec": {
   "display_name": ".venv",
   "language": "python",
   "name": "python3"
  },
  "language_info": {
   "codemirror_mode": {
    "name": "ipython",
    "version": 3
   },
   "file_extension": ".py",
   "mimetype": "text/x-python",
   "name": "python",
   "nbconvert_exporter": "python",
   "pygments_lexer": "ipython3",
   "version": "3.9.16"
  },
  "orig_nbformat": 4
 },
 "nbformat": 4,
 "nbformat_minor": 2
}
