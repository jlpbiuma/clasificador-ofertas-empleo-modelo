{
 "cells": [
  {
   "cell_type": "markdown",
   "metadata": {},
   "source": [
    "# Import libraries"
   ]
  },
  {
   "cell_type": "code",
   "execution_count": 136,
   "metadata": {},
   "outputs": [],
   "source": [
    "import pandas as pd\n",
    "import numpy as np"
   ]
  },
  {
   "cell_type": "markdown",
   "metadata": {},
   "source": [
    "# Import RAW data"
   ]
  },
  {
   "cell_type": "code",
   "execution_count": 137,
   "metadata": {},
   "outputs": [
    {
     "name": "stderr",
     "output_type": "stream",
     "text": [
      "Skipping line 1162749: expected 6 fields, saw 7\n",
      "\n",
      "Skipping line 1725934: expected 6 fields, saw 7\n",
      "\n"
     ]
    },
    {
     "data": {
      "text/html": [
       "<div>\n",
       "<style scoped>\n",
       "    .dataframe tbody tr th:only-of-type {\n",
       "        vertical-align: middle;\n",
       "    }\n",
       "\n",
       "    .dataframe tbody tr th {\n",
       "        vertical-align: top;\n",
       "    }\n",
       "\n",
       "    .dataframe thead th {\n",
       "        text-align: right;\n",
       "    }\n",
       "</style>\n",
       "<table border=\"1\" class=\"dataframe\">\n",
       "  <thead>\n",
       "    <tr style=\"text-align: right;\">\n",
       "      <th></th>\n",
       "      <th>FORMA</th>\n",
       "      <th>LEMA</th>\n",
       "      <th>CATEGORIA</th>\n",
       "    </tr>\n",
       "  </thead>\n",
       "  <tbody>\n",
       "    <tr>\n",
       "      <th>0</th>\n",
       "      <td>de</td>\n",
       "      <td>de</td>\n",
       "      <td>P</td>\n",
       "    </tr>\n",
       "    <tr>\n",
       "      <th>1</th>\n",
       "      <td>,</td>\n",
       "      <td>,</td>\n",
       "      <td>Y</td>\n",
       "    </tr>\n",
       "    <tr>\n",
       "      <th>2</th>\n",
       "      <td>.</td>\n",
       "      <td>.</td>\n",
       "      <td>Y</td>\n",
       "    </tr>\n",
       "    <tr>\n",
       "      <th>3</th>\n",
       "      <td>el</td>\n",
       "      <td>el</td>\n",
       "      <td>T</td>\n",
       "    </tr>\n",
       "    <tr>\n",
       "      <th>4</th>\n",
       "      <td>la</td>\n",
       "      <td>el</td>\n",
       "      <td>T</td>\n",
       "    </tr>\n",
       "  </tbody>\n",
       "</table>\n",
       "</div>"
      ],
      "text/plain": [
       "  FORMA LEMA CATEGORIA\n",
       "0    de   de         P\n",
       "1     ,    ,         Y\n",
       "2     .    .         Y\n",
       "3    el   el         T\n",
       "4    la   el         T"
      ]
     },
     "execution_count": 137,
     "metadata": {},
     "output_type": "execute_result"
    }
   ],
   "source": [
    "filename = \"./data/diccionario/frecuencia_elementos_corpes_1_0.txt\"\n",
    "\n",
    "columns = [\"Forma\", \"Lema\", \"Categoria\", \"Frecuencia\", \"Frec. norm. con signos ort.\", \"Frec. norm. sin signos ort.\"]\n",
    "df = pd.read_csv(filename, delimiter='\\t', header=0, on_bad_lines=\"warn\",encoding='utf-8', names=columns, skiprows=[0])\n",
    "\n",
    "# Get only the first 3 columns\n",
    "df = df.iloc[:,0:3]\n",
    "# Cast columns names to unicode and uppercase\n",
    "df.columns = [x.upper() for x in df.columns]\n",
    "# Remove rows with NaN values\n",
    "df = df.dropna()\n",
    "# Remove rows with empty values\n",
    "df = df[df[\"LEMA\"] != \" \"]\n",
    "\n",
    "df.head()"
   ]
  },
  {
   "cell_type": "markdown",
   "metadata": {},
   "source": [
    "# Visualize some tags see [etiquetario](./docs/etiquetario_RAE_sustantivos_adjetivos.pdf)"
   ]
  },
  {
   "cell_type": "code",
   "execution_count": 138,
   "metadata": {},
   "outputs": [
    {
     "name": "stdout",
     "output_type": "stream",
     "text": [
      "              FORMA             LEMA CATEGORIA\n",
      "0               con              con         P\n",
      "1      de regreso a     de regreso a         P\n",
      "2           7.3.4.2          7.3.4.2         Y\n",
      "3            ......           ......         Y\n",
      "4                LO               el         T\n",
      "5            Unitos               un         T\n",
      "6      toda vez que     toda vez que         C\n",
      "7         Y eso que        y eso que         C\n",
      "8           CUANTAS           cuanto         H\n",
      "9             CUYOS             cuyo         H\n",
      "10            eLLos               él         L\n",
      "11              nos              nos         L\n",
      "12   asombradamente   asombradamente         R\n",
      "13      marinamente      marinamente         R\n",
      "14              mío              mío         X\n",
      "15             MÍOS              mío         X\n",
      "16     estructurara      estructurar         V\n",
      "17            privó           privar         V\n",
      "18            Tales              tal         D\n",
      "19            AQUÉL            aquel         D\n",
      "20           TANTOS            tanto         Q\n",
      "21            mucho            mucho         Q\n",
      "22  Martín- Barbero  Martín- Barbero         N\n",
      "23         Setentón         Setentón         N\n",
      "24    9,741,593,019    9,741,593,019         M\n",
      "25             86,8             86,8         M\n",
      "26           cuáles             cuál         W\n",
      "27             Cuál             cuál         W\n",
      "28   exageradísimas        exagerado         A\n",
      "29        salvífico        salvífico         A\n",
      "30              Sub             sub-         J\n",
      "31            extra           extra-         J\n",
      "32         cinereum         cinereum         F\n",
      "33        SocialBro        SocialBro         F\n",
      "34          Bueeeno          bueeeno         I\n",
      "35             Jajá             jajá         I\n",
      "36   glicerofosfato               ??         U\n",
      "37        hepatítis               ??         U\n",
      "38              Der              del         E\n",
      "39              all               al         E\n",
      "40       Vade retro       vade retro         i\n",
      "41       vade retro       vade retro         i\n"
     ]
    }
   ],
   "source": [
    "# Get the unique values of the column \"CATEGORIA\"\n",
    "categories = df[\"CATEGORIA\"].unique()\n",
    "# Create an empty DataFrame to store the sampled rows\n",
    "sample_df = pd.DataFrame(columns=df.columns)\n",
    "# Loop through each category and sample two rows without replacement\n",
    "for category in categories:\n",
    "    category_df = df[df[\"CATEGORIA\"] == category]\n",
    "    if len(category_df) >= 2:\n",
    "        sampled_rows = category_df.sample(2, replace=False)\n",
    "        sample_df = pd.concat([sample_df, sampled_rows])\n",
    "# Reset the index of the resulting DataFrame\n",
    "sample_df.reset_index(drop=True, inplace=True)\n",
    "# Show the result\n",
    "print(sample_df)"
   ]
  },
  {
   "cell_type": "markdown",
   "metadata": {},
   "source": [
    "# Get only the sustantives and adjectives see [etiquetado](./docs/etiquetario_RAE_sustantivos_adjetivos.pdf)"
   ]
  },
  {
   "cell_type": "code",
   "execution_count": 139,
   "metadata": {},
   "outputs": [
    {
     "name": "stdout",
     "output_type": "stream",
     "text": [
      "Before:  2754080\n",
      "After:  1772146\n"
     ]
    },
    {
     "data": {
      "text/html": [
       "<div>\n",
       "<style scoped>\n",
       "    .dataframe tbody tr th:only-of-type {\n",
       "        vertical-align: middle;\n",
       "    }\n",
       "\n",
       "    .dataframe tbody tr th {\n",
       "        vertical-align: top;\n",
       "    }\n",
       "\n",
       "    .dataframe thead th {\n",
       "        text-align: right;\n",
       "    }\n",
       "</style>\n",
       "<table border=\"1\" class=\"dataframe\">\n",
       "  <thead>\n",
       "    <tr style=\"text-align: right;\">\n",
       "      <th></th>\n",
       "      <th>FORMA</th>\n",
       "      <th>LEMA</th>\n",
       "      <th>CATEGORIA</th>\n",
       "    </tr>\n",
       "  </thead>\n",
       "  <tbody>\n",
       "    <tr>\n",
       "      <th>51</th>\n",
       "      <td>años</td>\n",
       "      <td>año</td>\n",
       "      <td>N</td>\n",
       "    </tr>\n",
       "    <tr>\n",
       "      <th>82</th>\n",
       "      <td>parte</td>\n",
       "      <td>parte</td>\n",
       "      <td>N</td>\n",
       "    </tr>\n",
       "    <tr>\n",
       "      <th>85</th>\n",
       "      <td>vida</td>\n",
       "      <td>vida</td>\n",
       "      <td>N</td>\n",
       "    </tr>\n",
       "    <tr>\n",
       "      <th>90</th>\n",
       "      <td>tiempo</td>\n",
       "      <td>tiempo</td>\n",
       "      <td>N</td>\n",
       "    </tr>\n",
       "    <tr>\n",
       "      <th>94</th>\n",
       "      <td>vez</td>\n",
       "      <td>vez</td>\n",
       "      <td>N</td>\n",
       "    </tr>\n",
       "  </tbody>\n",
       "</table>\n",
       "</div>"
      ],
      "text/plain": [
       "     FORMA    LEMA CATEGORIA\n",
       "51    años     año         N\n",
       "82   parte   parte         N\n",
       "85    vida    vida         N\n",
       "90  tiempo  tiempo         N\n",
       "94     vez     vez         N"
      ]
     },
     "execution_count": 139,
     "metadata": {},
     "output_type": "execute_result"
    }
   ],
   "source": [
    "# Extract only the column \"CATEGORIA\" which have the values of adjectives and sustantives\n",
    "# Mirar la documentación en donde se define el tag de los sustantivos y adjetivos\n",
    "sustantive_tag = \"N\"\n",
    "adjective_tag = \"A\"\n",
    "# Extract from the raw df DataFrame the rows with the tag \"N\" or \"A\"\n",
    "print(\"Before: \", len(df))\n",
    "df = df[df[\"CATEGORIA\"].isin([sustantive_tag, adjective_tag])]\n",
    "print(\"After: \", len(df))\n",
    "df.head()"
   ]
  },
  {
   "cell_type": "markdown",
   "metadata": {},
   "source": [
    "# Split from sustantivo and adjetivo"
   ]
  },
  {
   "cell_type": "code",
   "execution_count": 140,
   "metadata": {},
   "outputs": [
    {
     "name": "stdout",
     "output_type": "stream",
     "text": [
      "    LEMA  FORMA\n",
      "0      #      #\n",
      "1     #0     #0\n",
      "2   #030   #030\n",
      "3    #06    #06\n",
      "4  #0839  #0839\n",
      "         LEMA        FORMA\n",
      "0  abandonado   ABANDONADA\n",
      "1  abandonado  ABANDONADAS\n",
      "2  abandonado   ABANDONADO\n",
      "3  abandonado  ABANDONADOS\n",
      "4  abarrotado   ABARROTADO\n"
     ]
    }
   ],
   "source": [
    "# Split the dataframe in sustantives and adjectives and sort by alphabetical order in FORMA and reset the index\n",
    "sustantives_df = df[df[\"CATEGORIA\"] == sustantive_tag][[\"LEMA\", \"FORMA\"]].sort_values(by=\"FORMA\").reset_index(drop=True)\n",
    "adjectives_df = df[df[\"CATEGORIA\"] == adjective_tag][[\"LEMA\", \"FORMA\"]].sort_values(by=\"FORMA\").reset_index(drop=True)\n",
    "# Show the result\n",
    "print(sustantives_df.head())\n",
    "print(adjectives_df.head())\n"
   ]
  },
  {
   "cell_type": "code",
   "execution_count": 141,
   "metadata": {},
   "outputs": [
    {
     "name": "stdout",
     "output_type": "stream",
     "text": [
      "                 LEMA               FORMA\n",
      "0  #1000oportunidades  #1000oportunidades\n",
      "1      #109ysincuorum      #109ysincuorum\n",
      "2              #10a18              #10a18\n",
      "3          #10añosume          #10añosume\n",
      "4          #10deabril          #10deabril\n"
     ]
    }
   ],
   "source": [
    "import pandas as pd\n",
    "\n",
    "# Sample DataFrame for illustration (replace this with your actual DataFrame)\n",
    "data = {\n",
    "    \"LEMA\": [\"#1000oportunidades\", \"#109ysincuorum\", \"#10a18\", \"#10añosume\", \"#10deabril\"],\n",
    "    \"FORMA\": [\"#1000oportunidades\", \"#109ysincuorum\", \"#10a18\", \"#10añosume\", \"#10deabril\"]\n",
    "}\n",
    "\n",
    "df = pd.DataFrame(data)\n",
    "\n",
    "# Remove all non-alphabetic characters using regex and convert to lowercase for \"LEMA\" and \"FORMA\" columns\n",
    "df[\"LEMA\"] = df[\"LEMA\"].str.replace(\"[^a-zA-Z]+\", \"\").str.lower()\n",
    "df[\"FORMA\"] = df[\"FORMA\"].str.replace(\"[^a-zA-Z]+\", \"\").str.lower()\n",
    "\n",
    "print(df)\n"
   ]
  },
  {
   "cell_type": "markdown",
   "metadata": {},
   "source": [
    "# Filter, clean and delete data from dataframe"
   ]
  },
  {
   "cell_type": "code",
   "execution_count": 142,
   "metadata": {},
   "outputs": [
    {
     "name": "stdout",
     "output_type": "stream",
     "text": [
      "Before:  1631668\n",
      "After:  1328966\n",
      "Before:  140478\n",
      "After:  100525\n"
     ]
    }
   ],
   "source": [
    "import re\n",
    "def clean_and_process_df(df):\n",
    "    def remove_non_letters_and_hash(text):\n",
    "        return re.sub(r'#[^a-zA-Z]*|[^a-zA-Z]+', '', text).lower()\n",
    "    # Remove registers with nan or empty values in the column \"FORMA\"\n",
    "    df = df.dropna(subset=[\"FORMA\"])\n",
    "    # Apply the cleaning function to the \"FORMA\" and \"LEMA\" columns\n",
    "    df[\"FORMA\"] = df[\"FORMA\"].apply(remove_non_letters_and_hash)\n",
    "    df[\"LEMA\"] = df[\"LEMA\"].apply(remove_non_letters_and_hash)\n",
    "    # Get all the registers with spaces in the column \"FORMA\" and delete them\n",
    "    df = df[~df[\"FORMA\"].str.contains(\" \")]\n",
    "    # Get all the registers with spaces in the column \"LEMA\" and delete them\n",
    "    df = df[~df[\"LEMA\"].str.contains(\" \")]\n",
    "    # Remove registers with nan or empty values in the column \"LEMA\"\n",
    "    df = df.dropna(subset=[\"LEMA\"])\n",
    "    # Remove duplicates in the column \"FORMA\"\n",
    "    df = df.drop_duplicates(subset=[\"FORMA\"])\n",
    "    # Remove rows where \"LEMA\" or \"FORMA\" are empty strings\n",
    "    df = df[(df[\"LEMA\"] != \"\") & (df[\"FORMA\"] != \"\")]\n",
    "    return df\n",
    "# Clean the sustantives and adjectives DataFrames\n",
    "print(\"Before: \", len(sustantives_df))\n",
    "sustantives_df = clean_and_process_df(sustantives_df)\n",
    "print(\"After: \", len(sustantives_df))\n",
    "print(\"Before: \", len(adjectives_df))\n",
    "adjectives_df = clean_and_process_df(adjectives_df)\n",
    "print(\"After: \", len(adjectives_df))"
   ]
  },
  {
   "cell_type": "markdown",
   "metadata": {},
   "source": [
    "# Order alphabetical"
   ]
  },
  {
   "cell_type": "code",
   "execution_count": 143,
   "metadata": {},
   "outputs": [],
   "source": [
    "# Order alphabetically by \"LEMA\" and \"FORMA\" and reset the index\n",
    "sustantives_df = sustantives_df.sort_values(by=[\"LEMA\", \"FORMA\"]).reset_index(drop=True)\n",
    "adjectives_df = adjectives_df.sort_values(by=[\"LEMA\", \"FORMA\"]).reset_index(drop=True)"
   ]
  },
  {
   "cell_type": "markdown",
   "metadata": {},
   "source": [
    "# Get structure data"
   ]
  },
  {
   "cell_type": "code",
   "execution_count": 144,
   "metadata": {},
   "outputs": [],
   "source": [
    "# Show the result\n",
    "sustantives_df.head(5)\n",
    "# Save the DataFrames to CSV files in the folder \"data/diccionario\" as df_structured_sustantivos.csv and df_structured_adjetivos.csv\n",
    "sustantives_df.to_csv(\"./data/diccionario/df_structured_sustantivos.csv\", index=False)\n",
    "adjectives_df.to_csv(\"./data/diccionario/df_structured_adjetivos.csv\", index=False)"
   ]
  },
  {
   "cell_type": "markdown",
   "metadata": {},
   "source": [
    "# Get unstructured data"
   ]
  },
  {
   "cell_type": "code",
   "execution_count": 145,
   "metadata": {},
   "outputs": [
    {
     "name": "stdout",
     "output_type": "stream",
     "text": [
      "0 a\n",
      "1 aa\n",
      "2 aaa\n",
      "3 aaaa\n",
      "4 aaaaa\n",
      "5 aaaaaaaaaa\n",
      "6 aaaaaaaaaaaaaaaaaaaaaa\n",
      "7 aaaaaah\n",
      "8 aaaaana\n",
      "9 aaaah\n",
      "0 a\n",
      "1 aa\n",
      "2 aaa\n",
      "3 aaaa\n",
      "4 aaaaa\n"
     ]
    }
   ],
   "source": [
    "# Get a list with all LEMAS of the sustantives and sort by alphabetical order\n",
    "sustantives_lemas = list(sustantives_df[\"LEMA\"])\n",
    "# Get a list with all LEMAS of the adjetives and sort by alphabetical order\n",
    "adjectives_lemas = list(adjectives_df[\"LEMA\"])\n",
    "# Show a sample of the sustantives with the format \"index - lemma\"\n",
    "for i, lemma in enumerate(sustantives_lemas[:10]):\n",
    "    print(i, lemma)\n",
    "# Get a list with all FORMS of the sustantives and sort by alphabetical order\n",
    "sustantives_forms = list(sustantives_df[\"FORMA\"])\n",
    "# Get a list with all FORMS of the adjetives and sort by alphabetical order\n",
    "adjectives_forms = list(adjectives_df[\"FORMA\"])\n",
    "# Show a sample of the sustantives with the format \"index - form\"\n",
    "for i, form in enumerate(sustantives_forms[:5]):\n",
    "    print(i, form)"
   ]
  },
  {
   "cell_type": "markdown",
   "metadata": {},
   "source": [
    "# Get structured data"
   ]
  },
  {
   "cell_type": "code",
   "execution_count": 148,
   "metadata": {},
   "outputs": [
    {
     "name": "stdout",
     "output_type": "stream",
     "text": [
      "Time:  0.2403731346130371\n",
      "['los', 'hombre', 'que', 'se', 'a', 'como', 'los']\n",
      "['hombre', 'a', 'importante']\n"
     ]
    }
   ],
   "source": [
    "def loop_over_words(words, df_nouns, unstructured_forms_nouns, df_adj, unstructured_forms_adj):\n",
    "    # Initialize nouns array\n",
    "    nouns = []\n",
    "    adjectives = []\n",
    "    # Split by \" \"\n",
    "    for word in words.split(\" \"):\n",
    "        # Verify if is a noun\n",
    "        noun = get_lemma_df(word, df_nouns, unstructured_forms_nouns)\n",
    "        adjective = get_lemma_df(word, df_adj, unstructured_forms_adj)\n",
    "        if noun is not None:\n",
    "            nouns.append(noun)\n",
    "        if adjective is not None:\n",
    "            adjectives.append(adjective)\n",
    "    return nouns, adjectives\n",
    "\n",
    "def get_lemma_df(word, df, unstructured_forms):\n",
    "    try:\n",
    "        word_index = unstructured_forms.index(word)\n",
    "        return df.iloc[word_index][\"LEMA\"]\n",
    "    except ValueError:\n",
    "        return None  # Handle the case when the word is not found\n",
    "\n",
    "# Ejemplo de uso:\n",
    "word_to_find = \"los hombres que se consideran a sí mismos como los más importantes\"\n",
    "# Measure the time with time package\n",
    "import time\n",
    "start_time = time.time()\n",
    "nouns, adjectives = loop_over_words(word_to_find, sustantives_df, sustantives_forms, adjectives_df, adjectives_forms)\n",
    "print(\"Time: \", time.time() - start_time)\n",
    "print(nouns)\n",
    "print(adjectives)"
   ]
  },
  {
   "cell_type": "code",
   "execution_count": 50,
   "metadata": {},
   "outputs": [
    {
     "name": "stdout",
     "output_type": "stream",
     "text": [
      "Que\n"
     ]
    }
   ],
   "source": [
    "# Find \"Que\" in sustantives"
   ]
  }
 ],
 "metadata": {
  "kernelspec": {
   "display_name": ".venv",
   "language": "python",
   "name": "python3"
  },
  "language_info": {
   "codemirror_mode": {
    "name": "ipython",
    "version": 3
   },
   "file_extension": ".py",
   "mimetype": "text/x-python",
   "name": "python",
   "nbconvert_exporter": "python",
   "pygments_lexer": "ipython3",
   "version": "3.9.16"
  },
  "orig_nbformat": 4
 },
 "nbformat": 4,
 "nbformat_minor": 2
}
