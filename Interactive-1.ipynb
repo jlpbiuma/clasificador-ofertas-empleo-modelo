{
 "cells": [
  {
   "cell_type": "markdown",
   "metadata": {
    "isInteractiveWindowMessageCell": true
   },
   "source": [
    "Connected to .venv (Python 3.9.16)"
   ]
  },
  {
   "cell_type": "code",
   "execution_count": 1,
   "metadata": {},
   "outputs": [],
   "source": [
    "#!/usr/bin/env python\n",
    "# coding: utf-8\n",
    "\n",
    "# # Import libraries and models\n",
    "\n",
    "# In[74]:\n",
    "\n",
    "\n",
    "import spacy\n",
    "from tqdm import tqdm\n",
    "import requests\n",
    "from bs4 import BeautifulSoup\n",
    "import pandas as pd\n",
    "# Load the Spanish language model\n",
    "nlp = spacy.load(\"es_core_news_sm\")\n",
    "\n",
    "\n",
    "# # Declare function"
   ]
  },
  {
   "cell_type": "code",
   "execution_count": 2,
   "metadata": {},
   "outputs": [
    {
     "name": "stdout",
     "output_type": "stream",
     "text": [
      "fliparás ADJ fliparás\n",
      "\n"
     ]
    }
   ],
   "source": [
    "# Function to lemmatize a verb in Spanish\n",
    "def lemmatize_spanish_verb(text):\n",
    "    doc = nlp(text)\n",
    "    lemmatized_verb = \"\"\n",
    "    \n",
    "    for token in doc:\n",
    "        print(token.text, token.pos_, token.lemma_)\n",
    "        if token.pos_ == \"VERB\":\n",
    "            lemmatized_verb = token.lemma_\n",
    "            break  # Stop after finding the first verb\n",
    "    \n",
    "    return lemmatized_verb\n",
    "verbo = \"fliparás\"\n",
    "print(lemmatize_spanish_verb(verbo))"
   ]
  },
  {
   "cell_type": "code",
   "execution_count": 3,
   "metadata": {},
   "outputs": [],
   "source": [
    "import json\n",
    "import time\n",
    "import requests\n",
    "from bs4 import BeautifulSoup\n",
    "from tqdm import tqdm\n",
    "import re\n",
    "from unidecode import unidecode\n",
    "\n",
    "modes_index = {\n",
    "    10: \"Indicativo\",\n",
    "    18: \"Subjuntivo\",\n",
    "    20: \"Imperativo\",\n",
    "    22: \"Infinitivo\",\n",
    "    24: \"Gerundio\",\n",
    "    25: \"Participio\"\n",
    "}\n",
    "\n",
    "def get_mode_by_index(index):\n",
    "    for mode_index in modes_index.keys():\n",
    "        if index < mode_index:\n",
    "            return modes_index[mode_index]\n",
    "\n",
    "def initialize_dict_mode_time(gauche_div):\n",
    "    index = 0\n",
    "    conjugations = {}  # verbs_df to store conjugations\n",
    "    for mode in modes_index.values():\n",
    "        conjugations[mode] = {}\n",
    "    all_times_modes = gauche_div.find_all(\"div\", class_=\"tempstab\")\n",
    "    for all_times in all_times_modes:\n",
    "        all_times = all_times.find_all(\"h3\", class_=\"tempsheader\")\n",
    "        for time in all_times:\n",
    "            time = time.text.strip()\n",
    "            # Get the mode by index\n",
    "            mode = get_mode_by_index(index)\n",
    "            conjugations[mode][time] = [] \n",
    "        index += 1\n",
    "    return conjugations\n",
    "\n",
    "def get_time(tense_div):\n",
    "    return tense_div.find(\"h3\", class_=\"tempsheader\").text.strip()\n",
    "\n",
    "def get_conjugations(tense_div, mode):\n",
    "    # Extract conjugation time for the tense\n",
    "    html_elements = tense_div.find_all(\"div\", class_=\"tempscorps\")[0]\n",
    "    # Get all the html elements inside the div and print them\n",
    "    conjugations = \"\"\n",
    "    # Loop over all the elements of the div with class \"_tempscorps\"\n",
    "    for element in html_elements:\n",
    "        # Omit the <br> elements\n",
    "        if element.name != \"br\":\n",
    "            conjugations += element.text\n",
    "        # Add a new line when the element is <br>\n",
    "        else:\n",
    "            conjugations += \"\\n\"\n",
    "    pronuons = [\"yo\", \"tú\", \"él\", \"nosotros\", \"vosotros\", \"ellos\"]\n",
    "    # Remove the pronouns from the conjugations\n",
    "    for pronuon in pronuons:\n",
    "        conjugations = conjugations.replace(pronuon, \"\")\n",
    "    # Remove unnecessary spaces regex\n",
    "    conjugations = unidecode(re.sub(' +', ' ', conjugations))\n",
    "    if \"Imperativo\" in mode:\n",
    "        # Remove \"no\", \"-\" and \" \" from the conjugations\n",
    "        conjugations = conjugations.replace(\"no\", \"\").replace(\"-\", \"\").replace(\" \", \"\")\n",
    "        result = conjugations.strip().split(\"\\n\")\n",
    "    else:\n",
    "        result = conjugations.strip().split(\"\\n \")\n",
    "    return result\n",
    "        \n",
    "def cast_dict_to_df(conjugations_verb):\n",
    "    # Define the mode prefixes\n",
    "    mode_prefixes = {\n",
    "        'Indicativo': 'Indicativo_',\n",
    "        'Subjuntivo': 'Subjuntivo_',\n",
    "        'Imperativo': 'Imperativo_',\n",
    "        'Infinitivo': 'Infinitivo_',\n",
    "        'Gerundio': 'Gerundio_',\n",
    "        'Participio': 'Participio_'\n",
    "    }\n",
    "\n",
    "    # Initialize an empty dictionary to store the modified conjugations\n",
    "    modified_conjugations = {}\n",
    "\n",
    "    # Loop through the original conjugations\n",
    "    for mode, mode_conjugations in conjugations_verb.items():\n",
    "        # Get the appropriate prefix for the mode\n",
    "        mode_prefix = mode_prefixes.get(mode, '')\n",
    "\n",
    "        # Initialize an empty dictionary for the mode's conjugations\n",
    "        modified_mode_conjugations = {}\n",
    "\n",
    "        # Loop through the tense and conjugation data for the mode\n",
    "        for tense, tense_conjugations in mode_conjugations.items():\n",
    "            # Add the tense with the prefix to the modified conjugations\n",
    "            modified_tense = mode_prefix + tense\n",
    "            modified_mode_conjugations[modified_tense] = tense_conjugations\n",
    "\n",
    "        # Add the modified mode and its conjugations to the result\n",
    "        modified_conjugations.update(modified_mode_conjugations)\n",
    "\n",
    "    # Create a DataFrame from the modified conjugations\n",
    "    df = pd.DataFrame([modified_conjugations])\n",
    "\n",
    "    # Return the DataFrame\n",
    "    return df\n",
    "\n",
    "def scrape_verb_conjugations(verb):\n",
    "    # URL of the website to scrape\n",
    "    url = f\"https://www.conjugacion.es/del/verbo/{verb}.php\"\n",
    "    # Send an HTTP GET request to the URL\n",
    "    response = requests.get(url)\n",
    "    # Check if the request was successful (status code 200)\n",
    "    if response.status_code == 200:\n",
    "        # Parse the HTML content of the page using BeautifulSoup\n",
    "        soup = BeautifulSoup(response.text, \"html.parser\")\n",
    "        # Find the element with id \"gauche\" that contains verb conjugation data\n",
    "        gauche_div = soup.find(\"div\", id=\"gauche\")\n",
    "        if gauche_div is not None:\n",
    "            # Loop through all conjugation tenses\n",
    "            conjugations_verb = initialize_dict_mode_time(gauche_div)\n",
    "            index = 0\n",
    "            for tense_div in gauche_div.find_all(\"div\", class_=\"tempstab\"):\n",
    "                # Inference the mode with the current index of the loop\n",
    "                mode = get_mode_by_index(index)\n",
    "                # Get time\n",
    "                time = get_time(tense_div)\n",
    "                # Add the verb time and its conjugations to the verbs_df\n",
    "                conjugations_verb[mode][time] = get_conjugations(tense_div, mode)\n",
    "                # Add the number of conjugations\n",
    "                # Add 1 to the index\n",
    "                index += 1\n",
    "            # Stablish infinitive\n",
    "            \n",
    "            return cast_dict_to_df(conjugations_verb)\n",
    "        else:\n",
    "            return {}\n",
    "    else:\n",
    "        return {}\n",
    "    \n",
    "def read_verbs(verbs_path):\n",
    "    # Read txt file with verbs\n",
    "    with open(verbs_path, \"r\", encoding=\"utf-8\") as f:\n",
    "        verbs = f.readlines()\n",
    "        # Remove \"\\n\" from the end of each verb\n",
    "        verbs = [verb.strip() for verb in verbs]\n",
    "    return verbs\n",
    "\n",
    "def read_dictionary(dictionary_path):\n",
    "    # This functions allows to read the verbs_df\n",
    "    try:\n",
    "        with open(dictionary_path, \"r\", encoding=\"utf-8\") as f:\n",
    "            verbs_df = json.load(f, ensure_ascii=False, indent=4)\n",
    "        return verbs_df\n",
    "    except:\n",
    "        return {}\n",
    "\n",
    "def create_dictionary(verbs):\n",
    "    verbs_df_conjugated = pd.DataFrame()\n",
    "    errors = []\n",
    "    pbar = tqdm(verbs, total=len(verbs))\n",
    "    # Loop through the verbs you want to scrape\n",
    "    for verb in pbar:\n",
    "        last_chars = verb[-2:]\n",
    "        if last_chars in [\"ar\", \"er\", \"ir\"]:\n",
    "            pbar.set_description(f\"Processing {verb}\")\n",
    "            time.sleep(0.1)\n",
    "            try:\n",
    "                conjugation_data = scrape_verb_conjugations(verb)\n",
    "                if conjugation_data is not None:  # Ensure data is not empty\n",
    "                    # Convert conjugation_data (a dictionary) to a DataFrame\n",
    "                    conjugation_df = pd.DataFrame.from_dict(conjugation_data)\n",
    "                    # Add the new conjugation DataFrame to verbs_df_conjugated\n",
    "                    verbs_df_conjugated = pd.concat([verbs_df_conjugated, conjugation_df], ignore_index=True)\n",
    "            except Exception as e:\n",
    "                errors.append(verb)\n",
    "                # Handle errors during scraping (e.g., connection issues)\n",
    "                print(f\"Error scraping {verb}: {str(e)}\")\n",
    "                continue\n",
    "        errors.append(verb)\n",
    "    # Move the column \"Infinitivo_Simple\" to the first position\n",
    "    if 'Infinitivo_Simple' in verbs_df_conjugated.columns:\n",
    "        infinitivo_simple = verbs_df_conjugated['Infinitivo_Simple']\n",
    "        verbs_df_conjugated.drop(labels=['Infinitivo_Simple'], axis=1, inplace=True)\n",
    "        verbs_df_conjugated.insert(0, 'Infinitivo_Simple', infinitivo_simple)\n",
    "    return verbs_df_conjugated, errors\n",
    "\n",
    "def write_dictionary(verbs_df, dictionary_path):\n",
    "    # Save .csv of the verbs_df\n",
    "    verbs_df.to_csv(dictionary_path, index=False)\n",
    "        \n",
    "def create_all_conjugations_list(verbs_df):\n",
    "    all_conjugations = []\n",
    "    # Now loop over rows\n",
    "    for index, row in verbs_df.iterrows():\n",
    "        for column in verbs_df.columns:\n",
    "            all_conjugations.extend(row[column])\n",
    "    return all_conjugations\n",
    "\n",
    "\n",
    "def get_infinitive(verbs_df, range_index):\n",
    "    return verbs_df[range_index]['Infinitivo_Simple'][0]\n",
    "\n",
    "def verify_is_verb(word, all_conjugations, verbs_df):\n",
    "    # Find word in all_conjugations and get the infinitive\n",
    "    try:\n",
    "        index = all_conjugations.index(unidecode(word.lower()))\n",
    "        if index != -1:\n",
    "            infinitive = get_infinitive(verbs_df, index)\n",
    "            return infinitive\n",
    "        else:\n",
    "            return \"\"\n",
    "    except:\n",
    "        return \"\""
   ]
  },
  {
   "cell_type": "code",
   "execution_count": 4,
   "metadata": {},
   "outputs": [
    {
     "data": {
      "text/html": [
       "<div>\n",
       "<style scoped>\n",
       "    .dataframe tbody tr th:only-of-type {\n",
       "        vertical-align: middle;\n",
       "    }\n",
       "\n",
       "    .dataframe tbody tr th {\n",
       "        vertical-align: top;\n",
       "    }\n",
       "\n",
       "    .dataframe thead th {\n",
       "        text-align: right;\n",
       "    }\n",
       "</style>\n",
       "<table border=\"1\" class=\"dataframe\">\n",
       "  <thead>\n",
       "    <tr style=\"text-align: right;\">\n",
       "      <th></th>\n",
       "      <th>Indicativo_Presente</th>\n",
       "      <th>Indicativo_Pretérito perfecto compuesto</th>\n",
       "      <th>Indicativo_Pretérito imperfecto</th>\n",
       "      <th>Indicativo_Pretérito pluscuamperfecto</th>\n",
       "      <th>Indicativo_Pretérito perfecto simple</th>\n",
       "      <th>Indicativo_Pretérito anterior</th>\n",
       "      <th>Indicativo_Futuro</th>\n",
       "      <th>Indicativo_Futuro perfecto</th>\n",
       "      <th>Indicativo_Condicional</th>\n",
       "      <th>Indicativo_Condicional perfecto</th>\n",
       "      <th>...</th>\n",
       "      <th>Subjuntivo_Pretérito pluscuamperfecto 2</th>\n",
       "      <th>Subjuntivo_Futuro</th>\n",
       "      <th>Subjuntivo_Futuro perfecto</th>\n",
       "      <th>Imperativo_Imperativo</th>\n",
       "      <th>Imperativo_Imperativo negativo</th>\n",
       "      <th>Infinitivo_Simple</th>\n",
       "      <th>Infinitivo_Compuesto</th>\n",
       "      <th>Gerundio_Simple</th>\n",
       "      <th>Gerundio_Compuesto</th>\n",
       "      <th>Participio_Pasado</th>\n",
       "    </tr>\n",
       "  </thead>\n",
       "  <tbody>\n",
       "    <tr>\n",
       "      <th>0</th>\n",
       "      <td>[aullo, aullas, aulla, aullamos, aullais, aullan]</td>\n",
       "      <td>[he aullado, has aullado, ha aullado, hemos au...</td>\n",
       "      <td>[aullaba, aullabas, aullaba, aullabamos, aulla...</td>\n",
       "      <td>[habia aullado, habias aullado, habia aullado,...</td>\n",
       "      <td>[aulle, aullaste, aullo, aullamos, aullasteis,...</td>\n",
       "      <td>[hube aullado, hubiste aullado, hubo aullado, ...</td>\n",
       "      <td>[aullare, aullaras, aullara, aullaremos, aulla...</td>\n",
       "      <td>[habre aullado, habras aullado, habra aullado,...</td>\n",
       "      <td>[aullaria, aullarias, aullaria, aullariamos, a...</td>\n",
       "      <td>[habria aullado, habrias aullado, habria aulla...</td>\n",
       "      <td>...</td>\n",
       "      <td>[hubiese aullado, hubieses aullado, hubiese au...</td>\n",
       "      <td>[aullare, aullares, aullare, aullaremos, aulla...</td>\n",
       "      <td>[hubiere aullado, hubieres aullado, hubiere au...</td>\n",
       "      <td>[aulla, aulle, aullemos, aullad, aullen]</td>\n",
       "      <td>[aulles, aulle, aullemos, aulleis, aullen]</td>\n",
       "      <td>[aullar]</td>\n",
       "      <td>[haber aullado]</td>\n",
       "      <td>[aullando]</td>\n",
       "      <td>[habiendo aullado]</td>\n",
       "      <td>[aullado]</td>\n",
       "    </tr>\n",
       "  </tbody>\n",
       "</table>\n",
       "<p>1 rows × 25 columns</p>\n",
       "</div>"
      ],
      "text/plain": [
       "                                 Indicativo_Presente  \\\n",
       "0  [aullo, aullas, aulla, aullamos, aullais, aullan]   \n",
       "\n",
       "             Indicativo_Pretérito perfecto compuesto  \\\n",
       "0  [he aullado, has aullado, ha aullado, hemos au...   \n",
       "\n",
       "                     Indicativo_Pretérito imperfecto  \\\n",
       "0  [aullaba, aullabas, aullaba, aullabamos, aulla...   \n",
       "\n",
       "               Indicativo_Pretérito pluscuamperfecto  \\\n",
       "0  [habia aullado, habias aullado, habia aullado,...   \n",
       "\n",
       "                Indicativo_Pretérito perfecto simple  \\\n",
       "0  [aulle, aullaste, aullo, aullamos, aullasteis,...   \n",
       "\n",
       "                       Indicativo_Pretérito anterior  \\\n",
       "0  [hube aullado, hubiste aullado, hubo aullado, ...   \n",
       "\n",
       "                                   Indicativo_Futuro  \\\n",
       "0  [aullare, aullaras, aullara, aullaremos, aulla...   \n",
       "\n",
       "                          Indicativo_Futuro perfecto  \\\n",
       "0  [habre aullado, habras aullado, habra aullado,...   \n",
       "\n",
       "                              Indicativo_Condicional  \\\n",
       "0  [aullaria, aullarias, aullaria, aullariamos, a...   \n",
       "\n",
       "                     Indicativo_Condicional perfecto  ...  \\\n",
       "0  [habria aullado, habrias aullado, habria aulla...  ...   \n",
       "\n",
       "             Subjuntivo_Pretérito pluscuamperfecto 2  \\\n",
       "0  [hubiese aullado, hubieses aullado, hubiese au...   \n",
       "\n",
       "                                   Subjuntivo_Futuro  \\\n",
       "0  [aullare, aullares, aullare, aullaremos, aulla...   \n",
       "\n",
       "                          Subjuntivo_Futuro perfecto  \\\n",
       "0  [hubiere aullado, hubieres aullado, hubiere au...   \n",
       "\n",
       "                      Imperativo_Imperativo  \\\n",
       "0  [aulla, aulle, aullemos, aullad, aullen]   \n",
       "\n",
       "               Imperativo_Imperativo negativo Infinitivo_Simple  \\\n",
       "0  [aulles, aulle, aullemos, aulleis, aullen]          [aullar]   \n",
       "\n",
       "  Infinitivo_Compuesto Gerundio_Simple  Gerundio_Compuesto Participio_Pasado  \n",
       "0      [haber aullado]      [aullando]  [habiendo aullado]         [aullado]  \n",
       "\n",
       "[1 rows x 25 columns]"
      ]
     },
     "execution_count": 4,
     "metadata": {},
     "output_type": "execute_result"
    }
   ],
   "source": [
    "verbo = \"aullar\"\n",
    "conjugations = scrape_verb_conjugations(verbo)\n",
    "conjugations.head()"
   ]
  },
  {
   "cell_type": "code",
   "execution_count": 5,
   "metadata": {},
   "outputs": [
    {
     "name": "stderr",
     "output_type": "stream",
     "text": [
      "Processing encorachar:  80%|████████  | 16/20 [00:06<00:01,  2.34it/s]  \n"
     ]
    },
    {
     "ename": "KeyboardInterrupt",
     "evalue": "",
     "output_type": "error",
     "traceback": [
      "\u001b[0;31m---------------------------------------------------------------------------\u001b[0m",
      "\u001b[0;31mKeyboardInterrupt\u001b[0m                         Traceback (most recent call last)",
      "Cell \u001b[0;32mIn[5], line 11\u001b[0m\n\u001b[1;32m      9\u001b[0m verbs_df \u001b[39m=\u001b[39m read_dictionary(\u001b[39m\"\u001b[39m\u001b[39m./data/diccionario/verbos-espanol.json\u001b[39m\u001b[39m\"\u001b[39m)\n\u001b[1;32m     10\u001b[0m \u001b[39m# Create the dictionary\u001b[39;00m\n\u001b[0;32m---> 11\u001b[0m verbs_df, errores \u001b[39m=\u001b[39m create_dictionary(verbs)\n\u001b[1;32m     12\u001b[0m \u001b[39m# Create all conjugations list\u001b[39;00m\n\u001b[1;32m     13\u001b[0m all_conjugations \u001b[39m=\u001b[39m create_all_conjugations_list(verbs_df)\n",
      "\u001b[1;32m/home/fulp/clasificador_ofertas_empleo/clasificador-ofertas-empleo-modelo/NB_verbs_dict.py\u001b[0m in \u001b[0;36mline 170\u001b[0m, in \u001b[0;36mcreate_dictionary\u001b[0;34m(verbs)\n\u001b[1;32m    <a href='file:///home/fulp/clasificador_ofertas_empleo/clasificador-ofertas-empleo-modelo/NB_verbs_dict.py?line=205'>206</a>\u001b[0m time\u001b[39m.\u001b[39msleep(\u001b[39m0.1\u001b[39m)\n\u001b[1;32m    <a href='file:///home/fulp/clasificador_ofertas_empleo/clasificador-ofertas-empleo-modelo/NB_verbs_dict.py?line=206'>207</a>\u001b[0m \u001b[39mtry\u001b[39;00m:\n\u001b[0;32m--> <a href='file:///home/fulp/clasificador_ofertas_empleo/clasificador-ofertas-empleo-modelo/NB_verbs_dict.py?line=207'>208</a>\u001b[0m     conjugation_data \u001b[39m=\u001b[39m scrape_verb_conjugations(verb)\n\u001b[1;32m    <a href='file:///home/fulp/clasificador_ofertas_empleo/clasificador-ofertas-empleo-modelo/NB_verbs_dict.py?line=208'>209</a>\u001b[0m     \u001b[39mif\u001b[39;00m conjugation_data \u001b[39mis\u001b[39;00m \u001b[39mnot\u001b[39;00m \u001b[39mNone\u001b[39;00m:  \u001b[39m# Ensure data is not empty\u001b[39;00m\n\u001b[1;32m    <a href='file:///home/fulp/clasificador_ofertas_empleo/clasificador-ofertas-empleo-modelo/NB_verbs_dict.py?line=209'>210</a>\u001b[0m         \u001b[39m# Convert conjugation_data (a dictionary) to a DataFrame\u001b[39;00m\n\u001b[1;32m    <a href='file:///home/fulp/clasificador_ofertas_empleo/clasificador-ofertas-empleo-modelo/NB_verbs_dict.py?line=210'>211</a>\u001b[0m         conjugation_df \u001b[39m=\u001b[39m pd\u001b[39m.\u001b[39mDataFrame\u001b[39m.\u001b[39mfrom_dict(conjugation_data)\n",
      "\u001b[1;32m/home/fulp/clasificador_ofertas_empleo/clasificador-ofertas-empleo-modelo/NB_verbs_dict.py\u001b[0m in \u001b[0;36mline 113\u001b[0m, in \u001b[0;36mscrape_verb_conjugations\u001b[0;34m(verb)\n\u001b[1;32m    <a href='file:///home/fulp/clasificador_ofertas_empleo/clasificador-ofertas-empleo-modelo/NB_verbs_dict.py?line=148'>149</a>\u001b[0m url \u001b[39m=\u001b[39m \u001b[39mf\u001b[39m\u001b[39m\"\u001b[39m\u001b[39mhttps://www.conjugacion.es/del/verbo/\u001b[39m\u001b[39m{\u001b[39;00mverb\u001b[39m}\u001b[39;00m\u001b[39m.php\u001b[39m\u001b[39m\"\u001b[39m\n\u001b[1;32m    <a href='file:///home/fulp/clasificador_ofertas_empleo/clasificador-ofertas-empleo-modelo/NB_verbs_dict.py?line=149'>150</a>\u001b[0m \u001b[39m# Send an HTTP GET request to the URL\u001b[39;00m\n\u001b[0;32m--> <a href='file:///home/fulp/clasificador_ofertas_empleo/clasificador-ofertas-empleo-modelo/NB_verbs_dict.py?line=150'>151</a>\u001b[0m response \u001b[39m=\u001b[39m requests\u001b[39m.\u001b[39;49mget(url)\n\u001b[1;32m    <a href='file:///home/fulp/clasificador_ofertas_empleo/clasificador-ofertas-empleo-modelo/NB_verbs_dict.py?line=151'>152</a>\u001b[0m \u001b[39m# Check if the request was successful (status code 200)\u001b[39;00m\n\u001b[1;32m    <a href='file:///home/fulp/clasificador_ofertas_empleo/clasificador-ofertas-empleo-modelo/NB_verbs_dict.py?line=152'>153</a>\u001b[0m \u001b[39mif\u001b[39;00m response\u001b[39m.\u001b[39mstatus_code \u001b[39m==\u001b[39m \u001b[39m200\u001b[39m:\n\u001b[1;32m    <a href='file:///home/fulp/clasificador_ofertas_empleo/clasificador-ofertas-empleo-modelo/NB_verbs_dict.py?line=153'>154</a>\u001b[0m     \u001b[39m# Parse the HTML content of the page using BeautifulSoup\u001b[39;00m\n",
      "File \u001b[0;32m~/clasificador_ofertas_empleo/clasificador-ofertas-empleo-modelo/.venv/lib64/python3.9/site-packages/requests/api.py:73\u001b[0m, in \u001b[0;36mget\u001b[0;34m(url, params, **kwargs)\u001b[0m\n\u001b[1;32m     <a href='file:///home/fulp/clasificador_ofertas_empleo/clasificador-ofertas-empleo-modelo/.venv/lib64/python3.9/site-packages/requests/api.py?line=61'>62</a>\u001b[0m \u001b[39mdef\u001b[39;00m \u001b[39mget\u001b[39m(url, params\u001b[39m=\u001b[39m\u001b[39mNone\u001b[39;00m, \u001b[39m*\u001b[39m\u001b[39m*\u001b[39mkwargs):\n\u001b[1;32m     <a href='file:///home/fulp/clasificador_ofertas_empleo/clasificador-ofertas-empleo-modelo/.venv/lib64/python3.9/site-packages/requests/api.py?line=62'>63</a>\u001b[0m \u001b[39m    \u001b[39m\u001b[39mr\u001b[39m\u001b[39m\"\"\"Sends a GET request.\u001b[39;00m\n\u001b[1;32m     <a href='file:///home/fulp/clasificador_ofertas_empleo/clasificador-ofertas-empleo-modelo/.venv/lib64/python3.9/site-packages/requests/api.py?line=63'>64</a>\u001b[0m \n\u001b[1;32m     <a href='file:///home/fulp/clasificador_ofertas_empleo/clasificador-ofertas-empleo-modelo/.venv/lib64/python3.9/site-packages/requests/api.py?line=64'>65</a>\u001b[0m \u001b[39m    :param url: URL for the new :class:`Request` object.\u001b[39;00m\n\u001b[0;32m   (...)\u001b[0m\n\u001b[1;32m     <a href='file:///home/fulp/clasificador_ofertas_empleo/clasificador-ofertas-empleo-modelo/.venv/lib64/python3.9/site-packages/requests/api.py?line=69'>70</a>\u001b[0m \u001b[39m    :rtype: requests.Response\u001b[39;00m\n\u001b[1;32m     <a href='file:///home/fulp/clasificador_ofertas_empleo/clasificador-ofertas-empleo-modelo/.venv/lib64/python3.9/site-packages/requests/api.py?line=70'>71</a>\u001b[0m \u001b[39m    \"\"\"\u001b[39;00m\n\u001b[0;32m---> <a href='file:///home/fulp/clasificador_ofertas_empleo/clasificador-ofertas-empleo-modelo/.venv/lib64/python3.9/site-packages/requests/api.py?line=72'>73</a>\u001b[0m     \u001b[39mreturn\u001b[39;00m request(\u001b[39m\"\u001b[39;49m\u001b[39mget\u001b[39;49m\u001b[39m\"\u001b[39;49m, url, params\u001b[39m=\u001b[39;49mparams, \u001b[39m*\u001b[39;49m\u001b[39m*\u001b[39;49mkwargs)\n",
      "File \u001b[0;32m~/clasificador_ofertas_empleo/clasificador-ofertas-empleo-modelo/.venv/lib64/python3.9/site-packages/requests/api.py:59\u001b[0m, in \u001b[0;36mrequest\u001b[0;34m(method, url, **kwargs)\u001b[0m\n\u001b[1;32m     <a href='file:///home/fulp/clasificador_ofertas_empleo/clasificador-ofertas-empleo-modelo/.venv/lib64/python3.9/site-packages/requests/api.py?line=54'>55</a>\u001b[0m \u001b[39m# By using the 'with' statement we are sure the session is closed, thus we\u001b[39;00m\n\u001b[1;32m     <a href='file:///home/fulp/clasificador_ofertas_empleo/clasificador-ofertas-empleo-modelo/.venv/lib64/python3.9/site-packages/requests/api.py?line=55'>56</a>\u001b[0m \u001b[39m# avoid leaving sockets open which can trigger a ResourceWarning in some\u001b[39;00m\n\u001b[1;32m     <a href='file:///home/fulp/clasificador_ofertas_empleo/clasificador-ofertas-empleo-modelo/.venv/lib64/python3.9/site-packages/requests/api.py?line=56'>57</a>\u001b[0m \u001b[39m# cases, and look like a memory leak in others.\u001b[39;00m\n\u001b[1;32m     <a href='file:///home/fulp/clasificador_ofertas_empleo/clasificador-ofertas-empleo-modelo/.venv/lib64/python3.9/site-packages/requests/api.py?line=57'>58</a>\u001b[0m \u001b[39mwith\u001b[39;00m sessions\u001b[39m.\u001b[39mSession() \u001b[39mas\u001b[39;00m session:\n\u001b[0;32m---> <a href='file:///home/fulp/clasificador_ofertas_empleo/clasificador-ofertas-empleo-modelo/.venv/lib64/python3.9/site-packages/requests/api.py?line=58'>59</a>\u001b[0m     \u001b[39mreturn\u001b[39;00m session\u001b[39m.\u001b[39;49mrequest(method\u001b[39m=\u001b[39;49mmethod, url\u001b[39m=\u001b[39;49murl, \u001b[39m*\u001b[39;49m\u001b[39m*\u001b[39;49mkwargs)\n",
      "File \u001b[0;32m~/clasificador_ofertas_empleo/clasificador-ofertas-empleo-modelo/.venv/lib64/python3.9/site-packages/requests/sessions.py:589\u001b[0m, in \u001b[0;36mSession.request\u001b[0;34m(self, method, url, params, data, headers, cookies, files, auth, timeout, allow_redirects, proxies, hooks, stream, verify, cert, json)\u001b[0m\n\u001b[1;32m    <a href='file:///home/fulp/clasificador_ofertas_empleo/clasificador-ofertas-empleo-modelo/.venv/lib64/python3.9/site-packages/requests/sessions.py?line=583'>584</a>\u001b[0m send_kwargs \u001b[39m=\u001b[39m {\n\u001b[1;32m    <a href='file:///home/fulp/clasificador_ofertas_empleo/clasificador-ofertas-empleo-modelo/.venv/lib64/python3.9/site-packages/requests/sessions.py?line=584'>585</a>\u001b[0m     \u001b[39m\"\u001b[39m\u001b[39mtimeout\u001b[39m\u001b[39m\"\u001b[39m: timeout,\n\u001b[1;32m    <a href='file:///home/fulp/clasificador_ofertas_empleo/clasificador-ofertas-empleo-modelo/.venv/lib64/python3.9/site-packages/requests/sessions.py?line=585'>586</a>\u001b[0m     \u001b[39m\"\u001b[39m\u001b[39mallow_redirects\u001b[39m\u001b[39m\"\u001b[39m: allow_redirects,\n\u001b[1;32m    <a href='file:///home/fulp/clasificador_ofertas_empleo/clasificador-ofertas-empleo-modelo/.venv/lib64/python3.9/site-packages/requests/sessions.py?line=586'>587</a>\u001b[0m }\n\u001b[1;32m    <a href='file:///home/fulp/clasificador_ofertas_empleo/clasificador-ofertas-empleo-modelo/.venv/lib64/python3.9/site-packages/requests/sessions.py?line=587'>588</a>\u001b[0m send_kwargs\u001b[39m.\u001b[39mupdate(settings)\n\u001b[0;32m--> <a href='file:///home/fulp/clasificador_ofertas_empleo/clasificador-ofertas-empleo-modelo/.venv/lib64/python3.9/site-packages/requests/sessions.py?line=588'>589</a>\u001b[0m resp \u001b[39m=\u001b[39m \u001b[39mself\u001b[39;49m\u001b[39m.\u001b[39;49msend(prep, \u001b[39m*\u001b[39;49m\u001b[39m*\u001b[39;49msend_kwargs)\n\u001b[1;32m    <a href='file:///home/fulp/clasificador_ofertas_empleo/clasificador-ofertas-empleo-modelo/.venv/lib64/python3.9/site-packages/requests/sessions.py?line=590'>591</a>\u001b[0m \u001b[39mreturn\u001b[39;00m resp\n",
      "File \u001b[0;32m~/clasificador_ofertas_empleo/clasificador-ofertas-empleo-modelo/.venv/lib64/python3.9/site-packages/requests/sessions.py:703\u001b[0m, in \u001b[0;36mSession.send\u001b[0;34m(self, request, **kwargs)\u001b[0m\n\u001b[1;32m    <a href='file:///home/fulp/clasificador_ofertas_empleo/clasificador-ofertas-empleo-modelo/.venv/lib64/python3.9/site-packages/requests/sessions.py?line=699'>700</a>\u001b[0m start \u001b[39m=\u001b[39m preferred_clock()\n\u001b[1;32m    <a href='file:///home/fulp/clasificador_ofertas_empleo/clasificador-ofertas-empleo-modelo/.venv/lib64/python3.9/site-packages/requests/sessions.py?line=701'>702</a>\u001b[0m \u001b[39m# Send the request\u001b[39;00m\n\u001b[0;32m--> <a href='file:///home/fulp/clasificador_ofertas_empleo/clasificador-ofertas-empleo-modelo/.venv/lib64/python3.9/site-packages/requests/sessions.py?line=702'>703</a>\u001b[0m r \u001b[39m=\u001b[39m adapter\u001b[39m.\u001b[39;49msend(request, \u001b[39m*\u001b[39;49m\u001b[39m*\u001b[39;49mkwargs)\n\u001b[1;32m    <a href='file:///home/fulp/clasificador_ofertas_empleo/clasificador-ofertas-empleo-modelo/.venv/lib64/python3.9/site-packages/requests/sessions.py?line=704'>705</a>\u001b[0m \u001b[39m# Total elapsed time of the request (approximately)\u001b[39;00m\n\u001b[1;32m    <a href='file:///home/fulp/clasificador_ofertas_empleo/clasificador-ofertas-empleo-modelo/.venv/lib64/python3.9/site-packages/requests/sessions.py?line=705'>706</a>\u001b[0m elapsed \u001b[39m=\u001b[39m preferred_clock() \u001b[39m-\u001b[39m start\n",
      "File \u001b[0;32m~/clasificador_ofertas_empleo/clasificador-ofertas-empleo-modelo/.venv/lib64/python3.9/site-packages/requests/adapters.py:486\u001b[0m, in \u001b[0;36mHTTPAdapter.send\u001b[0;34m(self, request, stream, timeout, verify, cert, proxies)\u001b[0m\n\u001b[1;32m    <a href='file:///home/fulp/clasificador_ofertas_empleo/clasificador-ofertas-empleo-modelo/.venv/lib64/python3.9/site-packages/requests/adapters.py?line=482'>483</a>\u001b[0m     timeout \u001b[39m=\u001b[39m TimeoutSauce(connect\u001b[39m=\u001b[39mtimeout, read\u001b[39m=\u001b[39mtimeout)\n\u001b[1;32m    <a href='file:///home/fulp/clasificador_ofertas_empleo/clasificador-ofertas-empleo-modelo/.venv/lib64/python3.9/site-packages/requests/adapters.py?line=484'>485</a>\u001b[0m \u001b[39mtry\u001b[39;00m:\n\u001b[0;32m--> <a href='file:///home/fulp/clasificador_ofertas_empleo/clasificador-ofertas-empleo-modelo/.venv/lib64/python3.9/site-packages/requests/adapters.py?line=485'>486</a>\u001b[0m     resp \u001b[39m=\u001b[39m conn\u001b[39m.\u001b[39;49murlopen(\n\u001b[1;32m    <a href='file:///home/fulp/clasificador_ofertas_empleo/clasificador-ofertas-empleo-modelo/.venv/lib64/python3.9/site-packages/requests/adapters.py?line=486'>487</a>\u001b[0m         method\u001b[39m=\u001b[39;49mrequest\u001b[39m.\u001b[39;49mmethod,\n\u001b[1;32m    <a href='file:///home/fulp/clasificador_ofertas_empleo/clasificador-ofertas-empleo-modelo/.venv/lib64/python3.9/site-packages/requests/adapters.py?line=487'>488</a>\u001b[0m         url\u001b[39m=\u001b[39;49murl,\n\u001b[1;32m    <a href='file:///home/fulp/clasificador_ofertas_empleo/clasificador-ofertas-empleo-modelo/.venv/lib64/python3.9/site-packages/requests/adapters.py?line=488'>489</a>\u001b[0m         body\u001b[39m=\u001b[39;49mrequest\u001b[39m.\u001b[39;49mbody,\n\u001b[1;32m    <a href='file:///home/fulp/clasificador_ofertas_empleo/clasificador-ofertas-empleo-modelo/.venv/lib64/python3.9/site-packages/requests/adapters.py?line=489'>490</a>\u001b[0m         headers\u001b[39m=\u001b[39;49mrequest\u001b[39m.\u001b[39;49mheaders,\n\u001b[1;32m    <a href='file:///home/fulp/clasificador_ofertas_empleo/clasificador-ofertas-empleo-modelo/.venv/lib64/python3.9/site-packages/requests/adapters.py?line=490'>491</a>\u001b[0m         redirect\u001b[39m=\u001b[39;49m\u001b[39mFalse\u001b[39;49;00m,\n\u001b[1;32m    <a href='file:///home/fulp/clasificador_ofertas_empleo/clasificador-ofertas-empleo-modelo/.venv/lib64/python3.9/site-packages/requests/adapters.py?line=491'>492</a>\u001b[0m         assert_same_host\u001b[39m=\u001b[39;49m\u001b[39mFalse\u001b[39;49;00m,\n\u001b[1;32m    <a href='file:///home/fulp/clasificador_ofertas_empleo/clasificador-ofertas-empleo-modelo/.venv/lib64/python3.9/site-packages/requests/adapters.py?line=492'>493</a>\u001b[0m         preload_content\u001b[39m=\u001b[39;49m\u001b[39mFalse\u001b[39;49;00m,\n\u001b[1;32m    <a href='file:///home/fulp/clasificador_ofertas_empleo/clasificador-ofertas-empleo-modelo/.venv/lib64/python3.9/site-packages/requests/adapters.py?line=493'>494</a>\u001b[0m         decode_content\u001b[39m=\u001b[39;49m\u001b[39mFalse\u001b[39;49;00m,\n\u001b[1;32m    <a href='file:///home/fulp/clasificador_ofertas_empleo/clasificador-ofertas-empleo-modelo/.venv/lib64/python3.9/site-packages/requests/adapters.py?line=494'>495</a>\u001b[0m         retries\u001b[39m=\u001b[39;49m\u001b[39mself\u001b[39;49m\u001b[39m.\u001b[39;49mmax_retries,\n\u001b[1;32m    <a href='file:///home/fulp/clasificador_ofertas_empleo/clasificador-ofertas-empleo-modelo/.venv/lib64/python3.9/site-packages/requests/adapters.py?line=495'>496</a>\u001b[0m         timeout\u001b[39m=\u001b[39;49mtimeout,\n\u001b[1;32m    <a href='file:///home/fulp/clasificador_ofertas_empleo/clasificador-ofertas-empleo-modelo/.venv/lib64/python3.9/site-packages/requests/adapters.py?line=496'>497</a>\u001b[0m         chunked\u001b[39m=\u001b[39;49mchunked,\n\u001b[1;32m    <a href='file:///home/fulp/clasificador_ofertas_empleo/clasificador-ofertas-empleo-modelo/.venv/lib64/python3.9/site-packages/requests/adapters.py?line=497'>498</a>\u001b[0m     )\n\u001b[1;32m    <a href='file:///home/fulp/clasificador_ofertas_empleo/clasificador-ofertas-empleo-modelo/.venv/lib64/python3.9/site-packages/requests/adapters.py?line=499'>500</a>\u001b[0m \u001b[39mexcept\u001b[39;00m (ProtocolError, \u001b[39mOSError\u001b[39;00m) \u001b[39mas\u001b[39;00m err:\n\u001b[1;32m    <a href='file:///home/fulp/clasificador_ofertas_empleo/clasificador-ofertas-empleo-modelo/.venv/lib64/python3.9/site-packages/requests/adapters.py?line=500'>501</a>\u001b[0m     \u001b[39mraise\u001b[39;00m \u001b[39mConnectionError\u001b[39;00m(err, request\u001b[39m=\u001b[39mrequest)\n",
      "File \u001b[0;32m~/clasificador_ofertas_empleo/clasificador-ofertas-empleo-modelo/.venv/lib64/python3.9/site-packages/urllib3/connectionpool.py:790\u001b[0m, in \u001b[0;36mHTTPConnectionPool.urlopen\u001b[0;34m(self, method, url, body, headers, retries, redirect, assert_same_host, timeout, pool_timeout, release_conn, chunked, body_pos, preload_content, decode_content, **response_kw)\u001b[0m\n\u001b[1;32m    <a href='file:///home/fulp/clasificador_ofertas_empleo/clasificador-ofertas-empleo-modelo/.venv/lib64/python3.9/site-packages/urllib3/connectionpool.py?line=786'>787</a>\u001b[0m response_conn \u001b[39m=\u001b[39m conn \u001b[39mif\u001b[39;00m \u001b[39mnot\u001b[39;00m release_conn \u001b[39melse\u001b[39;00m \u001b[39mNone\u001b[39;00m\n\u001b[1;32m    <a href='file:///home/fulp/clasificador_ofertas_empleo/clasificador-ofertas-empleo-modelo/.venv/lib64/python3.9/site-packages/urllib3/connectionpool.py?line=788'>789</a>\u001b[0m \u001b[39m# Make the request on the HTTPConnection object\u001b[39;00m\n\u001b[0;32m--> <a href='file:///home/fulp/clasificador_ofertas_empleo/clasificador-ofertas-empleo-modelo/.venv/lib64/python3.9/site-packages/urllib3/connectionpool.py?line=789'>790</a>\u001b[0m response \u001b[39m=\u001b[39m \u001b[39mself\u001b[39;49m\u001b[39m.\u001b[39;49m_make_request(\n\u001b[1;32m    <a href='file:///home/fulp/clasificador_ofertas_empleo/clasificador-ofertas-empleo-modelo/.venv/lib64/python3.9/site-packages/urllib3/connectionpool.py?line=790'>791</a>\u001b[0m     conn,\n\u001b[1;32m    <a href='file:///home/fulp/clasificador_ofertas_empleo/clasificador-ofertas-empleo-modelo/.venv/lib64/python3.9/site-packages/urllib3/connectionpool.py?line=791'>792</a>\u001b[0m     method,\n\u001b[1;32m    <a href='file:///home/fulp/clasificador_ofertas_empleo/clasificador-ofertas-empleo-modelo/.venv/lib64/python3.9/site-packages/urllib3/connectionpool.py?line=792'>793</a>\u001b[0m     url,\n\u001b[1;32m    <a href='file:///home/fulp/clasificador_ofertas_empleo/clasificador-ofertas-empleo-modelo/.venv/lib64/python3.9/site-packages/urllib3/connectionpool.py?line=793'>794</a>\u001b[0m     timeout\u001b[39m=\u001b[39;49mtimeout_obj,\n\u001b[1;32m    <a href='file:///home/fulp/clasificador_ofertas_empleo/clasificador-ofertas-empleo-modelo/.venv/lib64/python3.9/site-packages/urllib3/connectionpool.py?line=794'>795</a>\u001b[0m     body\u001b[39m=\u001b[39;49mbody,\n\u001b[1;32m    <a href='file:///home/fulp/clasificador_ofertas_empleo/clasificador-ofertas-empleo-modelo/.venv/lib64/python3.9/site-packages/urllib3/connectionpool.py?line=795'>796</a>\u001b[0m     headers\u001b[39m=\u001b[39;49mheaders,\n\u001b[1;32m    <a href='file:///home/fulp/clasificador_ofertas_empleo/clasificador-ofertas-empleo-modelo/.venv/lib64/python3.9/site-packages/urllib3/connectionpool.py?line=796'>797</a>\u001b[0m     chunked\u001b[39m=\u001b[39;49mchunked,\n\u001b[1;32m    <a href='file:///home/fulp/clasificador_ofertas_empleo/clasificador-ofertas-empleo-modelo/.venv/lib64/python3.9/site-packages/urllib3/connectionpool.py?line=797'>798</a>\u001b[0m     retries\u001b[39m=\u001b[39;49mretries,\n\u001b[1;32m    <a href='file:///home/fulp/clasificador_ofertas_empleo/clasificador-ofertas-empleo-modelo/.venv/lib64/python3.9/site-packages/urllib3/connectionpool.py?line=798'>799</a>\u001b[0m     response_conn\u001b[39m=\u001b[39;49mresponse_conn,\n\u001b[1;32m    <a href='file:///home/fulp/clasificador_ofertas_empleo/clasificador-ofertas-empleo-modelo/.venv/lib64/python3.9/site-packages/urllib3/connectionpool.py?line=799'>800</a>\u001b[0m     preload_content\u001b[39m=\u001b[39;49mpreload_content,\n\u001b[1;32m    <a href='file:///home/fulp/clasificador_ofertas_empleo/clasificador-ofertas-empleo-modelo/.venv/lib64/python3.9/site-packages/urllib3/connectionpool.py?line=800'>801</a>\u001b[0m     decode_content\u001b[39m=\u001b[39;49mdecode_content,\n\u001b[1;32m    <a href='file:///home/fulp/clasificador_ofertas_empleo/clasificador-ofertas-empleo-modelo/.venv/lib64/python3.9/site-packages/urllib3/connectionpool.py?line=801'>802</a>\u001b[0m     \u001b[39m*\u001b[39;49m\u001b[39m*\u001b[39;49mresponse_kw,\n\u001b[1;32m    <a href='file:///home/fulp/clasificador_ofertas_empleo/clasificador-ofertas-empleo-modelo/.venv/lib64/python3.9/site-packages/urllib3/connectionpool.py?line=802'>803</a>\u001b[0m )\n\u001b[1;32m    <a href='file:///home/fulp/clasificador_ofertas_empleo/clasificador-ofertas-empleo-modelo/.venv/lib64/python3.9/site-packages/urllib3/connectionpool.py?line=804'>805</a>\u001b[0m \u001b[39m# Everything went great!\u001b[39;00m\n\u001b[1;32m    <a href='file:///home/fulp/clasificador_ofertas_empleo/clasificador-ofertas-empleo-modelo/.venv/lib64/python3.9/site-packages/urllib3/connectionpool.py?line=805'>806</a>\u001b[0m clean_exit \u001b[39m=\u001b[39m \u001b[39mTrue\u001b[39;00m\n",
      "File \u001b[0;32m~/clasificador_ofertas_empleo/clasificador-ofertas-empleo-modelo/.venv/lib64/python3.9/site-packages/urllib3/connectionpool.py:536\u001b[0m, in \u001b[0;36mHTTPConnectionPool._make_request\u001b[0;34m(self, conn, method, url, body, headers, retries, timeout, chunked, response_conn, preload_content, decode_content, enforce_content_length)\u001b[0m\n\u001b[1;32m    <a href='file:///home/fulp/clasificador_ofertas_empleo/clasificador-ofertas-empleo-modelo/.venv/lib64/python3.9/site-packages/urllib3/connectionpool.py?line=533'>534</a>\u001b[0m \u001b[39m# Receive the response from the server\u001b[39;00m\n\u001b[1;32m    <a href='file:///home/fulp/clasificador_ofertas_empleo/clasificador-ofertas-empleo-modelo/.venv/lib64/python3.9/site-packages/urllib3/connectionpool.py?line=534'>535</a>\u001b[0m \u001b[39mtry\u001b[39;00m:\n\u001b[0;32m--> <a href='file:///home/fulp/clasificador_ofertas_empleo/clasificador-ofertas-empleo-modelo/.venv/lib64/python3.9/site-packages/urllib3/connectionpool.py?line=535'>536</a>\u001b[0m     response \u001b[39m=\u001b[39m conn\u001b[39m.\u001b[39;49mgetresponse()\n\u001b[1;32m    <a href='file:///home/fulp/clasificador_ofertas_empleo/clasificador-ofertas-empleo-modelo/.venv/lib64/python3.9/site-packages/urllib3/connectionpool.py?line=536'>537</a>\u001b[0m \u001b[39mexcept\u001b[39;00m (BaseSSLError, \u001b[39mOSError\u001b[39;00m) \u001b[39mas\u001b[39;00m e:\n\u001b[1;32m    <a href='file:///home/fulp/clasificador_ofertas_empleo/clasificador-ofertas-empleo-modelo/.venv/lib64/python3.9/site-packages/urllib3/connectionpool.py?line=537'>538</a>\u001b[0m     \u001b[39mself\u001b[39m\u001b[39m.\u001b[39m_raise_timeout(err\u001b[39m=\u001b[39me, url\u001b[39m=\u001b[39murl, timeout_value\u001b[39m=\u001b[39mread_timeout)\n",
      "File \u001b[0;32m~/clasificador_ofertas_empleo/clasificador-ofertas-empleo-modelo/.venv/lib64/python3.9/site-packages/urllib3/connection.py:461\u001b[0m, in \u001b[0;36mHTTPConnection.getresponse\u001b[0;34m(self)\u001b[0m\n\u001b[1;32m    <a href='file:///home/fulp/clasificador_ofertas_empleo/clasificador-ofertas-empleo-modelo/.venv/lib64/python3.9/site-packages/urllib3/connection.py?line=457'>458</a>\u001b[0m \u001b[39mfrom\u001b[39;00m \u001b[39m.\u001b[39;00m\u001b[39mresponse\u001b[39;00m \u001b[39mimport\u001b[39;00m HTTPResponse\n\u001b[1;32m    <a href='file:///home/fulp/clasificador_ofertas_empleo/clasificador-ofertas-empleo-modelo/.venv/lib64/python3.9/site-packages/urllib3/connection.py?line=459'>460</a>\u001b[0m \u001b[39m# Get the response from http.client.HTTPConnection\u001b[39;00m\n\u001b[0;32m--> <a href='file:///home/fulp/clasificador_ofertas_empleo/clasificador-ofertas-empleo-modelo/.venv/lib64/python3.9/site-packages/urllib3/connection.py?line=460'>461</a>\u001b[0m httplib_response \u001b[39m=\u001b[39m \u001b[39msuper\u001b[39;49m()\u001b[39m.\u001b[39;49mgetresponse()\n\u001b[1;32m    <a href='file:///home/fulp/clasificador_ofertas_empleo/clasificador-ofertas-empleo-modelo/.venv/lib64/python3.9/site-packages/urllib3/connection.py?line=462'>463</a>\u001b[0m \u001b[39mtry\u001b[39;00m:\n\u001b[1;32m    <a href='file:///home/fulp/clasificador_ofertas_empleo/clasificador-ofertas-empleo-modelo/.venv/lib64/python3.9/site-packages/urllib3/connection.py?line=463'>464</a>\u001b[0m     assert_header_parsing(httplib_response\u001b[39m.\u001b[39mmsg)\n",
      "File \u001b[0;32m/usr/lib64/python3.9/http/client.py:1377\u001b[0m, in \u001b[0;36mHTTPConnection.getresponse\u001b[0;34m(self)\u001b[0m\n\u001b[1;32m   <a href='file:///usr/lib64/python3.9/http/client.py?line=1374'>1375</a>\u001b[0m \u001b[39mtry\u001b[39;00m:\n\u001b[1;32m   <a href='file:///usr/lib64/python3.9/http/client.py?line=1375'>1376</a>\u001b[0m     \u001b[39mtry\u001b[39;00m:\n\u001b[0;32m-> <a href='file:///usr/lib64/python3.9/http/client.py?line=1376'>1377</a>\u001b[0m         response\u001b[39m.\u001b[39;49mbegin()\n\u001b[1;32m   <a href='file:///usr/lib64/python3.9/http/client.py?line=1377'>1378</a>\u001b[0m     \u001b[39mexcept\u001b[39;00m \u001b[39mConnectionError\u001b[39;00m:\n\u001b[1;32m   <a href='file:///usr/lib64/python3.9/http/client.py?line=1378'>1379</a>\u001b[0m         \u001b[39mself\u001b[39m\u001b[39m.\u001b[39mclose()\n",
      "File \u001b[0;32m/usr/lib64/python3.9/http/client.py:320\u001b[0m, in \u001b[0;36mHTTPResponse.begin\u001b[0;34m(self)\u001b[0m\n\u001b[1;32m    <a href='file:///usr/lib64/python3.9/http/client.py?line=317'>318</a>\u001b[0m \u001b[39m# read until we get a non-100 response\u001b[39;00m\n\u001b[1;32m    <a href='file:///usr/lib64/python3.9/http/client.py?line=318'>319</a>\u001b[0m \u001b[39mwhile\u001b[39;00m \u001b[39mTrue\u001b[39;00m:\n\u001b[0;32m--> <a href='file:///usr/lib64/python3.9/http/client.py?line=319'>320</a>\u001b[0m     version, status, reason \u001b[39m=\u001b[39m \u001b[39mself\u001b[39;49m\u001b[39m.\u001b[39;49m_read_status()\n\u001b[1;32m    <a href='file:///usr/lib64/python3.9/http/client.py?line=320'>321</a>\u001b[0m     \u001b[39mif\u001b[39;00m status \u001b[39m!=\u001b[39m CONTINUE:\n\u001b[1;32m    <a href='file:///usr/lib64/python3.9/http/client.py?line=321'>322</a>\u001b[0m         \u001b[39mbreak\u001b[39;00m\n",
      "File \u001b[0;32m/usr/lib64/python3.9/http/client.py:281\u001b[0m, in \u001b[0;36mHTTPResponse._read_status\u001b[0;34m(self)\u001b[0m\n\u001b[1;32m    <a href='file:///usr/lib64/python3.9/http/client.py?line=279'>280</a>\u001b[0m \u001b[39mdef\u001b[39;00m \u001b[39m_read_status\u001b[39m(\u001b[39mself\u001b[39m):\n\u001b[0;32m--> <a href='file:///usr/lib64/python3.9/http/client.py?line=280'>281</a>\u001b[0m     line \u001b[39m=\u001b[39m \u001b[39mstr\u001b[39m(\u001b[39mself\u001b[39;49m\u001b[39m.\u001b[39;49mfp\u001b[39m.\u001b[39;49mreadline(_MAXLINE \u001b[39m+\u001b[39;49m \u001b[39m1\u001b[39;49m), \u001b[39m\"\u001b[39m\u001b[39miso-8859-1\u001b[39m\u001b[39m\"\u001b[39m)\n\u001b[1;32m    <a href='file:///usr/lib64/python3.9/http/client.py?line=281'>282</a>\u001b[0m     \u001b[39mif\u001b[39;00m \u001b[39mlen\u001b[39m(line) \u001b[39m>\u001b[39m _MAXLINE:\n\u001b[1;32m    <a href='file:///usr/lib64/python3.9/http/client.py?line=282'>283</a>\u001b[0m         \u001b[39mraise\u001b[39;00m LineTooLong(\u001b[39m\"\u001b[39m\u001b[39mstatus line\u001b[39m\u001b[39m\"\u001b[39m)\n",
      "File \u001b[0;32m/usr/lib64/python3.9/socket.py:704\u001b[0m, in \u001b[0;36mSocketIO.readinto\u001b[0;34m(self, b)\u001b[0m\n\u001b[1;32m    <a href='file:///usr/lib64/python3.9/socket.py?line=701'>702</a>\u001b[0m \u001b[39mwhile\u001b[39;00m \u001b[39mTrue\u001b[39;00m:\n\u001b[1;32m    <a href='file:///usr/lib64/python3.9/socket.py?line=702'>703</a>\u001b[0m     \u001b[39mtry\u001b[39;00m:\n\u001b[0;32m--> <a href='file:///usr/lib64/python3.9/socket.py?line=703'>704</a>\u001b[0m         \u001b[39mreturn\u001b[39;00m \u001b[39mself\u001b[39;49m\u001b[39m.\u001b[39;49m_sock\u001b[39m.\u001b[39;49mrecv_into(b)\n\u001b[1;32m    <a href='file:///usr/lib64/python3.9/socket.py?line=704'>705</a>\u001b[0m     \u001b[39mexcept\u001b[39;00m timeout:\n\u001b[1;32m    <a href='file:///usr/lib64/python3.9/socket.py?line=705'>706</a>\u001b[0m         \u001b[39mself\u001b[39m\u001b[39m.\u001b[39m_timeout_occurred \u001b[39m=\u001b[39m \u001b[39mTrue\u001b[39;00m\n",
      "File \u001b[0;32m/usr/lib64/python3.9/ssl.py:1242\u001b[0m, in \u001b[0;36mSSLSocket.recv_into\u001b[0;34m(self, buffer, nbytes, flags)\u001b[0m\n\u001b[1;32m   <a href='file:///usr/lib64/python3.9/ssl.py?line=1237'>1238</a>\u001b[0m     \u001b[39mif\u001b[39;00m flags \u001b[39m!=\u001b[39m \u001b[39m0\u001b[39m:\n\u001b[1;32m   <a href='file:///usr/lib64/python3.9/ssl.py?line=1238'>1239</a>\u001b[0m         \u001b[39mraise\u001b[39;00m \u001b[39mValueError\u001b[39;00m(\n\u001b[1;32m   <a href='file:///usr/lib64/python3.9/ssl.py?line=1239'>1240</a>\u001b[0m           \u001b[39m\"\u001b[39m\u001b[39mnon-zero flags not allowed in calls to recv_into() on \u001b[39m\u001b[39m%s\u001b[39;00m\u001b[39m\"\u001b[39m \u001b[39m%\u001b[39m\n\u001b[1;32m   <a href='file:///usr/lib64/python3.9/ssl.py?line=1240'>1241</a>\u001b[0m           \u001b[39mself\u001b[39m\u001b[39m.\u001b[39m\u001b[39m__class__\u001b[39m)\n\u001b[0;32m-> <a href='file:///usr/lib64/python3.9/ssl.py?line=1241'>1242</a>\u001b[0m     \u001b[39mreturn\u001b[39;00m \u001b[39mself\u001b[39;49m\u001b[39m.\u001b[39;49mread(nbytes, buffer)\n\u001b[1;32m   <a href='file:///usr/lib64/python3.9/ssl.py?line=1242'>1243</a>\u001b[0m \u001b[39melse\u001b[39;00m:\n\u001b[1;32m   <a href='file:///usr/lib64/python3.9/ssl.py?line=1243'>1244</a>\u001b[0m     \u001b[39mreturn\u001b[39;00m \u001b[39msuper\u001b[39m()\u001b[39m.\u001b[39mrecv_into(buffer, nbytes, flags)\n",
      "File \u001b[0;32m/usr/lib64/python3.9/ssl.py:1100\u001b[0m, in \u001b[0;36mSSLSocket.read\u001b[0;34m(self, len, buffer)\u001b[0m\n\u001b[1;32m   <a href='file:///usr/lib64/python3.9/ssl.py?line=1097'>1098</a>\u001b[0m \u001b[39mtry\u001b[39;00m:\n\u001b[1;32m   <a href='file:///usr/lib64/python3.9/ssl.py?line=1098'>1099</a>\u001b[0m     \u001b[39mif\u001b[39;00m buffer \u001b[39mis\u001b[39;00m \u001b[39mnot\u001b[39;00m \u001b[39mNone\u001b[39;00m:\n\u001b[0;32m-> <a href='file:///usr/lib64/python3.9/ssl.py?line=1099'>1100</a>\u001b[0m         \u001b[39mreturn\u001b[39;00m \u001b[39mself\u001b[39;49m\u001b[39m.\u001b[39;49m_sslobj\u001b[39m.\u001b[39;49mread(\u001b[39mlen\u001b[39;49m, buffer)\n\u001b[1;32m   <a href='file:///usr/lib64/python3.9/ssl.py?line=1100'>1101</a>\u001b[0m     \u001b[39melse\u001b[39;00m:\n\u001b[1;32m   <a href='file:///usr/lib64/python3.9/ssl.py?line=1101'>1102</a>\u001b[0m         \u001b[39mreturn\u001b[39;00m \u001b[39mself\u001b[39m\u001b[39m.\u001b[39m_sslobj\u001b[39m.\u001b[39mread(\u001b[39mlen\u001b[39m)\n",
      "\u001b[0;31mKeyboardInterrupt\u001b[0m: "
     ]
    }
   ],
   "source": [
    "import random\n",
    "verbs = read_verbs(\"./data/diccionario/verbos-espanol.txt\")\n",
    "# Take 20 random verbs not in order using random.sample\n",
    "verbs = random.sample(verbs, 20)\n",
    "# Read the dictionary\n",
    "verbs_df = read_dictionary(\"./data/diccionario/verbos-espanol.json\")\n",
    "# Create the dictionary\n",
    "verbs_df, errores = create_dictionary(verbs)\n",
    "# Create all conjugations list\n",
    "all_conjugations = create_all_conjugations_list(verbs_df)\n",
    "# Write the dictionary\n",
    "write_dictionary(verbs_df, \"./data/diccionario/verbos-espanol.csv\")\n",
    "# Save all conjugations list\n",
    "with open(\"./data/diccionario/all_conjugations.txt\", \"w\", encoding=\"utf-8\") as f:\n",
    "    f.write(\"\\n\".join(all_conjugations))\n",
    "# Save errors\n",
    "with open(\"./data/diccionario/errores.txt\", \"w\", encoding=\"utf-8\") as f:\n",
    "    f.write(\"\\n\".join(errores))"
   ]
  },
  {
   "cell_type": "code",
   "execution_count": 6,
   "metadata": {},
   "outputs": [
    {
     "name": "stderr",
     "output_type": "stream",
     "text": [
      "Processing acolchar:   3%|▎         | 311/10783 [01:53<1:01:43,  2.83it/s]     "
     ]
    },
    {
     "name": "stdout",
     "output_type": "stream",
     "text": [
      "Error scraping acolar: ('Connection aborted.', ConnectionResetError(104, 'Connection reset by peer'))\n"
     ]
    },
    {
     "name": "stderr",
     "output_type": "stream",
     "text": [
      "Processing acolgar:   3%|▎         | 313/10783 [01:54<54:20,  3.21it/s]     "
     ]
    },
    {
     "name": "stdout",
     "output_type": "stream",
     "text": [
      "Error scraping acolchonar: ('Connection aborted.', ConnectionResetError(104, 'Connection reset by peer'))\n"
     ]
    },
    {
     "name": "stderr",
     "output_type": "stream",
     "text": [
      "Processing acollarar:   3%|▎         | 316/10783 [01:55<53:43,  3.25it/s] "
     ]
    },
    {
     "name": "stdout",
     "output_type": "stream",
     "text": [
      "Error scraping acollar: ('Connection aborted.', ConnectionResetError(104, 'Connection reset by peer'))\n"
     ]
    },
    {
     "name": "stderr",
     "output_type": "stream",
     "text": [
      "Processing acomodar:   3%|▎         | 321/10783 [01:56<35:27,  4.92it/s]   "
     ]
    },
    {
     "name": "stdout",
     "output_type": "stream",
     "text": [
      "Error scraping acombar: ('Connection aborted.', ConnectionResetError(104, 'Connection reset by peer'))\n",
      "Error scraping acometer: ('Connection aborted.', ConnectionResetError(104, 'Connection reset by peer'))\n"
     ]
    },
    {
     "name": "stderr",
     "output_type": "stream",
     "text": [
      "Processing acomplejar:   3%|▎         | 324/10783 [01:57<48:27,  3.60it/s]"
     ]
    },
    {
     "name": "stdout",
     "output_type": "stream",
     "text": [
      "Error scraping acompasar: ('Connection aborted.', ConnectionResetError(104, 'Connection reset by peer'))\n"
     ]
    },
    {
     "name": "stderr",
     "output_type": "stream",
     "text": [
      "Processing acondicionar:   3%|▎         | 327/10783 [01:57<36:56,  4.72it/s]"
     ]
    },
    {
     "name": "stdout",
     "output_type": "stream",
     "text": [
      "Error scraping aconchar: ('Connection aborted.', ConnectionResetError(104, 'Connection reset by peer'))\n"
     ]
    },
    {
     "name": "stderr",
     "output_type": "stream",
     "text": [
      "Processing aconsonantar:   3%|▎         | 331/10783 [01:58<41:51,  4.16it/s]"
     ]
    },
    {
     "name": "stdout",
     "output_type": "stream",
     "text": [
      "Error scraping aconsejar: ('Connection aborted.', ConnectionResetError(104, 'Connection reset by peer'))\n"
     ]
    },
    {
     "name": "stderr",
     "output_type": "stream",
     "text": [
      "Processing adestrar:   4%|▍         | 425/10783 [02:34<1:02:41,  2.75it/s]   \n"
     ]
    },
    {
     "ename": "KeyboardInterrupt",
     "evalue": "",
     "output_type": "error",
     "traceback": [
      "\u001b[0;31m---------------------------------------------------------------------------\u001b[0m",
      "\u001b[0;31mKeyboardInterrupt\u001b[0m                         Traceback (most recent call last)",
      "\u001b[1;32m/home/fulp/clasificador_ofertas_empleo/clasificador-ofertas-empleo-modelo/NB_verbs_dict.py\u001b[0m in \u001b[0;36mline 11\n\u001b[1;32m      <a href='file:///home/fulp/clasificador_ofertas_empleo/clasificador-ofertas-empleo-modelo/NB_verbs_dict.py?line=271'>272</a>\u001b[0m verbs_df \u001b[39m=\u001b[39m read_dictionary(\u001b[39m\"\u001b[39m\u001b[39m./data/diccionario/verbos-espanol.json\u001b[39m\u001b[39m\"\u001b[39m)\n\u001b[1;32m     <a href='file:///home/fulp/clasificador_ofertas_empleo/clasificador-ofertas-empleo-modelo/NB_verbs_dict.py?line=272'>273</a>\u001b[0m \u001b[39m# Create the dictionary\u001b[39;00m\n\u001b[0;32m---> <a href='file:///home/fulp/clasificador_ofertas_empleo/clasificador-ofertas-empleo-modelo/NB_verbs_dict.py?line=273'>274</a>\u001b[0m verbs_df, errores \u001b[39m=\u001b[39m create_dictionary(verbs)\n\u001b[1;32m     <a href='file:///home/fulp/clasificador_ofertas_empleo/clasificador-ofertas-empleo-modelo/NB_verbs_dict.py?line=274'>275</a>\u001b[0m \u001b[39m# Create all conjugations list\u001b[39;00m\n\u001b[1;32m     <a href='file:///home/fulp/clasificador_ofertas_empleo/clasificador-ofertas-empleo-modelo/NB_verbs_dict.py?line=275'>276</a>\u001b[0m all_conjugations \u001b[39m=\u001b[39m create_all_conjugations_list(verbs_df)\n",
      "\u001b[1;32m/home/fulp/clasificador_ofertas_empleo/clasificador-ofertas-empleo-modelo/NB_verbs_dict.py\u001b[0m in \u001b[0;36mline 170\u001b[0m, in \u001b[0;36mcreate_dictionary\u001b[0;34m(verbs)\n\u001b[1;32m    <a href='file:///home/fulp/clasificador_ofertas_empleo/clasificador-ofertas-empleo-modelo/NB_verbs_dict.py?line=205'>206</a>\u001b[0m time\u001b[39m.\u001b[39msleep(\u001b[39m0.1\u001b[39m)\n\u001b[1;32m    <a href='file:///home/fulp/clasificador_ofertas_empleo/clasificador-ofertas-empleo-modelo/NB_verbs_dict.py?line=206'>207</a>\u001b[0m \u001b[39mtry\u001b[39;00m:\n\u001b[0;32m--> <a href='file:///home/fulp/clasificador_ofertas_empleo/clasificador-ofertas-empleo-modelo/NB_verbs_dict.py?line=207'>208</a>\u001b[0m     conjugation_data \u001b[39m=\u001b[39m scrape_verb_conjugations(verb)\n\u001b[1;32m    <a href='file:///home/fulp/clasificador_ofertas_empleo/clasificador-ofertas-empleo-modelo/NB_verbs_dict.py?line=208'>209</a>\u001b[0m     \u001b[39mif\u001b[39;00m conjugation_data \u001b[39mis\u001b[39;00m \u001b[39mnot\u001b[39;00m \u001b[39mNone\u001b[39;00m:  \u001b[39m# Ensure data is not empty\u001b[39;00m\n\u001b[1;32m    <a href='file:///home/fulp/clasificador_ofertas_empleo/clasificador-ofertas-empleo-modelo/NB_verbs_dict.py?line=209'>210</a>\u001b[0m         \u001b[39m# Convert conjugation_data (a dictionary) to a DataFrame\u001b[39;00m\n\u001b[1;32m    <a href='file:///home/fulp/clasificador_ofertas_empleo/clasificador-ofertas-empleo-modelo/NB_verbs_dict.py?line=210'>211</a>\u001b[0m         conjugation_df \u001b[39m=\u001b[39m pd\u001b[39m.\u001b[39mDataFrame\u001b[39m.\u001b[39mfrom_dict(conjugation_data)\n",
      "\u001b[1;32m/home/fulp/clasificador_ofertas_empleo/clasificador-ofertas-empleo-modelo/NB_verbs_dict.py\u001b[0m in \u001b[0;36mline 113\u001b[0m, in \u001b[0;36mscrape_verb_conjugations\u001b[0;34m(verb)\n\u001b[1;32m    <a href='file:///home/fulp/clasificador_ofertas_empleo/clasificador-ofertas-empleo-modelo/NB_verbs_dict.py?line=148'>149</a>\u001b[0m url \u001b[39m=\u001b[39m \u001b[39mf\u001b[39m\u001b[39m\"\u001b[39m\u001b[39mhttps://www.conjugacion.es/del/verbo/\u001b[39m\u001b[39m{\u001b[39;00mverb\u001b[39m}\u001b[39;00m\u001b[39m.php\u001b[39m\u001b[39m\"\u001b[39m\n\u001b[1;32m    <a href='file:///home/fulp/clasificador_ofertas_empleo/clasificador-ofertas-empleo-modelo/NB_verbs_dict.py?line=149'>150</a>\u001b[0m \u001b[39m# Send an HTTP GET request to the URL\u001b[39;00m\n\u001b[0;32m--> <a href='file:///home/fulp/clasificador_ofertas_empleo/clasificador-ofertas-empleo-modelo/NB_verbs_dict.py?line=150'>151</a>\u001b[0m response \u001b[39m=\u001b[39m requests\u001b[39m.\u001b[39;49mget(url)\n\u001b[1;32m    <a href='file:///home/fulp/clasificador_ofertas_empleo/clasificador-ofertas-empleo-modelo/NB_verbs_dict.py?line=151'>152</a>\u001b[0m \u001b[39m# Check if the request was successful (status code 200)\u001b[39;00m\n\u001b[1;32m    <a href='file:///home/fulp/clasificador_ofertas_empleo/clasificador-ofertas-empleo-modelo/NB_verbs_dict.py?line=152'>153</a>\u001b[0m \u001b[39mif\u001b[39;00m response\u001b[39m.\u001b[39mstatus_code \u001b[39m==\u001b[39m \u001b[39m200\u001b[39m:\n\u001b[1;32m    <a href='file:///home/fulp/clasificador_ofertas_empleo/clasificador-ofertas-empleo-modelo/NB_verbs_dict.py?line=153'>154</a>\u001b[0m     \u001b[39m# Parse the HTML content of the page using BeautifulSoup\u001b[39;00m\n",
      "File \u001b[0;32m~/clasificador_ofertas_empleo/clasificador-ofertas-empleo-modelo/.venv/lib64/python3.9/site-packages/requests/api.py:73\u001b[0m, in \u001b[0;36mget\u001b[0;34m(url, params, **kwargs)\u001b[0m\n\u001b[1;32m     <a href='file:///home/fulp/clasificador_ofertas_empleo/clasificador-ofertas-empleo-modelo/.venv/lib64/python3.9/site-packages/requests/api.py?line=61'>62</a>\u001b[0m \u001b[39mdef\u001b[39;00m \u001b[39mget\u001b[39m(url, params\u001b[39m=\u001b[39m\u001b[39mNone\u001b[39;00m, \u001b[39m*\u001b[39m\u001b[39m*\u001b[39mkwargs):\n\u001b[1;32m     <a href='file:///home/fulp/clasificador_ofertas_empleo/clasificador-ofertas-empleo-modelo/.venv/lib64/python3.9/site-packages/requests/api.py?line=62'>63</a>\u001b[0m \u001b[39m    \u001b[39m\u001b[39mr\u001b[39m\u001b[39m\"\"\"Sends a GET request.\u001b[39;00m\n\u001b[1;32m     <a href='file:///home/fulp/clasificador_ofertas_empleo/clasificador-ofertas-empleo-modelo/.venv/lib64/python3.9/site-packages/requests/api.py?line=63'>64</a>\u001b[0m \n\u001b[1;32m     <a href='file:///home/fulp/clasificador_ofertas_empleo/clasificador-ofertas-empleo-modelo/.venv/lib64/python3.9/site-packages/requests/api.py?line=64'>65</a>\u001b[0m \u001b[39m    :param url: URL for the new :class:`Request` object.\u001b[39;00m\n\u001b[0;32m   (...)\u001b[0m\n\u001b[1;32m     <a href='file:///home/fulp/clasificador_ofertas_empleo/clasificador-ofertas-empleo-modelo/.venv/lib64/python3.9/site-packages/requests/api.py?line=69'>70</a>\u001b[0m \u001b[39m    :rtype: requests.Response\u001b[39;00m\n\u001b[1;32m     <a href='file:///home/fulp/clasificador_ofertas_empleo/clasificador-ofertas-empleo-modelo/.venv/lib64/python3.9/site-packages/requests/api.py?line=70'>71</a>\u001b[0m \u001b[39m    \"\"\"\u001b[39;00m\n\u001b[0;32m---> <a href='file:///home/fulp/clasificador_ofertas_empleo/clasificador-ofertas-empleo-modelo/.venv/lib64/python3.9/site-packages/requests/api.py?line=72'>73</a>\u001b[0m     \u001b[39mreturn\u001b[39;00m request(\u001b[39m\"\u001b[39;49m\u001b[39mget\u001b[39;49m\u001b[39m\"\u001b[39;49m, url, params\u001b[39m=\u001b[39;49mparams, \u001b[39m*\u001b[39;49m\u001b[39m*\u001b[39;49mkwargs)\n",
      "File \u001b[0;32m~/clasificador_ofertas_empleo/clasificador-ofertas-empleo-modelo/.venv/lib64/python3.9/site-packages/requests/api.py:59\u001b[0m, in \u001b[0;36mrequest\u001b[0;34m(method, url, **kwargs)\u001b[0m\n\u001b[1;32m     <a href='file:///home/fulp/clasificador_ofertas_empleo/clasificador-ofertas-empleo-modelo/.venv/lib64/python3.9/site-packages/requests/api.py?line=54'>55</a>\u001b[0m \u001b[39m# By using the 'with' statement we are sure the session is closed, thus we\u001b[39;00m\n\u001b[1;32m     <a href='file:///home/fulp/clasificador_ofertas_empleo/clasificador-ofertas-empleo-modelo/.venv/lib64/python3.9/site-packages/requests/api.py?line=55'>56</a>\u001b[0m \u001b[39m# avoid leaving sockets open which can trigger a ResourceWarning in some\u001b[39;00m\n\u001b[1;32m     <a href='file:///home/fulp/clasificador_ofertas_empleo/clasificador-ofertas-empleo-modelo/.venv/lib64/python3.9/site-packages/requests/api.py?line=56'>57</a>\u001b[0m \u001b[39m# cases, and look like a memory leak in others.\u001b[39;00m\n\u001b[1;32m     <a href='file:///home/fulp/clasificador_ofertas_empleo/clasificador-ofertas-empleo-modelo/.venv/lib64/python3.9/site-packages/requests/api.py?line=57'>58</a>\u001b[0m \u001b[39mwith\u001b[39;00m sessions\u001b[39m.\u001b[39mSession() \u001b[39mas\u001b[39;00m session:\n\u001b[0;32m---> <a href='file:///home/fulp/clasificador_ofertas_empleo/clasificador-ofertas-empleo-modelo/.venv/lib64/python3.9/site-packages/requests/api.py?line=58'>59</a>\u001b[0m     \u001b[39mreturn\u001b[39;00m session\u001b[39m.\u001b[39;49mrequest(method\u001b[39m=\u001b[39;49mmethod, url\u001b[39m=\u001b[39;49murl, \u001b[39m*\u001b[39;49m\u001b[39m*\u001b[39;49mkwargs)\n",
      "File \u001b[0;32m~/clasificador_ofertas_empleo/clasificador-ofertas-empleo-modelo/.venv/lib64/python3.9/site-packages/requests/sessions.py:589\u001b[0m, in \u001b[0;36mSession.request\u001b[0;34m(self, method, url, params, data, headers, cookies, files, auth, timeout, allow_redirects, proxies, hooks, stream, verify, cert, json)\u001b[0m\n\u001b[1;32m    <a href='file:///home/fulp/clasificador_ofertas_empleo/clasificador-ofertas-empleo-modelo/.venv/lib64/python3.9/site-packages/requests/sessions.py?line=583'>584</a>\u001b[0m send_kwargs \u001b[39m=\u001b[39m {\n\u001b[1;32m    <a href='file:///home/fulp/clasificador_ofertas_empleo/clasificador-ofertas-empleo-modelo/.venv/lib64/python3.9/site-packages/requests/sessions.py?line=584'>585</a>\u001b[0m     \u001b[39m\"\u001b[39m\u001b[39mtimeout\u001b[39m\u001b[39m\"\u001b[39m: timeout,\n\u001b[1;32m    <a href='file:///home/fulp/clasificador_ofertas_empleo/clasificador-ofertas-empleo-modelo/.venv/lib64/python3.9/site-packages/requests/sessions.py?line=585'>586</a>\u001b[0m     \u001b[39m\"\u001b[39m\u001b[39mallow_redirects\u001b[39m\u001b[39m\"\u001b[39m: allow_redirects,\n\u001b[1;32m    <a href='file:///home/fulp/clasificador_ofertas_empleo/clasificador-ofertas-empleo-modelo/.venv/lib64/python3.9/site-packages/requests/sessions.py?line=586'>587</a>\u001b[0m }\n\u001b[1;32m    <a href='file:///home/fulp/clasificador_ofertas_empleo/clasificador-ofertas-empleo-modelo/.venv/lib64/python3.9/site-packages/requests/sessions.py?line=587'>588</a>\u001b[0m send_kwargs\u001b[39m.\u001b[39mupdate(settings)\n\u001b[0;32m--> <a href='file:///home/fulp/clasificador_ofertas_empleo/clasificador-ofertas-empleo-modelo/.venv/lib64/python3.9/site-packages/requests/sessions.py?line=588'>589</a>\u001b[0m resp \u001b[39m=\u001b[39m \u001b[39mself\u001b[39;49m\u001b[39m.\u001b[39;49msend(prep, \u001b[39m*\u001b[39;49m\u001b[39m*\u001b[39;49msend_kwargs)\n\u001b[1;32m    <a href='file:///home/fulp/clasificador_ofertas_empleo/clasificador-ofertas-empleo-modelo/.venv/lib64/python3.9/site-packages/requests/sessions.py?line=590'>591</a>\u001b[0m \u001b[39mreturn\u001b[39;00m resp\n",
      "File \u001b[0;32m~/clasificador_ofertas_empleo/clasificador-ofertas-empleo-modelo/.venv/lib64/python3.9/site-packages/requests/sessions.py:703\u001b[0m, in \u001b[0;36mSession.send\u001b[0;34m(self, request, **kwargs)\u001b[0m\n\u001b[1;32m    <a href='file:///home/fulp/clasificador_ofertas_empleo/clasificador-ofertas-empleo-modelo/.venv/lib64/python3.9/site-packages/requests/sessions.py?line=699'>700</a>\u001b[0m start \u001b[39m=\u001b[39m preferred_clock()\n\u001b[1;32m    <a href='file:///home/fulp/clasificador_ofertas_empleo/clasificador-ofertas-empleo-modelo/.venv/lib64/python3.9/site-packages/requests/sessions.py?line=701'>702</a>\u001b[0m \u001b[39m# Send the request\u001b[39;00m\n\u001b[0;32m--> <a href='file:///home/fulp/clasificador_ofertas_empleo/clasificador-ofertas-empleo-modelo/.venv/lib64/python3.9/site-packages/requests/sessions.py?line=702'>703</a>\u001b[0m r \u001b[39m=\u001b[39m adapter\u001b[39m.\u001b[39;49msend(request, \u001b[39m*\u001b[39;49m\u001b[39m*\u001b[39;49mkwargs)\n\u001b[1;32m    <a href='file:///home/fulp/clasificador_ofertas_empleo/clasificador-ofertas-empleo-modelo/.venv/lib64/python3.9/site-packages/requests/sessions.py?line=704'>705</a>\u001b[0m \u001b[39m# Total elapsed time of the request (approximately)\u001b[39;00m\n\u001b[1;32m    <a href='file:///home/fulp/clasificador_ofertas_empleo/clasificador-ofertas-empleo-modelo/.venv/lib64/python3.9/site-packages/requests/sessions.py?line=705'>706</a>\u001b[0m elapsed \u001b[39m=\u001b[39m preferred_clock() \u001b[39m-\u001b[39m start\n",
      "File \u001b[0;32m~/clasificador_ofertas_empleo/clasificador-ofertas-empleo-modelo/.venv/lib64/python3.9/site-packages/requests/adapters.py:486\u001b[0m, in \u001b[0;36mHTTPAdapter.send\u001b[0;34m(self, request, stream, timeout, verify, cert, proxies)\u001b[0m\n\u001b[1;32m    <a href='file:///home/fulp/clasificador_ofertas_empleo/clasificador-ofertas-empleo-modelo/.venv/lib64/python3.9/site-packages/requests/adapters.py?line=482'>483</a>\u001b[0m     timeout \u001b[39m=\u001b[39m TimeoutSauce(connect\u001b[39m=\u001b[39mtimeout, read\u001b[39m=\u001b[39mtimeout)\n\u001b[1;32m    <a href='file:///home/fulp/clasificador_ofertas_empleo/clasificador-ofertas-empleo-modelo/.venv/lib64/python3.9/site-packages/requests/adapters.py?line=484'>485</a>\u001b[0m \u001b[39mtry\u001b[39;00m:\n\u001b[0;32m--> <a href='file:///home/fulp/clasificador_ofertas_empleo/clasificador-ofertas-empleo-modelo/.venv/lib64/python3.9/site-packages/requests/adapters.py?line=485'>486</a>\u001b[0m     resp \u001b[39m=\u001b[39m conn\u001b[39m.\u001b[39;49murlopen(\n\u001b[1;32m    <a href='file:///home/fulp/clasificador_ofertas_empleo/clasificador-ofertas-empleo-modelo/.venv/lib64/python3.9/site-packages/requests/adapters.py?line=486'>487</a>\u001b[0m         method\u001b[39m=\u001b[39;49mrequest\u001b[39m.\u001b[39;49mmethod,\n\u001b[1;32m    <a href='file:///home/fulp/clasificador_ofertas_empleo/clasificador-ofertas-empleo-modelo/.venv/lib64/python3.9/site-packages/requests/adapters.py?line=487'>488</a>\u001b[0m         url\u001b[39m=\u001b[39;49murl,\n\u001b[1;32m    <a href='file:///home/fulp/clasificador_ofertas_empleo/clasificador-ofertas-empleo-modelo/.venv/lib64/python3.9/site-packages/requests/adapters.py?line=488'>489</a>\u001b[0m         body\u001b[39m=\u001b[39;49mrequest\u001b[39m.\u001b[39;49mbody,\n\u001b[1;32m    <a href='file:///home/fulp/clasificador_ofertas_empleo/clasificador-ofertas-empleo-modelo/.venv/lib64/python3.9/site-packages/requests/adapters.py?line=489'>490</a>\u001b[0m         headers\u001b[39m=\u001b[39;49mrequest\u001b[39m.\u001b[39;49mheaders,\n\u001b[1;32m    <a href='file:///home/fulp/clasificador_ofertas_empleo/clasificador-ofertas-empleo-modelo/.venv/lib64/python3.9/site-packages/requests/adapters.py?line=490'>491</a>\u001b[0m         redirect\u001b[39m=\u001b[39;49m\u001b[39mFalse\u001b[39;49;00m,\n\u001b[1;32m    <a href='file:///home/fulp/clasificador_ofertas_empleo/clasificador-ofertas-empleo-modelo/.venv/lib64/python3.9/site-packages/requests/adapters.py?line=491'>492</a>\u001b[0m         assert_same_host\u001b[39m=\u001b[39;49m\u001b[39mFalse\u001b[39;49;00m,\n\u001b[1;32m    <a href='file:///home/fulp/clasificador_ofertas_empleo/clasificador-ofertas-empleo-modelo/.venv/lib64/python3.9/site-packages/requests/adapters.py?line=492'>493</a>\u001b[0m         preload_content\u001b[39m=\u001b[39;49m\u001b[39mFalse\u001b[39;49;00m,\n\u001b[1;32m    <a href='file:///home/fulp/clasificador_ofertas_empleo/clasificador-ofertas-empleo-modelo/.venv/lib64/python3.9/site-packages/requests/adapters.py?line=493'>494</a>\u001b[0m         decode_content\u001b[39m=\u001b[39;49m\u001b[39mFalse\u001b[39;49;00m,\n\u001b[1;32m    <a href='file:///home/fulp/clasificador_ofertas_empleo/clasificador-ofertas-empleo-modelo/.venv/lib64/python3.9/site-packages/requests/adapters.py?line=494'>495</a>\u001b[0m         retries\u001b[39m=\u001b[39;49m\u001b[39mself\u001b[39;49m\u001b[39m.\u001b[39;49mmax_retries,\n\u001b[1;32m    <a href='file:///home/fulp/clasificador_ofertas_empleo/clasificador-ofertas-empleo-modelo/.venv/lib64/python3.9/site-packages/requests/adapters.py?line=495'>496</a>\u001b[0m         timeout\u001b[39m=\u001b[39;49mtimeout,\n\u001b[1;32m    <a href='file:///home/fulp/clasificador_ofertas_empleo/clasificador-ofertas-empleo-modelo/.venv/lib64/python3.9/site-packages/requests/adapters.py?line=496'>497</a>\u001b[0m         chunked\u001b[39m=\u001b[39;49mchunked,\n\u001b[1;32m    <a href='file:///home/fulp/clasificador_ofertas_empleo/clasificador-ofertas-empleo-modelo/.venv/lib64/python3.9/site-packages/requests/adapters.py?line=497'>498</a>\u001b[0m     )\n\u001b[1;32m    <a href='file:///home/fulp/clasificador_ofertas_empleo/clasificador-ofertas-empleo-modelo/.venv/lib64/python3.9/site-packages/requests/adapters.py?line=499'>500</a>\u001b[0m \u001b[39mexcept\u001b[39;00m (ProtocolError, \u001b[39mOSError\u001b[39;00m) \u001b[39mas\u001b[39;00m err:\n\u001b[1;32m    <a href='file:///home/fulp/clasificador_ofertas_empleo/clasificador-ofertas-empleo-modelo/.venv/lib64/python3.9/site-packages/requests/adapters.py?line=500'>501</a>\u001b[0m     \u001b[39mraise\u001b[39;00m \u001b[39mConnectionError\u001b[39;00m(err, request\u001b[39m=\u001b[39mrequest)\n",
      "File \u001b[0;32m~/clasificador_ofertas_empleo/clasificador-ofertas-empleo-modelo/.venv/lib64/python3.9/site-packages/urllib3/connectionpool.py:790\u001b[0m, in \u001b[0;36mHTTPConnectionPool.urlopen\u001b[0;34m(self, method, url, body, headers, retries, redirect, assert_same_host, timeout, pool_timeout, release_conn, chunked, body_pos, preload_content, decode_content, **response_kw)\u001b[0m\n\u001b[1;32m    <a href='file:///home/fulp/clasificador_ofertas_empleo/clasificador-ofertas-empleo-modelo/.venv/lib64/python3.9/site-packages/urllib3/connectionpool.py?line=786'>787</a>\u001b[0m response_conn \u001b[39m=\u001b[39m conn \u001b[39mif\u001b[39;00m \u001b[39mnot\u001b[39;00m release_conn \u001b[39melse\u001b[39;00m \u001b[39mNone\u001b[39;00m\n\u001b[1;32m    <a href='file:///home/fulp/clasificador_ofertas_empleo/clasificador-ofertas-empleo-modelo/.venv/lib64/python3.9/site-packages/urllib3/connectionpool.py?line=788'>789</a>\u001b[0m \u001b[39m# Make the request on the HTTPConnection object\u001b[39;00m\n\u001b[0;32m--> <a href='file:///home/fulp/clasificador_ofertas_empleo/clasificador-ofertas-empleo-modelo/.venv/lib64/python3.9/site-packages/urllib3/connectionpool.py?line=789'>790</a>\u001b[0m response \u001b[39m=\u001b[39m \u001b[39mself\u001b[39;49m\u001b[39m.\u001b[39;49m_make_request(\n\u001b[1;32m    <a href='file:///home/fulp/clasificador_ofertas_empleo/clasificador-ofertas-empleo-modelo/.venv/lib64/python3.9/site-packages/urllib3/connectionpool.py?line=790'>791</a>\u001b[0m     conn,\n\u001b[1;32m    <a href='file:///home/fulp/clasificador_ofertas_empleo/clasificador-ofertas-empleo-modelo/.venv/lib64/python3.9/site-packages/urllib3/connectionpool.py?line=791'>792</a>\u001b[0m     method,\n\u001b[1;32m    <a href='file:///home/fulp/clasificador_ofertas_empleo/clasificador-ofertas-empleo-modelo/.venv/lib64/python3.9/site-packages/urllib3/connectionpool.py?line=792'>793</a>\u001b[0m     url,\n\u001b[1;32m    <a href='file:///home/fulp/clasificador_ofertas_empleo/clasificador-ofertas-empleo-modelo/.venv/lib64/python3.9/site-packages/urllib3/connectionpool.py?line=793'>794</a>\u001b[0m     timeout\u001b[39m=\u001b[39;49mtimeout_obj,\n\u001b[1;32m    <a href='file:///home/fulp/clasificador_ofertas_empleo/clasificador-ofertas-empleo-modelo/.venv/lib64/python3.9/site-packages/urllib3/connectionpool.py?line=794'>795</a>\u001b[0m     body\u001b[39m=\u001b[39;49mbody,\n\u001b[1;32m    <a href='file:///home/fulp/clasificador_ofertas_empleo/clasificador-ofertas-empleo-modelo/.venv/lib64/python3.9/site-packages/urllib3/connectionpool.py?line=795'>796</a>\u001b[0m     headers\u001b[39m=\u001b[39;49mheaders,\n\u001b[1;32m    <a href='file:///home/fulp/clasificador_ofertas_empleo/clasificador-ofertas-empleo-modelo/.venv/lib64/python3.9/site-packages/urllib3/connectionpool.py?line=796'>797</a>\u001b[0m     chunked\u001b[39m=\u001b[39;49mchunked,\n\u001b[1;32m    <a href='file:///home/fulp/clasificador_ofertas_empleo/clasificador-ofertas-empleo-modelo/.venv/lib64/python3.9/site-packages/urllib3/connectionpool.py?line=797'>798</a>\u001b[0m     retries\u001b[39m=\u001b[39;49mretries,\n\u001b[1;32m    <a href='file:///home/fulp/clasificador_ofertas_empleo/clasificador-ofertas-empleo-modelo/.venv/lib64/python3.9/site-packages/urllib3/connectionpool.py?line=798'>799</a>\u001b[0m     response_conn\u001b[39m=\u001b[39;49mresponse_conn,\n\u001b[1;32m    <a href='file:///home/fulp/clasificador_ofertas_empleo/clasificador-ofertas-empleo-modelo/.venv/lib64/python3.9/site-packages/urllib3/connectionpool.py?line=799'>800</a>\u001b[0m     preload_content\u001b[39m=\u001b[39;49mpreload_content,\n\u001b[1;32m    <a href='file:///home/fulp/clasificador_ofertas_empleo/clasificador-ofertas-empleo-modelo/.venv/lib64/python3.9/site-packages/urllib3/connectionpool.py?line=800'>801</a>\u001b[0m     decode_content\u001b[39m=\u001b[39;49mdecode_content,\n\u001b[1;32m    <a href='file:///home/fulp/clasificador_ofertas_empleo/clasificador-ofertas-empleo-modelo/.venv/lib64/python3.9/site-packages/urllib3/connectionpool.py?line=801'>802</a>\u001b[0m     \u001b[39m*\u001b[39;49m\u001b[39m*\u001b[39;49mresponse_kw,\n\u001b[1;32m    <a href='file:///home/fulp/clasificador_ofertas_empleo/clasificador-ofertas-empleo-modelo/.venv/lib64/python3.9/site-packages/urllib3/connectionpool.py?line=802'>803</a>\u001b[0m )\n\u001b[1;32m    <a href='file:///home/fulp/clasificador_ofertas_empleo/clasificador-ofertas-empleo-modelo/.venv/lib64/python3.9/site-packages/urllib3/connectionpool.py?line=804'>805</a>\u001b[0m \u001b[39m# Everything went great!\u001b[39;00m\n\u001b[1;32m    <a href='file:///home/fulp/clasificador_ofertas_empleo/clasificador-ofertas-empleo-modelo/.venv/lib64/python3.9/site-packages/urllib3/connectionpool.py?line=805'>806</a>\u001b[0m clean_exit \u001b[39m=\u001b[39m \u001b[39mTrue\u001b[39;00m\n",
      "File \u001b[0;32m~/clasificador_ofertas_empleo/clasificador-ofertas-empleo-modelo/.venv/lib64/python3.9/site-packages/urllib3/connectionpool.py:467\u001b[0m, in \u001b[0;36mHTTPConnectionPool._make_request\u001b[0;34m(self, conn, method, url, body, headers, retries, timeout, chunked, response_conn, preload_content, decode_content, enforce_content_length)\u001b[0m\n\u001b[1;32m    <a href='file:///home/fulp/clasificador_ofertas_empleo/clasificador-ofertas-empleo-modelo/.venv/lib64/python3.9/site-packages/urllib3/connectionpool.py?line=463'>464</a>\u001b[0m \u001b[39mtry\u001b[39;00m:\n\u001b[1;32m    <a href='file:///home/fulp/clasificador_ofertas_empleo/clasificador-ofertas-empleo-modelo/.venv/lib64/python3.9/site-packages/urllib3/connectionpool.py?line=464'>465</a>\u001b[0m     \u001b[39m# Trigger any extra validation we need to do.\u001b[39;00m\n\u001b[1;32m    <a href='file:///home/fulp/clasificador_ofertas_empleo/clasificador-ofertas-empleo-modelo/.venv/lib64/python3.9/site-packages/urllib3/connectionpool.py?line=465'>466</a>\u001b[0m     \u001b[39mtry\u001b[39;00m:\n\u001b[0;32m--> <a href='file:///home/fulp/clasificador_ofertas_empleo/clasificador-ofertas-empleo-modelo/.venv/lib64/python3.9/site-packages/urllib3/connectionpool.py?line=466'>467</a>\u001b[0m         \u001b[39mself\u001b[39;49m\u001b[39m.\u001b[39;49m_validate_conn(conn)\n\u001b[1;32m    <a href='file:///home/fulp/clasificador_ofertas_empleo/clasificador-ofertas-empleo-modelo/.venv/lib64/python3.9/site-packages/urllib3/connectionpool.py?line=467'>468</a>\u001b[0m     \u001b[39mexcept\u001b[39;00m (SocketTimeout, BaseSSLError) \u001b[39mas\u001b[39;00m e:\n\u001b[1;32m    <a href='file:///home/fulp/clasificador_ofertas_empleo/clasificador-ofertas-empleo-modelo/.venv/lib64/python3.9/site-packages/urllib3/connectionpool.py?line=468'>469</a>\u001b[0m         \u001b[39mself\u001b[39m\u001b[39m.\u001b[39m_raise_timeout(err\u001b[39m=\u001b[39me, url\u001b[39m=\u001b[39murl, timeout_value\u001b[39m=\u001b[39mconn\u001b[39m.\u001b[39mtimeout)\n",
      "File \u001b[0;32m~/clasificador_ofertas_empleo/clasificador-ofertas-empleo-modelo/.venv/lib64/python3.9/site-packages/urllib3/connectionpool.py:1092\u001b[0m, in \u001b[0;36mHTTPSConnectionPool._validate_conn\u001b[0;34m(self, conn)\u001b[0m\n\u001b[1;32m   <a href='file:///home/fulp/clasificador_ofertas_empleo/clasificador-ofertas-empleo-modelo/.venv/lib64/python3.9/site-packages/urllib3/connectionpool.py?line=1089'>1090</a>\u001b[0m \u001b[39m# Force connect early to allow us to validate the connection.\u001b[39;00m\n\u001b[1;32m   <a href='file:///home/fulp/clasificador_ofertas_empleo/clasificador-ofertas-empleo-modelo/.venv/lib64/python3.9/site-packages/urllib3/connectionpool.py?line=1090'>1091</a>\u001b[0m \u001b[39mif\u001b[39;00m conn\u001b[39m.\u001b[39mis_closed:\n\u001b[0;32m-> <a href='file:///home/fulp/clasificador_ofertas_empleo/clasificador-ofertas-empleo-modelo/.venv/lib64/python3.9/site-packages/urllib3/connectionpool.py?line=1091'>1092</a>\u001b[0m     conn\u001b[39m.\u001b[39;49mconnect()\n\u001b[1;32m   <a href='file:///home/fulp/clasificador_ofertas_empleo/clasificador-ofertas-empleo-modelo/.venv/lib64/python3.9/site-packages/urllib3/connectionpool.py?line=1093'>1094</a>\u001b[0m \u001b[39mif\u001b[39;00m \u001b[39mnot\u001b[39;00m conn\u001b[39m.\u001b[39mis_verified:\n\u001b[1;32m   <a href='file:///home/fulp/clasificador_ofertas_empleo/clasificador-ofertas-empleo-modelo/.venv/lib64/python3.9/site-packages/urllib3/connectionpool.py?line=1094'>1095</a>\u001b[0m     warnings\u001b[39m.\u001b[39mwarn(\n\u001b[1;32m   <a href='file:///home/fulp/clasificador_ofertas_empleo/clasificador-ofertas-empleo-modelo/.venv/lib64/python3.9/site-packages/urllib3/connectionpool.py?line=1095'>1096</a>\u001b[0m         (\n\u001b[1;32m   <a href='file:///home/fulp/clasificador_ofertas_empleo/clasificador-ofertas-empleo-modelo/.venv/lib64/python3.9/site-packages/urllib3/connectionpool.py?line=1096'>1097</a>\u001b[0m             \u001b[39mf\u001b[39m\u001b[39m\"\u001b[39m\u001b[39mUnverified HTTPS request is being made to host \u001b[39m\u001b[39m'\u001b[39m\u001b[39m{\u001b[39;00mconn\u001b[39m.\u001b[39mhost\u001b[39m}\u001b[39;00m\u001b[39m'\u001b[39m\u001b[39m. \u001b[39m\u001b[39m\"\u001b[39m\n\u001b[0;32m   (...)\u001b[0m\n\u001b[1;32m   <a href='file:///home/fulp/clasificador_ofertas_empleo/clasificador-ofertas-empleo-modelo/.venv/lib64/python3.9/site-packages/urllib3/connectionpool.py?line=1101'>1102</a>\u001b[0m         InsecureRequestWarning,\n\u001b[1;32m   <a href='file:///home/fulp/clasificador_ofertas_empleo/clasificador-ofertas-empleo-modelo/.venv/lib64/python3.9/site-packages/urllib3/connectionpool.py?line=1102'>1103</a>\u001b[0m     )\n",
      "File \u001b[0;32m~/clasificador_ofertas_empleo/clasificador-ofertas-empleo-modelo/.venv/lib64/python3.9/site-packages/urllib3/connection.py:642\u001b[0m, in \u001b[0;36mHTTPSConnection.connect\u001b[0;34m(self)\u001b[0m\n\u001b[1;32m    <a href='file:///home/fulp/clasificador_ofertas_empleo/clasificador-ofertas-empleo-modelo/.venv/lib64/python3.9/site-packages/urllib3/connection.py?line=632'>633</a>\u001b[0m \u001b[39mif\u001b[39;00m is_time_off:\n\u001b[1;32m    <a href='file:///home/fulp/clasificador_ofertas_empleo/clasificador-ofertas-empleo-modelo/.venv/lib64/python3.9/site-packages/urllib3/connection.py?line=633'>634</a>\u001b[0m     warnings\u001b[39m.\u001b[39mwarn(\n\u001b[1;32m    <a href='file:///home/fulp/clasificador_ofertas_empleo/clasificador-ofertas-empleo-modelo/.venv/lib64/python3.9/site-packages/urllib3/connection.py?line=634'>635</a>\u001b[0m         (\n\u001b[1;32m    <a href='file:///home/fulp/clasificador_ofertas_empleo/clasificador-ofertas-empleo-modelo/.venv/lib64/python3.9/site-packages/urllib3/connection.py?line=635'>636</a>\u001b[0m             \u001b[39mf\u001b[39m\u001b[39m\"\u001b[39m\u001b[39mSystem time is way off (before \u001b[39m\u001b[39m{\u001b[39;00mRECENT_DATE\u001b[39m}\u001b[39;00m\u001b[39m). This will probably \u001b[39m\u001b[39m\"\u001b[39m\n\u001b[0;32m   (...)\u001b[0m\n\u001b[1;32m    <a href='file:///home/fulp/clasificador_ofertas_empleo/clasificador-ofertas-empleo-modelo/.venv/lib64/python3.9/site-packages/urllib3/connection.py?line=638'>639</a>\u001b[0m         SystemTimeWarning,\n\u001b[1;32m    <a href='file:///home/fulp/clasificador_ofertas_empleo/clasificador-ofertas-empleo-modelo/.venv/lib64/python3.9/site-packages/urllib3/connection.py?line=639'>640</a>\u001b[0m     )\n\u001b[0;32m--> <a href='file:///home/fulp/clasificador_ofertas_empleo/clasificador-ofertas-empleo-modelo/.venv/lib64/python3.9/site-packages/urllib3/connection.py?line=641'>642</a>\u001b[0m sock_and_verified \u001b[39m=\u001b[39m _ssl_wrap_socket_and_match_hostname(\n\u001b[1;32m    <a href='file:///home/fulp/clasificador_ofertas_empleo/clasificador-ofertas-empleo-modelo/.venv/lib64/python3.9/site-packages/urllib3/connection.py?line=642'>643</a>\u001b[0m     sock\u001b[39m=\u001b[39;49msock,\n\u001b[1;32m    <a href='file:///home/fulp/clasificador_ofertas_empleo/clasificador-ofertas-empleo-modelo/.venv/lib64/python3.9/site-packages/urllib3/connection.py?line=643'>644</a>\u001b[0m     cert_reqs\u001b[39m=\u001b[39;49m\u001b[39mself\u001b[39;49m\u001b[39m.\u001b[39;49mcert_reqs,\n\u001b[1;32m    <a href='file:///home/fulp/clasificador_ofertas_empleo/clasificador-ofertas-empleo-modelo/.venv/lib64/python3.9/site-packages/urllib3/connection.py?line=644'>645</a>\u001b[0m     ssl_version\u001b[39m=\u001b[39;49m\u001b[39mself\u001b[39;49m\u001b[39m.\u001b[39;49mssl_version,\n\u001b[1;32m    <a href='file:///home/fulp/clasificador_ofertas_empleo/clasificador-ofertas-empleo-modelo/.venv/lib64/python3.9/site-packages/urllib3/connection.py?line=645'>646</a>\u001b[0m     ssl_minimum_version\u001b[39m=\u001b[39;49m\u001b[39mself\u001b[39;49m\u001b[39m.\u001b[39;49mssl_minimum_version,\n\u001b[1;32m    <a href='file:///home/fulp/clasificador_ofertas_empleo/clasificador-ofertas-empleo-modelo/.venv/lib64/python3.9/site-packages/urllib3/connection.py?line=646'>647</a>\u001b[0m     ssl_maximum_version\u001b[39m=\u001b[39;49m\u001b[39mself\u001b[39;49m\u001b[39m.\u001b[39;49mssl_maximum_version,\n\u001b[1;32m    <a href='file:///home/fulp/clasificador_ofertas_empleo/clasificador-ofertas-empleo-modelo/.venv/lib64/python3.9/site-packages/urllib3/connection.py?line=647'>648</a>\u001b[0m     ca_certs\u001b[39m=\u001b[39;49m\u001b[39mself\u001b[39;49m\u001b[39m.\u001b[39;49mca_certs,\n\u001b[1;32m    <a href='file:///home/fulp/clasificador_ofertas_empleo/clasificador-ofertas-empleo-modelo/.venv/lib64/python3.9/site-packages/urllib3/connection.py?line=648'>649</a>\u001b[0m     ca_cert_dir\u001b[39m=\u001b[39;49m\u001b[39mself\u001b[39;49m\u001b[39m.\u001b[39;49mca_cert_dir,\n\u001b[1;32m    <a href='file:///home/fulp/clasificador_ofertas_empleo/clasificador-ofertas-empleo-modelo/.venv/lib64/python3.9/site-packages/urllib3/connection.py?line=649'>650</a>\u001b[0m     ca_cert_data\u001b[39m=\u001b[39;49m\u001b[39mself\u001b[39;49m\u001b[39m.\u001b[39;49mca_cert_data,\n\u001b[1;32m    <a href='file:///home/fulp/clasificador_ofertas_empleo/clasificador-ofertas-empleo-modelo/.venv/lib64/python3.9/site-packages/urllib3/connection.py?line=650'>651</a>\u001b[0m     cert_file\u001b[39m=\u001b[39;49m\u001b[39mself\u001b[39;49m\u001b[39m.\u001b[39;49mcert_file,\n\u001b[1;32m    <a href='file:///home/fulp/clasificador_ofertas_empleo/clasificador-ofertas-empleo-modelo/.venv/lib64/python3.9/site-packages/urllib3/connection.py?line=651'>652</a>\u001b[0m     key_file\u001b[39m=\u001b[39;49m\u001b[39mself\u001b[39;49m\u001b[39m.\u001b[39;49mkey_file,\n\u001b[1;32m    <a href='file:///home/fulp/clasificador_ofertas_empleo/clasificador-ofertas-empleo-modelo/.venv/lib64/python3.9/site-packages/urllib3/connection.py?line=652'>653</a>\u001b[0m     key_password\u001b[39m=\u001b[39;49m\u001b[39mself\u001b[39;49m\u001b[39m.\u001b[39;49mkey_password,\n\u001b[1;32m    <a href='file:///home/fulp/clasificador_ofertas_empleo/clasificador-ofertas-empleo-modelo/.venv/lib64/python3.9/site-packages/urllib3/connection.py?line=653'>654</a>\u001b[0m     server_hostname\u001b[39m=\u001b[39;49mserver_hostname,\n\u001b[1;32m    <a href='file:///home/fulp/clasificador_ofertas_empleo/clasificador-ofertas-empleo-modelo/.venv/lib64/python3.9/site-packages/urllib3/connection.py?line=654'>655</a>\u001b[0m     ssl_context\u001b[39m=\u001b[39;49m\u001b[39mself\u001b[39;49m\u001b[39m.\u001b[39;49mssl_context,\n\u001b[1;32m    <a href='file:///home/fulp/clasificador_ofertas_empleo/clasificador-ofertas-empleo-modelo/.venv/lib64/python3.9/site-packages/urllib3/connection.py?line=655'>656</a>\u001b[0m     tls_in_tls\u001b[39m=\u001b[39;49mtls_in_tls,\n\u001b[1;32m    <a href='file:///home/fulp/clasificador_ofertas_empleo/clasificador-ofertas-empleo-modelo/.venv/lib64/python3.9/site-packages/urllib3/connection.py?line=656'>657</a>\u001b[0m     assert_hostname\u001b[39m=\u001b[39;49m\u001b[39mself\u001b[39;49m\u001b[39m.\u001b[39;49massert_hostname,\n\u001b[1;32m    <a href='file:///home/fulp/clasificador_ofertas_empleo/clasificador-ofertas-empleo-modelo/.venv/lib64/python3.9/site-packages/urllib3/connection.py?line=657'>658</a>\u001b[0m     assert_fingerprint\u001b[39m=\u001b[39;49m\u001b[39mself\u001b[39;49m\u001b[39m.\u001b[39;49massert_fingerprint,\n\u001b[1;32m    <a href='file:///home/fulp/clasificador_ofertas_empleo/clasificador-ofertas-empleo-modelo/.venv/lib64/python3.9/site-packages/urllib3/connection.py?line=658'>659</a>\u001b[0m )\n\u001b[1;32m    <a href='file:///home/fulp/clasificador_ofertas_empleo/clasificador-ofertas-empleo-modelo/.venv/lib64/python3.9/site-packages/urllib3/connection.py?line=659'>660</a>\u001b[0m \u001b[39mself\u001b[39m\u001b[39m.\u001b[39msock \u001b[39m=\u001b[39m sock_and_verified\u001b[39m.\u001b[39msocket\n\u001b[1;32m    <a href='file:///home/fulp/clasificador_ofertas_empleo/clasificador-ofertas-empleo-modelo/.venv/lib64/python3.9/site-packages/urllib3/connection.py?line=660'>661</a>\u001b[0m \u001b[39mself\u001b[39m\u001b[39m.\u001b[39mis_verified \u001b[39m=\u001b[39m sock_and_verified\u001b[39m.\u001b[39mis_verified\n",
      "File \u001b[0;32m~/clasificador_ofertas_empleo/clasificador-ofertas-empleo-modelo/.venv/lib64/python3.9/site-packages/urllib3/connection.py:783\u001b[0m, in \u001b[0;36m_ssl_wrap_socket_and_match_hostname\u001b[0;34m(sock, cert_reqs, ssl_version, ssl_minimum_version, ssl_maximum_version, cert_file, key_file, key_password, ca_certs, ca_cert_dir, ca_cert_data, assert_hostname, assert_fingerprint, server_hostname, ssl_context, tls_in_tls)\u001b[0m\n\u001b[1;32m    <a href='file:///home/fulp/clasificador_ofertas_empleo/clasificador-ofertas-empleo-modelo/.venv/lib64/python3.9/site-packages/urllib3/connection.py?line=779'>780</a>\u001b[0m     \u001b[39mif\u001b[39;00m is_ipaddress(normalized):\n\u001b[1;32m    <a href='file:///home/fulp/clasificador_ofertas_empleo/clasificador-ofertas-empleo-modelo/.venv/lib64/python3.9/site-packages/urllib3/connection.py?line=780'>781</a>\u001b[0m         server_hostname \u001b[39m=\u001b[39m normalized\n\u001b[0;32m--> <a href='file:///home/fulp/clasificador_ofertas_empleo/clasificador-ofertas-empleo-modelo/.venv/lib64/python3.9/site-packages/urllib3/connection.py?line=782'>783</a>\u001b[0m ssl_sock \u001b[39m=\u001b[39m ssl_wrap_socket(\n\u001b[1;32m    <a href='file:///home/fulp/clasificador_ofertas_empleo/clasificador-ofertas-empleo-modelo/.venv/lib64/python3.9/site-packages/urllib3/connection.py?line=783'>784</a>\u001b[0m     sock\u001b[39m=\u001b[39;49msock,\n\u001b[1;32m    <a href='file:///home/fulp/clasificador_ofertas_empleo/clasificador-ofertas-empleo-modelo/.venv/lib64/python3.9/site-packages/urllib3/connection.py?line=784'>785</a>\u001b[0m     keyfile\u001b[39m=\u001b[39;49mkey_file,\n\u001b[1;32m    <a href='file:///home/fulp/clasificador_ofertas_empleo/clasificador-ofertas-empleo-modelo/.venv/lib64/python3.9/site-packages/urllib3/connection.py?line=785'>786</a>\u001b[0m     certfile\u001b[39m=\u001b[39;49mcert_file,\n\u001b[1;32m    <a href='file:///home/fulp/clasificador_ofertas_empleo/clasificador-ofertas-empleo-modelo/.venv/lib64/python3.9/site-packages/urllib3/connection.py?line=786'>787</a>\u001b[0m     key_password\u001b[39m=\u001b[39;49mkey_password,\n\u001b[1;32m    <a href='file:///home/fulp/clasificador_ofertas_empleo/clasificador-ofertas-empleo-modelo/.venv/lib64/python3.9/site-packages/urllib3/connection.py?line=787'>788</a>\u001b[0m     ca_certs\u001b[39m=\u001b[39;49mca_certs,\n\u001b[1;32m    <a href='file:///home/fulp/clasificador_ofertas_empleo/clasificador-ofertas-empleo-modelo/.venv/lib64/python3.9/site-packages/urllib3/connection.py?line=788'>789</a>\u001b[0m     ca_cert_dir\u001b[39m=\u001b[39;49mca_cert_dir,\n\u001b[1;32m    <a href='file:///home/fulp/clasificador_ofertas_empleo/clasificador-ofertas-empleo-modelo/.venv/lib64/python3.9/site-packages/urllib3/connection.py?line=789'>790</a>\u001b[0m     ca_cert_data\u001b[39m=\u001b[39;49mca_cert_data,\n\u001b[1;32m    <a href='file:///home/fulp/clasificador_ofertas_empleo/clasificador-ofertas-empleo-modelo/.venv/lib64/python3.9/site-packages/urllib3/connection.py?line=790'>791</a>\u001b[0m     server_hostname\u001b[39m=\u001b[39;49mserver_hostname,\n\u001b[1;32m    <a href='file:///home/fulp/clasificador_ofertas_empleo/clasificador-ofertas-empleo-modelo/.venv/lib64/python3.9/site-packages/urllib3/connection.py?line=791'>792</a>\u001b[0m     ssl_context\u001b[39m=\u001b[39;49mcontext,\n\u001b[1;32m    <a href='file:///home/fulp/clasificador_ofertas_empleo/clasificador-ofertas-empleo-modelo/.venv/lib64/python3.9/site-packages/urllib3/connection.py?line=792'>793</a>\u001b[0m     tls_in_tls\u001b[39m=\u001b[39;49mtls_in_tls,\n\u001b[1;32m    <a href='file:///home/fulp/clasificador_ofertas_empleo/clasificador-ofertas-empleo-modelo/.venv/lib64/python3.9/site-packages/urllib3/connection.py?line=793'>794</a>\u001b[0m )\n\u001b[1;32m    <a href='file:///home/fulp/clasificador_ofertas_empleo/clasificador-ofertas-empleo-modelo/.venv/lib64/python3.9/site-packages/urllib3/connection.py?line=795'>796</a>\u001b[0m \u001b[39mtry\u001b[39;00m:\n\u001b[1;32m    <a href='file:///home/fulp/clasificador_ofertas_empleo/clasificador-ofertas-empleo-modelo/.venv/lib64/python3.9/site-packages/urllib3/connection.py?line=796'>797</a>\u001b[0m     \u001b[39mif\u001b[39;00m assert_fingerprint:\n",
      "File \u001b[0;32m~/clasificador_ofertas_empleo/clasificador-ofertas-empleo-modelo/.venv/lib64/python3.9/site-packages/urllib3/util/ssl_.py:469\u001b[0m, in \u001b[0;36mssl_wrap_socket\u001b[0;34m(sock, keyfile, certfile, cert_reqs, ca_certs, server_hostname, ssl_version, ciphers, ssl_context, ca_cert_dir, key_password, ca_cert_data, tls_in_tls)\u001b[0m\n\u001b[1;32m    <a href='file:///home/fulp/clasificador_ofertas_empleo/clasificador-ofertas-empleo-modelo/.venv/lib64/python3.9/site-packages/urllib3/util/ssl_.py?line=465'>466</a>\u001b[0m \u001b[39mexcept\u001b[39;00m \u001b[39mNotImplementedError\u001b[39;00m:  \u001b[39m# Defensive: in CI, we always have set_alpn_protocols\u001b[39;00m\n\u001b[1;32m    <a href='file:///home/fulp/clasificador_ofertas_empleo/clasificador-ofertas-empleo-modelo/.venv/lib64/python3.9/site-packages/urllib3/util/ssl_.py?line=466'>467</a>\u001b[0m     \u001b[39mpass\u001b[39;00m\n\u001b[0;32m--> <a href='file:///home/fulp/clasificador_ofertas_empleo/clasificador-ofertas-empleo-modelo/.venv/lib64/python3.9/site-packages/urllib3/util/ssl_.py?line=468'>469</a>\u001b[0m ssl_sock \u001b[39m=\u001b[39m _ssl_wrap_socket_impl(sock, context, tls_in_tls, server_hostname)\n\u001b[1;32m    <a href='file:///home/fulp/clasificador_ofertas_empleo/clasificador-ofertas-empleo-modelo/.venv/lib64/python3.9/site-packages/urllib3/util/ssl_.py?line=469'>470</a>\u001b[0m \u001b[39mreturn\u001b[39;00m ssl_sock\n",
      "File \u001b[0;32m~/clasificador_ofertas_empleo/clasificador-ofertas-empleo-modelo/.venv/lib64/python3.9/site-packages/urllib3/util/ssl_.py:513\u001b[0m, in \u001b[0;36m_ssl_wrap_socket_impl\u001b[0;34m(sock, ssl_context, tls_in_tls, server_hostname)\u001b[0m\n\u001b[1;32m    <a href='file:///home/fulp/clasificador_ofertas_empleo/clasificador-ofertas-empleo-modelo/.venv/lib64/python3.9/site-packages/urllib3/util/ssl_.py?line=509'>510</a>\u001b[0m     SSLTransport\u001b[39m.\u001b[39m_validate_ssl_context_for_tls_in_tls(ssl_context)\n\u001b[1;32m    <a href='file:///home/fulp/clasificador_ofertas_empleo/clasificador-ofertas-empleo-modelo/.venv/lib64/python3.9/site-packages/urllib3/util/ssl_.py?line=510'>511</a>\u001b[0m     \u001b[39mreturn\u001b[39;00m SSLTransport(sock, ssl_context, server_hostname)\n\u001b[0;32m--> <a href='file:///home/fulp/clasificador_ofertas_empleo/clasificador-ofertas-empleo-modelo/.venv/lib64/python3.9/site-packages/urllib3/util/ssl_.py?line=512'>513</a>\u001b[0m \u001b[39mreturn\u001b[39;00m ssl_context\u001b[39m.\u001b[39;49mwrap_socket(sock, server_hostname\u001b[39m=\u001b[39;49mserver_hostname)\n",
      "File \u001b[0;32m/usr/lib64/python3.9/ssl.py:501\u001b[0m, in \u001b[0;36mSSLContext.wrap_socket\u001b[0;34m(self, sock, server_side, do_handshake_on_connect, suppress_ragged_eofs, server_hostname, session)\u001b[0m\n\u001b[1;32m    <a href='file:///usr/lib64/python3.9/ssl.py?line=494'>495</a>\u001b[0m \u001b[39mdef\u001b[39;00m \u001b[39mwrap_socket\u001b[39m(\u001b[39mself\u001b[39m, sock, server_side\u001b[39m=\u001b[39m\u001b[39mFalse\u001b[39;00m,\n\u001b[1;32m    <a href='file:///usr/lib64/python3.9/ssl.py?line=495'>496</a>\u001b[0m                 do_handshake_on_connect\u001b[39m=\u001b[39m\u001b[39mTrue\u001b[39;00m,\n\u001b[1;32m    <a href='file:///usr/lib64/python3.9/ssl.py?line=496'>497</a>\u001b[0m                 suppress_ragged_eofs\u001b[39m=\u001b[39m\u001b[39mTrue\u001b[39;00m,\n\u001b[1;32m    <a href='file:///usr/lib64/python3.9/ssl.py?line=497'>498</a>\u001b[0m                 server_hostname\u001b[39m=\u001b[39m\u001b[39mNone\u001b[39;00m, session\u001b[39m=\u001b[39m\u001b[39mNone\u001b[39;00m):\n\u001b[1;32m    <a href='file:///usr/lib64/python3.9/ssl.py?line=498'>499</a>\u001b[0m     \u001b[39m# SSLSocket class handles server_hostname encoding before it calls\u001b[39;00m\n\u001b[1;32m    <a href='file:///usr/lib64/python3.9/ssl.py?line=499'>500</a>\u001b[0m     \u001b[39m# ctx._wrap_socket()\u001b[39;00m\n\u001b[0;32m--> <a href='file:///usr/lib64/python3.9/ssl.py?line=500'>501</a>\u001b[0m     \u001b[39mreturn\u001b[39;00m \u001b[39mself\u001b[39;49m\u001b[39m.\u001b[39;49msslsocket_class\u001b[39m.\u001b[39;49m_create(\n\u001b[1;32m    <a href='file:///usr/lib64/python3.9/ssl.py?line=501'>502</a>\u001b[0m         sock\u001b[39m=\u001b[39;49msock,\n\u001b[1;32m    <a href='file:///usr/lib64/python3.9/ssl.py?line=502'>503</a>\u001b[0m         server_side\u001b[39m=\u001b[39;49mserver_side,\n\u001b[1;32m    <a href='file:///usr/lib64/python3.9/ssl.py?line=503'>504</a>\u001b[0m         do_handshake_on_connect\u001b[39m=\u001b[39;49mdo_handshake_on_connect,\n\u001b[1;32m    <a href='file:///usr/lib64/python3.9/ssl.py?line=504'>505</a>\u001b[0m         suppress_ragged_eofs\u001b[39m=\u001b[39;49msuppress_ragged_eofs,\n\u001b[1;32m    <a href='file:///usr/lib64/python3.9/ssl.py?line=505'>506</a>\u001b[0m         server_hostname\u001b[39m=\u001b[39;49mserver_hostname,\n\u001b[1;32m    <a href='file:///usr/lib64/python3.9/ssl.py?line=506'>507</a>\u001b[0m         context\u001b[39m=\u001b[39;49m\u001b[39mself\u001b[39;49m,\n\u001b[1;32m    <a href='file:///usr/lib64/python3.9/ssl.py?line=507'>508</a>\u001b[0m         session\u001b[39m=\u001b[39;49msession\n\u001b[1;32m    <a href='file:///usr/lib64/python3.9/ssl.py?line=508'>509</a>\u001b[0m     )\n",
      "File \u001b[0;32m/usr/lib64/python3.9/ssl.py:1041\u001b[0m, in \u001b[0;36mSSLSocket._create\u001b[0;34m(cls, sock, server_side, do_handshake_on_connect, suppress_ragged_eofs, server_hostname, context, session)\u001b[0m\n\u001b[1;32m   <a href='file:///usr/lib64/python3.9/ssl.py?line=1037'>1038</a>\u001b[0m         \u001b[39mif\u001b[39;00m timeout \u001b[39m==\u001b[39m \u001b[39m0.0\u001b[39m:\n\u001b[1;32m   <a href='file:///usr/lib64/python3.9/ssl.py?line=1038'>1039</a>\u001b[0m             \u001b[39m# non-blocking\u001b[39;00m\n\u001b[1;32m   <a href='file:///usr/lib64/python3.9/ssl.py?line=1039'>1040</a>\u001b[0m             \u001b[39mraise\u001b[39;00m \u001b[39mValueError\u001b[39;00m(\u001b[39m\"\u001b[39m\u001b[39mdo_handshake_on_connect should not be specified for non-blocking sockets\u001b[39m\u001b[39m\"\u001b[39m)\n\u001b[0;32m-> <a href='file:///usr/lib64/python3.9/ssl.py?line=1040'>1041</a>\u001b[0m         \u001b[39mself\u001b[39;49m\u001b[39m.\u001b[39;49mdo_handshake()\n\u001b[1;32m   <a href='file:///usr/lib64/python3.9/ssl.py?line=1041'>1042</a>\u001b[0m \u001b[39mexcept\u001b[39;00m (\u001b[39mOSError\u001b[39;00m, \u001b[39mValueError\u001b[39;00m):\n\u001b[1;32m   <a href='file:///usr/lib64/python3.9/ssl.py?line=1042'>1043</a>\u001b[0m     \u001b[39mself\u001b[39m\u001b[39m.\u001b[39mclose()\n",
      "File \u001b[0;32m/usr/lib64/python3.9/ssl.py:1310\u001b[0m, in \u001b[0;36mSSLSocket.do_handshake\u001b[0;34m(self, block)\u001b[0m\n\u001b[1;32m   <a href='file:///usr/lib64/python3.9/ssl.py?line=1307'>1308</a>\u001b[0m     \u001b[39mif\u001b[39;00m timeout \u001b[39m==\u001b[39m \u001b[39m0.0\u001b[39m \u001b[39mand\u001b[39;00m block:\n\u001b[1;32m   <a href='file:///usr/lib64/python3.9/ssl.py?line=1308'>1309</a>\u001b[0m         \u001b[39mself\u001b[39m\u001b[39m.\u001b[39msettimeout(\u001b[39mNone\u001b[39;00m)\n\u001b[0;32m-> <a href='file:///usr/lib64/python3.9/ssl.py?line=1309'>1310</a>\u001b[0m     \u001b[39mself\u001b[39;49m\u001b[39m.\u001b[39;49m_sslobj\u001b[39m.\u001b[39;49mdo_handshake()\n\u001b[1;32m   <a href='file:///usr/lib64/python3.9/ssl.py?line=1310'>1311</a>\u001b[0m \u001b[39mfinally\u001b[39;00m:\n\u001b[1;32m   <a href='file:///usr/lib64/python3.9/ssl.py?line=1311'>1312</a>\u001b[0m     \u001b[39mself\u001b[39m\u001b[39m.\u001b[39msettimeout(timeout)\n",
      "\u001b[0;31mKeyboardInterrupt\u001b[0m: "
     ]
    }
   ],
   "source": [
    "import random\n",
    "verbs = read_verbs(\"./data/diccionario/verbos-espanol.txt\")\n",
    "# Take 20 random verbs not in order using random.sample\n",
    "# verbs = random.sample(verbs, 20)\n",
    "# Read the dictionary\n",
    "verbs_df = read_dictionary(\"./data/diccionario/verbos-espanol.json\")\n",
    "# Create the dictionary\n",
    "verbs_df, errores = create_dictionary(verbs)\n",
    "# Create all conjugations list\n",
    "all_conjugations = create_all_conjugations_list(verbs_df)\n",
    "# Write the dictionary\n",
    "write_dictionary(verbs_df, \"./data/diccionario/verbos-espanol.csv\")\n",
    "# Save all conjugations list\n",
    "with open(\"./data/diccionario/all_conjugations.txt\", \"w\", encoding=\"utf-8\") as f:\n",
    "    f.write(\"\\n\".join(all_conjugations))\n",
    "# Save errors\n",
    "with open(\"./data/diccionario/errores.txt\", \"w\", encoding=\"utf-8\") as f:\n",
    "    f.write(\"\\n\".join(errores))"
   ]
  },
  {
   "cell_type": "code",
   "execution_count": 7,
   "metadata": {},
   "outputs": [],
   "source": [
    "#!/usr/bin/env python\n",
    "# coding: utf-8\n",
    "\n",
    "# # Import libraries and models\n",
    "\n",
    "# In[74]:\n",
    "\n",
    "\n",
    "import spacy\n",
    "from tqdm import tqdm\n",
    "import requests\n",
    "from bs4 import BeautifulSoup\n",
    "import pandas as pd\n",
    "# Load the Spanish language model\n",
    "nlp = spacy.load(\"es_core_news_sm\")\n",
    "\n",
    "\n",
    "# # Declare function"
   ]
  },
  {
   "cell_type": "code",
   "execution_count": 8,
   "metadata": {},
   "outputs": [
    {
     "name": "stdout",
     "output_type": "stream",
     "text": [
      "fliparás ADJ fliparás\n",
      "\n"
     ]
    }
   ],
   "source": [
    "# Function to lemmatize a verb in Spanish\n",
    "def lemmatize_spanish_verb(text):\n",
    "    doc = nlp(text)\n",
    "    lemmatized_verb = \"\"\n",
    "    \n",
    "    for token in doc:\n",
    "        print(token.text, token.pos_, token.lemma_)\n",
    "        if token.pos_ == \"VERB\":\n",
    "            lemmatized_verb = token.lemma_\n",
    "            break  # Stop after finding the first verb\n",
    "    \n",
    "    return lemmatized_verb\n",
    "verbo = \"fliparás\"\n",
    "print(lemmatize_spanish_verb(verbo))"
   ]
  },
  {
   "cell_type": "code",
   "execution_count": 9,
   "metadata": {},
   "outputs": [],
   "source": [
    "import json\n",
    "import time\n",
    "import requests\n",
    "from bs4 import BeautifulSoup\n",
    "from tqdm import tqdm\n",
    "import re\n",
    "from unidecode import unidecode\n",
    "\n",
    "modes_index = {\n",
    "    10: \"Indicativo\",\n",
    "    18: \"Subjuntivo\",\n",
    "    20: \"Imperativo\",\n",
    "    22: \"Infinitivo\",\n",
    "    24: \"Gerundio\",\n",
    "    25: \"Participio\"\n",
    "}\n",
    "\n",
    "def get_mode_by_index(index):\n",
    "    for mode_index in modes_index.keys():\n",
    "        if index < mode_index:\n",
    "            return modes_index[mode_index]\n",
    "\n",
    "def initialize_dict_mode_time(gauche_div):\n",
    "    index = 0\n",
    "    conjugations = {}  # verbs_df to store conjugations\n",
    "    for mode in modes_index.values():\n",
    "        conjugations[mode] = {}\n",
    "    all_times_modes = gauche_div.find_all(\"div\", class_=\"tempstab\")\n",
    "    for all_times in all_times_modes:\n",
    "        all_times = all_times.find_all(\"h3\", class_=\"tempsheader\")\n",
    "        for time in all_times:\n",
    "            time = time.text.strip()\n",
    "            # Get the mode by index\n",
    "            mode = get_mode_by_index(index)\n",
    "            conjugations[mode][time] = [] \n",
    "        index += 1\n",
    "    return conjugations\n",
    "\n",
    "def get_time(tense_div):\n",
    "    return tense_div.find(\"h3\", class_=\"tempsheader\").text.strip()\n",
    "\n",
    "def get_conjugations(tense_div, mode):\n",
    "    # Extract conjugation time for the tense\n",
    "    html_elements = tense_div.find_all(\"div\", class_=\"tempscorps\")[0]\n",
    "    # Get all the html elements inside the div and print them\n",
    "    conjugations = \"\"\n",
    "    # Loop over all the elements of the div with class \"_tempscorps\"\n",
    "    for element in html_elements:\n",
    "        # Omit the <br> elements\n",
    "        if element.name != \"br\":\n",
    "            conjugations += element.text\n",
    "        # Add a new line when the element is <br>\n",
    "        else:\n",
    "            conjugations += \"\\n\"\n",
    "    pronuons = [\"yo\", \"tú\", \"él\", \"nosotros\", \"vosotros\", \"ellos\"]\n",
    "    # Remove the pronouns from the conjugations\n",
    "    for pronuon in pronuons:\n",
    "        conjugations = conjugations.replace(pronuon, \"\")\n",
    "    # Remove unnecessary spaces regex\n",
    "    conjugations = unidecode(re.sub(' +', ' ', conjugations))\n",
    "    if \"Imperativo\" in mode:\n",
    "        # Remove \"no\", \"-\" and \" \" from the conjugations\n",
    "        conjugations = conjugations.replace(\"no\", \"\").replace(\"-\", \"\").replace(\" \", \"\")\n",
    "        result = conjugations.strip().split(\"\\n\")\n",
    "    else:\n",
    "        result = conjugations.strip().split(\"\\n \")\n",
    "    return result\n",
    "        \n",
    "def cast_dict_to_df(conjugations_verb):\n",
    "    # Define the mode prefixes\n",
    "    mode_prefixes = {\n",
    "        'Indicativo': 'Indicativo_',\n",
    "        'Subjuntivo': 'Subjuntivo_',\n",
    "        'Imperativo': 'Imperativo_',\n",
    "        'Infinitivo': 'Infinitivo_',\n",
    "        'Gerundio': 'Gerundio_',\n",
    "        'Participio': 'Participio_'\n",
    "    }\n",
    "\n",
    "    # Initialize an empty dictionary to store the modified conjugations\n",
    "    modified_conjugations = {}\n",
    "\n",
    "    # Loop through the original conjugations\n",
    "    for mode, mode_conjugations in conjugations_verb.items():\n",
    "        # Get the appropriate prefix for the mode\n",
    "        mode_prefix = mode_prefixes.get(mode, '')\n",
    "\n",
    "        # Initialize an empty dictionary for the mode's conjugations\n",
    "        modified_mode_conjugations = {}\n",
    "\n",
    "        # Loop through the tense and conjugation data for the mode\n",
    "        for tense, tense_conjugations in mode_conjugations.items():\n",
    "            # Add the tense with the prefix to the modified conjugations\n",
    "            modified_tense = mode_prefix + tense\n",
    "            modified_mode_conjugations[modified_tense] = tense_conjugations\n",
    "\n",
    "        # Add the modified mode and its conjugations to the result\n",
    "        modified_conjugations.update(modified_mode_conjugations)\n",
    "\n",
    "    # Create a DataFrame from the modified conjugations\n",
    "    df = pd.DataFrame([modified_conjugations])\n",
    "\n",
    "    # Return the DataFrame\n",
    "    return df\n",
    "\n",
    "def scrape_verb_conjugations(verb):\n",
    "    # URL of the website to scrape\n",
    "    url = f\"https://www.conjugacion.es/del/verbo/{verb}.php\"\n",
    "    # Send an HTTP GET request to the URL\n",
    "    response = requests.get(url)\n",
    "    # Check if the request was successful (status code 200)\n",
    "    if response.status_code == 200:\n",
    "        # Parse the HTML content of the page using BeautifulSoup\n",
    "        soup = BeautifulSoup(response.text, \"html.parser\")\n",
    "        # Find the element with id \"gauche\" that contains verb conjugation data\n",
    "        gauche_div = soup.find(\"div\", id=\"gauche\")\n",
    "        if gauche_div is not None:\n",
    "            # Loop through all conjugation tenses\n",
    "            conjugations_verb = initialize_dict_mode_time(gauche_div)\n",
    "            index = 0\n",
    "            for tense_div in gauche_div.find_all(\"div\", class_=\"tempstab\"):\n",
    "                # Inference the mode with the current index of the loop\n",
    "                mode = get_mode_by_index(index)\n",
    "                # Get time\n",
    "                time = get_time(tense_div)\n",
    "                # Add the verb time and its conjugations to the verbs_df\n",
    "                conjugations_verb[mode][time] = get_conjugations(tense_div, mode)\n",
    "                # Add the number of conjugations\n",
    "                # Add 1 to the index\n",
    "                index += 1\n",
    "            # Stablish infinitive\n",
    "            \n",
    "            return cast_dict_to_df(conjugations_verb)\n",
    "        else:\n",
    "            return {}\n",
    "    else:\n",
    "        return {}\n",
    "    \n",
    "def read_verbs(verbs_path):\n",
    "    # Read txt file with verbs\n",
    "    with open(verbs_path, \"r\", encoding=\"utf-8\") as f:\n",
    "        verbs = f.readlines()\n",
    "        # Remove \"\\n\" from the end of each verb\n",
    "        verbs = [verb.strip() for verb in verbs]\n",
    "    return verbs\n",
    "\n",
    "def read_dictionary(dictionary_path):\n",
    "    # This functions allows to read the verbs_df\n",
    "    try:\n",
    "        with open(dictionary_path, \"r\", encoding=\"utf-8\") as f:\n",
    "            verbs_df = json.load(f, ensure_ascii=False, indent=4)\n",
    "        return verbs_df\n",
    "    except:\n",
    "        return {}\n",
    "\n",
    "def create_dictionary(verbs):\n",
    "    verbs_df_conjugated = pd.DataFrame()\n",
    "    errors = []\n",
    "    pbar = tqdm(verbs, total=len(verbs))\n",
    "    # Loop through the verbs you want to scrape\n",
    "    for verb in pbar:\n",
    "        last_chars = verb[-2:]\n",
    "        if last_chars in [\"ar\", \"er\", \"ir\"]:\n",
    "            pbar.set_description(f\"Processing {verb}\")\n",
    "            time.sleep(0.3)\n",
    "            try:\n",
    "                conjugation_data = scrape_verb_conjugations(verb)\n",
    "                if conjugation_data is not None:  # Ensure data is not empty\n",
    "                    # Convert conjugation_data (a dictionary) to a DataFrame\n",
    "                    conjugation_df = pd.DataFrame.from_dict(conjugation_data)\n",
    "                    # Add the new conjugation DataFrame to verbs_df_conjugated\n",
    "                    verbs_df_conjugated = pd.concat([verbs_df_conjugated, conjugation_df], ignore_index=True)\n",
    "            except Exception as e:\n",
    "                errors.append(verb)\n",
    "                # Handle errors during scraping (e.g., connection issues)\n",
    "                print(f\"Error scraping {verb}: {str(e)}\")\n",
    "                continue\n",
    "        errors.append(verb)\n",
    "    # Move the column \"Infinitivo_Simple\" to the first position\n",
    "    if 'Infinitivo_Simple' in verbs_df_conjugated.columns:\n",
    "        infinitivo_simple = verbs_df_conjugated['Infinitivo_Simple']\n",
    "        verbs_df_conjugated.drop(labels=['Infinitivo_Simple'], axis=1, inplace=True)\n",
    "        verbs_df_conjugated.insert(0, 'Infinitivo_Simple', infinitivo_simple)\n",
    "    return verbs_df_conjugated, errors\n",
    "\n",
    "def write_dictionary(verbs_df, dictionary_path):\n",
    "    # Save .csv of the verbs_df\n",
    "    verbs_df.to_csv(dictionary_path, index=False)\n",
    "        \n",
    "def create_all_conjugations_list(verbs_df):\n",
    "    all_conjugations = []\n",
    "    # Now loop over rows\n",
    "    for index, row in verbs_df.iterrows():\n",
    "        for column in verbs_df.columns:\n",
    "            all_conjugations.extend(row[column])\n",
    "    return all_conjugations\n",
    "\n",
    "\n",
    "def get_infinitive(verbs_df, range_index):\n",
    "    return verbs_df[range_index]['Infinitivo_Simple'][0]\n",
    "\n",
    "def verify_is_verb(word, all_conjugations, verbs_df):\n",
    "    # Find word in all_conjugations and get the infinitive\n",
    "    try:\n",
    "        index = all_conjugations.index(unidecode(word.lower()))\n",
    "        if index != -1:\n",
    "            infinitive = get_infinitive(verbs_df, index)\n",
    "            return infinitive\n",
    "        else:\n",
    "            return \"\"\n",
    "    except:\n",
    "        return \"\""
   ]
  },
  {
   "cell_type": "code",
   "execution_count": 10,
   "metadata": {},
   "outputs": [
    {
     "name": "stderr",
     "output_type": "stream",
     "text": [
      "Processing adormir:   4%|▍         | 455/10783 [04:05<1:27:43,  1.96it/s]      "
     ]
    },
    {
     "name": "stdout",
     "output_type": "stream",
     "text": [
      "Error scraping adormentar: ('Connection aborted.', ConnectionResetError(104, 'Connection reset by peer'))\n"
     ]
    },
    {
     "name": "stderr",
     "output_type": "stream",
     "text": [
      "Processing adscribir:   4%|▍         | 464/10783 [04:09<1:03:51,  2.69it/s]"
     ]
    },
    {
     "name": "stdout",
     "output_type": "stream",
     "text": [
      "Error scraping adrizar: ('Connection aborted.', ConnectionResetError(104, 'Connection reset by peer'))\n"
     ]
    },
    {
     "name": "stderr",
     "output_type": "stream",
     "text": [
      "Processing azafranar:  16%|█▌        | 1728/10783 [15:39<1:02:19,  2.42it/s]      "
     ]
    },
    {
     "name": "stdout",
     "output_type": "stream",
     "text": [
      "Error scraping azacanear: ('Connection aborted.', ConnectionResetError(104, 'Connection reset by peer'))\n"
     ]
    },
    {
     "name": "stderr",
     "output_type": "stream",
     "text": [
      "Processing bonificar:  18%|█▊        | 1941/10783 [17:45<1:19:41,  1.85it/s]   "
     ]
    },
    {
     "name": "stdout",
     "output_type": "stream",
     "text": [
      "Error scraping bombear: ('Connection aborted.', ConnectionResetError(104, 'Connection reset by peer'))\n"
     ]
    },
    {
     "name": "stderr",
     "output_type": "stream",
     "text": [
      "Processing borbollar:  18%|█▊        | 1943/10783 [17:46<1:18:08,  1.89it/s]"
     ]
    },
    {
     "name": "stdout",
     "output_type": "stream",
     "text": [
      "Error scraping boquear: ('Connection aborted.', ConnectionResetError(104, 'Connection reset by peer'))\n"
     ]
    },
    {
     "name": "stderr",
     "output_type": "stream",
     "text": [
      "Processing cacear:  19%|█▉        | 2036/10783 [18:44<2:05:48,  1.16it/s]      "
     ]
    },
    {
     "name": "stdout",
     "output_type": "stream",
     "text": [
      "Error scraping cacarear: ('Connection aborted.', ConnectionResetError(104, 'Connection reset by peer'))\n"
     ]
    },
    {
     "name": "stderr",
     "output_type": "stream",
     "text": [
      "Processing cachañear:  19%|█▉        | 2037/10783 [18:44<1:44:08,  1.40it/s]"
     ]
    },
    {
     "name": "stdout",
     "output_type": "stream",
     "text": [
      "Error scraping cacear: ('Connection aborted.', ConnectionResetError(104, 'Connection reset by peer'))\n"
     ]
    },
    {
     "name": "stderr",
     "output_type": "stream",
     "text": [
      "Processing caligrafiar:  19%|█▉        | 2087/10783 [19:13<1:18:25,  1.85it/s]  "
     ]
    },
    {
     "name": "stdout",
     "output_type": "stream",
     "text": [
      "Error scraping calificar: ('Connection aborted.', ConnectionResetError(104, 'Connection reset by peer'))\n"
     ]
    },
    {
     "name": "stderr",
     "output_type": "stream",
     "text": [
      "Processing coyotear:  27%|██▋       | 2957/10783 [27:54<1:10:48,  1.84it/s]          "
     ]
    },
    {
     "name": "stdout",
     "output_type": "stream",
     "text": [
      "Error scraping covar: ('Connection aborted.', ConnectionResetError(104, 'Connection reset by peer'))\n"
     ]
    },
    {
     "name": "stderr",
     "output_type": "stream",
     "text": [
      "Processing desimanar:  37%|███▋      | 3986/10783 [38:04<1:01:43,  1.84it/s]        "
     ]
    },
    {
     "name": "stdout",
     "output_type": "stream",
     "text": [
      "Error scraping desimaginar: ('Connection aborted.', ConnectionResetError(104, 'Connection reset by peer'))\n"
     ]
    },
    {
     "name": "stderr",
     "output_type": "stream",
     "text": [
      "Processing desimponer:  37%|███▋      | 3988/10783 [38:05<58:16,  1.94it/s]  "
     ]
    },
    {
     "name": "stdout",
     "output_type": "stream",
     "text": [
      "Error scraping desimantar: ('Connection aborted.', ConnectionResetError(104, 'Connection reset by peer'))\n"
     ]
    },
    {
     "name": "stderr",
     "output_type": "stream",
     "text": [
      "Processing desinfartar:  37%|███▋      | 3995/10783 [38:09<1:00:59,  1.85it/s]      "
     ]
    },
    {
     "name": "stdout",
     "output_type": "stream",
     "text": [
      "Error scraping desindustrializar: ('Connection aborted.', ConnectionResetError(104, 'Connection reset by peer'))\n"
     ]
    },
    {
     "name": "stderr",
     "output_type": "stream",
     "text": [
      "Processing ensoberbecer:  52%|█████▏    | 5648/10783 [53:30<30:36,  2.80it/s]     "
     ]
    },
    {
     "name": "stdout",
     "output_type": "stream",
     "text": [
      "Error scraping ensobear: ('Connection aborted.', ConnectionResetError(104, 'Connection reset by peer'))\n"
     ]
    },
    {
     "name": "stderr",
     "output_type": "stream",
     "text": [
      "Processing escoscar:  56%|█████▌    | 5996/10783 [56:50<43:59,  1.81it/s]       "
     ]
    },
    {
     "name": "stdout",
     "output_type": "stream",
     "text": [
      "Error scraping escosar: ('Connection aborted.', ConnectionResetError(104, 'Connection reset by peer'))\n"
     ]
    },
    {
     "name": "stderr",
     "output_type": "stream",
     "text": [
      "Processing escrachar:  56%|█████▌    | 5999/10783 [56:52<41:24,  1.93it/s] "
     ]
    },
    {
     "name": "stdout",
     "output_type": "stream",
     "text": [
      "Error scraping escotorrar: ('Connection aborted.', ConnectionResetError(104, 'Connection reset by peer'))\n"
     ]
    },
    {
     "name": "stderr",
     "output_type": "stream",
     "text": [
      "Processing escribir:  56%|█████▌    | 6001/10783 [56:52<29:04,  2.74it/s] "
     ]
    },
    {
     "name": "stdout",
     "output_type": "stream",
     "text": [
      "Error scraping escrachar: ('Connection aborted.', ConnectionResetError(104, 'Connection reset by peer'))\n"
     ]
    },
    {
     "name": "stderr",
     "output_type": "stream",
     "text": [
      "Processing garrafiñar:  61%|██████▏   | 6612/10783 [1:03:04<38:24,  1.81it/s]     "
     ]
    },
    {
     "name": "stdout",
     "output_type": "stream",
     "text": [
      "Error scraping garpar: ('Connection aborted.', ConnectionResetError(104, 'Connection reset by peer'))\n"
     ]
    },
    {
     "name": "stderr",
     "output_type": "stream",
     "text": [
      "Processing garrar:  61%|██████▏   | 6616/10783 [1:03:06<37:44,  1.84it/s]     "
     ]
    },
    {
     "name": "stdout",
     "output_type": "stream",
     "text": [
      "Error scraping garrapiñar: ('Connection aborted.', ConnectionResetError(104, 'Connection reset by peer'))\n"
     ]
    },
    {
     "name": "stderr",
     "output_type": "stream",
     "text": [
      "Processing hambrear:  63%|██████▎   | 6781/10783 [1:04:53<38:50,  1.72it/s]    "
     ]
    },
    {
     "name": "stdout",
     "output_type": "stream",
     "text": [
      "Error scraping hamaquear: ('Connection aborted.', ConnectionResetError(104, 'Connection reset by peer'))\n"
     ]
    },
    {
     "name": "stderr",
     "output_type": "stream",
     "text": [
      "Processing individualizar:  65%|██████▌   | 7033/10783 [1:07:33<25:48,  2.42it/s] "
     ]
    },
    {
     "name": "stdout",
     "output_type": "stream",
     "text": [
      "Error scraping indisponer: ('Connection aborted.', ConnectionResetError(104, 'Connection reset by peer'))\n"
     ]
    },
    {
     "name": "stderr",
     "output_type": "stream",
     "text": [
      "Processing parcializar:  76%|███████▌  | 8207/10783 [1:20:03<24:30,  1.75it/s]      "
     ]
    },
    {
     "name": "stdout",
     "output_type": "stream",
     "text": [
      "Error scraping parchear: ('Connection aborted.', ConnectionResetError(104, 'Connection reset by peer'))\n"
     ]
    },
    {
     "name": "stderr",
     "output_type": "stream",
     "text": [
      "Processing proclamar:  80%|████████  | 8643/10783 [1:24:42<20:23,  1.75it/s]        "
     ]
    },
    {
     "name": "stdout",
     "output_type": "stream",
     "text": [
      "Error scraping procesar: ('Connection aborted.', ConnectionResetError(104, 'Connection reset by peer'))\n"
     ]
    },
    {
     "name": "stderr",
     "output_type": "stream",
     "text": [
      "Processing procrastinar:  80%|████████  | 8644/10783 [1:24:43<18:32,  1.92it/s]"
     ]
    },
    {
     "name": "stdout",
     "output_type": "stream",
     "text": [
      "Error scraping proclamar: ('Connection aborted.', ConnectionResetError(104, 'Connection reset by peer'))\n"
     ]
    },
    {
     "name": "stderr",
     "output_type": "stream",
     "text": [
      "Processing prodigar:  80%|████████  | 8647/10783 [1:24:44<18:59,  1.87it/s]    "
     ]
    },
    {
     "name": "stdout",
     "output_type": "stream",
     "text": [
      "Error scraping procurar: ('Connection aborted.', ConnectionResetError(104, 'Connection reset by peer'))\n"
     ]
    },
    {
     "name": "stderr",
     "output_type": "stream",
     "text": [
      "Processing proferir:  80%|████████  | 8652/10783 [1:24:47<20:00,  1.77it/s]"
     ]
    },
    {
     "name": "stdout",
     "output_type": "stream",
     "text": [
      "Error scraping profazar: ('Connection aborted.', ConnectionResetError(104, 'Connection reset by peer'))\n"
     ]
    },
    {
     "name": "stderr",
     "output_type": "stream",
     "text": [
      "Processing profesar:  80%|████████  | 8653/10783 [1:24:48<18:13,  1.95it/s]"
     ]
    },
    {
     "name": "stdout",
     "output_type": "stream",
     "text": [
      "Error scraping proferir: ('Connection aborted.', ConnectionResetError(104, 'Connection reset by peer'))\n"
     ]
    },
    {
     "name": "stderr",
     "output_type": "stream",
     "text": [
      "Processing profesionalizar:  80%|████████  | 8654/10783 [1:24:48<17:11,  2.06it/s]"
     ]
    },
    {
     "name": "stdout",
     "output_type": "stream",
     "text": [
      "Error scraping profesar: ('Connection aborted.', ConnectionResetError(104, 'Connection reset by peer'))\n"
     ]
    },
    {
     "name": "stderr",
     "output_type": "stream",
     "text": [
      "Processing ranchar:  82%|████████▏ | 8816/10783 [1:26:32<18:38,  1.76it/s]         "
     ]
    },
    {
     "name": "stdout",
     "output_type": "stream",
     "text": [
      "Error scraping rampar: ('Connection aborted.', ConnectionResetError(104, 'Connection reset by peer'))\n"
     ]
    },
    {
     "name": "stderr",
     "output_type": "stream",
     "text": [
      "Processing ranciar:  82%|████████▏ | 8819/10783 [1:26:33<13:21,  2.45it/s] "
     ]
    },
    {
     "name": "stdout",
     "output_type": "stream",
     "text": [
      "Error scraping ranchear: ('Connection aborted.', ConnectionResetError(104, 'Connection reset by peer'))\n"
     ]
    },
    {
     "name": "stderr",
     "output_type": "stream",
     "text": [
      "Processing roncear:  89%|████████▊ | 9565/10783 [1:34:30<11:19,  1.79it/s]        "
     ]
    },
    {
     "name": "stdout",
     "output_type": "stream",
     "text": [
      "Error scraping roncar: ('Connection aborted.', ConnectionResetError(104, 'Connection reset by peer'))\n"
     ]
    },
    {
     "name": "stderr",
     "output_type": "stream",
     "text": [
      "Processing ronquear:  89%|████████▊ | 9569/10783 [1:34:32<11:13,  1.80it/s] "
     ]
    },
    {
     "name": "stdout",
     "output_type": "stream",
     "text": [
      "Error scraping rondinear: ('Connection aborted.', ConnectionResetError(104, 'Connection reset by peer'))\n"
     ]
    },
    {
     "name": "stderr",
     "output_type": "stream",
     "text": [
      "Processing tatarear:  94%|█████████▍| 10131/10783 [1:40:30<06:41,  1.62it/s]       "
     ]
    },
    {
     "name": "stdout",
     "output_type": "stream",
     "text": [
      "Error scraping tataratear: ('Connection aborted.', ConnectionResetError(104, 'Connection reset by peer'))\n"
     ]
    },
    {
     "name": "stderr",
     "output_type": "stream",
     "text": [
      "Processing tatemar:  94%|█████████▍| 10132/10783 [1:40:30<05:57,  1.82it/s] "
     ]
    },
    {
     "name": "stdout",
     "output_type": "stream",
     "text": [
      "Error scraping tatarear: ('Connection aborted.', ConnectionResetError(104, 'Connection reset by peer'))\n"
     ]
    },
    {
     "name": "stderr",
     "output_type": "stream",
     "text": [
      "Processing tatuar:  94%|█████████▍| 10133/10783 [1:40:31<05:26,  1.99it/s] "
     ]
    },
    {
     "name": "stdout",
     "output_type": "stream",
     "text": [
      "Error scraping tatemar: ('Connection aborted.', ConnectionResetError(104, 'Connection reset by peer'))\n"
     ]
    },
    {
     "name": "stderr",
     "output_type": "stream",
     "text": [
      "Processing taucar:  94%|█████████▍| 10134/10783 [1:40:31<05:05,  2.12it/s]"
     ]
    },
    {
     "name": "stdout",
     "output_type": "stream",
     "text": [
      "Error scraping tatuar: ('Connection aborted.', ConnectionResetError(104, 'Connection reset by peer'))\n"
     ]
    },
    {
     "name": "stderr",
     "output_type": "stream",
     "text": [
      "Processing techar:  94%|█████████▍| 10138/10783 [1:40:33<05:36,  1.92it/s]     "
     ]
    },
    {
     "name": "stdout",
     "output_type": "stream",
     "text": [
      "Error scraping teatralizar: ('Connection aborted.', ConnectionResetError(104, 'Connection reset by peer'))\n"
     ]
    },
    {
     "name": "stderr",
     "output_type": "stream",
     "text": [
      "Processing traspalar:  96%|█████████▋| 10385/10783 [1:43:10<02:56,  2.26it/s]      "
     ]
    },
    {
     "name": "stdout",
     "output_type": "stream",
     "text": [
      "Error scraping trasoñar: ('Connection aborted.', ConnectionResetError(104, 'Connection reset by peer'))\n"
     ]
    },
    {
     "name": "stderr",
     "output_type": "stream",
     "text": [
      "Processing traspalear:  96%|█████████▋| 10386/10783 [1:43:10<02:50,  2.32it/s]"
     ]
    },
    {
     "name": "stdout",
     "output_type": "stream",
     "text": [
      "Error scraping traspalar: ('Connection aborted.', ConnectionResetError(104, 'Connection reset by peer'))\n"
     ]
    },
    {
     "name": "stderr",
     "output_type": "stream",
     "text": [
      "Processing trasparecer:  96%|█████████▋| 10388/10783 [1:43:12<03:04,  2.15it/s]"
     ]
    },
    {
     "name": "stdout",
     "output_type": "stream",
     "text": [
      "Error scraping traspapelar: ('Connection aborted.', ConnectionResetError(104, 'Connection reset by peer'))\n"
     ]
    },
    {
     "name": "stderr",
     "output_type": "stream",
     "text": [
      "Processing traspintar:  96%|█████████▋| 10394/10783 [1:43:15<03:13,  2.01it/s] "
     ]
    },
    {
     "name": "stdout",
     "output_type": "stream",
     "text": [
      "Error scraping traspillar: ('Connection aborted.', ConnectionResetError(104, 'Connection reset by peer'))\n"
     ]
    },
    {
     "name": "stderr",
     "output_type": "stream",
     "text": [
      "Processing vampirizar:  98%|█████████▊| 10564/10783 [1:45:01<02:07,  1.72it/s]   "
     ]
    },
    {
     "name": "stdout",
     "output_type": "stream",
     "text": [
      "Error scraping valuar: ('Connection aborted.', ConnectionResetError(104, 'Connection reset by peer'))\n"
     ]
    },
    {
     "name": "stderr",
     "output_type": "stream",
     "text": [
      "Processing verter:  99%|█████████▊| 10626/10783 [1:45:56<13:35,  5.19s/it]       "
     ]
    },
    {
     "name": "stdout",
     "output_type": "stream",
     "text": [
      "Error scraping vertebrar: ('Connection aborted.', ConnectionResetError(104, 'Connection reset by peer'))\n"
     ]
    },
    {
     "name": "stderr",
     "output_type": "stream",
     "text": [
      "Processing zurrir: 100%|██████████| 10783/10783 [1:47:35<00:00,  1.67it/s]      \n"
     ]
    }
   ],
   "source": [
    "import random\n",
    "verbs = read_verbs(\"./data/diccionario/verbos-espanol.txt\")\n",
    "# Take 20 random verbs not in order using random.sample\n",
    "# verbs = random.sample(verbs, 20)\n",
    "# Read the dictionary\n",
    "verbs_df = read_dictionary(\"./data/diccionario/verbos-espanol.json\")\n",
    "# Create the dictionary\n",
    "verbs_df, errores = create_dictionary(verbs)\n",
    "# Create all conjugations list\n",
    "all_conjugations = create_all_conjugations_list(verbs_df)\n",
    "# Write the dictionary\n",
    "write_dictionary(verbs_df, \"./data/diccionario/verbos-espanol.csv\")\n",
    "# Save all conjugations list\n",
    "with open(\"./data/diccionario/all_conjugations.txt\", \"w\", encoding=\"utf-8\") as f:\n",
    "    f.write(\"\\n\".join(all_conjugations))\n",
    "# Save errors\n",
    "with open(\"./data/diccionario/errores.txt\", \"w\", encoding=\"utf-8\") as f:\n",
    "    f.write(\"\\n\".join(errores))"
   ]
  }
 ],
 "metadata": {
  "kernelspec": {
   "display_name": ".venv",
   "language": "python",
   "name": "python3"
  },
  "language_info": {
   "name": "python",
   "version": "3.9.16"
  }
 },
 "nbformat": 4,
 "nbformat_minor": 2
}
