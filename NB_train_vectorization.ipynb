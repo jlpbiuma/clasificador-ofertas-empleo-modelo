{
 "cells": [
  {
   "cell_type": "code",
   "execution_count": 1,
   "metadata": {},
   "outputs": [],
   "source": [
    "from functions import *\n",
    "import pandas as pd\n",
    "import numpy as np"
   ]
  },
  {
   "cell_type": "markdown",
   "metadata": {},
   "source": [
    "# Import training data"
   ]
  },
  {
   "cell_type": "code",
   "execution_count": 2,
   "metadata": {},
   "outputs": [
    {
     "data": {
      "text/html": [
       "<div>\n",
       "<style scoped>\n",
       "    .dataframe tbody tr th:only-of-type {\n",
       "        vertical-align: middle;\n",
       "    }\n",
       "\n",
       "    .dataframe tbody tr th {\n",
       "        vertical-align: top;\n",
       "    }\n",
       "\n",
       "    .dataframe thead th {\n",
       "        text-align: right;\n",
       "    }\n",
       "</style>\n",
       "<table border=\"1\" class=\"dataframe\">\n",
       "  <thead>\n",
       "    <tr style=\"text-align: right;\">\n",
       "      <th></th>\n",
       "      <th>ID_OFERTA</th>\n",
       "      <th>SUBCATEGORIA</th>\n",
       "      <th>CATEGORIA</th>\n",
       "      <th>PALABRAS_EMPLEO_TEXTO</th>\n",
       "      <th>ID_PUESTO_ESCO</th>\n",
       "      <th>ID_PUESTO_ESCO_ULL</th>\n",
       "    </tr>\n",
       "  </thead>\n",
       "  <tbody>\n",
       "    <tr>\n",
       "      <th>0</th>\n",
       "      <td>ef5a8ae0a743018628df9bd53893bb</td>\n",
       "      <td>Administración</td>\n",
       "      <td>Administración de empresas</td>\n",
       "      <td>ADMINISTRATIVO INGLES NAVISION EMPRESAS CARACT...</td>\n",
       "      <td>1634</td>\n",
       "      <td>1634</td>\n",
       "    </tr>\n",
       "    <tr>\n",
       "      <th>1</th>\n",
       "      <td>47137c06a640348ca4cb7dcbf938b1</td>\n",
       "      <td>Medicina general</td>\n",
       "      <td>Sanidad y salud</td>\n",
       "      <td>MEDICO MEDICINA DIAGNOSTICO TRATAMIENTO LICENC...</td>\n",
       "      <td>611</td>\n",
       "      <td>611</td>\n",
       "    </tr>\n",
       "    <tr>\n",
       "      <th>2</th>\n",
       "      <td>cdfb72672340819a6721db72eee187</td>\n",
       "      <td>Comercial</td>\n",
       "      <td>Comercial y ventas</td>\n",
       "      <td>REPARTIDOR PERSONA CHOFER VENTAS CLIENTES SEGU...</td>\n",
       "      <td>2825</td>\n",
       "      <td>2825</td>\n",
       "    </tr>\n",
       "    <tr>\n",
       "      <th>3</th>\n",
       "      <td>5746210e854264aaca9452f4d377a4</td>\n",
       "      <td>Venta al detalle</td>\n",
       "      <td>Ventas al detalle</td>\n",
       "      <td>DEPENDIENTE PROCESOS SELECCION COMERCIAL TIEND...</td>\n",
       "      <td>1984</td>\n",
       "      <td>1984</td>\n",
       "    </tr>\n",
       "    <tr>\n",
       "      <th>4</th>\n",
       "      <td>8a1bda0c91438bb4133f32e392a1ce</td>\n",
       "      <td>Venta al detalle</td>\n",
       "      <td>Ventas al detalle</td>\n",
       "      <td>DEPENDIENTE PALMERAS SEMANALES ATENCIONES VENT...</td>\n",
       "      <td>1984</td>\n",
       "      <td>1984</td>\n",
       "    </tr>\n",
       "  </tbody>\n",
       "</table>\n",
       "</div>"
      ],
      "text/plain": [
       "                        ID_OFERTA      SUBCATEGORIA  \\\n",
       "0  ef5a8ae0a743018628df9bd53893bb    Administración   \n",
       "1  47137c06a640348ca4cb7dcbf938b1  Medicina general   \n",
       "2  cdfb72672340819a6721db72eee187         Comercial   \n",
       "3  5746210e854264aaca9452f4d377a4  Venta al detalle   \n",
       "4  8a1bda0c91438bb4133f32e392a1ce  Venta al detalle   \n",
       "\n",
       "                    CATEGORIA  \\\n",
       "0  Administración de empresas   \n",
       "1             Sanidad y salud   \n",
       "2          Comercial y ventas   \n",
       "3           Ventas al detalle   \n",
       "4           Ventas al detalle   \n",
       "\n",
       "                               PALABRAS_EMPLEO_TEXTO  ID_PUESTO_ESCO  \\\n",
       "0  ADMINISTRATIVO INGLES NAVISION EMPRESAS CARACT...            1634   \n",
       "1  MEDICO MEDICINA DIAGNOSTICO TRATAMIENTO LICENC...             611   \n",
       "2  REPARTIDOR PERSONA CHOFER VENTAS CLIENTES SEGU...            2825   \n",
       "3  DEPENDIENTE PROCESOS SELECCION COMERCIAL TIEND...            1984   \n",
       "4  DEPENDIENTE PALMERAS SEMANALES ATENCIONES VENT...            1984   \n",
       "\n",
       "   ID_PUESTO_ESCO_ULL  \n",
       "0                1634  \n",
       "1                 611  \n",
       "2                2825  \n",
       "3                1984  \n",
       "4                1984  "
      ]
     },
     "execution_count": 2,
     "metadata": {},
     "output_type": "execute_result"
    }
   ],
   "source": [
    "df_train = pd.read_json('data/train/TRAIN.json')\n",
    "# Transform columns to uppercase\n",
    "df_train.columns = map(str.upper, df_train.columns)\n",
    "df_train.head()"
   ]
  },
  {
   "cell_type": "markdown",
   "metadata": {},
   "source": [
    "# Create Vector and Vocabulary"
   ]
  },
  {
   "cell_type": "code",
   "execution_count": 34,
   "metadata": {},
   "outputs": [
    {
     "name": "stderr",
     "output_type": "stream",
     "text": [
      "/tmp/ipykernel_3396915/2623639987.py:20: SettingWithCopyWarning: \n",
      "A value is trying to be set on a copy of a slice from a DataFrame.\n",
      "Try using .loc[row_indexer,col_indexer] = value instead\n",
      "\n",
      "See the caveats in the documentation: https://pandas.pydata.org/pandas-docs/stable/user_guide/indexing.html#returning-a-view-versus-a-copy\n",
      "  df_train[column] = df_train[column].astype(str)\n",
      "/usr/local/lib64/python3.9/site-packages/sklearn/feature_extraction/text.py:528: UserWarning: The parameter 'token_pattern' will not be used since 'tokenizer' is not None'\n",
      "  warnings.warn(\n",
      "/tmp/ipykernel_3396915/2623639987.py:20: SettingWithCopyWarning: \n",
      "A value is trying to be set on a copy of a slice from a DataFrame.\n",
      "Try using .loc[row_indexer,col_indexer] = value instead\n",
      "\n",
      "See the caveats in the documentation: https://pandas.pydata.org/pandas-docs/stable/user_guide/indexing.html#returning-a-view-versus-a-copy\n",
      "  df_train[column] = df_train[column].astype(str)\n",
      "/usr/local/lib64/python3.9/site-packages/sklearn/feature_extraction/text.py:528: UserWarning: The parameter 'token_pattern' will not be used since 'tokenizer' is not None'\n",
      "  warnings.warn(\n",
      "/tmp/ipykernel_3396915/2623639987.py:20: SettingWithCopyWarning: \n",
      "A value is trying to be set on a copy of a slice from a DataFrame.\n",
      "Try using .loc[row_indexer,col_indexer] = value instead\n",
      "\n",
      "See the caveats in the documentation: https://pandas.pydata.org/pandas-docs/stable/user_guide/indexing.html#returning-a-view-versus-a-copy\n",
      "  df_train[column] = df_train[column].astype(str)\n",
      "/usr/local/lib64/python3.9/site-packages/sklearn/feature_extraction/text.py:528: UserWarning: The parameter 'token_pattern' will not be used since 'tokenizer' is not None'\n",
      "  warnings.warn(\n"
     ]
    }
   ],
   "source": [
    "from sklearn.feature_extraction.text import TfidfVectorizer\n",
    "\n",
    "def custom_tokenizer_category_subcategory(text):\n",
    "    # this functions returns a list with the text with underscores instead of spaces\n",
    "    text_with_underscores = text.replace(' ', '_')\n",
    "    return [text_with_underscores]\n",
    "\n",
    "def custom_tokenizer_palabras_empleo_texto(text):\n",
    "    # This function returns a list with the text splitted by spaces\n",
    "    elements = text.strip().split(\" \")\n",
    "    return elements\n",
    "\n",
    "def get_vocabulary_dimension(vocabulary):\n",
    "    # This function returns the total size of the vocabulary (the dimension)\n",
    "    return len(vocabulary['CATEGORIA']) + len(vocabulary['SUBCATEGORIA']) + len(vocabulary['PALABRAS_EMPLEO_TEXTO'])\n",
    "\n",
    "def create_vocabulary(df_train):\n",
    "    # This function returns a dictionary with the vocabulary of each column\n",
    "    # The keys are the columns and the values are the vocabulary of each column\n",
    "    columns = ['CATEGORIA', 'SUBCATEGORIA', 'PALABRAS_EMPLEO_TEXTO']\n",
    "    vocabularies = {}\n",
    "    for column in columns:\n",
    "        df_train[column] = df_train[column].astype(str)\n",
    "        if column == 'CATEGORIA' or column == 'SUBCATEGORIA':\n",
    "            tfidf = TfidfVectorizer(tokenizer=custom_tokenizer_category_subcategory)\n",
    "        else:\n",
    "            tfidf = TfidfVectorizer(tokenizer=custom_tokenizer_palabras_empleo_texto)\n",
    "        \n",
    "        tfidf.fit_transform(df_train[column]).todense()\n",
    "        vocabularies[column] = list(map(str, tfidf.vocabulary_.keys()))\n",
    "    return vocabularies\n",
    "\n",
    "def get_vertical_index(vocabularies, column, text):\n",
    "    if column == 'CATEGORIA':\n",
    "        return vocabularies[column].index(text)\n",
    "    elif column == 'SUBCATEGORIA':\n",
    "        return vocabularies[column].index(text) + len(vocabularies['CATEGORIA'])\n",
    "    elif column == 'PALABRAS_EMPLEO_TEXTO':\n",
    "        return vocabularies[column].index(text) + len(vocabularies['CATEGORIA']) + len(vocabularies['SUBCATEGORIA'])\n",
    "\n",
    "def one_on_feature(text, column, index, offset, vocabularies, matrix):\n",
    "    # This function returns the modified matrix in the position of the text\n",
    "    # If the text is in the vocabulary, it will return a 1 in the position of the text\n",
    "    if text in vocabularies[column]:\n",
    "        horizontal_index = index - offset\n",
    "        vertical_index = get_vertical_index(vocabularies, column, text)\n",
    "        matrix[horizontal_index][vertical_index] = 1\n",
    "    return matrix\n",
    "\n",
    "def create_vectorize_dataframe(df_train_subset, vocabularies):\n",
    "    columns = ['CATEGORIA', 'SUBCATEGORIA', 'PALABRAS_EMPLEO_TEXTO']\n",
    "    # Get the total size of vocabulary\n",
    "    total_size = get_vocabulary_dimension(vocabularies)\n",
    "    # Create a matrix of zeros with the shape of the length of the subset and the total size of the vocabulary\n",
    "    matrix = np.zeros((len(df_train_subset), total_size))\n",
    "    # Get the offset of the index if the dataframe is a subset\n",
    "    offset = df_train_subset.index[0]\n",
    "    # Iterate over the subset (the offers)\n",
    "    for index, row in df_train_subset.iterrows():\n",
    "        # Iterate over the columns\n",
    "        for column in columns:\n",
    "            if column == 'CATEGORIA':\n",
    "                text = custom_tokenizer_category_subcategory(row[column].lower())[0]\n",
    "                matrix = one_on_feature(text, column, index, offset, vocabularies, matrix)\n",
    "            elif column == 'SUBCATEGORIA':\n",
    "                text = custom_tokenizer_category_subcategory(row[column].lower())[0]\n",
    "                matrix = one_on_feature(text, column, index, offset, vocabularies, matrix)\n",
    "            elif column == 'PALABRAS_EMPLEO_TEXTO':\n",
    "                # Split the text by spaces\n",
    "                texts = custom_tokenizer_palabras_empleo_texto(row[column].lower())\n",
    "                # Iterate over the splitted text\n",
    "                for text in texts:\n",
    "                    matrix = one_on_feature(text, column, index, offset, vocabularies, matrix)\n",
    "    return matrix\n",
    "\n",
    "\n",
    "\n",
    "vocabularies = create_vocabulary(df_train[0:2])\n",
    "vectorized_dataframe = create_vectorize_dataframe(df_train[0:2], vocabularies)"
   ]
  },
  {
   "cell_type": "code",
   "execution_count": 35,
   "metadata": {},
   "outputs": [
    {
     "name": "stdout",
     "output_type": "stream",
     "text": [
      "27\n",
      "['administración_de_empresas', 'sanidad_y_salud']\n",
      "['administración', 'medicina_general']\n",
      "['administrativo', 'ingles', 'navision', 'empresas', 'caracter', 'internacional', 'logistico', 'dominio', 'escrito', 'microsoft', 'dynamics', 'office', 'excel', 'medico', 'medicina', 'diagnostico', 'tratamiento', 'licenciado', 'grado', 'homologado', 'colegiado', 'vehiculo', 'carne']\n"
     ]
    }
   ],
   "source": [
    "print(get_vocabulary_dimension(vocabularies))\n",
    "print(vocabularies['CATEGORIA'])\n",
    "print(vocabularies['SUBCATEGORIA'])\n",
    "print(vocabularies['PALABRAS_EMPLEO_TEXTO'])"
   ]
  },
  {
   "cell_type": "code",
   "execution_count": 36,
   "metadata": {},
   "outputs": [
    {
     "name": "stdout",
     "output_type": "stream",
     "text": [
      "[0. 1. 0. 1. 0. 0. 0. 0. 0. 0. 0. 0. 0. 0. 0. 0. 0. 1. 1. 1. 1. 1. 1. 1.\n",
      " 1. 1. 1.]\n"
     ]
    }
   ],
   "source": [
    "print(vectorized_dataframe[1])"
   ]
  },
  {
   "cell_type": "code",
   "execution_count": 32,
   "metadata": {},
   "outputs": [
    {
     "name": "stdout",
     "output_type": "stream",
     "text": [
      "{'CATEGORIA': ['administración_de_empresas', 'sanidad_y_salud'], 'SUBCATEGORIA': ['administración', 'medicina_general'], 'PALABRAS_EMPLEO_TEXTO': ['administrativo', 'ingles', 'navision', 'empresas', 'caracter', 'internacional', 'logistico', 'dominio', 'escrito', 'microsoft', 'dynamics', 'office', 'excel', 'medico', 'medicina', 'diagnostico', 'tratamiento', 'licenciado', 'grado', 'homologado', 'colegiado', 'vehiculo', 'carne']}\n"
     ]
    }
   ],
   "source": [
    "print(vocabularies)"
   ]
  }
 ],
 "metadata": {
  "kernelspec": {
   "display_name": ".venv",
   "language": "python",
   "name": "python3"
  },
  "language_info": {
   "codemirror_mode": {
    "name": "ipython",
    "version": 3
   },
   "file_extension": ".py",
   "mimetype": "text/x-python",
   "name": "python",
   "nbconvert_exporter": "python",
   "pygments_lexer": "ipython3",
   "version": "3.9.16"
  },
  "orig_nbformat": 4
 },
 "nbformat": 4,
 "nbformat_minor": 2
}
