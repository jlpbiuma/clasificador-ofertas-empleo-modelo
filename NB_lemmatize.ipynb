{
 "cells": [
  {
   "cell_type": "markdown",
   "metadata": {},
   "source": [
    "# Import libraries and models"
   ]
  },
  {
   "cell_type": "code",
   "execution_count": 19,
   "metadata": {},
   "outputs": [],
   "source": [
    "import spacy\n",
    "from tqdm import tqdm\n",
    "import requests\n",
    "from bs4 import BeautifulSoup\n",
    "# Load the Spanish language model\n",
    "nlp = spacy.load(\"es_core_news_sm\")"
   ]
  },
  {
   "cell_type": "markdown",
   "metadata": {},
   "source": [
    "# Declare function"
   ]
  },
  {
   "cell_type": "code",
   "execution_count": 20,
   "metadata": {},
   "outputs": [
    {
     "name": "stdout",
     "output_type": "stream",
     "text": [
      "fliparás ADJ fliparás\n",
      "\n"
     ]
    }
   ],
   "source": [
    "# Function to lemmatize a verb in Spanish\n",
    "def lemmatize_spanish_verb(text):\n",
    "    doc = nlp(text)\n",
    "    lemmatized_verb = \"\"\n",
    "    \n",
    "    for token in doc:\n",
    "        print(token.text, token.pos_, token.lemma_)\n",
    "        if token.pos_ == \"VERB\":\n",
    "            lemmatized_verb = token.lemma_\n",
    "            break  # Stop after finding the first verb\n",
    "    \n",
    "    return lemmatized_verb\n",
    "verbo = \"fliparás\"\n",
    "print(lemmatize_spanish_verb(verbo))\n"
   ]
  },
  {
   "cell_type": "code",
   "execution_count": 21,
   "metadata": {},
   "outputs": [],
   "source": [
    "import requests\n",
    "from bs4 import BeautifulSoup\n",
    "import re\n",
    "import json\n",
    "import time\n",
    "from tqdm import tqdm\n",
    "\n",
    "def get_conjugation_list(verbs):\n",
    "    # Define a list of pronouns to remove\n",
    "    pronouns = [\"yo\", \"tú\", \"él\", \"nosotros\", \"vosotros\", \"ellos\"]\n",
    "    verbs = ''.join(verbs)\n",
    "    # Remove pronouns and strip the string\n",
    "    for pronoun in pronouns:\n",
    "        verbs = verbs.replace(pronoun, \"\")\n",
    "    # Remove additional spaces with regex\n",
    "    verbs = re.sub(' +', ' ', verbs)\n",
    "    # Split by \" \"\n",
    "    if verbs.strip()[0] == \"h\":\n",
    "        verbs = verbs.strip().split(\" h\")\n",
    "        # And add the \"h\" again at the beginning of each element\n",
    "        verbs = [\"h\" + verbs[i] if i > 0 else verbs[i] for i in range(len(verbs))]\n",
    "    else:\n",
    "        verbs = verbs.strip().split(\" \")\n",
    "    return verbs\n",
    "\n",
    "def get_conjugation_imperative_list(verbs, form):\n",
    "    if \"Imperativo negativo\" == form:\n",
    "        verb = ''.join(verbs)\n",
    "        # Remove the \"no\" and \"-\" from the string\n",
    "        verb_forms = verb.replace(\"no \", \" \").replace(\"-\", \"\").strip().split(\" \")\n",
    "    else:\n",
    "        # Remove \"-\" from the string\n",
    "        verbs = ' '.join(verbs)\n",
    "        # Delete \"-\" from the string\n",
    "        verbs = verbs.replace(\"-\", \"\")\n",
    "        # Split by \" \"\n",
    "        verb_forms = verbs.strip().split(\" \")\n",
    "        if len(verb_forms) == 10:\n",
    "            # Join the 0 element with the 1 element and so on\n",
    "            verb_forms = [verb_forms[i] + verb_forms[i+1] for i in range(0, len(verb_forms), 2)]\n",
    "    return verb_forms\n",
    "\n",
    "def clasify_verb_form(verbs, form, actual_forms):\n",
    "    if \"Simple\" == form:\n",
    "        verb = ''.join(verbs)\n",
    "        if \"Simple\" not in actual_forms:\n",
    "            form = \"Infinitivo simple\"\n",
    "            verb_forms = [verb]\n",
    "        else:\n",
    "            form = \"Gerundio simple\"\n",
    "            verb_forms = [verb]\n",
    "    elif \"Compuesto\" == form:\n",
    "        verb = ''.join(verbs)\n",
    "        # Remove additional spaces with regex\n",
    "        verb = re.sub(' +', ' ', verb)\n",
    "        if \"Compuesto\" not in actual_forms:\n",
    "            form = \"Infinitivo compuesto\"\n",
    "            verb_forms = [verb]\n",
    "        else:\n",
    "            form = \"Gerundio compuesto\"\n",
    "            verb_forms = [verb]\n",
    "    elif \"Imperativo\" in form:\n",
    "        verb_forms = get_conjugation_imperative_list(verbs, form)\n",
    "    else:\n",
    "        # Create list of verbs with their conjugations\n",
    "        verb_forms = get_conjugation_list(verbs)\n",
    "    return form, verb_forms\n",
    "\n",
    "def scrape_verb_conjugations(verb):\n",
    "    # URL of the website to scrape\n",
    "    url = f\"https://www.conjugacion.es/del/verbo/{verb}.php\"\n",
    "\n",
    "    # Send an HTTP GET request to the URL\n",
    "    response = requests.get(url)\n",
    "\n",
    "    # Check if the request was successful (status code 200)\n",
    "    if response.status_code == 200:\n",
    "        # Parse the HTML content of the page using BeautifulSoup\n",
    "        soup = BeautifulSoup(response.text, \"html.parser\")\n",
    "\n",
    "        conjugations = {}  # Dictionary to store conjugations\n",
    "\n",
    "        # Find the element with id \"gauche\" that contains verb conjugation data\n",
    "        gauche_div = soup.find(\"div\", id=\"gauche\")\n",
    "        if gauche_div is not None:\n",
    "            # Loop through all conjugation tenses\n",
    "            for tense_div in gauche_div.find_all(\"div\", class_=\"tempstab\"):\n",
    "                form = tense_div.find(\"h3\", class_=\"tempsheader\").text.strip()  # Get the tense name\n",
    "                # Eliminar el imperativo negativo ya que se repite\n",
    "                \n",
    "                # Extract conjugation forms for the tense\n",
    "                verbs = tense_div.find_all(\"div\", class_=\"tempscorps\")[0].stripped_strings\n",
    "                # Classify the verb form\n",
    "                form, verb_forms = clasify_verb_form(verbs, form, conjugations.keys())\n",
    "                # Add the verb form and its conjugations to the dictionary\n",
    "                conjugations[form] = verb_forms\n",
    "            # Get the total number of conjugations\n",
    "            total_conjugations = sum([len(conjugations[form]) for form in conjugations])\n",
    "            # Stablish infinitive\n",
    "            conjugations[\"Infinitivo\"] = verb\n",
    "            return conjugations, total_conjugations\n",
    "        else:\n",
    "            return {}\n",
    "    else:\n",
    "        return {}\n",
    "    \n",
    "def read_verbs(verbs_path):\n",
    "    # Read txt file with verbs\n",
    "    with open(verbs_path, \"r\", encoding=\"utf-8\") as f:\n",
    "        verbs = f.readlines()\n",
    "        # Remove \"\\n\" from the end of each verb\n",
    "        verbs = [verb.strip() for verb in verbs]\n",
    "    return verbs\n",
    "\n",
    "def read_dictionary(dictionary_path):\n",
    "    # This functions allows to read the dictionary\n",
    "    try:\n",
    "        with open(dictionary_path, \"r\", encoding=\"utf-8\") as f:\n",
    "            dictionary = json.load(f, ensure_ascii=False, indent=4)\n",
    "        return dictionary\n",
    "    except:\n",
    "        return {}\n",
    "\n",
    "verbs = read_verbs(\"./data/diccionario/verbos-espanol.txt\")\n",
    "# diccionario = read_dictionary(\"./data/diccionario/verbos-espanol.json\")\n",
    "\n",
    "def add_verbs_conjugation_to_dictionary_by_range(verbs, diccionario):\n",
    "    # This function scrapes the conjugations of the verbs in the list\n",
    "    verbos_actuales = list(diccionario.keys())\n",
    "    diccionario = {}\n",
    "    errores = []\n",
    "    actual_amount = 0\n",
    "    pbar = tqdm(verbs, total=len(verbs))\n",
    "    for verb in pbar:\n",
    "        last_chars = verb[-2:]\n",
    "        if last_chars in [\"ar\", \"er\", \"ir\"]:\n",
    "            pbar.set_description(f\"Processing {verb}\")\n",
    "            time.sleep(0.3)\n",
    "            try:\n",
    "                conjugation_data, total_conjugations = scrape_verb_conjugations(verb)\n",
    "                if conjugation_data == {}:\n",
    "                    continue\n",
    "                elif verb not in verbos_actuales:\n",
    "                    actual_amount += total_conjugations\n",
    "                    # El diccinario se trata de un objeto que tiene como clave el rango numérico de las conjugaciones\n",
    "                    # y su valor es un objeto que contiene todas las conjugaciones de un verbo\n",
    "                    diccionario[actual_amount] = conjugation_data\n",
    "            except:\n",
    "                # Hay veces que durante el fetch de la página se produce un error, se deben de volver a hacer\n",
    "                errores.append(verb)\n",
    "                continue\n",
    "    return diccionario, errores\n",
    "\n",
    "def write_dictionary(dictionary, dictionary_path):\n",
    "    # This function allows to write the dictionary\n",
    "    with open(dictionary_path, \"w\", encoding=\"utf-8\") as f:\n",
    "        json.dump(dictionary, f, ensure_ascii=False, indent=4)\n",
    "        \n",
    "def create_all_conjugations_list(dictionary):\n",
    "    # Expand the dictionary to a list of all conjugations\n",
    "    all_conjugations = []\n",
    "    for verb in dictionary.keys():\n",
    "        for conjugation in dictionary[verb].keys():\n",
    "            all_conjugations.extend(dictionary[verb][conjugation])\n",
    "    return all_conjugations\n",
    "\n",
    "def get_index_of_alphabet_all_conjugations(all_conjugations):\n",
    "    # Get the index of the first conjugation of each letter\n",
    "    index_of_alphabet = {}\n",
    "    alphabet = \"abcdefghijklmnñopqrstuvwxyz\"\n",
    "    for conjugation in all_conjugations:\n",
    "        first_letter = conjugation[0]\n",
    "        if first_letter in alphabet and first_letter not in index_of_alphabet.keys():\n",
    "            # Get the index of the actual conjugation in all_conjugations\n",
    "            index_of_alphabet[first_letter] = all_conjugations.index(conjugation)\n",
    "    return index_of_alphabet\n",
    "\n",
    "def get_index_range(word, index_of_alphabet, total_conjugations):\n",
    "    # Get the index range of the conjugations of a word to find more efficiently\n",
    "    first_letter = word[0]\n",
    "    alphabet = \"abcdefghijklmnñopqrstuvwxyz\"\n",
    "    if first_letter in alphabet:\n",
    "        start_index = index_of_alphabet[first_letter]\n",
    "        if first_letter == \"z\":\n",
    "            end_index = total_conjugations\n",
    "        else:\n",
    "            alphabet_index = alphabet.index(first_letter)\n",
    "            end_index = index_of_alphabet[alphabet[alphabet_index + 1]]\n",
    "        return start_index, end_index\n",
    "    else:\n",
    "        return -1, -1\n",
    "    \n",
    "def verify_is_verb(word, index_of_alphabet, all_conjugations, dictionary, all_ranges, total_conjugations):\n",
    "    start, end = get_index_range(word, index_of_alphabet, total_conjugations)\n",
    "    # Find the word in the list of conjugations\n",
    "    if start != -1 and end != -1:\n",
    "        # Get index in the range in all conjugations\n",
    "        index = all_conjugations[start:end].index(word)\n",
    "        if index != -1:\n",
    "            # Find the greater key in the dictionary that is smaller than the index\n",
    "            for range_index in all_ranges:\n",
    "                if range_index <= start:\n",
    "                    verb = dictionary[range_index][\"Infinitivo\"]\n",
    "                    return verb\n",
    "    return \"\""
   ]
  },
  {
   "cell_type": "code",
   "execution_count": 22,
   "metadata": {},
   "outputs": [
    {
     "name": "stderr",
     "output_type": "stream",
     "text": [
      "Processing abozalar: 100%|██████████| 100/100 [00:57<00:00,  1.74it/s]  \n"
     ]
    }
   ],
   "source": [
    "verbs = read_verbs(\"./data/diccionario/verbos-espanol.txt\")\n",
    "# Get only the first 10 verbs\n",
    "verbs = verbs[:100]\n",
    "# Read the dictionary\n",
    "diccionario = read_dictionary(\"./data/diccionario/verbos-espanol.json\")\n",
    "# Create the dictionary\n",
    "diccionario, errores = add_verbs_conjugation_to_dictionary_by_range(verbs, diccionario)"
   ]
  },
  {
   "cell_type": "code",
   "execution_count": 17,
   "metadata": {},
   "outputs": [
    {
     "name": "stdout",
     "output_type": "stream",
     "text": [
      "dict_keys([103, 206, 309, 412, 515, 618, 721])\n",
      "['abachar', 'abajar']\n"
     ]
    }
   ],
   "source": [
    "print(diccionario.keys())\n",
    "print(errores)"
   ]
  },
  {
   "cell_type": "code",
   "execution_count": 18,
   "metadata": {},
   "outputs": [
    {
     "ename": "ValueError",
     "evalue": "not enough values to unpack (expected 2, got 0)",
     "output_type": "error",
     "traceback": [
      "\u001b[0;31m---------------------------------------------------------------------------\u001b[0m",
      "\u001b[0;31mValueError\u001b[0m                                Traceback (most recent call last)",
      "\u001b[1;32m/home/fulp/clasificador_ofertas_empleo/clasificador-ofertas-empleo-modelo/NB_lemmatize.ipynb Cell 8\u001b[0m line \u001b[0;36m2\n\u001b[1;32m      <a href='vscode-notebook-cell://ssh-remote%2B192.168.70.205/home/fulp/clasificador_ofertas_empleo/clasificador-ofertas-empleo-modelo/NB_lemmatize.ipynb#X15sdnNjb2RlLXJlbW90ZQ%3D%3D?line=0'>1</a>\u001b[0m verb \u001b[39m=\u001b[39m \u001b[39m\"\u001b[39m\u001b[39mabachar\u001b[39m\u001b[39m\"\u001b[39m\n\u001b[0;32m----> <a href='vscode-notebook-cell://ssh-remote%2B192.168.70.205/home/fulp/clasificador_ofertas_empleo/clasificador-ofertas-empleo-modelo/NB_lemmatize.ipynb#X15sdnNjb2RlLXJlbW90ZQ%3D%3D?line=1'>2</a>\u001b[0m conjugation_data, total_conjugations \u001b[39m=\u001b[39m scrape_verb_conjugations(verb)\n\u001b[1;32m      <a href='vscode-notebook-cell://ssh-remote%2B192.168.70.205/home/fulp/clasificador_ofertas_empleo/clasificador-ofertas-empleo-modelo/NB_lemmatize.ipynb#X15sdnNjb2RlLXJlbW90ZQ%3D%3D?line=2'>3</a>\u001b[0m \u001b[39mprint\u001b[39m(conjugation_data)\n\u001b[1;32m      <a href='vscode-notebook-cell://ssh-remote%2B192.168.70.205/home/fulp/clasificador_ofertas_empleo/clasificador-ofertas-empleo-modelo/NB_lemmatize.ipynb#X15sdnNjb2RlLXJlbW90ZQ%3D%3D?line=3'>4</a>\u001b[0m \u001b[39mprint\u001b[39m(total_conjugations)\n",
      "\u001b[0;31mValueError\u001b[0m: not enough values to unpack (expected 2, got 0)"
     ]
    }
   ],
   "source": [
    "verb = \"abachar\"\n",
    "conjugation_data, total_conjugations = scrape_verb_conjugations(verb)\n",
    "print(conjugation_data)\n",
    "print(total_conjugations)"
   ]
  },
  {
   "cell_type": "markdown",
   "metadata": {},
   "source": [
    "# Main"
   ]
  },
  {
   "cell_type": "code",
   "execution_count": null,
   "metadata": {},
   "outputs": [
    {
     "name": "stdout",
     "output_type": "stream",
     "text": [
      "{'Presente': ['tenga tengas tenga tengamos tengais tengan'], 'Pretérito perfecto compuesto': ['he  tenido has  tenido ha  tenido hemos  tenido habeis  tenido han  tenido'], 'Pretérito imperfecto': ['tenia tenias tenia teniamos teniais tenian'], 'Pretérito pluscuamperfecto': ['habia  tenido habias  tenido habia  tenido habiamos  tenido habiais  tenido habian  tenido'], 'Pretérito perfecto simple': ['tuve tuviste tuvo tuvimos tuvisteis tuvieron'], 'Pretérito anterior': ['hube  tenido hubiste  tenido hubo  tenido hubimos  tenido hubisteis  tenido hubieron  tenido'], 'Futuro': ['tuviere tuvieres tuviere tuvieremos tuviereis tuvieren'], 'Futuro perfecto': ['hubiere  tenido hubieres  tenido hubiere  tenido hubieremos  tenido hubiereis  tenido hubieren  tenido'], 'Condicional': ['tendria tendrias tendria tendriamos tendriais tendrian'], 'Condicional perfecto': ['habria  tenido habrias  tenido habria  tenido habriamos  tenido habriais  tenido habrian  tenido'], 'Pretérito perfecto': ['haya  tenido hayas  tenido haya  tenido hayamos  tenido hayais  tenido hayan  tenido'], 'Pretérito imperfecto 1': ['tuviera tuvieras tuviera tuvieramos tuvierais tuvieran'], 'Pretérito pluscuamperfecto 1': ['hubiera  tenido hubieras  tenido hubiera  tenido hubieramos  tenido hubierais  tenido hubieran  tenido'], 'Pretérito imperfecto 2': ['tuviese tuvieses tuviese tuviesemos tuvieseis tuviesen'], 'Pretérito pluscuamperfecto 2': ['hubiese  tenido hubieses  tenido hubiese  tenido hubiesemos  tenido hubieseis  tenido hubiesen  tenido'], 'Imperativo': ['tentengatengamostenedtengan'], 'Imperativo negativo': ['no tengasno tengano tengamosno tengaisno tengan'], 'Simple': ['teniendo'], 'Compuesto': ['habiendo  tenido'], 'Pasado': ['tenido']}\n"
     ]
    }
   ],
   "source": [
    "verb = \"tener\"\n",
    "conjugation_data = scrape_verb_conjugations(verb)\n",
    "# list_times = list(conjugation_data.keys())\n",
    "# print(list_times)\n",
    "# conjugation_data['Pretérito perfecto compuesto']\n",
    "print(conjugation_data)"
   ]
  },
  {
   "cell_type": "code",
   "execution_count": null,
   "metadata": {},
   "outputs": [],
   "source": [
    "# Abre el archivo en modo lectura\n",
    "with open('./data/diccionario/verbos-espanol-conjugaciones.txt', 'r') as archivo:\n",
    "    lineas = archivo.readlines()\n",
    "\n",
    "# Crea un diccionario para almacenar los verbos y sus conjugaciones agrupados por el patrón de infinitivo\n",
    "diccionario_verbos = {}\n",
    "\n",
    "# Inicializa variables para rastrear el verbo actual y sus conjugaciones\n",
    "verbo_actual = None\n",
    "conjugaciones = []\n",
    "\n",
    "# Itera a través de las líneas del archivo\n",
    "for linea in lineas:\n",
    "    linea = linea.strip()\n",
    "    \n",
    "    # Si la línea tiene el formato de un verbo en infinitivo\n",
    "    if linea.endswith(\"ar\") or linea.endswith(\"er\") or linea.endswith(\"ir\"):\n",
    "        # Guarda el verbo anterior y sus conjugaciones en el diccionario\n",
    "        if verbo_actual:\n",
    "            diccionario_verbos[verbo_actual] = conjugaciones\n",
    "        # Actualiza el verbo actual y reinicia la lista de conjugaciones\n",
    "        verbo_actual = linea\n",
    "        conjugaciones = []\n",
    "    else:\n",
    "        # Agrega la conjugación a la lista\n",
    "        conjugaciones.append(linea)\n",
    "\n",
    "# Agrega el último verbo y sus conjugaciones al diccionario\n",
    "if verbo_actual:\n",
    "    diccionario_verbos[verbo_actual] = conjugaciones\n",
    "# Save to json file\n",
    "import json\n",
    "with open('./data/diccionario/verbos-espanol-conjugaciones.json', 'w', encoding='utf-8') as archivo:\n",
    "    json.dump(diccionario_verbos, archivo, indent=4)"
   ]
  },
  {
   "cell_type": "code",
   "execution_count": null,
   "metadata": {},
   "outputs": [
    {
     "name": "stdout",
     "output_type": "stream",
     "text": [
      "Verbo encontrado: tutorar\n"
     ]
    }
   ],
   "source": [
    "# Read json file\n",
    "import json\n",
    "with open('./data/diccionario/verbos-espanol-conjugaciones.json', 'r', encoding='utf-8') as archivo:\n",
    "    diccionario_verbos = json.load(archivo)\n",
    "# Verify if this word is a verb looking for the conjugations\n",
    "palabra = \"Tuviéramos\"\n",
    "for verbo in diccionario_verbos:\n",
    "    if palabra.lower() in diccionario_verbos[verbo]:\n",
    "        print(\"Verbo encontrado: \" + verbo)\n",
    "        break"
   ]
  },
  {
   "cell_type": "code",
   "execution_count": null,
   "metadata": {},
   "outputs": [
    {
     "name": "stdout",
     "output_type": "stream",
     "text": [
      "La palabra 'tuviéramos' es un verbo\n"
     ]
    },
    {
     "data": {
      "text/plain": [
       "529762"
      ]
     },
     "execution_count": 37,
     "metadata": {},
     "output_type": "execute_result"
    }
   ],
   "source": [
    "# Ruta al archivo de texto\n",
    "diccionario_verbos_path = './data/diccionario/verbos-espanol-conjugaciones.txt'\n",
    "\n",
    "# Palabra que deseas buscar\n",
    "palabra = \"tuviéramos\"\n",
    "\n",
    "def read_diccionario_verbos():\n",
    "    # Abre el archivo en modo lectura (encoding='utf-8' es necesario para manejar caracteres en español)\n",
    "    with open(diccionario_verbos_path, 'r', encoding='utf-8') as archivo:\n",
    "        # Read and strip each line\n",
    "        diccionario_verbos = [linea.strip() for linea in archivo.readlines()]\n",
    "    return diccionario_verbos\n",
    "\n",
    "def buscar_palabra(palabra, diccionario_verbos):\n",
    "    # Busca la palabra en el diccionario\n",
    "    if palabra in diccionario_verbos:\n",
    "        print(f\"La palabra '{palabra}' es un verbo\")\n",
    "        # Return the index\n",
    "        return diccionario_verbos.index(palabra)\n",
    "    else:\n",
    "        print(f\"La palabra '{palabra}' no es un verbo\")\n",
    "        \n",
    "diccionario_verbos = read_diccionario_verbos()\n",
    "buscar_palabra(palabra, diccionario_verbos)"
   ]
  }
 ],
 "metadata": {
  "kernelspec": {
   "display_name": ".venv",
   "language": "python",
   "name": "python3"
  },
  "language_info": {
   "codemirror_mode": {
    "name": "ipython",
    "version": 3
   },
   "file_extension": ".py",
   "mimetype": "text/x-python",
   "name": "python",
   "nbconvert_exporter": "python",
   "pygments_lexer": "ipython3",
   "version": "3.9.16"
  },
  "orig_nbformat": 4
 },
 "nbformat": 4,
 "nbformat_minor": 2
}
