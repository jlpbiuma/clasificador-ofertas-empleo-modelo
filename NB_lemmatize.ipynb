{
 "cells": [
  {
   "cell_type": "markdown",
   "metadata": {},
   "source": [
    "# Import libraries and models"
   ]
  },
  {
   "cell_type": "code",
   "execution_count": 88,
   "metadata": {},
   "outputs": [],
   "source": [
    "import spacy\n",
    "from tqdm import tqdm\n",
    "import requests\n",
    "from bs4 import BeautifulSoup\n",
    "# Load the Spanish language model\n",
    "nlp = spacy.load(\"es_core_news_sm\")"
   ]
  },
  {
   "cell_type": "markdown",
   "metadata": {},
   "source": [
    "# Declare function"
   ]
  },
  {
   "cell_type": "code",
   "execution_count": 89,
   "metadata": {},
   "outputs": [
    {
     "name": "stdout",
     "output_type": "stream",
     "text": [
      "fliparás ADJ fliparás\n",
      "\n"
     ]
    }
   ],
   "source": [
    "# Function to lemmatize a verb in Spanish\n",
    "def lemmatize_spanish_verb(text):\n",
    "    doc = nlp(text)\n",
    "    lemmatized_verb = \"\"\n",
    "    \n",
    "    for token in doc:\n",
    "        print(token.text, token.pos_, token.lemma_)\n",
    "        if token.pos_ == \"VERB\":\n",
    "            lemmatized_verb = token.lemma_\n",
    "            break  # Stop after finding the first verb\n",
    "    \n",
    "    return lemmatized_verb\n",
    "verbo = \"fliparás\"\n",
    "print(lemmatize_spanish_verb(verbo))\n"
   ]
  },
  {
   "cell_type": "code",
   "execution_count": 90,
   "metadata": {},
   "outputs": [],
   "source": [
    "import json\n",
    "import time\n",
    "import requests\n",
    "from bs4 import BeautifulSoup\n",
    "from tqdm import tqdm\n",
    "import re\n",
    "from unidecode import unidecode\n",
    "\n",
    "modes_index = {\n",
    "    10: \"Indicativo\",\n",
    "    18: \"Subjuntivo\",\n",
    "    20: \"Imperativo\",\n",
    "    22: \"Infinitivo\",\n",
    "    24: \"Gerundio\",\n",
    "    25: \"Participio\"\n",
    "}\n",
    "\n",
    "def get_mode_by_index(index):\n",
    "    for mode_index in modes_index.keys():\n",
    "        if index < mode_index:\n",
    "            return modes_index[mode_index]\n",
    "\n",
    "def initialize_dict_mode_time(gauche_div):\n",
    "    index = 0\n",
    "    conjugations = {}  # Dictionary to store conjugations\n",
    "    for mode in modes_index.values():\n",
    "        conjugations[mode] = {}\n",
    "    all_times_modes = gauche_div.find_all(\"div\", class_=\"tempstab\")\n",
    "    for all_times in all_times_modes:\n",
    "        all_times = all_times.find_all(\"h3\", class_=\"tempsheader\")\n",
    "        for time in all_times:\n",
    "            time = time.text.strip()\n",
    "            # Get the mode by index\n",
    "            mode = get_mode_by_index(index)\n",
    "            conjugations[mode][time] = [] \n",
    "        index += 1\n",
    "    return conjugations\n",
    "\n",
    "def get_time(tense_div):\n",
    "    return tense_div.find(\"h3\", class_=\"tempsheader\").text.strip()\n",
    "\n",
    "def get_conjugations(tense_div, mode):\n",
    "    # Extract conjugation time for the tense\n",
    "    html_elements = tense_div.find_all(\"div\", class_=\"tempscorps\")[0]\n",
    "    # Get all the html elements inside the div and print them\n",
    "    conjugations = \"\"\n",
    "    # Loop over all the elements of the div with class \"_tempscorps\"\n",
    "    for element in html_elements:\n",
    "        # Omit the <br> elements\n",
    "        if element.name != \"br\":\n",
    "            conjugations += element.text\n",
    "        # Add a new line when the element is <br>\n",
    "        else:\n",
    "            conjugations += \"\\n\"\n",
    "    pronuons = [\"yo\", \"tú\", \"él\", \"nosotros\", \"vosotros\", \"ellos\"]\n",
    "    # Remove the pronouns from the conjugations\n",
    "    for pronuon in pronuons:\n",
    "        conjugations = conjugations.replace(pronuon, \"\")\n",
    "    # Remove unnecessary spaces regex\n",
    "    conjugations = re.sub(' +', ' ', conjugations)\n",
    "    if \"Imperativo\" in mode:\n",
    "        # Remove \"no\", \"-\" and \" \" from the conjugations\n",
    "        conjugations = conjugations.replace(\"no\", \"\").replace(\"-\", \"\").replace(\" \", \"\")\n",
    "        result = conjugations.strip().split(\"\\n\")\n",
    "    else:\n",
    "        result = conjugations.strip().split(\"\\n \")\n",
    "    return result\n",
    "        \n",
    "\n",
    "def scrape_verb_conjugations(verb):\n",
    "    # URL of the website to scrape\n",
    "    url = f\"https://www.conjugacion.es/del/verbo/{verb}.php\"\n",
    "    # Send an HTTP GET request to the URL\n",
    "    response = requests.get(url)\n",
    "    # Check if the request was successful (status code 200)\n",
    "    if response.status_code == 200:\n",
    "        # Parse the HTML content of the page using BeautifulSoup\n",
    "        soup = BeautifulSoup(response.text, \"html.parser\")\n",
    "        # Find the element with id \"gauche\" that contains verb conjugation data\n",
    "        gauche_div = soup.find(\"div\", id=\"gauche\")\n",
    "        if gauche_div is not None:\n",
    "            # Loop through all conjugation tenses\n",
    "            total_conjugations = 0\n",
    "            conjugations_verb = initialize_dict_mode_time(gauche_div)\n",
    "            index = 0\n",
    "            for tense_div in gauche_div.find_all(\"div\", class_=\"tempstab\"):\n",
    "                # Inference the mode with the current index of the loop\n",
    "                mode = get_mode_by_index(index)\n",
    "                # Get time\n",
    "                time = get_time(tense_div)\n",
    "                # Add the verb time and its conjugations to the dictionary\n",
    "                conjugations_verb[mode][time] = get_conjugations(tense_div, mode)\n",
    "                # Add the number of conjugations\n",
    "                total_conjugations += len(conjugations_verb[mode][time])\n",
    "                # Add 1 to the index\n",
    "                index += 1\n",
    "            # Stablish infinitive\n",
    "            return conjugations_verb, total_conjugations\n",
    "        else:\n",
    "            return {}\n",
    "    else:\n",
    "        return {}\n",
    "    \n",
    "def read_verbs(verbs_path):\n",
    "    # Read txt file with verbs\n",
    "    with open(verbs_path, \"r\", encoding=\"utf-8\") as f:\n",
    "        verbs = f.readlines()\n",
    "        # Remove \"\\n\" from the end of each verb\n",
    "        verbs = [verb.strip() for verb in verbs]\n",
    "    return verbs\n",
    "\n",
    "def read_dictionary(dictionary_path):\n",
    "    # This functions allows to read the dictionary\n",
    "    try:\n",
    "        with open(dictionary_path, \"r\", encoding=\"utf-8\") as f:\n",
    "            dictionary = json.load(f, ensure_ascii=False, indent=4)\n",
    "        return dictionary\n",
    "    except:\n",
    "        return {}\n",
    "\n",
    "def create_dictionary(verbs, diccionario):\n",
    "    # This function scrapes the conjugations of the verbs in the list\n",
    "    verbos_actuales = list(diccionario.keys())\n",
    "    dict_verbs= {}\n",
    "    errores = []\n",
    "    actual_amount = 0\n",
    "    pbar = tqdm(verbs, total=len(verbs))\n",
    "    for verb in pbar:\n",
    "        last_chars = verb[-2:]\n",
    "        if last_chars in [\"ar\", \"er\", \"ir\"]:\n",
    "            pbar.set_description(f\"Processing {verb}\")\n",
    "            time.sleep(0.3)\n",
    "            try:\n",
    "                conjugation_data, total_conjugations = scrape_verb_conjugations(verb)\n",
    "                if conjugation_data == {}:\n",
    "                    continue\n",
    "                elif verb not in verbos_actuales:\n",
    "                    actual_amount += total_conjugations\n",
    "                    # El diccinario se trata de un objeto que tiene como clave el rango numérico de las conjugaciones\n",
    "                    # y su valor es un objeto que contiene todas las conjugaciones de un verbo\n",
    "                    diccionario[actual_amount] = conjugation_data\n",
    "            except:\n",
    "                # Hay veces que durante el fetch de la página se produce un error, se deben de volver a hacer\n",
    "                errores.append(verb)\n",
    "                continue\n",
    "    return diccionario, errores\n",
    "\n",
    "def write_dictionary(dictionary, dictionary_path):\n",
    "    # This function allows to write the dictionary\n",
    "    with open(dictionary_path, \"w\", encoding=\"utf-8\") as f:\n",
    "        json.dump(dictionary, f, ensure_ascii=False, indent=4)\n",
    "        \n",
    "def create_all_conjugations_list(dictionary):\n",
    "    # Expand the dictionary to a list of all conjugations\n",
    "    all_conjugations = []\n",
    "    for verb_index in dictionary.keys():\n",
    "        modes = dictionary[verb_index].keys()\n",
    "        for mode in modes:\n",
    "            times = dictionary[verb_index][mode].keys()\n",
    "            for time in times:\n",
    "                for conjugation in dictionary[verb_index][mode][time]:\n",
    "                    all_conjugations.append(unidecode(conjugation))\n",
    "    return all_conjugations\n",
    "\n",
    "def get_infinitive(dictionary, range_index):\n",
    "    return dictionary[range_index][\"Infinitivo\"]['Simple'][0]\n",
    "\n",
    "def verify_is_verb(word, all_conjugations, dictionary):\n",
    "    # Find word in all_conjugations and get the infinitive\n",
    "    try:\n",
    "        index = all_conjugations.index(word.lower())\n",
    "        if index != -1:\n",
    "            for range_index in dictionary.keys():\n",
    "                # Verify if the index is smaller than the range index, if yes, return the infinitive\n",
    "                if index < range_index:\n",
    "                    return get_infinitive(dictionary, range_index)\n",
    "        else:\n",
    "            return \"\"\n",
    "    except:\n",
    "        return \"\""
   ]
  },
  {
   "cell_type": "code",
   "execution_count": 91,
   "metadata": {},
   "outputs": [],
   "source": [
    "verbo = \"aullar\"\n",
    "conjugations, total_conjugations = scrape_verb_conjugations(verbo)"
   ]
  },
  {
   "cell_type": "code",
   "execution_count": 92,
   "metadata": {},
   "outputs": [
    {
     "name": "stderr",
     "output_type": "stream",
     "text": [
      "Processing calvar: 100%|██████████| 20/20 [00:11<00:00,  1.72it/s]      "
     ]
    },
    {
     "name": "stdout",
     "output_type": "stream",
     "text": [
      "criticar\n",
      "atropar\n",
      "gazmiar\n",
      "enrejalar\n",
      "ajusticiar\n",
      "milagrear\n",
      "retacar\n",
      "vertebrar\n",
      "nielar\n",
      "postular\n",
      "magancear\n",
      "contabilizar\n",
      "parpar\n",
      "tintinear\n",
      "hurtar\n",
      "esguazar\n",
      "calvar\n"
     ]
    },
    {
     "name": "stderr",
     "output_type": "stream",
     "text": [
      "\n"
     ]
    }
   ],
   "source": [
    "import random\n",
    "verbs = read_verbs(\"./data/diccionario/verbos-espanol.txt\")\n",
    "# Take 20 random verbs not in order using random.sample\n",
    "verbs = random.sample(verbs, 20)\n",
    "# Read the dictionary\n",
    "dict_verbs = read_dictionary(\"./data/diccionario/verbos-espanol.json\")\n",
    "# Create the dictionary\n",
    "dict_verbs, errores = create_dictionary(verbs, dict_verbs)\n",
    "# Create all conjugations list\n",
    "all_conjugations = create_all_conjugations_list(dict_verbs)\n",
    "# Write the dictionary\n",
    "write_dictionary(dict_verbs, \"./data/diccionario/verbos-espanol.json\")\n",
    "# See all \"Infinitivo\"\n",
    "for verb in dict_verbs.keys():\n",
    "    print(dict_verbs[verb][\"Infinitivo\"]['Simple'][0])\n",
    "# Save all conjugations list\n",
    "with open(\"./data/diccionario/all_conjugations.txt\", \"w\", encoding=\"utf-8\") as f:\n",
    "    f.write(\"\\n\".join(all_conjugations))\n",
    "# Save errors\n",
    "with open(\"./data/diccionario/errores.txt\", \"w\", encoding=\"utf-8\") as f:\n",
    "    f.write(\"\\n\".join(errores))"
   ]
  },
  {
   "cell_type": "code",
   "execution_count": 93,
   "metadata": {},
   "outputs": [
    {
     "name": "stdout",
     "output_type": "stream",
     "text": [
      "['criticar', 'hurtar', 'criticar']\n",
      "--- 0.00052642822265625 seconds ---\n"
     ]
    }
   ],
   "source": [
    "# Verify \"abacore\" is a verb\n",
    "verb = \"aullando\"\n",
    "# Temporalize the process\n",
    "start_time = time.time()\n",
    "# print(verify_is_verb(verb, all_conjugations, diccionario))\n",
    "# print(\"--- %s seconds ---\" % (time.time() - start_time))\n",
    "\n",
    "# Create a job offer text\n",
    "text = \"si te critico es porque estas hurtando y criticando a los demás\"\n",
    "verbos = []\n",
    "start_time = time.time()\n",
    "for word in text.split(\" \"):\n",
    "    verbo = verify_is_verb(word, all_conjugations, dict_verbs)\n",
    "    if verbo != \"\":\n",
    "        verbos.append(verbo)\n",
    "print(verbos)\n",
    "print(\"--- %s seconds ---\" % (time.time() - start_time))"
   ]
  },
  {
   "cell_type": "markdown",
   "metadata": {},
   "source": [
    "# Main"
   ]
  },
  {
   "cell_type": "code",
   "execution_count": null,
   "metadata": {},
   "outputs": [
    {
     "name": "stdout",
     "output_type": "stream",
     "text": [
      "{'Presente': ['tenga tengas tenga tengamos tengais tengan'], 'Pretérito perfecto compuesto': ['he  tenido has  tenido ha  tenido hemos  tenido habeis  tenido han  tenido'], 'Pretérito imperfecto': ['tenia tenias tenia teniamos teniais tenian'], 'Pretérito pluscuamperfecto': ['habia  tenido habias  tenido habia  tenido habiamos  tenido habiais  tenido habian  tenido'], 'Pretérito perfecto simple': ['tuve tuviste tuvo tuvimos tuvisteis tuvieron'], 'Pretérito anterior': ['hube  tenido hubiste  tenido hubo  tenido hubimos  tenido hubisteis  tenido hubieron  tenido'], 'Futuro': ['tuviere tuvieres tuviere tuvieremos tuviereis tuvieren'], 'Futuro perfecto': ['hubiere  tenido hubieres  tenido hubiere  tenido hubieremos  tenido hubiereis  tenido hubieren  tenido'], 'Condicional': ['tendria tendrias tendria tendriamos tendriais tendrian'], 'Condicional perfecto': ['habria  tenido habrias  tenido habria  tenido habriamos  tenido habriais  tenido habrian  tenido'], 'Pretérito perfecto': ['haya  tenido hayas  tenido haya  tenido hayamos  tenido hayais  tenido hayan  tenido'], 'Pretérito imperfecto 1': ['tuviera tuvieras tuviera tuvieramos tuvierais tuvieran'], 'Pretérito pluscuamperfecto 1': ['hubiera  tenido hubieras  tenido hubiera  tenido hubieramos  tenido hubierais  tenido hubieran  tenido'], 'Pretérito imperfecto 2': ['tuviese tuvieses tuviese tuviesemos tuvieseis tuviesen'], 'Pretérito pluscuamperfecto 2': ['hubiese  tenido hubieses  tenido hubiese  tenido hubiesemos  tenido hubieseis  tenido hubiesen  tenido'], 'Imperativo': ['tentengatengamostenedtengan'], 'Imperativo negativo': ['no tengasno tengano tengamosno tengaisno tengan'], 'Simple': ['teniendo'], 'Compuesto': ['habiendo  tenido'], 'Pasado': ['tenido']}\n"
     ]
    }
   ],
   "source": [
    "verb = \"tener\"\n",
    "conjugation_data = scrape_verb_conjugations(verb)\n",
    "# list_times = list(conjugation_data.keys())\n",
    "# print(list_times)\n",
    "# conjugation_data['Pretérito perfecto compuesto']\n",
    "print(conjugation_data)"
   ]
  },
  {
   "cell_type": "code",
   "execution_count": null,
   "metadata": {},
   "outputs": [],
   "source": [
    "# Abre el archivo en modo lectura\n",
    "with open('./data/diccionario/verbos-espanol-conjugaciones.txt', 'r') as archivo:\n",
    "    lineas = archivo.readlines()\n",
    "\n",
    "# Crea un dict_verbspara almacenar los verbos y sus conjugaciones agrupados por el patrón de infinitivo\n",
    "diccionario_verbos = {}\n",
    "\n",
    "# Inicializa variables para rastrear el verbo actual y sus conjugaciones\n",
    "verbo_actual = None\n",
    "conjugaciones = []\n",
    "\n",
    "# Itera a través de las líneas del archivo\n",
    "for linea in lineas:\n",
    "    linea = linea.strip()\n",
    "    \n",
    "    # Si la línea tiene el formato de un verbo en infinitivo\n",
    "    if linea.endswith(\"ar\") or linea.endswith(\"er\") or linea.endswith(\"ir\"):\n",
    "        # Guarda el verbo anterior y sus conjugaciones en el diccionario\n",
    "        if verbo_actual:\n",
    "            diccionario_verbos[verbo_actual] = conjugaciones\n",
    "        # Actualiza el verbo actual y reinicia la lista de conjugaciones\n",
    "        verbo_actual = linea\n",
    "        conjugaciones = []\n",
    "    else:\n",
    "        # Agrega la conjugación a la lista\n",
    "        conjugaciones.append(linea)\n",
    "\n",
    "# Agrega el último verbo y sus conjugaciones al diccionario\n",
    "if verbo_actual:\n",
    "    diccionario_verbos[verbo_actual] = conjugaciones\n",
    "# Save to json file\n",
    "import json\n",
    "with open('./data/diccionario/verbos-espanol-conjugaciones.json', 'w', encoding='utf-8') as archivo:\n",
    "    json.dump(diccionario_verbos, archivo, indent=4)"
   ]
  },
  {
   "cell_type": "code",
   "execution_count": null,
   "metadata": {},
   "outputs": [
    {
     "name": "stdout",
     "output_type": "stream",
     "text": [
      "Verbo encontrado: tutorar\n"
     ]
    }
   ],
   "source": [
    "# Read json file\n",
    "import json\n",
    "with open('./data/diccionario/verbos-espanol-conjugaciones.json', 'r', encoding='utf-8') as archivo:\n",
    "    diccionario_verbos = json.load(archivo)\n",
    "# Verify if this word is a verb looking for the conjugations\n",
    "palabra = \"Tuviéramos\"\n",
    "for verbo in diccionario_verbos:\n",
    "    if palabra.lower() in diccionario_verbos[verbo]:\n",
    "        print(\"Verbo encontrado: \" + verbo)\n",
    "        break"
   ]
  },
  {
   "cell_type": "code",
   "execution_count": null,
   "metadata": {},
   "outputs": [
    {
     "name": "stdout",
     "output_type": "stream",
     "text": [
      "La palabra 'tuviéramos' es un verbo\n"
     ]
    },
    {
     "data": {
      "text/plain": [
       "529762"
      ]
     },
     "execution_count": 37,
     "metadata": {},
     "output_type": "execute_result"
    }
   ],
   "source": [
    "# Ruta al archivo de texto\n",
    "diccionario_verbos_path = './data/diccionario/verbos-espanol-conjugaciones.txt'\n",
    "\n",
    "# Palabra que deseas buscar\n",
    "palabra = \"tuviéramos\"\n",
    "\n",
    "def read_diccionario_verbos():\n",
    "    # Abre el archivo en modo lectura (encoding='utf-8' es necesario para manejar caracteres en español)\n",
    "    with open(diccionario_verbos_path, 'r', encoding='utf-8') as archivo:\n",
    "        # Read and strip each line\n",
    "        diccionario_verbos = [linea.strip() for linea in archivo.readlines()]\n",
    "    return diccionario_verbos\n",
    "\n",
    "def buscar_palabra(palabra, diccionario_verbos):\n",
    "    # Busca la palabra en el diccionario\n",
    "    if palabra in diccionario_verbos:\n",
    "        print(f\"La palabra '{palabra}' es un verbo\")\n",
    "        # Return the index\n",
    "        return diccionario_verbos.index(palabra)\n",
    "    else:\n",
    "        print(f\"La palabra '{palabra}' no es un verbo\")\n",
    "        \n",
    "diccionario_verbos = read_diccionario_verbos()\n",
    "buscar_palabra(palabra, diccionario_verbos)"
   ]
  }
 ],
 "metadata": {
  "kernelspec": {
   "display_name": ".venv",
   "language": "python",
   "name": "python3"
  },
  "language_info": {
   "codemirror_mode": {
    "name": "ipython",
    "version": 3
   },
   "file_extension": ".py",
   "mimetype": "text/x-python",
   "name": "python",
   "nbconvert_exporter": "python",
   "pygments_lexer": "ipython3",
   "version": "3.9.16"
  },
  "orig_nbformat": 4
 },
 "nbformat": 4,
 "nbformat_minor": 2
}
