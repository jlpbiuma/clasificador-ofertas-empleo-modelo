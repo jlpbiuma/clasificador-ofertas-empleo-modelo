{
 "cells": [
  {
   "cell_type": "markdown",
   "metadata": {},
   "source": [
    "# Import libraries and models"
   ]
  },
  {
   "cell_type": "code",
   "execution_count": 1,
   "metadata": {},
   "outputs": [],
   "source": [
    "from notebooks.functions.verbs_dictionary import *"
   ]
  },
  {
   "cell_type": "markdown",
   "metadata": {},
   "source": [
    "# Test"
   ]
  },
  {
   "cell_type": "code",
   "execution_count": 2,
   "metadata": {},
   "outputs": [
    {
     "data": {
      "text/html": [
       "<div>\n",
       "<style scoped>\n",
       "    .dataframe tbody tr th:only-of-type {\n",
       "        vertical-align: middle;\n",
       "    }\n",
       "\n",
       "    .dataframe tbody tr th {\n",
       "        vertical-align: top;\n",
       "    }\n",
       "\n",
       "    .dataframe thead th {\n",
       "        text-align: right;\n",
       "    }\n",
       "</style>\n",
       "<table border=\"1\" class=\"dataframe\">\n",
       "  <thead>\n",
       "    <tr style=\"text-align: right;\">\n",
       "      <th></th>\n",
       "      <th>Infinitivo_Simple</th>\n",
       "      <th>Indicativo_Presente</th>\n",
       "      <th>Indicativo_Pretérito perfecto compuesto</th>\n",
       "      <th>Indicativo_Pretérito imperfecto</th>\n",
       "      <th>Indicativo_Pretérito pluscuamperfecto</th>\n",
       "      <th>Indicativo_Pretérito perfecto simple</th>\n",
       "      <th>Indicativo_Pretérito anterior</th>\n",
       "      <th>Indicativo_Futuro</th>\n",
       "      <th>Indicativo_Futuro perfecto</th>\n",
       "      <th>Indicativo_Condicional</th>\n",
       "      <th>...</th>\n",
       "      <th>Subjuntivo_Pretérito imperfecto 2</th>\n",
       "      <th>Subjuntivo_Pretérito pluscuamperfecto 2</th>\n",
       "      <th>Subjuntivo_Futuro</th>\n",
       "      <th>Subjuntivo_Futuro perfecto</th>\n",
       "      <th>Imperativo_Imperativo</th>\n",
       "      <th>Imperativo_Imperativo negativo</th>\n",
       "      <th>Infinitivo_Compuesto</th>\n",
       "      <th>Gerundio_Simple</th>\n",
       "      <th>Gerundio_Compuesto</th>\n",
       "      <th>Participio_Pasado</th>\n",
       "    </tr>\n",
       "  </thead>\n",
       "  <tbody>\n",
       "    <tr>\n",
       "      <th>0</th>\n",
       "      <td>abolir</td>\n",
       "      <td>[abolimos, abolis]</td>\n",
       "      <td>[he abolido, has abolido, ha abolido, hemos ab...</td>\n",
       "      <td>[abolia, abolias, abolia, aboliamos, aboliais,...</td>\n",
       "      <td>[habia abolido, habias abolido, habia abolido,...</td>\n",
       "      <td>[aboli, aboliste, abolio, abolimos, abolisteis...</td>\n",
       "      <td>[hube abolido, hubiste abolido, hubo abolido, ...</td>\n",
       "      <td>[abolire, aboliras, abolira, aboliremos, aboli...</td>\n",
       "      <td>[habre abolido, habras abolido, habra abolido,...</td>\n",
       "      <td>[aboliria, abolirias, aboliria, aboliriamos, a...</td>\n",
       "      <td>...</td>\n",
       "      <td>[aboliese, abolieses, aboliese, aboliesemos, a...</td>\n",
       "      <td>[hubiese abolido, hubieses abolido, hubiese ab...</td>\n",
       "      <td>[aboliere, abolieres, aboliere, abolieremos, a...</td>\n",
       "      <td>[hubiere abolido, hubieres abolido, hubiere ab...</td>\n",
       "      <td>[abolid]</td>\n",
       "      <td>[]</td>\n",
       "      <td>[haber abolido]</td>\n",
       "      <td>[aboliendo]</td>\n",
       "      <td>[habiendo abolido]</td>\n",
       "      <td>[abolido]</td>\n",
       "    </tr>\n",
       "  </tbody>\n",
       "</table>\n",
       "<p>1 rows × 25 columns</p>\n",
       "</div>"
      ],
      "text/plain": [
       "  Infinitivo_Simple Indicativo_Presente  \\\n",
       "0            abolir  [abolimos, abolis]   \n",
       "\n",
       "             Indicativo_Pretérito perfecto compuesto  \\\n",
       "0  [he abolido, has abolido, ha abolido, hemos ab...   \n",
       "\n",
       "                     Indicativo_Pretérito imperfecto  \\\n",
       "0  [abolia, abolias, abolia, aboliamos, aboliais,...   \n",
       "\n",
       "               Indicativo_Pretérito pluscuamperfecto  \\\n",
       "0  [habia abolido, habias abolido, habia abolido,...   \n",
       "\n",
       "                Indicativo_Pretérito perfecto simple  \\\n",
       "0  [aboli, aboliste, abolio, abolimos, abolisteis...   \n",
       "\n",
       "                       Indicativo_Pretérito anterior  \\\n",
       "0  [hube abolido, hubiste abolido, hubo abolido, ...   \n",
       "\n",
       "                                   Indicativo_Futuro  \\\n",
       "0  [abolire, aboliras, abolira, aboliremos, aboli...   \n",
       "\n",
       "                          Indicativo_Futuro perfecto  \\\n",
       "0  [habre abolido, habras abolido, habra abolido,...   \n",
       "\n",
       "                              Indicativo_Condicional  ...  \\\n",
       "0  [aboliria, abolirias, aboliria, aboliriamos, a...  ...   \n",
       "\n",
       "                   Subjuntivo_Pretérito imperfecto 2  \\\n",
       "0  [aboliese, abolieses, aboliese, aboliesemos, a...   \n",
       "\n",
       "             Subjuntivo_Pretérito pluscuamperfecto 2  \\\n",
       "0  [hubiese abolido, hubieses abolido, hubiese ab...   \n",
       "\n",
       "                                   Subjuntivo_Futuro  \\\n",
       "0  [aboliere, abolieres, aboliere, abolieremos, a...   \n",
       "\n",
       "                          Subjuntivo_Futuro perfecto Imperativo_Imperativo  \\\n",
       "0  [hubiere abolido, hubieres abolido, hubiere ab...              [abolid]   \n",
       "\n",
       "  Imperativo_Imperativo negativo Infinitivo_Compuesto Gerundio_Simple  \\\n",
       "0                             []      [haber abolido]     [aboliendo]   \n",
       "\n",
       "   Gerundio_Compuesto Participio_Pasado  \n",
       "0  [habiendo abolido]         [abolido]  \n",
       "\n",
       "[1 rows x 25 columns]"
      ]
     },
     "execution_count": 2,
     "metadata": {},
     "output_type": "execute_result"
    }
   ],
   "source": [
    "verbo = \"abolir\"\n",
    "conjugations = scrape_verb_conjugations(verbo)\n",
    "conjugations = move_inf_first_column(conjugations)\n",
    "conjugations.head()"
   ]
  },
  {
   "cell_type": "code",
   "execution_count": 4,
   "metadata": {},
   "outputs": [
    {
     "name": "stdout",
     "output_type": "stream",
     "text": [
      "Infinitivo_Simple\n",
      "['abolir']\n",
      "Indicativo_Presente\n",
      "[list(['abolimos', 'abolis'])]\n",
      "Indicativo_Pretérito perfecto compuesto\n",
      "[list(['he abolido', 'has abolido', 'ha abolido', 'hemos abolido', 'habeis abolido', 'han abolido'])]\n",
      "Indicativo_Pretérito imperfecto\n",
      "[list(['abolia', 'abolias', 'abolia', 'aboliamos', 'aboliais', 'abolian'])]\n",
      "Indicativo_Pretérito pluscuamperfecto\n",
      "[list(['habia abolido', 'habias abolido', 'habia abolido', 'habiamos abolido', 'habiais abolido', 'habian abolido'])]\n",
      "Indicativo_Pretérito perfecto simple\n",
      "[list(['aboli', 'aboliste', 'abolio', 'abolimos', 'abolisteis', 'abolieron'])]\n",
      "Indicativo_Pretérito anterior\n",
      "[list(['hube abolido', 'hubiste abolido', 'hubo abolido', 'hubimos abolido', 'hubisteis abolido', 'hubieron abolido'])]\n",
      "Indicativo_Futuro\n",
      "[list(['abolire', 'aboliras', 'abolira', 'aboliremos', 'abolireis', 'aboliran'])]\n",
      "Indicativo_Futuro perfecto\n",
      "[list(['habre abolido', 'habras abolido', 'habra abolido', 'habremos abolido', 'habreis abolido', 'habran abolido'])]\n",
      "Indicativo_Condicional\n",
      "[list(['aboliria', 'abolirias', 'aboliria', 'aboliriamos', 'aboliriais', 'abolirian'])]\n",
      "Indicativo_Condicional perfecto\n",
      "[list(['habria abolido', 'habrias abolido', 'habria abolido', 'habriamos abolido', 'habriais abolido', 'habrian abolido'])]\n",
      "Subjuntivo_Presente\n",
      "[list([''])]\n",
      "Subjuntivo_Pretérito perfecto\n",
      "[list(['haya abolido', 'hayas abolido', 'haya abolido', 'hayamos abolido', 'hayais abolido', 'hayan abolido'])]\n",
      "Subjuntivo_Pretérito imperfecto 1\n",
      "[list(['aboliera', 'abolieras', 'aboliera', 'abolieramos', 'abolierais', 'abolieran'])]\n",
      "Subjuntivo_Pretérito pluscuamperfecto 1\n",
      "[list(['hubiera abolido', 'hubieras abolido', 'hubiera abolido', 'hubieramos abolido', 'hubierais abolido', 'hubieran abolido'])]\n",
      "Subjuntivo_Pretérito imperfecto 2\n",
      "[list(['aboliese', 'abolieses', 'aboliese', 'aboliesemos', 'abolieseis', 'aboliesen'])]\n",
      "Subjuntivo_Pretérito pluscuamperfecto 2\n",
      "[list(['hubiese abolido', 'hubieses abolido', 'hubiese abolido', 'hubiesemos abolido', 'hubieseis abolido', 'hubiesen abolido'])]\n",
      "Subjuntivo_Futuro\n",
      "[list(['aboliere', 'abolieres', 'aboliere', 'abolieremos', 'aboliereis', 'abolieren'])]\n",
      "Subjuntivo_Futuro perfecto\n",
      "[list(['hubiere abolido', 'hubieres abolido', 'hubiere abolido', 'hubieremos abolido', 'hubiereis abolido', 'hubieren abolido'])]\n",
      "Imperativo_Imperativo\n",
      "[list(['abolid'])]\n",
      "Imperativo_Imperativo negativo\n",
      "[list([''])]\n",
      "Infinitivo_Compuesto\n",
      "[list(['haber abolido'])]\n",
      "Gerundio_Simple\n",
      "[list(['aboliendo'])]\n",
      "Gerundio_Compuesto\n",
      "[list(['habiendo abolido'])]\n",
      "Participio_Pasado\n",
      "[list(['abolido'])]\n"
     ]
    }
   ],
   "source": [
    "# Print all the values of conjugations of all the columns\n",
    "for column in conjugations.columns:\n",
    "    print(column)\n",
    "    print(conjugations[column].values)"
   ]
  },
  {
   "cell_type": "markdown",
   "metadata": {},
   "source": [
    "# Main"
   ]
  },
  {
   "cell_type": "code",
   "execution_count": 5,
   "metadata": {},
   "outputs": [
    {
     "name": "stderr",
     "output_type": "stream",
     "text": [
      "Processing abachar:   0%|          | 0/10783 [00:00<?, ?it/s]"
     ]
    },
    {
     "name": "stderr",
     "output_type": "stream",
     "text": [
      "Processing almizclar:   7%|▋         | 799/10783 [09:27<2:04:11,  1.34it/s]      "
     ]
    },
    {
     "name": "stdout",
     "output_type": "stream",
     "text": [
      "Error: ('Connection aborted.', ConnectionResetError(104, 'Connection reset by peer'))\n"
     ]
    },
    {
     "name": "stderr",
     "output_type": "stream",
     "text": [
      "Processing almohazar:   7%|▋         | 802/10783 [09:29<2:00:35,  1.38it/s]   "
     ]
    },
    {
     "name": "stdout",
     "output_type": "stream",
     "text": [
      "Error: ('Connection aborted.', ConnectionResetError(104, 'Connection reset by peer'))\n"
     ]
    },
    {
     "name": "stderr",
     "output_type": "stream",
     "text": [
      "Processing almonedar:   7%|▋         | 803/10783 [09:30<1:52:58,  1.47it/s]"
     ]
    },
    {
     "name": "stdout",
     "output_type": "stream",
     "text": [
      "Error: ('Connection aborted.', ConnectionResetError(104, 'Connection reset by peer'))\n"
     ]
    },
    {
     "name": "stderr",
     "output_type": "stream",
     "text": [
      "Processing almonedear:   7%|▋         | 804/10783 [09:30<1:47:38,  1.55it/s]"
     ]
    },
    {
     "name": "stdout",
     "output_type": "stream",
     "text": [
      "Error: ('Connection aborted.', ConnectionResetError(104, 'Connection reset by peer'))\n"
     ]
    },
    {
     "name": "stderr",
     "output_type": "stream",
     "text": [
      "Processing anegar:   9%|▉         | 1013/10783 [12:01<1:33:40,  1.74it/s]      "
     ]
    },
    {
     "name": "stdout",
     "output_type": "stream",
     "text": [
      "Error: ('Connection aborted.', ConnectionResetError(104, 'Connection reset by peer'))\n"
     ]
    },
    {
     "name": "stderr",
     "output_type": "stream",
     "text": [
      "Processing bambear:  17%|█▋        | 1791/10783 [21:39<7:13:07,  2.89s/it]        "
     ]
    },
    {
     "name": "stdout",
     "output_type": "stream",
     "text": [
      "Error: ('Connection aborted.', ConnectionResetError(104, 'Connection reset by peer'))\n"
     ]
    },
    {
     "name": "stderr",
     "output_type": "stream",
     "text": [
      "Processing bambolear:  17%|█▋        | 1792/10783 [21:43<7:47:09,  3.12s/it]"
     ]
    },
    {
     "name": "stdout",
     "output_type": "stream",
     "text": [
      "Error: ('Connection aborted.', ConnectionResetError(104, 'Connection reset by peer'))\n"
     ]
    },
    {
     "name": "stderr",
     "output_type": "stream",
     "text": [
      "Processing bravocear:  18%|█▊        | 1973/10783 [24:08<1:50:27,  1.33it/s]   "
     ]
    },
    {
     "name": "stdout",
     "output_type": "stream",
     "text": [
      "Error: ('Connection aborted.', ConnectionResetError(104, 'Connection reset by peer'))\n"
     ]
    },
    {
     "name": "stderr",
     "output_type": "stream",
     "text": [
      "Processing bravuconear:  18%|█▊        | 1974/10783 [24:09<1:42:26,  1.43it/s]"
     ]
    },
    {
     "name": "stdout",
     "output_type": "stream",
     "text": [
      "Error: ('Connection aborted.', ConnectionResetError(104, 'Connection reset by peer'))\n"
     ]
    },
    {
     "name": "stderr",
     "output_type": "stream",
     "text": [
      "Processing broncear:  18%|█▊        | 1991/10783 [24:22<1:37:23,  1.50it/s]   "
     ]
    },
    {
     "name": "stdout",
     "output_type": "stream",
     "text": [
      "Error: ('Connection aborted.', ConnectionResetError(104, 'Connection reset by peer'))\n"
     ]
    },
    {
     "name": "stderr",
     "output_type": "stream",
     "text": [
      "Processing disfrutar:  42%|████▏     | 4497/10783 [57:31<1:20:07,  1.31it/s]         "
     ]
    },
    {
     "name": "stdout",
     "output_type": "stream",
     "text": [
      "Error: ('Connection aborted.', ConnectionResetError(104, 'Connection reset by peer'))\n"
     ]
    },
    {
     "name": "stderr",
     "output_type": "stream",
     "text": [
      "Processing embastecer:  43%|████▎     | 4658/10783 [59:43<1:17:00,  1.33it/s]   "
     ]
    },
    {
     "name": "stdout",
     "output_type": "stream",
     "text": [
      "Error: ('Connection aborted.', ConnectionResetError(104, 'Connection reset by peer'))\n"
     ]
    },
    {
     "name": "stderr",
     "output_type": "stream",
     "text": [
      "Processing empitonar:  45%|████▌     | 4877/10783 [1:02:13<52:37,  1.87it/s]     "
     ]
    },
    {
     "name": "stdout",
     "output_type": "stream",
     "text": [
      "Error: ('Connection aborted.', ConnectionResetError(104, 'Connection reset by peer'))\n"
     ]
    },
    {
     "name": "stderr",
     "output_type": "stream",
     "text": [
      "Processing encamar:  46%|████▋     | 4993/10783 [1:03:34<48:13,  2.00it/s]        "
     ]
    },
    {
     "name": "stdout",
     "output_type": "stream",
     "text": [
      "Error: ('Connection aborted.', ConnectionResetError(104, 'Connection reset by peer'))\n"
     ]
    },
    {
     "name": "stderr",
     "output_type": "stream",
     "text": [
      "Processing encambrar:  46%|████▋     | 4996/10783 [1:03:36<1:00:27,  1.60it/s] "
     ]
    },
    {
     "name": "stdout",
     "output_type": "stream",
     "text": [
      "Error: ('Connection aborted.', ConnectionResetError(104, 'Connection reset by peer'))\n"
     ]
    },
    {
     "name": "stderr",
     "output_type": "stream",
     "text": [
      "Processing engordar:  50%|████▉     | 5366/10783 [1:08:01<50:28,  1.79it/s]       "
     ]
    },
    {
     "name": "stdout",
     "output_type": "stream",
     "text": [
      "Error: ('Connection aborted.', ConnectionResetError(104, 'Connection reset by peer'))\n"
     ]
    },
    {
     "name": "stderr",
     "output_type": "stream",
     "text": [
      "Processing engorgoritar:  50%|████▉     | 5367/10783 [1:08:01<50:47,  1.78it/s]"
     ]
    },
    {
     "name": "stdout",
     "output_type": "stream",
     "text": [
      "Error: ('Connection aborted.', ConnectionResetError(104, 'Connection reset by peer'))\n"
     ]
    },
    {
     "name": "stderr",
     "output_type": "stream",
     "text": [
      "Processing escarificar:  55%|█████▌    | 5944/10783 [1:15:07<47:25,  1.70it/s]    "
     ]
    },
    {
     "name": "stdout",
     "output_type": "stream",
     "text": [
      "Error: ('Connection aborted.', ConnectionResetError(104, 'Connection reset by peer'))\n"
     ]
    },
    {
     "name": "stderr",
     "output_type": "stream",
     "text": [
      "Processing estresar:  57%|█████▋    | 6200/10783 [1:18:33<58:37,  1.30it/s]        "
     ]
    },
    {
     "name": "stdout",
     "output_type": "stream",
     "text": [
      "Error: ('Connection aborted.', ConnectionResetError(104, 'Connection reset by peer'))\n"
     ]
    },
    {
     "name": "stderr",
     "output_type": "stream",
     "text": [
      "Processing excomulgar:  58%|█████▊    | 6256/10783 [1:19:20<57:20,  1.32it/s]    "
     ]
    },
    {
     "name": "stdout",
     "output_type": "stream",
     "text": [
      "Error: ('Connection aborted.', ConnectionResetError(104, 'Connection reset by peer'))\n"
     ]
    },
    {
     "name": "stderr",
     "output_type": "stream",
     "text": [
      "Processing holgazanear:  64%|██████▎   | 6872/10783 [1:27:40<49:45,  1.31it/s]      "
     ]
    },
    {
     "name": "stdout",
     "output_type": "stream",
     "text": [
      "Error: ('Connection aborted.', ConnectionResetError(104, 'Connection reset by peer'))\n"
     ]
    },
    {
     "name": "stderr",
     "output_type": "stream",
     "text": [
      "Processing panegirizar:  76%|███████▌  | 8173/10783 [1:45:35<46:27,  1.07s/it]      "
     ]
    },
    {
     "name": "stdout",
     "output_type": "stream",
     "text": [
      "Error: ('Connection aborted.', ConnectionResetError(104, 'Connection reset by peer'))\n"
     ]
    },
    {
     "name": "stderr",
     "output_type": "stream",
     "text": [
      "Processing resquilar:  87%|████████▋ | 9399/10783 [2:02:33<18:13,  1.27it/s]        "
     ]
    },
    {
     "name": "stdout",
     "output_type": "stream",
     "text": [
      "Error: ('Connection aborted.', ConnectionResetError(104, 'Connection reset by peer'))\n"
     ]
    },
    {
     "name": "stderr",
     "output_type": "stream",
     "text": [
      "Processing restablecer:  87%|████████▋ | 9400/10783 [2:02:34<16:42,  1.38it/s]"
     ]
    },
    {
     "name": "stdout",
     "output_type": "stream",
     "text": [
      "Error: ('Connection aborted.', ConnectionResetError(104, 'Connection reset by peer'))\n"
     ]
    },
    {
     "name": "stderr",
     "output_type": "stream",
     "text": [
      "Processing restallar:  87%|████████▋ | 9401/10783 [2:02:34<15:38,  1.47it/s]  "
     ]
    },
    {
     "name": "stdout",
     "output_type": "stream",
     "text": [
      "Error: ('Connection aborted.', ConnectionResetError(104, 'Connection reset by peer'))\n"
     ]
    },
    {
     "name": "stderr",
     "output_type": "stream",
     "text": [
      "Processing retraer:  88%|████████▊ | 9453/10783 [2:03:19<16:52,  1.31it/s]    "
     ]
    },
    {
     "name": "stdout",
     "output_type": "stream",
     "text": [
      "Error: ('Connection aborted.', ConnectionResetError(104, 'Connection reset by peer'))\n"
     ]
    },
    {
     "name": "stderr",
     "output_type": "stream",
     "text": [
      "Processing romanizar:  89%|████████▊ | 9560/10783 [2:04:49<13:51,  1.47it/s]   "
     ]
    },
    {
     "name": "stdout",
     "output_type": "stream",
     "text": [
      "Error: ('Connection aborted.', ConnectionResetError(104, 'Connection reset by peer'))\n"
     ]
    },
    {
     "name": "stderr",
     "output_type": "stream",
     "text": [
      "Processing roñar:  89%|████████▊ | 9563/10783 [2:04:51<14:30,  1.40it/s]    "
     ]
    },
    {
     "name": "stdout",
     "output_type": "stream",
     "text": [
      "Error: ('Connection aborted.', ConnectionResetError(104, 'Connection reset by peer'))\n"
     ]
    },
    {
     "name": "stderr",
     "output_type": "stream",
     "text": [
      "Processing vivaquear:  99%|█████████▉| 10671/10783 [2:20:11<01:25,  1.31it/s]      "
     ]
    },
    {
     "name": "stdout",
     "output_type": "stream",
     "text": [
      "Error: ('Connection aborted.', ConnectionResetError(104, 'Connection reset by peer'))\n"
     ]
    },
    {
     "name": "stderr",
     "output_type": "stream",
     "text": [
      "Processing zurrir: 100%|██████████| 10783/10783 [2:21:42<00:00,  1.27it/s]      \n"
     ]
    }
   ],
   "source": [
    "import random\n",
    "verbs = read_verbs(\"./data/diccionario/verbos-espanol.txt\")\n",
    "# Read the dictionary\n",
    "verbs_df = pd.DataFrame()\n",
    "# verbs_df = read_dictionary(\"./data/diccionario/df_structured_verbos.csv\")\n",
    "# Create the dictionary\n",
    "verbs_df, errores = create_dictionary(verbs, verbs_df)\n",
    "# Create all conjugations list\n",
    "all_conjugations = create_all_conjugations_list(verbs_df)\n",
    "# Write the dictionary\n",
    "write_dictionary(verbs_df, \"./data/diccionario/df_structured_verbos.csv\")\n",
    "# Save all conjugations list\n",
    "with open(\"./data/diccionario/list_unstructured_verbs.txt\", \"w\", encoding=\"utf-8\") as f:\n",
    "    for form in all_conjugations:\n",
    "        if isinstance(form, str):\n",
    "            f.write(form + \"\\n\")\n",
    "# Save errors\n",
    "with open(\"./data/diccionario/list_unstructured_verbs_errores_inf.txt\", \"w\", encoding=\"utf-8\") as f:\n",
    "    f.write(\"\\n\".join(errores))"
   ]
  },
  {
   "cell_type": "code",
   "execution_count": 10,
   "metadata": {},
   "outputs": [
    {
     "name": "stdout",
     "output_type": "stream",
     "text": [
      "['gestionen', 'gestionar', 'haber gestionado']\n",
      "611564\n"
     ]
    }
   ],
   "source": []
  },
  {
   "cell_type": "markdown",
   "metadata": {},
   "source": [
    "# Time test"
   ]
  },
  {
   "cell_type": "code",
   "execution_count": 5,
   "metadata": {},
   "outputs": [],
   "source": [
    "# # Verify \"abacore\" is a verb\n",
    "# verb = \"aullando\"\n",
    "# # Temporalize the process\n",
    "# start_time = time.time()\n",
    "# # print(verify_is_verb(verb, all_conjugations, diccionario))\n",
    "# # print(\"--- %s seconds ---\" % (time.time() - start_time))\n",
    "\n",
    "# # Create a job offer text\n",
    "# text = \"si te critico es porque estas hurtando y criticando a los demás\"\n",
    "# verbos = []\n",
    "# start_time = time.time()\n",
    "# for word in text.split(\" \"):\n",
    "#     verbo = verify_is_verb(word, all_conjugations, dict_verbs)\n",
    "#     if verbo != \"\":\n",
    "#         verbos.append(verbo)\n",
    "# print(verbos)\n",
    "# print(\"--- %s seconds ---\" % (time.time() - start_time))"
   ]
  }
 ],
 "metadata": {
  "kernelspec": {
   "display_name": ".venv",
   "language": "python",
   "name": "python3"
  },
  "language_info": {
   "codemirror_mode": {
    "name": "ipython",
    "version": 3
   },
   "file_extension": ".py",
   "mimetype": "text/x-python",
   "name": "python",
   "nbconvert_exporter": "python",
   "pygments_lexer": "ipython3",
   "version": "3.9.16"
  },
  "orig_nbformat": 4
 },
 "nbformat": 4,
 "nbformat_minor": 2
}
