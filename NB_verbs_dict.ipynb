{
 "cells": [
  {
   "cell_type": "markdown",
   "metadata": {},
   "source": [
    "# Import libraries and models"
   ]
  },
  {
   "cell_type": "code",
   "execution_count": 1,
   "metadata": {},
   "outputs": [],
   "source": [
    "from notebooks.functions.verbs_dictionary import *"
   ]
  },
  {
   "cell_type": "markdown",
   "metadata": {},
   "source": [
    "# Test"
   ]
  },
  {
   "cell_type": "code",
   "execution_count": 2,
   "metadata": {},
   "outputs": [
    {
     "data": {
      "text/html": [
       "<div>\n",
       "<style scoped>\n",
       "    .dataframe tbody tr th:only-of-type {\n",
       "        vertical-align: middle;\n",
       "    }\n",
       "\n",
       "    .dataframe tbody tr th {\n",
       "        vertical-align: top;\n",
       "    }\n",
       "\n",
       "    .dataframe thead th {\n",
       "        text-align: right;\n",
       "    }\n",
       "</style>\n",
       "<table border=\"1\" class=\"dataframe\">\n",
       "  <thead>\n",
       "    <tr style=\"text-align: right;\">\n",
       "      <th></th>\n",
       "      <th>Infinitivo_Simple</th>\n",
       "      <th>Indicativo_Presente</th>\n",
       "      <th>Indicativo_Pretérito perfecto compuesto</th>\n",
       "      <th>Indicativo_Pretérito imperfecto</th>\n",
       "      <th>Indicativo_Pretérito pluscuamperfecto</th>\n",
       "      <th>Indicativo_Pretérito perfecto simple</th>\n",
       "      <th>Indicativo_Pretérito anterior</th>\n",
       "      <th>Indicativo_Futuro</th>\n",
       "      <th>Indicativo_Futuro perfecto</th>\n",
       "      <th>Indicativo_Condicional</th>\n",
       "      <th>...</th>\n",
       "      <th>Subjuntivo_Pretérito imperfecto 2</th>\n",
       "      <th>Subjuntivo_Pretérito pluscuamperfecto 2</th>\n",
       "      <th>Subjuntivo_Futuro</th>\n",
       "      <th>Subjuntivo_Futuro perfecto</th>\n",
       "      <th>Imperativo_Imperativo</th>\n",
       "      <th>Imperativo_Imperativo negativo</th>\n",
       "      <th>Infinitivo_Compuesto</th>\n",
       "      <th>Gerundio_Simple</th>\n",
       "      <th>Gerundio_Compuesto</th>\n",
       "      <th>Participio_Pasado</th>\n",
       "    </tr>\n",
       "  </thead>\n",
       "  <tbody>\n",
       "    <tr>\n",
       "      <th>0</th>\n",
       "      <td>aullar</td>\n",
       "      <td>[aullo, aullas, aulla, aullamos, aullais, aullan]</td>\n",
       "      <td>[he aullado, has aullado, ha aullado, hemos au...</td>\n",
       "      <td>[aullaba, aullabas, aullaba, aullabamos, aulla...</td>\n",
       "      <td>[habia aullado, habias aullado, habia aullado,...</td>\n",
       "      <td>[aulle, aullaste, aullo, aullamos, aullasteis,...</td>\n",
       "      <td>[hube aullado, hubiste aullado, hubo aullado, ...</td>\n",
       "      <td>[aullare, aullaras, aullara, aullaremos, aulla...</td>\n",
       "      <td>[habre aullado, habras aullado, habra aullado,...</td>\n",
       "      <td>[aullaria, aullarias, aullaria, aullariamos, a...</td>\n",
       "      <td>...</td>\n",
       "      <td>[aullase, aullases, aullase, aullasemos, aulla...</td>\n",
       "      <td>[hubiese aullado, hubieses aullado, hubiese au...</td>\n",
       "      <td>[aullare, aullares, aullare, aullaremos, aulla...</td>\n",
       "      <td>[hubiere aullado, hubieres aullado, hubiere au...</td>\n",
       "      <td>[aulla, aulle, aullemos, aullad, aullen]</td>\n",
       "      <td>[aulles, aulle, aullemos, aulleis, aullen]</td>\n",
       "      <td>[haber aullado]</td>\n",
       "      <td>[aullando]</td>\n",
       "      <td>[habiendo aullado]</td>\n",
       "      <td>[aullado]</td>\n",
       "    </tr>\n",
       "  </tbody>\n",
       "</table>\n",
       "<p>1 rows × 25 columns</p>\n",
       "</div>"
      ],
      "text/plain": [
       "  Infinitivo_Simple                                Indicativo_Presente  \\\n",
       "0            aullar  [aullo, aullas, aulla, aullamos, aullais, aullan]   \n",
       "\n",
       "             Indicativo_Pretérito perfecto compuesto  \\\n",
       "0  [he aullado, has aullado, ha aullado, hemos au...   \n",
       "\n",
       "                     Indicativo_Pretérito imperfecto  \\\n",
       "0  [aullaba, aullabas, aullaba, aullabamos, aulla...   \n",
       "\n",
       "               Indicativo_Pretérito pluscuamperfecto  \\\n",
       "0  [habia aullado, habias aullado, habia aullado,...   \n",
       "\n",
       "                Indicativo_Pretérito perfecto simple  \\\n",
       "0  [aulle, aullaste, aullo, aullamos, aullasteis,...   \n",
       "\n",
       "                       Indicativo_Pretérito anterior  \\\n",
       "0  [hube aullado, hubiste aullado, hubo aullado, ...   \n",
       "\n",
       "                                   Indicativo_Futuro  \\\n",
       "0  [aullare, aullaras, aullara, aullaremos, aulla...   \n",
       "\n",
       "                          Indicativo_Futuro perfecto  \\\n",
       "0  [habre aullado, habras aullado, habra aullado,...   \n",
       "\n",
       "                              Indicativo_Condicional  ...  \\\n",
       "0  [aullaria, aullarias, aullaria, aullariamos, a...  ...   \n",
       "\n",
       "                   Subjuntivo_Pretérito imperfecto 2  \\\n",
       "0  [aullase, aullases, aullase, aullasemos, aulla...   \n",
       "\n",
       "             Subjuntivo_Pretérito pluscuamperfecto 2  \\\n",
       "0  [hubiese aullado, hubieses aullado, hubiese au...   \n",
       "\n",
       "                                   Subjuntivo_Futuro  \\\n",
       "0  [aullare, aullares, aullare, aullaremos, aulla...   \n",
       "\n",
       "                          Subjuntivo_Futuro perfecto  \\\n",
       "0  [hubiere aullado, hubieres aullado, hubiere au...   \n",
       "\n",
       "                      Imperativo_Imperativo  \\\n",
       "0  [aulla, aulle, aullemos, aullad, aullen]   \n",
       "\n",
       "               Imperativo_Imperativo negativo Infinitivo_Compuesto  \\\n",
       "0  [aulles, aulle, aullemos, aulleis, aullen]      [haber aullado]   \n",
       "\n",
       "  Gerundio_Simple  Gerundio_Compuesto Participio_Pasado  \n",
       "0      [aullando]  [habiendo aullado]         [aullado]  \n",
       "\n",
       "[1 rows x 25 columns]"
      ]
     },
     "execution_count": 2,
     "metadata": {},
     "output_type": "execute_result"
    }
   ],
   "source": [
    "verbo = \"aullar\"\n",
    "conjugations = scrape_verb_conjugations(verbo)\n",
    "conjugations = move_inf_first_column(conjugations)\n",
    "conjugations.head()"
   ]
  },
  {
   "cell_type": "markdown",
   "metadata": {},
   "source": [
    "# Main"
   ]
  },
  {
   "cell_type": "code",
   "execution_count": 3,
   "metadata": {},
   "outputs": [
    {
     "name": "stderr",
     "output_type": "stream",
     "text": [
      "Processing desapadrinar:   0%|          | 0/20 [00:00<?, ?it/s]"
     ]
    },
    {
     "name": "stderr",
     "output_type": "stream",
     "text": [
      "Processing desbaratar: 100%|██████████| 20/20 [00:11<00:00,  1.69it/s] \n"
     ]
    }
   ],
   "source": [
    "import random\n",
    "verbs = read_verbs(\"./data/diccionario/verbos-espanol.txt\")\n",
    "# Take 20 random verbs not in order using random.sample\n",
    "# verbs = random.sample(verbs, 50)\n",
    "# Take the first 10 verbs\n",
    "verbs = verbs[:10]\n",
    "# Read the dictionary\n",
    "verbs_df = read_dictionary(\"./data/diccionario/df_structured_verbos.csv\")\n",
    "# Create the dictionary\n",
    "verbs_df, errores = create_dictionary(verbs, verbs_df)\n",
    "# Create all conjugations list\n",
    "all_conjugations = create_all_conjugations_list(verbs_df)\n",
    "# Write the dictionary\n",
    "write_dictionary(verbs_df, \"./data/diccionario/df_structured_verbos.csv\")\n",
    "# Save all conjugations list\n",
    "with open(\"./data/diccionario/all_conjugations.txt\", \"w\", encoding=\"utf-8\") as f:\n",
    "    f.write(\"\\n\".join(all_conjugations))\n",
    "# Save errors\n",
    "with open(\"./data/diccionario/errores.txt\", \"w\", encoding=\"utf-8\") as f:\n",
    "    f.write(\"\\n\".join(errores))"
   ]
  },
  {
   "cell_type": "code",
   "execution_count": 4,
   "metadata": {},
   "outputs": [
    {
     "name": "stdout",
     "output_type": "stream",
     "text": [
      "['acarralar', 'acarralo', 'acarralas', 'acarrala', 'acarralamos', 'acarralais', 'acarralan', 'he acarralado', 'has acarralado', 'ha acarralado', 'hemos acarralado', 'habeis acarralado', 'han acarralado', 'acarralaba', 'acarralabas', 'acarralaba', 'acarralabamos', 'acarralabais', 'acarralaban', 'habia acarralado', 'habias acarralado', 'habia acarralado', 'habiamos acarralado', 'habiais acarralado', 'habian acarralado', 'acarrale', 'acarralaste', 'acarralo', 'acarralamos', 'acarralasteis', 'acarralaron', 'hube acarralado', 'hubiste acarralado', 'hubo acarralado', 'hubimos acarralado', 'hubisteis acarralado', 'hubieron acarralado', 'acarralare', 'acarralaras', 'acarralara', 'acarralaremos', 'acarralareis', 'acarralaran', 'habre acarralado', 'habras acarralado', 'habra acarralado', 'habremos acarralado', 'habreis acarralado', 'habran acarralado', 'acarralaria', 'acarralarias', 'acarralaria', 'acarralariamos', 'acarralariais', 'acarralarian', 'habria acarralado', 'habrias acarralado', 'habria acarralado', 'habriamos acarralado', 'habriais acarralado', 'habrian acarralado', 'acarrale', 'acarrales', 'acarrale', 'acarralemos', 'acarraleis', 'acarralen', 'haya acarralado', 'hayas acarralado', 'haya acarralado', 'hayamos acarralado', 'hayais acarralado', 'hayan acarralado', 'acarralara', 'acarralaras', 'acarralara', 'acarralaramos', 'acarralarais', 'acarralaran', 'hubiera acarralado', 'hubieras acarralado', 'hubiera acarralado', 'hubieramos acarralado', 'hubierais acarralado', 'hubieran acarralado', 'acarralase', 'acarralases', 'acarralase', 'acarralasemos', 'acarralaseis', 'acarralasen', 'hubiese acarralado', 'hubieses acarralado', 'hubiese acarralado', 'hubiesemos acarralado', 'hubieseis acarralado', 'hubiesen acarralado', 'acarralare', 'acarralares', 'acarralare', 'acarralaremos', 'acarralareis', 'acarralaren', 'hubiere acarralado', 'hubieres acarralado', 'hubiere acarralado', 'hubieremos acarralado', 'hubiereis acarralado', 'hubieren acarralado', 'acarrala', 'acarrale', 'acarralemos', 'acarralad', 'acarralen', 'acarrales', 'acarrale', 'acarralemos', 'acarraleis', 'acarralen', 'haber acarralado', 'acarralando', 'habiendo acarralado', 'acarralado', 'entornillar', 'entornillo', 'entornillas', 'entornilla', 'entornillamos', 'entornillais', 'entornillan', 'he entornillado', 'has entornillado', 'ha entornillado', 'hemos entornillado', 'habeis entornillado', 'han entornillado', 'entornillaba', 'entornillabas', 'entornillaba', 'entornillabamos', 'entornillabais', 'entornillaban', 'habia entornillado', 'habias entornillado', 'habia entornillado', 'habiamos entornillado', 'habiais entornillado', 'habian entornillado', 'entornille', 'entornillaste', 'entornillo', 'entornillamos', 'entornillasteis', 'entornillaron', 'hube entornillado', 'hubiste entornillado', 'hubo entornillado', 'hubimos entornillado', 'hubisteis entornillado', 'hubieron entornillado', 'entornillare', 'entornillaras', 'entornillara', 'entornillaremos', 'entornillareis', 'entornillaran', 'habre entornillado', 'habras entornillado', 'habra entornillado', 'habremos entornillado', 'habreis entornillado', 'habran entornillado', 'entornillaria', 'entornillarias', 'entornillaria', 'entornillariamos', 'entornillariais', 'entornillarian', 'habria entornillado', 'habrias entornillado', 'habria entornillado', 'habriamos entornillado', 'habriais entornillado', 'habrian entornillado', 'entornille', 'entornilles', 'entornille', 'entornillemos', 'entornilleis', 'entornillen', 'haya entornillado', 'hayas entornillado', 'haya entornillado', 'hayamos entornillado', 'hayais entornillado', 'hayan entornillado', 'entornillara', 'entornillaras', 'entornillara', 'entornillaramos', 'entornillarais', 'entornillaran', 'hubiera entornillado', 'hubieras entornillado', 'hubiera entornillado', 'hubieramos entornillado', 'hubierais entornillado', 'hubieran entornillado', 'entornillase', 'entornillases', 'entornillase', 'entornillasemos', 'entornillaseis', 'entornillasen', 'hubiese entornillado', 'hubieses entornillado', 'hubiese entornillado', 'hubiesemos entornillado', 'hubieseis entornillado', 'hubiesen entornillado', 'entornillare', 'entornillares', 'entornillare', 'entornillaremos', 'entornillareis', 'entornillaren', 'hubiere entornillado', 'hubieres entornillado', 'hubiere entornillado', 'hubieremos entornillado', 'hubiereis entornillado', 'hubieren entornillado', 'entornilla', 'entornille', 'entornillemos', 'entornillad', 'entornillen', 'entornilles', 'entornille', 'entornillemos', 'entornilleis', 'entornillen', 'haber entornillado', 'entornillando', 'habiendo entornillado', 'entornillado', 'destramar', 'destramo', 'destramas', 'destrama', 'destramamos', 'destramais', 'destraman', 'he destramado', 'has destramado', 'ha destramado', 'hemos destramado', 'habeis destramado', 'han destramado', 'destramaba', 'destramabas', 'destramaba', 'destramabamos', 'destramabais', 'destramaban', 'habia destramado', 'habias destramado', 'habia destramado', 'habiamos destramado', 'habiais destramado', 'habian destramado', 'destrame', 'destramaste', 'destramo', 'destramamos', 'destramasteis', 'destramaron', 'hube destramado', 'hubiste destramado', 'hubo destramado', 'hubimos destramado', 'hubisteis destramado', 'hubieron destramado', 'destramare', 'destramaras', 'destramara', 'destramaremos', 'destramareis', 'destramaran', 'habre destramado', 'habras destramado', 'habra destramado', 'habremos destramado', 'habreis destramado', 'habran destramado', 'destramaria', 'destramarias', 'destramaria', 'destramariamos', 'destramariais', 'destramarian', 'habria destramado', 'habrias destramado', 'habria destramado', 'habriamos destramado', 'habriais destramado', 'habrian destramado', 'destrame', 'destrames', 'destrame', 'destramemos', 'destrameis', 'destramen', 'haya destramado', 'hayas destramado', 'haya destramado', 'hayamos destramado', 'hayais destramado', 'hayan destramado', 'destramara', 'destramaras', 'destramara', 'destramaramos', 'destramarais', 'destramaran', 'hubiera destramado', 'hubieras destramado', 'hubiera destramado', 'hubieramos destramado', 'hubierais destramado', 'hubieran destramado', 'destramase', 'destramases', 'destramase', 'destramasemos', 'destramaseis', 'destramasen', 'hubiese destramado', 'hubieses destramado', 'hubiese destramado', 'hubiesemos destramado', 'hubieseis destramado', 'hubiesen destramado', 'destramare', 'destramares', 'destramare', 'destramaremos', 'destramareis', 'destramaren', 'hubiere destramado', 'hubieres destramado', 'hubiere destramado', 'hubieremos destramado', 'hubiereis destramado', 'hubieren destramado', 'destrama', 'destrame', 'destramemos', 'destramad', 'destramen', 'destrames', 'destrame', 'destramemos', 'destrameis', 'destramen', 'haber destramado', 'destramando', 'habiendo destramado', 'destramado', 'ahechar', 'ahecho', 'ahechas', 'ahecha', 'ahechamos', 'ahechais', 'ahechan', 'he ahechado', 'has ahechado', 'ha ahechado', 'hemos ahechado', 'habeis ahechado', 'han ahechado', 'ahechaba', 'ahechabas', 'ahechaba', 'ahechabamos', 'ahechabais', 'ahechaban', 'habia ahechado', 'habias ahechado', 'habia ahechado', 'habiamos ahechado', 'habiais ahechado', 'habian ahechado', 'aheche', 'ahechaste', 'ahecho', 'ahechamos', 'ahechasteis', 'ahecharon', 'hube ahechado', 'hubiste ahechado', 'hubo ahechado', 'hubimos ahechado', 'hubisteis ahechado', 'hubieron ahechado', 'ahechare', 'ahecharas', 'ahechara', 'ahecharemos', 'ahechareis', 'ahecharan', 'habre ahechado', 'habras ahechado', 'habra ahechado', 'habremos ahechado', 'habreis ahechado', 'habran ahechado', 'ahecharia', 'ahecharias', 'ahecharia', 'ahechariamos', 'ahechariais', 'ahecharian', 'habria ahechado', 'habrias ahechado', 'habria ahechado', 'habriamos ahechado', 'habriais ahechado', 'habrian ahechado', 'aheche', 'aheches', 'aheche', 'ahechemos', 'ahecheis', 'ahechen', 'haya ahechado', 'hayas ahechado', 'haya ahechado', 'hayamos ahechado', 'hayais ahechado', 'hayan ahechado', 'ahechara', 'ahecharas', 'ahechara', 'ahecharamos', 'ahecharais', 'ahecharan', 'hubiera ahechado', 'hubieras ahechado', 'hubiera ahechado', 'hubieramos ahechado', 'hubierais ahechado', 'hubieran ahechado', 'ahechase', 'ahechases', 'ahechase', 'ahechasemos', 'ahechaseis', 'ahechasen', 'hubiese ahechado', 'hubieses ahechado', 'hubiese ahechado', 'hubiesemos ahechado', 'hubieseis ahechado', 'hubiesen ahechado', 'ahechare', 'ahechares', 'ahechare', 'ahecharemos', 'ahechareis', 'ahecharen', 'hubiere ahechado', 'hubieres ahechado', 'hubiere ahechado', 'hubieremos ahechado', 'hubiereis ahechado', 'hubieren ahechado', 'ahecha', 'aheche', 'ahechemos', 'ahechad', 'ahechen', 'aheches', 'aheche', 'ahechemos', 'ahecheis', 'ahechen', 'haber ahechado', 'ahechando', 'habiendo ahechado', 'ahechado', 'abacorar', 'abacoro', 'abacoras', 'abacora', 'abacoramos', 'abacorais', 'abacoran', 'he abacorado', 'has abacorado', 'ha abacorado', 'hemos abacorado', 'habeis abacorado', 'han abacorado', 'abacoraba', 'abacorabas', 'abacoraba', 'abacorabamos', 'abacorabais', 'abacoraban', 'habia abacorado', 'habias abacorado', 'habia abacorado', 'habiamos abacorado', 'habiais abacorado', 'habian abacorado', 'abacore', 'abacoraste', 'abacoro', 'abacoramos', 'abacorasteis', 'abacoraron', 'hube abacorado', 'hubiste abacorado', 'hubo abacorado', 'hubimos abacorado', 'hubisteis abacorado', 'hubieron abacorado', 'abacorare', 'abacoraras', 'abacorara', 'abacoraremos', 'abacorareis', 'abacoraran', 'habre abacorado', 'habras abacorado', 'habra abacorado', 'habremos abacorado', 'habreis abacorado', 'habran abacorado', 'abacoraria', 'abacorarias', 'abacoraria', 'abacorariamos', 'abacorariais', 'abacorarian', 'habria abacorado', 'habrias abacorado', 'habria abacorado', 'habriamos abacorado', 'habriais abacorado', 'habrian abacorado', 'abacore', 'abacores', 'abacore', 'abacoremos', 'abacoreis', 'abacoren', 'haya abacorado', 'hayas abacorado', 'haya abacorado', 'hayamos abacorado', 'hayais abacorado', 'hayan abacorado', 'abacorara', 'abacoraras', 'abacorara', 'abacoraramos', 'abacorarais', 'abacoraran', 'hubiera abacorado', 'hubieras abacorado', 'hubiera abacorado', 'hubieramos abacorado', 'hubierais abacorado', 'hubieran abacorado', 'abacorase', 'abacorases', 'abacorase', 'abacorasemos', 'abacoraseis', 'abacorasen', 'hubiese abacorado', 'hubieses abacorado', 'hubiese abacorado', 'hubiesemos abacorado', 'hubieseis abacorado', 'hubiesen abacorado', 'abacorare', 'abacorares', 'abacorare', 'abacoraremos', 'abacorareis', 'abacoraren', 'hubiere abacorado', 'hubieres abacorado', 'hubiere abacorado', 'hubieremos abacorado', 'hubiereis abacorado', 'hubieren abacorado', 'abacora', 'abacore', 'abacoremos', 'abacorad', 'abacoren', 'abacores', 'abacore', 'abacoremos', 'abacoreis', 'abacoren', 'haber abacorado', 'abacorando', 'habiendo abacorado', 'abacorado', 'especificar', 'especifico', 'especificas', 'especifica', 'especificamos', 'especificais', 'especifican', 'he especificado', 'has especificado', 'ha especificado', 'hemos especificado', 'habeis especificado', 'han especificado', 'especificaba', 'especificabas', 'especificaba', 'especificabamos', 'especificabais', 'especificaban', 'habia especificado', 'habias especificado', 'habia especificado', 'habiamos especificado', 'habiais especificado', 'habian especificado', 'especifique', 'especificaste', 'especifico', 'especificamos', 'especificasteis', 'especificaron', 'hube especificado', 'hubiste especificado', 'hubo especificado', 'hubimos especificado', 'hubisteis especificado', 'hubieron especificado', 'especificare', 'especificaras', 'especificara', 'especificaremos', 'especificareis', 'especificaran', 'habre especificado', 'habras especificado', 'habra especificado', 'habremos especificado', 'habreis especificado', 'habran especificado', 'especificaria', 'especificarias', 'especificaria', 'especificariamos', 'especificariais', 'especificarian', 'habria especificado', 'habrias especificado', 'habria especificado', 'habriamos especificado', 'habriais especificado', 'habrian especificado', 'especifique', 'especifiques', 'especifique', 'especifiquemos', 'especifiqueis', 'especifiquen', 'haya especificado', 'hayas especificado', 'haya especificado', 'hayamos especificado', 'hayais especificado', 'hayan especificado', 'especificara', 'especificaras', 'especificara', 'especificaramos', 'especificarais', 'especificaran', 'hubiera especificado', 'hubieras especificado', 'hubiera especificado', 'hubieramos especificado', 'hubierais especificado', 'hubieran especificado', 'especificase', 'especificases', 'especificase', 'especificasemos', 'especificaseis', 'especificasen', 'hubiese especificado', 'hubieses especificado', 'hubiese especificado', 'hubiesemos especificado', 'hubieseis especificado', 'hubiesen especificado', 'especificare', 'especificares', 'especificare', 'especificaremos', 'especificareis', 'especificaren', 'hubiere especificado', 'hubieres especificado', 'hubiere especificado', 'hubieremos especificado', 'hubiereis especificado', 'hubieren especificado', 'especifica', 'especifique', 'especifiquemos', 'especificad', 'especifiquen', 'especifiques', 'especifique', 'especifiquemos', 'especifiqueis', 'especifiquen', 'haber especificado', 'especificando', 'habiendo especificado', 'especificado', 'acosar', 'acoso', 'acosas', 'acosa', 'acosamos', 'acosais', 'acosan', 'he acosado', 'has acosado', 'ha acosado', 'hemos acosado', 'habeis acosado', 'han acosado', 'acosaba', 'acosabas', 'acosaba', 'acosabamos', 'acosabais', 'acosaban', 'habia acosado', 'habias acosado', 'habia acosado', 'habiamos acosado', 'habiais acosado', 'habian acosado', 'acose', 'acosaste', 'acoso', 'acosamos', 'acosasteis', 'acosaron', 'hube acosado', 'hubiste acosado', 'hubo acosado', 'hubimos acosado', 'hubisteis acosado', 'hubieron acosado', 'acosare', 'acosaras', 'acosara', 'acosaremos', 'acosareis', 'acosaran', 'habre acosado', 'habras acosado', 'habra acosado', 'habremos acosado', 'habreis acosado', 'habran acosado', 'acosaria', 'acosarias', 'acosaria', 'acosariamos', 'acosariais', 'acosarian', 'habria acosado', 'habrias acosado', 'habria acosado', 'habriamos acosado', 'habriais acosado', 'habrian acosado', 'acose', 'acoses', 'acose', 'acosemos', 'acoseis', 'acosen', 'haya acosado', 'hayas acosado', 'haya acosado', 'hayamos acosado', 'hayais acosado', 'hayan acosado', 'acosara', 'acosaras', 'acosara', 'acosaramos', 'acosarais', 'acosaran', 'hubiera acosado', 'hubieras acosado', 'hubiera acosado', 'hubieramos acosado', 'hubierais acosado', 'hubieran acosado', 'acosase', 'acosases', 'acosase', 'acosasemos', 'acosaseis', 'acosasen', 'hubiese acosado', 'hubieses acosado', 'hubiese acosado', 'hubiesemos acosado', 'hubieseis acosado', 'hubiesen acosado', 'acosare', 'acosares', 'acosare', 'acosaremos', 'acosareis', 'acosaren', 'hubiere acosado', 'hubieres acosado', 'hubiere acosado', 'hubieremos acosado', 'hubiereis acosado', 'hubieren acosado', 'acosa', 'acose', 'acosemos', 'acosad', 'acosen', 'acoses', 'acose', 'acosemos', 'acoseis', 'acosen', 'haber acosado', 'acosando', 'habiendo acosado', 'acosado', 'aplacer', 'aplazco', 'aplaces', 'aplace', 'aplacemos', 'aplaceis', 'aplacen', 'he aplacido', 'has aplacido', 'ha aplacido', 'hemos aplacido', 'habeis aplacido', 'han aplacido', 'aplacia', 'aplacias', 'aplacia', 'aplaciamos', 'aplaciais', 'aplacian', 'habia aplacido', 'habias aplacido', 'habia aplacido', 'habiamos aplacido', 'habiais aplacido', 'habian aplacido', 'aplaci', 'aplaciste', 'aplacio', 'aplacimos', 'aplacisteis', 'aplacieron', 'hube aplacido', 'hubiste aplacido', 'hubo aplacido', 'hubimos aplacido', 'hubisteis aplacido', 'hubieron aplacido', 'aplacere', 'aplaceras', 'aplacera', 'aplaceremos', 'aplacereis', 'aplaceran', 'habre aplacido', 'habras aplacido', 'habra aplacido', 'habremos aplacido', 'habreis aplacido', 'habran aplacido', 'aplaceria', 'aplacerias', 'aplaceria', 'aplaceriamos', 'aplaceriais', 'aplacerian', 'habria aplacido', 'habrias aplacido', 'habria aplacido', 'habriamos aplacido', 'habriais aplacido', 'habrian aplacido', 'aplazca', 'aplazcas', 'aplazca/egue/ega', 'aplazcamos', 'aplazcais', 'aplazcan', 'haya aplacido', 'hayas aplacido', 'haya aplacido', 'hayamos aplacido', 'hayais aplacido', 'hayan aplacido', 'aplaciera', 'aplacieras', 'aplaciera/uguiera', 'aplacieramos', 'aplacierais', 'aplacieran', 'hubiera aplacido', 'hubieras aplacido', 'hubiera aplacido', 'hubieramos aplacido', 'hubierais aplacido', 'hubieran aplacido', 'aplaciese', 'aplacieses', 'aplaciese/uguiese', 'aplaciesemos', 'aplacieseis', 'aplaciesen', 'hubiese aplacido', 'hubieses aplacido', 'hubiese aplacido', 'hubiesemos aplacido', 'hubieseis aplacido', 'hubiesen aplacido', 'aplaciere', 'aplacieres', 'aplaciere/uguiere', 'aplacieremos', 'aplaciereis', 'aplacieren', 'hubiere aplacido', 'hubieres aplacido', 'hubiere aplacido', 'hubieremos aplacido', 'hubiereis aplacido', 'hubieren aplacido', 'aplace', 'aplazca', 'aplazcamos', 'aplaced', 'aplazcan', 'aplazcas', 'aplazca', 'aplazcamos', 'aplazcais', 'aplazcan', 'haber aplacido', 'aplaciendo', 'habiendo aplacido', 'aplacido', 'jamerdar', 'jamierdo', 'jamierdas', 'jamierda', 'jamerdamos', 'jamerdais', 'jamierdan', 'he jamerdado', 'has jamerdado', 'ha jamerdado', 'hemos jamerdado', 'habeis jamerdado', 'han jamerdado', 'jamerdaba', 'jamerdabas', 'jamerdaba', 'jamerdabamos', 'jamerdabais', 'jamerdaban', 'habia jamerdado', 'habias jamerdado', 'habia jamerdado', 'habiamos jamerdado', 'habiais jamerdado', 'habian jamerdado', 'jamerde', 'jamerdaste', 'jamerdo', 'jamerdamos', 'jamerdasteis', 'jamerdaron', 'hube jamerdado', 'hubiste jamerdado', 'hubo jamerdado', 'hubimos jamerdado', 'hubisteis jamerdado', 'hubieron jamerdado', 'jamerdare', 'jamerdaras', 'jamerdara', 'jamerdaremos', 'jamerdareis', 'jamerdaran', 'habre jamerdado', 'habras jamerdado', 'habra jamerdado', 'habremos jamerdado', 'habreis jamerdado', 'habran jamerdado', 'jamerdaria', 'jamerdarias', 'jamerdaria', 'jamerdariamos', 'jamerdariais', 'jamerdarian', 'habria jamerdado', 'habrias jamerdado', 'habria jamerdado', 'habriamos jamerdado', 'habriais jamerdado', 'habrian jamerdado', 'jamierde', 'jamierdes', 'jamierde', 'jamerdemos', 'jamerdeis', 'jamierden', 'haya jamerdado', 'hayas jamerdado', 'haya jamerdado', 'hayamos jamerdado', 'hayais jamerdado', 'hayan jamerdado', 'jamerdara', 'jamerdaras', 'jamerdara', 'jamerdaramos', 'jamerdarais', 'jamerdaran', 'hubiera jamerdado', 'hubieras jamerdado', 'hubiera jamerdado', 'hubieramos jamerdado', 'hubierais jamerdado', 'hubieran jamerdado', 'jamerdase', 'jamerdases', 'jamerdase', 'jamerdasemos', 'jamerdaseis', 'jamerdasen', 'hubiese jamerdado', 'hubieses jamerdado', 'hubiese jamerdado', 'hubiesemos jamerdado', 'hubieseis jamerdado', 'hubiesen jamerdado', 'jamerdare', 'jamerdares', 'jamerdare', 'jamerdaremos', 'jamerdareis', 'jamerdaren', 'hubiere jamerdado', 'hubieres jamerdado', 'hubiere jamerdado', 'hubieremos jamerdado', 'hubiereis jamerdado', 'hubieren jamerdado', 'jamierda', 'jamierde', 'jamerdemos', 'jamerdad', 'jamierden', 'jamierdes', 'jamierde', 'jamerdemos', 'jamerdeis', 'jamierden', 'haber jamerdado', 'jamerdando', 'habiendo jamerdado', 'jamerdado', 'rubificar', 'rubifico', 'rubificas', 'rubifica', 'rubificamos', 'rubificais', 'rubifican', 'he rubificado', 'has rubificado', 'ha rubificado', 'hemos rubificado', 'habeis rubificado', 'han rubificado', 'rubificaba', 'rubificabas', 'rubificaba', 'rubificabamos', 'rubificabais', 'rubificaban', 'habia rubificado', 'habias rubificado', 'habia rubificado', 'habiamos rubificado', 'habiais rubificado', 'habian rubificado', 'rubifique', 'rubificaste', 'rubifico', 'rubificamos', 'rubificasteis', 'rubificaron', 'hube rubificado', 'hubiste rubificado', 'hubo rubificado', 'hubimos rubificado', 'hubisteis rubificado', 'hubieron rubificado', 'rubificare', 'rubificaras', 'rubificara', 'rubificaremos', 'rubificareis', 'rubificaran', 'habre rubificado', 'habras rubificado', 'habra rubificado', 'habremos rubificado', 'habreis rubificado', 'habran rubificado', 'rubificaria', 'rubificarias', 'rubificaria', 'rubificariamos', 'rubificariais', 'rubificarian', 'habria rubificado', 'habrias rubificado', 'habria rubificado', 'habriamos rubificado', 'habriais rubificado', 'habrian rubificado', 'rubifique', 'rubifiques', 'rubifique', 'rubifiquemos', 'rubifiqueis', 'rubifiquen', 'haya rubificado', 'hayas rubificado', 'haya rubificado', 'hayamos rubificado', 'hayais rubificado', 'hayan rubificado', 'rubificara', 'rubificaras', 'rubificara', 'rubificaramos', 'rubificarais', 'rubificaran', 'hubiera rubificado', 'hubieras rubificado', 'hubiera rubificado', 'hubieramos rubificado', 'hubierais rubificado', 'hubieran rubificado', 'rubificase', 'rubificases', 'rubificase', 'rubificasemos', 'rubificaseis', 'rubificasen', 'hubiese rubificado', 'hubieses rubificado', 'hubiese rubificado', 'hubiesemos rubificado', 'hubieseis rubificado', 'hubiesen rubificado', 'rubificare', 'rubificares', 'rubificare', 'rubificaremos', 'rubificareis', 'rubificaren', 'hubiere rubificado', 'hubieres rubificado', 'hubiere rubificado', 'hubieremos rubificado', 'hubiereis rubificado', 'hubieren rubificado', 'rubifica', 'rubifique', 'rubifiquemos', 'rubificad', 'rubifiquen', 'rubifiques', 'rubifique', 'rubifiquemos', 'rubifiqueis', 'rubifiquen', 'haber rubificado', 'rubificando', 'habiendo rubificado', 'rubificado', 'abalar', 'abalo', 'abalas', 'abala', 'abalamos', 'abalais', 'abalan', 'he abalado', 'has abalado', 'ha abalado', 'hemos abalado', 'habeis abalado', 'han abalado', 'abalaba', 'abalabas', 'abalaba', 'abalabamos', 'abalabais', 'abalaban', 'habia abalado', 'habias abalado', 'habia abalado', 'habiamos abalado', 'habiais abalado', 'habian abalado', 'abale', 'abalaste', 'abalo', 'abalamos', 'abalasteis', 'abalaron', 'hube abalado', 'hubiste abalado', 'hubo abalado', 'hubimos abalado', 'hubisteis abalado', 'hubieron abalado', 'abalare', 'abalaras', 'abalara', 'abalaremos', 'abalareis', 'abalaran', 'habre abalado', 'habras abalado', 'habra abalado', 'habremos abalado', 'habreis abalado', 'habran abalado', 'abalaria', 'abalarias', 'abalaria', 'abalariamos', 'abalariais', 'abalarian', 'habria abalado', 'habrias abalado', 'habria abalado', 'habriamos abalado', 'habriais abalado', 'habrian abalado', 'abale', 'abales', 'abale', 'abalemos', 'abaleis', 'abalen', 'haya abalado', 'hayas abalado', 'haya abalado', 'hayamos abalado', 'hayais abalado', 'hayan abalado', 'abalara', 'abalaras', 'abalara', 'abalaramos', 'abalarais', 'abalaran', 'hubiera abalado', 'hubieras abalado', 'hubiera abalado', 'hubieramos abalado', 'hubierais abalado', 'hubieran abalado', 'abalase', 'abalases', 'abalase', 'abalasemos', 'abalaseis', 'abalasen', 'hubiese abalado', 'hubieses abalado', 'hubiese abalado', 'hubiesemos abalado', 'hubieseis abalado', 'hubiesen abalado', 'abalare', 'abalares', 'abalare', 'abalaremos', 'abalareis', 'abalaren', 'hubiere abalado', 'hubieres abalado', 'hubiere abalado', 'hubieremos abalado', 'hubiereis abalado', 'hubieren abalado', 'abala', 'abale', 'abalemos', 'abalad', 'abalen', 'abales', 'abale', 'abalemos', 'abaleis', 'abalen', 'haber abalado', 'abalando', 'habiendo abalado', 'abalado', 'deslizar', 'deslizo', 'deslizas', 'desliza', 'deslizamos', 'deslizais', 'deslizan', 'he deslizado', 'has deslizado', 'ha deslizado', 'hemos deslizado', 'habeis deslizado', 'han deslizado', 'deslizaba', 'deslizabas', 'deslizaba', 'deslizabamos', 'deslizabais', 'deslizaban', 'habia deslizado', 'habias deslizado', 'habia deslizado', 'habiamos deslizado', 'habiais deslizado', 'habian deslizado', 'deslice', 'deslizaste', 'deslizo', 'deslizamos', 'deslizasteis', 'deslizaron', 'hube deslizado', 'hubiste deslizado', 'hubo deslizado', 'hubimos deslizado', 'hubisteis deslizado', 'hubieron deslizado', 'deslizare', 'deslizaras', 'deslizara', 'deslizaremos', 'deslizareis', 'deslizaran', 'habre deslizado', 'habras deslizado', 'habra deslizado', 'habremos deslizado', 'habreis deslizado', 'habran deslizado', 'deslizaria', 'deslizarias', 'deslizaria', 'deslizariamos', 'deslizariais', 'deslizarian', 'habria deslizado', 'habrias deslizado', 'habria deslizado', 'habriamos deslizado', 'habriais deslizado', 'habrian deslizado', 'deslice', 'deslices', 'deslice', 'deslicemos', 'desliceis', 'deslicen', 'haya deslizado', 'hayas deslizado', 'haya deslizado', 'hayamos deslizado', 'hayais deslizado', 'hayan deslizado', 'deslizara', 'deslizaras', 'deslizara', 'deslizaramos', 'deslizarais', 'deslizaran', 'hubiera deslizado', 'hubieras deslizado', 'hubiera deslizado', 'hubieramos deslizado', 'hubierais deslizado', 'hubieran deslizado', 'deslizase', 'deslizases', 'deslizase', 'deslizasemos', 'deslizaseis', 'deslizasen', 'hubiese deslizado', 'hubieses deslizado', 'hubiese deslizado', 'hubiesemos deslizado', 'hubieseis deslizado', 'hubiesen deslizado', 'deslizare', 'deslizares', 'deslizare', 'deslizaremos', 'deslizareis', 'deslizaren', 'hubiere deslizado', 'hubieres deslizado', 'hubiere deslizado', 'hubieremos deslizado', 'hubiereis deslizado', 'hubieren deslizado', 'desliza', 'deslice', 'deslicemos', 'deslizad', 'deslicen', 'deslices', 'deslice', 'deslicemos', 'desliceis', 'deslicen', 'haber deslizado', 'deslizando', 'habiendo deslizado', 'deslizado', 'deshabituar', 'deshabio', 'deshabias', 'deshabia', 'deshabituamos', 'deshabituais', 'deshabian', 'he deshabituado', 'has deshabituado', 'ha deshabituado', 'hemos deshabituado', 'habeis deshabituado', 'han deshabituado', 'deshabituaba', 'deshabituabas', 'deshabituaba', 'deshabituabamos', 'deshabituabais', 'deshabituaban', 'habia deshabituado', 'habias deshabituado', 'habia deshabituado', 'habiamos deshabituado', 'habiais deshabituado', 'habian deshabituado', 'deshabitue', 'deshabituaste', 'deshabituo', 'deshabituamos', 'deshabituasteis', 'deshabituaron', 'hube deshabituado', 'hubiste deshabituado', 'hubo deshabituado', 'hubimos deshabituado', 'hubisteis deshabituado', 'hubieron deshabituado', 'deshabituare', 'deshabituaras', 'deshabituara', 'deshabituaremos', 'deshabituareis', 'deshabituaran', 'habre deshabituado', 'habras deshabituado', 'habra deshabituado', 'habremos deshabituado', 'habreis deshabituado', 'habran deshabituado', 'deshabituaria', 'deshabituarias', 'deshabituaria', 'deshabituariamos', 'deshabituariais', 'deshabituarian', 'habria deshabituado', 'habrias deshabituado', 'habria deshabituado', 'habriamos deshabituado', 'habriais deshabituado', 'habrian deshabituado', 'deshabie', 'deshabies', 'deshabie', 'deshabituemos', 'deshabitueis', 'deshabien', 'haya deshabituado', 'hayas deshabituado', 'haya deshabituado', 'hayamos deshabituado', 'hayais deshabituado', 'hayan deshabituado', 'deshabituara', 'deshabituaras', 'deshabituara', 'deshabituaramos', 'deshabituarais', 'deshabituaran', 'hubiera deshabituado', 'hubieras deshabituado', 'hubiera deshabituado', 'hubieramos deshabituado', 'hubierais deshabituado', 'hubieran deshabituado', 'deshabituase', 'deshabituases', 'deshabituase', 'deshabituasemos', 'deshabituaseis', 'deshabituasen', 'hubiese deshabituado', 'hubieses deshabituado', 'hubiese deshabituado', 'hubiesemos deshabituado', 'hubieseis deshabituado', 'hubiesen deshabituado', 'deshabituare', 'deshabituares', 'deshabituare', 'deshabituaremos', 'deshabituareis', 'deshabituaren', 'hubiere deshabituado', 'hubieres deshabituado', 'hubiere deshabituado', 'hubieremos deshabituado', 'hubiereis deshabituado', 'hubieren deshabituado', 'deshabia', 'deshabie', 'deshabituemos', 'deshabituad', 'deshabien', 'deshabies', 'deshabie', 'deshabituemos', 'deshabitueis', 'deshabien', 'haber deshabituado', 'deshabituando', 'habiendo deshabituado', 'deshabituado', 'verberar', 'verbero', 'verberas', 'verbera', 'verberamos', 'verberais', 'verberan', 'he verberado', 'has verberado', 'ha verberado', 'hemos verberado', 'habeis verberado', 'han verberado', 'verberaba', 'verberabas', 'verberaba', 'verberabamos', 'verberabais', 'verberaban', 'habia verberado', 'habias verberado', 'habia verberado', 'habiamos verberado', 'habiais verberado', 'habian verberado', 'verbere', 'verberaste', 'verbero', 'verberamos', 'verberasteis', 'verberaron', 'hube verberado', 'hubiste verberado', 'hubo verberado', 'hubimos verberado', 'hubisteis verberado', 'hubieron verberado', 'verberare', 'verberaras', 'verberara', 'verberaremos', 'verberareis', 'verberaran', 'habre verberado', 'habras verberado', 'habra verberado', 'habremos verberado', 'habreis verberado', 'habran verberado', 'verberaria', 'verberarias', 'verberaria', 'verberariamos', 'verberariais', 'verberarian', 'habria verberado', 'habrias verberado', 'habria verberado', 'habriamos verberado', 'habriais verberado', 'habrian verberado', 'verbere', 'verberes', 'verbere', 'verberemos', 'verbereis', 'verberen', 'haya verberado', 'hayas verberado', 'haya verberado', 'hayamos verberado', 'hayais verberado', 'hayan verberado', 'verberara', 'verberaras', 'verberara', 'verberaramos', 'verberarais', 'verberaran', 'hubiera verberado', 'hubieras verberado', 'hubiera verberado', 'hubieramos verberado', 'hubierais verberado', 'hubieran verberado', 'verberase', 'verberases', 'verberase', 'verberasemos', 'verberaseis', 'verberasen', 'hubiese verberado', 'hubieses verberado', 'hubiese verberado', 'hubiesemos verberado', 'hubieseis verberado', 'hubiesen verberado', 'verberare', 'verberares', 'verberare', 'verberaremos', 'verberareis', 'verberaren', 'hubiere verberado', 'hubieres verberado', 'hubiere verberado', 'hubieremos verberado', 'hubiereis verberado', 'hubieren verberado', 'verbera', 'verbere', 'verberemos', 'verberad', 'verberen', 'verberes', 'verbere', 'verberemos', 'verbereis', 'verberen', 'haber verberado', 'verberando', 'habiendo verberado', 'verberado', 'caminar', 'camino', 'caminas', 'camina', 'caminamos', 'caminais', 'caminan', 'he caminado', 'has caminado', 'ha caminado', 'hemos caminado', 'habeis caminado', 'han caminado', 'caminaba', 'caminabas', 'caminaba', 'caminabamos', 'caminabais', 'caminaban', 'habia caminado', 'habias caminado', 'habia caminado', 'habiamos caminado', 'habiais caminado', 'habian caminado', 'camine', 'caminaste', 'camino', 'caminamos', 'caminasteis', 'caminaron', 'hube caminado', 'hubiste caminado', 'hubo caminado', 'hubimos caminado', 'hubisteis caminado', 'hubieron caminado', 'caminare', 'caminaras', 'caminara', 'caminaremos', 'caminareis', 'caminaran', 'habre caminado', 'habras caminado', 'habra caminado', 'habremos caminado', 'habreis caminado', 'habran caminado', 'caminaria', 'caminarias', 'caminaria', 'caminariamos', 'caminariais', 'caminarian', 'habria caminado', 'habrias caminado', 'habria caminado', 'habriamos caminado', 'habriais caminado', 'habrian caminado', 'camine', 'camines', 'camine', 'caminemos', 'camineis', 'caminen', 'haya caminado', 'hayas caminado', 'haya caminado', 'hayamos caminado', 'hayais caminado', 'hayan caminado', 'caminara', 'caminaras', 'caminara', 'caminaramos', 'caminarais', 'caminaran', 'hubiera caminado', 'hubieras caminado', 'hubiera caminado', 'hubieramos caminado', 'hubierais caminado', 'hubieran caminado', 'caminase', 'caminases', 'caminase', 'caminasemos', 'caminaseis', 'caminasen', 'hubiese caminado', 'hubieses caminado', 'hubiese caminado', 'hubiesemos caminado', 'hubieseis caminado', 'hubiesen caminado', 'caminare', 'caminares', 'caminare', 'caminaremos', 'caminareis', 'caminaren', 'hubiere caminado', 'hubieres caminado', 'hubiere caminado', 'hubieremos caminado', 'hubiereis caminado', 'hubieren caminado', 'camina', 'camine', 'caminemos', 'caminad', 'caminen', 'camines', 'camine', 'caminemos', 'camineis', 'caminen', 'haber caminado', 'caminando', 'habiendo caminado', 'caminado', 'desbaratar', 'desbarato', 'desbaratas', 'desbarata', 'desbaratamos', 'desbaratais', 'desbaratan', 'he desbaratado', 'has desbaratado', 'ha desbaratado', 'hemos desbaratado', 'habeis desbaratado', 'han desbaratado', 'desbarataba', 'desbaratabas', 'desbarataba', 'desbaratabamos', 'desbaratabais', 'desbarataban', 'habia desbaratado', 'habias desbaratado', 'habia desbaratado', 'habiamos desbaratado', 'habiais desbaratado', 'habian desbaratado', 'desbarate', 'desbarataste', 'desbarato', 'desbaratamos', 'desbaratasteis', 'desbarataron', 'hube desbaratado', 'hubiste desbaratado', 'hubo desbaratado', 'hubimos desbaratado', 'hubisteis desbaratado', 'hubieron desbaratado', 'desbaratare', 'desbarataras', 'desbaratara', 'desbarataremos', 'desbaratareis', 'desbarataran', 'habre desbaratado', 'habras desbaratado', 'habra desbaratado', 'habremos desbaratado', 'habreis desbaratado', 'habran desbaratado', 'desbarataria', 'desbaratarias', 'desbarataria', 'desbaratariamos', 'desbaratariais', 'desbaratarian', 'habria desbaratado', 'habrias desbaratado', 'habria desbaratado', 'habriamos desbaratado', 'habriais desbaratado', 'habrian desbaratado', 'desbarate', 'desbarates', 'desbarate', 'desbaratemos', 'desbarateis', 'desbaraten', 'haya desbaratado', 'hayas desbaratado', 'haya desbaratado', 'hayamos desbaratado', 'hayais desbaratado', 'hayan desbaratado', 'desbaratara', 'desbarataras', 'desbaratara', 'desbarataramos', 'desbaratarais', 'desbarataran', 'hubiera desbaratado', 'hubieras desbaratado', 'hubiera desbaratado', 'hubieramos desbaratado', 'hubierais desbaratado', 'hubieran desbaratado', 'desbaratase', 'desbaratases', 'desbaratase', 'desbaratasemos', 'desbarataseis', 'desbaratasen', 'hubiese desbaratado', 'hubieses desbaratado', 'hubiese desbaratado', 'hubiesemos desbaratado', 'hubieseis desbaratado', 'hubiesen desbaratado', 'desbaratare', 'desbaratares', 'desbaratare', 'desbarataremos', 'desbaratareis', 'desbarataren', 'hubiere desbaratado', 'hubieres desbaratado', 'hubiere desbaratado', 'hubieremos desbaratado', 'hubiereis desbaratado', 'hubieren desbaratado', 'desbarata', 'desbarate', 'desbaratemos', 'desbaratad', 'desbaraten', 'desbarates', 'desbarate', 'desbaratemos', 'desbarateis', 'desbaraten', 'haber desbaratado', 'desbaratando', 'habiendo desbaratado', 'desbaratado']\n"
     ]
    }
   ],
   "source": [
    "print(all_conjugations)"
   ]
  },
  {
   "cell_type": "markdown",
   "metadata": {},
   "source": [
    "# Time test"
   ]
  },
  {
   "cell_type": "code",
   "execution_count": 5,
   "metadata": {},
   "outputs": [],
   "source": [
    "# # Verify \"abacore\" is a verb\n",
    "# verb = \"aullando\"\n",
    "# # Temporalize the process\n",
    "# start_time = time.time()\n",
    "# # print(verify_is_verb(verb, all_conjugations, diccionario))\n",
    "# # print(\"--- %s seconds ---\" % (time.time() - start_time))\n",
    "\n",
    "# # Create a job offer text\n",
    "# text = \"si te critico es porque estas hurtando y criticando a los demás\"\n",
    "# verbos = []\n",
    "# start_time = time.time()\n",
    "# for word in text.split(\" \"):\n",
    "#     verbo = verify_is_verb(word, all_conjugations, dict_verbs)\n",
    "#     if verbo != \"\":\n",
    "#         verbos.append(verbo)\n",
    "# print(verbos)\n",
    "# print(\"--- %s seconds ---\" % (time.time() - start_time))"
   ]
  }
 ],
 "metadata": {
  "kernelspec": {
   "display_name": ".venv",
   "language": "python",
   "name": "python3"
  },
  "language_info": {
   "codemirror_mode": {
    "name": "ipython",
    "version": 3
   },
   "file_extension": ".py",
   "mimetype": "text/x-python",
   "name": "python",
   "nbconvert_exporter": "python",
   "pygments_lexer": "ipython3",
   "version": "3.9.16"
  },
  "orig_nbformat": 4
 },
 "nbformat": 4,
 "nbformat_minor": 2
}
